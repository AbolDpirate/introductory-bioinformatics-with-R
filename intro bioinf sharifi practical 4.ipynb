{
 "cells": [
  {
   "cell_type": "markdown",
   "id": "ca8572b7-7301-48b9-b0d5-f1ffbdd740c9",
   "metadata": {},
   "source": [
    "R Basics\n",
    "-\n",
    "Introductory Bioinformatics Sharifi Zarchi The practical sessions part 4\n",
    "-\n",
    "\n",
    "**introducing with ggplot2**"
   ]
  },
  {
   "cell_type": "markdown",
   "id": "394f3ee9-2940-4b6c-9056-6a25abcd329f",
   "metadata": {},
   "source": [
    "1. Calling the file and its initial review"
   ]
  },
  {
   "cell_type": "code",
   "execution_count": 1,
   "id": "1cbf3f54-618c-463d-9deb-3e713eb43357",
   "metadata": {},
   "outputs": [
    {
     "data": {
      "text/html": [
       "<style>\n",
       ".list-inline {list-style: none; margin:0; padding: 0}\n",
       ".list-inline>li {display: inline-block}\n",
       ".list-inline>li:not(:last-child)::after {content: \"\\00b7\"; padding: 0 .5ex}\n",
       "</style>\n",
       "<ol class=list-inline><li>52</li><li>10</li></ol>\n"
      ],
      "text/latex": [
       "\\begin{enumerate*}\n",
       "\\item 52\n",
       "\\item 10\n",
       "\\end{enumerate*}\n"
      ],
      "text/markdown": [
       "1. 52\n",
       "2. 10\n",
       "\n",
       "\n"
      ],
      "text/plain": [
       "[1] 52 10"
      ]
     },
     "metadata": {},
     "output_type": "display_data"
    },
    {
     "data": {
      "text/html": [
       "<table class=\"dataframe\">\n",
       "<caption>A data.frame: 6 × 10</caption>\n",
       "<thead>\n",
       "\t<tr><th></th><th scope=col>Type</th><th scope=col>HLXb9</th><th scope=col>HHEX</th><th scope=col>HNF4a</th><th scope=col>ISL1</th><th scope=col>NEUROD1</th><th scope=col>NKX6.1</th><th scope=col>PAX4</th><th scope=col>PTF1a</th><th scope=col>PDX1</th></tr>\n",
       "\t<tr><th></th><th scope=col>&lt;chr&gt;</th><th scope=col>&lt;dbl&gt;</th><th scope=col>&lt;dbl&gt;</th><th scope=col>&lt;dbl&gt;</th><th scope=col>&lt;dbl&gt;</th><th scope=col>&lt;dbl&gt;</th><th scope=col>&lt;dbl&gt;</th><th scope=col>&lt;dbl&gt;</th><th scope=col>&lt;dbl&gt;</th><th scope=col>&lt;dbl&gt;</th></tr>\n",
       "</thead>\n",
       "<tbody>\n",
       "\t<tr><th scope=row>1</th><td>SC.1</td><td>  2.27</td><td> 1.87</td><td> 2.880</td><td> 1.69</td><td> 3.60</td><td>1.09</td><td>1.29</td><td>1.40</td><td> 1.00</td></tr>\n",
       "\t<tr><th scope=row>2</th><td>SC.2</td><td>  1.00</td><td> 1.00</td><td> 1.000</td><td> 1.00</td><td> 1.00</td><td>1.00</td><td>1.00</td><td>1.00</td><td> 1.00</td></tr>\n",
       "\t<tr><th scope=row>3</th><td>SC.3</td><td>  1.00</td><td> 1.00</td><td> 1.000</td><td> 1.00</td><td> 1.00</td><td>1.00</td><td>1.00</td><td>1.00</td><td> 1.00</td></tr>\n",
       "\t<tr><th scope=row>4</th><td>DE-1</td><td>133.70</td><td>10.93</td><td>82.380</td><td>26.94</td><td> 4.88</td><td>3.46</td><td>2.18</td><td>3.24</td><td>21.48</td></tr>\n",
       "\t<tr><th scope=row>5</th><td>DE-2</td><td> 46.17</td><td>36.82</td><td>34.466</td><td>10.92</td><td> 6.13</td><td>4.42</td><td>3.44</td><td>3.70</td><td>11.62</td></tr>\n",
       "\t<tr><th scope=row>6</th><td>DE-3</td><td> 51.91</td><td>10.93</td><td>29.530</td><td>26.94</td><td>15.85</td><td>3.46</td><td>2.18</td><td>3.17</td><td>25.70</td></tr>\n",
       "</tbody>\n",
       "</table>\n"
      ],
      "text/latex": [
       "A data.frame: 6 × 10\n",
       "\\begin{tabular}{r|llllllllll}\n",
       "  & Type & HLXb9 & HHEX & HNF4a & ISL1 & NEUROD1 & NKX6.1 & PAX4 & PTF1a & PDX1\\\\\n",
       "  & <chr> & <dbl> & <dbl> & <dbl> & <dbl> & <dbl> & <dbl> & <dbl> & <dbl> & <dbl>\\\\\n",
       "\\hline\n",
       "\t1 & SC.1 &   2.27 &  1.87 &  2.880 &  1.69 &  3.60 & 1.09 & 1.29 & 1.40 &  1.00\\\\\n",
       "\t2 & SC.2 &   1.00 &  1.00 &  1.000 &  1.00 &  1.00 & 1.00 & 1.00 & 1.00 &  1.00\\\\\n",
       "\t3 & SC.3 &   1.00 &  1.00 &  1.000 &  1.00 &  1.00 & 1.00 & 1.00 & 1.00 &  1.00\\\\\n",
       "\t4 & DE-1 & 133.70 & 10.93 & 82.380 & 26.94 &  4.88 & 3.46 & 2.18 & 3.24 & 21.48\\\\\n",
       "\t5 & DE-2 &  46.17 & 36.82 & 34.466 & 10.92 &  6.13 & 4.42 & 3.44 & 3.70 & 11.62\\\\\n",
       "\t6 & DE-3 &  51.91 & 10.93 & 29.530 & 26.94 & 15.85 & 3.46 & 2.18 & 3.17 & 25.70\\\\\n",
       "\\end{tabular}\n"
      ],
      "text/markdown": [
       "\n",
       "A data.frame: 6 × 10\n",
       "\n",
       "| <!--/--> | Type &lt;chr&gt; | HLXb9 &lt;dbl&gt; | HHEX &lt;dbl&gt; | HNF4a &lt;dbl&gt; | ISL1 &lt;dbl&gt; | NEUROD1 &lt;dbl&gt; | NKX6.1 &lt;dbl&gt; | PAX4 &lt;dbl&gt; | PTF1a &lt;dbl&gt; | PDX1 &lt;dbl&gt; |\n",
       "|---|---|---|---|---|---|---|---|---|---|---|\n",
       "| 1 | SC.1 |   2.27 |  1.87 |  2.880 |  1.69 |  3.60 | 1.09 | 1.29 | 1.40 |  1.00 |\n",
       "| 2 | SC.2 |   1.00 |  1.00 |  1.000 |  1.00 |  1.00 | 1.00 | 1.00 | 1.00 |  1.00 |\n",
       "| 3 | SC.3 |   1.00 |  1.00 |  1.000 |  1.00 |  1.00 | 1.00 | 1.00 | 1.00 |  1.00 |\n",
       "| 4 | DE-1 | 133.70 | 10.93 | 82.380 | 26.94 |  4.88 | 3.46 | 2.18 | 3.24 | 21.48 |\n",
       "| 5 | DE-2 |  46.17 | 36.82 | 34.466 | 10.92 |  6.13 | 4.42 | 3.44 | 3.70 | 11.62 |\n",
       "| 6 | DE-3 |  51.91 | 10.93 | 29.530 | 26.94 | 15.85 | 3.46 | 2.18 | 3.17 | 25.70 |\n",
       "\n"
      ],
      "text/plain": [
       "  Type HLXb9  HHEX  HNF4a  ISL1  NEUROD1 NKX6.1 PAX4 PTF1a PDX1 \n",
       "1 SC.1   2.27  1.87  2.880  1.69  3.60   1.09   1.29 1.40   1.00\n",
       "2 SC.2   1.00  1.00  1.000  1.00  1.00   1.00   1.00 1.00   1.00\n",
       "3 SC.3   1.00  1.00  1.000  1.00  1.00   1.00   1.00 1.00   1.00\n",
       "4 DE-1 133.70 10.93 82.380 26.94  4.88   3.46   2.18 3.24  21.48\n",
       "5 DE-2  46.17 36.82 34.466 10.92  6.13   4.42   3.44 3.70  11.62\n",
       "6 DE-3  51.91 10.93 29.530 26.94 15.85   3.46   2.18 3.17  25.70"
      ]
     },
     "metadata": {},
     "output_type": "display_data"
    }
   ],
   "source": [
    "x = read.delim(\"C:/Users/abolf/Desktop/jupyter train/intro bioinf sharifi practical/SharifiZarchi-bio/Data/Endoderm.txt\")\n",
    "dim(x)\n",
    "head(x)\n"
   ]
  },
  {
   "cell_type": "markdown",
   "id": "8d77e82a-22ab-4231-968a-16fbfdd255f6",
   "metadata": {},
   "source": [
    "2. Converting the first column as row names and removing it from the columns section"
   ]
  },
  {
   "cell_type": "code",
   "execution_count": 2,
   "id": "3500538b-9296-45f9-a759-ac717dba4273",
   "metadata": {},
   "outputs": [
    {
     "data": {
      "text/html": [
       "<table class=\"dataframe\">\n",
       "<caption>A data.frame: 6 × 10</caption>\n",
       "<thead>\n",
       "\t<tr><th></th><th scope=col>Type</th><th scope=col>HLXb9</th><th scope=col>HHEX</th><th scope=col>HNF4a</th><th scope=col>ISL1</th><th scope=col>NEUROD1</th><th scope=col>NKX6.1</th><th scope=col>PAX4</th><th scope=col>PTF1a</th><th scope=col>PDX1</th></tr>\n",
       "\t<tr><th></th><th scope=col>&lt;chr&gt;</th><th scope=col>&lt;dbl&gt;</th><th scope=col>&lt;dbl&gt;</th><th scope=col>&lt;dbl&gt;</th><th scope=col>&lt;dbl&gt;</th><th scope=col>&lt;dbl&gt;</th><th scope=col>&lt;dbl&gt;</th><th scope=col>&lt;dbl&gt;</th><th scope=col>&lt;dbl&gt;</th><th scope=col>&lt;dbl&gt;</th></tr>\n",
       "</thead>\n",
       "<tbody>\n",
       "\t<tr><th scope=row>SC.1</th><td>SC.1</td><td>  2.27</td><td> 1.87</td><td> 2.880</td><td> 1.69</td><td> 3.60</td><td>1.09</td><td>1.29</td><td>1.40</td><td> 1.00</td></tr>\n",
       "\t<tr><th scope=row>SC.2</th><td>SC.2</td><td>  1.00</td><td> 1.00</td><td> 1.000</td><td> 1.00</td><td> 1.00</td><td>1.00</td><td>1.00</td><td>1.00</td><td> 1.00</td></tr>\n",
       "\t<tr><th scope=row>SC.3</th><td>SC.3</td><td>  1.00</td><td> 1.00</td><td> 1.000</td><td> 1.00</td><td> 1.00</td><td>1.00</td><td>1.00</td><td>1.00</td><td> 1.00</td></tr>\n",
       "\t<tr><th scope=row>DE-1</th><td>DE-1</td><td>133.70</td><td>10.93</td><td>82.380</td><td>26.94</td><td> 4.88</td><td>3.46</td><td>2.18</td><td>3.24</td><td>21.48</td></tr>\n",
       "\t<tr><th scope=row>DE-2</th><td>DE-2</td><td> 46.17</td><td>36.82</td><td>34.466</td><td>10.92</td><td> 6.13</td><td>4.42</td><td>3.44</td><td>3.70</td><td>11.62</td></tr>\n",
       "\t<tr><th scope=row>DE-3</th><td>DE-3</td><td> 51.91</td><td>10.93</td><td>29.530</td><td>26.94</td><td>15.85</td><td>3.46</td><td>2.18</td><td>3.17</td><td>25.70</td></tr>\n",
       "</tbody>\n",
       "</table>\n"
      ],
      "text/latex": [
       "A data.frame: 6 × 10\n",
       "\\begin{tabular}{r|llllllllll}\n",
       "  & Type & HLXb9 & HHEX & HNF4a & ISL1 & NEUROD1 & NKX6.1 & PAX4 & PTF1a & PDX1\\\\\n",
       "  & <chr> & <dbl> & <dbl> & <dbl> & <dbl> & <dbl> & <dbl> & <dbl> & <dbl> & <dbl>\\\\\n",
       "\\hline\n",
       "\tSC.1 & SC.1 &   2.27 &  1.87 &  2.880 &  1.69 &  3.60 & 1.09 & 1.29 & 1.40 &  1.00\\\\\n",
       "\tSC.2 & SC.2 &   1.00 &  1.00 &  1.000 &  1.00 &  1.00 & 1.00 & 1.00 & 1.00 &  1.00\\\\\n",
       "\tSC.3 & SC.3 &   1.00 &  1.00 &  1.000 &  1.00 &  1.00 & 1.00 & 1.00 & 1.00 &  1.00\\\\\n",
       "\tDE-1 & DE-1 & 133.70 & 10.93 & 82.380 & 26.94 &  4.88 & 3.46 & 2.18 & 3.24 & 21.48\\\\\n",
       "\tDE-2 & DE-2 &  46.17 & 36.82 & 34.466 & 10.92 &  6.13 & 4.42 & 3.44 & 3.70 & 11.62\\\\\n",
       "\tDE-3 & DE-3 &  51.91 & 10.93 & 29.530 & 26.94 & 15.85 & 3.46 & 2.18 & 3.17 & 25.70\\\\\n",
       "\\end{tabular}\n"
      ],
      "text/markdown": [
       "\n",
       "A data.frame: 6 × 10\n",
       "\n",
       "| <!--/--> | Type &lt;chr&gt; | HLXb9 &lt;dbl&gt; | HHEX &lt;dbl&gt; | HNF4a &lt;dbl&gt; | ISL1 &lt;dbl&gt; | NEUROD1 &lt;dbl&gt; | NKX6.1 &lt;dbl&gt; | PAX4 &lt;dbl&gt; | PTF1a &lt;dbl&gt; | PDX1 &lt;dbl&gt; |\n",
       "|---|---|---|---|---|---|---|---|---|---|---|\n",
       "| SC.1 | SC.1 |   2.27 |  1.87 |  2.880 |  1.69 |  3.60 | 1.09 | 1.29 | 1.40 |  1.00 |\n",
       "| SC.2 | SC.2 |   1.00 |  1.00 |  1.000 |  1.00 |  1.00 | 1.00 | 1.00 | 1.00 |  1.00 |\n",
       "| SC.3 | SC.3 |   1.00 |  1.00 |  1.000 |  1.00 |  1.00 | 1.00 | 1.00 | 1.00 |  1.00 |\n",
       "| DE-1 | DE-1 | 133.70 | 10.93 | 82.380 | 26.94 |  4.88 | 3.46 | 2.18 | 3.24 | 21.48 |\n",
       "| DE-2 | DE-2 |  46.17 | 36.82 | 34.466 | 10.92 |  6.13 | 4.42 | 3.44 | 3.70 | 11.62 |\n",
       "| DE-3 | DE-3 |  51.91 | 10.93 | 29.530 | 26.94 | 15.85 | 3.46 | 2.18 | 3.17 | 25.70 |\n",
       "\n"
      ],
      "text/plain": [
       "     Type HLXb9  HHEX  HNF4a  ISL1  NEUROD1 NKX6.1 PAX4 PTF1a PDX1 \n",
       "SC.1 SC.1   2.27  1.87  2.880  1.69  3.60   1.09   1.29 1.40   1.00\n",
       "SC.2 SC.2   1.00  1.00  1.000  1.00  1.00   1.00   1.00 1.00   1.00\n",
       "SC.3 SC.3   1.00  1.00  1.000  1.00  1.00   1.00   1.00 1.00   1.00\n",
       "DE-1 DE-1 133.70 10.93 82.380 26.94  4.88   3.46   2.18 3.24  21.48\n",
       "DE-2 DE-2  46.17 36.82 34.466 10.92  6.13   4.42   3.44 3.70  11.62\n",
       "DE-3 DE-3  51.91 10.93 29.530 26.94 15.85   3.46   2.18 3.17  25.70"
      ]
     },
     "metadata": {},
     "output_type": "display_data"
    },
    {
     "data": {
      "text/html": [
       "<table class=\"dataframe\">\n",
       "<caption>A data.frame: 6 × 9</caption>\n",
       "<thead>\n",
       "\t<tr><th></th><th scope=col>HLXb9</th><th scope=col>HHEX</th><th scope=col>HNF4a</th><th scope=col>ISL1</th><th scope=col>NEUROD1</th><th scope=col>NKX6.1</th><th scope=col>PAX4</th><th scope=col>PTF1a</th><th scope=col>PDX1</th></tr>\n",
       "\t<tr><th></th><th scope=col>&lt;dbl&gt;</th><th scope=col>&lt;dbl&gt;</th><th scope=col>&lt;dbl&gt;</th><th scope=col>&lt;dbl&gt;</th><th scope=col>&lt;dbl&gt;</th><th scope=col>&lt;dbl&gt;</th><th scope=col>&lt;dbl&gt;</th><th scope=col>&lt;dbl&gt;</th><th scope=col>&lt;dbl&gt;</th></tr>\n",
       "</thead>\n",
       "<tbody>\n",
       "\t<tr><th scope=row>SC.1</th><td>  2.27</td><td> 1.87</td><td> 2.880</td><td> 1.69</td><td> 3.60</td><td>1.09</td><td>1.29</td><td>1.40</td><td> 1.00</td></tr>\n",
       "\t<tr><th scope=row>SC.2</th><td>  1.00</td><td> 1.00</td><td> 1.000</td><td> 1.00</td><td> 1.00</td><td>1.00</td><td>1.00</td><td>1.00</td><td> 1.00</td></tr>\n",
       "\t<tr><th scope=row>SC.3</th><td>  1.00</td><td> 1.00</td><td> 1.000</td><td> 1.00</td><td> 1.00</td><td>1.00</td><td>1.00</td><td>1.00</td><td> 1.00</td></tr>\n",
       "\t<tr><th scope=row>DE-1</th><td>133.70</td><td>10.93</td><td>82.380</td><td>26.94</td><td> 4.88</td><td>3.46</td><td>2.18</td><td>3.24</td><td>21.48</td></tr>\n",
       "\t<tr><th scope=row>DE-2</th><td> 46.17</td><td>36.82</td><td>34.466</td><td>10.92</td><td> 6.13</td><td>4.42</td><td>3.44</td><td>3.70</td><td>11.62</td></tr>\n",
       "\t<tr><th scope=row>DE-3</th><td> 51.91</td><td>10.93</td><td>29.530</td><td>26.94</td><td>15.85</td><td>3.46</td><td>2.18</td><td>3.17</td><td>25.70</td></tr>\n",
       "</tbody>\n",
       "</table>\n"
      ],
      "text/latex": [
       "A data.frame: 6 × 9\n",
       "\\begin{tabular}{r|lllllllll}\n",
       "  & HLXb9 & HHEX & HNF4a & ISL1 & NEUROD1 & NKX6.1 & PAX4 & PTF1a & PDX1\\\\\n",
       "  & <dbl> & <dbl> & <dbl> & <dbl> & <dbl> & <dbl> & <dbl> & <dbl> & <dbl>\\\\\n",
       "\\hline\n",
       "\tSC.1 &   2.27 &  1.87 &  2.880 &  1.69 &  3.60 & 1.09 & 1.29 & 1.40 &  1.00\\\\\n",
       "\tSC.2 &   1.00 &  1.00 &  1.000 &  1.00 &  1.00 & 1.00 & 1.00 & 1.00 &  1.00\\\\\n",
       "\tSC.3 &   1.00 &  1.00 &  1.000 &  1.00 &  1.00 & 1.00 & 1.00 & 1.00 &  1.00\\\\\n",
       "\tDE-1 & 133.70 & 10.93 & 82.380 & 26.94 &  4.88 & 3.46 & 2.18 & 3.24 & 21.48\\\\\n",
       "\tDE-2 &  46.17 & 36.82 & 34.466 & 10.92 &  6.13 & 4.42 & 3.44 & 3.70 & 11.62\\\\\n",
       "\tDE-3 &  51.91 & 10.93 & 29.530 & 26.94 & 15.85 & 3.46 & 2.18 & 3.17 & 25.70\\\\\n",
       "\\end{tabular}\n"
      ],
      "text/markdown": [
       "\n",
       "A data.frame: 6 × 9\n",
       "\n",
       "| <!--/--> | HLXb9 &lt;dbl&gt; | HHEX &lt;dbl&gt; | HNF4a &lt;dbl&gt; | ISL1 &lt;dbl&gt; | NEUROD1 &lt;dbl&gt; | NKX6.1 &lt;dbl&gt; | PAX4 &lt;dbl&gt; | PTF1a &lt;dbl&gt; | PDX1 &lt;dbl&gt; |\n",
       "|---|---|---|---|---|---|---|---|---|---|\n",
       "| SC.1 |   2.27 |  1.87 |  2.880 |  1.69 |  3.60 | 1.09 | 1.29 | 1.40 |  1.00 |\n",
       "| SC.2 |   1.00 |  1.00 |  1.000 |  1.00 |  1.00 | 1.00 | 1.00 | 1.00 |  1.00 |\n",
       "| SC.3 |   1.00 |  1.00 |  1.000 |  1.00 |  1.00 | 1.00 | 1.00 | 1.00 |  1.00 |\n",
       "| DE-1 | 133.70 | 10.93 | 82.380 | 26.94 |  4.88 | 3.46 | 2.18 | 3.24 | 21.48 |\n",
       "| DE-2 |  46.17 | 36.82 | 34.466 | 10.92 |  6.13 | 4.42 | 3.44 | 3.70 | 11.62 |\n",
       "| DE-3 |  51.91 | 10.93 | 29.530 | 26.94 | 15.85 | 3.46 | 2.18 | 3.17 | 25.70 |\n",
       "\n"
      ],
      "text/plain": [
       "     HLXb9  HHEX  HNF4a  ISL1  NEUROD1 NKX6.1 PAX4 PTF1a PDX1 \n",
       "SC.1   2.27  1.87  2.880  1.69  3.60   1.09   1.29 1.40   1.00\n",
       "SC.2   1.00  1.00  1.000  1.00  1.00   1.00   1.00 1.00   1.00\n",
       "SC.3   1.00  1.00  1.000  1.00  1.00   1.00   1.00 1.00   1.00\n",
       "DE-1 133.70 10.93 82.380 26.94  4.88   3.46   2.18 3.24  21.48\n",
       "DE-2  46.17 36.82 34.466 10.92  6.13   4.42   3.44 3.70  11.62\n",
       "DE-3  51.91 10.93 29.530 26.94 15.85   3.46   2.18 3.17  25.70"
      ]
     },
     "metadata": {},
     "output_type": "display_data"
    }
   ],
   "source": [
    "rownames(x) = x[,1]\n",
    "head(x)\n",
    "x = x[,-1]\n",
    "head(x)"
   ]
  },
  {
   "cell_type": "markdown",
   "id": "69929fcb-2df4-4f06-a349-ba9c003239cf",
   "metadata": {},
   "source": [
    "3) Use the logarithm function to show the ratio of data changes instead of the data size and see its effect"
   ]
  },
  {
   "cell_type": "code",
   "execution_count": 3,
   "id": "1e1caf9c-2b98-4dba-b757-a4bc8e477e1e",
   "metadata": {},
   "outputs": [
    {
     "data": {
      "text/html": [
       "<table class=\"dataframe\">\n",
       "<caption>A data.frame: 6 × 9</caption>\n",
       "<thead>\n",
       "\t<tr><th></th><th scope=col>HLXb9</th><th scope=col>HHEX</th><th scope=col>HNF4a</th><th scope=col>ISL1</th><th scope=col>NEUROD1</th><th scope=col>NKX6.1</th><th scope=col>PAX4</th><th scope=col>PTF1a</th><th scope=col>PDX1</th></tr>\n",
       "\t<tr><th></th><th scope=col>&lt;dbl&gt;</th><th scope=col>&lt;dbl&gt;</th><th scope=col>&lt;dbl&gt;</th><th scope=col>&lt;dbl&gt;</th><th scope=col>&lt;dbl&gt;</th><th scope=col>&lt;dbl&gt;</th><th scope=col>&lt;dbl&gt;</th><th scope=col>&lt;dbl&gt;</th><th scope=col>&lt;dbl&gt;</th></tr>\n",
       "</thead>\n",
       "<tbody>\n",
       "\t<tr><th scope=row>SC.1</th><td>1.709291</td><td>1.521051</td><td>1.956057</td><td>1.427606</td><td>2.201634</td><td>1.063503</td><td>1.195348</td><td>1.263034</td><td>1.000000</td></tr>\n",
       "\t<tr><th scope=row>SC.2</th><td>1.000000</td><td>1.000000</td><td>1.000000</td><td>1.000000</td><td>1.000000</td><td>1.000000</td><td>1.000000</td><td>1.000000</td><td>1.000000</td></tr>\n",
       "\t<tr><th scope=row>SC.3</th><td>1.000000</td><td>1.000000</td><td>1.000000</td><td>1.000000</td><td>1.000000</td><td>1.000000</td><td>1.000000</td><td>1.000000</td><td>1.000000</td></tr>\n",
       "\t<tr><th scope=row>DE-1</th><td>7.073606</td><td>3.576522</td><td>6.381629</td><td>4.804260</td><td>2.555816</td><td>2.157044</td><td>1.669027</td><td>2.084064</td><td>4.490570</td></tr>\n",
       "\t<tr><th scope=row>DE-2</th><td>5.559798</td><td>5.241077</td><td>5.148365</td><td>3.575312</td><td>2.833902</td><td>2.438293</td><td>2.150560</td><td>2.232661</td><td>3.657640</td></tr>\n",
       "\t<tr><th scope=row>DE-3</th><td>5.725469</td><td>3.576522</td><td>4.932156</td><td>4.804260</td><td>4.074677</td><td>2.157044</td><td>1.669027</td><td>2.060047</td><td>4.738768</td></tr>\n",
       "</tbody>\n",
       "</table>\n"
      ],
      "text/latex": [
       "A data.frame: 6 × 9\n",
       "\\begin{tabular}{r|lllllllll}\n",
       "  & HLXb9 & HHEX & HNF4a & ISL1 & NEUROD1 & NKX6.1 & PAX4 & PTF1a & PDX1\\\\\n",
       "  & <dbl> & <dbl> & <dbl> & <dbl> & <dbl> & <dbl> & <dbl> & <dbl> & <dbl>\\\\\n",
       "\\hline\n",
       "\tSC.1 & 1.709291 & 1.521051 & 1.956057 & 1.427606 & 2.201634 & 1.063503 & 1.195348 & 1.263034 & 1.000000\\\\\n",
       "\tSC.2 & 1.000000 & 1.000000 & 1.000000 & 1.000000 & 1.000000 & 1.000000 & 1.000000 & 1.000000 & 1.000000\\\\\n",
       "\tSC.3 & 1.000000 & 1.000000 & 1.000000 & 1.000000 & 1.000000 & 1.000000 & 1.000000 & 1.000000 & 1.000000\\\\\n",
       "\tDE-1 & 7.073606 & 3.576522 & 6.381629 & 4.804260 & 2.555816 & 2.157044 & 1.669027 & 2.084064 & 4.490570\\\\\n",
       "\tDE-2 & 5.559798 & 5.241077 & 5.148365 & 3.575312 & 2.833902 & 2.438293 & 2.150560 & 2.232661 & 3.657640\\\\\n",
       "\tDE-3 & 5.725469 & 3.576522 & 4.932156 & 4.804260 & 4.074677 & 2.157044 & 1.669027 & 2.060047 & 4.738768\\\\\n",
       "\\end{tabular}\n"
      ],
      "text/markdown": [
       "\n",
       "A data.frame: 6 × 9\n",
       "\n",
       "| <!--/--> | HLXb9 &lt;dbl&gt; | HHEX &lt;dbl&gt; | HNF4a &lt;dbl&gt; | ISL1 &lt;dbl&gt; | NEUROD1 &lt;dbl&gt; | NKX6.1 &lt;dbl&gt; | PAX4 &lt;dbl&gt; | PTF1a &lt;dbl&gt; | PDX1 &lt;dbl&gt; |\n",
       "|---|---|---|---|---|---|---|---|---|---|\n",
       "| SC.1 | 1.709291 | 1.521051 | 1.956057 | 1.427606 | 2.201634 | 1.063503 | 1.195348 | 1.263034 | 1.000000 |\n",
       "| SC.2 | 1.000000 | 1.000000 | 1.000000 | 1.000000 | 1.000000 | 1.000000 | 1.000000 | 1.000000 | 1.000000 |\n",
       "| SC.3 | 1.000000 | 1.000000 | 1.000000 | 1.000000 | 1.000000 | 1.000000 | 1.000000 | 1.000000 | 1.000000 |\n",
       "| DE-1 | 7.073606 | 3.576522 | 6.381629 | 4.804260 | 2.555816 | 2.157044 | 1.669027 | 2.084064 | 4.490570 |\n",
       "| DE-2 | 5.559798 | 5.241077 | 5.148365 | 3.575312 | 2.833902 | 2.438293 | 2.150560 | 2.232661 | 3.657640 |\n",
       "| DE-3 | 5.725469 | 3.576522 | 4.932156 | 4.804260 | 4.074677 | 2.157044 | 1.669027 | 2.060047 | 4.738768 |\n",
       "\n"
      ],
      "text/plain": [
       "     HLXb9    HHEX     HNF4a    ISL1     NEUROD1  NKX6.1   PAX4     PTF1a   \n",
       "SC.1 1.709291 1.521051 1.956057 1.427606 2.201634 1.063503 1.195348 1.263034\n",
       "SC.2 1.000000 1.000000 1.000000 1.000000 1.000000 1.000000 1.000000 1.000000\n",
       "SC.3 1.000000 1.000000 1.000000 1.000000 1.000000 1.000000 1.000000 1.000000\n",
       "DE-1 7.073606 3.576522 6.381629 4.804260 2.555816 2.157044 1.669027 2.084064\n",
       "DE-2 5.559798 5.241077 5.148365 3.575312 2.833902 2.438293 2.150560 2.232661\n",
       "DE-3 5.725469 3.576522 4.932156 4.804260 4.074677 2.157044 1.669027 2.060047\n",
       "     PDX1    \n",
       "SC.1 1.000000\n",
       "SC.2 1.000000\n",
       "SC.3 1.000000\n",
       "DE-1 4.490570\n",
       "DE-2 3.657640\n",
       "DE-3 4.738768"
      ]
     },
     "metadata": {},
     "output_type": "display_data"
    },
    {
     "name": "stdout",
     "output_type": "stream",
     "text": [
      "[1] \"-----------------------------------------------------------------------------------------------------------------------------\"\n"
     ]
    },
    {
     "data": {
      "text/html": [
       "9.25441452637856"
      ],
      "text/latex": [
       "9.25441452637856"
      ],
      "text/markdown": [
       "9.25441452637856"
      ],
      "text/plain": [
       "[1] 9.254415"
      ]
     },
     "metadata": {},
     "output_type": "display_data"
    }
   ],
   "source": [
    "x = log2(x+1)\n",
    "head(x)\n",
    "print(\"-----------------------------------------------------------------------------------------------------------------------------\")\n",
    "\n",
    "max(x, na.rm = T)\n"
   ]
  },
  {
   "cell_type": "markdown",
   "id": "2246320f-ef24-4f18-8c81-6af47d628c26",
   "metadata": {},
   "source": [
    "4. making a plot with library ggplot2"
   ]
  },
  {
   "cell_type": "code",
   "execution_count": 4,
   "id": "6a20d278-84e9-46ba-b209-76bcce0ef5d4",
   "metadata": {},
   "outputs": [
    {
     "name": "stderr",
     "output_type": "stream",
     "text": [
      "Warning message:\n",
      "\"package 'ggplot2' was built under R version 4.3.3\"\n"
     ]
    },
    {
     "data": {
      "text/html": [
       "'data.frame'"
      ],
      "text/latex": [
       "'data.frame'"
      ],
      "text/markdown": [
       "'data.frame'"
      ],
      "text/plain": [
       "[1] \"data.frame\""
      ]
     },
     "metadata": {},
     "output_type": "display_data"
    },
    {
     "data": {
      "text/html": [
       "<style>\n",
       ".list-inline {list-style: none; margin:0; padding: 0}\n",
       ".list-inline>li {display: inline-block}\n",
       ".list-inline>li:not(:last-child)::after {content: \"\\00b7\"; padding: 0 .5ex}\n",
       "</style>\n",
       "<ol class=list-inline><li>'matrix'</li><li>'array'</li></ol>\n"
      ],
      "text/latex": [
       "\\begin{enumerate*}\n",
       "\\item 'matrix'\n",
       "\\item 'array'\n",
       "\\end{enumerate*}\n"
      ],
      "text/markdown": [
       "1. 'matrix'\n",
       "2. 'array'\n",
       "\n",
       "\n"
      ],
      "text/plain": [
       "[1] \"matrix\" \"array\" "
      ]
     },
     "metadata": {},
     "output_type": "display_data"
    },
    {
     "data": {
      "text/html": [
       "<table class=\"dataframe\">\n",
       "<caption>A matrix: 6 × 52 of type dbl</caption>\n",
       "<thead>\n",
       "\t<tr><th></th><th scope=col>SC.1</th><th scope=col>SC.2</th><th scope=col>SC.3</th><th scope=col>DE-1</th><th scope=col>DE-2</th><th scope=col>DE-3</th><th scope=col>DE-4</th><th scope=col>DE+1</th><th scope=col>DE+2</th><th scope=col>DE+3</th><th scope=col>⋯</th><th scope=col>P5PP+1</th><th scope=col>P5PP+2</th><th scope=col>P5PE-1</th><th scope=col>P5PE-2</th><th scope=col>P5PE-3</th><th scope=col>P5PE-4</th><th scope=col>P5PE+1</th><th scope=col>P5PE+2</th><th scope=col>P5PE+3</th><th scope=col>P5PE+4</th></tr>\n",
       "</thead>\n",
       "<tbody>\n",
       "\t<tr><th scope=row>HLXb9</th><td>1.709291</td><td>1</td><td>1</td><td>7.073606</td><td>5.559798</td><td>5.725469</td><td>7.150661</td><td>7.402842</td><td>6.678072</td><td>7.177420</td><td>⋯</td><td>6.3601887</td><td>6.3476657</td><td>3.3377111</td><td>3.8288346</td><td>3.49952702</td><td>5.3847406</td><td>2.4931349</td><td>2.6438562</td><td>3.3936908</td><td>5.0682409</td></tr>\n",
       "\t<tr><th scope=row>HHEX</th><td>1.521051</td><td>1</td><td>1</td><td>3.576522</td><td>5.241077</td><td>3.576522</td><td>5.241077</td><td>3.589763</td><td>5.241077</td><td>4.753818</td><td>⋯</td><td>4.0686708</td><td>4.0746767</td><td>0.1505597</td><td>0.8479969</td><td>0.07038933</td><td>1.2203300</td><td>0.1243281</td><td>0.1110313</td><td>0.0976108</td><td>1.1375035</td></tr>\n",
       "\t<tr><th scope=row>HNF4a</th><td>1.956057</td><td>1</td><td>1</td><td>6.381629</td><td>5.148365</td><td>4.932156</td><td>5.988117</td><td>5.460415</td><td>4.199358</td><td>3.542258</td><td>⋯</td><td>8.4854268</td><td>8.4438967</td><td>6.8774989</td><td>6.8005117</td><td>7.26341006</td><td>6.6434233</td><td>7.9835067</td><td>7.7975967</td><td>7.2489712</td><td>7.9293176</td></tr>\n",
       "\t<tr><th scope=row>ISL1</th><td>1.427606</td><td>1</td><td>1</td><td>4.804260</td><td>3.575312</td><td>4.804260</td><td>3.575312</td><td>5.358607</td><td>5.247168</td><td>5.547203</td><td>⋯</td><td>4.4356286</td><td>4.8659188</td><td>3.4776773</td><td>3.5945485</td><td>3.47767733</td><td>3.5945485</td><td>4.3334237</td><td>4.2750070</td><td>4.3334237</td><td>4.2750070</td></tr>\n",
       "\t<tr><th scope=row>NEUROD1</th><td>2.201634</td><td>1</td><td>1</td><td>2.555816</td><td>2.833902</td><td>4.074677</td><td>4.536675</td><td>2.347666</td><td>2.353323</td><td>4.919340</td><td>⋯</td><td>7.3605399</td><td>7.4403709</td><td>7.6346659</td><td>7.4450976</td><td>6.39454844</td><td>7.6690977</td><td>6.5599506</td><td>7.8722131</td><td>6.9053268</td><td>7.5910361</td></tr>\n",
       "\t<tr><th scope=row>NKX6.1</th><td>1.063503</td><td>1</td><td>1</td><td>2.157044</td><td>2.438293</td><td>2.157044</td><td>2.438293</td><td>2.087463</td><td>1.427606</td><td>2.405992</td><td>⋯</td><td>0.1243281</td><td>0.1375035</td><td>0.3219281</td><td>0.5360529</td><td>0.63226822</td><td>0.4541759</td><td>0.2016339</td><td>0.3448285</td><td>0.2387869</td><td>0.2265085</td></tr>\n",
       "</tbody>\n",
       "</table>\n"
      ],
      "text/latex": [
       "A matrix: 6 × 52 of type dbl\n",
       "\\begin{tabular}{r|lllllllllllllllllllll}\n",
       "  & SC.1 & SC.2 & SC.3 & DE-1 & DE-2 & DE-3 & DE-4 & DE+1 & DE+2 & DE+3 & ⋯ & P5PP+1 & P5PP+2 & P5PE-1 & P5PE-2 & P5PE-3 & P5PE-4 & P5PE+1 & P5PE+2 & P5PE+3 & P5PE+4\\\\\n",
       "\\hline\n",
       "\tHLXb9 & 1.709291 & 1 & 1 & 7.073606 & 5.559798 & 5.725469 & 7.150661 & 7.402842 & 6.678072 & 7.177420 & ⋯ & 6.3601887 & 6.3476657 & 3.3377111 & 3.8288346 & 3.49952702 & 5.3847406 & 2.4931349 & 2.6438562 & 3.3936908 & 5.0682409\\\\\n",
       "\tHHEX & 1.521051 & 1 & 1 & 3.576522 & 5.241077 & 3.576522 & 5.241077 & 3.589763 & 5.241077 & 4.753818 & ⋯ & 4.0686708 & 4.0746767 & 0.1505597 & 0.8479969 & 0.07038933 & 1.2203300 & 0.1243281 & 0.1110313 & 0.0976108 & 1.1375035\\\\\n",
       "\tHNF4a & 1.956057 & 1 & 1 & 6.381629 & 5.148365 & 4.932156 & 5.988117 & 5.460415 & 4.199358 & 3.542258 & ⋯ & 8.4854268 & 8.4438967 & 6.8774989 & 6.8005117 & 7.26341006 & 6.6434233 & 7.9835067 & 7.7975967 & 7.2489712 & 7.9293176\\\\\n",
       "\tISL1 & 1.427606 & 1 & 1 & 4.804260 & 3.575312 & 4.804260 & 3.575312 & 5.358607 & 5.247168 & 5.547203 & ⋯ & 4.4356286 & 4.8659188 & 3.4776773 & 3.5945485 & 3.47767733 & 3.5945485 & 4.3334237 & 4.2750070 & 4.3334237 & 4.2750070\\\\\n",
       "\tNEUROD1 & 2.201634 & 1 & 1 & 2.555816 & 2.833902 & 4.074677 & 4.536675 & 2.347666 & 2.353323 & 4.919340 & ⋯ & 7.3605399 & 7.4403709 & 7.6346659 & 7.4450976 & 6.39454844 & 7.6690977 & 6.5599506 & 7.8722131 & 6.9053268 & 7.5910361\\\\\n",
       "\tNKX6.1 & 1.063503 & 1 & 1 & 2.157044 & 2.438293 & 2.157044 & 2.438293 & 2.087463 & 1.427606 & 2.405992 & ⋯ & 0.1243281 & 0.1375035 & 0.3219281 & 0.5360529 & 0.63226822 & 0.4541759 & 0.2016339 & 0.3448285 & 0.2387869 & 0.2265085\\\\\n",
       "\\end{tabular}\n"
      ],
      "text/markdown": [
       "\n",
       "A matrix: 6 × 52 of type dbl\n",
       "\n",
       "| <!--/--> | SC.1 | SC.2 | SC.3 | DE-1 | DE-2 | DE-3 | DE-4 | DE+1 | DE+2 | DE+3 | ⋯ | P5PP+1 | P5PP+2 | P5PE-1 | P5PE-2 | P5PE-3 | P5PE-4 | P5PE+1 | P5PE+2 | P5PE+3 | P5PE+4 |\n",
       "|---|---|---|---|---|---|---|---|---|---|---|---|---|---|---|---|---|---|---|---|---|---|\n",
       "| HLXb9 | 1.709291 | 1 | 1 | 7.073606 | 5.559798 | 5.725469 | 7.150661 | 7.402842 | 6.678072 | 7.177420 | ⋯ | 6.3601887 | 6.3476657 | 3.3377111 | 3.8288346 | 3.49952702 | 5.3847406 | 2.4931349 | 2.6438562 | 3.3936908 | 5.0682409 |\n",
       "| HHEX | 1.521051 | 1 | 1 | 3.576522 | 5.241077 | 3.576522 | 5.241077 | 3.589763 | 5.241077 | 4.753818 | ⋯ | 4.0686708 | 4.0746767 | 0.1505597 | 0.8479969 | 0.07038933 | 1.2203300 | 0.1243281 | 0.1110313 | 0.0976108 | 1.1375035 |\n",
       "| HNF4a | 1.956057 | 1 | 1 | 6.381629 | 5.148365 | 4.932156 | 5.988117 | 5.460415 | 4.199358 | 3.542258 | ⋯ | 8.4854268 | 8.4438967 | 6.8774989 | 6.8005117 | 7.26341006 | 6.6434233 | 7.9835067 | 7.7975967 | 7.2489712 | 7.9293176 |\n",
       "| ISL1 | 1.427606 | 1 | 1 | 4.804260 | 3.575312 | 4.804260 | 3.575312 | 5.358607 | 5.247168 | 5.547203 | ⋯ | 4.4356286 | 4.8659188 | 3.4776773 | 3.5945485 | 3.47767733 | 3.5945485 | 4.3334237 | 4.2750070 | 4.3334237 | 4.2750070 |\n",
       "| NEUROD1 | 2.201634 | 1 | 1 | 2.555816 | 2.833902 | 4.074677 | 4.536675 | 2.347666 | 2.353323 | 4.919340 | ⋯ | 7.3605399 | 7.4403709 | 7.6346659 | 7.4450976 | 6.39454844 | 7.6690977 | 6.5599506 | 7.8722131 | 6.9053268 | 7.5910361 |\n",
       "| NKX6.1 | 1.063503 | 1 | 1 | 2.157044 | 2.438293 | 2.157044 | 2.438293 | 2.087463 | 1.427606 | 2.405992 | ⋯ | 0.1243281 | 0.1375035 | 0.3219281 | 0.5360529 | 0.63226822 | 0.4541759 | 0.2016339 | 0.3448285 | 0.2387869 | 0.2265085 |\n",
       "\n"
      ],
      "text/plain": [
       "        SC.1     SC.2 SC.3 DE-1     DE-2     DE-3     DE-4     DE+1    \n",
       "HLXb9   1.709291 1    1    7.073606 5.559798 5.725469 7.150661 7.402842\n",
       "HHEX    1.521051 1    1    3.576522 5.241077 3.576522 5.241077 3.589763\n",
       "HNF4a   1.956057 1    1    6.381629 5.148365 4.932156 5.988117 5.460415\n",
       "ISL1    1.427606 1    1    4.804260 3.575312 4.804260 3.575312 5.358607\n",
       "NEUROD1 2.201634 1    1    2.555816 2.833902 4.074677 4.536675 2.347666\n",
       "NKX6.1  1.063503 1    1    2.157044 2.438293 2.157044 2.438293 2.087463\n",
       "        DE+2     DE+3     ⋯ P5PP+1    P5PP+2    P5PE-1    P5PE-2    P5PE-3    \n",
       "HLXb9   6.678072 7.177420 ⋯ 6.3601887 6.3476657 3.3377111 3.8288346 3.49952702\n",
       "HHEX    5.241077 4.753818 ⋯ 4.0686708 4.0746767 0.1505597 0.8479969 0.07038933\n",
       "HNF4a   4.199358 3.542258 ⋯ 8.4854268 8.4438967 6.8774989 6.8005117 7.26341006\n",
       "ISL1    5.247168 5.547203 ⋯ 4.4356286 4.8659188 3.4776773 3.5945485 3.47767733\n",
       "NEUROD1 2.353323 4.919340 ⋯ 7.3605399 7.4403709 7.6346659 7.4450976 6.39454844\n",
       "NKX6.1  1.427606 2.405992 ⋯ 0.1243281 0.1375035 0.3219281 0.5360529 0.63226822\n",
       "        P5PE-4    P5PE+1    P5PE+2    P5PE+3    P5PE+4   \n",
       "HLXb9   5.3847406 2.4931349 2.6438562 3.3936908 5.0682409\n",
       "HHEX    1.2203300 0.1243281 0.1110313 0.0976108 1.1375035\n",
       "HNF4a   6.6434233 7.9835067 7.7975967 7.2489712 7.9293176\n",
       "ISL1    3.5945485 4.3334237 4.2750070 4.3334237 4.2750070\n",
       "NEUROD1 7.6690977 6.5599506 7.8722131 6.9053268 7.5910361\n",
       "NKX6.1  0.4541759 0.2016339 0.3448285 0.2387869 0.2265085"
      ]
     },
     "metadata": {},
     "output_type": "display_data"
    },
    {
     "data": {
      "image/png": "[encoded data removed]",
      "text/plain": [
       "plot without title"
      ]
     },
     "metadata": {
      "image/png": {
       "height": 420,
       "width": 420
      }
     },
     "output_type": "display_data"
    }
   ],
   "source": [
    "library(ggplot2)\n",
    "class(x)\n",
    "x = t(x)\n",
    "class(x)\n",
    "# function t(transpose) will change the place of colums and rows with each other\n",
    "head(x)\n",
    "ggplot(x, aes(x = SC.1, y = SC.2)) + geom_point()"
   ]
  },
  {
   "cell_type": "markdown",
   "id": "08f70b8a-a1ce-4174-a6ff-5dad69e86854",
   "metadata": {},
   "source": [
    "5. another plot ..."
   ]
  },
  {
   "cell_type": "code",
   "execution_count": 5,
   "id": "81cd84b4-4f03-4686-b497-25cb9409cd44",
   "metadata": {},
   "outputs": [
    {
     "data": {
      "text/html": [
       "<style>\n",
       ".list-inline {list-style: none; margin:0; padding: 0}\n",
       ".list-inline>li {display: inline-block}\n",
       ".list-inline>li:not(:last-child)::after {content: \"\\00b7\"; padding: 0 .5ex}\n",
       "</style>\n",
       "<ol class=list-inline><li>'matrix'</li><li>'array'</li></ol>\n"
      ],
      "text/latex": [
       "\\begin{enumerate*}\n",
       "\\item 'matrix'\n",
       "\\item 'array'\n",
       "\\end{enumerate*}\n"
      ],
      "text/markdown": [
       "1. 'matrix'\n",
       "2. 'array'\n",
       "\n",
       "\n"
      ],
      "text/plain": [
       "[1] \"matrix\" \"array\" "
      ]
     },
     "metadata": {},
     "output_type": "display_data"
    },
    {
     "data": {
      "image/png": "[encoded data removed]",
      "text/plain": [
       "plot without title"
      ]
     },
     "metadata": {
      "image/png": {
       "height": 420,
       "width": 420
      }
     },
     "output_type": "display_data"
    }
   ],
   "source": [
    "class(x)\n",
    "# function t will also put the data in matrix format and its better to change it to dataframe because of some issues that would appear in matrix\n",
    "x = data.frame(x)\n",
    "ggplot(x, aes(x = DE.1, y = DE.2)) + geom_point()"
   ]
  },
  {
   "cell_type": "markdown",
   "id": "99d2bb4f-be41-439e-a1c2-ab94b86007bd",
   "metadata": {},
   "source": [
    "6. lets deal with the functions a bit more advanced ..."
   ]
  },
  {
   "cell_type": "code",
   "execution_count": 6,
   "id": "045bd26f-1084-4854-9385-503e5769b30e",
   "metadata": {},
   "outputs": [
    {
     "data": {
      "text/html": [
       "<style>\n",
       ".list-inline {list-style: none; margin:0; padding: 0}\n",
       ".list-inline>li {display: inline-block}\n",
       ".list-inline>li:not(:last-child)::after {content: \"\\00b7\"; padding: 0 .5ex}\n",
       "</style>\n",
       "<ol class=list-inline><li>'SC.1'</li><li>'SC.2'</li><li>'SC.3'</li><li>'DE.1'</li><li>'DE.2'</li><li>'DE.3'</li><li>'DE.4'</li><li>'DE.1.1'</li><li>'DE.2.1'</li><li>'DE.3.1'</li><li>'P2PP.1'</li><li>'P2PP.2'</li><li>'P2PP.3'</li><li>'P2PP.4'</li><li>'P2PP.1.1'</li><li>'P2PP.2.1'</li><li>'P2PP.3.1'</li><li>'P2PP.4.1'</li><li>'P2PE.1'</li><li>'P2PE.2'</li><li>'P2PE.3'</li><li>'P2PE.4'</li><li>'P2PE.1.1'</li><li>'P2PE.2.1'</li><li>'P2PE.3.1'</li><li>'P2PE.4.1'</li><li>'P3PP.1'</li><li>'P3PP.2'</li><li>'P3PP.3'</li><li>'P3PP.1.1'</li><li>'P3PP.2.1'</li><li>'P3PP.3.1'</li><li>'P3PE.1'</li><li>'P3PE.2'</li><li>'P3PE.3'</li><li>'P3PE.4'</li><li>'P3PE.1.1'</li><li>'P3PE.2.1'</li><li>'P3PE.3.1'</li><li>'P3PE.4.1'</li><li>'P5PP.1'</li><li>'P5PP.2'</li><li>'P5PP.1.1'</li><li>'P5PP.2.1'</li><li>'P5PE.1'</li><li>'P5PE.2'</li><li>'P5PE.3'</li><li>'P5PE.4'</li><li>'P5PE.1.1'</li><li>'P5PE.2.1'</li><li>'P5PE.3.1'</li><li>'P5PE.4.1'</li></ol>\n"
      ],
      "text/latex": [
       "\\begin{enumerate*}\n",
       "\\item 'SC.1'\n",
       "\\item 'SC.2'\n",
       "\\item 'SC.3'\n",
       "\\item 'DE.1'\n",
       "\\item 'DE.2'\n",
       "\\item 'DE.3'\n",
       "\\item 'DE.4'\n",
       "\\item 'DE.1.1'\n",
       "\\item 'DE.2.1'\n",
       "\\item 'DE.3.1'\n",
       "\\item 'P2PP.1'\n",
       "\\item 'P2PP.2'\n",
       "\\item 'P2PP.3'\n",
       "\\item 'P2PP.4'\n",
       "\\item 'P2PP.1.1'\n",
       "\\item 'P2PP.2.1'\n",
       "\\item 'P2PP.3.1'\n",
       "\\item 'P2PP.4.1'\n",
       "\\item 'P2PE.1'\n",
       "\\item 'P2PE.2'\n",
       "\\item 'P2PE.3'\n",
       "\\item 'P2PE.4'\n",
       "\\item 'P2PE.1.1'\n",
       "\\item 'P2PE.2.1'\n",
       "\\item 'P2PE.3.1'\n",
       "\\item 'P2PE.4.1'\n",
       "\\item 'P3PP.1'\n",
       "\\item 'P3PP.2'\n",
       "\\item 'P3PP.3'\n",
       "\\item 'P3PP.1.1'\n",
       "\\item 'P3PP.2.1'\n",
       "\\item 'P3PP.3.1'\n",
       "\\item 'P3PE.1'\n",
       "\\item 'P3PE.2'\n",
       "\\item 'P3PE.3'\n",
       "\\item 'P3PE.4'\n",
       "\\item 'P3PE.1.1'\n",
       "\\item 'P3PE.2.1'\n",
       "\\item 'P3PE.3.1'\n",
       "\\item 'P3PE.4.1'\n",
       "\\item 'P5PP.1'\n",
       "\\item 'P5PP.2'\n",
       "\\item 'P5PP.1.1'\n",
       "\\item 'P5PP.2.1'\n",
       "\\item 'P5PE.1'\n",
       "\\item 'P5PE.2'\n",
       "\\item 'P5PE.3'\n",
       "\\item 'P5PE.4'\n",
       "\\item 'P5PE.1.1'\n",
       "\\item 'P5PE.2.1'\n",
       "\\item 'P5PE.3.1'\n",
       "\\item 'P5PE.4.1'\n",
       "\\end{enumerate*}\n"
      ],
      "text/markdown": [
       "1. 'SC.1'\n",
       "2. 'SC.2'\n",
       "3. 'SC.3'\n",
       "4. 'DE.1'\n",
       "5. 'DE.2'\n",
       "6. 'DE.3'\n",
       "7. 'DE.4'\n",
       "8. 'DE.1.1'\n",
       "9. 'DE.2.1'\n",
       "10. 'DE.3.1'\n",
       "11. 'P2PP.1'\n",
       "12. 'P2PP.2'\n",
       "13. 'P2PP.3'\n",
       "14. 'P2PP.4'\n",
       "15. 'P2PP.1.1'\n",
       "16. 'P2PP.2.1'\n",
       "17. 'P2PP.3.1'\n",
       "18. 'P2PP.4.1'\n",
       "19. 'P2PE.1'\n",
       "20. 'P2PE.2'\n",
       "21. 'P2PE.3'\n",
       "22. 'P2PE.4'\n",
       "23. 'P2PE.1.1'\n",
       "24. 'P2PE.2.1'\n",
       "25. 'P2PE.3.1'\n",
       "26. 'P2PE.4.1'\n",
       "27. 'P3PP.1'\n",
       "28. 'P3PP.2'\n",
       "29. 'P3PP.3'\n",
       "30. 'P3PP.1.1'\n",
       "31. 'P3PP.2.1'\n",
       "32. 'P3PP.3.1'\n",
       "33. 'P3PE.1'\n",
       "34. 'P3PE.2'\n",
       "35. 'P3PE.3'\n",
       "36. 'P3PE.4'\n",
       "37. 'P3PE.1.1'\n",
       "38. 'P3PE.2.1'\n",
       "39. 'P3PE.3.1'\n",
       "40. 'P3PE.4.1'\n",
       "41. 'P5PP.1'\n",
       "42. 'P5PP.2'\n",
       "43. 'P5PP.1.1'\n",
       "44. 'P5PP.2.1'\n",
       "45. 'P5PE.1'\n",
       "46. 'P5PE.2'\n",
       "47. 'P5PE.3'\n",
       "48. 'P5PE.4'\n",
       "49. 'P5PE.1.1'\n",
       "50. 'P5PE.2.1'\n",
       "51. 'P5PE.3.1'\n",
       "52. 'P5PE.4.1'\n",
       "\n",
       "\n"
      ],
      "text/plain": [
       " [1] \"SC.1\"     \"SC.2\"     \"SC.3\"     \"DE.1\"     \"DE.2\"     \"DE.3\"    \n",
       " [7] \"DE.4\"     \"DE.1.1\"   \"DE.2.1\"   \"DE.3.1\"   \"P2PP.1\"   \"P2PP.2\"  \n",
       "[13] \"P2PP.3\"   \"P2PP.4\"   \"P2PP.1.1\" \"P2PP.2.1\" \"P2PP.3.1\" \"P2PP.4.1\"\n",
       "[19] \"P2PE.1\"   \"P2PE.2\"   \"P2PE.3\"   \"P2PE.4\"   \"P2PE.1.1\" \"P2PE.2.1\"\n",
       "[25] \"P2PE.3.1\" \"P2PE.4.1\" \"P3PP.1\"   \"P3PP.2\"   \"P3PP.3\"   \"P3PP.1.1\"\n",
       "[31] \"P3PP.2.1\" \"P3PP.3.1\" \"P3PE.1\"   \"P3PE.2\"   \"P3PE.3\"   \"P3PE.4\"  \n",
       "[37] \"P3PE.1.1\" \"P3PE.2.1\" \"P3PE.3.1\" \"P3PE.4.1\" \"P5PP.1\"   \"P5PP.2\"  \n",
       "[43] \"P5PP.1.1\" \"P5PP.2.1\" \"P5PE.1\"   \"P5PE.2\"   \"P5PE.3\"   \"P5PE.4\"  \n",
       "[49] \"P5PE.1.1\" \"P5PE.2.1\" \"P5PE.3.1\" \"P5PE.4.1\""
      ]
     },
     "metadata": {},
     "output_type": "display_data"
    },
    {
     "data": {
      "text/html": [
       "<table class=\"dataframe\">\n",
       "<caption>A data.frame: 6 × 53</caption>\n",
       "<thead>\n",
       "\t<tr><th></th><th scope=col>SC.1</th><th scope=col>SC.2</th><th scope=col>SC.3</th><th scope=col>DE.1</th><th scope=col>DE.2</th><th scope=col>DE.3</th><th scope=col>DE.4</th><th scope=col>DE.1.1</th><th scope=col>DE.2.1</th><th scope=col>DE.3.1</th><th scope=col>⋯</th><th scope=col>P5PP.2.1</th><th scope=col>P5PE.1</th><th scope=col>P5PE.2</th><th scope=col>P5PE.3</th><th scope=col>P5PE.4</th><th scope=col>P5PE.1.1</th><th scope=col>P5PE.2.1</th><th scope=col>P5PE.3.1</th><th scope=col>P5PE.4.1</th><th scope=col>Gene</th></tr>\n",
       "\t<tr><th></th><th scope=col>&lt;dbl&gt;</th><th scope=col>&lt;dbl&gt;</th><th scope=col>&lt;dbl&gt;</th><th scope=col>&lt;dbl&gt;</th><th scope=col>&lt;dbl&gt;</th><th scope=col>&lt;dbl&gt;</th><th scope=col>&lt;dbl&gt;</th><th scope=col>&lt;dbl&gt;</th><th scope=col>&lt;dbl&gt;</th><th scope=col>&lt;dbl&gt;</th><th scope=col>⋯</th><th scope=col>&lt;dbl&gt;</th><th scope=col>&lt;dbl&gt;</th><th scope=col>&lt;dbl&gt;</th><th scope=col>&lt;dbl&gt;</th><th scope=col>&lt;dbl&gt;</th><th scope=col>&lt;dbl&gt;</th><th scope=col>&lt;dbl&gt;</th><th scope=col>&lt;dbl&gt;</th><th scope=col>&lt;dbl&gt;</th><th scope=col>&lt;chr&gt;</th></tr>\n",
       "</thead>\n",
       "<tbody>\n",
       "\t<tr><th scope=row>HLXb9</th><td>1.709291</td><td>1</td><td>1</td><td>7.073606</td><td>5.559798</td><td>5.725469</td><td>7.150661</td><td>7.402842</td><td>6.678072</td><td>7.177420</td><td>⋯</td><td>6.3476657</td><td>3.3377111</td><td>3.8288346</td><td>3.49952702</td><td>5.3847406</td><td>2.4931349</td><td>2.6438562</td><td>3.3936908</td><td>5.0682409</td><td>HLXb9  </td></tr>\n",
       "\t<tr><th scope=row>HHEX</th><td>1.521051</td><td>1</td><td>1</td><td>3.576522</td><td>5.241077</td><td>3.576522</td><td>5.241077</td><td>3.589763</td><td>5.241077</td><td>4.753818</td><td>⋯</td><td>4.0746767</td><td>0.1505597</td><td>0.8479969</td><td>0.07038933</td><td>1.2203300</td><td>0.1243281</td><td>0.1110313</td><td>0.0976108</td><td>1.1375035</td><td>HHEX   </td></tr>\n",
       "\t<tr><th scope=row>HNF4a</th><td>1.956057</td><td>1</td><td>1</td><td>6.381629</td><td>5.148365</td><td>4.932156</td><td>5.988117</td><td>5.460415</td><td>4.199358</td><td>3.542258</td><td>⋯</td><td>8.4438967</td><td>6.8774989</td><td>6.8005117</td><td>7.26341006</td><td>6.6434233</td><td>7.9835067</td><td>7.7975967</td><td>7.2489712</td><td>7.9293176</td><td>HNF4a  </td></tr>\n",
       "\t<tr><th scope=row>ISL1</th><td>1.427606</td><td>1</td><td>1</td><td>4.804260</td><td>3.575312</td><td>4.804260</td><td>3.575312</td><td>5.358607</td><td>5.247168</td><td>5.547203</td><td>⋯</td><td>4.8659188</td><td>3.4776773</td><td>3.5945485</td><td>3.47767733</td><td>3.5945485</td><td>4.3334237</td><td>4.2750070</td><td>4.3334237</td><td>4.2750070</td><td>ISL1   </td></tr>\n",
       "\t<tr><th scope=row>NEUROD1</th><td>2.201634</td><td>1</td><td>1</td><td>2.555816</td><td>2.833902</td><td>4.074677</td><td>4.536675</td><td>2.347666</td><td>2.353323</td><td>4.919340</td><td>⋯</td><td>7.4403709</td><td>7.6346659</td><td>7.4450976</td><td>6.39454844</td><td>7.6690977</td><td>6.5599506</td><td>7.8722131</td><td>6.9053268</td><td>7.5910361</td><td>NEUROD1</td></tr>\n",
       "\t<tr><th scope=row>NKX6.1</th><td>1.063503</td><td>1</td><td>1</td><td>2.157044</td><td>2.438293</td><td>2.157044</td><td>2.438293</td><td>2.087463</td><td>1.427606</td><td>2.405992</td><td>⋯</td><td>0.1375035</td><td>0.3219281</td><td>0.5360529</td><td>0.63226822</td><td>0.4541759</td><td>0.2016339</td><td>0.3448285</td><td>0.2387869</td><td>0.2265085</td><td>NKX6.1 </td></tr>\n",
       "</tbody>\n",
       "</table>\n"
      ],
      "text/latex": [
       "A data.frame: 6 × 53\n",
       "\\begin{tabular}{r|lllllllllllllllllllll}\n",
       "  & SC.1 & SC.2 & SC.3 & DE.1 & DE.2 & DE.3 & DE.4 & DE.1.1 & DE.2.1 & DE.3.1 & ⋯ & P5PP.2.1 & P5PE.1 & P5PE.2 & P5PE.3 & P5PE.4 & P5PE.1.1 & P5PE.2.1 & P5PE.3.1 & P5PE.4.1 & Gene\\\\\n",
       "  & <dbl> & <dbl> & <dbl> & <dbl> & <dbl> & <dbl> & <dbl> & <dbl> & <dbl> & <dbl> & ⋯ & <dbl> & <dbl> & <dbl> & <dbl> & <dbl> & <dbl> & <dbl> & <dbl> & <dbl> & <chr>\\\\\n",
       "\\hline\n",
       "\tHLXb9 & 1.709291 & 1 & 1 & 7.073606 & 5.559798 & 5.725469 & 7.150661 & 7.402842 & 6.678072 & 7.177420 & ⋯ & 6.3476657 & 3.3377111 & 3.8288346 & 3.49952702 & 5.3847406 & 2.4931349 & 2.6438562 & 3.3936908 & 5.0682409 & HLXb9  \\\\\n",
       "\tHHEX & 1.521051 & 1 & 1 & 3.576522 & 5.241077 & 3.576522 & 5.241077 & 3.589763 & 5.241077 & 4.753818 & ⋯ & 4.0746767 & 0.1505597 & 0.8479969 & 0.07038933 & 1.2203300 & 0.1243281 & 0.1110313 & 0.0976108 & 1.1375035 & HHEX   \\\\\n",
       "\tHNF4a & 1.956057 & 1 & 1 & 6.381629 & 5.148365 & 4.932156 & 5.988117 & 5.460415 & 4.199358 & 3.542258 & ⋯ & 8.4438967 & 6.8774989 & 6.8005117 & 7.26341006 & 6.6434233 & 7.9835067 & 7.7975967 & 7.2489712 & 7.9293176 & HNF4a  \\\\\n",
       "\tISL1 & 1.427606 & 1 & 1 & 4.804260 & 3.575312 & 4.804260 & 3.575312 & 5.358607 & 5.247168 & 5.547203 & ⋯ & 4.8659188 & 3.4776773 & 3.5945485 & 3.47767733 & 3.5945485 & 4.3334237 & 4.2750070 & 4.3334237 & 4.2750070 & ISL1   \\\\\n",
       "\tNEUROD1 & 2.201634 & 1 & 1 & 2.555816 & 2.833902 & 4.074677 & 4.536675 & 2.347666 & 2.353323 & 4.919340 & ⋯ & 7.4403709 & 7.6346659 & 7.4450976 & 6.39454844 & 7.6690977 & 6.5599506 & 7.8722131 & 6.9053268 & 7.5910361 & NEUROD1\\\\\n",
       "\tNKX6.1 & 1.063503 & 1 & 1 & 2.157044 & 2.438293 & 2.157044 & 2.438293 & 2.087463 & 1.427606 & 2.405992 & ⋯ & 0.1375035 & 0.3219281 & 0.5360529 & 0.63226822 & 0.4541759 & 0.2016339 & 0.3448285 & 0.2387869 & 0.2265085 & NKX6.1 \\\\\n",
       "\\end{tabular}\n"
      ],
      "text/markdown": [
       "\n",
       "A data.frame: 6 × 53\n",
       "\n",
       "| <!--/--> | SC.1 &lt;dbl&gt; | SC.2 &lt;dbl&gt; | SC.3 &lt;dbl&gt; | DE.1 &lt;dbl&gt; | DE.2 &lt;dbl&gt; | DE.3 &lt;dbl&gt; | DE.4 &lt;dbl&gt; | DE.1.1 &lt;dbl&gt; | DE.2.1 &lt;dbl&gt; | DE.3.1 &lt;dbl&gt; | ⋯ ⋯ | P5PP.2.1 &lt;dbl&gt; | P5PE.1 &lt;dbl&gt; | P5PE.2 &lt;dbl&gt; | P5PE.3 &lt;dbl&gt; | P5PE.4 &lt;dbl&gt; | P5PE.1.1 &lt;dbl&gt; | P5PE.2.1 &lt;dbl&gt; | P5PE.3.1 &lt;dbl&gt; | P5PE.4.1 &lt;dbl&gt; | Gene &lt;chr&gt; |\n",
       "|---|---|---|---|---|---|---|---|---|---|---|---|---|---|---|---|---|---|---|---|---|---|\n",
       "| HLXb9 | 1.709291 | 1 | 1 | 7.073606 | 5.559798 | 5.725469 | 7.150661 | 7.402842 | 6.678072 | 7.177420 | ⋯ | 6.3476657 | 3.3377111 | 3.8288346 | 3.49952702 | 5.3847406 | 2.4931349 | 2.6438562 | 3.3936908 | 5.0682409 | HLXb9   |\n",
       "| HHEX | 1.521051 | 1 | 1 | 3.576522 | 5.241077 | 3.576522 | 5.241077 | 3.589763 | 5.241077 | 4.753818 | ⋯ | 4.0746767 | 0.1505597 | 0.8479969 | 0.07038933 | 1.2203300 | 0.1243281 | 0.1110313 | 0.0976108 | 1.1375035 | HHEX    |\n",
       "| HNF4a | 1.956057 | 1 | 1 | 6.381629 | 5.148365 | 4.932156 | 5.988117 | 5.460415 | 4.199358 | 3.542258 | ⋯ | 8.4438967 | 6.8774989 | 6.8005117 | 7.26341006 | 6.6434233 | 7.9835067 | 7.7975967 | 7.2489712 | 7.9293176 | HNF4a   |\n",
       "| ISL1 | 1.427606 | 1 | 1 | 4.804260 | 3.575312 | 4.804260 | 3.575312 | 5.358607 | 5.247168 | 5.547203 | ⋯ | 4.8659188 | 3.4776773 | 3.5945485 | 3.47767733 | 3.5945485 | 4.3334237 | 4.2750070 | 4.3334237 | 4.2750070 | ISL1    |\n",
       "| NEUROD1 | 2.201634 | 1 | 1 | 2.555816 | 2.833902 | 4.074677 | 4.536675 | 2.347666 | 2.353323 | 4.919340 | ⋯ | 7.4403709 | 7.6346659 | 7.4450976 | 6.39454844 | 7.6690977 | 6.5599506 | 7.8722131 | 6.9053268 | 7.5910361 | NEUROD1 |\n",
       "| NKX6.1 | 1.063503 | 1 | 1 | 2.157044 | 2.438293 | 2.157044 | 2.438293 | 2.087463 | 1.427606 | 2.405992 | ⋯ | 0.1375035 | 0.3219281 | 0.5360529 | 0.63226822 | 0.4541759 | 0.2016339 | 0.3448285 | 0.2387869 | 0.2265085 | NKX6.1  |\n",
       "\n"
      ],
      "text/plain": [
       "        SC.1     SC.2 SC.3 DE.1     DE.2     DE.3     DE.4     DE.1.1  \n",
       "HLXb9   1.709291 1    1    7.073606 5.559798 5.725469 7.150661 7.402842\n",
       "HHEX    1.521051 1    1    3.576522 5.241077 3.576522 5.241077 3.589763\n",
       "HNF4a   1.956057 1    1    6.381629 5.148365 4.932156 5.988117 5.460415\n",
       "ISL1    1.427606 1    1    4.804260 3.575312 4.804260 3.575312 5.358607\n",
       "NEUROD1 2.201634 1    1    2.555816 2.833902 4.074677 4.536675 2.347666\n",
       "NKX6.1  1.063503 1    1    2.157044 2.438293 2.157044 2.438293 2.087463\n",
       "        DE.2.1   DE.3.1   ⋯ P5PP.2.1  P5PE.1    P5PE.2    P5PE.3     P5PE.4   \n",
       "HLXb9   6.678072 7.177420 ⋯ 6.3476657 3.3377111 3.8288346 3.49952702 5.3847406\n",
       "HHEX    5.241077 4.753818 ⋯ 4.0746767 0.1505597 0.8479969 0.07038933 1.2203300\n",
       "HNF4a   4.199358 3.542258 ⋯ 8.4438967 6.8774989 6.8005117 7.26341006 6.6434233\n",
       "ISL1    5.247168 5.547203 ⋯ 4.8659188 3.4776773 3.5945485 3.47767733 3.5945485\n",
       "NEUROD1 2.353323 4.919340 ⋯ 7.4403709 7.6346659 7.4450976 6.39454844 7.6690977\n",
       "NKX6.1  1.427606 2.405992 ⋯ 0.1375035 0.3219281 0.5360529 0.63226822 0.4541759\n",
       "        P5PE.1.1  P5PE.2.1  P5PE.3.1  P5PE.4.1  Gene   \n",
       "HLXb9   2.4931349 2.6438562 3.3936908 5.0682409 HLXb9  \n",
       "HHEX    0.1243281 0.1110313 0.0976108 1.1375035 HHEX   \n",
       "HNF4a   7.9835067 7.7975967 7.2489712 7.9293176 HNF4a  \n",
       "ISL1    4.3334237 4.2750070 4.3334237 4.2750070 ISL1   \n",
       "NEUROD1 6.5599506 7.8722131 6.9053268 7.5910361 NEUROD1\n",
       "NKX6.1  0.2016339 0.3448285 0.2387869 0.2265085 NKX6.1 "
      ]
     },
     "metadata": {},
     "output_type": "display_data"
    },
    {
     "data": {
      "image/png": "[encoded data removed]",
      "text/plain": [
       "plot without title"
      ]
     },
     "metadata": {
      "image/png": {
       "height": 420,
       "width": 420
      }
     },
     "output_type": "display_data"
    },
    {
     "data": {
      "image/png": "[encoded data removed]",
      "text/plain": [
       "plot without title"
      ]
     },
     "metadata": {
      "image/png": {
       "height": 420,
       "width": 420
      }
     },
     "output_type": "display_data"
    },
    {
     "data": {
      "image/png": "[encoded data removed]",
      "text/plain": [
       "plot without title"
      ]
     },
     "metadata": {
      "image/png": {
       "height": 420,
       "width": 420
      }
     },
     "output_type": "display_data"
    }
   ],
   "source": [
    "colnames(x)\n",
    "#just for dataframes:\n",
    "x$Gene = rownames(x)\n",
    "head(x)\n",
    "#adding label\n",
    "ggplot(x, aes(x = DE.1, y = DE.2, label = Gene)) + geom_point()\n",
    "#no label appeard. why?\n",
    "p = ggplot(x, aes(x = DE.1, y = DE.2, label = Gene)) + geom_point()\n",
    "# because we didnt add the text layer\n",
    "p = p + geom_text()\n",
    "p\n",
    "ggplot(x, aes(x = DE.1, y = DE.2, label = Gene)) + geom_point() + geom_text()"
   ]
  },
  {
   "cell_type": "markdown",
   "id": "3f8de357-6bde-4802-8d09-d56403b4b7e8",
   "metadata": {},
   "source": [
    "7. introducing to bind function"
   ]
  },
  {
   "cell_type": "code",
   "execution_count": 7,
   "id": "5ee5bfe5-be1a-4187-b576-c4cc6df2a822",
   "metadata": {},
   "outputs": [
    {
     "data": {
      "text/html": [
       "<style>\n",
       ".list-inline {list-style: none; margin:0; padding: 0}\n",
       ".list-inline>li {display: inline-block}\n",
       ".list-inline>li:not(:last-child)::after {content: \"\\00b7\"; padding: 0 .5ex}\n",
       "</style>\n",
       "<ol class=list-inline><li>9</li><li>53</li></ol>\n"
      ],
      "text/latex": [
       "\\begin{enumerate*}\n",
       "\\item 9\n",
       "\\item 53\n",
       "\\end{enumerate*}\n"
      ],
      "text/markdown": [
       "1. 9\n",
       "2. 53\n",
       "\n",
       "\n"
      ],
      "text/plain": [
       "[1]  9 53"
      ]
     },
     "metadata": {},
     "output_type": "display_data"
    },
    {
     "data": {
      "text/html": [
       "<table class=\"dataframe\">\n",
       "<caption>A data.frame: 10 × 53</caption>\n",
       "<thead>\n",
       "\t<tr><th></th><th scope=col>SC.1</th><th scope=col>SC.2</th><th scope=col>SC.3</th><th scope=col>DE.1</th><th scope=col>DE.2</th><th scope=col>DE.3</th><th scope=col>DE.4</th><th scope=col>DE.1.1</th><th scope=col>DE.2.1</th><th scope=col>DE.3.1</th><th scope=col>⋯</th><th scope=col>P5PP.2.1</th><th scope=col>P5PE.1</th><th scope=col>P5PE.2</th><th scope=col>P5PE.3</th><th scope=col>P5PE.4</th><th scope=col>P5PE.1.1</th><th scope=col>P5PE.2.1</th><th scope=col>P5PE.3.1</th><th scope=col>P5PE.4.1</th><th scope=col>Gene</th></tr>\n",
       "\t<tr><th></th><th scope=col>&lt;dbl&gt;</th><th scope=col>&lt;dbl&gt;</th><th scope=col>&lt;dbl&gt;</th><th scope=col>&lt;dbl&gt;</th><th scope=col>&lt;dbl&gt;</th><th scope=col>&lt;dbl&gt;</th><th scope=col>&lt;dbl&gt;</th><th scope=col>&lt;dbl&gt;</th><th scope=col>&lt;dbl&gt;</th><th scope=col>&lt;dbl&gt;</th><th scope=col>⋯</th><th scope=col>&lt;dbl&gt;</th><th scope=col>&lt;dbl&gt;</th><th scope=col>&lt;dbl&gt;</th><th scope=col>&lt;dbl&gt;</th><th scope=col>&lt;dbl&gt;</th><th scope=col>&lt;dbl&gt;</th><th scope=col>&lt;dbl&gt;</th><th scope=col>&lt;dbl&gt;</th><th scope=col>&lt;dbl&gt;</th><th scope=col>&lt;chr&gt;</th></tr>\n",
       "</thead>\n",
       "<tbody>\n",
       "\t<tr><th scope=row>HLXb9</th><td>1.709291</td><td>1</td><td>1</td><td>7.073606</td><td>5.559798</td><td>5.725469</td><td>7.150661</td><td>7.402842</td><td>6.678072</td><td> 7.177420</td><td>⋯</td><td> 6.3476657</td><td> 3.3377111</td><td> 3.8288346</td><td> 3.49952702</td><td> 5.3847406</td><td> 2.4931349</td><td> 2.6438562</td><td> 3.3936908</td><td> 5.0682409</td><td>HLXb9  </td></tr>\n",
       "\t<tr><th scope=row>HHEX</th><td>1.521051</td><td>1</td><td>1</td><td>3.576522</td><td>5.241077</td><td>3.576522</td><td>5.241077</td><td>3.589763</td><td>5.241077</td><td> 4.753818</td><td>⋯</td><td> 4.0746767</td><td> 0.1505597</td><td> 0.8479969</td><td> 0.07038933</td><td> 1.2203300</td><td> 0.1243281</td><td> 0.1110313</td><td> 0.0976108</td><td> 1.1375035</td><td>HHEX   </td></tr>\n",
       "\t<tr><th scope=row>HNF4a</th><td>1.956057</td><td>1</td><td>1</td><td>6.381629</td><td>5.148365</td><td>4.932156</td><td>5.988117</td><td>5.460415</td><td>4.199358</td><td> 3.542258</td><td>⋯</td><td> 8.4438967</td><td> 6.8774989</td><td> 6.8005117</td><td> 7.26341006</td><td> 6.6434233</td><td> 7.9835067</td><td> 7.7975967</td><td> 7.2489712</td><td> 7.9293176</td><td>HNF4a  </td></tr>\n",
       "\t<tr><th scope=row>ISL1</th><td>1.427606</td><td>1</td><td>1</td><td>4.804260</td><td>3.575312</td><td>4.804260</td><td>3.575312</td><td>5.358607</td><td>5.247168</td><td> 5.547203</td><td>⋯</td><td> 4.8659188</td><td> 3.4776773</td><td> 3.5945485</td><td> 3.47767733</td><td> 3.5945485</td><td> 4.3334237</td><td> 4.2750070</td><td> 4.3334237</td><td> 4.2750070</td><td>ISL1   </td></tr>\n",
       "\t<tr><th scope=row>NEUROD1</th><td>2.201634</td><td>1</td><td>1</td><td>2.555816</td><td>2.833902</td><td>4.074677</td><td>4.536675</td><td>2.347666</td><td>2.353323</td><td> 4.919340</td><td>⋯</td><td> 7.4403709</td><td> 7.6346659</td><td> 7.4450976</td><td> 6.39454844</td><td> 7.6690977</td><td> 6.5599506</td><td> 7.8722131</td><td> 6.9053268</td><td> 7.5910361</td><td>NEUROD1</td></tr>\n",
       "\t<tr><th scope=row>NKX6.1</th><td>1.063503</td><td>1</td><td>1</td><td>2.157044</td><td>2.438293</td><td>2.157044</td><td>2.438293</td><td>2.087463</td><td>1.427606</td><td> 2.405992</td><td>⋯</td><td> 0.1375035</td><td> 0.3219281</td><td> 0.5360529</td><td> 0.63226822</td><td> 0.4541759</td><td> 0.2016339</td><td> 0.3448285</td><td> 0.2387869</td><td> 0.2265085</td><td>NKX6.1 </td></tr>\n",
       "\t<tr><th scope=row>PAX4</th><td>1.195348</td><td>1</td><td>1</td><td>1.669027</td><td>2.150560</td><td>1.669027</td><td>2.150560</td><td>1.883621</td><td>2.087463</td><td> 2.247928</td><td>⋯</td><td> 3.4554916</td><td> 0.6780719</td><td> 2.3015876</td><td> 1.50080205</td><td> 1.8073549</td><td> 0.5260688</td><td> 0.5945485</td><td> 1.0565835</td><td> 1.0285692</td><td>PAX4   </td></tr>\n",
       "\t<tr><th scope=row>PTF1a</th><td>1.263034</td><td>1</td><td>1</td><td>2.084064</td><td>2.232661</td><td>2.060047</td><td>1.682573</td><td>2.321928</td><td>1.887525</td><td> 2.629939</td><td>⋯</td><td> 1.3448285</td><td> 2.5134907</td><td> 5.6102867</td><td> 3.10601324</td><td> 3.5310695</td><td> 1.4168397</td><td> 2.0461418</td><td> 3.1043367</td><td> 2.5260688</td><td>PTF1a  </td></tr>\n",
       "\t<tr><th scope=row>PDX1</th><td>1.000000</td><td>1</td><td>1</td><td>4.490570</td><td>3.657640</td><td>4.738768</td><td>3.940167</td><td>2.817623</td><td>3.459432</td><td> 2.538538</td><td>⋯</td><td> 8.4089666</td><td> 5.4127815</td><td> 5.6351739</td><td> 5.15583017</td><td> 5.8001234</td><td> 4.5607150</td><td> 4.3512043</td><td> 5.6412570</td><td> 5.7112196</td><td>PDX1   </td></tr>\n",
       "\t<tr><th scope=row>10</th><td>1.000000</td><td>2</td><td>3</td><td>4.000000</td><td>5.000000</td><td>6.000000</td><td>7.000000</td><td>8.000000</td><td>9.000000</td><td>10.000000</td><td>⋯</td><td>44.0000000</td><td>45.0000000</td><td>46.0000000</td><td>47.00000000</td><td>48.0000000</td><td>49.0000000</td><td>50.0000000</td><td>51.0000000</td><td>52.0000000</td><td>53     </td></tr>\n",
       "</tbody>\n",
       "</table>\n"
      ],
      "text/latex": [
       "A data.frame: 10 × 53\n",
       "\\begin{tabular}{r|lllllllllllllllllllll}\n",
       "  & SC.1 & SC.2 & SC.3 & DE.1 & DE.2 & DE.3 & DE.4 & DE.1.1 & DE.2.1 & DE.3.1 & ⋯ & P5PP.2.1 & P5PE.1 & P5PE.2 & P5PE.3 & P5PE.4 & P5PE.1.1 & P5PE.2.1 & P5PE.3.1 & P5PE.4.1 & Gene\\\\\n",
       "  & <dbl> & <dbl> & <dbl> & <dbl> & <dbl> & <dbl> & <dbl> & <dbl> & <dbl> & <dbl> & ⋯ & <dbl> & <dbl> & <dbl> & <dbl> & <dbl> & <dbl> & <dbl> & <dbl> & <dbl> & <chr>\\\\\n",
       "\\hline\n",
       "\tHLXb9 & 1.709291 & 1 & 1 & 7.073606 & 5.559798 & 5.725469 & 7.150661 & 7.402842 & 6.678072 &  7.177420 & ⋯ &  6.3476657 &  3.3377111 &  3.8288346 &  3.49952702 &  5.3847406 &  2.4931349 &  2.6438562 &  3.3936908 &  5.0682409 & HLXb9  \\\\\n",
       "\tHHEX & 1.521051 & 1 & 1 & 3.576522 & 5.241077 & 3.576522 & 5.241077 & 3.589763 & 5.241077 &  4.753818 & ⋯ &  4.0746767 &  0.1505597 &  0.8479969 &  0.07038933 &  1.2203300 &  0.1243281 &  0.1110313 &  0.0976108 &  1.1375035 & HHEX   \\\\\n",
       "\tHNF4a & 1.956057 & 1 & 1 & 6.381629 & 5.148365 & 4.932156 & 5.988117 & 5.460415 & 4.199358 &  3.542258 & ⋯ &  8.4438967 &  6.8774989 &  6.8005117 &  7.26341006 &  6.6434233 &  7.9835067 &  7.7975967 &  7.2489712 &  7.9293176 & HNF4a  \\\\\n",
       "\tISL1 & 1.427606 & 1 & 1 & 4.804260 & 3.575312 & 4.804260 & 3.575312 & 5.358607 & 5.247168 &  5.547203 & ⋯ &  4.8659188 &  3.4776773 &  3.5945485 &  3.47767733 &  3.5945485 &  4.3334237 &  4.2750070 &  4.3334237 &  4.2750070 & ISL1   \\\\\n",
       "\tNEUROD1 & 2.201634 & 1 & 1 & 2.555816 & 2.833902 & 4.074677 & 4.536675 & 2.347666 & 2.353323 &  4.919340 & ⋯ &  7.4403709 &  7.6346659 &  7.4450976 &  6.39454844 &  7.6690977 &  6.5599506 &  7.8722131 &  6.9053268 &  7.5910361 & NEUROD1\\\\\n",
       "\tNKX6.1 & 1.063503 & 1 & 1 & 2.157044 & 2.438293 & 2.157044 & 2.438293 & 2.087463 & 1.427606 &  2.405992 & ⋯ &  0.1375035 &  0.3219281 &  0.5360529 &  0.63226822 &  0.4541759 &  0.2016339 &  0.3448285 &  0.2387869 &  0.2265085 & NKX6.1 \\\\\n",
       "\tPAX4 & 1.195348 & 1 & 1 & 1.669027 & 2.150560 & 1.669027 & 2.150560 & 1.883621 & 2.087463 &  2.247928 & ⋯ &  3.4554916 &  0.6780719 &  2.3015876 &  1.50080205 &  1.8073549 &  0.5260688 &  0.5945485 &  1.0565835 &  1.0285692 & PAX4   \\\\\n",
       "\tPTF1a & 1.263034 & 1 & 1 & 2.084064 & 2.232661 & 2.060047 & 1.682573 & 2.321928 & 1.887525 &  2.629939 & ⋯ &  1.3448285 &  2.5134907 &  5.6102867 &  3.10601324 &  3.5310695 &  1.4168397 &  2.0461418 &  3.1043367 &  2.5260688 & PTF1a  \\\\\n",
       "\tPDX1 & 1.000000 & 1 & 1 & 4.490570 & 3.657640 & 4.738768 & 3.940167 & 2.817623 & 3.459432 &  2.538538 & ⋯ &  8.4089666 &  5.4127815 &  5.6351739 &  5.15583017 &  5.8001234 &  4.5607150 &  4.3512043 &  5.6412570 &  5.7112196 & PDX1   \\\\\n",
       "\t10 & 1.000000 & 2 & 3 & 4.000000 & 5.000000 & 6.000000 & 7.000000 & 8.000000 & 9.000000 & 10.000000 & ⋯ & 44.0000000 & 45.0000000 & 46.0000000 & 47.00000000 & 48.0000000 & 49.0000000 & 50.0000000 & 51.0000000 & 52.0000000 & 53     \\\\\n",
       "\\end{tabular}\n"
      ],
      "text/markdown": [
       "\n",
       "A data.frame: 10 × 53\n",
       "\n",
       "| <!--/--> | SC.1 &lt;dbl&gt; | SC.2 &lt;dbl&gt; | SC.3 &lt;dbl&gt; | DE.1 &lt;dbl&gt; | DE.2 &lt;dbl&gt; | DE.3 &lt;dbl&gt; | DE.4 &lt;dbl&gt; | DE.1.1 &lt;dbl&gt; | DE.2.1 &lt;dbl&gt; | DE.3.1 &lt;dbl&gt; | ⋯ ⋯ | P5PP.2.1 &lt;dbl&gt; | P5PE.1 &lt;dbl&gt; | P5PE.2 &lt;dbl&gt; | P5PE.3 &lt;dbl&gt; | P5PE.4 &lt;dbl&gt; | P5PE.1.1 &lt;dbl&gt; | P5PE.2.1 &lt;dbl&gt; | P5PE.3.1 &lt;dbl&gt; | P5PE.4.1 &lt;dbl&gt; | Gene &lt;chr&gt; |\n",
       "|---|---|---|---|---|---|---|---|---|---|---|---|---|---|---|---|---|---|---|---|---|---|\n",
       "| HLXb9 | 1.709291 | 1 | 1 | 7.073606 | 5.559798 | 5.725469 | 7.150661 | 7.402842 | 6.678072 |  7.177420 | ⋯ |  6.3476657 |  3.3377111 |  3.8288346 |  3.49952702 |  5.3847406 |  2.4931349 |  2.6438562 |  3.3936908 |  5.0682409 | HLXb9   |\n",
       "| HHEX | 1.521051 | 1 | 1 | 3.576522 | 5.241077 | 3.576522 | 5.241077 | 3.589763 | 5.241077 |  4.753818 | ⋯ |  4.0746767 |  0.1505597 |  0.8479969 |  0.07038933 |  1.2203300 |  0.1243281 |  0.1110313 |  0.0976108 |  1.1375035 | HHEX    |\n",
       "| HNF4a | 1.956057 | 1 | 1 | 6.381629 | 5.148365 | 4.932156 | 5.988117 | 5.460415 | 4.199358 |  3.542258 | ⋯ |  8.4438967 |  6.8774989 |  6.8005117 |  7.26341006 |  6.6434233 |  7.9835067 |  7.7975967 |  7.2489712 |  7.9293176 | HNF4a   |\n",
       "| ISL1 | 1.427606 | 1 | 1 | 4.804260 | 3.575312 | 4.804260 | 3.575312 | 5.358607 | 5.247168 |  5.547203 | ⋯ |  4.8659188 |  3.4776773 |  3.5945485 |  3.47767733 |  3.5945485 |  4.3334237 |  4.2750070 |  4.3334237 |  4.2750070 | ISL1    |\n",
       "| NEUROD1 | 2.201634 | 1 | 1 | 2.555816 | 2.833902 | 4.074677 | 4.536675 | 2.347666 | 2.353323 |  4.919340 | ⋯ |  7.4403709 |  7.6346659 |  7.4450976 |  6.39454844 |  7.6690977 |  6.5599506 |  7.8722131 |  6.9053268 |  7.5910361 | NEUROD1 |\n",
       "| NKX6.1 | 1.063503 | 1 | 1 | 2.157044 | 2.438293 | 2.157044 | 2.438293 | 2.087463 | 1.427606 |  2.405992 | ⋯ |  0.1375035 |  0.3219281 |  0.5360529 |  0.63226822 |  0.4541759 |  0.2016339 |  0.3448285 |  0.2387869 |  0.2265085 | NKX6.1  |\n",
       "| PAX4 | 1.195348 | 1 | 1 | 1.669027 | 2.150560 | 1.669027 | 2.150560 | 1.883621 | 2.087463 |  2.247928 | ⋯ |  3.4554916 |  0.6780719 |  2.3015876 |  1.50080205 |  1.8073549 |  0.5260688 |  0.5945485 |  1.0565835 |  1.0285692 | PAX4    |\n",
       "| PTF1a | 1.263034 | 1 | 1 | 2.084064 | 2.232661 | 2.060047 | 1.682573 | 2.321928 | 1.887525 |  2.629939 | ⋯ |  1.3448285 |  2.5134907 |  5.6102867 |  3.10601324 |  3.5310695 |  1.4168397 |  2.0461418 |  3.1043367 |  2.5260688 | PTF1a   |\n",
       "| PDX1 | 1.000000 | 1 | 1 | 4.490570 | 3.657640 | 4.738768 | 3.940167 | 2.817623 | 3.459432 |  2.538538 | ⋯ |  8.4089666 |  5.4127815 |  5.6351739 |  5.15583017 |  5.8001234 |  4.5607150 |  4.3512043 |  5.6412570 |  5.7112196 | PDX1    |\n",
       "| 10 | 1.000000 | 2 | 3 | 4.000000 | 5.000000 | 6.000000 | 7.000000 | 8.000000 | 9.000000 | 10.000000 | ⋯ | 44.0000000 | 45.0000000 | 46.0000000 | 47.00000000 | 48.0000000 | 49.0000000 | 50.0000000 | 51.0000000 | 52.0000000 | 53      |\n",
       "\n"
      ],
      "text/plain": [
       "        SC.1     SC.2 SC.3 DE.1     DE.2     DE.3     DE.4     DE.1.1  \n",
       "HLXb9   1.709291 1    1    7.073606 5.559798 5.725469 7.150661 7.402842\n",
       "HHEX    1.521051 1    1    3.576522 5.241077 3.576522 5.241077 3.589763\n",
       "HNF4a   1.956057 1    1    6.381629 5.148365 4.932156 5.988117 5.460415\n",
       "ISL1    1.427606 1    1    4.804260 3.575312 4.804260 3.575312 5.358607\n",
       "NEUROD1 2.201634 1    1    2.555816 2.833902 4.074677 4.536675 2.347666\n",
       "NKX6.1  1.063503 1    1    2.157044 2.438293 2.157044 2.438293 2.087463\n",
       "PAX4    1.195348 1    1    1.669027 2.150560 1.669027 2.150560 1.883621\n",
       "PTF1a   1.263034 1    1    2.084064 2.232661 2.060047 1.682573 2.321928\n",
       "PDX1    1.000000 1    1    4.490570 3.657640 4.738768 3.940167 2.817623\n",
       "10      1.000000 2    3    4.000000 5.000000 6.000000 7.000000 8.000000\n",
       "        DE.2.1   DE.3.1    ⋯ P5PP.2.1   P5PE.1     P5PE.2     P5PE.3     \n",
       "HLXb9   6.678072  7.177420 ⋯  6.3476657  3.3377111  3.8288346  3.49952702\n",
       "HHEX    5.241077  4.753818 ⋯  4.0746767  0.1505597  0.8479969  0.07038933\n",
       "HNF4a   4.199358  3.542258 ⋯  8.4438967  6.8774989  6.8005117  7.26341006\n",
       "ISL1    5.247168  5.547203 ⋯  4.8659188  3.4776773  3.5945485  3.47767733\n",
       "NEUROD1 2.353323  4.919340 ⋯  7.4403709  7.6346659  7.4450976  6.39454844\n",
       "NKX6.1  1.427606  2.405992 ⋯  0.1375035  0.3219281  0.5360529  0.63226822\n",
       "PAX4    2.087463  2.247928 ⋯  3.4554916  0.6780719  2.3015876  1.50080205\n",
       "PTF1a   1.887525  2.629939 ⋯  1.3448285  2.5134907  5.6102867  3.10601324\n",
       "PDX1    3.459432  2.538538 ⋯  8.4089666  5.4127815  5.6351739  5.15583017\n",
       "10      9.000000 10.000000 ⋯ 44.0000000 45.0000000 46.0000000 47.00000000\n",
       "        P5PE.4     P5PE.1.1   P5PE.2.1   P5PE.3.1   P5PE.4.1   Gene   \n",
       "HLXb9    5.3847406  2.4931349  2.6438562  3.3936908  5.0682409 HLXb9  \n",
       "HHEX     1.2203300  0.1243281  0.1110313  0.0976108  1.1375035 HHEX   \n",
       "HNF4a    6.6434233  7.9835067  7.7975967  7.2489712  7.9293176 HNF4a  \n",
       "ISL1     3.5945485  4.3334237  4.2750070  4.3334237  4.2750070 ISL1   \n",
       "NEUROD1  7.6690977  6.5599506  7.8722131  6.9053268  7.5910361 NEUROD1\n",
       "NKX6.1   0.4541759  0.2016339  0.3448285  0.2387869  0.2265085 NKX6.1 \n",
       "PAX4     1.8073549  0.5260688  0.5945485  1.0565835  1.0285692 PAX4   \n",
       "PTF1a    3.5310695  1.4168397  2.0461418  3.1043367  2.5260688 PTF1a  \n",
       "PDX1     5.8001234  4.5607150  4.3512043  5.6412570  5.7112196 PDX1   \n",
       "10      48.0000000 49.0000000 50.0000000 51.0000000 52.0000000 53     "
      ]
     },
     "metadata": {},
     "output_type": "display_data"
    },
    {
     "data": {
      "text/html": [
       "<table class=\"dataframe\">\n",
       "<caption>A data.frame: 10 × 53</caption>\n",
       "<thead>\n",
       "\t<tr><th></th><th scope=col>SC.1</th><th scope=col>SC.2</th><th scope=col>SC.3</th><th scope=col>DE.1</th><th scope=col>DE.2</th><th scope=col>DE.3</th><th scope=col>DE.4</th><th scope=col>DE.1.1</th><th scope=col>DE.2.1</th><th scope=col>DE.3.1</th><th scope=col>⋯</th><th scope=col>P5PP.2.1</th><th scope=col>P5PE.1</th><th scope=col>P5PE.2</th><th scope=col>P5PE.3</th><th scope=col>P5PE.4</th><th scope=col>P5PE.1.1</th><th scope=col>P5PE.2.1</th><th scope=col>P5PE.3.1</th><th scope=col>P5PE.4.1</th><th scope=col>Gene</th></tr>\n",
       "\t<tr><th></th><th scope=col>&lt;chr&gt;</th><th scope=col>&lt;chr&gt;</th><th scope=col>&lt;chr&gt;</th><th scope=col>&lt;chr&gt;</th><th scope=col>&lt;chr&gt;</th><th scope=col>&lt;chr&gt;</th><th scope=col>&lt;chr&gt;</th><th scope=col>&lt;chr&gt;</th><th scope=col>&lt;chr&gt;</th><th scope=col>&lt;chr&gt;</th><th scope=col>⋯</th><th scope=col>&lt;chr&gt;</th><th scope=col>&lt;chr&gt;</th><th scope=col>&lt;chr&gt;</th><th scope=col>&lt;chr&gt;</th><th scope=col>&lt;chr&gt;</th><th scope=col>&lt;chr&gt;</th><th scope=col>&lt;chr&gt;</th><th scope=col>&lt;chr&gt;</th><th scope=col>&lt;chr&gt;</th><th scope=col>&lt;chr&gt;</th></tr>\n",
       "</thead>\n",
       "<tbody>\n",
       "\t<tr><th scope=row>HLXb9</th><td>1.70929063572336</td><td>1</td><td>1</td><td>7.07360604057494</td><td>5.55979769575487</td><td>5.72546851263261</td><td>7.15066121403827</td><td>7.40284153255129</td><td>6.67807190511264</td><td>7.17741953798924</td><td>⋯</td><td>6.34766565630097 </td><td>3.33771109212829 </td><td>3.82883464946806</td><td>3.4995270242151  </td><td>5.38474058729238 </td><td>2.4931349223055  </td><td>2.64385618977472 </td><td>3.39369076418745  </td><td>5.06824086131282</td><td>HLXb9  </td></tr>\n",
       "\t<tr><th scope=row>HHEX</th><td>1.52105073690096</td><td>1</td><td>1</td><td>3.5765221379205 </td><td>5.24107745817504</td><td>3.5765221379205 </td><td>5.24107745817504</td><td>3.58976348698498</td><td>5.24107745817504</td><td>4.75381844317354</td><td>⋯</td><td>4.0746766862945  </td><td>0.150559676575381</td><td>0.84799690655495</td><td>0.070389327891398</td><td>1.22032995487956 </td><td>0.124328135002202</td><td>0.111031312388744</td><td>0.0976107966264223</td><td>1.13750352374994</td><td>HHEX   </td></tr>\n",
       "\t<tr><th scope=row>HNF4a</th><td>1.9560566524124 </td><td>1</td><td>1</td><td>6.38162946703366</td><td>5.14836472130996</td><td>4.93215568443206</td><td>5.98811658476014</td><td>5.46041493916217</td><td>4.19935825458511</td><td>3.54225804976692</td><td>⋯</td><td>8.44389668623545 </td><td>6.87749887278353 </td><td>6.80051167862158</td><td>7.26341005875634 </td><td>6.64342331632819 </td><td>7.98350669510787 </td><td>7.79759668417008 </td><td>7.24897119146416  </td><td>7.92931759491176</td><td>HNF4a  </td></tr>\n",
       "\t<tr><th scope=row>ISL1</th><td>1.4276061727819 </td><td>1</td><td>1</td><td>4.80426011563474</td><td>3.57531233068744</td><td>4.80426011563474</td><td>3.57531233068744</td><td>5.35860724911781</td><td>5.24716800037477</td><td>5.54720302475693</td><td>⋯</td><td>4.86591881455221 </td><td>3.47767732756531 </td><td>3.59454854955035</td><td>3.47767732756531 </td><td>3.59454854955035 </td><td>4.33342373372519 </td><td>4.27500704749987 </td><td>4.33342373372519  </td><td>4.27500704749987</td><td>ISL1   </td></tr>\n",
       "\t<tr><th scope=row>NEUROD1</th><td>2.20163386116965</td><td>1</td><td>1</td><td>2.55581615506164</td><td>2.83390207666916</td><td>4.0746766862945 </td><td>4.53667461756976</td><td>2.34766565630097</td><td>2.3533232911629 </td><td>4.91934008244201</td><td>⋯</td><td>7.44037088472281 </td><td>7.63466586600727 </td><td>7.44509763804318</td><td>6.39454843916717 </td><td>7.66909765090657 </td><td>6.55995061271308 </td><td>7.87221314397577 </td><td>6.90532682878751  </td><td>7.59103606798305</td><td>NEUROD1</td></tr>\n",
       "\t<tr><th scope=row>NKX6.1</th><td>1.06350294230616</td><td>1</td><td>1</td><td>2.15704371014558</td><td>2.43829285157915</td><td>2.15704371014558</td><td>2.43829285157915</td><td>2.08746284125034</td><td>1.4276061727819 </td><td>2.40599235967584</td><td>⋯</td><td>0.137503523749935</td><td>0.321928094887362</td><td>0.53605290024021</td><td>0.632268215499513</td><td>0.454175893185802</td><td>0.20163386116965 </td><td>0.344828496997441</td><td>0.238786859587116 </td><td>0.22650852980868</td><td>NKX6.1 </td></tr>\n",
       "\t<tr><th scope=row>PAX4</th><td>1.19534759832222</td><td>1</td><td>1</td><td>1.66902676550963</td><td>2.15055967657538</td><td>1.66902676550963</td><td>2.15055967657538</td><td>1.88362081628567</td><td>2.08746284125034</td><td>2.24792751344359</td><td>⋯</td><td>3.45549162062847 </td><td>0.678071905112638</td><td>2.30158764660319</td><td>1.50080205305716 </td><td>1.8073549220576  </td><td>0.526068811667588</td><td>0.594548549550354</td><td>1.05658352836637  </td><td>1.02856915219677</td><td>PAX4   </td></tr>\n",
       "\t<tr><th scope=row>PTF1a</th><td>1.26303440583379</td><td>1</td><td>1</td><td>2.08406426478847</td><td>2.23266075679027</td><td>2.06004738366994</td><td>1.68257329734758</td><td>2.32192809488736</td><td>1.88752527074159</td><td>2.62993940943954</td><td>⋯</td><td>1.34482849699744 </td><td>2.51349074558812 </td><td>5.61028665708102</td><td>3.10601323762212 </td><td>3.53106949272595 </td><td>1.41683974191283 </td><td>2.04614178164472 </td><td>3.10433665981474  </td><td>2.52606881166759</td><td>PTF1a  </td></tr>\n",
       "\t<tr><th scope=row>PDX1</th><td>1               </td><td>1</td><td>1</td><td>4.4905701304462 </td><td>3.65764000520782</td><td>4.73876783680019</td><td>3.94016675048282</td><td>2.81762325751143</td><td>3.4594316186373 </td><td>2.5385381636298 </td><td>⋯</td><td>8.40896655165431 </td><td>5.41278152533848 </td><td>5.63517394667492</td><td>5.15583017155653 </td><td>5.80012335282653 </td><td>4.56071495447448 </td><td>4.35120427725799 </td><td>5.64125699872677  </td><td>5.71121955689433</td><td>PDX1   </td></tr>\n",
       "\t<tr><th scope=row>10</th><td>a               </td><td>a</td><td>a</td><td>a               </td><td>a               </td><td>a               </td><td>a               </td><td>a               </td><td>a               </td><td>a               </td><td>⋯</td><td>a                </td><td>a                </td><td>a               </td><td>a                </td><td>a                </td><td>a                </td><td>a                </td><td>a                 </td><td>a               </td><td>a      </td></tr>\n",
       "</tbody>\n",
       "</table>\n"
      ],
      "text/latex": [
       "A data.frame: 10 × 53\n",
       "\\begin{tabular}{r|lllllllllllllllllllll}\n",
       "  & SC.1 & SC.2 & SC.3 & DE.1 & DE.2 & DE.3 & DE.4 & DE.1.1 & DE.2.1 & DE.3.1 & ⋯ & P5PP.2.1 & P5PE.1 & P5PE.2 & P5PE.3 & P5PE.4 & P5PE.1.1 & P5PE.2.1 & P5PE.3.1 & P5PE.4.1 & Gene\\\\\n",
       "  & <chr> & <chr> & <chr> & <chr> & <chr> & <chr> & <chr> & <chr> & <chr> & <chr> & ⋯ & <chr> & <chr> & <chr> & <chr> & <chr> & <chr> & <chr> & <chr> & <chr> & <chr>\\\\\n",
       "\\hline\n",
       "\tHLXb9 & 1.70929063572336 & 1 & 1 & 7.07360604057494 & 5.55979769575487 & 5.72546851263261 & 7.15066121403827 & 7.40284153255129 & 6.67807190511264 & 7.17741953798924 & ⋯ & 6.34766565630097  & 3.33771109212829  & 3.82883464946806 & 3.4995270242151   & 5.38474058729238  & 2.4931349223055   & 2.64385618977472  & 3.39369076418745   & 5.06824086131282 & HLXb9  \\\\\n",
       "\tHHEX & 1.52105073690096 & 1 & 1 & 3.5765221379205  & 5.24107745817504 & 3.5765221379205  & 5.24107745817504 & 3.58976348698498 & 5.24107745817504 & 4.75381844317354 & ⋯ & 4.0746766862945   & 0.150559676575381 & 0.84799690655495 & 0.070389327891398 & 1.22032995487956  & 0.124328135002202 & 0.111031312388744 & 0.0976107966264223 & 1.13750352374994 & HHEX   \\\\\n",
       "\tHNF4a & 1.9560566524124  & 1 & 1 & 6.38162946703366 & 5.14836472130996 & 4.93215568443206 & 5.98811658476014 & 5.46041493916217 & 4.19935825458511 & 3.54225804976692 & ⋯ & 8.44389668623545  & 6.87749887278353  & 6.80051167862158 & 7.26341005875634  & 6.64342331632819  & 7.98350669510787  & 7.79759668417008  & 7.24897119146416   & 7.92931759491176 & HNF4a  \\\\\n",
       "\tISL1 & 1.4276061727819  & 1 & 1 & 4.80426011563474 & 3.57531233068744 & 4.80426011563474 & 3.57531233068744 & 5.35860724911781 & 5.24716800037477 & 5.54720302475693 & ⋯ & 4.86591881455221  & 3.47767732756531  & 3.59454854955035 & 3.47767732756531  & 3.59454854955035  & 4.33342373372519  & 4.27500704749987  & 4.33342373372519   & 4.27500704749987 & ISL1   \\\\\n",
       "\tNEUROD1 & 2.20163386116965 & 1 & 1 & 2.55581615506164 & 2.83390207666916 & 4.0746766862945  & 4.53667461756976 & 2.34766565630097 & 2.3533232911629  & 4.91934008244201 & ⋯ & 7.44037088472281  & 7.63466586600727  & 7.44509763804318 & 6.39454843916717  & 7.66909765090657  & 6.55995061271308  & 7.87221314397577  & 6.90532682878751   & 7.59103606798305 & NEUROD1\\\\\n",
       "\tNKX6.1 & 1.06350294230616 & 1 & 1 & 2.15704371014558 & 2.43829285157915 & 2.15704371014558 & 2.43829285157915 & 2.08746284125034 & 1.4276061727819  & 2.40599235967584 & ⋯ & 0.137503523749935 & 0.321928094887362 & 0.53605290024021 & 0.632268215499513 & 0.454175893185802 & 0.20163386116965  & 0.344828496997441 & 0.238786859587116  & 0.22650852980868 & NKX6.1 \\\\\n",
       "\tPAX4 & 1.19534759832222 & 1 & 1 & 1.66902676550963 & 2.15055967657538 & 1.66902676550963 & 2.15055967657538 & 1.88362081628567 & 2.08746284125034 & 2.24792751344359 & ⋯ & 3.45549162062847  & 0.678071905112638 & 2.30158764660319 & 1.50080205305716  & 1.8073549220576   & 0.526068811667588 & 0.594548549550354 & 1.05658352836637   & 1.02856915219677 & PAX4   \\\\\n",
       "\tPTF1a & 1.26303440583379 & 1 & 1 & 2.08406426478847 & 2.23266075679027 & 2.06004738366994 & 1.68257329734758 & 2.32192809488736 & 1.88752527074159 & 2.62993940943954 & ⋯ & 1.34482849699744  & 2.51349074558812  & 5.61028665708102 & 3.10601323762212  & 3.53106949272595  & 1.41683974191283  & 2.04614178164472  & 3.10433665981474   & 2.52606881166759 & PTF1a  \\\\\n",
       "\tPDX1 & 1                & 1 & 1 & 4.4905701304462  & 3.65764000520782 & 4.73876783680019 & 3.94016675048282 & 2.81762325751143 & 3.4594316186373  & 2.5385381636298  & ⋯ & 8.40896655165431  & 5.41278152533848  & 5.63517394667492 & 5.15583017155653  & 5.80012335282653  & 4.56071495447448  & 4.35120427725799  & 5.64125699872677   & 5.71121955689433 & PDX1   \\\\\n",
       "\t10 & a                & a & a & a                & a                & a                & a                & a                & a                & a                & ⋯ & a                 & a                 & a                & a                 & a                 & a                 & a                 & a                  & a                & a      \\\\\n",
       "\\end{tabular}\n"
      ],
      "text/markdown": [
       "\n",
       "A data.frame: 10 × 53\n",
       "\n",
       "| <!--/--> | SC.1 &lt;chr&gt; | SC.2 &lt;chr&gt; | SC.3 &lt;chr&gt; | DE.1 &lt;chr&gt; | DE.2 &lt;chr&gt; | DE.3 &lt;chr&gt; | DE.4 &lt;chr&gt; | DE.1.1 &lt;chr&gt; | DE.2.1 &lt;chr&gt; | DE.3.1 &lt;chr&gt; | ⋯ ⋯ | P5PP.2.1 &lt;chr&gt; | P5PE.1 &lt;chr&gt; | P5PE.2 &lt;chr&gt; | P5PE.3 &lt;chr&gt; | P5PE.4 &lt;chr&gt; | P5PE.1.1 &lt;chr&gt; | P5PE.2.1 &lt;chr&gt; | P5PE.3.1 &lt;chr&gt; | P5PE.4.1 &lt;chr&gt; | Gene &lt;chr&gt; |\n",
       "|---|---|---|---|---|---|---|---|---|---|---|---|---|---|---|---|---|---|---|---|---|---|\n",
       "| HLXb9 | 1.70929063572336 | 1 | 1 | 7.07360604057494 | 5.55979769575487 | 5.72546851263261 | 7.15066121403827 | 7.40284153255129 | 6.67807190511264 | 7.17741953798924 | ⋯ | 6.34766565630097  | 3.33771109212829  | 3.82883464946806 | 3.4995270242151   | 5.38474058729238  | 2.4931349223055   | 2.64385618977472  | 3.39369076418745   | 5.06824086131282 | HLXb9   |\n",
       "| HHEX | 1.52105073690096 | 1 | 1 | 3.5765221379205  | 5.24107745817504 | 3.5765221379205  | 5.24107745817504 | 3.58976348698498 | 5.24107745817504 | 4.75381844317354 | ⋯ | 4.0746766862945   | 0.150559676575381 | 0.84799690655495 | 0.070389327891398 | 1.22032995487956  | 0.124328135002202 | 0.111031312388744 | 0.0976107966264223 | 1.13750352374994 | HHEX    |\n",
       "| HNF4a | 1.9560566524124  | 1 | 1 | 6.38162946703366 | 5.14836472130996 | 4.93215568443206 | 5.98811658476014 | 5.46041493916217 | 4.19935825458511 | 3.54225804976692 | ⋯ | 8.44389668623545  | 6.87749887278353  | 6.80051167862158 | 7.26341005875634  | 6.64342331632819  | 7.98350669510787  | 7.79759668417008  | 7.24897119146416   | 7.92931759491176 | HNF4a   |\n",
       "| ISL1 | 1.4276061727819  | 1 | 1 | 4.80426011563474 | 3.57531233068744 | 4.80426011563474 | 3.57531233068744 | 5.35860724911781 | 5.24716800037477 | 5.54720302475693 | ⋯ | 4.86591881455221  | 3.47767732756531  | 3.59454854955035 | 3.47767732756531  | 3.59454854955035  | 4.33342373372519  | 4.27500704749987  | 4.33342373372519   | 4.27500704749987 | ISL1    |\n",
       "| NEUROD1 | 2.20163386116965 | 1 | 1 | 2.55581615506164 | 2.83390207666916 | 4.0746766862945  | 4.53667461756976 | 2.34766565630097 | 2.3533232911629  | 4.91934008244201 | ⋯ | 7.44037088472281  | 7.63466586600727  | 7.44509763804318 | 6.39454843916717  | 7.66909765090657  | 6.55995061271308  | 7.87221314397577  | 6.90532682878751   | 7.59103606798305 | NEUROD1 |\n",
       "| NKX6.1 | 1.06350294230616 | 1 | 1 | 2.15704371014558 | 2.43829285157915 | 2.15704371014558 | 2.43829285157915 | 2.08746284125034 | 1.4276061727819  | 2.40599235967584 | ⋯ | 0.137503523749935 | 0.321928094887362 | 0.53605290024021 | 0.632268215499513 | 0.454175893185802 | 0.20163386116965  | 0.344828496997441 | 0.238786859587116  | 0.22650852980868 | NKX6.1  |\n",
       "| PAX4 | 1.19534759832222 | 1 | 1 | 1.66902676550963 | 2.15055967657538 | 1.66902676550963 | 2.15055967657538 | 1.88362081628567 | 2.08746284125034 | 2.24792751344359 | ⋯ | 3.45549162062847  | 0.678071905112638 | 2.30158764660319 | 1.50080205305716  | 1.8073549220576   | 0.526068811667588 | 0.594548549550354 | 1.05658352836637   | 1.02856915219677 | PAX4    |\n",
       "| PTF1a | 1.26303440583379 | 1 | 1 | 2.08406426478847 | 2.23266075679027 | 2.06004738366994 | 1.68257329734758 | 2.32192809488736 | 1.88752527074159 | 2.62993940943954 | ⋯ | 1.34482849699744  | 2.51349074558812  | 5.61028665708102 | 3.10601323762212  | 3.53106949272595  | 1.41683974191283  | 2.04614178164472  | 3.10433665981474   | 2.52606881166759 | PTF1a   |\n",
       "| PDX1 | 1                | 1 | 1 | 4.4905701304462  | 3.65764000520782 | 4.73876783680019 | 3.94016675048282 | 2.81762325751143 | 3.4594316186373  | 2.5385381636298  | ⋯ | 8.40896655165431  | 5.41278152533848  | 5.63517394667492 | 5.15583017155653  | 5.80012335282653  | 4.56071495447448  | 4.35120427725799  | 5.64125699872677   | 5.71121955689433 | PDX1    |\n",
       "| 10 | a                | a | a | a                | a                | a                | a                | a                | a                | a                | ⋯ | a                 | a                 | a                | a                 | a                 | a                 | a                 | a                  | a                | a       |\n",
       "\n"
      ],
      "text/plain": [
       "        SC.1             SC.2 SC.3 DE.1             DE.2            \n",
       "HLXb9   1.70929063572336 1    1    7.07360604057494 5.55979769575487\n",
       "HHEX    1.52105073690096 1    1    3.5765221379205  5.24107745817504\n",
       "HNF4a   1.9560566524124  1    1    6.38162946703366 5.14836472130996\n",
       "ISL1    1.4276061727819  1    1    4.80426011563474 3.57531233068744\n",
       "NEUROD1 2.20163386116965 1    1    2.55581615506164 2.83390207666916\n",
       "NKX6.1  1.06350294230616 1    1    2.15704371014558 2.43829285157915\n",
       "PAX4    1.19534759832222 1    1    1.66902676550963 2.15055967657538\n",
       "PTF1a   1.26303440583379 1    1    2.08406426478847 2.23266075679027\n",
       "PDX1    1                1    1    4.4905701304462  3.65764000520782\n",
       "10      a                a    a    a                a               \n",
       "        DE.3             DE.4             DE.1.1           DE.2.1          \n",
       "HLXb9   5.72546851263261 7.15066121403827 7.40284153255129 6.67807190511264\n",
       "HHEX    3.5765221379205  5.24107745817504 3.58976348698498 5.24107745817504\n",
       "HNF4a   4.93215568443206 5.98811658476014 5.46041493916217 4.19935825458511\n",
       "ISL1    4.80426011563474 3.57531233068744 5.35860724911781 5.24716800037477\n",
       "NEUROD1 4.0746766862945  4.53667461756976 2.34766565630097 2.3533232911629 \n",
       "NKX6.1  2.15704371014558 2.43829285157915 2.08746284125034 1.4276061727819 \n",
       "PAX4    1.66902676550963 2.15055967657538 1.88362081628567 2.08746284125034\n",
       "PTF1a   2.06004738366994 1.68257329734758 2.32192809488736 1.88752527074159\n",
       "PDX1    4.73876783680019 3.94016675048282 2.81762325751143 3.4594316186373 \n",
       "10      a                a                a                a               \n",
       "        DE.3.1           ⋯ P5PP.2.1          P5PE.1            P5PE.2          \n",
       "HLXb9   7.17741953798924 ⋯ 6.34766565630097  3.33771109212829  3.82883464946806\n",
       "HHEX    4.75381844317354 ⋯ 4.0746766862945   0.150559676575381 0.84799690655495\n",
       "HNF4a   3.54225804976692 ⋯ 8.44389668623545  6.87749887278353  6.80051167862158\n",
       "ISL1    5.54720302475693 ⋯ 4.86591881455221  3.47767732756531  3.59454854955035\n",
       "NEUROD1 4.91934008244201 ⋯ 7.44037088472281  7.63466586600727  7.44509763804318\n",
       "NKX6.1  2.40599235967584 ⋯ 0.137503523749935 0.321928094887362 0.53605290024021\n",
       "PAX4    2.24792751344359 ⋯ 3.45549162062847  0.678071905112638 2.30158764660319\n",
       "PTF1a   2.62993940943954 ⋯ 1.34482849699744  2.51349074558812  5.61028665708102\n",
       "PDX1    2.5385381636298  ⋯ 8.40896655165431  5.41278152533848  5.63517394667492\n",
       "10      a                ⋯ a                 a                 a               \n",
       "        P5PE.3            P5PE.4            P5PE.1.1          P5PE.2.1         \n",
       "HLXb9   3.4995270242151   5.38474058729238  2.4931349223055   2.64385618977472 \n",
       "HHEX    0.070389327891398 1.22032995487956  0.124328135002202 0.111031312388744\n",
       "HNF4a   7.26341005875634  6.64342331632819  7.98350669510787  7.79759668417008 \n",
       "ISL1    3.47767732756531  3.59454854955035  4.33342373372519  4.27500704749987 \n",
       "NEUROD1 6.39454843916717  7.66909765090657  6.55995061271308  7.87221314397577 \n",
       "NKX6.1  0.632268215499513 0.454175893185802 0.20163386116965  0.344828496997441\n",
       "PAX4    1.50080205305716  1.8073549220576   0.526068811667588 0.594548549550354\n",
       "PTF1a   3.10601323762212  3.53106949272595  1.41683974191283  2.04614178164472 \n",
       "PDX1    5.15583017155653  5.80012335282653  4.56071495447448  4.35120427725799 \n",
       "10      a                 a                 a                 a                \n",
       "        P5PE.3.1           P5PE.4.1         Gene   \n",
       "HLXb9   3.39369076418745   5.06824086131282 HLXb9  \n",
       "HHEX    0.0976107966264223 1.13750352374994 HHEX   \n",
       "HNF4a   7.24897119146416   7.92931759491176 HNF4a  \n",
       "ISL1    4.33342373372519   4.27500704749987 ISL1   \n",
       "NEUROD1 6.90532682878751   7.59103606798305 NEUROD1\n",
       "NKX6.1  0.238786859587116  0.22650852980868 NKX6.1 \n",
       "PAX4    1.05658352836637   1.02856915219677 PAX4   \n",
       "PTF1a   3.10433665981474   2.52606881166759 PTF1a  \n",
       "PDX1    5.64125699872677   5.71121955689433 PDX1   \n",
       "10      a                  a                a      "
      ]
     },
     "metadata": {},
     "output_type": "display_data"
    },
    {
     "data": {
      "text/html": [
       "<table class=\"dataframe\">\n",
       "<caption>A data.frame: 9 × 54</caption>\n",
       "<thead>\n",
       "\t<tr><th></th><th scope=col>SC.1</th><th scope=col>SC.2</th><th scope=col>SC.3</th><th scope=col>DE.1</th><th scope=col>DE.2</th><th scope=col>DE.3</th><th scope=col>DE.4</th><th scope=col>DE.1.1</th><th scope=col>DE.2.1</th><th scope=col>DE.3.1</th><th scope=col>⋯</th><th scope=col>P5PE.1</th><th scope=col>P5PE.2</th><th scope=col>P5PE.3</th><th scope=col>P5PE.4</th><th scope=col>P5PE.1.1</th><th scope=col>P5PE.2.1</th><th scope=col>P5PE.3.1</th><th scope=col>P5PE.4.1</th><th scope=col>Gene</th><th scope=col>1:9</th></tr>\n",
       "\t<tr><th></th><th scope=col>&lt;dbl&gt;</th><th scope=col>&lt;dbl&gt;</th><th scope=col>&lt;dbl&gt;</th><th scope=col>&lt;dbl&gt;</th><th scope=col>&lt;dbl&gt;</th><th scope=col>&lt;dbl&gt;</th><th scope=col>&lt;dbl&gt;</th><th scope=col>&lt;dbl&gt;</th><th scope=col>&lt;dbl&gt;</th><th scope=col>&lt;dbl&gt;</th><th scope=col>⋯</th><th scope=col>&lt;dbl&gt;</th><th scope=col>&lt;dbl&gt;</th><th scope=col>&lt;dbl&gt;</th><th scope=col>&lt;dbl&gt;</th><th scope=col>&lt;dbl&gt;</th><th scope=col>&lt;dbl&gt;</th><th scope=col>&lt;dbl&gt;</th><th scope=col>&lt;dbl&gt;</th><th scope=col>&lt;chr&gt;</th><th scope=col>&lt;int&gt;</th></tr>\n",
       "</thead>\n",
       "<tbody>\n",
       "\t<tr><th scope=row>HLXb9</th><td>1.709291</td><td>1</td><td>1</td><td>7.073606</td><td>5.559798</td><td>5.725469</td><td>7.150661</td><td>7.402842</td><td>6.678072</td><td>7.177420</td><td>⋯</td><td>3.3377111</td><td>3.8288346</td><td>3.49952702</td><td>5.3847406</td><td>2.4931349</td><td>2.6438562</td><td>3.3936908</td><td>5.0682409</td><td>HLXb9  </td><td>1</td></tr>\n",
       "\t<tr><th scope=row>HHEX</th><td>1.521051</td><td>1</td><td>1</td><td>3.576522</td><td>5.241077</td><td>3.576522</td><td>5.241077</td><td>3.589763</td><td>5.241077</td><td>4.753818</td><td>⋯</td><td>0.1505597</td><td>0.8479969</td><td>0.07038933</td><td>1.2203300</td><td>0.1243281</td><td>0.1110313</td><td>0.0976108</td><td>1.1375035</td><td>HHEX   </td><td>2</td></tr>\n",
       "\t<tr><th scope=row>HNF4a</th><td>1.956057</td><td>1</td><td>1</td><td>6.381629</td><td>5.148365</td><td>4.932156</td><td>5.988117</td><td>5.460415</td><td>4.199358</td><td>3.542258</td><td>⋯</td><td>6.8774989</td><td>6.8005117</td><td>7.26341006</td><td>6.6434233</td><td>7.9835067</td><td>7.7975967</td><td>7.2489712</td><td>7.9293176</td><td>HNF4a  </td><td>3</td></tr>\n",
       "\t<tr><th scope=row>ISL1</th><td>1.427606</td><td>1</td><td>1</td><td>4.804260</td><td>3.575312</td><td>4.804260</td><td>3.575312</td><td>5.358607</td><td>5.247168</td><td>5.547203</td><td>⋯</td><td>3.4776773</td><td>3.5945485</td><td>3.47767733</td><td>3.5945485</td><td>4.3334237</td><td>4.2750070</td><td>4.3334237</td><td>4.2750070</td><td>ISL1   </td><td>4</td></tr>\n",
       "\t<tr><th scope=row>NEUROD1</th><td>2.201634</td><td>1</td><td>1</td><td>2.555816</td><td>2.833902</td><td>4.074677</td><td>4.536675</td><td>2.347666</td><td>2.353323</td><td>4.919340</td><td>⋯</td><td>7.6346659</td><td>7.4450976</td><td>6.39454844</td><td>7.6690977</td><td>6.5599506</td><td>7.8722131</td><td>6.9053268</td><td>7.5910361</td><td>NEUROD1</td><td>5</td></tr>\n",
       "\t<tr><th scope=row>NKX6.1</th><td>1.063503</td><td>1</td><td>1</td><td>2.157044</td><td>2.438293</td><td>2.157044</td><td>2.438293</td><td>2.087463</td><td>1.427606</td><td>2.405992</td><td>⋯</td><td>0.3219281</td><td>0.5360529</td><td>0.63226822</td><td>0.4541759</td><td>0.2016339</td><td>0.3448285</td><td>0.2387869</td><td>0.2265085</td><td>NKX6.1 </td><td>6</td></tr>\n",
       "\t<tr><th scope=row>PAX4</th><td>1.195348</td><td>1</td><td>1</td><td>1.669027</td><td>2.150560</td><td>1.669027</td><td>2.150560</td><td>1.883621</td><td>2.087463</td><td>2.247928</td><td>⋯</td><td>0.6780719</td><td>2.3015876</td><td>1.50080205</td><td>1.8073549</td><td>0.5260688</td><td>0.5945485</td><td>1.0565835</td><td>1.0285692</td><td>PAX4   </td><td>7</td></tr>\n",
       "\t<tr><th scope=row>PTF1a</th><td>1.263034</td><td>1</td><td>1</td><td>2.084064</td><td>2.232661</td><td>2.060047</td><td>1.682573</td><td>2.321928</td><td>1.887525</td><td>2.629939</td><td>⋯</td><td>2.5134907</td><td>5.6102867</td><td>3.10601324</td><td>3.5310695</td><td>1.4168397</td><td>2.0461418</td><td>3.1043367</td><td>2.5260688</td><td>PTF1a  </td><td>8</td></tr>\n",
       "\t<tr><th scope=row>PDX1</th><td>1.000000</td><td>1</td><td>1</td><td>4.490570</td><td>3.657640</td><td>4.738768</td><td>3.940167</td><td>2.817623</td><td>3.459432</td><td>2.538538</td><td>⋯</td><td>5.4127815</td><td>5.6351739</td><td>5.15583017</td><td>5.8001234</td><td>4.5607150</td><td>4.3512043</td><td>5.6412570</td><td>5.7112196</td><td>PDX1   </td><td>9</td></tr>\n",
       "</tbody>\n",
       "</table>\n"
      ],
      "text/latex": [
       "A data.frame: 9 × 54\n",
       "\\begin{tabular}{r|lllllllllllllllllllll}\n",
       "  & SC.1 & SC.2 & SC.3 & DE.1 & DE.2 & DE.3 & DE.4 & DE.1.1 & DE.2.1 & DE.3.1 & ⋯ & P5PE.1 & P5PE.2 & P5PE.3 & P5PE.4 & P5PE.1.1 & P5PE.2.1 & P5PE.3.1 & P5PE.4.1 & Gene & 1:9\\\\\n",
       "  & <dbl> & <dbl> & <dbl> & <dbl> & <dbl> & <dbl> & <dbl> & <dbl> & <dbl> & <dbl> & ⋯ & <dbl> & <dbl> & <dbl> & <dbl> & <dbl> & <dbl> & <dbl> & <dbl> & <chr> & <int>\\\\\n",
       "\\hline\n",
       "\tHLXb9 & 1.709291 & 1 & 1 & 7.073606 & 5.559798 & 5.725469 & 7.150661 & 7.402842 & 6.678072 & 7.177420 & ⋯ & 3.3377111 & 3.8288346 & 3.49952702 & 5.3847406 & 2.4931349 & 2.6438562 & 3.3936908 & 5.0682409 & HLXb9   & 1\\\\\n",
       "\tHHEX & 1.521051 & 1 & 1 & 3.576522 & 5.241077 & 3.576522 & 5.241077 & 3.589763 & 5.241077 & 4.753818 & ⋯ & 0.1505597 & 0.8479969 & 0.07038933 & 1.2203300 & 0.1243281 & 0.1110313 & 0.0976108 & 1.1375035 & HHEX    & 2\\\\\n",
       "\tHNF4a & 1.956057 & 1 & 1 & 6.381629 & 5.148365 & 4.932156 & 5.988117 & 5.460415 & 4.199358 & 3.542258 & ⋯ & 6.8774989 & 6.8005117 & 7.26341006 & 6.6434233 & 7.9835067 & 7.7975967 & 7.2489712 & 7.9293176 & HNF4a   & 3\\\\\n",
       "\tISL1 & 1.427606 & 1 & 1 & 4.804260 & 3.575312 & 4.804260 & 3.575312 & 5.358607 & 5.247168 & 5.547203 & ⋯ & 3.4776773 & 3.5945485 & 3.47767733 & 3.5945485 & 4.3334237 & 4.2750070 & 4.3334237 & 4.2750070 & ISL1    & 4\\\\\n",
       "\tNEUROD1 & 2.201634 & 1 & 1 & 2.555816 & 2.833902 & 4.074677 & 4.536675 & 2.347666 & 2.353323 & 4.919340 & ⋯ & 7.6346659 & 7.4450976 & 6.39454844 & 7.6690977 & 6.5599506 & 7.8722131 & 6.9053268 & 7.5910361 & NEUROD1 & 5\\\\\n",
       "\tNKX6.1 & 1.063503 & 1 & 1 & 2.157044 & 2.438293 & 2.157044 & 2.438293 & 2.087463 & 1.427606 & 2.405992 & ⋯ & 0.3219281 & 0.5360529 & 0.63226822 & 0.4541759 & 0.2016339 & 0.3448285 & 0.2387869 & 0.2265085 & NKX6.1  & 6\\\\\n",
       "\tPAX4 & 1.195348 & 1 & 1 & 1.669027 & 2.150560 & 1.669027 & 2.150560 & 1.883621 & 2.087463 & 2.247928 & ⋯ & 0.6780719 & 2.3015876 & 1.50080205 & 1.8073549 & 0.5260688 & 0.5945485 & 1.0565835 & 1.0285692 & PAX4    & 7\\\\\n",
       "\tPTF1a & 1.263034 & 1 & 1 & 2.084064 & 2.232661 & 2.060047 & 1.682573 & 2.321928 & 1.887525 & 2.629939 & ⋯ & 2.5134907 & 5.6102867 & 3.10601324 & 3.5310695 & 1.4168397 & 2.0461418 & 3.1043367 & 2.5260688 & PTF1a   & 8\\\\\n",
       "\tPDX1 & 1.000000 & 1 & 1 & 4.490570 & 3.657640 & 4.738768 & 3.940167 & 2.817623 & 3.459432 & 2.538538 & ⋯ & 5.4127815 & 5.6351739 & 5.15583017 & 5.8001234 & 4.5607150 & 4.3512043 & 5.6412570 & 5.7112196 & PDX1    & 9\\\\\n",
       "\\end{tabular}\n"
      ],
      "text/markdown": [
       "\n",
       "A data.frame: 9 × 54\n",
       "\n",
       "| <!--/--> | SC.1 &lt;dbl&gt; | SC.2 &lt;dbl&gt; | SC.3 &lt;dbl&gt; | DE.1 &lt;dbl&gt; | DE.2 &lt;dbl&gt; | DE.3 &lt;dbl&gt; | DE.4 &lt;dbl&gt; | DE.1.1 &lt;dbl&gt; | DE.2.1 &lt;dbl&gt; | DE.3.1 &lt;dbl&gt; | ⋯ ⋯ | P5PE.1 &lt;dbl&gt; | P5PE.2 &lt;dbl&gt; | P5PE.3 &lt;dbl&gt; | P5PE.4 &lt;dbl&gt; | P5PE.1.1 &lt;dbl&gt; | P5PE.2.1 &lt;dbl&gt; | P5PE.3.1 &lt;dbl&gt; | P5PE.4.1 &lt;dbl&gt; | Gene &lt;chr&gt; | 1:9 &lt;int&gt; |\n",
       "|---|---|---|---|---|---|---|---|---|---|---|---|---|---|---|---|---|---|---|---|---|---|\n",
       "| HLXb9 | 1.709291 | 1 | 1 | 7.073606 | 5.559798 | 5.725469 | 7.150661 | 7.402842 | 6.678072 | 7.177420 | ⋯ | 3.3377111 | 3.8288346 | 3.49952702 | 5.3847406 | 2.4931349 | 2.6438562 | 3.3936908 | 5.0682409 | HLXb9   | 1 |\n",
       "| HHEX | 1.521051 | 1 | 1 | 3.576522 | 5.241077 | 3.576522 | 5.241077 | 3.589763 | 5.241077 | 4.753818 | ⋯ | 0.1505597 | 0.8479969 | 0.07038933 | 1.2203300 | 0.1243281 | 0.1110313 | 0.0976108 | 1.1375035 | HHEX    | 2 |\n",
       "| HNF4a | 1.956057 | 1 | 1 | 6.381629 | 5.148365 | 4.932156 | 5.988117 | 5.460415 | 4.199358 | 3.542258 | ⋯ | 6.8774989 | 6.8005117 | 7.26341006 | 6.6434233 | 7.9835067 | 7.7975967 | 7.2489712 | 7.9293176 | HNF4a   | 3 |\n",
       "| ISL1 | 1.427606 | 1 | 1 | 4.804260 | 3.575312 | 4.804260 | 3.575312 | 5.358607 | 5.247168 | 5.547203 | ⋯ | 3.4776773 | 3.5945485 | 3.47767733 | 3.5945485 | 4.3334237 | 4.2750070 | 4.3334237 | 4.2750070 | ISL1    | 4 |\n",
       "| NEUROD1 | 2.201634 | 1 | 1 | 2.555816 | 2.833902 | 4.074677 | 4.536675 | 2.347666 | 2.353323 | 4.919340 | ⋯ | 7.6346659 | 7.4450976 | 6.39454844 | 7.6690977 | 6.5599506 | 7.8722131 | 6.9053268 | 7.5910361 | NEUROD1 | 5 |\n",
       "| NKX6.1 | 1.063503 | 1 | 1 | 2.157044 | 2.438293 | 2.157044 | 2.438293 | 2.087463 | 1.427606 | 2.405992 | ⋯ | 0.3219281 | 0.5360529 | 0.63226822 | 0.4541759 | 0.2016339 | 0.3448285 | 0.2387869 | 0.2265085 | NKX6.1  | 6 |\n",
       "| PAX4 | 1.195348 | 1 | 1 | 1.669027 | 2.150560 | 1.669027 | 2.150560 | 1.883621 | 2.087463 | 2.247928 | ⋯ | 0.6780719 | 2.3015876 | 1.50080205 | 1.8073549 | 0.5260688 | 0.5945485 | 1.0565835 | 1.0285692 | PAX4    | 7 |\n",
       "| PTF1a | 1.263034 | 1 | 1 | 2.084064 | 2.232661 | 2.060047 | 1.682573 | 2.321928 | 1.887525 | 2.629939 | ⋯ | 2.5134907 | 5.6102867 | 3.10601324 | 3.5310695 | 1.4168397 | 2.0461418 | 3.1043367 | 2.5260688 | PTF1a   | 8 |\n",
       "| PDX1 | 1.000000 | 1 | 1 | 4.490570 | 3.657640 | 4.738768 | 3.940167 | 2.817623 | 3.459432 | 2.538538 | ⋯ | 5.4127815 | 5.6351739 | 5.15583017 | 5.8001234 | 4.5607150 | 4.3512043 | 5.6412570 | 5.7112196 | PDX1    | 9 |\n",
       "\n"
      ],
      "text/plain": [
       "        SC.1     SC.2 SC.3 DE.1     DE.2     DE.3     DE.4     DE.1.1  \n",
       "HLXb9   1.709291 1    1    7.073606 5.559798 5.725469 7.150661 7.402842\n",
       "HHEX    1.521051 1    1    3.576522 5.241077 3.576522 5.241077 3.589763\n",
       "HNF4a   1.956057 1    1    6.381629 5.148365 4.932156 5.988117 5.460415\n",
       "ISL1    1.427606 1    1    4.804260 3.575312 4.804260 3.575312 5.358607\n",
       "NEUROD1 2.201634 1    1    2.555816 2.833902 4.074677 4.536675 2.347666\n",
       "NKX6.1  1.063503 1    1    2.157044 2.438293 2.157044 2.438293 2.087463\n",
       "PAX4    1.195348 1    1    1.669027 2.150560 1.669027 2.150560 1.883621\n",
       "PTF1a   1.263034 1    1    2.084064 2.232661 2.060047 1.682573 2.321928\n",
       "PDX1    1.000000 1    1    4.490570 3.657640 4.738768 3.940167 2.817623\n",
       "        DE.2.1   DE.3.1   ⋯ P5PE.1    P5PE.2    P5PE.3     P5PE.4    P5PE.1.1 \n",
       "HLXb9   6.678072 7.177420 ⋯ 3.3377111 3.8288346 3.49952702 5.3847406 2.4931349\n",
       "HHEX    5.241077 4.753818 ⋯ 0.1505597 0.8479969 0.07038933 1.2203300 0.1243281\n",
       "HNF4a   4.199358 3.542258 ⋯ 6.8774989 6.8005117 7.26341006 6.6434233 7.9835067\n",
       "ISL1    5.247168 5.547203 ⋯ 3.4776773 3.5945485 3.47767733 3.5945485 4.3334237\n",
       "NEUROD1 2.353323 4.919340 ⋯ 7.6346659 7.4450976 6.39454844 7.6690977 6.5599506\n",
       "NKX6.1  1.427606 2.405992 ⋯ 0.3219281 0.5360529 0.63226822 0.4541759 0.2016339\n",
       "PAX4    2.087463 2.247928 ⋯ 0.6780719 2.3015876 1.50080205 1.8073549 0.5260688\n",
       "PTF1a   1.887525 2.629939 ⋯ 2.5134907 5.6102867 3.10601324 3.5310695 1.4168397\n",
       "PDX1    3.459432 2.538538 ⋯ 5.4127815 5.6351739 5.15583017 5.8001234 4.5607150\n",
       "        P5PE.2.1  P5PE.3.1  P5PE.4.1  Gene    1:9\n",
       "HLXb9   2.6438562 3.3936908 5.0682409 HLXb9   1  \n",
       "HHEX    0.1110313 0.0976108 1.1375035 HHEX    2  \n",
       "HNF4a   7.7975967 7.2489712 7.9293176 HNF4a   3  \n",
       "ISL1    4.2750070 4.3334237 4.2750070 ISL1    4  \n",
       "NEUROD1 7.8722131 6.9053268 7.5910361 NEUROD1 5  \n",
       "NKX6.1  0.3448285 0.2387869 0.2265085 NKX6.1  6  \n",
       "PAX4    0.5945485 1.0565835 1.0285692 PAX4    7  \n",
       "PTF1a   2.0461418 3.1043367 2.5260688 PTF1a   8  \n",
       "PDX1    4.3512043 5.6412570 5.7112196 PDX1    9  "
      ]
     },
     "metadata": {},
     "output_type": "display_data"
    },
    {
     "data": {
      "text/html": [
       "<table class=\"dataframe\">\n",
       "<caption>A data.frame: 9 × 54</caption>\n",
       "<thead>\n",
       "\t<tr><th></th><th scope=col>SC.1</th><th scope=col>SC.2</th><th scope=col>SC.3</th><th scope=col>DE.1</th><th scope=col>DE.2</th><th scope=col>DE.3</th><th scope=col>DE.4</th><th scope=col>DE.1.1</th><th scope=col>DE.2.1</th><th scope=col>DE.3.1</th><th scope=col>⋯</th><th scope=col>P5PE.1</th><th scope=col>P5PE.2</th><th scope=col>P5PE.3</th><th scope=col>P5PE.4</th><th scope=col>P5PE.1.1</th><th scope=col>P5PE.2.1</th><th scope=col>P5PE.3.1</th><th scope=col>P5PE.4.1</th><th scope=col>Gene</th><th scope=col>\"hello\"</th></tr>\n",
       "\t<tr><th></th><th scope=col>&lt;dbl&gt;</th><th scope=col>&lt;dbl&gt;</th><th scope=col>&lt;dbl&gt;</th><th scope=col>&lt;dbl&gt;</th><th scope=col>&lt;dbl&gt;</th><th scope=col>&lt;dbl&gt;</th><th scope=col>&lt;dbl&gt;</th><th scope=col>&lt;dbl&gt;</th><th scope=col>&lt;dbl&gt;</th><th scope=col>&lt;dbl&gt;</th><th scope=col>⋯</th><th scope=col>&lt;dbl&gt;</th><th scope=col>&lt;dbl&gt;</th><th scope=col>&lt;dbl&gt;</th><th scope=col>&lt;dbl&gt;</th><th scope=col>&lt;dbl&gt;</th><th scope=col>&lt;dbl&gt;</th><th scope=col>&lt;dbl&gt;</th><th scope=col>&lt;dbl&gt;</th><th scope=col>&lt;chr&gt;</th><th scope=col>&lt;chr&gt;</th></tr>\n",
       "</thead>\n",
       "<tbody>\n",
       "\t<tr><th scope=row>HLXb9</th><td>1.709291</td><td>1</td><td>1</td><td>7.073606</td><td>5.559798</td><td>5.725469</td><td>7.150661</td><td>7.402842</td><td>6.678072</td><td>7.177420</td><td>⋯</td><td>3.3377111</td><td>3.8288346</td><td>3.49952702</td><td>5.3847406</td><td>2.4931349</td><td>2.6438562</td><td>3.3936908</td><td>5.0682409</td><td>HLXb9  </td><td>hello</td></tr>\n",
       "\t<tr><th scope=row>HHEX</th><td>1.521051</td><td>1</td><td>1</td><td>3.576522</td><td>5.241077</td><td>3.576522</td><td>5.241077</td><td>3.589763</td><td>5.241077</td><td>4.753818</td><td>⋯</td><td>0.1505597</td><td>0.8479969</td><td>0.07038933</td><td>1.2203300</td><td>0.1243281</td><td>0.1110313</td><td>0.0976108</td><td>1.1375035</td><td>HHEX   </td><td>hello</td></tr>\n",
       "\t<tr><th scope=row>HNF4a</th><td>1.956057</td><td>1</td><td>1</td><td>6.381629</td><td>5.148365</td><td>4.932156</td><td>5.988117</td><td>5.460415</td><td>4.199358</td><td>3.542258</td><td>⋯</td><td>6.8774989</td><td>6.8005117</td><td>7.26341006</td><td>6.6434233</td><td>7.9835067</td><td>7.7975967</td><td>7.2489712</td><td>7.9293176</td><td>HNF4a  </td><td>hello</td></tr>\n",
       "\t<tr><th scope=row>ISL1</th><td>1.427606</td><td>1</td><td>1</td><td>4.804260</td><td>3.575312</td><td>4.804260</td><td>3.575312</td><td>5.358607</td><td>5.247168</td><td>5.547203</td><td>⋯</td><td>3.4776773</td><td>3.5945485</td><td>3.47767733</td><td>3.5945485</td><td>4.3334237</td><td>4.2750070</td><td>4.3334237</td><td>4.2750070</td><td>ISL1   </td><td>hello</td></tr>\n",
       "\t<tr><th scope=row>NEUROD1</th><td>2.201634</td><td>1</td><td>1</td><td>2.555816</td><td>2.833902</td><td>4.074677</td><td>4.536675</td><td>2.347666</td><td>2.353323</td><td>4.919340</td><td>⋯</td><td>7.6346659</td><td>7.4450976</td><td>6.39454844</td><td>7.6690977</td><td>6.5599506</td><td>7.8722131</td><td>6.9053268</td><td>7.5910361</td><td>NEUROD1</td><td>hello</td></tr>\n",
       "\t<tr><th scope=row>NKX6.1</th><td>1.063503</td><td>1</td><td>1</td><td>2.157044</td><td>2.438293</td><td>2.157044</td><td>2.438293</td><td>2.087463</td><td>1.427606</td><td>2.405992</td><td>⋯</td><td>0.3219281</td><td>0.5360529</td><td>0.63226822</td><td>0.4541759</td><td>0.2016339</td><td>0.3448285</td><td>0.2387869</td><td>0.2265085</td><td>NKX6.1 </td><td>hello</td></tr>\n",
       "\t<tr><th scope=row>PAX4</th><td>1.195348</td><td>1</td><td>1</td><td>1.669027</td><td>2.150560</td><td>1.669027</td><td>2.150560</td><td>1.883621</td><td>2.087463</td><td>2.247928</td><td>⋯</td><td>0.6780719</td><td>2.3015876</td><td>1.50080205</td><td>1.8073549</td><td>0.5260688</td><td>0.5945485</td><td>1.0565835</td><td>1.0285692</td><td>PAX4   </td><td>hello</td></tr>\n",
       "\t<tr><th scope=row>PTF1a</th><td>1.263034</td><td>1</td><td>1</td><td>2.084064</td><td>2.232661</td><td>2.060047</td><td>1.682573</td><td>2.321928</td><td>1.887525</td><td>2.629939</td><td>⋯</td><td>2.5134907</td><td>5.6102867</td><td>3.10601324</td><td>3.5310695</td><td>1.4168397</td><td>2.0461418</td><td>3.1043367</td><td>2.5260688</td><td>PTF1a  </td><td>hello</td></tr>\n",
       "\t<tr><th scope=row>PDX1</th><td>1.000000</td><td>1</td><td>1</td><td>4.490570</td><td>3.657640</td><td>4.738768</td><td>3.940167</td><td>2.817623</td><td>3.459432</td><td>2.538538</td><td>⋯</td><td>5.4127815</td><td>5.6351739</td><td>5.15583017</td><td>5.8001234</td><td>4.5607150</td><td>4.3512043</td><td>5.6412570</td><td>5.7112196</td><td>PDX1   </td><td>hello</td></tr>\n",
       "</tbody>\n",
       "</table>\n"
      ],
      "text/latex": [
       "A data.frame: 9 × 54\n",
       "\\begin{tabular}{r|lllllllllllllllllllll}\n",
       "  & SC.1 & SC.2 & SC.3 & DE.1 & DE.2 & DE.3 & DE.4 & DE.1.1 & DE.2.1 & DE.3.1 & ⋯ & P5PE.1 & P5PE.2 & P5PE.3 & P5PE.4 & P5PE.1.1 & P5PE.2.1 & P5PE.3.1 & P5PE.4.1 & Gene & \"hello\"\\\\\n",
       "  & <dbl> & <dbl> & <dbl> & <dbl> & <dbl> & <dbl> & <dbl> & <dbl> & <dbl> & <dbl> & ⋯ & <dbl> & <dbl> & <dbl> & <dbl> & <dbl> & <dbl> & <dbl> & <dbl> & <chr> & <chr>\\\\\n",
       "\\hline\n",
       "\tHLXb9 & 1.709291 & 1 & 1 & 7.073606 & 5.559798 & 5.725469 & 7.150661 & 7.402842 & 6.678072 & 7.177420 & ⋯ & 3.3377111 & 3.8288346 & 3.49952702 & 5.3847406 & 2.4931349 & 2.6438562 & 3.3936908 & 5.0682409 & HLXb9   & hello\\\\\n",
       "\tHHEX & 1.521051 & 1 & 1 & 3.576522 & 5.241077 & 3.576522 & 5.241077 & 3.589763 & 5.241077 & 4.753818 & ⋯ & 0.1505597 & 0.8479969 & 0.07038933 & 1.2203300 & 0.1243281 & 0.1110313 & 0.0976108 & 1.1375035 & HHEX    & hello\\\\\n",
       "\tHNF4a & 1.956057 & 1 & 1 & 6.381629 & 5.148365 & 4.932156 & 5.988117 & 5.460415 & 4.199358 & 3.542258 & ⋯ & 6.8774989 & 6.8005117 & 7.26341006 & 6.6434233 & 7.9835067 & 7.7975967 & 7.2489712 & 7.9293176 & HNF4a   & hello\\\\\n",
       "\tISL1 & 1.427606 & 1 & 1 & 4.804260 & 3.575312 & 4.804260 & 3.575312 & 5.358607 & 5.247168 & 5.547203 & ⋯ & 3.4776773 & 3.5945485 & 3.47767733 & 3.5945485 & 4.3334237 & 4.2750070 & 4.3334237 & 4.2750070 & ISL1    & hello\\\\\n",
       "\tNEUROD1 & 2.201634 & 1 & 1 & 2.555816 & 2.833902 & 4.074677 & 4.536675 & 2.347666 & 2.353323 & 4.919340 & ⋯ & 7.6346659 & 7.4450976 & 6.39454844 & 7.6690977 & 6.5599506 & 7.8722131 & 6.9053268 & 7.5910361 & NEUROD1 & hello\\\\\n",
       "\tNKX6.1 & 1.063503 & 1 & 1 & 2.157044 & 2.438293 & 2.157044 & 2.438293 & 2.087463 & 1.427606 & 2.405992 & ⋯ & 0.3219281 & 0.5360529 & 0.63226822 & 0.4541759 & 0.2016339 & 0.3448285 & 0.2387869 & 0.2265085 & NKX6.1  & hello\\\\\n",
       "\tPAX4 & 1.195348 & 1 & 1 & 1.669027 & 2.150560 & 1.669027 & 2.150560 & 1.883621 & 2.087463 & 2.247928 & ⋯ & 0.6780719 & 2.3015876 & 1.50080205 & 1.8073549 & 0.5260688 & 0.5945485 & 1.0565835 & 1.0285692 & PAX4    & hello\\\\\n",
       "\tPTF1a & 1.263034 & 1 & 1 & 2.084064 & 2.232661 & 2.060047 & 1.682573 & 2.321928 & 1.887525 & 2.629939 & ⋯ & 2.5134907 & 5.6102867 & 3.10601324 & 3.5310695 & 1.4168397 & 2.0461418 & 3.1043367 & 2.5260688 & PTF1a   & hello\\\\\n",
       "\tPDX1 & 1.000000 & 1 & 1 & 4.490570 & 3.657640 & 4.738768 & 3.940167 & 2.817623 & 3.459432 & 2.538538 & ⋯ & 5.4127815 & 5.6351739 & 5.15583017 & 5.8001234 & 4.5607150 & 4.3512043 & 5.6412570 & 5.7112196 & PDX1    & hello\\\\\n",
       "\\end{tabular}\n"
      ],
      "text/markdown": [
       "\n",
       "A data.frame: 9 × 54\n",
       "\n",
       "| <!--/--> | SC.1 &lt;dbl&gt; | SC.2 &lt;dbl&gt; | SC.3 &lt;dbl&gt; | DE.1 &lt;dbl&gt; | DE.2 &lt;dbl&gt; | DE.3 &lt;dbl&gt; | DE.4 &lt;dbl&gt; | DE.1.1 &lt;dbl&gt; | DE.2.1 &lt;dbl&gt; | DE.3.1 &lt;dbl&gt; | ⋯ ⋯ | P5PE.1 &lt;dbl&gt; | P5PE.2 &lt;dbl&gt; | P5PE.3 &lt;dbl&gt; | P5PE.4 &lt;dbl&gt; | P5PE.1.1 &lt;dbl&gt; | P5PE.2.1 &lt;dbl&gt; | P5PE.3.1 &lt;dbl&gt; | P5PE.4.1 &lt;dbl&gt; | Gene &lt;chr&gt; | \"hello\" &lt;chr&gt; |\n",
       "|---|---|---|---|---|---|---|---|---|---|---|---|---|---|---|---|---|---|---|---|---|---|\n",
       "| HLXb9 | 1.709291 | 1 | 1 | 7.073606 | 5.559798 | 5.725469 | 7.150661 | 7.402842 | 6.678072 | 7.177420 | ⋯ | 3.3377111 | 3.8288346 | 3.49952702 | 5.3847406 | 2.4931349 | 2.6438562 | 3.3936908 | 5.0682409 | HLXb9   | hello |\n",
       "| HHEX | 1.521051 | 1 | 1 | 3.576522 | 5.241077 | 3.576522 | 5.241077 | 3.589763 | 5.241077 | 4.753818 | ⋯ | 0.1505597 | 0.8479969 | 0.07038933 | 1.2203300 | 0.1243281 | 0.1110313 | 0.0976108 | 1.1375035 | HHEX    | hello |\n",
       "| HNF4a | 1.956057 | 1 | 1 | 6.381629 | 5.148365 | 4.932156 | 5.988117 | 5.460415 | 4.199358 | 3.542258 | ⋯ | 6.8774989 | 6.8005117 | 7.26341006 | 6.6434233 | 7.9835067 | 7.7975967 | 7.2489712 | 7.9293176 | HNF4a   | hello |\n",
       "| ISL1 | 1.427606 | 1 | 1 | 4.804260 | 3.575312 | 4.804260 | 3.575312 | 5.358607 | 5.247168 | 5.547203 | ⋯ | 3.4776773 | 3.5945485 | 3.47767733 | 3.5945485 | 4.3334237 | 4.2750070 | 4.3334237 | 4.2750070 | ISL1    | hello |\n",
       "| NEUROD1 | 2.201634 | 1 | 1 | 2.555816 | 2.833902 | 4.074677 | 4.536675 | 2.347666 | 2.353323 | 4.919340 | ⋯ | 7.6346659 | 7.4450976 | 6.39454844 | 7.6690977 | 6.5599506 | 7.8722131 | 6.9053268 | 7.5910361 | NEUROD1 | hello |\n",
       "| NKX6.1 | 1.063503 | 1 | 1 | 2.157044 | 2.438293 | 2.157044 | 2.438293 | 2.087463 | 1.427606 | 2.405992 | ⋯ | 0.3219281 | 0.5360529 | 0.63226822 | 0.4541759 | 0.2016339 | 0.3448285 | 0.2387869 | 0.2265085 | NKX6.1  | hello |\n",
       "| PAX4 | 1.195348 | 1 | 1 | 1.669027 | 2.150560 | 1.669027 | 2.150560 | 1.883621 | 2.087463 | 2.247928 | ⋯ | 0.6780719 | 2.3015876 | 1.50080205 | 1.8073549 | 0.5260688 | 0.5945485 | 1.0565835 | 1.0285692 | PAX4    | hello |\n",
       "| PTF1a | 1.263034 | 1 | 1 | 2.084064 | 2.232661 | 2.060047 | 1.682573 | 2.321928 | 1.887525 | 2.629939 | ⋯ | 2.5134907 | 5.6102867 | 3.10601324 | 3.5310695 | 1.4168397 | 2.0461418 | 3.1043367 | 2.5260688 | PTF1a   | hello |\n",
       "| PDX1 | 1.000000 | 1 | 1 | 4.490570 | 3.657640 | 4.738768 | 3.940167 | 2.817623 | 3.459432 | 2.538538 | ⋯ | 5.4127815 | 5.6351739 | 5.15583017 | 5.8001234 | 4.5607150 | 4.3512043 | 5.6412570 | 5.7112196 | PDX1    | hello |\n",
       "\n"
      ],
      "text/plain": [
       "        SC.1     SC.2 SC.3 DE.1     DE.2     DE.3     DE.4     DE.1.1  \n",
       "HLXb9   1.709291 1    1    7.073606 5.559798 5.725469 7.150661 7.402842\n",
       "HHEX    1.521051 1    1    3.576522 5.241077 3.576522 5.241077 3.589763\n",
       "HNF4a   1.956057 1    1    6.381629 5.148365 4.932156 5.988117 5.460415\n",
       "ISL1    1.427606 1    1    4.804260 3.575312 4.804260 3.575312 5.358607\n",
       "NEUROD1 2.201634 1    1    2.555816 2.833902 4.074677 4.536675 2.347666\n",
       "NKX6.1  1.063503 1    1    2.157044 2.438293 2.157044 2.438293 2.087463\n",
       "PAX4    1.195348 1    1    1.669027 2.150560 1.669027 2.150560 1.883621\n",
       "PTF1a   1.263034 1    1    2.084064 2.232661 2.060047 1.682573 2.321928\n",
       "PDX1    1.000000 1    1    4.490570 3.657640 4.738768 3.940167 2.817623\n",
       "        DE.2.1   DE.3.1   ⋯ P5PE.1    P5PE.2    P5PE.3     P5PE.4    P5PE.1.1 \n",
       "HLXb9   6.678072 7.177420 ⋯ 3.3377111 3.8288346 3.49952702 5.3847406 2.4931349\n",
       "HHEX    5.241077 4.753818 ⋯ 0.1505597 0.8479969 0.07038933 1.2203300 0.1243281\n",
       "HNF4a   4.199358 3.542258 ⋯ 6.8774989 6.8005117 7.26341006 6.6434233 7.9835067\n",
       "ISL1    5.247168 5.547203 ⋯ 3.4776773 3.5945485 3.47767733 3.5945485 4.3334237\n",
       "NEUROD1 2.353323 4.919340 ⋯ 7.6346659 7.4450976 6.39454844 7.6690977 6.5599506\n",
       "NKX6.1  1.427606 2.405992 ⋯ 0.3219281 0.5360529 0.63226822 0.4541759 0.2016339\n",
       "PAX4    2.087463 2.247928 ⋯ 0.6780719 2.3015876 1.50080205 1.8073549 0.5260688\n",
       "PTF1a   1.887525 2.629939 ⋯ 2.5134907 5.6102867 3.10601324 3.5310695 1.4168397\n",
       "PDX1    3.459432 2.538538 ⋯ 5.4127815 5.6351739 5.15583017 5.8001234 4.5607150\n",
       "        P5PE.2.1  P5PE.3.1  P5PE.4.1  Gene    \"hello\"\n",
       "HLXb9   2.6438562 3.3936908 5.0682409 HLXb9   hello  \n",
       "HHEX    0.1110313 0.0976108 1.1375035 HHEX    hello  \n",
       "HNF4a   7.7975967 7.2489712 7.9293176 HNF4a   hello  \n",
       "ISL1    4.2750070 4.3334237 4.2750070 ISL1    hello  \n",
       "NEUROD1 7.8722131 6.9053268 7.5910361 NEUROD1 hello  \n",
       "NKX6.1  0.3448285 0.2387869 0.2265085 NKX6.1  hello  \n",
       "PAX4    0.5945485 1.0565835 1.0285692 PAX4    hello  \n",
       "PTF1a   2.0461418 3.1043367 2.5260688 PTF1a   hello  \n",
       "PDX1    4.3512043 5.6412570 5.7112196 PDX1    hello  "
      ]
     },
     "metadata": {},
     "output_type": "display_data"
    },
    {
     "data": {
      "text/html": [
       "<table class=\"dataframe\">\n",
       "<caption>A data.frame: 9 × 54</caption>\n",
       "<thead>\n",
       "\t<tr><th></th><th scope=col>SC.1</th><th scope=col>SC.2</th><th scope=col>SC.3</th><th scope=col>DE.1</th><th scope=col>DE.2</th><th scope=col>DE.3</th><th scope=col>DE.4</th><th scope=col>DE.1.1</th><th scope=col>DE.2.1</th><th scope=col>DE.3.1</th><th scope=col>⋯</th><th scope=col>P5PE.1</th><th scope=col>P5PE.2</th><th scope=col>P5PE.3</th><th scope=col>P5PE.4</th><th scope=col>P5PE.1.1</th><th scope=col>P5PE.2.1</th><th scope=col>P5PE.3.1</th><th scope=col>P5PE.4.1</th><th scope=col>Gene</th><th scope=col>rownames(x)</th></tr>\n",
       "\t<tr><th></th><th scope=col>&lt;dbl&gt;</th><th scope=col>&lt;dbl&gt;</th><th scope=col>&lt;dbl&gt;</th><th scope=col>&lt;dbl&gt;</th><th scope=col>&lt;dbl&gt;</th><th scope=col>&lt;dbl&gt;</th><th scope=col>&lt;dbl&gt;</th><th scope=col>&lt;dbl&gt;</th><th scope=col>&lt;dbl&gt;</th><th scope=col>&lt;dbl&gt;</th><th scope=col>⋯</th><th scope=col>&lt;dbl&gt;</th><th scope=col>&lt;dbl&gt;</th><th scope=col>&lt;dbl&gt;</th><th scope=col>&lt;dbl&gt;</th><th scope=col>&lt;dbl&gt;</th><th scope=col>&lt;dbl&gt;</th><th scope=col>&lt;dbl&gt;</th><th scope=col>&lt;dbl&gt;</th><th scope=col>&lt;chr&gt;</th><th scope=col>&lt;chr&gt;</th></tr>\n",
       "</thead>\n",
       "<tbody>\n",
       "\t<tr><th scope=row>HLXb9</th><td>1.709291</td><td>1</td><td>1</td><td>7.073606</td><td>5.559798</td><td>5.725469</td><td>7.150661</td><td>7.402842</td><td>6.678072</td><td>7.177420</td><td>⋯</td><td>3.3377111</td><td>3.8288346</td><td>3.49952702</td><td>5.3847406</td><td>2.4931349</td><td>2.6438562</td><td>3.3936908</td><td>5.0682409</td><td>HLXb9  </td><td>HLXb9  </td></tr>\n",
       "\t<tr><th scope=row>HHEX</th><td>1.521051</td><td>1</td><td>1</td><td>3.576522</td><td>5.241077</td><td>3.576522</td><td>5.241077</td><td>3.589763</td><td>5.241077</td><td>4.753818</td><td>⋯</td><td>0.1505597</td><td>0.8479969</td><td>0.07038933</td><td>1.2203300</td><td>0.1243281</td><td>0.1110313</td><td>0.0976108</td><td>1.1375035</td><td>HHEX   </td><td>HHEX   </td></tr>\n",
       "\t<tr><th scope=row>HNF4a</th><td>1.956057</td><td>1</td><td>1</td><td>6.381629</td><td>5.148365</td><td>4.932156</td><td>5.988117</td><td>5.460415</td><td>4.199358</td><td>3.542258</td><td>⋯</td><td>6.8774989</td><td>6.8005117</td><td>7.26341006</td><td>6.6434233</td><td>7.9835067</td><td>7.7975967</td><td>7.2489712</td><td>7.9293176</td><td>HNF4a  </td><td>HNF4a  </td></tr>\n",
       "\t<tr><th scope=row>ISL1</th><td>1.427606</td><td>1</td><td>1</td><td>4.804260</td><td>3.575312</td><td>4.804260</td><td>3.575312</td><td>5.358607</td><td>5.247168</td><td>5.547203</td><td>⋯</td><td>3.4776773</td><td>3.5945485</td><td>3.47767733</td><td>3.5945485</td><td>4.3334237</td><td>4.2750070</td><td>4.3334237</td><td>4.2750070</td><td>ISL1   </td><td>ISL1   </td></tr>\n",
       "\t<tr><th scope=row>NEUROD1</th><td>2.201634</td><td>1</td><td>1</td><td>2.555816</td><td>2.833902</td><td>4.074677</td><td>4.536675</td><td>2.347666</td><td>2.353323</td><td>4.919340</td><td>⋯</td><td>7.6346659</td><td>7.4450976</td><td>6.39454844</td><td>7.6690977</td><td>6.5599506</td><td>7.8722131</td><td>6.9053268</td><td>7.5910361</td><td>NEUROD1</td><td>NEUROD1</td></tr>\n",
       "\t<tr><th scope=row>NKX6.1</th><td>1.063503</td><td>1</td><td>1</td><td>2.157044</td><td>2.438293</td><td>2.157044</td><td>2.438293</td><td>2.087463</td><td>1.427606</td><td>2.405992</td><td>⋯</td><td>0.3219281</td><td>0.5360529</td><td>0.63226822</td><td>0.4541759</td><td>0.2016339</td><td>0.3448285</td><td>0.2387869</td><td>0.2265085</td><td>NKX6.1 </td><td>NKX6.1 </td></tr>\n",
       "\t<tr><th scope=row>PAX4</th><td>1.195348</td><td>1</td><td>1</td><td>1.669027</td><td>2.150560</td><td>1.669027</td><td>2.150560</td><td>1.883621</td><td>2.087463</td><td>2.247928</td><td>⋯</td><td>0.6780719</td><td>2.3015876</td><td>1.50080205</td><td>1.8073549</td><td>0.5260688</td><td>0.5945485</td><td>1.0565835</td><td>1.0285692</td><td>PAX4   </td><td>PAX4   </td></tr>\n",
       "\t<tr><th scope=row>PTF1a</th><td>1.263034</td><td>1</td><td>1</td><td>2.084064</td><td>2.232661</td><td>2.060047</td><td>1.682573</td><td>2.321928</td><td>1.887525</td><td>2.629939</td><td>⋯</td><td>2.5134907</td><td>5.6102867</td><td>3.10601324</td><td>3.5310695</td><td>1.4168397</td><td>2.0461418</td><td>3.1043367</td><td>2.5260688</td><td>PTF1a  </td><td>PTF1a  </td></tr>\n",
       "\t<tr><th scope=row>PDX1</th><td>1.000000</td><td>1</td><td>1</td><td>4.490570</td><td>3.657640</td><td>4.738768</td><td>3.940167</td><td>2.817623</td><td>3.459432</td><td>2.538538</td><td>⋯</td><td>5.4127815</td><td>5.6351739</td><td>5.15583017</td><td>5.8001234</td><td>4.5607150</td><td>4.3512043</td><td>5.6412570</td><td>5.7112196</td><td>PDX1   </td><td>PDX1   </td></tr>\n",
       "</tbody>\n",
       "</table>\n"
      ],
      "text/latex": [
       "A data.frame: 9 × 54\n",
       "\\begin{tabular}{r|lllllllllllllllllllll}\n",
       "  & SC.1 & SC.2 & SC.3 & DE.1 & DE.2 & DE.3 & DE.4 & DE.1.1 & DE.2.1 & DE.3.1 & ⋯ & P5PE.1 & P5PE.2 & P5PE.3 & P5PE.4 & P5PE.1.1 & P5PE.2.1 & P5PE.3.1 & P5PE.4.1 & Gene & rownames(x)\\\\\n",
       "  & <dbl> & <dbl> & <dbl> & <dbl> & <dbl> & <dbl> & <dbl> & <dbl> & <dbl> & <dbl> & ⋯ & <dbl> & <dbl> & <dbl> & <dbl> & <dbl> & <dbl> & <dbl> & <dbl> & <chr> & <chr>\\\\\n",
       "\\hline\n",
       "\tHLXb9 & 1.709291 & 1 & 1 & 7.073606 & 5.559798 & 5.725469 & 7.150661 & 7.402842 & 6.678072 & 7.177420 & ⋯ & 3.3377111 & 3.8288346 & 3.49952702 & 5.3847406 & 2.4931349 & 2.6438562 & 3.3936908 & 5.0682409 & HLXb9   & HLXb9  \\\\\n",
       "\tHHEX & 1.521051 & 1 & 1 & 3.576522 & 5.241077 & 3.576522 & 5.241077 & 3.589763 & 5.241077 & 4.753818 & ⋯ & 0.1505597 & 0.8479969 & 0.07038933 & 1.2203300 & 0.1243281 & 0.1110313 & 0.0976108 & 1.1375035 & HHEX    & HHEX   \\\\\n",
       "\tHNF4a & 1.956057 & 1 & 1 & 6.381629 & 5.148365 & 4.932156 & 5.988117 & 5.460415 & 4.199358 & 3.542258 & ⋯ & 6.8774989 & 6.8005117 & 7.26341006 & 6.6434233 & 7.9835067 & 7.7975967 & 7.2489712 & 7.9293176 & HNF4a   & HNF4a  \\\\\n",
       "\tISL1 & 1.427606 & 1 & 1 & 4.804260 & 3.575312 & 4.804260 & 3.575312 & 5.358607 & 5.247168 & 5.547203 & ⋯ & 3.4776773 & 3.5945485 & 3.47767733 & 3.5945485 & 4.3334237 & 4.2750070 & 4.3334237 & 4.2750070 & ISL1    & ISL1   \\\\\n",
       "\tNEUROD1 & 2.201634 & 1 & 1 & 2.555816 & 2.833902 & 4.074677 & 4.536675 & 2.347666 & 2.353323 & 4.919340 & ⋯ & 7.6346659 & 7.4450976 & 6.39454844 & 7.6690977 & 6.5599506 & 7.8722131 & 6.9053268 & 7.5910361 & NEUROD1 & NEUROD1\\\\\n",
       "\tNKX6.1 & 1.063503 & 1 & 1 & 2.157044 & 2.438293 & 2.157044 & 2.438293 & 2.087463 & 1.427606 & 2.405992 & ⋯ & 0.3219281 & 0.5360529 & 0.63226822 & 0.4541759 & 0.2016339 & 0.3448285 & 0.2387869 & 0.2265085 & NKX6.1  & NKX6.1 \\\\\n",
       "\tPAX4 & 1.195348 & 1 & 1 & 1.669027 & 2.150560 & 1.669027 & 2.150560 & 1.883621 & 2.087463 & 2.247928 & ⋯ & 0.6780719 & 2.3015876 & 1.50080205 & 1.8073549 & 0.5260688 & 0.5945485 & 1.0565835 & 1.0285692 & PAX4    & PAX4   \\\\\n",
       "\tPTF1a & 1.263034 & 1 & 1 & 2.084064 & 2.232661 & 2.060047 & 1.682573 & 2.321928 & 1.887525 & 2.629939 & ⋯ & 2.5134907 & 5.6102867 & 3.10601324 & 3.5310695 & 1.4168397 & 2.0461418 & 3.1043367 & 2.5260688 & PTF1a   & PTF1a  \\\\\n",
       "\tPDX1 & 1.000000 & 1 & 1 & 4.490570 & 3.657640 & 4.738768 & 3.940167 & 2.817623 & 3.459432 & 2.538538 & ⋯ & 5.4127815 & 5.6351739 & 5.15583017 & 5.8001234 & 4.5607150 & 4.3512043 & 5.6412570 & 5.7112196 & PDX1    & PDX1   \\\\\n",
       "\\end{tabular}\n"
      ],
      "text/markdown": [
       "\n",
       "A data.frame: 9 × 54\n",
       "\n",
       "| <!--/--> | SC.1 &lt;dbl&gt; | SC.2 &lt;dbl&gt; | SC.3 &lt;dbl&gt; | DE.1 &lt;dbl&gt; | DE.2 &lt;dbl&gt; | DE.3 &lt;dbl&gt; | DE.4 &lt;dbl&gt; | DE.1.1 &lt;dbl&gt; | DE.2.1 &lt;dbl&gt; | DE.3.1 &lt;dbl&gt; | ⋯ ⋯ | P5PE.1 &lt;dbl&gt; | P5PE.2 &lt;dbl&gt; | P5PE.3 &lt;dbl&gt; | P5PE.4 &lt;dbl&gt; | P5PE.1.1 &lt;dbl&gt; | P5PE.2.1 &lt;dbl&gt; | P5PE.3.1 &lt;dbl&gt; | P5PE.4.1 &lt;dbl&gt; | Gene &lt;chr&gt; | rownames(x) &lt;chr&gt; |\n",
       "|---|---|---|---|---|---|---|---|---|---|---|---|---|---|---|---|---|---|---|---|---|---|\n",
       "| HLXb9 | 1.709291 | 1 | 1 | 7.073606 | 5.559798 | 5.725469 | 7.150661 | 7.402842 | 6.678072 | 7.177420 | ⋯ | 3.3377111 | 3.8288346 | 3.49952702 | 5.3847406 | 2.4931349 | 2.6438562 | 3.3936908 | 5.0682409 | HLXb9   | HLXb9   |\n",
       "| HHEX | 1.521051 | 1 | 1 | 3.576522 | 5.241077 | 3.576522 | 5.241077 | 3.589763 | 5.241077 | 4.753818 | ⋯ | 0.1505597 | 0.8479969 | 0.07038933 | 1.2203300 | 0.1243281 | 0.1110313 | 0.0976108 | 1.1375035 | HHEX    | HHEX    |\n",
       "| HNF4a | 1.956057 | 1 | 1 | 6.381629 | 5.148365 | 4.932156 | 5.988117 | 5.460415 | 4.199358 | 3.542258 | ⋯ | 6.8774989 | 6.8005117 | 7.26341006 | 6.6434233 | 7.9835067 | 7.7975967 | 7.2489712 | 7.9293176 | HNF4a   | HNF4a   |\n",
       "| ISL1 | 1.427606 | 1 | 1 | 4.804260 | 3.575312 | 4.804260 | 3.575312 | 5.358607 | 5.247168 | 5.547203 | ⋯ | 3.4776773 | 3.5945485 | 3.47767733 | 3.5945485 | 4.3334237 | 4.2750070 | 4.3334237 | 4.2750070 | ISL1    | ISL1    |\n",
       "| NEUROD1 | 2.201634 | 1 | 1 | 2.555816 | 2.833902 | 4.074677 | 4.536675 | 2.347666 | 2.353323 | 4.919340 | ⋯ | 7.6346659 | 7.4450976 | 6.39454844 | 7.6690977 | 6.5599506 | 7.8722131 | 6.9053268 | 7.5910361 | NEUROD1 | NEUROD1 |\n",
       "| NKX6.1 | 1.063503 | 1 | 1 | 2.157044 | 2.438293 | 2.157044 | 2.438293 | 2.087463 | 1.427606 | 2.405992 | ⋯ | 0.3219281 | 0.5360529 | 0.63226822 | 0.4541759 | 0.2016339 | 0.3448285 | 0.2387869 | 0.2265085 | NKX6.1  | NKX6.1  |\n",
       "| PAX4 | 1.195348 | 1 | 1 | 1.669027 | 2.150560 | 1.669027 | 2.150560 | 1.883621 | 2.087463 | 2.247928 | ⋯ | 0.6780719 | 2.3015876 | 1.50080205 | 1.8073549 | 0.5260688 | 0.5945485 | 1.0565835 | 1.0285692 | PAX4    | PAX4    |\n",
       "| PTF1a | 1.263034 | 1 | 1 | 2.084064 | 2.232661 | 2.060047 | 1.682573 | 2.321928 | 1.887525 | 2.629939 | ⋯ | 2.5134907 | 5.6102867 | 3.10601324 | 3.5310695 | 1.4168397 | 2.0461418 | 3.1043367 | 2.5260688 | PTF1a   | PTF1a   |\n",
       "| PDX1 | 1.000000 | 1 | 1 | 4.490570 | 3.657640 | 4.738768 | 3.940167 | 2.817623 | 3.459432 | 2.538538 | ⋯ | 5.4127815 | 5.6351739 | 5.15583017 | 5.8001234 | 4.5607150 | 4.3512043 | 5.6412570 | 5.7112196 | PDX1    | PDX1    |\n",
       "\n"
      ],
      "text/plain": [
       "        SC.1     SC.2 SC.3 DE.1     DE.2     DE.3     DE.4     DE.1.1  \n",
       "HLXb9   1.709291 1    1    7.073606 5.559798 5.725469 7.150661 7.402842\n",
       "HHEX    1.521051 1    1    3.576522 5.241077 3.576522 5.241077 3.589763\n",
       "HNF4a   1.956057 1    1    6.381629 5.148365 4.932156 5.988117 5.460415\n",
       "ISL1    1.427606 1    1    4.804260 3.575312 4.804260 3.575312 5.358607\n",
       "NEUROD1 2.201634 1    1    2.555816 2.833902 4.074677 4.536675 2.347666\n",
       "NKX6.1  1.063503 1    1    2.157044 2.438293 2.157044 2.438293 2.087463\n",
       "PAX4    1.195348 1    1    1.669027 2.150560 1.669027 2.150560 1.883621\n",
       "PTF1a   1.263034 1    1    2.084064 2.232661 2.060047 1.682573 2.321928\n",
       "PDX1    1.000000 1    1    4.490570 3.657640 4.738768 3.940167 2.817623\n",
       "        DE.2.1   DE.3.1   ⋯ P5PE.1    P5PE.2    P5PE.3     P5PE.4    P5PE.1.1 \n",
       "HLXb9   6.678072 7.177420 ⋯ 3.3377111 3.8288346 3.49952702 5.3847406 2.4931349\n",
       "HHEX    5.241077 4.753818 ⋯ 0.1505597 0.8479969 0.07038933 1.2203300 0.1243281\n",
       "HNF4a   4.199358 3.542258 ⋯ 6.8774989 6.8005117 7.26341006 6.6434233 7.9835067\n",
       "ISL1    5.247168 5.547203 ⋯ 3.4776773 3.5945485 3.47767733 3.5945485 4.3334237\n",
       "NEUROD1 2.353323 4.919340 ⋯ 7.6346659 7.4450976 6.39454844 7.6690977 6.5599506\n",
       "NKX6.1  1.427606 2.405992 ⋯ 0.3219281 0.5360529 0.63226822 0.4541759 0.2016339\n",
       "PAX4    2.087463 2.247928 ⋯ 0.6780719 2.3015876 1.50080205 1.8073549 0.5260688\n",
       "PTF1a   1.887525 2.629939 ⋯ 2.5134907 5.6102867 3.10601324 3.5310695 1.4168397\n",
       "PDX1    3.459432 2.538538 ⋯ 5.4127815 5.6351739 5.15583017 5.8001234 4.5607150\n",
       "        P5PE.2.1  P5PE.3.1  P5PE.4.1  Gene    rownames(x)\n",
       "HLXb9   2.6438562 3.3936908 5.0682409 HLXb9   HLXb9      \n",
       "HHEX    0.1110313 0.0976108 1.1375035 HHEX    HHEX       \n",
       "HNF4a   7.7975967 7.2489712 7.9293176 HNF4a   HNF4a      \n",
       "ISL1    4.2750070 4.3334237 4.2750070 ISL1    ISL1       \n",
       "NEUROD1 7.8722131 6.9053268 7.5910361 NEUROD1 NEUROD1    \n",
       "NKX6.1  0.3448285 0.2387869 0.2265085 NKX6.1  NKX6.1     \n",
       "PAX4    0.5945485 1.0565835 1.0285692 PAX4    PAX4       \n",
       "PTF1a   2.0461418 3.1043367 2.5260688 PTF1a   PTF1a      \n",
       "PDX1    4.3512043 5.6412570 5.7112196 PDX1    PDX1       "
      ]
     },
     "metadata": {},
     "output_type": "display_data"
    },
    {
     "data": {
      "text/html": [
       "<table class=\"dataframe\">\n",
       "<caption>A data.frame: 9 × 54</caption>\n",
       "<thead>\n",
       "\t<tr><th></th><th scope=col>SC.1</th><th scope=col>SC.2</th><th scope=col>SC.3</th><th scope=col>DE.1</th><th scope=col>DE.2</th><th scope=col>DE.3</th><th scope=col>DE.4</th><th scope=col>DE.1.1</th><th scope=col>DE.2.1</th><th scope=col>DE.3.1</th><th scope=col>⋯</th><th scope=col>P5PE.1</th><th scope=col>P5PE.2</th><th scope=col>P5PE.3</th><th scope=col>P5PE.4</th><th scope=col>P5PE.1.1</th><th scope=col>P5PE.2.1</th><th scope=col>P5PE.3.1</th><th scope=col>P5PE.4.1</th><th scope=col>Gene</th><th scope=col>Gene.1</th></tr>\n",
       "\t<tr><th></th><th scope=col>&lt;dbl&gt;</th><th scope=col>&lt;dbl&gt;</th><th scope=col>&lt;dbl&gt;</th><th scope=col>&lt;dbl&gt;</th><th scope=col>&lt;dbl&gt;</th><th scope=col>&lt;dbl&gt;</th><th scope=col>&lt;dbl&gt;</th><th scope=col>&lt;dbl&gt;</th><th scope=col>&lt;dbl&gt;</th><th scope=col>&lt;dbl&gt;</th><th scope=col>⋯</th><th scope=col>&lt;dbl&gt;</th><th scope=col>&lt;dbl&gt;</th><th scope=col>&lt;dbl&gt;</th><th scope=col>&lt;dbl&gt;</th><th scope=col>&lt;dbl&gt;</th><th scope=col>&lt;dbl&gt;</th><th scope=col>&lt;dbl&gt;</th><th scope=col>&lt;dbl&gt;</th><th scope=col>&lt;chr&gt;</th><th scope=col>&lt;chr&gt;</th></tr>\n",
       "</thead>\n",
       "<tbody>\n",
       "\t<tr><th scope=row>HLXb9</th><td>1.709291</td><td>1</td><td>1</td><td>7.073606</td><td>5.559798</td><td>5.725469</td><td>7.150661</td><td>7.402842</td><td>6.678072</td><td>7.177420</td><td>⋯</td><td>3.3377111</td><td>3.8288346</td><td>3.49952702</td><td>5.3847406</td><td>2.4931349</td><td>2.6438562</td><td>3.3936908</td><td>5.0682409</td><td>HLXb9  </td><td>HLXb9  </td></tr>\n",
       "\t<tr><th scope=row>HHEX</th><td>1.521051</td><td>1</td><td>1</td><td>3.576522</td><td>5.241077</td><td>3.576522</td><td>5.241077</td><td>3.589763</td><td>5.241077</td><td>4.753818</td><td>⋯</td><td>0.1505597</td><td>0.8479969</td><td>0.07038933</td><td>1.2203300</td><td>0.1243281</td><td>0.1110313</td><td>0.0976108</td><td>1.1375035</td><td>HHEX   </td><td>HHEX   </td></tr>\n",
       "\t<tr><th scope=row>HNF4a</th><td>1.956057</td><td>1</td><td>1</td><td>6.381629</td><td>5.148365</td><td>4.932156</td><td>5.988117</td><td>5.460415</td><td>4.199358</td><td>3.542258</td><td>⋯</td><td>6.8774989</td><td>6.8005117</td><td>7.26341006</td><td>6.6434233</td><td>7.9835067</td><td>7.7975967</td><td>7.2489712</td><td>7.9293176</td><td>HNF4a  </td><td>HNF4a  </td></tr>\n",
       "\t<tr><th scope=row>ISL1</th><td>1.427606</td><td>1</td><td>1</td><td>4.804260</td><td>3.575312</td><td>4.804260</td><td>3.575312</td><td>5.358607</td><td>5.247168</td><td>5.547203</td><td>⋯</td><td>3.4776773</td><td>3.5945485</td><td>3.47767733</td><td>3.5945485</td><td>4.3334237</td><td>4.2750070</td><td>4.3334237</td><td>4.2750070</td><td>ISL1   </td><td>ISL1   </td></tr>\n",
       "\t<tr><th scope=row>NEUROD1</th><td>2.201634</td><td>1</td><td>1</td><td>2.555816</td><td>2.833902</td><td>4.074677</td><td>4.536675</td><td>2.347666</td><td>2.353323</td><td>4.919340</td><td>⋯</td><td>7.6346659</td><td>7.4450976</td><td>6.39454844</td><td>7.6690977</td><td>6.5599506</td><td>7.8722131</td><td>6.9053268</td><td>7.5910361</td><td>NEUROD1</td><td>NEUROD1</td></tr>\n",
       "\t<tr><th scope=row>NKX6.1</th><td>1.063503</td><td>1</td><td>1</td><td>2.157044</td><td>2.438293</td><td>2.157044</td><td>2.438293</td><td>2.087463</td><td>1.427606</td><td>2.405992</td><td>⋯</td><td>0.3219281</td><td>0.5360529</td><td>0.63226822</td><td>0.4541759</td><td>0.2016339</td><td>0.3448285</td><td>0.2387869</td><td>0.2265085</td><td>NKX6.1 </td><td>NKX6.1 </td></tr>\n",
       "\t<tr><th scope=row>PAX4</th><td>1.195348</td><td>1</td><td>1</td><td>1.669027</td><td>2.150560</td><td>1.669027</td><td>2.150560</td><td>1.883621</td><td>2.087463</td><td>2.247928</td><td>⋯</td><td>0.6780719</td><td>2.3015876</td><td>1.50080205</td><td>1.8073549</td><td>0.5260688</td><td>0.5945485</td><td>1.0565835</td><td>1.0285692</td><td>PAX4   </td><td>PAX4   </td></tr>\n",
       "\t<tr><th scope=row>PTF1a</th><td>1.263034</td><td>1</td><td>1</td><td>2.084064</td><td>2.232661</td><td>2.060047</td><td>1.682573</td><td>2.321928</td><td>1.887525</td><td>2.629939</td><td>⋯</td><td>2.5134907</td><td>5.6102867</td><td>3.10601324</td><td>3.5310695</td><td>1.4168397</td><td>2.0461418</td><td>3.1043367</td><td>2.5260688</td><td>PTF1a  </td><td>PTF1a  </td></tr>\n",
       "\t<tr><th scope=row>PDX1</th><td>1.000000</td><td>1</td><td>1</td><td>4.490570</td><td>3.657640</td><td>4.738768</td><td>3.940167</td><td>2.817623</td><td>3.459432</td><td>2.538538</td><td>⋯</td><td>5.4127815</td><td>5.6351739</td><td>5.15583017</td><td>5.8001234</td><td>4.5607150</td><td>4.3512043</td><td>5.6412570</td><td>5.7112196</td><td>PDX1   </td><td>PDX1   </td></tr>\n",
       "</tbody>\n",
       "</table>\n"
      ],
      "text/latex": [
       "A data.frame: 9 × 54\n",
       "\\begin{tabular}{r|lllllllllllllllllllll}\n",
       "  & SC.1 & SC.2 & SC.3 & DE.1 & DE.2 & DE.3 & DE.4 & DE.1.1 & DE.2.1 & DE.3.1 & ⋯ & P5PE.1 & P5PE.2 & P5PE.3 & P5PE.4 & P5PE.1.1 & P5PE.2.1 & P5PE.3.1 & P5PE.4.1 & Gene & Gene.1\\\\\n",
       "  & <dbl> & <dbl> & <dbl> & <dbl> & <dbl> & <dbl> & <dbl> & <dbl> & <dbl> & <dbl> & ⋯ & <dbl> & <dbl> & <dbl> & <dbl> & <dbl> & <dbl> & <dbl> & <dbl> & <chr> & <chr>\\\\\n",
       "\\hline\n",
       "\tHLXb9 & 1.709291 & 1 & 1 & 7.073606 & 5.559798 & 5.725469 & 7.150661 & 7.402842 & 6.678072 & 7.177420 & ⋯ & 3.3377111 & 3.8288346 & 3.49952702 & 5.3847406 & 2.4931349 & 2.6438562 & 3.3936908 & 5.0682409 & HLXb9   & HLXb9  \\\\\n",
       "\tHHEX & 1.521051 & 1 & 1 & 3.576522 & 5.241077 & 3.576522 & 5.241077 & 3.589763 & 5.241077 & 4.753818 & ⋯ & 0.1505597 & 0.8479969 & 0.07038933 & 1.2203300 & 0.1243281 & 0.1110313 & 0.0976108 & 1.1375035 & HHEX    & HHEX   \\\\\n",
       "\tHNF4a & 1.956057 & 1 & 1 & 6.381629 & 5.148365 & 4.932156 & 5.988117 & 5.460415 & 4.199358 & 3.542258 & ⋯ & 6.8774989 & 6.8005117 & 7.26341006 & 6.6434233 & 7.9835067 & 7.7975967 & 7.2489712 & 7.9293176 & HNF4a   & HNF4a  \\\\\n",
       "\tISL1 & 1.427606 & 1 & 1 & 4.804260 & 3.575312 & 4.804260 & 3.575312 & 5.358607 & 5.247168 & 5.547203 & ⋯ & 3.4776773 & 3.5945485 & 3.47767733 & 3.5945485 & 4.3334237 & 4.2750070 & 4.3334237 & 4.2750070 & ISL1    & ISL1   \\\\\n",
       "\tNEUROD1 & 2.201634 & 1 & 1 & 2.555816 & 2.833902 & 4.074677 & 4.536675 & 2.347666 & 2.353323 & 4.919340 & ⋯ & 7.6346659 & 7.4450976 & 6.39454844 & 7.6690977 & 6.5599506 & 7.8722131 & 6.9053268 & 7.5910361 & NEUROD1 & NEUROD1\\\\\n",
       "\tNKX6.1 & 1.063503 & 1 & 1 & 2.157044 & 2.438293 & 2.157044 & 2.438293 & 2.087463 & 1.427606 & 2.405992 & ⋯ & 0.3219281 & 0.5360529 & 0.63226822 & 0.4541759 & 0.2016339 & 0.3448285 & 0.2387869 & 0.2265085 & NKX6.1  & NKX6.1 \\\\\n",
       "\tPAX4 & 1.195348 & 1 & 1 & 1.669027 & 2.150560 & 1.669027 & 2.150560 & 1.883621 & 2.087463 & 2.247928 & ⋯ & 0.6780719 & 2.3015876 & 1.50080205 & 1.8073549 & 0.5260688 & 0.5945485 & 1.0565835 & 1.0285692 & PAX4    & PAX4   \\\\\n",
       "\tPTF1a & 1.263034 & 1 & 1 & 2.084064 & 2.232661 & 2.060047 & 1.682573 & 2.321928 & 1.887525 & 2.629939 & ⋯ & 2.5134907 & 5.6102867 & 3.10601324 & 3.5310695 & 1.4168397 & 2.0461418 & 3.1043367 & 2.5260688 & PTF1a   & PTF1a  \\\\\n",
       "\tPDX1 & 1.000000 & 1 & 1 & 4.490570 & 3.657640 & 4.738768 & 3.940167 & 2.817623 & 3.459432 & 2.538538 & ⋯ & 5.4127815 & 5.6351739 & 5.15583017 & 5.8001234 & 4.5607150 & 4.3512043 & 5.6412570 & 5.7112196 & PDX1    & PDX1   \\\\\n",
       "\\end{tabular}\n"
      ],
      "text/markdown": [
       "\n",
       "A data.frame: 9 × 54\n",
       "\n",
       "| <!--/--> | SC.1 &lt;dbl&gt; | SC.2 &lt;dbl&gt; | SC.3 &lt;dbl&gt; | DE.1 &lt;dbl&gt; | DE.2 &lt;dbl&gt; | DE.3 &lt;dbl&gt; | DE.4 &lt;dbl&gt; | DE.1.1 &lt;dbl&gt; | DE.2.1 &lt;dbl&gt; | DE.3.1 &lt;dbl&gt; | ⋯ ⋯ | P5PE.1 &lt;dbl&gt; | P5PE.2 &lt;dbl&gt; | P5PE.3 &lt;dbl&gt; | P5PE.4 &lt;dbl&gt; | P5PE.1.1 &lt;dbl&gt; | P5PE.2.1 &lt;dbl&gt; | P5PE.3.1 &lt;dbl&gt; | P5PE.4.1 &lt;dbl&gt; | Gene &lt;chr&gt; | Gene.1 &lt;chr&gt; |\n",
       "|---|---|---|---|---|---|---|---|---|---|---|---|---|---|---|---|---|---|---|---|---|---|\n",
       "| HLXb9 | 1.709291 | 1 | 1 | 7.073606 | 5.559798 | 5.725469 | 7.150661 | 7.402842 | 6.678072 | 7.177420 | ⋯ | 3.3377111 | 3.8288346 | 3.49952702 | 5.3847406 | 2.4931349 | 2.6438562 | 3.3936908 | 5.0682409 | HLXb9   | HLXb9   |\n",
       "| HHEX | 1.521051 | 1 | 1 | 3.576522 | 5.241077 | 3.576522 | 5.241077 | 3.589763 | 5.241077 | 4.753818 | ⋯ | 0.1505597 | 0.8479969 | 0.07038933 | 1.2203300 | 0.1243281 | 0.1110313 | 0.0976108 | 1.1375035 | HHEX    | HHEX    |\n",
       "| HNF4a | 1.956057 | 1 | 1 | 6.381629 | 5.148365 | 4.932156 | 5.988117 | 5.460415 | 4.199358 | 3.542258 | ⋯ | 6.8774989 | 6.8005117 | 7.26341006 | 6.6434233 | 7.9835067 | 7.7975967 | 7.2489712 | 7.9293176 | HNF4a   | HNF4a   |\n",
       "| ISL1 | 1.427606 | 1 | 1 | 4.804260 | 3.575312 | 4.804260 | 3.575312 | 5.358607 | 5.247168 | 5.547203 | ⋯ | 3.4776773 | 3.5945485 | 3.47767733 | 3.5945485 | 4.3334237 | 4.2750070 | 4.3334237 | 4.2750070 | ISL1    | ISL1    |\n",
       "| NEUROD1 | 2.201634 | 1 | 1 | 2.555816 | 2.833902 | 4.074677 | 4.536675 | 2.347666 | 2.353323 | 4.919340 | ⋯ | 7.6346659 | 7.4450976 | 6.39454844 | 7.6690977 | 6.5599506 | 7.8722131 | 6.9053268 | 7.5910361 | NEUROD1 | NEUROD1 |\n",
       "| NKX6.1 | 1.063503 | 1 | 1 | 2.157044 | 2.438293 | 2.157044 | 2.438293 | 2.087463 | 1.427606 | 2.405992 | ⋯ | 0.3219281 | 0.5360529 | 0.63226822 | 0.4541759 | 0.2016339 | 0.3448285 | 0.2387869 | 0.2265085 | NKX6.1  | NKX6.1  |\n",
       "| PAX4 | 1.195348 | 1 | 1 | 1.669027 | 2.150560 | 1.669027 | 2.150560 | 1.883621 | 2.087463 | 2.247928 | ⋯ | 0.6780719 | 2.3015876 | 1.50080205 | 1.8073549 | 0.5260688 | 0.5945485 | 1.0565835 | 1.0285692 | PAX4    | PAX4    |\n",
       "| PTF1a | 1.263034 | 1 | 1 | 2.084064 | 2.232661 | 2.060047 | 1.682573 | 2.321928 | 1.887525 | 2.629939 | ⋯ | 2.5134907 | 5.6102867 | 3.10601324 | 3.5310695 | 1.4168397 | 2.0461418 | 3.1043367 | 2.5260688 | PTF1a   | PTF1a   |\n",
       "| PDX1 | 1.000000 | 1 | 1 | 4.490570 | 3.657640 | 4.738768 | 3.940167 | 2.817623 | 3.459432 | 2.538538 | ⋯ | 5.4127815 | 5.6351739 | 5.15583017 | 5.8001234 | 4.5607150 | 4.3512043 | 5.6412570 | 5.7112196 | PDX1    | PDX1    |\n",
       "\n"
      ],
      "text/plain": [
       "        SC.1     SC.2 SC.3 DE.1     DE.2     DE.3     DE.4     DE.1.1  \n",
       "HLXb9   1.709291 1    1    7.073606 5.559798 5.725469 7.150661 7.402842\n",
       "HHEX    1.521051 1    1    3.576522 5.241077 3.576522 5.241077 3.589763\n",
       "HNF4a   1.956057 1    1    6.381629 5.148365 4.932156 5.988117 5.460415\n",
       "ISL1    1.427606 1    1    4.804260 3.575312 4.804260 3.575312 5.358607\n",
       "NEUROD1 2.201634 1    1    2.555816 2.833902 4.074677 4.536675 2.347666\n",
       "NKX6.1  1.063503 1    1    2.157044 2.438293 2.157044 2.438293 2.087463\n",
       "PAX4    1.195348 1    1    1.669027 2.150560 1.669027 2.150560 1.883621\n",
       "PTF1a   1.263034 1    1    2.084064 2.232661 2.060047 1.682573 2.321928\n",
       "PDX1    1.000000 1    1    4.490570 3.657640 4.738768 3.940167 2.817623\n",
       "        DE.2.1   DE.3.1   ⋯ P5PE.1    P5PE.2    P5PE.3     P5PE.4    P5PE.1.1 \n",
       "HLXb9   6.678072 7.177420 ⋯ 3.3377111 3.8288346 3.49952702 5.3847406 2.4931349\n",
       "HHEX    5.241077 4.753818 ⋯ 0.1505597 0.8479969 0.07038933 1.2203300 0.1243281\n",
       "HNF4a   4.199358 3.542258 ⋯ 6.8774989 6.8005117 7.26341006 6.6434233 7.9835067\n",
       "ISL1    5.247168 5.547203 ⋯ 3.4776773 3.5945485 3.47767733 3.5945485 4.3334237\n",
       "NEUROD1 2.353323 4.919340 ⋯ 7.6346659 7.4450976 6.39454844 7.6690977 6.5599506\n",
       "NKX6.1  1.427606 2.405992 ⋯ 0.3219281 0.5360529 0.63226822 0.4541759 0.2016339\n",
       "PAX4    2.087463 2.247928 ⋯ 0.6780719 2.3015876 1.50080205 1.8073549 0.5260688\n",
       "PTF1a   1.887525 2.629939 ⋯ 2.5134907 5.6102867 3.10601324 3.5310695 1.4168397\n",
       "PDX1    3.459432 2.538538 ⋯ 5.4127815 5.6351739 5.15583017 5.8001234 4.5607150\n",
       "        P5PE.2.1  P5PE.3.1  P5PE.4.1  Gene    Gene.1 \n",
       "HLXb9   2.6438562 3.3936908 5.0682409 HLXb9   HLXb9  \n",
       "HHEX    0.1110313 0.0976108 1.1375035 HHEX    HHEX   \n",
       "HNF4a   7.7975967 7.2489712 7.9293176 HNF4a   HNF4a  \n",
       "ISL1    4.2750070 4.3334237 4.2750070 ISL1    ISL1   \n",
       "NEUROD1 7.8722131 6.9053268 7.5910361 NEUROD1 NEUROD1\n",
       "NKX6.1  0.3448285 0.2387869 0.2265085 NKX6.1  NKX6.1 \n",
       "PAX4    0.5945485 1.0565835 1.0285692 PAX4    PAX4   \n",
       "PTF1a   2.0461418 3.1043367 2.5260688 PTF1a   PTF1a  \n",
       "PDX1    4.3512043 5.6412570 5.7112196 PDX1    PDX1   "
      ]
     },
     "metadata": {},
     "output_type": "display_data"
    }
   ],
   "source": [
    "dim(x)\n",
    "w = rbind(x, 1:53)\n",
    "w\n",
    "w = rbind(x, \"a\")\n",
    "w\n",
    "w = cbind(x, 1:9)\n",
    "w\n",
    "w = cbind(x, \"hello\")\n",
    "w\n",
    "w = cbind(x, rownames(x))\n",
    "w\n",
    "w = cbind(x, Gene = rownames(x))\n",
    "w\n",
    "#w$Gene = rownames(x) == w = cbind(x, Gene = rownames(x))"
   ]
  },
  {
   "cell_type": "markdown",
   "id": "4e02f7ef-a0ab-4db7-9526-c5e9678e5f45",
   "metadata": {},
   "source": [
    "8. defining a new variable to initial it in a new plot"
   ]
  },
  {
   "cell_type": "code",
   "execution_count": 14,
   "id": "e816f04a-7819-4378-b5b3-65152e360ded",
   "metadata": {},
   "outputs": [
    {
     "data": {
      "text/html": [
       "<table class=\"dataframe\">\n",
       "<caption>A data.frame: 9 × 53</caption>\n",
       "<thead>\n",
       "\t<tr><th></th><th scope=col>SC.1</th><th scope=col>SC.2</th><th scope=col>SC.3</th><th scope=col>DE.1</th><th scope=col>DE.2</th><th scope=col>DE.3</th><th scope=col>DE.4</th><th scope=col>DE.1.1</th><th scope=col>DE.2.1</th><th scope=col>DE.3.1</th><th scope=col>⋯</th><th scope=col>P5PP.2.1</th><th scope=col>P5PE.1</th><th scope=col>P5PE.2</th><th scope=col>P5PE.3</th><th scope=col>P5PE.4</th><th scope=col>P5PE.1.1</th><th scope=col>P5PE.2.1</th><th scope=col>P5PE.3.1</th><th scope=col>P5PE.4.1</th><th scope=col>Gene</th></tr>\n",
       "\t<tr><th></th><th scope=col>&lt;dbl&gt;</th><th scope=col>&lt;dbl&gt;</th><th scope=col>&lt;dbl&gt;</th><th scope=col>&lt;dbl&gt;</th><th scope=col>&lt;dbl&gt;</th><th scope=col>&lt;dbl&gt;</th><th scope=col>&lt;dbl&gt;</th><th scope=col>&lt;dbl&gt;</th><th scope=col>&lt;dbl&gt;</th><th scope=col>&lt;dbl&gt;</th><th scope=col>⋯</th><th scope=col>&lt;dbl&gt;</th><th scope=col>&lt;dbl&gt;</th><th scope=col>&lt;dbl&gt;</th><th scope=col>&lt;dbl&gt;</th><th scope=col>&lt;dbl&gt;</th><th scope=col>&lt;dbl&gt;</th><th scope=col>&lt;dbl&gt;</th><th scope=col>&lt;dbl&gt;</th><th scope=col>&lt;dbl&gt;</th><th scope=col>&lt;chr&gt;</th></tr>\n",
       "</thead>\n",
       "<tbody>\n",
       "\t<tr><th scope=row>HLXb9</th><td>1.709291</td><td>1</td><td>1</td><td>7.073606</td><td>5.559798</td><td>5.725469</td><td>7.150661</td><td>7.402842</td><td>6.678072</td><td>7.177420</td><td>⋯</td><td>6.3476657</td><td>3.3377111</td><td>3.8288346</td><td>3.49952702</td><td>5.3847406</td><td>2.4931349</td><td>2.6438562</td><td>3.3936908</td><td>5.0682409</td><td>HLXb9  </td></tr>\n",
       "\t<tr><th scope=row>HHEX</th><td>1.521051</td><td>1</td><td>1</td><td>3.576522</td><td>5.241077</td><td>3.576522</td><td>5.241077</td><td>3.589763</td><td>5.241077</td><td>4.753818</td><td>⋯</td><td>4.0746767</td><td>0.1505597</td><td>0.8479969</td><td>0.07038933</td><td>1.2203300</td><td>0.1243281</td><td>0.1110313</td><td>0.0976108</td><td>1.1375035</td><td>HHEX   </td></tr>\n",
       "\t<tr><th scope=row>HNF4a</th><td>1.956057</td><td>1</td><td>1</td><td>6.381629</td><td>5.148365</td><td>4.932156</td><td>5.988117</td><td>5.460415</td><td>4.199358</td><td>3.542258</td><td>⋯</td><td>8.4438967</td><td>6.8774989</td><td>6.8005117</td><td>7.26341006</td><td>6.6434233</td><td>7.9835067</td><td>7.7975967</td><td>7.2489712</td><td>7.9293176</td><td>HNF4a  </td></tr>\n",
       "\t<tr><th scope=row>ISL1</th><td>1.427606</td><td>1</td><td>1</td><td>4.804260</td><td>3.575312</td><td>4.804260</td><td>3.575312</td><td>5.358607</td><td>5.247168</td><td>5.547203</td><td>⋯</td><td>4.8659188</td><td>3.4776773</td><td>3.5945485</td><td>3.47767733</td><td>3.5945485</td><td>4.3334237</td><td>4.2750070</td><td>4.3334237</td><td>4.2750070</td><td>ISL1   </td></tr>\n",
       "\t<tr><th scope=row>NEUROD1</th><td>2.201634</td><td>1</td><td>1</td><td>2.555816</td><td>2.833902</td><td>4.074677</td><td>4.536675</td><td>2.347666</td><td>2.353323</td><td>4.919340</td><td>⋯</td><td>7.4403709</td><td>7.6346659</td><td>7.4450976</td><td>6.39454844</td><td>7.6690977</td><td>6.5599506</td><td>7.8722131</td><td>6.9053268</td><td>7.5910361</td><td>NEUROD1</td></tr>\n",
       "\t<tr><th scope=row>NKX6.1</th><td>1.063503</td><td>1</td><td>1</td><td>2.157044</td><td>2.438293</td><td>2.157044</td><td>2.438293</td><td>2.087463</td><td>1.427606</td><td>2.405992</td><td>⋯</td><td>0.1375035</td><td>0.3219281</td><td>0.5360529</td><td>0.63226822</td><td>0.4541759</td><td>0.2016339</td><td>0.3448285</td><td>0.2387869</td><td>0.2265085</td><td>NKX6.1 </td></tr>\n",
       "\t<tr><th scope=row>PAX4</th><td>1.195348</td><td>1</td><td>1</td><td>1.669027</td><td>2.150560</td><td>1.669027</td><td>2.150560</td><td>1.883621</td><td>2.087463</td><td>2.247928</td><td>⋯</td><td>3.4554916</td><td>0.6780719</td><td>2.3015876</td><td>1.50080205</td><td>1.8073549</td><td>0.5260688</td><td>0.5945485</td><td>1.0565835</td><td>1.0285692</td><td>PAX4   </td></tr>\n",
       "\t<tr><th scope=row>PTF1a</th><td>1.263034</td><td>1</td><td>1</td><td>2.084064</td><td>2.232661</td><td>2.060047</td><td>1.682573</td><td>2.321928</td><td>1.887525</td><td>2.629939</td><td>⋯</td><td>1.3448285</td><td>2.5134907</td><td>5.6102867</td><td>3.10601324</td><td>3.5310695</td><td>1.4168397</td><td>2.0461418</td><td>3.1043367</td><td>2.5260688</td><td>PTF1a  </td></tr>\n",
       "\t<tr><th scope=row>PDX1</th><td>1.000000</td><td>1</td><td>1</td><td>4.490570</td><td>3.657640</td><td>4.738768</td><td>3.940167</td><td>2.817623</td><td>3.459432</td><td>2.538538</td><td>⋯</td><td>8.4089666</td><td>5.4127815</td><td>5.6351739</td><td>5.15583017</td><td>5.8001234</td><td>4.5607150</td><td>4.3512043</td><td>5.6412570</td><td>5.7112196</td><td>PDX1   </td></tr>\n",
       "</tbody>\n",
       "</table>\n"
      ],
      "text/latex": [
       "A data.frame: 9 × 53\n",
       "\\begin{tabular}{r|lllllllllllllllllllll}\n",
       "  & SC.1 & SC.2 & SC.3 & DE.1 & DE.2 & DE.3 & DE.4 & DE.1.1 & DE.2.1 & DE.3.1 & ⋯ & P5PP.2.1 & P5PE.1 & P5PE.2 & P5PE.3 & P5PE.4 & P5PE.1.1 & P5PE.2.1 & P5PE.3.1 & P5PE.4.1 & Gene\\\\\n",
       "  & <dbl> & <dbl> & <dbl> & <dbl> & <dbl> & <dbl> & <dbl> & <dbl> & <dbl> & <dbl> & ⋯ & <dbl> & <dbl> & <dbl> & <dbl> & <dbl> & <dbl> & <dbl> & <dbl> & <dbl> & <chr>\\\\\n",
       "\\hline\n",
       "\tHLXb9 & 1.709291 & 1 & 1 & 7.073606 & 5.559798 & 5.725469 & 7.150661 & 7.402842 & 6.678072 & 7.177420 & ⋯ & 6.3476657 & 3.3377111 & 3.8288346 & 3.49952702 & 5.3847406 & 2.4931349 & 2.6438562 & 3.3936908 & 5.0682409 & HLXb9  \\\\\n",
       "\tHHEX & 1.521051 & 1 & 1 & 3.576522 & 5.241077 & 3.576522 & 5.241077 & 3.589763 & 5.241077 & 4.753818 & ⋯ & 4.0746767 & 0.1505597 & 0.8479969 & 0.07038933 & 1.2203300 & 0.1243281 & 0.1110313 & 0.0976108 & 1.1375035 & HHEX   \\\\\n",
       "\tHNF4a & 1.956057 & 1 & 1 & 6.381629 & 5.148365 & 4.932156 & 5.988117 & 5.460415 & 4.199358 & 3.542258 & ⋯ & 8.4438967 & 6.8774989 & 6.8005117 & 7.26341006 & 6.6434233 & 7.9835067 & 7.7975967 & 7.2489712 & 7.9293176 & HNF4a  \\\\\n",
       "\tISL1 & 1.427606 & 1 & 1 & 4.804260 & 3.575312 & 4.804260 & 3.575312 & 5.358607 & 5.247168 & 5.547203 & ⋯ & 4.8659188 & 3.4776773 & 3.5945485 & 3.47767733 & 3.5945485 & 4.3334237 & 4.2750070 & 4.3334237 & 4.2750070 & ISL1   \\\\\n",
       "\tNEUROD1 & 2.201634 & 1 & 1 & 2.555816 & 2.833902 & 4.074677 & 4.536675 & 2.347666 & 2.353323 & 4.919340 & ⋯ & 7.4403709 & 7.6346659 & 7.4450976 & 6.39454844 & 7.6690977 & 6.5599506 & 7.8722131 & 6.9053268 & 7.5910361 & NEUROD1\\\\\n",
       "\tNKX6.1 & 1.063503 & 1 & 1 & 2.157044 & 2.438293 & 2.157044 & 2.438293 & 2.087463 & 1.427606 & 2.405992 & ⋯ & 0.1375035 & 0.3219281 & 0.5360529 & 0.63226822 & 0.4541759 & 0.2016339 & 0.3448285 & 0.2387869 & 0.2265085 & NKX6.1 \\\\\n",
       "\tPAX4 & 1.195348 & 1 & 1 & 1.669027 & 2.150560 & 1.669027 & 2.150560 & 1.883621 & 2.087463 & 2.247928 & ⋯ & 3.4554916 & 0.6780719 & 2.3015876 & 1.50080205 & 1.8073549 & 0.5260688 & 0.5945485 & 1.0565835 & 1.0285692 & PAX4   \\\\\n",
       "\tPTF1a & 1.263034 & 1 & 1 & 2.084064 & 2.232661 & 2.060047 & 1.682573 & 2.321928 & 1.887525 & 2.629939 & ⋯ & 1.3448285 & 2.5134907 & 5.6102867 & 3.10601324 & 3.5310695 & 1.4168397 & 2.0461418 & 3.1043367 & 2.5260688 & PTF1a  \\\\\n",
       "\tPDX1 & 1.000000 & 1 & 1 & 4.490570 & 3.657640 & 4.738768 & 3.940167 & 2.817623 & 3.459432 & 2.538538 & ⋯ & 8.4089666 & 5.4127815 & 5.6351739 & 5.15583017 & 5.8001234 & 4.5607150 & 4.3512043 & 5.6412570 & 5.7112196 & PDX1   \\\\\n",
       "\\end{tabular}\n"
      ],
      "text/markdown": [
       "\n",
       "A data.frame: 9 × 53\n",
       "\n",
       "| <!--/--> | SC.1 &lt;dbl&gt; | SC.2 &lt;dbl&gt; | SC.3 &lt;dbl&gt; | DE.1 &lt;dbl&gt; | DE.2 &lt;dbl&gt; | DE.3 &lt;dbl&gt; | DE.4 &lt;dbl&gt; | DE.1.1 &lt;dbl&gt; | DE.2.1 &lt;dbl&gt; | DE.3.1 &lt;dbl&gt; | ⋯ ⋯ | P5PP.2.1 &lt;dbl&gt; | P5PE.1 &lt;dbl&gt; | P5PE.2 &lt;dbl&gt; | P5PE.3 &lt;dbl&gt; | P5PE.4 &lt;dbl&gt; | P5PE.1.1 &lt;dbl&gt; | P5PE.2.1 &lt;dbl&gt; | P5PE.3.1 &lt;dbl&gt; | P5PE.4.1 &lt;dbl&gt; | Gene &lt;chr&gt; |\n",
       "|---|---|---|---|---|---|---|---|---|---|---|---|---|---|---|---|---|---|---|---|---|---|\n",
       "| HLXb9 | 1.709291 | 1 | 1 | 7.073606 | 5.559798 | 5.725469 | 7.150661 | 7.402842 | 6.678072 | 7.177420 | ⋯ | 6.3476657 | 3.3377111 | 3.8288346 | 3.49952702 | 5.3847406 | 2.4931349 | 2.6438562 | 3.3936908 | 5.0682409 | HLXb9   |\n",
       "| HHEX | 1.521051 | 1 | 1 | 3.576522 | 5.241077 | 3.576522 | 5.241077 | 3.589763 | 5.241077 | 4.753818 | ⋯ | 4.0746767 | 0.1505597 | 0.8479969 | 0.07038933 | 1.2203300 | 0.1243281 | 0.1110313 | 0.0976108 | 1.1375035 | HHEX    |\n",
       "| HNF4a | 1.956057 | 1 | 1 | 6.381629 | 5.148365 | 4.932156 | 5.988117 | 5.460415 | 4.199358 | 3.542258 | ⋯ | 8.4438967 | 6.8774989 | 6.8005117 | 7.26341006 | 6.6434233 | 7.9835067 | 7.7975967 | 7.2489712 | 7.9293176 | HNF4a   |\n",
       "| ISL1 | 1.427606 | 1 | 1 | 4.804260 | 3.575312 | 4.804260 | 3.575312 | 5.358607 | 5.247168 | 5.547203 | ⋯ | 4.8659188 | 3.4776773 | 3.5945485 | 3.47767733 | 3.5945485 | 4.3334237 | 4.2750070 | 4.3334237 | 4.2750070 | ISL1    |\n",
       "| NEUROD1 | 2.201634 | 1 | 1 | 2.555816 | 2.833902 | 4.074677 | 4.536675 | 2.347666 | 2.353323 | 4.919340 | ⋯ | 7.4403709 | 7.6346659 | 7.4450976 | 6.39454844 | 7.6690977 | 6.5599506 | 7.8722131 | 6.9053268 | 7.5910361 | NEUROD1 |\n",
       "| NKX6.1 | 1.063503 | 1 | 1 | 2.157044 | 2.438293 | 2.157044 | 2.438293 | 2.087463 | 1.427606 | 2.405992 | ⋯ | 0.1375035 | 0.3219281 | 0.5360529 | 0.63226822 | 0.4541759 | 0.2016339 | 0.3448285 | 0.2387869 | 0.2265085 | NKX6.1  |\n",
       "| PAX4 | 1.195348 | 1 | 1 | 1.669027 | 2.150560 | 1.669027 | 2.150560 | 1.883621 | 2.087463 | 2.247928 | ⋯ | 3.4554916 | 0.6780719 | 2.3015876 | 1.50080205 | 1.8073549 | 0.5260688 | 0.5945485 | 1.0565835 | 1.0285692 | PAX4    |\n",
       "| PTF1a | 1.263034 | 1 | 1 | 2.084064 | 2.232661 | 2.060047 | 1.682573 | 2.321928 | 1.887525 | 2.629939 | ⋯ | 1.3448285 | 2.5134907 | 5.6102867 | 3.10601324 | 3.5310695 | 1.4168397 | 2.0461418 | 3.1043367 | 2.5260688 | PTF1a   |\n",
       "| PDX1 | 1.000000 | 1 | 1 | 4.490570 | 3.657640 | 4.738768 | 3.940167 | 2.817623 | 3.459432 | 2.538538 | ⋯ | 8.4089666 | 5.4127815 | 5.6351739 | 5.15583017 | 5.8001234 | 4.5607150 | 4.3512043 | 5.6412570 | 5.7112196 | PDX1    |\n",
       "\n"
      ],
      "text/plain": [
       "        SC.1     SC.2 SC.3 DE.1     DE.2     DE.3     DE.4     DE.1.1  \n",
       "HLXb9   1.709291 1    1    7.073606 5.559798 5.725469 7.150661 7.402842\n",
       "HHEX    1.521051 1    1    3.576522 5.241077 3.576522 5.241077 3.589763\n",
       "HNF4a   1.956057 1    1    6.381629 5.148365 4.932156 5.988117 5.460415\n",
       "ISL1    1.427606 1    1    4.804260 3.575312 4.804260 3.575312 5.358607\n",
       "NEUROD1 2.201634 1    1    2.555816 2.833902 4.074677 4.536675 2.347666\n",
       "NKX6.1  1.063503 1    1    2.157044 2.438293 2.157044 2.438293 2.087463\n",
       "PAX4    1.195348 1    1    1.669027 2.150560 1.669027 2.150560 1.883621\n",
       "PTF1a   1.263034 1    1    2.084064 2.232661 2.060047 1.682573 2.321928\n",
       "PDX1    1.000000 1    1    4.490570 3.657640 4.738768 3.940167 2.817623\n",
       "        DE.2.1   DE.3.1   ⋯ P5PP.2.1  P5PE.1    P5PE.2    P5PE.3     P5PE.4   \n",
       "HLXb9   6.678072 7.177420 ⋯ 6.3476657 3.3377111 3.8288346 3.49952702 5.3847406\n",
       "HHEX    5.241077 4.753818 ⋯ 4.0746767 0.1505597 0.8479969 0.07038933 1.2203300\n",
       "HNF4a   4.199358 3.542258 ⋯ 8.4438967 6.8774989 6.8005117 7.26341006 6.6434233\n",
       "ISL1    5.247168 5.547203 ⋯ 4.8659188 3.4776773 3.5945485 3.47767733 3.5945485\n",
       "NEUROD1 2.353323 4.919340 ⋯ 7.4403709 7.6346659 7.4450976 6.39454844 7.6690977\n",
       "NKX6.1  1.427606 2.405992 ⋯ 0.1375035 0.3219281 0.5360529 0.63226822 0.4541759\n",
       "PAX4    2.087463 2.247928 ⋯ 3.4554916 0.6780719 2.3015876 1.50080205 1.8073549\n",
       "PTF1a   1.887525 2.629939 ⋯ 1.3448285 2.5134907 5.6102867 3.10601324 3.5310695\n",
       "PDX1    3.459432 2.538538 ⋯ 8.4089666 5.4127815 5.6351739 5.15583017 5.8001234\n",
       "        P5PE.1.1  P5PE.2.1  P5PE.3.1  P5PE.4.1  Gene   \n",
       "HLXb9   2.4931349 2.6438562 3.3936908 5.0682409 HLXb9  \n",
       "HHEX    0.1243281 0.1110313 0.0976108 1.1375035 HHEX   \n",
       "HNF4a   7.9835067 7.7975967 7.2489712 7.9293176 HNF4a  \n",
       "ISL1    4.3334237 4.2750070 4.3334237 4.2750070 ISL1   \n",
       "NEUROD1 6.5599506 7.8722131 6.9053268 7.5910361 NEUROD1\n",
       "NKX6.1  0.2016339 0.3448285 0.2387869 0.2265085 NKX6.1 \n",
       "PAX4    0.5260688 0.5945485 1.0565835 1.0285692 PAX4   \n",
       "PTF1a   1.4168397 2.0461418 3.1043367 2.5260688 PTF1a  \n",
       "PDX1    4.5607150 4.3512043 5.6412570 5.7112196 PDX1   "
      ]
     },
     "metadata": {},
     "output_type": "display_data"
    },
    {
     "data": {
      "text/html": [
       "<style>\n",
       ".list-inline {list-style: none; margin:0; padding: 0}\n",
       ".list-inline>li {display: inline-block}\n",
       ".list-inline>li:not(:last-child)::after {content: \"\\00b7\"; padding: 0 .5ex}\n",
       "</style>\n",
       "<ol class=list-inline><li>7.07360604057494</li><li>3.5765221379205</li><li>6.38162946703366</li><li>4.80426011563474</li><li>2.55581615506164</li><li>2.15704371014558</li><li>1.66902676550963</li><li>2.08406426478847</li><li>4.4905701304462</li></ol>\n"
      ],
      "text/latex": [
       "\\begin{enumerate*}\n",
       "\\item 7.07360604057494\n",
       "\\item 3.5765221379205\n",
       "\\item 6.38162946703366\n",
       "\\item 4.80426011563474\n",
       "\\item 2.55581615506164\n",
       "\\item 2.15704371014558\n",
       "\\item 1.66902676550963\n",
       "\\item 2.08406426478847\n",
       "\\item 4.4905701304462\n",
       "\\end{enumerate*}\n"
      ],
      "text/markdown": [
       "1. 7.07360604057494\n",
       "2. 3.5765221379205\n",
       "3. 6.38162946703366\n",
       "4. 4.80426011563474\n",
       "5. 2.55581615506164\n",
       "6. 2.15704371014558\n",
       "7. 1.66902676550963\n",
       "8. 2.08406426478847\n",
       "9. 4.4905701304462\n",
       "\n",
       "\n"
      ],
      "text/plain": [
       "[1] 7.073606 3.576522 6.381629 4.804260 2.555816 2.157044 1.669027 2.084064\n",
       "[9] 4.490570"
      ]
     },
     "metadata": {},
     "output_type": "display_data"
    },
    {
     "data": {
      "text/html": [
       "<table class=\"dataframe\">\n",
       "<caption>A data.frame: 9 × 1</caption>\n",
       "<thead>\n",
       "\t<tr><th></th><th scope=col>DE.1</th></tr>\n",
       "\t<tr><th></th><th scope=col>&lt;dbl&gt;</th></tr>\n",
       "</thead>\n",
       "<tbody>\n",
       "\t<tr><th scope=row>HLXb9</th><td>7.073606</td></tr>\n",
       "\t<tr><th scope=row>HHEX</th><td>3.576522</td></tr>\n",
       "\t<tr><th scope=row>HNF4a</th><td>6.381629</td></tr>\n",
       "\t<tr><th scope=row>ISL1</th><td>4.804260</td></tr>\n",
       "\t<tr><th scope=row>NEUROD1</th><td>2.555816</td></tr>\n",
       "\t<tr><th scope=row>NKX6.1</th><td>2.157044</td></tr>\n",
       "\t<tr><th scope=row>PAX4</th><td>1.669027</td></tr>\n",
       "\t<tr><th scope=row>PTF1a</th><td>2.084064</td></tr>\n",
       "\t<tr><th scope=row>PDX1</th><td>4.490570</td></tr>\n",
       "</tbody>\n",
       "</table>\n"
      ],
      "text/latex": [
       "A data.frame: 9 × 1\n",
       "\\begin{tabular}{r|l}\n",
       "  & DE.1\\\\\n",
       "  & <dbl>\\\\\n",
       "\\hline\n",
       "\tHLXb9 & 7.073606\\\\\n",
       "\tHHEX & 3.576522\\\\\n",
       "\tHNF4a & 6.381629\\\\\n",
       "\tISL1 & 4.804260\\\\\n",
       "\tNEUROD1 & 2.555816\\\\\n",
       "\tNKX6.1 & 2.157044\\\\\n",
       "\tPAX4 & 1.669027\\\\\n",
       "\tPTF1a & 2.084064\\\\\n",
       "\tPDX1 & 4.490570\\\\\n",
       "\\end{tabular}\n"
      ],
      "text/markdown": [
       "\n",
       "A data.frame: 9 × 1\n",
       "\n",
       "| <!--/--> | DE.1 &lt;dbl&gt; |\n",
       "|---|---|\n",
       "| HLXb9 | 7.073606 |\n",
       "| HHEX | 3.576522 |\n",
       "| HNF4a | 6.381629 |\n",
       "| ISL1 | 4.804260 |\n",
       "| NEUROD1 | 2.555816 |\n",
       "| NKX6.1 | 2.157044 |\n",
       "| PAX4 | 1.669027 |\n",
       "| PTF1a | 2.084064 |\n",
       "| PDX1 | 4.490570 |\n",
       "\n"
      ],
      "text/plain": [
       "        DE.1    \n",
       "HLXb9   7.073606\n",
       "HHEX    3.576522\n",
       "HNF4a   6.381629\n",
       "ISL1    4.804260\n",
       "NEUROD1 2.555816\n",
       "NKX6.1  2.157044\n",
       "PAX4    1.669027\n",
       "PTF1a   2.084064\n",
       "PDX1    4.490570"
      ]
     },
     "metadata": {},
     "output_type": "display_data"
    },
    {
     "data": {
      "text/html": [
       "<table class=\"dataframe\">\n",
       "<caption>A data.frame: 9 × 2</caption>\n",
       "<thead>\n",
       "\t<tr><th></th><th scope=col>Gene</th><th scope=col>DE.1</th></tr>\n",
       "\t<tr><th></th><th scope=col>&lt;chr&gt;</th><th scope=col>&lt;dbl&gt;</th></tr>\n",
       "</thead>\n",
       "<tbody>\n",
       "\t<tr><th scope=row>HLXb9</th><td>HLXb9  </td><td>7.073606</td></tr>\n",
       "\t<tr><th scope=row>HHEX</th><td>HHEX   </td><td>3.576522</td></tr>\n",
       "\t<tr><th scope=row>HNF4a</th><td>HNF4a  </td><td>6.381629</td></tr>\n",
       "\t<tr><th scope=row>ISL1</th><td>ISL1   </td><td>4.804260</td></tr>\n",
       "\t<tr><th scope=row>NEUROD1</th><td>NEUROD1</td><td>2.555816</td></tr>\n",
       "\t<tr><th scope=row>NKX6.1</th><td>NKX6.1 </td><td>2.157044</td></tr>\n",
       "\t<tr><th scope=row>PAX4</th><td>PAX4   </td><td>1.669027</td></tr>\n",
       "\t<tr><th scope=row>PTF1a</th><td>PTF1a  </td><td>2.084064</td></tr>\n",
       "\t<tr><th scope=row>PDX1</th><td>PDX1   </td><td>4.490570</td></tr>\n",
       "</tbody>\n",
       "</table>\n"
      ],
      "text/latex": [
       "A data.frame: 9 × 2\n",
       "\\begin{tabular}{r|ll}\n",
       "  & Gene & DE.1\\\\\n",
       "  & <chr> & <dbl>\\\\\n",
       "\\hline\n",
       "\tHLXb9 & HLXb9   & 7.073606\\\\\n",
       "\tHHEX & HHEX    & 3.576522\\\\\n",
       "\tHNF4a & HNF4a   & 6.381629\\\\\n",
       "\tISL1 & ISL1    & 4.804260\\\\\n",
       "\tNEUROD1 & NEUROD1 & 2.555816\\\\\n",
       "\tNKX6.1 & NKX6.1  & 2.157044\\\\\n",
       "\tPAX4 & PAX4    & 1.669027\\\\\n",
       "\tPTF1a & PTF1a   & 2.084064\\\\\n",
       "\tPDX1 & PDX1    & 4.490570\\\\\n",
       "\\end{tabular}\n"
      ],
      "text/markdown": [
       "\n",
       "A data.frame: 9 × 2\n",
       "\n",
       "| <!--/--> | Gene &lt;chr&gt; | DE.1 &lt;dbl&gt; |\n",
       "|---|---|---|\n",
       "| HLXb9 | HLXb9   | 7.073606 |\n",
       "| HHEX | HHEX    | 3.576522 |\n",
       "| HNF4a | HNF4a   | 6.381629 |\n",
       "| ISL1 | ISL1    | 4.804260 |\n",
       "| NEUROD1 | NEUROD1 | 2.555816 |\n",
       "| NKX6.1 | NKX6.1  | 2.157044 |\n",
       "| PAX4 | PAX4    | 1.669027 |\n",
       "| PTF1a | PTF1a   | 2.084064 |\n",
       "| PDX1 | PDX1    | 4.490570 |\n",
       "\n"
      ],
      "text/plain": [
       "        Gene    DE.1    \n",
       "HLXb9   HLXb9   7.073606\n",
       "HHEX    HHEX    3.576522\n",
       "HNF4a   HNF4a   6.381629\n",
       "ISL1    ISL1    4.804260\n",
       "NEUROD1 NEUROD1 2.555816\n",
       "NKX6.1  NKX6.1  2.157044\n",
       "PAX4    PAX4    1.669027\n",
       "PTF1a   PTF1a   2.084064\n",
       "PDX1    PDX1    4.490570"
      ]
     },
     "metadata": {},
     "output_type": "display_data"
    }
   ],
   "source": [
    "x\n",
    "print(\"-----------------------------------------------------------------------------------------------------------------------------\")\n",
    "\n",
    "y = x[, \"DE.1\"]\n",
    "y\n",
    "print(\"-----------------------------------------------------------------------------------------------------------------------------\")\n",
    "\n",
    "y = x[, \"DE.1\", drop = F]\n",
    "y\n",
    "print(\"-----------------------------------------------------------------------------------------------------------------------------\")\n",
    "\n",
    "y = x[, c(\"Gene\",\"DE.1\")]\n",
    "y"
   ]
  },
  {
   "cell_type": "markdown",
   "id": "c07eea68-68a6-4787-ad3b-2dfc251cb7e6",
   "metadata": {},
   "source": [
    "9. lets make a barplot with ggplot2"
   ]
  },
  {
   "cell_type": "code",
   "execution_count": 10,
   "id": "9355f7cf-7f69-4c08-91b4-211b75307b32",
   "metadata": {},
   "outputs": [
    {
     "data": {
      "image/png": "[encoded data removed]",
      "text/plain": [
       "plot without title"
      ]
     },
     "metadata": {
      "image/png": {
       "height": 420,
       "width": 420
      }
     },
     "output_type": "display_data"
    }
   ],
   "source": [
    "# if you run the next comment, it will make an error. why?\n",
    "#ggplot(y, aes(x=Gene, y=DE.1)) + geom_bar()\n",
    "ggplot(y, aes(x= Gene, y=DE.1)) + geom_bar(stat = \"identity\")"
   ]
  },
  {
   "cell_type": "markdown",
   "id": "8dd5769c-d840-454c-ac04-249f0159735e",
   "metadata": {},
   "source": [
    "10. and make it a little bit beautifull"
   ]
  },
  {
   "cell_type": "code",
   "execution_count": 11,
   "id": "c9bc7be1-9343-4112-a4e1-337b395926bf",
   "metadata": {},
   "outputs": [
    {
     "data": {
      "image/png": "[encoded data removed]",
      "text/plain": [
       "plot without title"
      ]
     },
     "metadata": {
      "image/png": {
       "height": 420,
       "width": 420
      }
     },
     "output_type": "display_data"
    },
    {
     "data": {
      "image/png": "[encoded data removed]",
      "text/plain": [
       "plot without title"
      ]
     },
     "metadata": {
      "image/png": {
       "height": 420,
       "width": 420
      }
     },
     "output_type": "display_data"
    }
   ],
   "source": [
    "ggplot(y, aes(x=Gene, y=DE.1, fill = Gene)) + geom_bar(stat = \"identity\")\n",
    "ggplot(y, aes(x=Gene, y=DE.1, fill =DE.1)) + geom_bar(stat = \"identity\")"
   ]
  },
  {
   "cell_type": "markdown",
   "id": "ef020ab0-cfa3-45bf-b7fb-5ace114bef86",
   "metadata": {},
   "source": [
    "11. have our plots as an object"
   ]
  },
  {
   "cell_type": "code",
   "execution_count": 12,
   "id": "a5083fe4-ac0e-49ab-b158-385685f13498",
   "metadata": {},
   "outputs": [
    {
     "data": {
      "image/png": "[encoded data removed]",
      "text/plain": [
       "plot without title"
      ]
     },
     "metadata": {
      "image/png": {
       "height": 420,
       "width": 420
      }
     },
     "output_type": "display_data"
    },
    {
     "data": {
      "image/png": "[encoded data removed]",
      "text/plain": [
       "plot without title"
      ]
     },
     "metadata": {
      "image/png": {
       "height": 420,
       "width": 420
      }
     },
     "output_type": "display_data"
    }
   ],
   "source": [
    "p1 = ggplot(y, aes(x=Gene, y=DE.1, fill = Gene)) + geom_bar(stat = \"identity\")\n",
    "p1\n",
    "#adding label\n",
    "p2 = p + ylab(\"expression of genes in defenitive endoderm 1\")\n",
    "p2"
   ]
  },
  {
   "cell_type": "markdown",
   "id": "9ca84bc4-7a1b-40b5-a574-9062d2ed80bf",
   "metadata": {},
   "source": [
    "12. and save them in pdf format"
   ]
  },
  {
   "cell_type": "code",
   "execution_count": 13,
   "id": "147b750d-c693-466c-adfd-7a48cd49044b",
   "metadata": {},
   "outputs": [
    {
     "data": {
      "text/html": [
       "<strong>png:</strong> 2"
      ],
      "text/latex": [
       "\\textbf{png:} 2"
      ],
      "text/markdown": [
       "**png:** 2"
      ],
      "text/plain": [
       "png \n",
       "  2 "
      ]
     },
     "metadata": {},
     "output_type": "display_data"
    }
   ],
   "source": [
    "pdf(\"C:/users/abolf/Desktop/jupyter train/intro bioinf sharifi practical/barplots with ggplot 2.pdf\")\n",
    "p1\n",
    "p2\n",
    "dev.off()"
   ]
  },
  {
   "cell_type": "code",
   "execution_count": null,
   "id": "4c26c53d-15ba-4ffe-9898-b592ecd95aac",
   "metadata": {},
   "outputs": [],
   "source": []
  }
 ],
 "metadata": {
  "kernelspec": {
   "display_name": "R",
   "language": "R",
   "name": "ir"
  },
  "language_info": {
   "codemirror_mode": "r",
   "file_extension": ".r",
   "mimetype": "text/x-r-source",
   "name": "R",
   "pygments_lexer": "r",
   "version": "4.3.1"
  }
 },
 "nbformat": 4,
 "nbformat_minor": 5
}
