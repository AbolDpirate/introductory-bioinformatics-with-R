{
 "cells": [
  {
   "cell_type": "markdown",
   "id": "b9055395-a6b0-4a66-af58-59fcc2bca425",
   "metadata": {},
   "source": [
    "R Basics\n",
    "----------\n",
    "Introductory Bioinformatics Sharifi Zarchi The practical sessions part 3\n",
    "-----------"
   ]
  },
  {
   "cell_type": "markdown",
   "id": "4ff6085c-4a8f-456c-ba7f-843531ebc331",
   "metadata": {},
   "source": [
    "1) Calling the file and its initial review"
   ]
  },
  {
   "cell_type": "code",
   "execution_count": 1,
   "id": "c919b707-a8ce-4f9d-94a9-cba00116aef7",
   "metadata": {},
   "outputs": [
    {
     "data": {
      "text/html": [
       "<style>\n",
       ".list-inline {list-style: none; margin:0; padding: 0}\n",
       ".list-inline>li {display: inline-block}\n",
       ".list-inline>li:not(:last-child)::after {content: \"\\00b7\"; padding: 0 .5ex}\n",
       "</style>\n",
       "<ol class=list-inline><li>52</li><li>10</li></ol>\n"
      ],
      "text/latex": [
       "\\begin{enumerate*}\n",
       "\\item 52\n",
       "\\item 10\n",
       "\\end{enumerate*}\n"
      ],
      "text/markdown": [
       "1. 52\n",
       "2. 10\n",
       "\n",
       "\n"
      ],
      "text/plain": [
       "[1] 52 10"
      ]
     },
     "metadata": {},
     "output_type": "display_data"
    },
    {
     "data": {
      "text/html": [
       "<table class=\"dataframe\">\n",
       "<caption>A data.frame: 6 × 10</caption>\n",
       "<thead>\n",
       "\t<tr><th></th><th scope=col>Type</th><th scope=col>HLXb9</th><th scope=col>HHEX</th><th scope=col>HNF4a</th><th scope=col>ISL1</th><th scope=col>NEUROD1</th><th scope=col>NKX6.1</th><th scope=col>PAX4</th><th scope=col>PTF1a</th><th scope=col>PDX1</th></tr>\n",
       "\t<tr><th></th><th scope=col>&lt;chr&gt;</th><th scope=col>&lt;dbl&gt;</th><th scope=col>&lt;dbl&gt;</th><th scope=col>&lt;dbl&gt;</th><th scope=col>&lt;dbl&gt;</th><th scope=col>&lt;dbl&gt;</th><th scope=col>&lt;dbl&gt;</th><th scope=col>&lt;dbl&gt;</th><th scope=col>&lt;dbl&gt;</th><th scope=col>&lt;dbl&gt;</th></tr>\n",
       "</thead>\n",
       "<tbody>\n",
       "\t<tr><th scope=row>1</th><td>SC.1</td><td>  2.27</td><td> 1.87</td><td> 2.880</td><td> 1.69</td><td> 3.60</td><td>1.09</td><td>1.29</td><td>1.40</td><td> 1.00</td></tr>\n",
       "\t<tr><th scope=row>2</th><td>SC.2</td><td>  1.00</td><td> 1.00</td><td> 1.000</td><td> 1.00</td><td> 1.00</td><td>1.00</td><td>1.00</td><td>1.00</td><td> 1.00</td></tr>\n",
       "\t<tr><th scope=row>3</th><td>SC.3</td><td>  1.00</td><td> 1.00</td><td> 1.000</td><td> 1.00</td><td> 1.00</td><td>1.00</td><td>1.00</td><td>1.00</td><td> 1.00</td></tr>\n",
       "\t<tr><th scope=row>4</th><td>DE-1</td><td>133.70</td><td>10.93</td><td>82.380</td><td>26.94</td><td> 4.88</td><td>3.46</td><td>2.18</td><td>3.24</td><td>21.48</td></tr>\n",
       "\t<tr><th scope=row>5</th><td>DE-2</td><td> 46.17</td><td>36.82</td><td>34.466</td><td>10.92</td><td> 6.13</td><td>4.42</td><td>3.44</td><td>3.70</td><td>11.62</td></tr>\n",
       "\t<tr><th scope=row>6</th><td>DE-3</td><td> 51.91</td><td>10.93</td><td>29.530</td><td>26.94</td><td>15.85</td><td>3.46</td><td>2.18</td><td>3.17</td><td>25.70</td></tr>\n",
       "</tbody>\n",
       "</table>\n"
      ],
      "text/latex": [
       "A data.frame: 6 × 10\n",
       "\\begin{tabular}{r|llllllllll}\n",
       "  & Type & HLXb9 & HHEX & HNF4a & ISL1 & NEUROD1 & NKX6.1 & PAX4 & PTF1a & PDX1\\\\\n",
       "  & <chr> & <dbl> & <dbl> & <dbl> & <dbl> & <dbl> & <dbl> & <dbl> & <dbl> & <dbl>\\\\\n",
       "\\hline\n",
       "\t1 & SC.1 &   2.27 &  1.87 &  2.880 &  1.69 &  3.60 & 1.09 & 1.29 & 1.40 &  1.00\\\\\n",
       "\t2 & SC.2 &   1.00 &  1.00 &  1.000 &  1.00 &  1.00 & 1.00 & 1.00 & 1.00 &  1.00\\\\\n",
       "\t3 & SC.3 &   1.00 &  1.00 &  1.000 &  1.00 &  1.00 & 1.00 & 1.00 & 1.00 &  1.00\\\\\n",
       "\t4 & DE-1 & 133.70 & 10.93 & 82.380 & 26.94 &  4.88 & 3.46 & 2.18 & 3.24 & 21.48\\\\\n",
       "\t5 & DE-2 &  46.17 & 36.82 & 34.466 & 10.92 &  6.13 & 4.42 & 3.44 & 3.70 & 11.62\\\\\n",
       "\t6 & DE-3 &  51.91 & 10.93 & 29.530 & 26.94 & 15.85 & 3.46 & 2.18 & 3.17 & 25.70\\\\\n",
       "\\end{tabular}\n"
      ],
      "text/markdown": [
       "\n",
       "A data.frame: 6 × 10\n",
       "\n",
       "| <!--/--> | Type &lt;chr&gt; | HLXb9 &lt;dbl&gt; | HHEX &lt;dbl&gt; | HNF4a &lt;dbl&gt; | ISL1 &lt;dbl&gt; | NEUROD1 &lt;dbl&gt; | NKX6.1 &lt;dbl&gt; | PAX4 &lt;dbl&gt; | PTF1a &lt;dbl&gt; | PDX1 &lt;dbl&gt; |\n",
       "|---|---|---|---|---|---|---|---|---|---|---|\n",
       "| 1 | SC.1 |   2.27 |  1.87 |  2.880 |  1.69 |  3.60 | 1.09 | 1.29 | 1.40 |  1.00 |\n",
       "| 2 | SC.2 |   1.00 |  1.00 |  1.000 |  1.00 |  1.00 | 1.00 | 1.00 | 1.00 |  1.00 |\n",
       "| 3 | SC.3 |   1.00 |  1.00 |  1.000 |  1.00 |  1.00 | 1.00 | 1.00 | 1.00 |  1.00 |\n",
       "| 4 | DE-1 | 133.70 | 10.93 | 82.380 | 26.94 |  4.88 | 3.46 | 2.18 | 3.24 | 21.48 |\n",
       "| 5 | DE-2 |  46.17 | 36.82 | 34.466 | 10.92 |  6.13 | 4.42 | 3.44 | 3.70 | 11.62 |\n",
       "| 6 | DE-3 |  51.91 | 10.93 | 29.530 | 26.94 | 15.85 | 3.46 | 2.18 | 3.17 | 25.70 |\n",
       "\n"
      ],
      "text/plain": [
       "  Type HLXb9  HHEX  HNF4a  ISL1  NEUROD1 NKX6.1 PAX4 PTF1a PDX1 \n",
       "1 SC.1   2.27  1.87  2.880  1.69  3.60   1.09   1.29 1.40   1.00\n",
       "2 SC.2   1.00  1.00  1.000  1.00  1.00   1.00   1.00 1.00   1.00\n",
       "3 SC.3   1.00  1.00  1.000  1.00  1.00   1.00   1.00 1.00   1.00\n",
       "4 DE-1 133.70 10.93 82.380 26.94  4.88   3.46   2.18 3.24  21.48\n",
       "5 DE-2  46.17 36.82 34.466 10.92  6.13   4.42   3.44 3.70  11.62\n",
       "6 DE-3  51.91 10.93 29.530 26.94 15.85   3.46   2.18 3.17  25.70"
      ]
     },
     "metadata": {},
     "output_type": "display_data"
    }
   ],
   "source": [
    "x = read.delim(\"C:/Users/abolf/Desktop/jupyter train/intro bioinf sharifi practical/SharifiZarchi-bio/Data/Endoderm.txt\")\n",
    "dim(x)\n",
    "head(x)\n"
   ]
  },
  {
   "cell_type": "markdown",
   "id": "a0271547-e1b3-47d5-b421-47cb431512d8",
   "metadata": {},
   "source": [
    "2) Converting the first column as row names and removing it from the columns section"
   ]
  },
  {
   "cell_type": "code",
   "execution_count": 2,
   "id": "fd5fa730-9fe8-488c-a84b-8831e484729b",
   "metadata": {},
   "outputs": [
    {
     "data": {
      "text/html": [
       "<table class=\"dataframe\">\n",
       "<caption>A data.frame: 6 × 10</caption>\n",
       "<thead>\n",
       "\t<tr><th></th><th scope=col>Type</th><th scope=col>HLXb9</th><th scope=col>HHEX</th><th scope=col>HNF4a</th><th scope=col>ISL1</th><th scope=col>NEUROD1</th><th scope=col>NKX6.1</th><th scope=col>PAX4</th><th scope=col>PTF1a</th><th scope=col>PDX1</th></tr>\n",
       "\t<tr><th></th><th scope=col>&lt;chr&gt;</th><th scope=col>&lt;dbl&gt;</th><th scope=col>&lt;dbl&gt;</th><th scope=col>&lt;dbl&gt;</th><th scope=col>&lt;dbl&gt;</th><th scope=col>&lt;dbl&gt;</th><th scope=col>&lt;dbl&gt;</th><th scope=col>&lt;dbl&gt;</th><th scope=col>&lt;dbl&gt;</th><th scope=col>&lt;dbl&gt;</th></tr>\n",
       "</thead>\n",
       "<tbody>\n",
       "\t<tr><th scope=row>SC.1</th><td>SC.1</td><td>  2.27</td><td> 1.87</td><td> 2.880</td><td> 1.69</td><td> 3.60</td><td>1.09</td><td>1.29</td><td>1.40</td><td> 1.00</td></tr>\n",
       "\t<tr><th scope=row>SC.2</th><td>SC.2</td><td>  1.00</td><td> 1.00</td><td> 1.000</td><td> 1.00</td><td> 1.00</td><td>1.00</td><td>1.00</td><td>1.00</td><td> 1.00</td></tr>\n",
       "\t<tr><th scope=row>SC.3</th><td>SC.3</td><td>  1.00</td><td> 1.00</td><td> 1.000</td><td> 1.00</td><td> 1.00</td><td>1.00</td><td>1.00</td><td>1.00</td><td> 1.00</td></tr>\n",
       "\t<tr><th scope=row>DE-1</th><td>DE-1</td><td>133.70</td><td>10.93</td><td>82.380</td><td>26.94</td><td> 4.88</td><td>3.46</td><td>2.18</td><td>3.24</td><td>21.48</td></tr>\n",
       "\t<tr><th scope=row>DE-2</th><td>DE-2</td><td> 46.17</td><td>36.82</td><td>34.466</td><td>10.92</td><td> 6.13</td><td>4.42</td><td>3.44</td><td>3.70</td><td>11.62</td></tr>\n",
       "\t<tr><th scope=row>DE-3</th><td>DE-3</td><td> 51.91</td><td>10.93</td><td>29.530</td><td>26.94</td><td>15.85</td><td>3.46</td><td>2.18</td><td>3.17</td><td>25.70</td></tr>\n",
       "</tbody>\n",
       "</table>\n"
      ],
      "text/latex": [
       "A data.frame: 6 × 10\n",
       "\\begin{tabular}{r|llllllllll}\n",
       "  & Type & HLXb9 & HHEX & HNF4a & ISL1 & NEUROD1 & NKX6.1 & PAX4 & PTF1a & PDX1\\\\\n",
       "  & <chr> & <dbl> & <dbl> & <dbl> & <dbl> & <dbl> & <dbl> & <dbl> & <dbl> & <dbl>\\\\\n",
       "\\hline\n",
       "\tSC.1 & SC.1 &   2.27 &  1.87 &  2.880 &  1.69 &  3.60 & 1.09 & 1.29 & 1.40 &  1.00\\\\\n",
       "\tSC.2 & SC.2 &   1.00 &  1.00 &  1.000 &  1.00 &  1.00 & 1.00 & 1.00 & 1.00 &  1.00\\\\\n",
       "\tSC.3 & SC.3 &   1.00 &  1.00 &  1.000 &  1.00 &  1.00 & 1.00 & 1.00 & 1.00 &  1.00\\\\\n",
       "\tDE-1 & DE-1 & 133.70 & 10.93 & 82.380 & 26.94 &  4.88 & 3.46 & 2.18 & 3.24 & 21.48\\\\\n",
       "\tDE-2 & DE-2 &  46.17 & 36.82 & 34.466 & 10.92 &  6.13 & 4.42 & 3.44 & 3.70 & 11.62\\\\\n",
       "\tDE-3 & DE-3 &  51.91 & 10.93 & 29.530 & 26.94 & 15.85 & 3.46 & 2.18 & 3.17 & 25.70\\\\\n",
       "\\end{tabular}\n"
      ],
      "text/markdown": [
       "\n",
       "A data.frame: 6 × 10\n",
       "\n",
       "| <!--/--> | Type &lt;chr&gt; | HLXb9 &lt;dbl&gt; | HHEX &lt;dbl&gt; | HNF4a &lt;dbl&gt; | ISL1 &lt;dbl&gt; | NEUROD1 &lt;dbl&gt; | NKX6.1 &lt;dbl&gt; | PAX4 &lt;dbl&gt; | PTF1a &lt;dbl&gt; | PDX1 &lt;dbl&gt; |\n",
       "|---|---|---|---|---|---|---|---|---|---|---|\n",
       "| SC.1 | SC.1 |   2.27 |  1.87 |  2.880 |  1.69 |  3.60 | 1.09 | 1.29 | 1.40 |  1.00 |\n",
       "| SC.2 | SC.2 |   1.00 |  1.00 |  1.000 |  1.00 |  1.00 | 1.00 | 1.00 | 1.00 |  1.00 |\n",
       "| SC.3 | SC.3 |   1.00 |  1.00 |  1.000 |  1.00 |  1.00 | 1.00 | 1.00 | 1.00 |  1.00 |\n",
       "| DE-1 | DE-1 | 133.70 | 10.93 | 82.380 | 26.94 |  4.88 | 3.46 | 2.18 | 3.24 | 21.48 |\n",
       "| DE-2 | DE-2 |  46.17 | 36.82 | 34.466 | 10.92 |  6.13 | 4.42 | 3.44 | 3.70 | 11.62 |\n",
       "| DE-3 | DE-3 |  51.91 | 10.93 | 29.530 | 26.94 | 15.85 | 3.46 | 2.18 | 3.17 | 25.70 |\n",
       "\n"
      ],
      "text/plain": [
       "     Type HLXb9  HHEX  HNF4a  ISL1  NEUROD1 NKX6.1 PAX4 PTF1a PDX1 \n",
       "SC.1 SC.1   2.27  1.87  2.880  1.69  3.60   1.09   1.29 1.40   1.00\n",
       "SC.2 SC.2   1.00  1.00  1.000  1.00  1.00   1.00   1.00 1.00   1.00\n",
       "SC.3 SC.3   1.00  1.00  1.000  1.00  1.00   1.00   1.00 1.00   1.00\n",
       "DE-1 DE-1 133.70 10.93 82.380 26.94  4.88   3.46   2.18 3.24  21.48\n",
       "DE-2 DE-2  46.17 36.82 34.466 10.92  6.13   4.42   3.44 3.70  11.62\n",
       "DE-3 DE-3  51.91 10.93 29.530 26.94 15.85   3.46   2.18 3.17  25.70"
      ]
     },
     "metadata": {},
     "output_type": "display_data"
    },
    {
     "data": {
      "text/html": [
       "<table class=\"dataframe\">\n",
       "<caption>A data.frame: 6 × 9</caption>\n",
       "<thead>\n",
       "\t<tr><th></th><th scope=col>HLXb9</th><th scope=col>HHEX</th><th scope=col>HNF4a</th><th scope=col>ISL1</th><th scope=col>NEUROD1</th><th scope=col>NKX6.1</th><th scope=col>PAX4</th><th scope=col>PTF1a</th><th scope=col>PDX1</th></tr>\n",
       "\t<tr><th></th><th scope=col>&lt;dbl&gt;</th><th scope=col>&lt;dbl&gt;</th><th scope=col>&lt;dbl&gt;</th><th scope=col>&lt;dbl&gt;</th><th scope=col>&lt;dbl&gt;</th><th scope=col>&lt;dbl&gt;</th><th scope=col>&lt;dbl&gt;</th><th scope=col>&lt;dbl&gt;</th><th scope=col>&lt;dbl&gt;</th></tr>\n",
       "</thead>\n",
       "<tbody>\n",
       "\t<tr><th scope=row>SC.1</th><td>  2.27</td><td> 1.87</td><td> 2.880</td><td> 1.69</td><td> 3.60</td><td>1.09</td><td>1.29</td><td>1.40</td><td> 1.00</td></tr>\n",
       "\t<tr><th scope=row>SC.2</th><td>  1.00</td><td> 1.00</td><td> 1.000</td><td> 1.00</td><td> 1.00</td><td>1.00</td><td>1.00</td><td>1.00</td><td> 1.00</td></tr>\n",
       "\t<tr><th scope=row>SC.3</th><td>  1.00</td><td> 1.00</td><td> 1.000</td><td> 1.00</td><td> 1.00</td><td>1.00</td><td>1.00</td><td>1.00</td><td> 1.00</td></tr>\n",
       "\t<tr><th scope=row>DE-1</th><td>133.70</td><td>10.93</td><td>82.380</td><td>26.94</td><td> 4.88</td><td>3.46</td><td>2.18</td><td>3.24</td><td>21.48</td></tr>\n",
       "\t<tr><th scope=row>DE-2</th><td> 46.17</td><td>36.82</td><td>34.466</td><td>10.92</td><td> 6.13</td><td>4.42</td><td>3.44</td><td>3.70</td><td>11.62</td></tr>\n",
       "\t<tr><th scope=row>DE-3</th><td> 51.91</td><td>10.93</td><td>29.530</td><td>26.94</td><td>15.85</td><td>3.46</td><td>2.18</td><td>3.17</td><td>25.70</td></tr>\n",
       "</tbody>\n",
       "</table>\n"
      ],
      "text/latex": [
       "A data.frame: 6 × 9\n",
       "\\begin{tabular}{r|lllllllll}\n",
       "  & HLXb9 & HHEX & HNF4a & ISL1 & NEUROD1 & NKX6.1 & PAX4 & PTF1a & PDX1\\\\\n",
       "  & <dbl> & <dbl> & <dbl> & <dbl> & <dbl> & <dbl> & <dbl> & <dbl> & <dbl>\\\\\n",
       "\\hline\n",
       "\tSC.1 &   2.27 &  1.87 &  2.880 &  1.69 &  3.60 & 1.09 & 1.29 & 1.40 &  1.00\\\\\n",
       "\tSC.2 &   1.00 &  1.00 &  1.000 &  1.00 &  1.00 & 1.00 & 1.00 & 1.00 &  1.00\\\\\n",
       "\tSC.3 &   1.00 &  1.00 &  1.000 &  1.00 &  1.00 & 1.00 & 1.00 & 1.00 &  1.00\\\\\n",
       "\tDE-1 & 133.70 & 10.93 & 82.380 & 26.94 &  4.88 & 3.46 & 2.18 & 3.24 & 21.48\\\\\n",
       "\tDE-2 &  46.17 & 36.82 & 34.466 & 10.92 &  6.13 & 4.42 & 3.44 & 3.70 & 11.62\\\\\n",
       "\tDE-3 &  51.91 & 10.93 & 29.530 & 26.94 & 15.85 & 3.46 & 2.18 & 3.17 & 25.70\\\\\n",
       "\\end{tabular}\n"
      ],
      "text/markdown": [
       "\n",
       "A data.frame: 6 × 9\n",
       "\n",
       "| <!--/--> | HLXb9 &lt;dbl&gt; | HHEX &lt;dbl&gt; | HNF4a &lt;dbl&gt; | ISL1 &lt;dbl&gt; | NEUROD1 &lt;dbl&gt; | NKX6.1 &lt;dbl&gt; | PAX4 &lt;dbl&gt; | PTF1a &lt;dbl&gt; | PDX1 &lt;dbl&gt; |\n",
       "|---|---|---|---|---|---|---|---|---|---|\n",
       "| SC.1 |   2.27 |  1.87 |  2.880 |  1.69 |  3.60 | 1.09 | 1.29 | 1.40 |  1.00 |\n",
       "| SC.2 |   1.00 |  1.00 |  1.000 |  1.00 |  1.00 | 1.00 | 1.00 | 1.00 |  1.00 |\n",
       "| SC.3 |   1.00 |  1.00 |  1.000 |  1.00 |  1.00 | 1.00 | 1.00 | 1.00 |  1.00 |\n",
       "| DE-1 | 133.70 | 10.93 | 82.380 | 26.94 |  4.88 | 3.46 | 2.18 | 3.24 | 21.48 |\n",
       "| DE-2 |  46.17 | 36.82 | 34.466 | 10.92 |  6.13 | 4.42 | 3.44 | 3.70 | 11.62 |\n",
       "| DE-3 |  51.91 | 10.93 | 29.530 | 26.94 | 15.85 | 3.46 | 2.18 | 3.17 | 25.70 |\n",
       "\n"
      ],
      "text/plain": [
       "     HLXb9  HHEX  HNF4a  ISL1  NEUROD1 NKX6.1 PAX4 PTF1a PDX1 \n",
       "SC.1   2.27  1.87  2.880  1.69  3.60   1.09   1.29 1.40   1.00\n",
       "SC.2   1.00  1.00  1.000  1.00  1.00   1.00   1.00 1.00   1.00\n",
       "SC.3   1.00  1.00  1.000  1.00  1.00   1.00   1.00 1.00   1.00\n",
       "DE-1 133.70 10.93 82.380 26.94  4.88   3.46   2.18 3.24  21.48\n",
       "DE-2  46.17 36.82 34.466 10.92  6.13   4.42   3.44 3.70  11.62\n",
       "DE-3  51.91 10.93 29.530 26.94 15.85   3.46   2.18 3.17  25.70"
      ]
     },
     "metadata": {},
     "output_type": "display_data"
    }
   ],
   "source": [
    "rownames(x) = x[,1]\n",
    "head(x)\n",
    "x = x[,-1]\n",
    "head(x)\n"
   ]
  },
  {
   "cell_type": "markdown",
   "id": "162be371-143b-40a3-9e88-a1733b29d378",
   "metadata": {},
   "source": [
    "3) Use the logarithm function to show the ratio of data changes instead of the data size and see its effect"
   ]
  },
  {
   "cell_type": "code",
   "execution_count": 3,
   "id": "f8f656f9-b4b5-452f-ad4b-0f70c7e9629c",
   "metadata": {},
   "outputs": [
    {
     "data": {
      "text/html": [
       "<table class=\"dataframe\">\n",
       "<caption>A data.frame: 6 × 9</caption>\n",
       "<thead>\n",
       "\t<tr><th></th><th scope=col>HLXb9</th><th scope=col>HHEX</th><th scope=col>HNF4a</th><th scope=col>ISL1</th><th scope=col>NEUROD1</th><th scope=col>NKX6.1</th><th scope=col>PAX4</th><th scope=col>PTF1a</th><th scope=col>PDX1</th></tr>\n",
       "\t<tr><th></th><th scope=col>&lt;dbl&gt;</th><th scope=col>&lt;dbl&gt;</th><th scope=col>&lt;dbl&gt;</th><th scope=col>&lt;dbl&gt;</th><th scope=col>&lt;dbl&gt;</th><th scope=col>&lt;dbl&gt;</th><th scope=col>&lt;dbl&gt;</th><th scope=col>&lt;dbl&gt;</th><th scope=col>&lt;dbl&gt;</th></tr>\n",
       "</thead>\n",
       "<tbody>\n",
       "\t<tr><th scope=row>SC.1</th><td>1.709291</td><td>1.521051</td><td>1.956057</td><td>1.427606</td><td>2.201634</td><td>1.063503</td><td>1.195348</td><td>1.263034</td><td>1.000000</td></tr>\n",
       "\t<tr><th scope=row>SC.2</th><td>1.000000</td><td>1.000000</td><td>1.000000</td><td>1.000000</td><td>1.000000</td><td>1.000000</td><td>1.000000</td><td>1.000000</td><td>1.000000</td></tr>\n",
       "\t<tr><th scope=row>SC.3</th><td>1.000000</td><td>1.000000</td><td>1.000000</td><td>1.000000</td><td>1.000000</td><td>1.000000</td><td>1.000000</td><td>1.000000</td><td>1.000000</td></tr>\n",
       "\t<tr><th scope=row>DE-1</th><td>7.073606</td><td>3.576522</td><td>6.381629</td><td>4.804260</td><td>2.555816</td><td>2.157044</td><td>1.669027</td><td>2.084064</td><td>4.490570</td></tr>\n",
       "\t<tr><th scope=row>DE-2</th><td>5.559798</td><td>5.241077</td><td>5.148365</td><td>3.575312</td><td>2.833902</td><td>2.438293</td><td>2.150560</td><td>2.232661</td><td>3.657640</td></tr>\n",
       "\t<tr><th scope=row>DE-3</th><td>5.725469</td><td>3.576522</td><td>4.932156</td><td>4.804260</td><td>4.074677</td><td>2.157044</td><td>1.669027</td><td>2.060047</td><td>4.738768</td></tr>\n",
       "</tbody>\n",
       "</table>\n"
      ],
      "text/latex": [
       "A data.frame: 6 × 9\n",
       "\\begin{tabular}{r|lllllllll}\n",
       "  & HLXb9 & HHEX & HNF4a & ISL1 & NEUROD1 & NKX6.1 & PAX4 & PTF1a & PDX1\\\\\n",
       "  & <dbl> & <dbl> & <dbl> & <dbl> & <dbl> & <dbl> & <dbl> & <dbl> & <dbl>\\\\\n",
       "\\hline\n",
       "\tSC.1 & 1.709291 & 1.521051 & 1.956057 & 1.427606 & 2.201634 & 1.063503 & 1.195348 & 1.263034 & 1.000000\\\\\n",
       "\tSC.2 & 1.000000 & 1.000000 & 1.000000 & 1.000000 & 1.000000 & 1.000000 & 1.000000 & 1.000000 & 1.000000\\\\\n",
       "\tSC.3 & 1.000000 & 1.000000 & 1.000000 & 1.000000 & 1.000000 & 1.000000 & 1.000000 & 1.000000 & 1.000000\\\\\n",
       "\tDE-1 & 7.073606 & 3.576522 & 6.381629 & 4.804260 & 2.555816 & 2.157044 & 1.669027 & 2.084064 & 4.490570\\\\\n",
       "\tDE-2 & 5.559798 & 5.241077 & 5.148365 & 3.575312 & 2.833902 & 2.438293 & 2.150560 & 2.232661 & 3.657640\\\\\n",
       "\tDE-3 & 5.725469 & 3.576522 & 4.932156 & 4.804260 & 4.074677 & 2.157044 & 1.669027 & 2.060047 & 4.738768\\\\\n",
       "\\end{tabular}\n"
      ],
      "text/markdown": [
       "\n",
       "A data.frame: 6 × 9\n",
       "\n",
       "| <!--/--> | HLXb9 &lt;dbl&gt; | HHEX &lt;dbl&gt; | HNF4a &lt;dbl&gt; | ISL1 &lt;dbl&gt; | NEUROD1 &lt;dbl&gt; | NKX6.1 &lt;dbl&gt; | PAX4 &lt;dbl&gt; | PTF1a &lt;dbl&gt; | PDX1 &lt;dbl&gt; |\n",
       "|---|---|---|---|---|---|---|---|---|---|\n",
       "| SC.1 | 1.709291 | 1.521051 | 1.956057 | 1.427606 | 2.201634 | 1.063503 | 1.195348 | 1.263034 | 1.000000 |\n",
       "| SC.2 | 1.000000 | 1.000000 | 1.000000 | 1.000000 | 1.000000 | 1.000000 | 1.000000 | 1.000000 | 1.000000 |\n",
       "| SC.3 | 1.000000 | 1.000000 | 1.000000 | 1.000000 | 1.000000 | 1.000000 | 1.000000 | 1.000000 | 1.000000 |\n",
       "| DE-1 | 7.073606 | 3.576522 | 6.381629 | 4.804260 | 2.555816 | 2.157044 | 1.669027 | 2.084064 | 4.490570 |\n",
       "| DE-2 | 5.559798 | 5.241077 | 5.148365 | 3.575312 | 2.833902 | 2.438293 | 2.150560 | 2.232661 | 3.657640 |\n",
       "| DE-3 | 5.725469 | 3.576522 | 4.932156 | 4.804260 | 4.074677 | 2.157044 | 1.669027 | 2.060047 | 4.738768 |\n",
       "\n"
      ],
      "text/plain": [
       "     HLXb9    HHEX     HNF4a    ISL1     NEUROD1  NKX6.1   PAX4     PTF1a   \n",
       "SC.1 1.709291 1.521051 1.956057 1.427606 2.201634 1.063503 1.195348 1.263034\n",
       "SC.2 1.000000 1.000000 1.000000 1.000000 1.000000 1.000000 1.000000 1.000000\n",
       "SC.3 1.000000 1.000000 1.000000 1.000000 1.000000 1.000000 1.000000 1.000000\n",
       "DE-1 7.073606 3.576522 6.381629 4.804260 2.555816 2.157044 1.669027 2.084064\n",
       "DE-2 5.559798 5.241077 5.148365 3.575312 2.833902 2.438293 2.150560 2.232661\n",
       "DE-3 5.725469 3.576522 4.932156 4.804260 4.074677 2.157044 1.669027 2.060047\n",
       "     PDX1    \n",
       "SC.1 1.000000\n",
       "SC.2 1.000000\n",
       "SC.3 1.000000\n",
       "DE-1 4.490570\n",
       "DE-2 3.657640\n",
       "DE-3 4.738768"
      ]
     },
     "metadata": {},
     "output_type": "display_data"
    },
    {
     "name": "stdout",
     "output_type": "stream",
     "text": [
      "[1] \"-----------------------------------------------------------------------------------------------------------------------------\"\n"
     ]
    },
    {
     "data": {
      "text/html": [
       "9.25441452637856"
      ],
      "text/latex": [
       "9.25441452637856"
      ],
      "text/markdown": [
       "9.25441452637856"
      ],
      "text/plain": [
       "[1] 9.254415"
      ]
     },
     "metadata": {},
     "output_type": "display_data"
    }
   ],
   "source": [
    "x = log2(x+1)\n",
    "head(x)\n",
    "print(\"-----------------------------------------------------------------------------------------------------------------------------\")\n",
    "\n",
    "max(x, na.rm = T)"
   ]
  },
  {
   "cell_type": "markdown",
   "id": "915031e0-b919-44cb-b694-be032a86941c",
   "metadata": {},
   "source": [
    "4) Define variables & doing our first t-test"
   ]
  },
  {
   "cell_type": "code",
   "execution_count": 4,
   "id": "ca1096ad-02d4-4c0a-9796-76b496fd6088",
   "metadata": {},
   "outputs": [
    {
     "data": {
      "text/html": [
       "<style>\n",
       ".list-inline {list-style: none; margin:0; padding: 0}\n",
       ".list-inline>li {display: inline-block}\n",
       ".list-inline>li:not(:last-child)::after {content: \"\\00b7\"; padding: 0 .5ex}\n",
       "</style>\n",
       "<ol class=list-inline><li>1.70929063572336</li><li>1</li><li>1</li></ol>\n"
      ],
      "text/latex": [
       "\\begin{enumerate*}\n",
       "\\item 1.70929063572336\n",
       "\\item 1\n",
       "\\item 1\n",
       "\\end{enumerate*}\n"
      ],
      "text/markdown": [
       "1. 1.70929063572336\n",
       "2. 1\n",
       "3. 1\n",
       "\n",
       "\n"
      ],
      "text/plain": [
       "[1] 1.709291 1.000000 1.000000"
      ]
     },
     "metadata": {},
     "output_type": "display_data"
    },
    {
     "name": "stdout",
     "output_type": "stream",
     "text": [
      "[1] \"-----------------------------------------------------------------------------------------------------------------------------\"\n"
     ]
    },
    {
     "data": {
      "text/html": [
       "<style>\n",
       ".list-inline {list-style: none; margin:0; padding: 0}\n",
       ".list-inline>li {display: inline-block}\n",
       ".list-inline>li:not(:last-child)::after {content: \"\\00b7\"; padding: 0 .5ex}\n",
       "</style>\n",
       "<ol class=list-inline><li>7.07360604057494</li><li>5.55979769575487</li><li>5.72546851263261</li></ol>\n"
      ],
      "text/latex": [
       "\\begin{enumerate*}\n",
       "\\item 7.07360604057494\n",
       "\\item 5.55979769575487\n",
       "\\item 5.72546851263261\n",
       "\\end{enumerate*}\n"
      ],
      "text/markdown": [
       "1. 7.07360604057494\n",
       "2. 5.55979769575487\n",
       "3. 5.72546851263261\n",
       "\n",
       "\n"
      ],
      "text/plain": [
       "[1] 7.073606 5.559798 5.725469"
      ]
     },
     "metadata": {},
     "output_type": "display_data"
    },
    {
     "name": "stdout",
     "output_type": "stream",
     "text": [
      "[1] \"-----------------------------------------------------------------------------------------------------------------------------\"\n"
     ]
    },
    {
     "data": {
      "text/plain": [
       "\n",
       "\tWelch Two Sample t-test\n",
       "\n",
       "data:  a and b\n",
       "t = -9.1357, df = 2.9186, p-value = 0.003092\n",
       "alternative hypothesis: true difference in means is not equal to 0\n",
       "95 percent confidence interval:\n",
       " -6.611410 -3.154978\n",
       "sample estimates:\n",
       "mean of x mean of y \n",
       " 1.236430  6.119624 \n"
      ]
     },
     "metadata": {},
     "output_type": "display_data"
    }
   ],
   "source": [
    "a = x[1:3, 1]\n",
    "a\n",
    "print(\"-----------------------------------------------------------------------------------------------------------------------------\")\n",
    "\n",
    "b = x[4:6, 1]\n",
    "b\n",
    "print(\"-----------------------------------------------------------------------------------------------------------------------------\")\n",
    "\n",
    "t.test(a, b)"
   ]
  },
  {
   "cell_type": "markdown",
   "id": "447cfca8-a7c8-4391-889b-69201f53cbc5",
   "metadata": {},
   "source": [
    "5) another ways of calling data to do the t-test"
   ]
  },
  {
   "cell_type": "code",
   "execution_count": 5,
   "id": "e5ba69a4-5168-4a72-8ef4-c90a5fba6a6f",
   "metadata": {},
   "outputs": [
    {
     "data": {
      "text/plain": [
       "\n",
       "\tWelch Two Sample t-test\n",
       "\n",
       "data:  x[1:3, 5] and x[4:6, 5]\n",
       "t = -2.8517, df = 3.9096, p-value = 0.04758\n",
       "alternative hypothesis: true difference in means is not equal to 0\n",
       "95 percent confidence interval:\n",
       " -3.47791058 -0.03059679\n",
       "sample estimates:\n",
       "mean of x mean of y \n",
       " 1.400545  3.154798 \n"
      ]
     },
     "metadata": {},
     "output_type": "display_data"
    },
    {
     "name": "stdout",
     "output_type": "stream",
     "text": [
      "[1] \"-----------------------------------------------------------------------------------------------------------------------------\"\n"
     ]
    },
    {
     "data": {
      "text/plain": [
       "\n",
       "\tWelch Two Sample t-test\n",
       "\n",
       "data:  x[1:3, \"PAX4\"] and x[4:6, \"PAX4\"]\n",
       "t = -4.4131, df = 2.6409, p-value = 0.02803\n",
       "alternative hypothesis: true difference in means is not equal to 0\n",
       "95 percent confidence interval:\n",
       " -1.3605963 -0.1682475\n",
       "sample estimates:\n",
       "mean of x mean of y \n",
       " 1.065116  1.829538 \n"
      ]
     },
     "metadata": {},
     "output_type": "display_data"
    },
    {
     "name": "stdout",
     "output_type": "stream",
     "text": [
      "[1] \"-----------------------------------------------------------------------------------------------------------------------------\"\n"
     ]
    },
    {
     "data": {
      "text/plain": [
       "\n",
       "\tWelch Two Sample t-test\n",
       "\n",
       "data:  1:5 and 0:4\n",
       "t = 1, df = 8, p-value = 0.3466\n",
       "alternative hypothesis: true difference in means is not equal to 0\n",
       "95 percent confidence interval:\n",
       " -1.306004  3.306004\n",
       "sample estimates:\n",
       "mean of x mean of y \n",
       "        3         2 \n"
      ]
     },
     "metadata": {},
     "output_type": "display_data"
    }
   ],
   "source": [
    "t.test(x[1:3,5], x[4:6,5])\n",
    "print(\"-----------------------------------------------------------------------------------------------------------------------------\")\n",
    "\n",
    "t.test(x[1:3,\"PAX4\"], x[4:6,\"PAX4\"])\n",
    "print(\"-----------------------------------------------------------------------------------------------------------------------------\")\n",
    "\n",
    "t.test(1:5, 0:4)"
   ]
  },
  {
   "cell_type": "markdown",
   "id": "2a7a53d2-e90c-44c4-b995-6f26ba090559",
   "metadata": {},
   "source": [
    "6) introducing paired values in t-test"
   ]
  },
  {
   "cell_type": "code",
   "execution_count": 6,
   "id": "4cf09d52-da6f-4a56-861b-4ac34e6d5f01",
   "metadata": {},
   "outputs": [],
   "source": [
    "#t.test(1:5, 0:4, paired = T)\n",
    "#ERROR, WHY?\n",
    "# paired, but not realistic (constant values)\n"
   ]
  },
  {
   "cell_type": "code",
   "execution_count": 7,
   "id": "9f332d8a-9513-48d4-bf56-2eceb0aa4f83",
   "metadata": {},
   "outputs": [],
   "source": [
    "#t.test(1:5, c(0.1,0:4), paired = T)\n",
    "# error, why?\n",
    "# realistic, but not paired in length\n"
   ]
  },
  {
   "cell_type": "markdown",
   "id": "f6bd7be7-9f0a-40b6-9c53-81708c3ccd4b",
   "metadata": {},
   "source": [
    "NOTE: paired values = same group, two condition | not for repeats(same group, same condition but just repeated)"
   ]
  },
  {
   "cell_type": "markdown",
   "id": "8fbf670f-b194-492e-971b-6fd342202625",
   "metadata": {},
   "source": [
    "7) doing our first paired t-test"
   ]
  },
  {
   "cell_type": "code",
   "execution_count": 8,
   "id": "dfc0ba43-0c55-4e6c-96de-144dc97d4d0c",
   "metadata": {},
   "outputs": [
    {
     "data": {
      "text/plain": [
       "\n",
       "\tPaired t-test\n",
       "\n",
       "data:  1:5 and c(0.1, 1:4)\n",
       "t = 49, df = 4, p-value = 1.038e-06\n",
       "alternative hypothesis: true mean difference is not equal to 0\n",
       "95 percent confidence interval:\n",
       " 0.9244711 1.0355289\n",
       "sample estimates:\n",
       "mean difference \n",
       "           0.98 \n"
      ]
     },
     "metadata": {},
     "output_type": "display_data"
    }
   ],
   "source": [
    "t.test(1:5, c(0.1,1:4), paired = T)\n",
    "#Pay attention to the change in p-value"
   ]
  },
  {
   "cell_type": "markdown",
   "id": "289e0d97-fa8f-449f-87ad-2936d1550d65",
   "metadata": {},
   "source": [
    "8) introducing new values in paired t-test\n",
    "\n",
    "    alternative = greater :  t test of second values being greater than the first\n",
    "    \n",
    "    alternative = less  :  t test of second values being less the than first "
   ]
  },
  {
   "cell_type": "code",
   "execution_count": 9,
   "id": "2faaf112-94dc-4913-ac41-0efb9ae2c890",
   "metadata": {},
   "outputs": [
    {
     "data": {
      "text/plain": [
       "\n",
       "\tPaired t-test\n",
       "\n",
       "data:  1:5 and c(0.1, 1:4)\n",
       "t = 49, df = 4, p-value = 5.19e-07\n",
       "alternative hypothesis: true mean difference is greater than 0\n",
       "95 percent confidence interval:\n",
       " 0.9373631       Inf\n",
       "sample estimates:\n",
       "mean difference \n",
       "           0.98 \n"
      ]
     },
     "metadata": {},
     "output_type": "display_data"
    },
    {
     "name": "stdout",
     "output_type": "stream",
     "text": [
      "[1] \"-----------------------------------------------------------------------------------------------------------------------------\"\n"
     ]
    },
    {
     "data": {
      "text/plain": [
       "\n",
       "\tPaired t-test\n",
       "\n",
       "data:  1:5 and c(0.1, 1:4)\n",
       "t = 49, df = 4, p-value = 1\n",
       "alternative hypothesis: true mean difference is less than 0\n",
       "95 percent confidence interval:\n",
       "     -Inf 1.022637\n",
       "sample estimates:\n",
       "mean difference \n",
       "           0.98 \n"
      ]
     },
     "metadata": {},
     "output_type": "display_data"
    }
   ],
   "source": [
    "t.test(1:5, c(0.1,1:4), paired = T, alternative = \"greater\")\n",
    "\n",
    "#what does (greater) mean?\n",
    "#Pay attention to the change in values\n",
    "print(\"-----------------------------------------------------------------------------------------------------------------------------\")\n",
    "\n",
    "t.test(1:5, c(0.1,1:4), paired = T, alternative = \"less\")\n",
    "\n",
    "# what happend & what does (less) mean?\n",
    "#Pay attention to the change in values"
   ]
  },
  {
   "cell_type": "code",
   "execution_count": null,
   "id": "e5034620-41ee-4f78-a7c5-8a013a52e864",
   "metadata": {},
   "outputs": [],
   "source": []
  }
 ],
 "metadata": {
  "kernelspec": {
   "display_name": "R",
   "language": "R",
   "name": "ir"
  },
  "language_info": {
   "codemirror_mode": "r",
   "file_extension": ".r",
   "mimetype": "text/x-r-source",
   "name": "R",
   "pygments_lexer": "r",
   "version": "4.3.1"
  }
 },
 "nbformat": 4,
 "nbformat_minor": 5
}
