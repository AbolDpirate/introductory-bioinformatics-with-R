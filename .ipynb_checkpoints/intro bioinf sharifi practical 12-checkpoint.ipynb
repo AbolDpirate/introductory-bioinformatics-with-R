{
 "cells": [
  {
   "cell_type": "markdown",
   "id": "1bfdd325-d516-4aed-a55a-430404e39ff3",
   "metadata": {},
   "source": [
    "R Basics\n",
    "-\n",
    "Introductory Bioinformatics Sharifi Zarchi The practical sessions part 12\n",
    "-\n",
    "**Normal & non Normal datas / datas normal tests & none parametric tests (wilcoxon)**\n"
   ]
  },
  {
   "cell_type": "markdown",
   "id": "c2b69e0a-1842-43c1-840e-9d782608ef64",
   "metadata": {},
   "source": [
    "1. adding our intrested library"
   ]
  },
  {
   "cell_type": "code",
   "execution_count": 1,
   "id": "1c16ac95-2083-4e91-b8d0-f3e7a327098a",
   "metadata": {},
   "outputs": [
    {
     "name": "stderr",
     "output_type": "stream",
     "text": [
      "Warning message:\n",
      "\"package 'ggplot2' was built under R version 4.3.3\"\n"
     ]
    }
   ],
   "source": [
    "library(ggplot2)"
   ]
  },
  {
   "cell_type": "markdown",
   "id": "d5a7526b-7e8c-4a90-a21a-9e7979cef231",
   "metadata": {},
   "source": [
    "2. making randome normal datas and do a t-test"
   ]
  },
  {
   "cell_type": "code",
   "execution_count": 2,
   "id": "cfdc63d9-e663-4da3-b604-e9c59104c306",
   "metadata": {},
   "outputs": [
    {
     "data": {
      "text/html": [
       "<style>\n",
       ".list-inline {list-style: none; margin:0; padding: 0}\n",
       ".list-inline>li {display: inline-block}\n",
       ".list-inline>li:not(:last-child)::after {content: \"\\00b7\"; padding: 0 .5ex}\n",
       "</style>\n",
       "<ol class=list-inline><li>-1.61519413503079</li><li>0.337498434750066</li><li>-0.561107235172595</li><li>-0.271960727568083</li><li>0.853675297829228</li><li>-0.409702180380337</li><li>-0.0268928620793006</li><li>0.330114064463733</li><li>0.371348936049216</li><li>1.81760261874614</li><li>-1.40960562774966</li><li>-0.46444923248945</li><li>0.0143440793663192</li><li>-0.0118260910237153</li><li>-0.270286497513834</li><li>-0.884865700871707</li><li>0.00098859980870313</li><li>-1.2719881732934</li><li>1.38287367570109</li><li>0.889339059247641</li></ol>\n"
      ],
      "text/latex": [
       "\\begin{enumerate*}\n",
       "\\item -1.61519413503079\n",
       "\\item 0.337498434750066\n",
       "\\item -0.561107235172595\n",
       "\\item -0.271960727568083\n",
       "\\item 0.853675297829228\n",
       "\\item -0.409702180380337\n",
       "\\item -0.0268928620793006\n",
       "\\item 0.330114064463733\n",
       "\\item 0.371348936049216\n",
       "\\item 1.81760261874614\n",
       "\\item -1.40960562774966\n",
       "\\item -0.46444923248945\n",
       "\\item 0.0143440793663192\n",
       "\\item -0.0118260910237153\n",
       "\\item -0.270286497513834\n",
       "\\item -0.884865700871707\n",
       "\\item 0.00098859980870313\n",
       "\\item -1.2719881732934\n",
       "\\item 1.38287367570109\n",
       "\\item 0.889339059247641\n",
       "\\end{enumerate*}\n"
      ],
      "text/markdown": [
       "1. -1.61519413503079\n",
       "2. 0.337498434750066\n",
       "3. -0.561107235172595\n",
       "4. -0.271960727568083\n",
       "5. 0.853675297829228\n",
       "6. -0.409702180380337\n",
       "7. -0.0268928620793006\n",
       "8. 0.330114064463733\n",
       "9. 0.371348936049216\n",
       "10. 1.81760261874614\n",
       "11. -1.40960562774966\n",
       "12. -0.46444923248945\n",
       "13. 0.0143440793663192\n",
       "14. -0.0118260910237153\n",
       "15. -0.270286497513834\n",
       "16. -0.884865700871707\n",
       "17. 0.00098859980870313\n",
       "18. -1.2719881732934\n",
       "19. 1.38287367570109\n",
       "20. 0.889339059247641\n",
       "\n",
       "\n"
      ],
      "text/plain": [
       " [1] -1.6151941350  0.3374984348 -0.5611072352 -0.2719607276  0.8536752978\n",
       " [6] -0.4097021804 -0.0268928621  0.3301140645  0.3713489360  1.8176026187\n",
       "[11] -1.4096056277 -0.4644492325  0.0143440794 -0.0118260910 -0.2702864975\n",
       "[16] -0.8848657009  0.0009885998 -1.2719881733  1.3828736757  0.8893390592"
      ]
     },
     "metadata": {},
     "output_type": "display_data"
    },
    {
     "data": {
      "text/plain": [
       "\n",
       "\tWelch Two Sample t-test\n",
       "\n",
       "data:  x and y\n",
       "t = -0.35351, df = 45.229, p-value = 0.7253\n",
       "alternative hypothesis: true difference in means is not equal to 0\n",
       "95 percent confidence interval:\n",
       " -0.6513281  0.4568025\n",
       "sample estimates:\n",
       "  mean of x   mean of y \n",
       "-0.06000468  0.03725809 \n"
      ]
     },
     "metadata": {},
     "output_type": "display_data"
    }
   ],
   "source": [
    "x <- rnorm(20)\n",
    "x\n",
    "\n",
    "y <- rnorm(30)\n",
    "\n",
    "t.test(x, y)"
   ]
  },
  {
   "cell_type": "markdown",
   "id": "f8522d8c-1cbf-40e9-a39f-0fa2f5c60a72",
   "metadata": {},
   "source": [
    "3. playing with our function"
   ]
  },
  {
   "cell_type": "code",
   "execution_count": 3,
   "id": "dee5caff-4e2b-40ed-86f2-88a9f360be99",
   "metadata": {},
   "outputs": [
    {
     "data": {
      "text/plain": [
       "\n",
       "\tWelch Two Sample t-test\n",
       "\n",
       "data:  x and y\n",
       "t = -5.3322, df = 42.682, p-value = 3.453e-06\n",
       "alternative hypothesis: true difference in means is not equal to 0\n",
       "95 percent confidence interval:\n",
       " -1.9280952 -0.8697087\n",
       "sample estimates:\n",
       "  mean of x   mean of y \n",
       "-0.06000468  1.33889730 \n"
      ]
     },
     "metadata": {},
     "output_type": "display_data"
    },
    {
     "name": "stdout",
     "output_type": "stream",
     "text": [
      "[1] \"-----------------------------------------------------------------------------------------------------------------------------\"\n"
     ]
    },
    {
     "data": {
      "text/plain": [
       "   Min. 1st Qu.  Median    Mean 3rd Qu.    Max. \n",
       "-8.7939 -0.8162  1.4596  1.4186  4.6648 12.1140 "
      ]
     },
     "metadata": {},
     "output_type": "display_data"
    },
    {
     "data": {
      "text/plain": [
       "   Min. 1st Qu.  Median    Mean 3rd Qu.    Max. \n",
       "-1.8504  0.4048  0.8103  0.7602  1.3650  2.8514 "
      ]
     },
     "metadata": {},
     "output_type": "display_data"
    },
    {
     "data": {
      "text/plain": [
       "   Min. 1st Qu.  Median    Mean 3rd Qu.    Max. \n",
       "-14.989  -5.219   1.639   1.666   6.902  22.156 "
      ]
     },
     "metadata": {},
     "output_type": "display_data"
    },
    {
     "data": {
      "text/plain": [
       "   Min. 1st Qu.  Median    Mean 3rd Qu.    Max. \n",
       "-34.015  -5.651   1.059   1.052   7.857  34.454 "
      ]
     },
     "metadata": {},
     "output_type": "display_data"
    }
   ],
   "source": [
    "y <- rnorm(30, mean = 1)\n",
    "t.test(x, y)\n",
    "print(\"-----------------------------------------------------------------------------------------------------------------------------\")\n",
    "\n",
    "\n",
    "y <- rnorm(30, mean = 1, sd = 5)\n",
    "summary(y)\n",
    "y <- rnorm(30, mean = 1, sd = 1)\n",
    "summary(y)\n",
    "y <- rnorm(30, mean = 1, sd = 10)\n",
    "summary(y)\n",
    "\n",
    "y <- rnorm(3000, mean = 1, sd = 10)\n",
    "summary(y)\n"
   ]
  },
  {
   "cell_type": "markdown",
   "id": "dba2d273-4cee-4b78-a7af-d39168122717",
   "metadata": {},
   "source": [
    "4. making a both normal & unnormal dtats and make a plot to see their differences"
   ]
  },
  {
   "cell_type": "code",
   "execution_count": 4,
   "id": "da19689d-c0b3-4039-b2a7-d5c7ab20a817",
   "metadata": {},
   "outputs": [
    {
     "data": {
      "text/html": [
       "<style>\n",
       ".list-inline {list-style: none; margin:0; padding: 0}\n",
       ".list-inline>li {display: inline-block}\n",
       ".list-inline>li:not(:last-child)::after {content: \"\\00b7\"; padding: 0 .5ex}\n",
       "</style>\n",
       "<ol class=list-inline><li>0.165230206912383</li><li>0.455425726482645</li><li>0.0763892354443669</li><li>0.351235183188692</li><li>0.185043550329283</li><li>0.135952185839415</li><li>0.326071037678048</li><li>0.773892303463072</li><li>0.168305660132319</li><li>0.757648214697838</li><li>0.324546946212649</li><li>0.60744413244538</li><li>0.266249826643616</li><li>0.533899660687894</li><li>0.598871423862875</li><li>0.650214958935976</li><li>0.0589795971754938</li><li>0.482927239499986</li><li>0.529507115017623</li><li>0.0726799932308495</li><li>0.241213006200269</li><li>0.914088104851544</li><li>0.826002781279385</li><li>0.88964506960474</li><li>0.662402184214443</li><li>0.672594003845006</li><li>0.20067922025919</li><li>0.78619370283559</li><li>0.322607185691595</li><li>0.610562830697745</li></ol>\n"
      ],
      "text/latex": [
       "\\begin{enumerate*}\n",
       "\\item 0.165230206912383\n",
       "\\item 0.455425726482645\n",
       "\\item 0.0763892354443669\n",
       "\\item 0.351235183188692\n",
       "\\item 0.185043550329283\n",
       "\\item 0.135952185839415\n",
       "\\item 0.326071037678048\n",
       "\\item 0.773892303463072\n",
       "\\item 0.168305660132319\n",
       "\\item 0.757648214697838\n",
       "\\item 0.324546946212649\n",
       "\\item 0.60744413244538\n",
       "\\item 0.266249826643616\n",
       "\\item 0.533899660687894\n",
       "\\item 0.598871423862875\n",
       "\\item 0.650214958935976\n",
       "\\item 0.0589795971754938\n",
       "\\item 0.482927239499986\n",
       "\\item 0.529507115017623\n",
       "\\item 0.0726799932308495\n",
       "\\item 0.241213006200269\n",
       "\\item 0.914088104851544\n",
       "\\item 0.826002781279385\n",
       "\\item 0.88964506960474\n",
       "\\item 0.662402184214443\n",
       "\\item 0.672594003845006\n",
       "\\item 0.20067922025919\n",
       "\\item 0.78619370283559\n",
       "\\item 0.322607185691595\n",
       "\\item 0.610562830697745\n",
       "\\end{enumerate*}\n"
      ],
      "text/markdown": [
       "1. 0.165230206912383\n",
       "2. 0.455425726482645\n",
       "3. 0.0763892354443669\n",
       "4. 0.351235183188692\n",
       "5. 0.185043550329283\n",
       "6. 0.135952185839415\n",
       "7. 0.326071037678048\n",
       "8. 0.773892303463072\n",
       "9. 0.168305660132319\n",
       "10. 0.757648214697838\n",
       "11. 0.324546946212649\n",
       "12. 0.60744413244538\n",
       "13. 0.266249826643616\n",
       "14. 0.533899660687894\n",
       "15. 0.598871423862875\n",
       "16. 0.650214958935976\n",
       "17. 0.0589795971754938\n",
       "18. 0.482927239499986\n",
       "19. 0.529507115017623\n",
       "20. 0.0726799932308495\n",
       "21. 0.241213006200269\n",
       "22. 0.914088104851544\n",
       "23. 0.826002781279385\n",
       "24. 0.88964506960474\n",
       "25. 0.662402184214443\n",
       "26. 0.672594003845006\n",
       "27. 0.20067922025919\n",
       "28. 0.78619370283559\n",
       "29. 0.322607185691595\n",
       "30. 0.610562830697745\n",
       "\n",
       "\n"
      ],
      "text/plain": [
       " [1] 0.16523021 0.45542573 0.07638924 0.35123518 0.18504355 0.13595219\n",
       " [7] 0.32607104 0.77389230 0.16830566 0.75764821 0.32454695 0.60744413\n",
       "[13] 0.26624983 0.53389966 0.59887142 0.65021496 0.05897960 0.48292724\n",
       "[19] 0.52950712 0.07267999 0.24121301 0.91408810 0.82600278 0.88964507\n",
       "[25] 0.66240218 0.67259400 0.20067922 0.78619370 0.32260719 0.61056283"
      ]
     },
     "metadata": {},
     "output_type": "display_data"
    },
    {
     "data": {
      "image/png": "[encoded data removed]",
      "text/plain": [
       "plot without title"
      ]
     },
     "metadata": {
      "image/png": {
       "height": 420,
       "width": 420
      }
     },
     "output_type": "display_data"
    },
    {
     "data": {
      "image/png": "[encoded data removed]",
      "text/plain": [
       "plot without title"
      ]
     },
     "metadata": {
      "image/png": {
       "height": 420,
       "width": 420
      }
     },
     "output_type": "display_data"
    },
    {
     "data": {
      "image/png": "[encoded data removed]",
      "text/plain": [
       "plot without title"
      ]
     },
     "metadata": {
      "image/png": {
       "height": 420,
       "width": 420
      }
     },
     "output_type": "display_data"
    }
   ],
   "source": [
    "x <- runif(30)\n",
    "y <- runif(30)\n",
    "x\n",
    "plot(x, y)\n",
    "\n",
    "x <- rnorm(300)\n",
    "y <- rnorm(300)\n",
    "plot(x, y)\n",
    "\n",
    "x <- runif(300)\n",
    "y <- runif(300)\n",
    "plot(x, y)"
   ]
  },
  {
   "cell_type": "markdown",
   "id": "d6ebdc06-3df1-480b-b510-76d9612f86cc",
   "metadata": {},
   "source": [
    "5. doing a t-test & a wilcox test in unnormal datas and check the differences"
   ]
  },
  {
   "cell_type": "code",
   "execution_count": 5,
   "id": "e0b66b44-d693-48c7-85e5-fb8dd3e543c0",
   "metadata": {},
   "outputs": [
    {
     "data": {
      "text/plain": [
       "\n",
       "\tWelch Two Sample t-test\n",
       "\n",
       "data:  x and y\n",
       "t = 1.0102, df = 57.998, p-value = 0.3166\n",
       "alternative hypothesis: true difference in means is not equal to 0\n",
       "95 percent confidence interval:\n",
       " -0.07504271  0.22795449\n",
       "sample estimates:\n",
       "mean of x mean of y \n",
       "0.5376947 0.4612388 \n"
      ]
     },
     "metadata": {},
     "output_type": "display_data"
    },
    {
     "data": {
      "text/plain": [
       "\n",
       "\tWilcoxon rank sum exact test\n",
       "\n",
       "data:  x and y\n",
       "W = 526, p-value = 0.2665\n",
       "alternative hypothesis: true location shift is not equal to 0\n"
      ]
     },
     "metadata": {},
     "output_type": "display_data"
    },
    {
     "data": {
      "text/plain": [
       "\n",
       "\tWilcoxon rank sum exact test\n",
       "\n",
       "data:  x and y\n",
       "W = 229, p-value = 0.0008691\n",
       "alternative hypothesis: true location shift is not equal to 0\n"
      ]
     },
     "metadata": {},
     "output_type": "display_data"
    },
    {
     "data": {
      "text/plain": [
       "\n",
       "\tWelch Two Sample t-test\n",
       "\n",
       "data:  x and y\n",
       "t = -3.8092, df = 47.746, p-value = 0.0003981\n",
       "alternative hypothesis: true difference in means is not equal to 0\n",
       "95 percent confidence interval:\n",
       " -0.5248288 -0.1621617\n",
       "sample estimates:\n",
       "mean of x mean of y \n",
       "0.3981875 0.7416827 \n"
      ]
     },
     "metadata": {},
     "output_type": "display_data"
    }
   ],
   "source": [
    "x <- runif(30)\n",
    "y <- runif(30)\n",
    "\n",
    "t.test(x, y)\n",
    "wilcox.test(x, y)\n",
    "\n",
    "x <- runif(30)\n",
    "y <- runif(30, max = 1.5)\n",
    "wilcox.test(x, y)\n",
    "t.test(x, y)\n"
   ]
  },
  {
   "cell_type": "markdown",
   "id": "f91fe8d1-5e9f-402d-8526-e67fb291281a",
   "metadata": {},
   "source": [
    "6. inroducing a new plot with a good function"
   ]
  },
  {
   "cell_type": "code",
   "execution_count": 6,
   "id": "1fb51ea3-e13a-47b3-b679-5d7307ddf025",
   "metadata": {},
   "outputs": [
    {
     "data": {
      "image/png": "[encoded data removed]",
      "text/plain": [
       "plot without title"
      ]
     },
     "metadata": {
      "image/png": {
       "height": 420,
       "width": 420
      }
     },
     "output_type": "display_data"
    },
    {
     "data": {
      "image/png": "[encoded data removed]",
      "text/plain": [
       "plot without title"
      ]
     },
     "metadata": {
      "image/png": {
       "height": 420,
       "width": 420
      }
     },
     "output_type": "display_data"
    }
   ],
   "source": [
    "x <- rnorm(30)\n",
    "y <- rnorm(30)\n",
    "\n",
    "qqplot(x, y)\n",
    "\n",
    "# if x & y are both in the same data types, the line in the graph would Correspond to a specific, straight line\n",
    "# if If it were the opposite their not Correspond to a specific, straight line\n",
    "# if we know the type of a data we can find out the type of the other\n",
    "\n",
    "y <- runif(30)\n",
    "x <- rnorm(30)\n",
    "\n",
    "qqplot(x, y)\n"
   ]
  },
  {
   "cell_type": "markdown",
   "id": "6b9ca153-841c-4beb-8bd1-26b10b5f3635",
   "metadata": {},
   "source": [
    "7. more sample works"
   ]
  },
  {
   "cell_type": "code",
   "execution_count": 7,
   "id": "0711a8ae-3319-4efb-8d4f-03ec57485c64",
   "metadata": {},
   "outputs": [
    {
     "data": {
      "text/html": [
       "<style>\n",
       ".list-inline {list-style: none; margin:0; padding: 0}\n",
       ".list-inline>li {display: inline-block}\n",
       ".list-inline>li:not(:last-child)::after {content: \"\\00b7\"; padding: 0 .5ex}\n",
       "</style>\n",
       "<ol class=list-inline><li>5</li><li>7</li><li>1</li><li>14</li><li>25</li><li>36</li><li>12</li></ol>\n"
      ],
      "text/latex": [
       "\\begin{enumerate*}\n",
       "\\item 5\n",
       "\\item 7\n",
       "\\item 1\n",
       "\\item 14\n",
       "\\item 25\n",
       "\\item 36\n",
       "\\item 12\n",
       "\\end{enumerate*}\n"
      ],
      "text/markdown": [
       "1. 5\n",
       "2. 7\n",
       "3. 1\n",
       "4. 14\n",
       "5. 25\n",
       "6. 36\n",
       "7. 12\n",
       "\n",
       "\n"
      ],
      "text/plain": [
       "[1]  5  7  1 14 25 36 12"
      ]
     },
     "metadata": {},
     "output_type": "display_data"
    },
    {
     "data": {
      "text/html": [
       "14.2857142857143"
      ],
      "text/latex": [
       "14.2857142857143"
      ],
      "text/markdown": [
       "14.2857142857143"
      ],
      "text/plain": [
       "[1] 14.28571"
      ]
     },
     "metadata": {},
     "output_type": "display_data"
    },
    {
     "data": {
      "text/html": [
       "12.297889869327"
      ],
      "text/latex": [
       "12.297889869327"
      ],
      "text/markdown": [
       "12.297889869327"
      ],
      "text/plain": [
       "[1] 12.29789"
      ]
     },
     "metadata": {},
     "output_type": "display_data"
    },
    {
     "data": {
      "text/html": [
       "7"
      ],
      "text/latex": [
       "7"
      ],
      "text/markdown": [
       "7"
      ],
      "text/plain": [
       "[1] 7"
      ]
     },
     "metadata": {},
     "output_type": "display_data"
    },
    {
     "data": {
      "image/png": "[encoded data removed]",
      "text/plain": [
       "plot without title"
      ]
     },
     "metadata": {
      "image/png": {
       "height": 420,
       "width": 420
      }
     },
     "output_type": "display_data"
    }
   ],
   "source": [
    "x<- c(5, 7, 1, 14, 25, 36, 12)\n",
    "x\n",
    "mean(x)\n",
    "sd(x)\n",
    "length(x)\n",
    "y <- rnorm(7, mean = mean(x), sd = sd(x))\n",
    "qqplot(x, y)\n"
   ]
  },
  {
   "cell_type": "markdown",
   "id": "6be325df-c486-400a-907c-de321c0b5228",
   "metadata": {},
   "source": [
    "8. making data frames and make a wilcox test out of it"
   ]
  },
  {
   "cell_type": "code",
   "execution_count": 8,
   "id": "e052df6c-fca5-460f-813e-db2de9280426",
   "metadata": {},
   "outputs": [
    {
     "data": {
      "text/html": [
       "<table class=\"dataframe\">\n",
       "<caption>A data.frame: 7 × 3</caption>\n",
       "<thead>\n",
       "\t<tr><th scope=col>person</th><th scope=col>pressure1</th><th scope=col>pressure2</th></tr>\n",
       "\t<tr><th scope=col>&lt;int&gt;</th><th scope=col>&lt;dbl&gt;</th><th scope=col>&lt;dbl&gt;</th></tr>\n",
       "</thead>\n",
       "<tbody>\n",
       "\t<tr><td>1</td><td>11.05987</td><td>10.74383</td></tr>\n",
       "\t<tr><td>2</td><td>11.14058</td><td>10.65513</td></tr>\n",
       "\t<tr><td>3</td><td>11.78619</td><td>10.80587</td></tr>\n",
       "\t<tr><td>4</td><td>11.20799</td><td>10.79737</td></tr>\n",
       "\t<tr><td>5</td><td>11.41952</td><td>10.50903</td></tr>\n",
       "\t<tr><td>6</td><td>11.95729</td><td>10.48388</td></tr>\n",
       "\t<tr><td>7</td><td>11.35271</td><td>10.88294</td></tr>\n",
       "</tbody>\n",
       "</table>\n"
      ],
      "text/latex": [
       "A data.frame: 7 × 3\n",
       "\\begin{tabular}{lll}\n",
       " person & pressure1 & pressure2\\\\\n",
       " <int> & <dbl> & <dbl>\\\\\n",
       "\\hline\n",
       "\t 1 & 11.05987 & 10.74383\\\\\n",
       "\t 2 & 11.14058 & 10.65513\\\\\n",
       "\t 3 & 11.78619 & 10.80587\\\\\n",
       "\t 4 & 11.20799 & 10.79737\\\\\n",
       "\t 5 & 11.41952 & 10.50903\\\\\n",
       "\t 6 & 11.95729 & 10.48388\\\\\n",
       "\t 7 & 11.35271 & 10.88294\\\\\n",
       "\\end{tabular}\n"
      ],
      "text/markdown": [
       "\n",
       "A data.frame: 7 × 3\n",
       "\n",
       "| person &lt;int&gt; | pressure1 &lt;dbl&gt; | pressure2 &lt;dbl&gt; |\n",
       "|---|---|---|\n",
       "| 1 | 11.05987 | 10.74383 |\n",
       "| 2 | 11.14058 | 10.65513 |\n",
       "| 3 | 11.78619 | 10.80587 |\n",
       "| 4 | 11.20799 | 10.79737 |\n",
       "| 5 | 11.41952 | 10.50903 |\n",
       "| 6 | 11.95729 | 10.48388 |\n",
       "| 7 | 11.35271 | 10.88294 |\n",
       "\n"
      ],
      "text/plain": [
       "  person pressure1 pressure2\n",
       "1 1      11.05987  10.74383 \n",
       "2 2      11.14058  10.65513 \n",
       "3 3      11.78619  10.80587 \n",
       "4 4      11.20799  10.79737 \n",
       "5 5      11.41952  10.50903 \n",
       "6 6      11.95729  10.48388 \n",
       "7 7      11.35271  10.88294 "
      ]
     },
     "metadata": {},
     "output_type": "display_data"
    },
    {
     "data": {
      "text/plain": [
       "\n",
       "\tWilcoxon signed rank exact test\n",
       "\n",
       "data:  x$pressure1 and x$pressure2\n",
       "V = 28, p-value = 0.01563\n",
       "alternative hypothesis: true location shift is not equal to 0\n"
      ]
     },
     "metadata": {},
     "output_type": "display_data"
    },
    {
     "data": {
      "text/plain": [
       "\n",
       "\tWilcoxon rank sum exact test\n",
       "\n",
       "data:  x$pressure1 and x$pressure2\n",
       "W = 33, p-value = 0.3176\n",
       "alternative hypothesis: true location shift is not equal to 0\n"
      ]
     },
     "metadata": {},
     "output_type": "display_data"
    }
   ],
   "source": [
    "x <- data.frame(person = 1:7, pressure1 = runif(7, 11, 12), pressure2 = runif(7, 10, 11))\n",
    "x\n",
    "\n",
    "wilcox.test(x$pressure1, x$pressure2, paired = T)\n",
    "\n",
    "x <- data.frame(person = 1:7, pressure1 = runif(7, 11, 12), pressure2 = runif(7, 11, 12))\n",
    "wilcox.test(x$pressure1, x$pressure2)\n"
   ]
  },
  {
   "cell_type": "markdown",
   "id": "71593831-2014-4df9-91ed-70c5b83e5db8",
   "metadata": {},
   "source": [
    "9. using apply to for having our data values better"
   ]
  },
  {
   "cell_type": "code",
   "execution_count": 9,
   "id": "945ab192-73c8-48e9-8bf0-9be9745ae96e",
   "metadata": {},
   "outputs": [
    {
     "data": {
      "text/html": [
       "<table class=\"dataframe\">\n",
       "<caption>A data.frame: 2 × 2</caption>\n",
       "<thead>\n",
       "\t<tr><th></th><th scope=col>Mean</th><th scope=col>SD</th></tr>\n",
       "\t<tr><th></th><th scope=col>&lt;dbl&gt;</th><th scope=col>&lt;dbl&gt;</th></tr>\n",
       "</thead>\n",
       "<tbody>\n",
       "\t<tr><th scope=row>pressure1</th><td>11.62293</td><td>0.1641791</td></tr>\n",
       "\t<tr><th scope=row>pressure2</th><td>11.47889</td><td>0.3347391</td></tr>\n",
       "</tbody>\n",
       "</table>\n"
      ],
      "text/latex": [
       "A data.frame: 2 × 2\n",
       "\\begin{tabular}{r|ll}\n",
       "  & Mean & SD\\\\\n",
       "  & <dbl> & <dbl>\\\\\n",
       "\\hline\n",
       "\tpressure1 & 11.62293 & 0.1641791\\\\\n",
       "\tpressure2 & 11.47889 & 0.3347391\\\\\n",
       "\\end{tabular}\n"
      ],
      "text/markdown": [
       "\n",
       "A data.frame: 2 × 2\n",
       "\n",
       "| <!--/--> | Mean &lt;dbl&gt; | SD &lt;dbl&gt; |\n",
       "|---|---|---|\n",
       "| pressure1 | 11.62293 | 0.1641791 |\n",
       "| pressure2 | 11.47889 | 0.3347391 |\n",
       "\n"
      ],
      "text/plain": [
       "          Mean     SD       \n",
       "pressure1 11.62293 0.1641791\n",
       "pressure2 11.47889 0.3347391"
      ]
     },
     "metadata": {},
     "output_type": "display_data"
    },
    {
     "data": {
      "text/html": [
       "<table class=\"dataframe\">\n",
       "<caption>A data.frame: 2 × 3</caption>\n",
       "<thead>\n",
       "\t<tr><th></th><th scope=col>Mean</th><th scope=col>SD</th><th scope=col>group</th></tr>\n",
       "\t<tr><th></th><th scope=col>&lt;dbl&gt;</th><th scope=col>&lt;dbl&gt;</th><th scope=col>&lt;chr&gt;</th></tr>\n",
       "</thead>\n",
       "<tbody>\n",
       "\t<tr><th scope=row>pressure1</th><td>11.62293</td><td>0.1641791</td><td>pressure1</td></tr>\n",
       "\t<tr><th scope=row>pressure2</th><td>11.47889</td><td>0.3347391</td><td>pressure2</td></tr>\n",
       "</tbody>\n",
       "</table>\n"
      ],
      "text/latex": [
       "A data.frame: 2 × 3\n",
       "\\begin{tabular}{r|lll}\n",
       "  & Mean & SD & group\\\\\n",
       "  & <dbl> & <dbl> & <chr>\\\\\n",
       "\\hline\n",
       "\tpressure1 & 11.62293 & 0.1641791 & pressure1\\\\\n",
       "\tpressure2 & 11.47889 & 0.3347391 & pressure2\\\\\n",
       "\\end{tabular}\n"
      ],
      "text/markdown": [
       "\n",
       "A data.frame: 2 × 3\n",
       "\n",
       "| <!--/--> | Mean &lt;dbl&gt; | SD &lt;dbl&gt; | group &lt;chr&gt; |\n",
       "|---|---|---|---|\n",
       "| pressure1 | 11.62293 | 0.1641791 | pressure1 |\n",
       "| pressure2 | 11.47889 | 0.3347391 | pressure2 |\n",
       "\n"
      ],
      "text/plain": [
       "          Mean     SD        group    \n",
       "pressure1 11.62293 0.1641791 pressure1\n",
       "pressure2 11.47889 0.3347391 pressure2"
      ]
     },
     "metadata": {},
     "output_type": "display_data"
    }
   ],
   "source": [
    "y <- data.frame(Mean = colMeans(x[,-1]), SD = apply(x[,-1], 2, sd))\n",
    "y\n",
    "y$group = rownames(y)\n",
    "y\n"
   ]
  },
  {
   "cell_type": "markdown",
   "id": "863dc417-0a95-4991-b65c-a9b4c7ff058f",
   "metadata": {},
   "source": [
    "10. making plots out of them (check the code with its output to see what does it do)"
   ]
  },
  {
   "cell_type": "code",
   "execution_count": 10,
   "id": "9ec8cec5-80da-4697-af69-c4cdca795729",
   "metadata": {},
   "outputs": [
    {
     "data": {
      "image/png": "[encoded data removed]",
      "text/plain": [
       "plot without title"
      ]
     },
     "metadata": {
      "image/png": {
       "height": 420,
       "width": 420
      }
     },
     "output_type": "display_data"
    },
    {
     "data": {
      "image/png": "[encoded data removed]",
      "text/plain": [
       "plot without title"
      ]
     },
     "metadata": {
      "image/png": {
       "height": 420,
       "width": 420
      }
     },
     "output_type": "display_data"
    },
    {
     "data": {
      "image/png": "[encoded data removed]",
      "text/plain": [
       "plot without title"
      ]
     },
     "metadata": {
      "image/png": {
       "height": 420,
       "width": 420
      }
     },
     "output_type": "display_data"
    },
    {
     "data": {
      "image/png": "[encoded data removed]",
      "text/plain": [
       "plot without title"
      ]
     },
     "metadata": {
      "image/png": {
       "height": 420,
       "width": 420
      }
     },
     "output_type": "display_data"
    }
   ],
   "source": [
    "ggplot(y, aes(group, Mean)) + geom_bar(stat = \"identity\")\n",
    "ggplot(y, aes(group, Mean)) + geom_bar(stat = \"identity\", width = 1)\n",
    "\n",
    "ggplot(y, aes(group, Mean, ymin = Mean -SD, ymax = Mean + SD, fill = group)) + geom_bar(stat = \"identity\") + geom_errorbar()\n",
    "ggplot(y, aes(group, Mean, ymin = Mean -SD, ymax = Mean + SD, fill = group)) + geom_bar(stat = \"identity\") + geom_errorbar(width =.1)\n"
   ]
  },
  {
   "cell_type": "markdown",
   "id": "838690ed-91fc-4827-beef-aed8983f5d94",
   "metadata": {},
   "source": [
    "11. another try with SE except SD"
   ]
  },
  {
   "cell_type": "code",
   "execution_count": 11,
   "id": "f9cbf2eb-7c6a-4c2d-be52-22161773ca7c",
   "metadata": {},
   "outputs": [
    {
     "data": {
      "text/html": [
       "<table class=\"dataframe\">\n",
       "<caption>A data.frame: 2 × 2</caption>\n",
       "<thead>\n",
       "\t<tr><th></th><th scope=col>Mean</th><th scope=col>SE</th></tr>\n",
       "\t<tr><th></th><th scope=col>&lt;dbl&gt;</th><th scope=col>&lt;dbl&gt;</th></tr>\n",
       "</thead>\n",
       "<tbody>\n",
       "\t<tr><th scope=row>pressure1</th><td>11.62293</td><td>0.06753170</td></tr>\n",
       "\t<tr><th scope=row>pressure2</th><td>11.47889</td><td>0.09642774</td></tr>\n",
       "</tbody>\n",
       "</table>\n"
      ],
      "text/latex": [
       "A data.frame: 2 × 2\n",
       "\\begin{tabular}{r|ll}\n",
       "  & Mean & SE\\\\\n",
       "  & <dbl> & <dbl>\\\\\n",
       "\\hline\n",
       "\tpressure1 & 11.62293 & 0.06753170\\\\\n",
       "\tpressure2 & 11.47889 & 0.09642774\\\\\n",
       "\\end{tabular}\n"
      ],
      "text/markdown": [
       "\n",
       "A data.frame: 2 × 2\n",
       "\n",
       "| <!--/--> | Mean &lt;dbl&gt; | SE &lt;dbl&gt; |\n",
       "|---|---|---|\n",
       "| pressure1 | 11.62293 | 0.06753170 |\n",
       "| pressure2 | 11.47889 | 0.09642774 |\n",
       "\n"
      ],
      "text/plain": [
       "          Mean     SE        \n",
       "pressure1 11.62293 0.06753170\n",
       "pressure2 11.47889 0.09642774"
      ]
     },
     "metadata": {},
     "output_type": "display_data"
    },
    {
     "data": {
      "image/png": "[encoded data removed]",
      "text/plain": [
       "plot without title"
      ]
     },
     "metadata": {
      "image/png": {
       "height": 420,
       "width": 420
      }
     },
     "output_type": "display_data"
    },
    {
     "data": {
      "image/png": "[encoded data removed]",
      "text/plain": [
       "plot without title"
      ]
     },
     "metadata": {
      "image/png": {
       "height": 420,
       "width": 420
      }
     },
     "output_type": "display_data"
    },
    {
     "data": {
      "image/png": "[encoded data removed]",
      "text/plain": [
       "plot without title"
      ]
     },
     "metadata": {
      "image/png": {
       "height": 420,
       "width": 420
      }
     },
     "output_type": "display_data"
    }
   ],
   "source": [
    "se = function(x) sqrt(sd(x))/(length(x)-1)\n",
    "y <- data.frame(Mean = colMeans(x[,-1]), SE = apply(x[,-1], 2, se))\n",
    "y\n",
    "y$group = rownames(y)\n",
    "ggplot(y, aes(group, Mean, ymin = Mean -SE, ymax = Mean + SE, fill = group)) + geom_bar(stat = \"identity\") + geom_errorbar(width =.1)\n",
    "ggplot(y, aes(group, Mean, ymin = Mean , ymax = Mean + SE, fill = group)) + geom_bar(stat = \"identity\") + geom_errorbar(width =.1)\n",
    "ggplot(y, aes(group, Mean, ymin = Mean , ymax = Mean + SE, fill = group)) + geom_bar(stat = \"identity\") + geom_errorbar(width =0)\n"
   ]
  },
  {
   "cell_type": "markdown",
   "id": "e72ad6da-8395-4a30-899b-b83beefbea9e",
   "metadata": {},
   "source": [
    "12. Guess what the code below does?"
   ]
  },
  {
   "cell_type": "code",
   "execution_count": 12,
   "id": "7a1bc1d2-00c6-4001-87be-1d847e51648e",
   "metadata": {},
   "outputs": [
    {
     "data": {
      "image/png": "[encoded data removed]",
      "text/plain": [
       "plot without title"
      ]
     },
     "metadata": {
      "image/png": {
       "height": 420,
       "width": 420
      }
     },
     "output_type": "display_data"
    }
   ],
   "source": [
    "y$SE <- 10*y$SE\n",
    "ggplot(y, aes(group, Mean, ymin = Mean , ymax = Mean + SE, fill = group)) + geom_bar(stat = \"identity\") + geom_errorbar(width =0)\n"
   ]
  },
  {
   "cell_type": "code",
   "execution_count": null,
   "id": "a91bcc46-6966-4e02-b9a7-15af7cda2da4",
   "metadata": {},
   "outputs": [],
   "source": []
  }
 ],
 "metadata": {
  "kernelspec": {
   "display_name": "R",
   "language": "R",
   "name": "ir"
  },
  "language_info": {
   "codemirror_mode": "r",
   "file_extension": ".r",
   "mimetype": "text/x-r-source",
   "name": "R",
   "pygments_lexer": "r",
   "version": "4.3.1"
  }
 },
 "nbformat": 4,
 "nbformat_minor": 5
}
