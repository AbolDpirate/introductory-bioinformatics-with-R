{
 "cells": [
  {
   "cell_type": "markdown",
   "id": "c0c321f2-5841-4937-9100-1f320495db65",
   "metadata": {},
   "source": [
    "R Basics\n",
    "-\n",
    "Introductory Bioinformatics Sharifi Zarchi The practical sessions part 8\n",
    "-\n",
    "**substr & aggregate functions, intro creating a function**\n"
   ]
  },
  {
   "cell_type": "markdown",
   "id": "3238a7cf-872e-42e6-963f-85eda523c94c",
   "metadata": {},
   "source": [
    "1. File recall and initial preprocessing . . ."
   ]
  },
  {
   "cell_type": "code",
   "execution_count": 1,
   "id": "f4ef4011-8eaa-43b8-a89e-31a1925e42c0",
   "metadata": {},
   "outputs": [
    {
     "data": {
      "text/html": [
       "<table class=\"dataframe\">\n",
       "<caption>A data.frame: 6 × 9</caption>\n",
       "<thead>\n",
       "\t<tr><th></th><th scope=col>HLXb9</th><th scope=col>HHEX</th><th scope=col>HNF4a</th><th scope=col>ISL1</th><th scope=col>NEUROD1</th><th scope=col>NKX6.1</th><th scope=col>PAX4</th><th scope=col>PTF1a</th><th scope=col>PDX1</th></tr>\n",
       "\t<tr><th></th><th scope=col>&lt;dbl&gt;</th><th scope=col>&lt;dbl&gt;</th><th scope=col>&lt;dbl&gt;</th><th scope=col>&lt;dbl&gt;</th><th scope=col>&lt;dbl&gt;</th><th scope=col>&lt;dbl&gt;</th><th scope=col>&lt;dbl&gt;</th><th scope=col>&lt;dbl&gt;</th><th scope=col>&lt;dbl&gt;</th></tr>\n",
       "</thead>\n",
       "<tbody>\n",
       "\t<tr><th scope=row>SC.1</th><td>1.709291</td><td>1.521051</td><td>1.956057</td><td>1.427606</td><td>2.201634</td><td>1.063503</td><td>1.195348</td><td>1.263034</td><td>1.000000</td></tr>\n",
       "\t<tr><th scope=row>SC.2</th><td>1.000000</td><td>1.000000</td><td>1.000000</td><td>1.000000</td><td>1.000000</td><td>1.000000</td><td>1.000000</td><td>1.000000</td><td>1.000000</td></tr>\n",
       "\t<tr><th scope=row>SC.3</th><td>1.000000</td><td>1.000000</td><td>1.000000</td><td>1.000000</td><td>1.000000</td><td>1.000000</td><td>1.000000</td><td>1.000000</td><td>1.000000</td></tr>\n",
       "\t<tr><th scope=row>DE-1</th><td>7.073606</td><td>3.576522</td><td>6.381629</td><td>4.804260</td><td>2.555816</td><td>2.157044</td><td>1.669027</td><td>2.084064</td><td>4.490570</td></tr>\n",
       "\t<tr><th scope=row>DE-2</th><td>5.559798</td><td>5.241077</td><td>5.148365</td><td>3.575312</td><td>2.833902</td><td>2.438293</td><td>2.150560</td><td>2.232661</td><td>3.657640</td></tr>\n",
       "\t<tr><th scope=row>DE-3</th><td>5.725469</td><td>3.576522</td><td>4.932156</td><td>4.804260</td><td>4.074677</td><td>2.157044</td><td>1.669027</td><td>2.060047</td><td>4.738768</td></tr>\n",
       "</tbody>\n",
       "</table>\n"
      ],
      "text/latex": [
       "A data.frame: 6 × 9\n",
       "\\begin{tabular}{r|lllllllll}\n",
       "  & HLXb9 & HHEX & HNF4a & ISL1 & NEUROD1 & NKX6.1 & PAX4 & PTF1a & PDX1\\\\\n",
       "  & <dbl> & <dbl> & <dbl> & <dbl> & <dbl> & <dbl> & <dbl> & <dbl> & <dbl>\\\\\n",
       "\\hline\n",
       "\tSC.1 & 1.709291 & 1.521051 & 1.956057 & 1.427606 & 2.201634 & 1.063503 & 1.195348 & 1.263034 & 1.000000\\\\\n",
       "\tSC.2 & 1.000000 & 1.000000 & 1.000000 & 1.000000 & 1.000000 & 1.000000 & 1.000000 & 1.000000 & 1.000000\\\\\n",
       "\tSC.3 & 1.000000 & 1.000000 & 1.000000 & 1.000000 & 1.000000 & 1.000000 & 1.000000 & 1.000000 & 1.000000\\\\\n",
       "\tDE-1 & 7.073606 & 3.576522 & 6.381629 & 4.804260 & 2.555816 & 2.157044 & 1.669027 & 2.084064 & 4.490570\\\\\n",
       "\tDE-2 & 5.559798 & 5.241077 & 5.148365 & 3.575312 & 2.833902 & 2.438293 & 2.150560 & 2.232661 & 3.657640\\\\\n",
       "\tDE-3 & 5.725469 & 3.576522 & 4.932156 & 4.804260 & 4.074677 & 2.157044 & 1.669027 & 2.060047 & 4.738768\\\\\n",
       "\\end{tabular}\n"
      ],
      "text/markdown": [
       "\n",
       "A data.frame: 6 × 9\n",
       "\n",
       "| <!--/--> | HLXb9 &lt;dbl&gt; | HHEX &lt;dbl&gt; | HNF4a &lt;dbl&gt; | ISL1 &lt;dbl&gt; | NEUROD1 &lt;dbl&gt; | NKX6.1 &lt;dbl&gt; | PAX4 &lt;dbl&gt; | PTF1a &lt;dbl&gt; | PDX1 &lt;dbl&gt; |\n",
       "|---|---|---|---|---|---|---|---|---|---|\n",
       "| SC.1 | 1.709291 | 1.521051 | 1.956057 | 1.427606 | 2.201634 | 1.063503 | 1.195348 | 1.263034 | 1.000000 |\n",
       "| SC.2 | 1.000000 | 1.000000 | 1.000000 | 1.000000 | 1.000000 | 1.000000 | 1.000000 | 1.000000 | 1.000000 |\n",
       "| SC.3 | 1.000000 | 1.000000 | 1.000000 | 1.000000 | 1.000000 | 1.000000 | 1.000000 | 1.000000 | 1.000000 |\n",
       "| DE-1 | 7.073606 | 3.576522 | 6.381629 | 4.804260 | 2.555816 | 2.157044 | 1.669027 | 2.084064 | 4.490570 |\n",
       "| DE-2 | 5.559798 | 5.241077 | 5.148365 | 3.575312 | 2.833902 | 2.438293 | 2.150560 | 2.232661 | 3.657640 |\n",
       "| DE-3 | 5.725469 | 3.576522 | 4.932156 | 4.804260 | 4.074677 | 2.157044 | 1.669027 | 2.060047 | 4.738768 |\n",
       "\n"
      ],
      "text/plain": [
       "     HLXb9    HHEX     HNF4a    ISL1     NEUROD1  NKX6.1   PAX4     PTF1a   \n",
       "SC.1 1.709291 1.521051 1.956057 1.427606 2.201634 1.063503 1.195348 1.263034\n",
       "SC.2 1.000000 1.000000 1.000000 1.000000 1.000000 1.000000 1.000000 1.000000\n",
       "SC.3 1.000000 1.000000 1.000000 1.000000 1.000000 1.000000 1.000000 1.000000\n",
       "DE-1 7.073606 3.576522 6.381629 4.804260 2.555816 2.157044 1.669027 2.084064\n",
       "DE-2 5.559798 5.241077 5.148365 3.575312 2.833902 2.438293 2.150560 2.232661\n",
       "DE-3 5.725469 3.576522 4.932156 4.804260 4.074677 2.157044 1.669027 2.060047\n",
       "     PDX1    \n",
       "SC.1 1.000000\n",
       "SC.2 1.000000\n",
       "SC.3 1.000000\n",
       "DE-1 4.490570\n",
       "DE-2 3.657640\n",
       "DE-3 4.738768"
      ]
     },
     "metadata": {},
     "output_type": "display_data"
    }
   ],
   "source": [
    "x = read.delim(\"C:/Users/abolf/Desktop/jupyter train/intro bioinf sharifi practical/SharifiZarchi-bio/Data/Endoderm.txt\")\n",
    "rownames(x) = x[,1]\n",
    "x = x[,-1]\n",
    "x = log2(x+1)\n",
    "head(x)\n"
   ]
  },
  {
   "cell_type": "markdown",
   "id": "c184320a-3d33-43f7-983f-3ac23c1d104d",
   "metadata": {},
   "source": [
    "2. checking the SD(standard deviation) & SE(standard error) of some genes . . ."
   ]
  },
  {
   "cell_type": "code",
   "execution_count": 13,
   "id": "3b4ac0ad-91e4-4029-aca6-912c9e41ea4c",
   "metadata": {},
   "outputs": [
    {
     "data": {
      "text/html": [
       "0.830314932084834"
      ],
      "text/latex": [
       "0.830314932084834"
      ],
      "text/markdown": [
       "0.830314932084834"
      ],
      "text/plain": [
       "[1] 0.8303149"
      ]
     },
     "metadata": {},
     "output_type": "display_data"
    }
   ],
   "source": [
    "#sd of HLXb9 in rows 4:6?\n",
    "\n",
    "sd(x[4:6,1])\n",
    "\n",
    "#se?\n",
    "# no function for se? lets make our own ...\n",
    "\n",
    "se = function(x) sd(x)/sqrt(length(x))\n",
    "\n",
    "#or\n",
    "#se = function(x){\n",
    "#  e = sd(x)/sqrt(length(x))\n",
    "#  return(e)\n",
    "#}"
   ]
  },
  {
   "cell_type": "markdown",
   "id": "f2a5a093-463c-4a9d-80c9-3614ac0c1a87",
   "metadata": {},
   "source": [
    "3. more into creating a function . . ."
   ]
  },
  {
   "cell_type": "code",
   "execution_count": 10,
   "id": "ee6eaf01-2f07-4fd2-8cd5-7be8b061005f",
   "metadata": {},
   "outputs": [
    {
     "data": {
      "text/html": [
       "<style>\n",
       ".list-inline {list-style: none; margin:0; padding: 0}\n",
       ".list-inline>li {display: inline-block}\n",
       ".list-inline>li:not(:last-child)::after {content: \"\\00b7\"; padding: 0 .5ex}\n",
       "</style>\n",
       "<ol class=list-inline><li>2</li><li>3</li><li>4</li><li>5</li><li>6</li></ol>\n"
      ],
      "text/latex": [
       "\\begin{enumerate*}\n",
       "\\item 2\n",
       "\\item 3\n",
       "\\item 4\n",
       "\\item 5\n",
       "\\item 6\n",
       "\\end{enumerate*}\n"
      ],
      "text/markdown": [
       "1. 2\n",
       "2. 3\n",
       "3. 4\n",
       "4. 5\n",
       "5. 6\n",
       "\n",
       "\n"
      ],
      "text/plain": [
       "[1] 2 3 4 5 6"
      ]
     },
     "metadata": {},
     "output_type": "display_data"
    },
    {
     "data": {
      "text/html": [
       "28"
      ],
      "text/latex": [
       "28"
      ],
      "text/markdown": [
       "28"
      ],
      "text/plain": [
       "[1] 28"
      ]
     },
     "metadata": {},
     "output_type": "display_data"
    },
    {
     "name": "stdout",
     "output_type": "stream",
     "text": [
      "[1] \"-----------------------------------------------------------------------------------------------------------------------------\"\n"
     ]
    },
    {
     "data": {
      "text/html": [
       "<style>\n",
       ".list-inline {list-style: none; margin:0; padding: 0}\n",
       ".list-inline>li {display: inline-block}\n",
       ".list-inline>li:not(:last-child)::after {content: \"\\00b7\"; padding: 0 .5ex}\n",
       "</style>\n",
       "<ol class=list-inline><li>3</li><li>8</li></ol>\n"
      ],
      "text/latex": [
       "\\begin{enumerate*}\n",
       "\\item 3\n",
       "\\item 8\n",
       "\\end{enumerate*}\n"
      ],
      "text/markdown": [
       "1. 3\n",
       "2. 8\n",
       "\n",
       "\n"
      ],
      "text/plain": [
       "[1] 3 8"
      ]
     },
     "metadata": {},
     "output_type": "display_data"
    },
    {
     "name": "stdout",
     "output_type": "stream",
     "text": [
      "[1] \"-----------------------------------------------------------------------------------------------------------------------------\"\n"
     ]
    },
    {
     "data": {
      "text/html": [
       "<style>\n",
       ".list-inline {list-style: none; margin:0; padding: 0}\n",
       ".list-inline>li {display: inline-block}\n",
       ".list-inline>li:not(:last-child)::after {content: \"\\00b7\"; padding: 0 .5ex}\n",
       "</style>\n",
       "<ol class=list-inline><li>0.1</li><li>0.2</li><li>0.3</li><li>0.4</li><li>0.5</li><li>0.6</li><li>0.7</li><li>0.8</li><li>0.9</li><li>1</li><li>1.1</li><li>1.2</li><li>1.3</li><li>1.4</li><li>1.5</li><li>1.6</li><li>1.7</li><li>1.8</li><li>1.9</li><li>2</li><li>2.1</li><li>2.2</li><li>2.3</li><li>2.4</li><li>2.5</li><li>2.6</li><li>2.7</li><li>2.8</li><li>2.9</li><li>3</li><li>3.1</li><li>3.2</li><li>3.3</li><li>3.4</li><li>3.5</li><li>3.6</li><li>3.7</li><li>3.8</li><li>3.9</li><li>4</li><li>4.1</li><li>4.2</li><li>4.3</li><li>4.4</li><li>4.5</li><li>4.6</li><li>4.7</li><li>4.8</li><li>4.9</li><li>5</li><li>5.1</li><li>5.2</li><li>5.3</li><li>5.4</li><li>5.5</li><li>5.6</li><li>5.7</li><li>5.8</li><li>5.9</li><li>6</li><li>6.1</li><li>6.2</li><li>6.3</li><li>6.4</li><li>6.5</li><li>6.6</li><li>6.7</li><li>6.8</li><li>6.9</li><li>7</li><li>7.1</li><li>7.2</li><li>7.3</li><li>7.4</li><li>7.5</li><li>7.6</li><li>7.7</li><li>7.8</li><li>7.9</li><li>8</li><li>8.1</li><li>8.2</li><li>8.3</li><li>8.4</li><li>8.5</li><li>8.6</li><li>8.7</li><li>8.8</li><li>8.9</li><li>9</li><li>9.1</li><li>9.2</li><li>9.3</li><li>9.4</li><li>9.5</li><li>9.6</li><li>9.7</li><li>9.8</li><li>9.9</li><li>10</li></ol>\n"
      ],
      "text/latex": [
       "\\begin{enumerate*}\n",
       "\\item 0.1\n",
       "\\item 0.2\n",
       "\\item 0.3\n",
       "\\item 0.4\n",
       "\\item 0.5\n",
       "\\item 0.6\n",
       "\\item 0.7\n",
       "\\item 0.8\n",
       "\\item 0.9\n",
       "\\item 1\n",
       "\\item 1.1\n",
       "\\item 1.2\n",
       "\\item 1.3\n",
       "\\item 1.4\n",
       "\\item 1.5\n",
       "\\item 1.6\n",
       "\\item 1.7\n",
       "\\item 1.8\n",
       "\\item 1.9\n",
       "\\item 2\n",
       "\\item 2.1\n",
       "\\item 2.2\n",
       "\\item 2.3\n",
       "\\item 2.4\n",
       "\\item 2.5\n",
       "\\item 2.6\n",
       "\\item 2.7\n",
       "\\item 2.8\n",
       "\\item 2.9\n",
       "\\item 3\n",
       "\\item 3.1\n",
       "\\item 3.2\n",
       "\\item 3.3\n",
       "\\item 3.4\n",
       "\\item 3.5\n",
       "\\item 3.6\n",
       "\\item 3.7\n",
       "\\item 3.8\n",
       "\\item 3.9\n",
       "\\item 4\n",
       "\\item 4.1\n",
       "\\item 4.2\n",
       "\\item 4.3\n",
       "\\item 4.4\n",
       "\\item 4.5\n",
       "\\item 4.6\n",
       "\\item 4.7\n",
       "\\item 4.8\n",
       "\\item 4.9\n",
       "\\item 5\n",
       "\\item 5.1\n",
       "\\item 5.2\n",
       "\\item 5.3\n",
       "\\item 5.4\n",
       "\\item 5.5\n",
       "\\item 5.6\n",
       "\\item 5.7\n",
       "\\item 5.8\n",
       "\\item 5.9\n",
       "\\item 6\n",
       "\\item 6.1\n",
       "\\item 6.2\n",
       "\\item 6.3\n",
       "\\item 6.4\n",
       "\\item 6.5\n",
       "\\item 6.6\n",
       "\\item 6.7\n",
       "\\item 6.8\n",
       "\\item 6.9\n",
       "\\item 7\n",
       "\\item 7.1\n",
       "\\item 7.2\n",
       "\\item 7.3\n",
       "\\item 7.4\n",
       "\\item 7.5\n",
       "\\item 7.6\n",
       "\\item 7.7\n",
       "\\item 7.8\n",
       "\\item 7.9\n",
       "\\item 8\n",
       "\\item 8.1\n",
       "\\item 8.2\n",
       "\\item 8.3\n",
       "\\item 8.4\n",
       "\\item 8.5\n",
       "\\item 8.6\n",
       "\\item 8.7\n",
       "\\item 8.8\n",
       "\\item 8.9\n",
       "\\item 9\n",
       "\\item 9.1\n",
       "\\item 9.2\n",
       "\\item 9.3\n",
       "\\item 9.4\n",
       "\\item 9.5\n",
       "\\item 9.6\n",
       "\\item 9.7\n",
       "\\item 9.8\n",
       "\\item 9.9\n",
       "\\item 10\n",
       "\\end{enumerate*}\n"
      ],
      "text/markdown": [
       "1. 0.1\n",
       "2. 0.2\n",
       "3. 0.3\n",
       "4. 0.4\n",
       "5. 0.5\n",
       "6. 0.6\n",
       "7. 0.7\n",
       "8. 0.8\n",
       "9. 0.9\n",
       "10. 1\n",
       "11. 1.1\n",
       "12. 1.2\n",
       "13. 1.3\n",
       "14. 1.4\n",
       "15. 1.5\n",
       "16. 1.6\n",
       "17. 1.7\n",
       "18. 1.8\n",
       "19. 1.9\n",
       "20. 2\n",
       "21. 2.1\n",
       "22. 2.2\n",
       "23. 2.3\n",
       "24. 2.4\n",
       "25. 2.5\n",
       "26. 2.6\n",
       "27. 2.7\n",
       "28. 2.8\n",
       "29. 2.9\n",
       "30. 3\n",
       "31. 3.1\n",
       "32. 3.2\n",
       "33. 3.3\n",
       "34. 3.4\n",
       "35. 3.5\n",
       "36. 3.6\n",
       "37. 3.7\n",
       "38. 3.8\n",
       "39. 3.9\n",
       "40. 4\n",
       "41. 4.1\n",
       "42. 4.2\n",
       "43. 4.3\n",
       "44. 4.4\n",
       "45. 4.5\n",
       "46. 4.6\n",
       "47. 4.7\n",
       "48. 4.8\n",
       "49. 4.9\n",
       "50. 5\n",
       "51. 5.1\n",
       "52. 5.2\n",
       "53. 5.3\n",
       "54. 5.4\n",
       "55. 5.5\n",
       "56. 5.6\n",
       "57. 5.7\n",
       "58. 5.8\n",
       "59. 5.9\n",
       "60. 6\n",
       "61. 6.1\n",
       "62. 6.2\n",
       "63. 6.3\n",
       "64. 6.4\n",
       "65. 6.5\n",
       "66. 6.6\n",
       "67. 6.7\n",
       "68. 6.8\n",
       "69. 6.9\n",
       "70. 7\n",
       "71. 7.1\n",
       "72. 7.2\n",
       "73. 7.3\n",
       "74. 7.4\n",
       "75. 7.5\n",
       "76. 7.6\n",
       "77. 7.7\n",
       "78. 7.8\n",
       "79. 7.9\n",
       "80. 8\n",
       "81. 8.1\n",
       "82. 8.2\n",
       "83. 8.3\n",
       "84. 8.4\n",
       "85. 8.5\n",
       "86. 8.6\n",
       "87. 8.7\n",
       "88. 8.8\n",
       "89. 8.9\n",
       "90. 9\n",
       "91. 9.1\n",
       "92. 9.2\n",
       "93. 9.3\n",
       "94. 9.4\n",
       "95. 9.5\n",
       "96. 9.6\n",
       "97. 9.7\n",
       "98. 9.8\n",
       "99. 9.9\n",
       "100. 10\n",
       "\n",
       "\n"
      ],
      "text/plain": [
       "  [1]  0.1  0.2  0.3  0.4  0.5  0.6  0.7  0.8  0.9  1.0  1.1  1.2  1.3  1.4  1.5\n",
       " [16]  1.6  1.7  1.8  1.9  2.0  2.1  2.2  2.3  2.4  2.5  2.6  2.7  2.8  2.9  3.0\n",
       " [31]  3.1  3.2  3.3  3.4  3.5  3.6  3.7  3.8  3.9  4.0  4.1  4.2  4.3  4.4  4.5\n",
       " [46]  4.6  4.7  4.8  4.9  5.0  5.1  5.2  5.3  5.4  5.5  5.6  5.7  5.8  5.9  6.0\n",
       " [61]  6.1  6.2  6.3  6.4  6.5  6.6  6.7  6.8  6.9  7.0  7.1  7.2  7.3  7.4  7.5\n",
       " [76]  7.6  7.7  7.8  7.9  8.0  8.1  8.2  8.3  8.4  8.5  8.6  8.7  8.8  8.9  9.0\n",
       " [91]  9.1  9.2  9.3  9.4  9.5  9.6  9.7  9.8  9.9 10.0"
      ]
     },
     "metadata": {},
     "output_type": "display_data"
    },
    {
     "name": "stdout",
     "output_type": "stream",
     "text": [
      "[1] \"-----------------------------------------------------------------------------------------------------------------------------\"\n",
      "[1] 4\n",
      "[1] 6\n"
     ]
    },
    {
     "data": {
      "text/html": [
       "24"
      ],
      "text/latex": [
       "24"
      ],
      "text/markdown": [
       "24"
      ],
      "text/plain": [
       "[1] 24"
      ]
     },
     "metadata": {},
     "output_type": "display_data"
    },
    {
     "name": "stdout",
     "output_type": "stream",
     "text": [
      "[1] \"-----------------------------------------------------------------------------------------------------------------------------\"\n",
      "[1] 4\n",
      "[1] 6\n",
      "[1] \"-----------------------------------------------------------------------------------------------------------------------------\"\n"
     ]
    },
    {
     "data": {
      "text/html": [
       "24"
      ],
      "text/latex": [
       "24"
      ],
      "text/markdown": [
       "24"
      ],
      "text/plain": [
       "[1] 24"
      ]
     },
     "metadata": {},
     "output_type": "display_data"
    },
    {
     "name": "stdout",
     "output_type": "stream",
     "text": [
      "[1] \"-----------------------------------------------------------------------------------------------------------------------------\"\n"
     ]
    },
    {
     "data": {
      "text/html": [
       "2"
      ],
      "text/latex": [
       "2"
      ],
      "text/markdown": [
       "2"
      ],
      "text/plain": [
       "[1] 2"
      ]
     },
     "metadata": {},
     "output_type": "display_data"
    },
    {
     "name": "stdout",
     "output_type": "stream",
     "text": [
      "[1] \"-----------------------------------------------------------------------------------------------------------------------------\"\n"
     ]
    },
    {
     "data": {
      "text/html": [
       "1.15470053837925"
      ],
      "text/latex": [
       "1.15470053837925"
      ],
      "text/markdown": [
       "1.15470053837925"
      ],
      "text/plain": [
       "[1] 1.154701"
      ]
     },
     "metadata": {},
     "output_type": "display_data"
    },
    {
     "name": "stdout",
     "output_type": "stream",
     "text": [
      "[1] \"-----------------------------------------------------------------------------------------------------------------------------\"\n"
     ]
    },
    {
     "data": {
      "text/html": [
       "0.479382549551345"
      ],
      "text/latex": [
       "0.479382549551345"
      ],
      "text/markdown": [
       "0.479382549551345"
      ],
      "text/plain": [
       "[1] 0.4793825"
      ]
     },
     "metadata": {},
     "output_type": "display_data"
    },
    {
     "name": "stdout",
     "output_type": "stream",
     "text": [
      "[1] \"-----------------------------------------------------------------------------------------------------------------------------\"\n"
     ]
    },
    {
     "data": {
      "text/html": [
       "0.830314932084834"
      ],
      "text/latex": [
       "0.830314932084834"
      ],
      "text/markdown": [
       "0.830314932084834"
      ],
      "text/plain": [
       "[1] 0.8303149"
      ]
     },
     "metadata": {},
     "output_type": "display_data"
    },
    {
     "name": "stdout",
     "output_type": "stream",
     "text": [
      "[1] \"-----------------------------------------------------------------------------------------------------------------------------\"\n"
     ]
    },
    {
     "data": {
      "text/html": [
       "0.830314932084834"
      ],
      "text/latex": [
       "0.830314932084834"
      ],
      "text/markdown": [
       "0.830314932084834"
      ],
      "text/plain": [
       "[1] 0.8303149"
      ]
     },
     "metadata": {},
     "output_type": "display_data"
    }
   ],
   "source": [
    "alaki  = function(x){\n",
    "  x + 1\n",
    "}\n",
    "alaki(1:5)\n",
    "\n",
    "alaki2 = function(x,y){\n",
    "  x*y\n",
    "}\n",
    "alaki3 = function(x,y){\n",
    "  print(x)\n",
    "  print(y)\n",
    "  x*y\n",
    "}\n",
    "\n",
    "alaki2(4,7)\n",
    "print(\"-----------------------------------------------------------------------------------------------------------------------------\")\n",
    "\n",
    "alaki2(1:2,3:4)\n",
    "print(\"-----------------------------------------------------------------------------------------------------------------------------\")\n",
    "\n",
    "alaki2(1:100,0.1)\n",
    "print(\"-----------------------------------------------------------------------------------------------------------------------------\")\n",
    "\n",
    "alaki3(4,6)\n",
    "print(\"-----------------------------------------------------------------------------------------------------------------------------\")\n",
    "\n",
    "z = alaki3(4,6)\n",
    "print(\"-----------------------------------------------------------------------------------------------------------------------------\")\n",
    "\n",
    "z\n",
    "print(\"-----------------------------------------------------------------------------------------------------------------------------\")\n",
    "\n",
    "sd(c(3,5,7))\n",
    "print(\"-----------------------------------------------------------------------------------------------------------------------------\")\n",
    "\n",
    "se(c(3,5,7))\n",
    "print(\"-----------------------------------------------------------------------------------------------------------------------------\")\n",
    "\n",
    "se(x[4:6, 1])\n",
    "print(\"-----------------------------------------------------------------------------------------------------------------------------\")\n",
    "\n",
    "sd(x[4:6, 1])\n",
    "print(\"-----------------------------------------------------------------------------------------------------------------------------\")\n",
    "\n",
    "se(x[4:6, 1])*sqrt(3)\n"
   ]
  },
  {
   "cell_type": "markdown",
   "id": "625c2f24-298d-4512-add8-7d6f6bfc54be",
   "metadata": {},
   "source": [
    "4. more into digits option . . ."
   ]
  },
  {
   "cell_type": "code",
   "execution_count": 11,
   "id": "fb8740e9-0ae7-4182-a444-223d70bf1da3",
   "metadata": {},
   "outputs": [
    {
     "data": {
      "text/html": [
       "<strong>$digits</strong> = 7"
      ],
      "text/latex": [
       "\\textbf{\\$digits} = 7"
      ],
      "text/markdown": [
       "**$digits** = 7"
      ],
      "text/plain": [
       "$digits\n",
       "[1] 7\n"
      ]
     },
     "metadata": {},
     "output_type": "display_data"
    },
    {
     "name": "stdout",
     "output_type": "stream",
     "text": [
      "[1] \"-----------------------------------------------------------------------------------------------------------------------------\"\n"
     ]
    },
    {
     "data": {
      "text/html": [
       "1.15470053837925"
      ],
      "text/latex": [
       "1.15470053837925"
      ],
      "text/markdown": [
       "1.15470053837925"
      ],
      "text/plain": [
       "[1] 1.2"
      ]
     },
     "metadata": {},
     "output_type": "display_data"
    },
    {
     "name": "stdout",
     "output_type": "stream",
     "text": [
      "[1] \"-----------------------------------------------------------------------------------------------------------------------------\"\n"
     ]
    },
    {
     "data": {
      "text/html": [
       "0.479382549551345"
      ],
      "text/latex": [
       "0.479382549551345"
      ],
      "text/markdown": [
       "0.479382549551345"
      ],
      "text/plain": [
       "[1] 0.48"
      ]
     },
     "metadata": {},
     "output_type": "display_data"
    },
    {
     "name": "stdout",
     "output_type": "stream",
     "text": [
      "[1] \"-----------------------------------------------------------------------------------------------------------------------------\"\n"
     ]
    },
    {
     "data": {
      "text/html": [
       "0.479382549551345"
      ],
      "text/latex": [
       "0.479382549551345"
      ],
      "text/markdown": [
       "0.479382549551345"
      ],
      "text/plain": [
       "[1] 0.4793825"
      ]
     },
     "metadata": {},
     "output_type": "display_data"
    }
   ],
   "source": [
    "options(\"digits\")\n",
    "print(\"-----------------------------------------------------------------------------------------------------------------------------\")\n",
    "\n",
    "options(digits = 2)\n",
    "se(c(3,5,7))\n",
    "print(\"-----------------------------------------------------------------------------------------------------------------------------\")\n",
    "\n",
    "se(x[4:6,1])\n",
    "print(\"-----------------------------------------------------------------------------------------------------------------------------\")\n",
    "\n",
    "options(digits = 7)\n",
    "se(x[4:6,1])"
   ]
  },
  {
   "cell_type": "markdown",
   "id": "b803c281-93ab-45c3-838b-c7892b7f2104",
   "metadata": {},
   "source": [
    "5. Solving a problem, intro some new functions (aggregate & substr) . . ."
   ]
  },
  {
   "cell_type": "code",
   "execution_count": 14,
   "id": "9e71fc87-6947-4065-a3b2-ddee404b4716",
   "metadata": {},
   "outputs": [
    {
     "data": {
      "text/html": [
       "<table class=\"dataframe\">\n",
       "<caption>A data.frame: 6 × 10</caption>\n",
       "<thead>\n",
       "\t<tr><th></th><th scope=col>HLXb9</th><th scope=col>HHEX</th><th scope=col>HNF4a</th><th scope=col>ISL1</th><th scope=col>NEUROD1</th><th scope=col>NKX6.1</th><th scope=col>PAX4</th><th scope=col>PTF1a</th><th scope=col>PDX1</th><th scope=col>sample</th></tr>\n",
       "\t<tr><th></th><th scope=col>&lt;dbl&gt;</th><th scope=col>&lt;dbl&gt;</th><th scope=col>&lt;dbl&gt;</th><th scope=col>&lt;dbl&gt;</th><th scope=col>&lt;dbl&gt;</th><th scope=col>&lt;dbl&gt;</th><th scope=col>&lt;dbl&gt;</th><th scope=col>&lt;dbl&gt;</th><th scope=col>&lt;dbl&gt;</th><th scope=col>&lt;chr&gt;</th></tr>\n",
       "</thead>\n",
       "<tbody>\n",
       "\t<tr><th scope=row>SC.1</th><td>1.709291</td><td>1.521051</td><td>1.956057</td><td>1.427606</td><td>2.201634</td><td>1.063503</td><td>1.195348</td><td>1.263034</td><td>1.000000</td><td>SC.1</td></tr>\n",
       "\t<tr><th scope=row>SC.2</th><td>1.000000</td><td>1.000000</td><td>1.000000</td><td>1.000000</td><td>1.000000</td><td>1.000000</td><td>1.000000</td><td>1.000000</td><td>1.000000</td><td>SC.2</td></tr>\n",
       "\t<tr><th scope=row>SC.3</th><td>1.000000</td><td>1.000000</td><td>1.000000</td><td>1.000000</td><td>1.000000</td><td>1.000000</td><td>1.000000</td><td>1.000000</td><td>1.000000</td><td>SC.3</td></tr>\n",
       "\t<tr><th scope=row>DE-1</th><td>7.073606</td><td>3.576522</td><td>6.381629</td><td>4.804260</td><td>2.555816</td><td>2.157044</td><td>1.669027</td><td>2.084064</td><td>4.490570</td><td>DE-1</td></tr>\n",
       "\t<tr><th scope=row>DE-2</th><td>5.559798</td><td>5.241077</td><td>5.148365</td><td>3.575312</td><td>2.833902</td><td>2.438293</td><td>2.150560</td><td>2.232661</td><td>3.657640</td><td>DE-2</td></tr>\n",
       "\t<tr><th scope=row>DE-3</th><td>5.725469</td><td>3.576522</td><td>4.932156</td><td>4.804260</td><td>4.074677</td><td>2.157044</td><td>1.669027</td><td>2.060047</td><td>4.738768</td><td>DE-3</td></tr>\n",
       "</tbody>\n",
       "</table>\n"
      ],
      "text/latex": [
       "A data.frame: 6 × 10\n",
       "\\begin{tabular}{r|llllllllll}\n",
       "  & HLXb9 & HHEX & HNF4a & ISL1 & NEUROD1 & NKX6.1 & PAX4 & PTF1a & PDX1 & sample\\\\\n",
       "  & <dbl> & <dbl> & <dbl> & <dbl> & <dbl> & <dbl> & <dbl> & <dbl> & <dbl> & <chr>\\\\\n",
       "\\hline\n",
       "\tSC.1 & 1.709291 & 1.521051 & 1.956057 & 1.427606 & 2.201634 & 1.063503 & 1.195348 & 1.263034 & 1.000000 & SC.1\\\\\n",
       "\tSC.2 & 1.000000 & 1.000000 & 1.000000 & 1.000000 & 1.000000 & 1.000000 & 1.000000 & 1.000000 & 1.000000 & SC.2\\\\\n",
       "\tSC.3 & 1.000000 & 1.000000 & 1.000000 & 1.000000 & 1.000000 & 1.000000 & 1.000000 & 1.000000 & 1.000000 & SC.3\\\\\n",
       "\tDE-1 & 7.073606 & 3.576522 & 6.381629 & 4.804260 & 2.555816 & 2.157044 & 1.669027 & 2.084064 & 4.490570 & DE-1\\\\\n",
       "\tDE-2 & 5.559798 & 5.241077 & 5.148365 & 3.575312 & 2.833902 & 2.438293 & 2.150560 & 2.232661 & 3.657640 & DE-2\\\\\n",
       "\tDE-3 & 5.725469 & 3.576522 & 4.932156 & 4.804260 & 4.074677 & 2.157044 & 1.669027 & 2.060047 & 4.738768 & DE-3\\\\\n",
       "\\end{tabular}\n"
      ],
      "text/markdown": [
       "\n",
       "A data.frame: 6 × 10\n",
       "\n",
       "| <!--/--> | HLXb9 &lt;dbl&gt; | HHEX &lt;dbl&gt; | HNF4a &lt;dbl&gt; | ISL1 &lt;dbl&gt; | NEUROD1 &lt;dbl&gt; | NKX6.1 &lt;dbl&gt; | PAX4 &lt;dbl&gt; | PTF1a &lt;dbl&gt; | PDX1 &lt;dbl&gt; | sample &lt;chr&gt; |\n",
       "|---|---|---|---|---|---|---|---|---|---|---|\n",
       "| SC.1 | 1.709291 | 1.521051 | 1.956057 | 1.427606 | 2.201634 | 1.063503 | 1.195348 | 1.263034 | 1.000000 | SC.1 |\n",
       "| SC.2 | 1.000000 | 1.000000 | 1.000000 | 1.000000 | 1.000000 | 1.000000 | 1.000000 | 1.000000 | 1.000000 | SC.2 |\n",
       "| SC.3 | 1.000000 | 1.000000 | 1.000000 | 1.000000 | 1.000000 | 1.000000 | 1.000000 | 1.000000 | 1.000000 | SC.3 |\n",
       "| DE-1 | 7.073606 | 3.576522 | 6.381629 | 4.804260 | 2.555816 | 2.157044 | 1.669027 | 2.084064 | 4.490570 | DE-1 |\n",
       "| DE-2 | 5.559798 | 5.241077 | 5.148365 | 3.575312 | 2.833902 | 2.438293 | 2.150560 | 2.232661 | 3.657640 | DE-2 |\n",
       "| DE-3 | 5.725469 | 3.576522 | 4.932156 | 4.804260 | 4.074677 | 2.157044 | 1.669027 | 2.060047 | 4.738768 | DE-3 |\n",
       "\n"
      ],
      "text/plain": [
       "     HLXb9    HHEX     HNF4a    ISL1     NEUROD1  NKX6.1   PAX4     PTF1a   \n",
       "SC.1 1.709291 1.521051 1.956057 1.427606 2.201634 1.063503 1.195348 1.263034\n",
       "SC.2 1.000000 1.000000 1.000000 1.000000 1.000000 1.000000 1.000000 1.000000\n",
       "SC.3 1.000000 1.000000 1.000000 1.000000 1.000000 1.000000 1.000000 1.000000\n",
       "DE-1 7.073606 3.576522 6.381629 4.804260 2.555816 2.157044 1.669027 2.084064\n",
       "DE-2 5.559798 5.241077 5.148365 3.575312 2.833902 2.438293 2.150560 2.232661\n",
       "DE-3 5.725469 3.576522 4.932156 4.804260 4.074677 2.157044 1.669027 2.060047\n",
       "     PDX1     sample\n",
       "SC.1 1.000000 SC.1  \n",
       "SC.2 1.000000 SC.2  \n",
       "SC.3 1.000000 SC.3  \n",
       "DE-1 4.490570 DE-1  \n",
       "DE-2 3.657640 DE-2  \n",
       "DE-3 4.738768 DE-3  "
      ]
     },
     "metadata": {},
     "output_type": "display_data"
    },
    {
     "data": {
      "text/html": [
       "<table class=\"dataframe\">\n",
       "<caption>A data.frame: 6 × 10</caption>\n",
       "<thead>\n",
       "\t<tr><th></th><th scope=col>HLXb9</th><th scope=col>HHEX</th><th scope=col>HNF4a</th><th scope=col>ISL1</th><th scope=col>NEUROD1</th><th scope=col>NKX6.1</th><th scope=col>PAX4</th><th scope=col>PTF1a</th><th scope=col>PDX1</th><th scope=col>sample</th></tr>\n",
       "\t<tr><th></th><th scope=col>&lt;dbl&gt;</th><th scope=col>&lt;dbl&gt;</th><th scope=col>&lt;dbl&gt;</th><th scope=col>&lt;dbl&gt;</th><th scope=col>&lt;dbl&gt;</th><th scope=col>&lt;dbl&gt;</th><th scope=col>&lt;dbl&gt;</th><th scope=col>&lt;dbl&gt;</th><th scope=col>&lt;dbl&gt;</th><th scope=col>&lt;chr&gt;</th></tr>\n",
       "</thead>\n",
       "<tbody>\n",
       "\t<tr><th scope=row>SC.1</th><td>1.709291</td><td>1.521051</td><td>1.956057</td><td>1.427606</td><td>2.201634</td><td>1.063503</td><td>1.195348</td><td>1.263034</td><td>1.000000</td><td>SC</td></tr>\n",
       "\t<tr><th scope=row>SC.2</th><td>1.000000</td><td>1.000000</td><td>1.000000</td><td>1.000000</td><td>1.000000</td><td>1.000000</td><td>1.000000</td><td>1.000000</td><td>1.000000</td><td>SC</td></tr>\n",
       "\t<tr><th scope=row>SC.3</th><td>1.000000</td><td>1.000000</td><td>1.000000</td><td>1.000000</td><td>1.000000</td><td>1.000000</td><td>1.000000</td><td>1.000000</td><td>1.000000</td><td>SC</td></tr>\n",
       "\t<tr><th scope=row>DE-1</th><td>7.073606</td><td>3.576522</td><td>6.381629</td><td>4.804260</td><td>2.555816</td><td>2.157044</td><td>1.669027</td><td>2.084064</td><td>4.490570</td><td>DE</td></tr>\n",
       "\t<tr><th scope=row>DE-2</th><td>5.559798</td><td>5.241077</td><td>5.148365</td><td>3.575312</td><td>2.833902</td><td>2.438293</td><td>2.150560</td><td>2.232661</td><td>3.657640</td><td>DE</td></tr>\n",
       "\t<tr><th scope=row>DE-3</th><td>5.725469</td><td>3.576522</td><td>4.932156</td><td>4.804260</td><td>4.074677</td><td>2.157044</td><td>1.669027</td><td>2.060047</td><td>4.738768</td><td>DE</td></tr>\n",
       "</tbody>\n",
       "</table>\n"
      ],
      "text/latex": [
       "A data.frame: 6 × 10\n",
       "\\begin{tabular}{r|llllllllll}\n",
       "  & HLXb9 & HHEX & HNF4a & ISL1 & NEUROD1 & NKX6.1 & PAX4 & PTF1a & PDX1 & sample\\\\\n",
       "  & <dbl> & <dbl> & <dbl> & <dbl> & <dbl> & <dbl> & <dbl> & <dbl> & <dbl> & <chr>\\\\\n",
       "\\hline\n",
       "\tSC.1 & 1.709291 & 1.521051 & 1.956057 & 1.427606 & 2.201634 & 1.063503 & 1.195348 & 1.263034 & 1.000000 & SC\\\\\n",
       "\tSC.2 & 1.000000 & 1.000000 & 1.000000 & 1.000000 & 1.000000 & 1.000000 & 1.000000 & 1.000000 & 1.000000 & SC\\\\\n",
       "\tSC.3 & 1.000000 & 1.000000 & 1.000000 & 1.000000 & 1.000000 & 1.000000 & 1.000000 & 1.000000 & 1.000000 & SC\\\\\n",
       "\tDE-1 & 7.073606 & 3.576522 & 6.381629 & 4.804260 & 2.555816 & 2.157044 & 1.669027 & 2.084064 & 4.490570 & DE\\\\\n",
       "\tDE-2 & 5.559798 & 5.241077 & 5.148365 & 3.575312 & 2.833902 & 2.438293 & 2.150560 & 2.232661 & 3.657640 & DE\\\\\n",
       "\tDE-3 & 5.725469 & 3.576522 & 4.932156 & 4.804260 & 4.074677 & 2.157044 & 1.669027 & 2.060047 & 4.738768 & DE\\\\\n",
       "\\end{tabular}\n"
      ],
      "text/markdown": [
       "\n",
       "A data.frame: 6 × 10\n",
       "\n",
       "| <!--/--> | HLXb9 &lt;dbl&gt; | HHEX &lt;dbl&gt; | HNF4a &lt;dbl&gt; | ISL1 &lt;dbl&gt; | NEUROD1 &lt;dbl&gt; | NKX6.1 &lt;dbl&gt; | PAX4 &lt;dbl&gt; | PTF1a &lt;dbl&gt; | PDX1 &lt;dbl&gt; | sample &lt;chr&gt; |\n",
       "|---|---|---|---|---|---|---|---|---|---|---|\n",
       "| SC.1 | 1.709291 | 1.521051 | 1.956057 | 1.427606 | 2.201634 | 1.063503 | 1.195348 | 1.263034 | 1.000000 | SC |\n",
       "| SC.2 | 1.000000 | 1.000000 | 1.000000 | 1.000000 | 1.000000 | 1.000000 | 1.000000 | 1.000000 | 1.000000 | SC |\n",
       "| SC.3 | 1.000000 | 1.000000 | 1.000000 | 1.000000 | 1.000000 | 1.000000 | 1.000000 | 1.000000 | 1.000000 | SC |\n",
       "| DE-1 | 7.073606 | 3.576522 | 6.381629 | 4.804260 | 2.555816 | 2.157044 | 1.669027 | 2.084064 | 4.490570 | DE |\n",
       "| DE-2 | 5.559798 | 5.241077 | 5.148365 | 3.575312 | 2.833902 | 2.438293 | 2.150560 | 2.232661 | 3.657640 | DE |\n",
       "| DE-3 | 5.725469 | 3.576522 | 4.932156 | 4.804260 | 4.074677 | 2.157044 | 1.669027 | 2.060047 | 4.738768 | DE |\n",
       "\n"
      ],
      "text/plain": [
       "     HLXb9    HHEX     HNF4a    ISL1     NEUROD1  NKX6.1   PAX4     PTF1a   \n",
       "SC.1 1.709291 1.521051 1.956057 1.427606 2.201634 1.063503 1.195348 1.263034\n",
       "SC.2 1.000000 1.000000 1.000000 1.000000 1.000000 1.000000 1.000000 1.000000\n",
       "SC.3 1.000000 1.000000 1.000000 1.000000 1.000000 1.000000 1.000000 1.000000\n",
       "DE-1 7.073606 3.576522 6.381629 4.804260 2.555816 2.157044 1.669027 2.084064\n",
       "DE-2 5.559798 5.241077 5.148365 3.575312 2.833902 2.438293 2.150560 2.232661\n",
       "DE-3 5.725469 3.576522 4.932156 4.804260 4.074677 2.157044 1.669027 2.060047\n",
       "     PDX1     sample\n",
       "SC.1 1.000000 SC    \n",
       "SC.2 1.000000 SC    \n",
       "SC.3 1.000000 SC    \n",
       "DE-1 4.490570 DE    \n",
       "DE-2 3.657640 DE    \n",
       "DE-3 4.738768 DE    "
      ]
     },
     "metadata": {},
     "output_type": "display_data"
    },
    {
     "data": {
      "text/html": [
       "<style>\n",
       ".list-inline {list-style: none; margin:0; padding: 0}\n",
       ".list-inline>li {display: inline-block}\n",
       ".list-inline>li:not(:last-child)::after {content: \"\\00b7\"; padding: 0 .5ex}\n",
       "</style>\n",
       "<ol class=list-inline><li>2</li><li>2</li><li>2</li><li>2</li><li>2</li><li>2</li><li>2</li><li>2</li><li>2</li><li>2</li><li>4</li><li>4</li><li>4</li><li>4</li><li>4</li><li>4</li><li>4</li><li>4</li><li>4</li><li>4</li><li>4</li><li>4</li><li>4</li><li>4</li><li>4</li><li>4</li><li>4</li><li>4</li><li>4</li><li>4</li><li>4</li><li>4</li><li>4</li><li>4</li><li>4</li><li>4</li><li>4</li><li>4</li><li>4</li><li>4</li><li>4</li><li>4</li><li>4</li><li>4</li><li>4</li><li>4</li><li>4</li><li>4</li><li>4</li><li>4</li><li>4</li><li>4</li></ol>\n"
      ],
      "text/latex": [
       "\\begin{enumerate*}\n",
       "\\item 2\n",
       "\\item 2\n",
       "\\item 2\n",
       "\\item 2\n",
       "\\item 2\n",
       "\\item 2\n",
       "\\item 2\n",
       "\\item 2\n",
       "\\item 2\n",
       "\\item 2\n",
       "\\item 4\n",
       "\\item 4\n",
       "\\item 4\n",
       "\\item 4\n",
       "\\item 4\n",
       "\\item 4\n",
       "\\item 4\n",
       "\\item 4\n",
       "\\item 4\n",
       "\\item 4\n",
       "\\item 4\n",
       "\\item 4\n",
       "\\item 4\n",
       "\\item 4\n",
       "\\item 4\n",
       "\\item 4\n",
       "\\item 4\n",
       "\\item 4\n",
       "\\item 4\n",
       "\\item 4\n",
       "\\item 4\n",
       "\\item 4\n",
       "\\item 4\n",
       "\\item 4\n",
       "\\item 4\n",
       "\\item 4\n",
       "\\item 4\n",
       "\\item 4\n",
       "\\item 4\n",
       "\\item 4\n",
       "\\item 4\n",
       "\\item 4\n",
       "\\item 4\n",
       "\\item 4\n",
       "\\item 4\n",
       "\\item 4\n",
       "\\item 4\n",
       "\\item 4\n",
       "\\item 4\n",
       "\\item 4\n",
       "\\item 4\n",
       "\\item 4\n",
       "\\end{enumerate*}\n"
      ],
      "text/markdown": [
       "1. 2\n",
       "2. 2\n",
       "3. 2\n",
       "4. 2\n",
       "5. 2\n",
       "6. 2\n",
       "7. 2\n",
       "8. 2\n",
       "9. 2\n",
       "10. 2\n",
       "11. 4\n",
       "12. 4\n",
       "13. 4\n",
       "14. 4\n",
       "15. 4\n",
       "16. 4\n",
       "17. 4\n",
       "18. 4\n",
       "19. 4\n",
       "20. 4\n",
       "21. 4\n",
       "22. 4\n",
       "23. 4\n",
       "24. 4\n",
       "25. 4\n",
       "26. 4\n",
       "27. 4\n",
       "28. 4\n",
       "29. 4\n",
       "30. 4\n",
       "31. 4\n",
       "32. 4\n",
       "33. 4\n",
       "34. 4\n",
       "35. 4\n",
       "36. 4\n",
       "37. 4\n",
       "38. 4\n",
       "39. 4\n",
       "40. 4\n",
       "41. 4\n",
       "42. 4\n",
       "43. 4\n",
       "44. 4\n",
       "45. 4\n",
       "46. 4\n",
       "47. 4\n",
       "48. 4\n",
       "49. 4\n",
       "50. 4\n",
       "51. 4\n",
       "52. 4\n",
       "\n",
       "\n"
      ],
      "text/plain": [
       " [1] 2 2 2 2 2 2 2 2 2 2 4 4 4 4 4 4 4 4 4 4 4 4 4 4 4 4 4 4 4 4 4 4 4 4 4 4 4 4\n",
       "[39] 4 4 4 4 4 4 4 4 4 4 4 4 4 4"
      ]
     },
     "metadata": {},
     "output_type": "display_data"
    },
    {
     "data": {
      "text/html": [
       "5"
      ],
      "text/latex": [
       "5"
      ],
      "text/markdown": [
       "5"
      ],
      "text/plain": [
       "[1] 5"
      ]
     },
     "metadata": {},
     "output_type": "display_data"
    },
    {
     "data": {
      "text/html": [
       "<table class=\"dataframe\">\n",
       "<caption>A data.frame: 8 × 10</caption>\n",
       "<thead>\n",
       "\t<tr><th scope=col>sample</th><th scope=col>HLXb9</th><th scope=col>HHEX</th><th scope=col>HNF4a</th><th scope=col>ISL1</th><th scope=col>NEUROD1</th><th scope=col>NKX6.1</th><th scope=col>PAX4</th><th scope=col>PTF1a</th><th scope=col>PDX1</th></tr>\n",
       "\t<tr><th scope=col>&lt;chr&gt;</th><th scope=col>&lt;dbl&gt;</th><th scope=col>&lt;dbl&gt;</th><th scope=col>&lt;dbl&gt;</th><th scope=col>&lt;dbl&gt;</th><th scope=col>&lt;dbl&gt;</th><th scope=col>&lt;dbl&gt;</th><th scope=col>&lt;dbl&gt;</th><th scope=col>&lt;dbl&gt;</th><th scope=col>&lt;dbl&gt;</th></tr>\n",
       "</thead>\n",
       "<tbody>\n",
       "\t<tr><td>DE  </td><td>6.681124</td><td>4.4599798</td><td>5.093185</td><td>4.701732</td><td>3.374486</td><td>2.1588192</td><td>1.9797406</td><td>2.128391</td><td>3.663248</td></tr>\n",
       "\t<tr><td>P2PE</td><td>4.272447</td><td>0.6539114</td><td>8.602425</td><td>5.334556</td><td>6.864967</td><td>0.4281642</td><td>0.6835280</td><td>1.159531</td><td>6.671858</td></tr>\n",
       "\t<tr><td>P2PP</td><td>6.814252</td><td>4.1677641</td><td>7.269609</td><td>5.134820</td><td>7.799391</td><td>0.4880632</td><td>1.1440663</td><td>2.469126</td><td>8.040858</td></tr>\n",
       "\t<tr><td>P3PE</td><td>4.716811</td><td>0.3713620</td><td>7.525705</td><td>4.439355</td><td>6.293174</td><td>0.8378379</td><td>0.7024566</td><td>2.278794</td><td>6.101884</td></tr>\n",
       "\t<tr><td>P3PP</td><td>5.929029</td><td>4.2939652</td><td>4.149744</td><td>6.451636</td><td>7.617556</td><td>0.8310424</td><td>0.7262381</td><td>1.553647</td><td>8.252322</td></tr>\n",
       "\t<tr><td>P5PE</td><td>3.706217</td><td>0.4699687</td><td>7.318030</td><td>3.920164</td><td>7.258992</td><td>0.3695229</td><td>1.1866983</td><td>2.981781</td><td>5.283538</td></tr>\n",
       "\t<tr><td>P5PP</td><td>6.117470</td><td>4.0443523</td><td>7.468939</td><td>4.344208</td><td>7.594227</td><td>0.1562367</td><td>2.9997318</td><td>1.809861</td><td>7.742477</td></tr>\n",
       "\t<tr><td>SC  </td><td>1.236430</td><td>1.1736836</td><td>1.318686</td><td>1.142535</td><td>1.400545</td><td>1.0211676</td><td>1.0651159</td><td>1.087678</td><td>1.000000</td></tr>\n",
       "</tbody>\n",
       "</table>\n"
      ],
      "text/latex": [
       "A data.frame: 8 × 10\n",
       "\\begin{tabular}{llllllllll}\n",
       " sample & HLXb9 & HHEX & HNF4a & ISL1 & NEUROD1 & NKX6.1 & PAX4 & PTF1a & PDX1\\\\\n",
       " <chr> & <dbl> & <dbl> & <dbl> & <dbl> & <dbl> & <dbl> & <dbl> & <dbl> & <dbl>\\\\\n",
       "\\hline\n",
       "\t DE   & 6.681124 & 4.4599798 & 5.093185 & 4.701732 & 3.374486 & 2.1588192 & 1.9797406 & 2.128391 & 3.663248\\\\\n",
       "\t P2PE & 4.272447 & 0.6539114 & 8.602425 & 5.334556 & 6.864967 & 0.4281642 & 0.6835280 & 1.159531 & 6.671858\\\\\n",
       "\t P2PP & 6.814252 & 4.1677641 & 7.269609 & 5.134820 & 7.799391 & 0.4880632 & 1.1440663 & 2.469126 & 8.040858\\\\\n",
       "\t P3PE & 4.716811 & 0.3713620 & 7.525705 & 4.439355 & 6.293174 & 0.8378379 & 0.7024566 & 2.278794 & 6.101884\\\\\n",
       "\t P3PP & 5.929029 & 4.2939652 & 4.149744 & 6.451636 & 7.617556 & 0.8310424 & 0.7262381 & 1.553647 & 8.252322\\\\\n",
       "\t P5PE & 3.706217 & 0.4699687 & 7.318030 & 3.920164 & 7.258992 & 0.3695229 & 1.1866983 & 2.981781 & 5.283538\\\\\n",
       "\t P5PP & 6.117470 & 4.0443523 & 7.468939 & 4.344208 & 7.594227 & 0.1562367 & 2.9997318 & 1.809861 & 7.742477\\\\\n",
       "\t SC   & 1.236430 & 1.1736836 & 1.318686 & 1.142535 & 1.400545 & 1.0211676 & 1.0651159 & 1.087678 & 1.000000\\\\\n",
       "\\end{tabular}\n"
      ],
      "text/markdown": [
       "\n",
       "A data.frame: 8 × 10\n",
       "\n",
       "| sample &lt;chr&gt; | HLXb9 &lt;dbl&gt; | HHEX &lt;dbl&gt; | HNF4a &lt;dbl&gt; | ISL1 &lt;dbl&gt; | NEUROD1 &lt;dbl&gt; | NKX6.1 &lt;dbl&gt; | PAX4 &lt;dbl&gt; | PTF1a &lt;dbl&gt; | PDX1 &lt;dbl&gt; |\n",
       "|---|---|---|---|---|---|---|---|---|---|\n",
       "| DE   | 6.681124 | 4.4599798 | 5.093185 | 4.701732 | 3.374486 | 2.1588192 | 1.9797406 | 2.128391 | 3.663248 |\n",
       "| P2PE | 4.272447 | 0.6539114 | 8.602425 | 5.334556 | 6.864967 | 0.4281642 | 0.6835280 | 1.159531 | 6.671858 |\n",
       "| P2PP | 6.814252 | 4.1677641 | 7.269609 | 5.134820 | 7.799391 | 0.4880632 | 1.1440663 | 2.469126 | 8.040858 |\n",
       "| P3PE | 4.716811 | 0.3713620 | 7.525705 | 4.439355 | 6.293174 | 0.8378379 | 0.7024566 | 2.278794 | 6.101884 |\n",
       "| P3PP | 5.929029 | 4.2939652 | 4.149744 | 6.451636 | 7.617556 | 0.8310424 | 0.7262381 | 1.553647 | 8.252322 |\n",
       "| P5PE | 3.706217 | 0.4699687 | 7.318030 | 3.920164 | 7.258992 | 0.3695229 | 1.1866983 | 2.981781 | 5.283538 |\n",
       "| P5PP | 6.117470 | 4.0443523 | 7.468939 | 4.344208 | 7.594227 | 0.1562367 | 2.9997318 | 1.809861 | 7.742477 |\n",
       "| SC   | 1.236430 | 1.1736836 | 1.318686 | 1.142535 | 1.400545 | 1.0211676 | 1.0651159 | 1.087678 | 1.000000 |\n",
       "\n"
      ],
      "text/plain": [
       "  sample HLXb9    HHEX      HNF4a    ISL1     NEUROD1  NKX6.1    PAX4     \n",
       "1 DE     6.681124 4.4599798 5.093185 4.701732 3.374486 2.1588192 1.9797406\n",
       "2 P2PE   4.272447 0.6539114 8.602425 5.334556 6.864967 0.4281642 0.6835280\n",
       "3 P2PP   6.814252 4.1677641 7.269609 5.134820 7.799391 0.4880632 1.1440663\n",
       "4 P3PE   4.716811 0.3713620 7.525705 4.439355 6.293174 0.8378379 0.7024566\n",
       "5 P3PP   5.929029 4.2939652 4.149744 6.451636 7.617556 0.8310424 0.7262381\n",
       "6 P5PE   3.706217 0.4699687 7.318030 3.920164 7.258992 0.3695229 1.1866983\n",
       "7 P5PP   6.117470 4.0443523 7.468939 4.344208 7.594227 0.1562367 2.9997318\n",
       "8 SC     1.236430 1.1736836 1.318686 1.142535 1.400545 1.0211676 1.0651159\n",
       "  PTF1a    PDX1    \n",
       "1 2.128391 3.663248\n",
       "2 1.159531 6.671858\n",
       "3 2.469126 8.040858\n",
       "4 2.278794 6.101884\n",
       "5 1.553647 8.252322\n",
       "6 2.981781 5.283538\n",
       "7 1.809861 7.742477\n",
       "8 1.087678 1.000000"
      ]
     },
     "metadata": {},
     "output_type": "display_data"
    }
   ],
   "source": [
    "# making a barplot from the data of one gene with its se & mean & ...\n",
    "x$sample <- rownames(x)\n",
    "head(x)\n",
    "\n",
    "#substr(x, y, z) => x = string , y = start char , z = end char\n",
    "x$sample <- substr(x$sample, 1, nchar(x$sample) - 2)\n",
    "head(x)\n",
    "nchar(x$sample)\n",
    "nchar(\"hello\")\n",
    "\n",
    "# aggregate is for merging/aggregating a  data based on one thing\n",
    "#aggregate (.~x, y, z) => (.) = everything , (~) = based on mark , (x) = based on this , (y) = data , (z) = on this function or value\n",
    "x.m <- aggregate(.~sample, x, mean)\n",
    "# line above meaning : aggreagte everything based on sample (collum) on data(x) by their average(mean)\n",
    "x.m"
   ]
  },
  {
   "cell_type": "markdown",
   "id": "f497b9a4-a57e-4590-975f-7f001d7634f9",
   "metadata": {},
   "source": [
    "6. now lets make a plot of HLXb9 means in different samples . . ."
   ]
  },
  {
   "cell_type": "code",
   "execution_count": 7,
   "id": "f8d5d62b-d461-41f8-b3d0-b705102a4bbf",
   "metadata": {},
   "outputs": [
    {
     "name": "stderr",
     "output_type": "stream",
     "text": [
      "Warning message:\n",
      "\"package 'ggplot2' was built under R version 4.3.3\"\n"
     ]
    },
    {
     "data": {
      "image/png": "[encoded data removed]",
      "text/plain": [
       "plot without title"
      ]
     },
     "metadata": {
      "image/png": {
       "height": 420,
       "width": 420
      }
     },
     "output_type": "display_data"
    }
   ],
   "source": [
    "library(ggplot2)\n",
    "ggplot(x.m, aes(sample, HLXb9, fill = sample)) + geom_bar(stat = \"identity\")\n"
   ]
  },
  {
   "cell_type": "code",
   "execution_count": null,
   "id": "a356c6d7-d89e-40c2-94a1-8fb5283b7681",
   "metadata": {},
   "outputs": [],
   "source": []
  }
 ],
 "metadata": {
  "kernelspec": {
   "display_name": "R",
   "language": "R",
   "name": "ir"
  },
  "language_info": {
   "codemirror_mode": "r",
   "file_extension": ".r",
   "mimetype": "text/x-r-source",
   "name": "R",
   "pygments_lexer": "r",
   "version": "4.3.1"
  }
 },
 "nbformat": 4,
 "nbformat_minor": 5
}
