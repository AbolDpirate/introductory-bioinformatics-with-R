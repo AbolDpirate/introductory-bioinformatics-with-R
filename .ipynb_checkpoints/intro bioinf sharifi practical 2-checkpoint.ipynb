{
 "cells": [
  {
   "cell_type": "markdown",
   "id": "716f79c8-c164-4103-9856-5b94bb08ddd5",
   "metadata": {},
   "source": [
    "R Basics\n",
    "-----\n",
    "Introductory Bioinformatics Sharifi Zarchi The practical sessions part 2\n",
    "-----"
   ]
  },
  {
   "cell_type": "markdown",
   "id": "d04d5677-7005-4da6-b87a-fb5913264f24",
   "metadata": {},
   "source": [
    "1) Calling the file and its initial review"
   ]
  },
  {
   "cell_type": "code",
   "execution_count": 1,
   "id": "d5b0bd81-6b81-411b-9174-a0cab96ca0e6",
   "metadata": {},
   "outputs": [
    {
     "name": "stdout",
     "output_type": "stream",
     "text": [
      "[1] \"-----------------------------------------------------------------------------------------------------------------------------\"\n"
     ]
    },
    {
     "data": {
      "text/html": [
       "<style>\n",
       ".list-inline {list-style: none; margin:0; padding: 0}\n",
       ".list-inline>li {display: inline-block}\n",
       ".list-inline>li:not(:last-child)::after {content: \"\\00b7\"; padding: 0 .5ex}\n",
       "</style>\n",
       "<ol class=list-inline><li>52</li><li>10</li></ol>\n"
      ],
      "text/latex": [
       "\\begin{enumerate*}\n",
       "\\item 52\n",
       "\\item 10\n",
       "\\end{enumerate*}\n"
      ],
      "text/markdown": [
       "1. 52\n",
       "2. 10\n",
       "\n",
       "\n"
      ],
      "text/plain": [
       "[1] 52 10"
      ]
     },
     "metadata": {},
     "output_type": "display_data"
    },
    {
     "name": "stdout",
     "output_type": "stream",
     "text": [
      "[1] \"-----------------------------------------------------------------------------------------------------------------------------\"\n"
     ]
    },
    {
     "data": {
      "text/html": [
       "<table class=\"dataframe\">\n",
       "<caption>A data.frame: 6 × 10</caption>\n",
       "<thead>\n",
       "\t<tr><th></th><th scope=col>Type</th><th scope=col>HLXb9</th><th scope=col>HHEX</th><th scope=col>HNF4a</th><th scope=col>ISL1</th><th scope=col>NEUROD1</th><th scope=col>NKX6.1</th><th scope=col>PAX4</th><th scope=col>PTF1a</th><th scope=col>PDX1</th></tr>\n",
       "\t<tr><th></th><th scope=col>&lt;chr&gt;</th><th scope=col>&lt;dbl&gt;</th><th scope=col>&lt;dbl&gt;</th><th scope=col>&lt;dbl&gt;</th><th scope=col>&lt;dbl&gt;</th><th scope=col>&lt;dbl&gt;</th><th scope=col>&lt;dbl&gt;</th><th scope=col>&lt;dbl&gt;</th><th scope=col>&lt;dbl&gt;</th><th scope=col>&lt;dbl&gt;</th></tr>\n",
       "</thead>\n",
       "<tbody>\n",
       "\t<tr><th scope=row>1</th><td>SC.1</td><td>  2.27</td><td> 1.87</td><td> 2.880</td><td> 1.69</td><td> 3.60</td><td>1.09</td><td>1.29</td><td>1.40</td><td> 1.00</td></tr>\n",
       "\t<tr><th scope=row>2</th><td>SC.2</td><td>  1.00</td><td> 1.00</td><td> 1.000</td><td> 1.00</td><td> 1.00</td><td>1.00</td><td>1.00</td><td>1.00</td><td> 1.00</td></tr>\n",
       "\t<tr><th scope=row>3</th><td>SC.3</td><td>  1.00</td><td> 1.00</td><td> 1.000</td><td> 1.00</td><td> 1.00</td><td>1.00</td><td>1.00</td><td>1.00</td><td> 1.00</td></tr>\n",
       "\t<tr><th scope=row>4</th><td>DE-1</td><td>133.70</td><td>10.93</td><td>82.380</td><td>26.94</td><td> 4.88</td><td>3.46</td><td>2.18</td><td>3.24</td><td>21.48</td></tr>\n",
       "\t<tr><th scope=row>5</th><td>DE-2</td><td> 46.17</td><td>36.82</td><td>34.466</td><td>10.92</td><td> 6.13</td><td>4.42</td><td>3.44</td><td>3.70</td><td>11.62</td></tr>\n",
       "\t<tr><th scope=row>6</th><td>DE-3</td><td> 51.91</td><td>10.93</td><td>29.530</td><td>26.94</td><td>15.85</td><td>3.46</td><td>2.18</td><td>3.17</td><td>25.70</td></tr>\n",
       "</tbody>\n",
       "</table>\n"
      ],
      "text/latex": [
       "A data.frame: 6 × 10\n",
       "\\begin{tabular}{r|llllllllll}\n",
       "  & Type & HLXb9 & HHEX & HNF4a & ISL1 & NEUROD1 & NKX6.1 & PAX4 & PTF1a & PDX1\\\\\n",
       "  & <chr> & <dbl> & <dbl> & <dbl> & <dbl> & <dbl> & <dbl> & <dbl> & <dbl> & <dbl>\\\\\n",
       "\\hline\n",
       "\t1 & SC.1 &   2.27 &  1.87 &  2.880 &  1.69 &  3.60 & 1.09 & 1.29 & 1.40 &  1.00\\\\\n",
       "\t2 & SC.2 &   1.00 &  1.00 &  1.000 &  1.00 &  1.00 & 1.00 & 1.00 & 1.00 &  1.00\\\\\n",
       "\t3 & SC.3 &   1.00 &  1.00 &  1.000 &  1.00 &  1.00 & 1.00 & 1.00 & 1.00 &  1.00\\\\\n",
       "\t4 & DE-1 & 133.70 & 10.93 & 82.380 & 26.94 &  4.88 & 3.46 & 2.18 & 3.24 & 21.48\\\\\n",
       "\t5 & DE-2 &  46.17 & 36.82 & 34.466 & 10.92 &  6.13 & 4.42 & 3.44 & 3.70 & 11.62\\\\\n",
       "\t6 & DE-3 &  51.91 & 10.93 & 29.530 & 26.94 & 15.85 & 3.46 & 2.18 & 3.17 & 25.70\\\\\n",
       "\\end{tabular}\n"
      ],
      "text/markdown": [
       "\n",
       "A data.frame: 6 × 10\n",
       "\n",
       "| <!--/--> | Type &lt;chr&gt; | HLXb9 &lt;dbl&gt; | HHEX &lt;dbl&gt; | HNF4a &lt;dbl&gt; | ISL1 &lt;dbl&gt; | NEUROD1 &lt;dbl&gt; | NKX6.1 &lt;dbl&gt; | PAX4 &lt;dbl&gt; | PTF1a &lt;dbl&gt; | PDX1 &lt;dbl&gt; |\n",
       "|---|---|---|---|---|---|---|---|---|---|---|\n",
       "| 1 | SC.1 |   2.27 |  1.87 |  2.880 |  1.69 |  3.60 | 1.09 | 1.29 | 1.40 |  1.00 |\n",
       "| 2 | SC.2 |   1.00 |  1.00 |  1.000 |  1.00 |  1.00 | 1.00 | 1.00 | 1.00 |  1.00 |\n",
       "| 3 | SC.3 |   1.00 |  1.00 |  1.000 |  1.00 |  1.00 | 1.00 | 1.00 | 1.00 |  1.00 |\n",
       "| 4 | DE-1 | 133.70 | 10.93 | 82.380 | 26.94 |  4.88 | 3.46 | 2.18 | 3.24 | 21.48 |\n",
       "| 5 | DE-2 |  46.17 | 36.82 | 34.466 | 10.92 |  6.13 | 4.42 | 3.44 | 3.70 | 11.62 |\n",
       "| 6 | DE-3 |  51.91 | 10.93 | 29.530 | 26.94 | 15.85 | 3.46 | 2.18 | 3.17 | 25.70 |\n",
       "\n"
      ],
      "text/plain": [
       "  Type HLXb9  HHEX  HNF4a  ISL1  NEUROD1 NKX6.1 PAX4 PTF1a PDX1 \n",
       "1 SC.1   2.27  1.87  2.880  1.69  3.60   1.09   1.29 1.40   1.00\n",
       "2 SC.2   1.00  1.00  1.000  1.00  1.00   1.00   1.00 1.00   1.00\n",
       "3 SC.3   1.00  1.00  1.000  1.00  1.00   1.00   1.00 1.00   1.00\n",
       "4 DE-1 133.70 10.93 82.380 26.94  4.88   3.46   2.18 3.24  21.48\n",
       "5 DE-2  46.17 36.82 34.466 10.92  6.13   4.42   3.44 3.70  11.62\n",
       "6 DE-3  51.91 10.93 29.530 26.94 15.85   3.46   2.18 3.17  25.70"
      ]
     },
     "metadata": {},
     "output_type": "display_data"
    }
   ],
   "source": [
    "x = read.delim(\"SharifiZarchi-bio/Data//Endoderm.txt\")\n",
    "print(\"-----------------------------------------------------------------------------------------------------------------------------\")\n",
    "dim(x)\n",
    "print(\"-----------------------------------------------------------------------------------------------------------------------------\")\n",
    "head(x)"
   ]
  },
  {
   "cell_type": "markdown",
   "id": "60affd13-ae0f-4485-a312-46530a611483",
   "metadata": {},
   "source": [
    "2) Retrieve data from file part 1"
   ]
  },
  {
   "cell_type": "code",
   "execution_count": 2,
   "id": "4dfd6a5d-8eef-4583-a539-8fcf602b3f94",
   "metadata": {},
   "outputs": [
    {
     "name": "stdout",
     "output_type": "stream",
     "text": [
      "[1] \"-----------------------------------------------------------------------------------------------------------------------------\"\n"
     ]
    },
    {
     "data": {
      "text/html": [
       "2.27"
      ],
      "text/latex": [
       "2.27"
      ],
      "text/markdown": [
       "2.27"
      ],
      "text/plain": [
       "[1] 2.27"
      ]
     },
     "metadata": {},
     "output_type": "display_data"
    },
    {
     "name": "stdout",
     "output_type": "stream",
     "text": [
      "[1] \"-----------------------------------------------------------------------------------------------------------------------------\"\n"
     ]
    },
    {
     "data": {
      "text/html": [
       "<table class=\"dataframe\">\n",
       "<caption>A data.frame: 1 × 3</caption>\n",
       "<thead>\n",
       "\t<tr><th></th><th scope=col>Type</th><th scope=col>HLXb9</th><th scope=col>HHEX</th></tr>\n",
       "\t<tr><th></th><th scope=col>&lt;chr&gt;</th><th scope=col>&lt;dbl&gt;</th><th scope=col>&lt;dbl&gt;</th></tr>\n",
       "</thead>\n",
       "<tbody>\n",
       "\t<tr><th scope=row>1</th><td>SC.1</td><td>2.27</td><td>1.87</td></tr>\n",
       "</tbody>\n",
       "</table>\n"
      ],
      "text/latex": [
       "A data.frame: 1 × 3\n",
       "\\begin{tabular}{r|lll}\n",
       "  & Type & HLXb9 & HHEX\\\\\n",
       "  & <chr> & <dbl> & <dbl>\\\\\n",
       "\\hline\n",
       "\t1 & SC.1 & 2.27 & 1.87\\\\\n",
       "\\end{tabular}\n"
      ],
      "text/markdown": [
       "\n",
       "A data.frame: 1 × 3\n",
       "\n",
       "| <!--/--> | Type &lt;chr&gt; | HLXb9 &lt;dbl&gt; | HHEX &lt;dbl&gt; |\n",
       "|---|---|---|---|\n",
       "| 1 | SC.1 | 2.27 | 1.87 |\n",
       "\n"
      ],
      "text/plain": [
       "  Type HLXb9 HHEX\n",
       "1 SC.1 2.27  1.87"
      ]
     },
     "metadata": {},
     "output_type": "display_data"
    },
    {
     "name": "stdout",
     "output_type": "stream",
     "text": [
      "[1] \"-----------------------------------------------------------------------------------------------------------------------------\"\n"
     ]
    },
    {
     "data": {
      "text/html": [
       "<table class=\"dataframe\">\n",
       "<caption>A data.frame: 1 × 3</caption>\n",
       "<thead>\n",
       "\t<tr><th></th><th scope=col>Type</th><th scope=col>HHEX</th><th scope=col>ISL1</th></tr>\n",
       "\t<tr><th></th><th scope=col>&lt;chr&gt;</th><th scope=col>&lt;dbl&gt;</th><th scope=col>&lt;dbl&gt;</th></tr>\n",
       "</thead>\n",
       "<tbody>\n",
       "\t<tr><th scope=row>1</th><td>SC.1</td><td>1.87</td><td>1.69</td></tr>\n",
       "</tbody>\n",
       "</table>\n"
      ],
      "text/latex": [
       "A data.frame: 1 × 3\n",
       "\\begin{tabular}{r|lll}\n",
       "  & Type & HHEX & ISL1\\\\\n",
       "  & <chr> & <dbl> & <dbl>\\\\\n",
       "\\hline\n",
       "\t1 & SC.1 & 1.87 & 1.69\\\\\n",
       "\\end{tabular}\n"
      ],
      "text/markdown": [
       "\n",
       "A data.frame: 1 × 3\n",
       "\n",
       "| <!--/--> | Type &lt;chr&gt; | HHEX &lt;dbl&gt; | ISL1 &lt;dbl&gt; |\n",
       "|---|---|---|---|\n",
       "| 1 | SC.1 | 1.87 | 1.69 |\n",
       "\n"
      ],
      "text/plain": [
       "  Type HHEX ISL1\n",
       "1 SC.1 1.87 1.69"
      ]
     },
     "metadata": {},
     "output_type": "display_data"
    },
    {
     "name": "stdout",
     "output_type": "stream",
     "text": [
      "[1] \"-----------------------------------------------------------------------------------------------------------------------------\"\n"
     ]
    },
    {
     "data": {
      "text/html": [
       "10"
      ],
      "text/latex": [
       "10"
      ],
      "text/markdown": [
       "10"
      ],
      "text/plain": [
       "[1] 10"
      ]
     },
     "metadata": {},
     "output_type": "display_data"
    },
    {
     "data": {
      "text/html": [
       "52"
      ],
      "text/latex": [
       "52"
      ],
      "text/markdown": [
       "52"
      ],
      "text/plain": [
       "[1] 52"
      ]
     },
     "metadata": {},
     "output_type": "display_data"
    }
   ],
   "source": [
    "\n",
    "print(\"-----------------------------------------------------------------------------------------------------------------------------\")\n",
    "x[1,2]\n",
    "print(\"-----------------------------------------------------------------------------------------------------------------------------\")\n",
    "x[1 , 1:3]\n",
    "print(\"-----------------------------------------------------------------------------------------------------------------------------\")\n",
    "x[1 , c(1, 3, 5)]\n",
    "print(\"-----------------------------------------------------------------------------------------------------------------------------\")\n",
    "ncol(x)\n",
    "nrow(x)\n"
   ]
  },
  {
   "cell_type": "markdown",
   "id": "a3784f19-8dcc-4ef6-9a20-b28933d2463d",
   "metadata": {},
   "source": [
    "3) Retrieve data from file part 2"
   ]
  },
  {
   "cell_type": "code",
   "execution_count": 3,
   "id": "e0477c3b-c8a3-4f2d-805a-6ad6cc548b1b",
   "metadata": {},
   "outputs": [
    {
     "name": "stdout",
     "output_type": "stream",
     "text": [
      "[1] \"-----------------------------------------------------------------------------------------------------------------------------\"\n"
     ]
    },
    {
     "data": {
      "text/html": [
       "<table class=\"dataframe\">\n",
       "<caption>A data.frame: 1 × 10</caption>\n",
       "<thead>\n",
       "\t<tr><th></th><th scope=col>Type</th><th scope=col>HLXb9</th><th scope=col>HHEX</th><th scope=col>HNF4a</th><th scope=col>ISL1</th><th scope=col>NEUROD1</th><th scope=col>NKX6.1</th><th scope=col>PAX4</th><th scope=col>PTF1a</th><th scope=col>PDX1</th></tr>\n",
       "\t<tr><th></th><th scope=col>&lt;chr&gt;</th><th scope=col>&lt;dbl&gt;</th><th scope=col>&lt;dbl&gt;</th><th scope=col>&lt;dbl&gt;</th><th scope=col>&lt;dbl&gt;</th><th scope=col>&lt;dbl&gt;</th><th scope=col>&lt;dbl&gt;</th><th scope=col>&lt;dbl&gt;</th><th scope=col>&lt;dbl&gt;</th><th scope=col>&lt;dbl&gt;</th></tr>\n",
       "</thead>\n",
       "<tbody>\n",
       "\t<tr><th scope=row>1</th><td>SC.1</td><td>2.27</td><td>1.87</td><td>2.88</td><td>1.69</td><td>3.6</td><td>1.09</td><td>1.29</td><td>1.4</td><td>1</td></tr>\n",
       "</tbody>\n",
       "</table>\n"
      ],
      "text/latex": [
       "A data.frame: 1 × 10\n",
       "\\begin{tabular}{r|llllllllll}\n",
       "  & Type & HLXb9 & HHEX & HNF4a & ISL1 & NEUROD1 & NKX6.1 & PAX4 & PTF1a & PDX1\\\\\n",
       "  & <chr> & <dbl> & <dbl> & <dbl> & <dbl> & <dbl> & <dbl> & <dbl> & <dbl> & <dbl>\\\\\n",
       "\\hline\n",
       "\t1 & SC.1 & 2.27 & 1.87 & 2.88 & 1.69 & 3.6 & 1.09 & 1.29 & 1.4 & 1\\\\\n",
       "\\end{tabular}\n"
      ],
      "text/markdown": [
       "\n",
       "A data.frame: 1 × 10\n",
       "\n",
       "| <!--/--> | Type &lt;chr&gt; | HLXb9 &lt;dbl&gt; | HHEX &lt;dbl&gt; | HNF4a &lt;dbl&gt; | ISL1 &lt;dbl&gt; | NEUROD1 &lt;dbl&gt; | NKX6.1 &lt;dbl&gt; | PAX4 &lt;dbl&gt; | PTF1a &lt;dbl&gt; | PDX1 &lt;dbl&gt; |\n",
       "|---|---|---|---|---|---|---|---|---|---|---|\n",
       "| 1 | SC.1 | 2.27 | 1.87 | 2.88 | 1.69 | 3.6 | 1.09 | 1.29 | 1.4 | 1 |\n",
       "\n"
      ],
      "text/plain": [
       "  Type HLXb9 HHEX HNF4a ISL1 NEUROD1 NKX6.1 PAX4 PTF1a PDX1\n",
       "1 SC.1 2.27  1.87 2.88  1.69 3.6     1.09   1.29 1.4   1   "
      ]
     },
     "metadata": {},
     "output_type": "display_data"
    },
    {
     "name": "stdout",
     "output_type": "stream",
     "text": [
      "[1] \"-----------------------------------------------------------------------------------------------------------------------------\"\n"
     ]
    },
    {
     "data": {
      "text/html": [
       "<style>\n",
       ".list-inline {list-style: none; margin:0; padding: 0}\n",
       ".list-inline>li {display: inline-block}\n",
       ".list-inline>li:not(:last-child)::after {content: \"\\00b7\"; padding: 0 .5ex}\n",
       "</style>\n",
       "<ol class=list-inline><li>'SC.1'</li><li>'SC.2'</li><li>'SC.3'</li><li>'DE-1'</li><li>'DE-2'</li><li>'DE-3'</li><li>'DE-4'</li><li>'DE+1'</li><li>'DE+2'</li><li>'DE+3'</li><li>'P2PP-1'</li><li>'P2PP-2'</li><li>'P2PP-3'</li><li>'P2PP-4'</li><li>'P2PP+1'</li><li>'P2PP+2'</li><li>'P2PP+3'</li><li>'P2PP+4'</li><li>'P2PE-1'</li><li>'P2PE-2'</li><li>'P2PE-3'</li><li>'P2PE-4'</li><li>'P2PE+1'</li><li>'P2PE+2'</li><li>'P2PE+3'</li><li>'P2PE+4'</li><li>'P3PP-1'</li><li>'P3PP-2'</li><li>'P3PP-3'</li><li>'P3PP+1'</li><li>'P3PP+2'</li><li>'P3PP+3'</li><li>'P3PE-1'</li><li>'P3PE-2'</li><li>'P3PE-3'</li><li>'P3PE-4'</li><li>'P3PE+1'</li><li>'P3PE+2'</li><li>'P3PE+3'</li><li>'P3PE+4'</li><li>'P5PP-1'</li><li>'P5PP-2'</li><li>'P5PP+1'</li><li>'P5PP+2'</li><li>'P5PE-1'</li><li>'P5PE-2'</li><li>'P5PE-3'</li><li>'P5PE-4'</li><li>'P5PE+1'</li><li>'P5PE+2'</li><li>'P5PE+3'</li><li>'P5PE+4'</li></ol>\n"
      ],
      "text/latex": [
       "\\begin{enumerate*}\n",
       "\\item 'SC.1'\n",
       "\\item 'SC.2'\n",
       "\\item 'SC.3'\n",
       "\\item 'DE-1'\n",
       "\\item 'DE-2'\n",
       "\\item 'DE-3'\n",
       "\\item 'DE-4'\n",
       "\\item 'DE+1'\n",
       "\\item 'DE+2'\n",
       "\\item 'DE+3'\n",
       "\\item 'P2PP-1'\n",
       "\\item 'P2PP-2'\n",
       "\\item 'P2PP-3'\n",
       "\\item 'P2PP-4'\n",
       "\\item 'P2PP+1'\n",
       "\\item 'P2PP+2'\n",
       "\\item 'P2PP+3'\n",
       "\\item 'P2PP+4'\n",
       "\\item 'P2PE-1'\n",
       "\\item 'P2PE-2'\n",
       "\\item 'P2PE-3'\n",
       "\\item 'P2PE-4'\n",
       "\\item 'P2PE+1'\n",
       "\\item 'P2PE+2'\n",
       "\\item 'P2PE+3'\n",
       "\\item 'P2PE+4'\n",
       "\\item 'P3PP-1'\n",
       "\\item 'P3PP-2'\n",
       "\\item 'P3PP-3'\n",
       "\\item 'P3PP+1'\n",
       "\\item 'P3PP+2'\n",
       "\\item 'P3PP+3'\n",
       "\\item 'P3PE-1'\n",
       "\\item 'P3PE-2'\n",
       "\\item 'P3PE-3'\n",
       "\\item 'P3PE-4'\n",
       "\\item 'P3PE+1'\n",
       "\\item 'P3PE+2'\n",
       "\\item 'P3PE+3'\n",
       "\\item 'P3PE+4'\n",
       "\\item 'P5PP-1'\n",
       "\\item 'P5PP-2'\n",
       "\\item 'P5PP+1'\n",
       "\\item 'P5PP+2'\n",
       "\\item 'P5PE-1'\n",
       "\\item 'P5PE-2'\n",
       "\\item 'P5PE-3'\n",
       "\\item 'P5PE-4'\n",
       "\\item 'P5PE+1'\n",
       "\\item 'P5PE+2'\n",
       "\\item 'P5PE+3'\n",
       "\\item 'P5PE+4'\n",
       "\\end{enumerate*}\n"
      ],
      "text/markdown": [
       "1. 'SC.1'\n",
       "2. 'SC.2'\n",
       "3. 'SC.3'\n",
       "4. 'DE-1'\n",
       "5. 'DE-2'\n",
       "6. 'DE-3'\n",
       "7. 'DE-4'\n",
       "8. 'DE+1'\n",
       "9. 'DE+2'\n",
       "10. 'DE+3'\n",
       "11. 'P2PP-1'\n",
       "12. 'P2PP-2'\n",
       "13. 'P2PP-3'\n",
       "14. 'P2PP-4'\n",
       "15. 'P2PP+1'\n",
       "16. 'P2PP+2'\n",
       "17. 'P2PP+3'\n",
       "18. 'P2PP+4'\n",
       "19. 'P2PE-1'\n",
       "20. 'P2PE-2'\n",
       "21. 'P2PE-3'\n",
       "22. 'P2PE-4'\n",
       "23. 'P2PE+1'\n",
       "24. 'P2PE+2'\n",
       "25. 'P2PE+3'\n",
       "26. 'P2PE+4'\n",
       "27. 'P3PP-1'\n",
       "28. 'P3PP-2'\n",
       "29. 'P3PP-3'\n",
       "30. 'P3PP+1'\n",
       "31. 'P3PP+2'\n",
       "32. 'P3PP+3'\n",
       "33. 'P3PE-1'\n",
       "34. 'P3PE-2'\n",
       "35. 'P3PE-3'\n",
       "36. 'P3PE-4'\n",
       "37. 'P3PE+1'\n",
       "38. 'P3PE+2'\n",
       "39. 'P3PE+3'\n",
       "40. 'P3PE+4'\n",
       "41. 'P5PP-1'\n",
       "42. 'P5PP-2'\n",
       "43. 'P5PP+1'\n",
       "44. 'P5PP+2'\n",
       "45. 'P5PE-1'\n",
       "46. 'P5PE-2'\n",
       "47. 'P5PE-3'\n",
       "48. 'P5PE-4'\n",
       "49. 'P5PE+1'\n",
       "50. 'P5PE+2'\n",
       "51. 'P5PE+3'\n",
       "52. 'P5PE+4'\n",
       "\n",
       "\n"
      ],
      "text/plain": [
       " [1] \"SC.1\"   \"SC.2\"   \"SC.3\"   \"DE-1\"   \"DE-2\"   \"DE-3\"   \"DE-4\"   \"DE+1\"  \n",
       " [9] \"DE+2\"   \"DE+3\"   \"P2PP-1\" \"P2PP-2\" \"P2PP-3\" \"P2PP-4\" \"P2PP+1\" \"P2PP+2\"\n",
       "[17] \"P2PP+3\" \"P2PP+4\" \"P2PE-1\" \"P2PE-2\" \"P2PE-3\" \"P2PE-4\" \"P2PE+1\" \"P2PE+2\"\n",
       "[25] \"P2PE+3\" \"P2PE+4\" \"P3PP-1\" \"P3PP-2\" \"P3PP-3\" \"P3PP+1\" \"P3PP+2\" \"P3PP+3\"\n",
       "[33] \"P3PE-1\" \"P3PE-2\" \"P3PE-3\" \"P3PE-4\" \"P3PE+1\" \"P3PE+2\" \"P3PE+3\" \"P3PE+4\"\n",
       "[41] \"P5PP-1\" \"P5PP-2\" \"P5PP+1\" \"P5PP+2\" \"P5PE-1\" \"P5PE-2\" \"P5PE-3\" \"P5PE-4\"\n",
       "[49] \"P5PE+1\" \"P5PE+2\" \"P5PE+3\" \"P5PE+4\""
      ]
     },
     "metadata": {},
     "output_type": "display_data"
    },
    {
     "name": "stdout",
     "output_type": "stream",
     "text": [
      "[1] \"-----------------------------------------------------------------------------------------------------------------------------\"\n"
     ]
    },
    {
     "data": {
      "text/html": [
       "<table class=\"dataframe\">\n",
       "<caption>A data.frame: 1 × 10</caption>\n",
       "<thead>\n",
       "\t<tr><th></th><th scope=col>Type</th><th scope=col>HLXb9</th><th scope=col>HHEX</th><th scope=col>HNF4a</th><th scope=col>ISL1</th><th scope=col>NEUROD1</th><th scope=col>NKX6.1</th><th scope=col>PAX4</th><th scope=col>PTF1a</th><th scope=col>PDX1</th></tr>\n",
       "\t<tr><th></th><th scope=col>&lt;chr&gt;</th><th scope=col>&lt;dbl&gt;</th><th scope=col>&lt;dbl&gt;</th><th scope=col>&lt;dbl&gt;</th><th scope=col>&lt;dbl&gt;</th><th scope=col>&lt;dbl&gt;</th><th scope=col>&lt;dbl&gt;</th><th scope=col>&lt;dbl&gt;</th><th scope=col>&lt;dbl&gt;</th><th scope=col>&lt;dbl&gt;</th></tr>\n",
       "</thead>\n",
       "<tbody>\n",
       "\t<tr><th scope=row>1</th><td>SC.1</td><td>2.27</td><td>1.87</td><td>2.88</td><td>1.69</td><td>3.6</td><td>1.09</td><td>1.29</td><td>1.4</td><td>1</td></tr>\n",
       "</tbody>\n",
       "</table>\n"
      ],
      "text/latex": [
       "A data.frame: 1 × 10\n",
       "\\begin{tabular}{r|llllllllll}\n",
       "  & Type & HLXb9 & HHEX & HNF4a & ISL1 & NEUROD1 & NKX6.1 & PAX4 & PTF1a & PDX1\\\\\n",
       "  & <chr> & <dbl> & <dbl> & <dbl> & <dbl> & <dbl> & <dbl> & <dbl> & <dbl> & <dbl>\\\\\n",
       "\\hline\n",
       "\t1 & SC.1 & 2.27 & 1.87 & 2.88 & 1.69 & 3.6 & 1.09 & 1.29 & 1.4 & 1\\\\\n",
       "\\end{tabular}\n"
      ],
      "text/markdown": [
       "\n",
       "A data.frame: 1 × 10\n",
       "\n",
       "| <!--/--> | Type &lt;chr&gt; | HLXb9 &lt;dbl&gt; | HHEX &lt;dbl&gt; | HNF4a &lt;dbl&gt; | ISL1 &lt;dbl&gt; | NEUROD1 &lt;dbl&gt; | NKX6.1 &lt;dbl&gt; | PAX4 &lt;dbl&gt; | PTF1a &lt;dbl&gt; | PDX1 &lt;dbl&gt; |\n",
       "|---|---|---|---|---|---|---|---|---|---|---|\n",
       "| 1 | SC.1 | 2.27 | 1.87 | 2.88 | 1.69 | 3.6 | 1.09 | 1.29 | 1.4 | 1 |\n",
       "\n"
      ],
      "text/plain": [
       "  Type HLXb9 HHEX HNF4a ISL1 NEUROD1 NKX6.1 PAX4 PTF1a PDX1\n",
       "1 SC.1 2.27  1.87 2.88  1.69 3.6     1.09   1.29 1.4   1   "
      ]
     },
     "metadata": {},
     "output_type": "display_data"
    },
    {
     "name": "stdout",
     "output_type": "stream",
     "text": [
      "[1] \"-----------------------------------------------------------------------------------------------------------------------------\"\n"
     ]
    },
    {
     "data": {
      "text/html": [
       "<table class=\"dataframe\">\n",
       "<caption>A data.frame: 2 × 2</caption>\n",
       "<thead>\n",
       "\t<tr><th></th><th scope=col>Type</th><th scope=col>HLXb9</th></tr>\n",
       "\t<tr><th></th><th scope=col>&lt;chr&gt;</th><th scope=col>&lt;dbl&gt;</th></tr>\n",
       "</thead>\n",
       "<tbody>\n",
       "\t<tr><th scope=row>1</th><td>SC.1</td><td>2.27</td></tr>\n",
       "\t<tr><th scope=row>2</th><td>SC.2</td><td>1.00</td></tr>\n",
       "</tbody>\n",
       "</table>\n"
      ],
      "text/latex": [
       "A data.frame: 2 × 2\n",
       "\\begin{tabular}{r|ll}\n",
       "  & Type & HLXb9\\\\\n",
       "  & <chr> & <dbl>\\\\\n",
       "\\hline\n",
       "\t1 & SC.1 & 2.27\\\\\n",
       "\t2 & SC.2 & 1.00\\\\\n",
       "\\end{tabular}\n"
      ],
      "text/markdown": [
       "\n",
       "A data.frame: 2 × 2\n",
       "\n",
       "| <!--/--> | Type &lt;chr&gt; | HLXb9 &lt;dbl&gt; |\n",
       "|---|---|---|\n",
       "| 1 | SC.1 | 2.27 |\n",
       "| 2 | SC.2 | 1.00 |\n",
       "\n"
      ],
      "text/plain": [
       "  Type HLXb9\n",
       "1 SC.1 2.27 \n",
       "2 SC.2 1.00 "
      ]
     },
     "metadata": {},
     "output_type": "display_data"
    },
    {
     "name": "stdout",
     "output_type": "stream",
     "text": [
      "[1] \"-----------------------------------------------------------------------------------------------------------------------------\"\n"
     ]
    },
    {
     "data": {
      "text/html": [
       "<table class=\"dataframe\">\n",
       "<caption>A data.frame: 6 × 9</caption>\n",
       "<thead>\n",
       "\t<tr><th></th><th scope=col>HLXb9</th><th scope=col>HHEX</th><th scope=col>HNF4a</th><th scope=col>ISL1</th><th scope=col>NEUROD1</th><th scope=col>NKX6.1</th><th scope=col>PAX4</th><th scope=col>PTF1a</th><th scope=col>PDX1</th></tr>\n",
       "\t<tr><th></th><th scope=col>&lt;dbl&gt;</th><th scope=col>&lt;dbl&gt;</th><th scope=col>&lt;dbl&gt;</th><th scope=col>&lt;dbl&gt;</th><th scope=col>&lt;dbl&gt;</th><th scope=col>&lt;dbl&gt;</th><th scope=col>&lt;dbl&gt;</th><th scope=col>&lt;dbl&gt;</th><th scope=col>&lt;dbl&gt;</th></tr>\n",
       "</thead>\n",
       "<tbody>\n",
       "\t<tr><th scope=row>1</th><td>  2.27</td><td> 1.87</td><td> 2.880</td><td> 1.69</td><td> 3.60</td><td>1.09</td><td>1.29</td><td>1.40</td><td> 1.00</td></tr>\n",
       "\t<tr><th scope=row>2</th><td>  1.00</td><td> 1.00</td><td> 1.000</td><td> 1.00</td><td> 1.00</td><td>1.00</td><td>1.00</td><td>1.00</td><td> 1.00</td></tr>\n",
       "\t<tr><th scope=row>3</th><td>  1.00</td><td> 1.00</td><td> 1.000</td><td> 1.00</td><td> 1.00</td><td>1.00</td><td>1.00</td><td>1.00</td><td> 1.00</td></tr>\n",
       "\t<tr><th scope=row>4</th><td>133.70</td><td>10.93</td><td>82.380</td><td>26.94</td><td> 4.88</td><td>3.46</td><td>2.18</td><td>3.24</td><td>21.48</td></tr>\n",
       "\t<tr><th scope=row>5</th><td> 46.17</td><td>36.82</td><td>34.466</td><td>10.92</td><td> 6.13</td><td>4.42</td><td>3.44</td><td>3.70</td><td>11.62</td></tr>\n",
       "\t<tr><th scope=row>6</th><td> 51.91</td><td>10.93</td><td>29.530</td><td>26.94</td><td>15.85</td><td>3.46</td><td>2.18</td><td>3.17</td><td>25.70</td></tr>\n",
       "</tbody>\n",
       "</table>\n"
      ],
      "text/latex": [
       "A data.frame: 6 × 9\n",
       "\\begin{tabular}{r|lllllllll}\n",
       "  & HLXb9 & HHEX & HNF4a & ISL1 & NEUROD1 & NKX6.1 & PAX4 & PTF1a & PDX1\\\\\n",
       "  & <dbl> & <dbl> & <dbl> & <dbl> & <dbl> & <dbl> & <dbl> & <dbl> & <dbl>\\\\\n",
       "\\hline\n",
       "\t1 &   2.27 &  1.87 &  2.880 &  1.69 &  3.60 & 1.09 & 1.29 & 1.40 &  1.00\\\\\n",
       "\t2 &   1.00 &  1.00 &  1.000 &  1.00 &  1.00 & 1.00 & 1.00 & 1.00 &  1.00\\\\\n",
       "\t3 &   1.00 &  1.00 &  1.000 &  1.00 &  1.00 & 1.00 & 1.00 & 1.00 &  1.00\\\\\n",
       "\t4 & 133.70 & 10.93 & 82.380 & 26.94 &  4.88 & 3.46 & 2.18 & 3.24 & 21.48\\\\\n",
       "\t5 &  46.17 & 36.82 & 34.466 & 10.92 &  6.13 & 4.42 & 3.44 & 3.70 & 11.62\\\\\n",
       "\t6 &  51.91 & 10.93 & 29.530 & 26.94 & 15.85 & 3.46 & 2.18 & 3.17 & 25.70\\\\\n",
       "\\end{tabular}\n"
      ],
      "text/markdown": [
       "\n",
       "A data.frame: 6 × 9\n",
       "\n",
       "| <!--/--> | HLXb9 &lt;dbl&gt; | HHEX &lt;dbl&gt; | HNF4a &lt;dbl&gt; | ISL1 &lt;dbl&gt; | NEUROD1 &lt;dbl&gt; | NKX6.1 &lt;dbl&gt; | PAX4 &lt;dbl&gt; | PTF1a &lt;dbl&gt; | PDX1 &lt;dbl&gt; |\n",
       "|---|---|---|---|---|---|---|---|---|---|\n",
       "| 1 |   2.27 |  1.87 |  2.880 |  1.69 |  3.60 | 1.09 | 1.29 | 1.40 |  1.00 |\n",
       "| 2 |   1.00 |  1.00 |  1.000 |  1.00 |  1.00 | 1.00 | 1.00 | 1.00 |  1.00 |\n",
       "| 3 |   1.00 |  1.00 |  1.000 |  1.00 |  1.00 | 1.00 | 1.00 | 1.00 |  1.00 |\n",
       "| 4 | 133.70 | 10.93 | 82.380 | 26.94 |  4.88 | 3.46 | 2.18 | 3.24 | 21.48 |\n",
       "| 5 |  46.17 | 36.82 | 34.466 | 10.92 |  6.13 | 4.42 | 3.44 | 3.70 | 11.62 |\n",
       "| 6 |  51.91 | 10.93 | 29.530 | 26.94 | 15.85 | 3.46 | 2.18 | 3.17 | 25.70 |\n",
       "\n"
      ],
      "text/plain": [
       "  HLXb9  HHEX  HNF4a  ISL1  NEUROD1 NKX6.1 PAX4 PTF1a PDX1 \n",
       "1   2.27  1.87  2.880  1.69  3.60   1.09   1.29 1.40   1.00\n",
       "2   1.00  1.00  1.000  1.00  1.00   1.00   1.00 1.00   1.00\n",
       "3   1.00  1.00  1.000  1.00  1.00   1.00   1.00 1.00   1.00\n",
       "4 133.70 10.93 82.380 26.94  4.88   3.46   2.18 3.24  21.48\n",
       "5  46.17 36.82 34.466 10.92  6.13   4.42   3.44 3.70  11.62\n",
       "6  51.91 10.93 29.530 26.94 15.85   3.46   2.18 3.17  25.70"
      ]
     },
     "metadata": {},
     "output_type": "display_data"
    },
    {
     "name": "stdout",
     "output_type": "stream",
     "text": [
      "[1] \"-----------------------------------------------------------------------------------------------------------------------------\"\n"
     ]
    },
    {
     "data": {
      "text/html": [
       "<table class=\"dataframe\">\n",
       "<caption>A data.frame: 6 × 10</caption>\n",
       "<thead>\n",
       "\t<tr><th></th><th scope=col>Type</th><th scope=col>HLXb9</th><th scope=col>HHEX</th><th scope=col>HNF4a</th><th scope=col>ISL1</th><th scope=col>NEUROD1</th><th scope=col>NKX6.1</th><th scope=col>PAX4</th><th scope=col>PTF1a</th><th scope=col>PDX1</th></tr>\n",
       "\t<tr><th></th><th scope=col>&lt;chr&gt;</th><th scope=col>&lt;dbl&gt;</th><th scope=col>&lt;dbl&gt;</th><th scope=col>&lt;dbl&gt;</th><th scope=col>&lt;dbl&gt;</th><th scope=col>&lt;dbl&gt;</th><th scope=col>&lt;dbl&gt;</th><th scope=col>&lt;dbl&gt;</th><th scope=col>&lt;dbl&gt;</th><th scope=col>&lt;dbl&gt;</th></tr>\n",
       "</thead>\n",
       "<tbody>\n",
       "\t<tr><th scope=row>4</th><td>DE-1</td><td>133.70</td><td>10.93</td><td>82.380</td><td>26.94</td><td> 4.88</td><td>3.46</td><td>2.18</td><td>3.24</td><td>21.48</td></tr>\n",
       "\t<tr><th scope=row>5</th><td>DE-2</td><td> 46.17</td><td>36.82</td><td>34.466</td><td>10.92</td><td> 6.13</td><td>4.42</td><td>3.44</td><td>3.70</td><td>11.62</td></tr>\n",
       "\t<tr><th scope=row>6</th><td>DE-3</td><td> 51.91</td><td>10.93</td><td>29.530</td><td>26.94</td><td>15.85</td><td>3.46</td><td>2.18</td><td>3.17</td><td>25.70</td></tr>\n",
       "\t<tr><th scope=row>7</th><td>DE-4</td><td>141.09</td><td>36.82</td><td>62.475</td><td>10.92</td><td>22.21</td><td>4.42</td><td>3.44</td><td>2.21</td><td>14.35</td></tr>\n",
       "\t<tr><th scope=row>8</th><td>DE+1</td><td>168.23</td><td>11.04</td><td>43.030</td><td>40.03</td><td> 4.09</td><td>3.25</td><td>2.69</td><td>4.00</td><td> 6.05</td></tr>\n",
       "\t<tr><th scope=row>9</th><td>DE+2</td><td>101.40</td><td>36.82</td><td>17.371</td><td>36.98</td><td> 4.11</td><td>1.69</td><td>3.25</td><td>2.70</td><td>10.00</td></tr>\n",
       "</tbody>\n",
       "</table>\n"
      ],
      "text/latex": [
       "A data.frame: 6 × 10\n",
       "\\begin{tabular}{r|llllllllll}\n",
       "  & Type & HLXb9 & HHEX & HNF4a & ISL1 & NEUROD1 & NKX6.1 & PAX4 & PTF1a & PDX1\\\\\n",
       "  & <chr> & <dbl> & <dbl> & <dbl> & <dbl> & <dbl> & <dbl> & <dbl> & <dbl> & <dbl>\\\\\n",
       "\\hline\n",
       "\t4 & DE-1 & 133.70 & 10.93 & 82.380 & 26.94 &  4.88 & 3.46 & 2.18 & 3.24 & 21.48\\\\\n",
       "\t5 & DE-2 &  46.17 & 36.82 & 34.466 & 10.92 &  6.13 & 4.42 & 3.44 & 3.70 & 11.62\\\\\n",
       "\t6 & DE-3 &  51.91 & 10.93 & 29.530 & 26.94 & 15.85 & 3.46 & 2.18 & 3.17 & 25.70\\\\\n",
       "\t7 & DE-4 & 141.09 & 36.82 & 62.475 & 10.92 & 22.21 & 4.42 & 3.44 & 2.21 & 14.35\\\\\n",
       "\t8 & DE+1 & 168.23 & 11.04 & 43.030 & 40.03 &  4.09 & 3.25 & 2.69 & 4.00 &  6.05\\\\\n",
       "\t9 & DE+2 & 101.40 & 36.82 & 17.371 & 36.98 &  4.11 & 1.69 & 3.25 & 2.70 & 10.00\\\\\n",
       "\\end{tabular}\n"
      ],
      "text/markdown": [
       "\n",
       "A data.frame: 6 × 10\n",
       "\n",
       "| <!--/--> | Type &lt;chr&gt; | HLXb9 &lt;dbl&gt; | HHEX &lt;dbl&gt; | HNF4a &lt;dbl&gt; | ISL1 &lt;dbl&gt; | NEUROD1 &lt;dbl&gt; | NKX6.1 &lt;dbl&gt; | PAX4 &lt;dbl&gt; | PTF1a &lt;dbl&gt; | PDX1 &lt;dbl&gt; |\n",
       "|---|---|---|---|---|---|---|---|---|---|---|\n",
       "| 4 | DE-1 | 133.70 | 10.93 | 82.380 | 26.94 |  4.88 | 3.46 | 2.18 | 3.24 | 21.48 |\n",
       "| 5 | DE-2 |  46.17 | 36.82 | 34.466 | 10.92 |  6.13 | 4.42 | 3.44 | 3.70 | 11.62 |\n",
       "| 6 | DE-3 |  51.91 | 10.93 | 29.530 | 26.94 | 15.85 | 3.46 | 2.18 | 3.17 | 25.70 |\n",
       "| 7 | DE-4 | 141.09 | 36.82 | 62.475 | 10.92 | 22.21 | 4.42 | 3.44 | 2.21 | 14.35 |\n",
       "| 8 | DE+1 | 168.23 | 11.04 | 43.030 | 40.03 |  4.09 | 3.25 | 2.69 | 4.00 |  6.05 |\n",
       "| 9 | DE+2 | 101.40 | 36.82 | 17.371 | 36.98 |  4.11 | 1.69 | 3.25 | 2.70 | 10.00 |\n",
       "\n"
      ],
      "text/plain": [
       "  Type HLXb9  HHEX  HNF4a  ISL1  NEUROD1 NKX6.1 PAX4 PTF1a PDX1 \n",
       "4 DE-1 133.70 10.93 82.380 26.94  4.88   3.46   2.18 3.24  21.48\n",
       "5 DE-2  46.17 36.82 34.466 10.92  6.13   4.42   3.44 3.70  11.62\n",
       "6 DE-3  51.91 10.93 29.530 26.94 15.85   3.46   2.18 3.17  25.70\n",
       "7 DE-4 141.09 36.82 62.475 10.92 22.21   4.42   3.44 2.21  14.35\n",
       "8 DE+1 168.23 11.04 43.030 40.03  4.09   3.25   2.69 4.00   6.05\n",
       "9 DE+2 101.40 36.82 17.371 36.98  4.11   1.69   3.25 2.70  10.00"
      ]
     },
     "metadata": {},
     "output_type": "display_data"
    }
   ],
   "source": [
    "\n",
    "print(\"-----------------------------------------------------------------------------------------------------------------------------\")\n",
    "x[1 , 1:10]\n",
    "print(\"-----------------------------------------------------------------------------------------------------------------------------\")\n",
    "x[,1]\n",
    "print(\"-----------------------------------------------------------------------------------------------------------------------------\")\n",
    "x[1,]\n",
    "print(\"-----------------------------------------------------------------------------------------------------------------------------\")\n",
    "x[c(1, 2) , c(1, 2)]\n",
    "print(\"-----------------------------------------------------------------------------------------------------------------------------\")\n",
    "head(x[,-1])\n",
    "print(\"-----------------------------------------------------------------------------------------------------------------------------\")\n",
    "head(x[-1:-3,])"
   ]
  },
  {
   "cell_type": "markdown",
   "id": "af7eda90-857e-4a96-bc49-8bc7612af315",
   "metadata": {},
   "source": [
    "4) lets make our first heatmap"
   ]
  },
  {
   "cell_type": "code",
   "execution_count": 4,
   "id": "9e81d797-0b37-4992-aa63-2a03bd37223c",
   "metadata": {},
   "outputs": [
    {
     "data": {
      "image/png": "[encoded data removed]",
      "text/plain": [
       "plot without title"
      ]
     },
     "metadata": {
      "image/png": {
       "height": 420,
       "width": 420
      }
     },
     "output_type": "display_data"
    }
   ],
   "source": [
    "#We delete the first column because we cant use both characters & numbs in the same matrix\n",
    "#We convert the variable into a matrix because our function can only accept the matrix as input\n",
    "heatmap(as.matrix(x[,-1]))"
   ]
  },
  {
   "cell_type": "markdown",
   "id": "53070d67-ac8c-4cb1-98e6-5ef735b13821",
   "metadata": {},
   "source": [
    "5) Basic familiarity with matrix and dataframe and its construction"
   ]
  },
  {
   "cell_type": "code",
   "execution_count": 5,
   "id": "9cf827c3-320d-46a7-b61e-124a728434dd",
   "metadata": {},
   "outputs": [
    {
     "data": {
      "text/html": [
       "<style>\n",
       ".list-inline {list-style: none; margin:0; padding: 0}\n",
       ".list-inline>li {display: inline-block}\n",
       ".list-inline>li:not(:last-child)::after {content: \"\\00b7\"; padding: 0 .5ex}\n",
       "</style>\n",
       "<ol class=list-inline><li>'matrix'</li><li>'array'</li></ol>\n"
      ],
      "text/latex": [
       "\\begin{enumerate*}\n",
       "\\item 'matrix'\n",
       "\\item 'array'\n",
       "\\end{enumerate*}\n"
      ],
      "text/markdown": [
       "1. 'matrix'\n",
       "2. 'array'\n",
       "\n",
       "\n"
      ],
      "text/plain": [
       "[1] \"matrix\" \"array\" "
      ]
     },
     "metadata": {},
     "output_type": "display_data"
    },
    {
     "name": "stdout",
     "output_type": "stream",
     "text": [
      "[1] \"-----------------------------------------------------------------------------------------------------------------------------\"\n"
     ]
    },
    {
     "data": {
      "text/html": [
       "<table class=\"dataframe\">\n",
       "<caption>A matrix: 5 × 5 of type dbl</caption>\n",
       "<tbody>\n",
       "\t<tr><td>0</td><td>0</td><td>0</td><td>0</td><td>0</td></tr>\n",
       "\t<tr><td>0</td><td>0</td><td>0</td><td>0</td><td>0</td></tr>\n",
       "\t<tr><td>0</td><td>0</td><td>0</td><td>0</td><td>0</td></tr>\n",
       "\t<tr><td>0</td><td>0</td><td>0</td><td>0</td><td>0</td></tr>\n",
       "\t<tr><td>0</td><td>0</td><td>0</td><td>0</td><td>0</td></tr>\n",
       "</tbody>\n",
       "</table>\n"
      ],
      "text/latex": [
       "A matrix: 5 × 5 of type dbl\n",
       "\\begin{tabular}{lllll}\n",
       "\t 0 & 0 & 0 & 0 & 0\\\\\n",
       "\t 0 & 0 & 0 & 0 & 0\\\\\n",
       "\t 0 & 0 & 0 & 0 & 0\\\\\n",
       "\t 0 & 0 & 0 & 0 & 0\\\\\n",
       "\t 0 & 0 & 0 & 0 & 0\\\\\n",
       "\\end{tabular}\n"
      ],
      "text/markdown": [
       "\n",
       "A matrix: 5 × 5 of type dbl\n",
       "\n",
       "| 0 | 0 | 0 | 0 | 0 |\n",
       "| 0 | 0 | 0 | 0 | 0 |\n",
       "| 0 | 0 | 0 | 0 | 0 |\n",
       "| 0 | 0 | 0 | 0 | 0 |\n",
       "| 0 | 0 | 0 | 0 | 0 |\n",
       "\n"
      ],
      "text/plain": [
       "     [,1] [,2] [,3] [,4] [,5]\n",
       "[1,] 0    0    0    0    0   \n",
       "[2,] 0    0    0    0    0   \n",
       "[3,] 0    0    0    0    0   \n",
       "[4,] 0    0    0    0    0   \n",
       "[5,] 0    0    0    0    0   "
      ]
     },
     "metadata": {},
     "output_type": "display_data"
    },
    {
     "name": "stdout",
     "output_type": "stream",
     "text": [
      "[1] \"-----------------------------------------------------------------------------------------------------------------------------\"\n"
     ]
    },
    {
     "data": {
      "text/html": [
       "<style>\n",
       ".list-inline {list-style: none; margin:0; padding: 0}\n",
       ".list-inline>li {display: inline-block}\n",
       ".list-inline>li:not(:last-child)::after {content: \"\\00b7\"; padding: 0 .5ex}\n",
       "</style>\n",
       "<ol class=list-inline><li>'matrix'</li><li>'array'</li></ol>\n"
      ],
      "text/latex": [
       "\\begin{enumerate*}\n",
       "\\item 'matrix'\n",
       "\\item 'array'\n",
       "\\end{enumerate*}\n"
      ],
      "text/markdown": [
       "1. 'matrix'\n",
       "2. 'array'\n",
       "\n",
       "\n"
      ],
      "text/plain": [
       "[1] \"matrix\" \"array\" "
      ]
     },
     "metadata": {},
     "output_type": "display_data"
    },
    {
     "name": "stdout",
     "output_type": "stream",
     "text": [
      "[1] \"-----------------------------------------------------------------------------------------------------------------------------\"\n"
     ]
    },
    {
     "data": {
      "text/html": [
       "<table class=\"dataframe\">\n",
       "<caption>A data.frame: 5 × 5</caption>\n",
       "<thead>\n",
       "\t<tr><th scope=col>X1</th><th scope=col>X2</th><th scope=col>X3</th><th scope=col>X4</th><th scope=col>X5</th></tr>\n",
       "\t<tr><th scope=col>&lt;dbl&gt;</th><th scope=col>&lt;dbl&gt;</th><th scope=col>&lt;dbl&gt;</th><th scope=col>&lt;dbl&gt;</th><th scope=col>&lt;dbl&gt;</th></tr>\n",
       "</thead>\n",
       "<tbody>\n",
       "\t<tr><td>0</td><td>0</td><td>0</td><td>0</td><td>0</td></tr>\n",
       "\t<tr><td>0</td><td>0</td><td>0</td><td>0</td><td>0</td></tr>\n",
       "\t<tr><td>0</td><td>0</td><td>0</td><td>0</td><td>0</td></tr>\n",
       "\t<tr><td>0</td><td>0</td><td>0</td><td>0</td><td>0</td></tr>\n",
       "\t<tr><td>0</td><td>0</td><td>0</td><td>0</td><td>0</td></tr>\n",
       "</tbody>\n",
       "</table>\n"
      ],
      "text/latex": [
       "A data.frame: 5 × 5\n",
       "\\begin{tabular}{lllll}\n",
       " X1 & X2 & X3 & X4 & X5\\\\\n",
       " <dbl> & <dbl> & <dbl> & <dbl> & <dbl>\\\\\n",
       "\\hline\n",
       "\t 0 & 0 & 0 & 0 & 0\\\\\n",
       "\t 0 & 0 & 0 & 0 & 0\\\\\n",
       "\t 0 & 0 & 0 & 0 & 0\\\\\n",
       "\t 0 & 0 & 0 & 0 & 0\\\\\n",
       "\t 0 & 0 & 0 & 0 & 0\\\\\n",
       "\\end{tabular}\n"
      ],
      "text/markdown": [
       "\n",
       "A data.frame: 5 × 5\n",
       "\n",
       "| X1 &lt;dbl&gt; | X2 &lt;dbl&gt; | X3 &lt;dbl&gt; | X4 &lt;dbl&gt; | X5 &lt;dbl&gt; |\n",
       "|---|---|---|---|---|\n",
       "| 0 | 0 | 0 | 0 | 0 |\n",
       "| 0 | 0 | 0 | 0 | 0 |\n",
       "| 0 | 0 | 0 | 0 | 0 |\n",
       "| 0 | 0 | 0 | 0 | 0 |\n",
       "| 0 | 0 | 0 | 0 | 0 |\n",
       "\n"
      ],
      "text/plain": [
       "  X1 X2 X3 X4 X5\n",
       "1 0  0  0  0  0 \n",
       "2 0  0  0  0  0 \n",
       "3 0  0  0  0  0 \n",
       "4 0  0  0  0  0 \n",
       "5 0  0  0  0  0 "
      ]
     },
     "metadata": {},
     "output_type": "display_data"
    },
    {
     "name": "stdout",
     "output_type": "stream",
     "text": [
      "[1] \"-----------------------------------------------------------------------------------------------------------------------------\"\n"
     ]
    },
    {
     "data": {
      "text/html": [
       "'data.frame'"
      ],
      "text/latex": [
       "'data.frame'"
      ],
      "text/markdown": [
       "'data.frame'"
      ],
      "text/plain": [
       "[1] \"data.frame\""
      ]
     },
     "metadata": {},
     "output_type": "display_data"
    }
   ],
   "source": [
    "class(as.matrix(x[,-1]))\n",
    "print(\"-----------------------------------------------------------------------------------------------------------------------------\")\n",
    "y <- matrix(0, nrow =5, ncol=5) \n",
    "y\n",
    "print(\"-----------------------------------------------------------------------------------------------------------------------------\")\n",
    "class(y)\n",
    "print(\"-----------------------------------------------------------------------------------------------------------------------------\")\n",
    "z = data.frame(y)\n",
    "z\n",
    "print(\"-----------------------------------------------------------------------------------------------------------------------------\")\n",
    "class(z)"
   ]
  },
  {
   "cell_type": "markdown",
   "id": "0188b42b-a5b6-45fa-963d-fc9f8ee85f9e",
   "metadata": {},
   "source": [
    "6) Using another function that is a little prettier (pretty heatmap)(pheatmap)"
   ]
  },
  {
   "cell_type": "code",
   "execution_count": 6,
   "id": "26e57cd5-744e-4392-ba44-822baa109f09",
   "metadata": {},
   "outputs": [
    {
     "name": "stderr",
     "output_type": "stream",
     "text": [
      "Warning message:\n",
      "\"package 'pheatmap' was built under R version 4.3.3\"\n"
     ]
    },
    {
     "data": {
      "image/png": "[encoded data removed]",
      "text/plain": [
       "plot without title"
      ]
     },
     "metadata": {
      "image/png": {
       "height": 420,
       "width": 420
      }
     },
     "output_type": "display_data"
    }
   ],
   "source": [
    "library(\"pheatmap\")\n",
    "pheatmap(x[,-1])"
   ]
  },
  {
   "cell_type": "markdown",
   "id": "c1932d9e-4b2b-4d92-833f-fd5c8c9d7d81",
   "metadata": {},
   "source": [
    "7) Converting the first column as row names and removing it from the columns section"
   ]
  },
  {
   "cell_type": "code",
   "execution_count": 7,
   "id": "0ecfbbc5-7025-4d61-a8b8-142c28b6dda6",
   "metadata": {},
   "outputs": [
    {
     "data": {
      "text/html": [
       "<table class=\"dataframe\">\n",
       "<caption>A data.frame: 6 × 10</caption>\n",
       "<thead>\n",
       "\t<tr><th></th><th scope=col>Type</th><th scope=col>HLXb9</th><th scope=col>HHEX</th><th scope=col>HNF4a</th><th scope=col>ISL1</th><th scope=col>NEUROD1</th><th scope=col>NKX6.1</th><th scope=col>PAX4</th><th scope=col>PTF1a</th><th scope=col>PDX1</th></tr>\n",
       "\t<tr><th></th><th scope=col>&lt;chr&gt;</th><th scope=col>&lt;dbl&gt;</th><th scope=col>&lt;dbl&gt;</th><th scope=col>&lt;dbl&gt;</th><th scope=col>&lt;dbl&gt;</th><th scope=col>&lt;dbl&gt;</th><th scope=col>&lt;dbl&gt;</th><th scope=col>&lt;dbl&gt;</th><th scope=col>&lt;dbl&gt;</th><th scope=col>&lt;dbl&gt;</th></tr>\n",
       "</thead>\n",
       "<tbody>\n",
       "\t<tr><th scope=row>SC.1</th><td>SC.1</td><td>  2.27</td><td> 1.87</td><td> 2.880</td><td> 1.69</td><td> 3.60</td><td>1.09</td><td>1.29</td><td>1.40</td><td> 1.00</td></tr>\n",
       "\t<tr><th scope=row>SC.2</th><td>SC.2</td><td>  1.00</td><td> 1.00</td><td> 1.000</td><td> 1.00</td><td> 1.00</td><td>1.00</td><td>1.00</td><td>1.00</td><td> 1.00</td></tr>\n",
       "\t<tr><th scope=row>SC.3</th><td>SC.3</td><td>  1.00</td><td> 1.00</td><td> 1.000</td><td> 1.00</td><td> 1.00</td><td>1.00</td><td>1.00</td><td>1.00</td><td> 1.00</td></tr>\n",
       "\t<tr><th scope=row>DE-1</th><td>DE-1</td><td>133.70</td><td>10.93</td><td>82.380</td><td>26.94</td><td> 4.88</td><td>3.46</td><td>2.18</td><td>3.24</td><td>21.48</td></tr>\n",
       "\t<tr><th scope=row>DE-2</th><td>DE-2</td><td> 46.17</td><td>36.82</td><td>34.466</td><td>10.92</td><td> 6.13</td><td>4.42</td><td>3.44</td><td>3.70</td><td>11.62</td></tr>\n",
       "\t<tr><th scope=row>DE-3</th><td>DE-3</td><td> 51.91</td><td>10.93</td><td>29.530</td><td>26.94</td><td>15.85</td><td>3.46</td><td>2.18</td><td>3.17</td><td>25.70</td></tr>\n",
       "</tbody>\n",
       "</table>\n"
      ],
      "text/latex": [
       "A data.frame: 6 × 10\n",
       "\\begin{tabular}{r|llllllllll}\n",
       "  & Type & HLXb9 & HHEX & HNF4a & ISL1 & NEUROD1 & NKX6.1 & PAX4 & PTF1a & PDX1\\\\\n",
       "  & <chr> & <dbl> & <dbl> & <dbl> & <dbl> & <dbl> & <dbl> & <dbl> & <dbl> & <dbl>\\\\\n",
       "\\hline\n",
       "\tSC.1 & SC.1 &   2.27 &  1.87 &  2.880 &  1.69 &  3.60 & 1.09 & 1.29 & 1.40 &  1.00\\\\\n",
       "\tSC.2 & SC.2 &   1.00 &  1.00 &  1.000 &  1.00 &  1.00 & 1.00 & 1.00 & 1.00 &  1.00\\\\\n",
       "\tSC.3 & SC.3 &   1.00 &  1.00 &  1.000 &  1.00 &  1.00 & 1.00 & 1.00 & 1.00 &  1.00\\\\\n",
       "\tDE-1 & DE-1 & 133.70 & 10.93 & 82.380 & 26.94 &  4.88 & 3.46 & 2.18 & 3.24 & 21.48\\\\\n",
       "\tDE-2 & DE-2 &  46.17 & 36.82 & 34.466 & 10.92 &  6.13 & 4.42 & 3.44 & 3.70 & 11.62\\\\\n",
       "\tDE-3 & DE-3 &  51.91 & 10.93 & 29.530 & 26.94 & 15.85 & 3.46 & 2.18 & 3.17 & 25.70\\\\\n",
       "\\end{tabular}\n"
      ],
      "text/markdown": [
       "\n",
       "A data.frame: 6 × 10\n",
       "\n",
       "| <!--/--> | Type &lt;chr&gt; | HLXb9 &lt;dbl&gt; | HHEX &lt;dbl&gt; | HNF4a &lt;dbl&gt; | ISL1 &lt;dbl&gt; | NEUROD1 &lt;dbl&gt; | NKX6.1 &lt;dbl&gt; | PAX4 &lt;dbl&gt; | PTF1a &lt;dbl&gt; | PDX1 &lt;dbl&gt; |\n",
       "|---|---|---|---|---|---|---|---|---|---|---|\n",
       "| SC.1 | SC.1 |   2.27 |  1.87 |  2.880 |  1.69 |  3.60 | 1.09 | 1.29 | 1.40 |  1.00 |\n",
       "| SC.2 | SC.2 |   1.00 |  1.00 |  1.000 |  1.00 |  1.00 | 1.00 | 1.00 | 1.00 |  1.00 |\n",
       "| SC.3 | SC.3 |   1.00 |  1.00 |  1.000 |  1.00 |  1.00 | 1.00 | 1.00 | 1.00 |  1.00 |\n",
       "| DE-1 | DE-1 | 133.70 | 10.93 | 82.380 | 26.94 |  4.88 | 3.46 | 2.18 | 3.24 | 21.48 |\n",
       "| DE-2 | DE-2 |  46.17 | 36.82 | 34.466 | 10.92 |  6.13 | 4.42 | 3.44 | 3.70 | 11.62 |\n",
       "| DE-3 | DE-3 |  51.91 | 10.93 | 29.530 | 26.94 | 15.85 | 3.46 | 2.18 | 3.17 | 25.70 |\n",
       "\n"
      ],
      "text/plain": [
       "     Type HLXb9  HHEX  HNF4a  ISL1  NEUROD1 NKX6.1 PAX4 PTF1a PDX1 \n",
       "SC.1 SC.1   2.27  1.87  2.880  1.69  3.60   1.09   1.29 1.40   1.00\n",
       "SC.2 SC.2   1.00  1.00  1.000  1.00  1.00   1.00   1.00 1.00   1.00\n",
       "SC.3 SC.3   1.00  1.00  1.000  1.00  1.00   1.00   1.00 1.00   1.00\n",
       "DE-1 DE-1 133.70 10.93 82.380 26.94  4.88   3.46   2.18 3.24  21.48\n",
       "DE-2 DE-2  46.17 36.82 34.466 10.92  6.13   4.42   3.44 3.70  11.62\n",
       "DE-3 DE-3  51.91 10.93 29.530 26.94 15.85   3.46   2.18 3.17  25.70"
      ]
     },
     "metadata": {},
     "output_type": "display_data"
    },
    {
     "name": "stdout",
     "output_type": "stream",
     "text": [
      "[1] \"-----------------------------------------------------------------------------------------------------------------------------\"\n"
     ]
    },
    {
     "data": {
      "text/html": [
       "<table class=\"dataframe\">\n",
       "<caption>A data.frame: 6 × 9</caption>\n",
       "<thead>\n",
       "\t<tr><th></th><th scope=col>HLXb9</th><th scope=col>HHEX</th><th scope=col>HNF4a</th><th scope=col>ISL1</th><th scope=col>NEUROD1</th><th scope=col>NKX6.1</th><th scope=col>PAX4</th><th scope=col>PTF1a</th><th scope=col>PDX1</th></tr>\n",
       "\t<tr><th></th><th scope=col>&lt;dbl&gt;</th><th scope=col>&lt;dbl&gt;</th><th scope=col>&lt;dbl&gt;</th><th scope=col>&lt;dbl&gt;</th><th scope=col>&lt;dbl&gt;</th><th scope=col>&lt;dbl&gt;</th><th scope=col>&lt;dbl&gt;</th><th scope=col>&lt;dbl&gt;</th><th scope=col>&lt;dbl&gt;</th></tr>\n",
       "</thead>\n",
       "<tbody>\n",
       "\t<tr><th scope=row>SC.1</th><td>  2.27</td><td> 1.87</td><td> 2.880</td><td> 1.69</td><td> 3.60</td><td>1.09</td><td>1.29</td><td>1.40</td><td> 1.00</td></tr>\n",
       "\t<tr><th scope=row>SC.2</th><td>  1.00</td><td> 1.00</td><td> 1.000</td><td> 1.00</td><td> 1.00</td><td>1.00</td><td>1.00</td><td>1.00</td><td> 1.00</td></tr>\n",
       "\t<tr><th scope=row>SC.3</th><td>  1.00</td><td> 1.00</td><td> 1.000</td><td> 1.00</td><td> 1.00</td><td>1.00</td><td>1.00</td><td>1.00</td><td> 1.00</td></tr>\n",
       "\t<tr><th scope=row>DE-1</th><td>133.70</td><td>10.93</td><td>82.380</td><td>26.94</td><td> 4.88</td><td>3.46</td><td>2.18</td><td>3.24</td><td>21.48</td></tr>\n",
       "\t<tr><th scope=row>DE-2</th><td> 46.17</td><td>36.82</td><td>34.466</td><td>10.92</td><td> 6.13</td><td>4.42</td><td>3.44</td><td>3.70</td><td>11.62</td></tr>\n",
       "\t<tr><th scope=row>DE-3</th><td> 51.91</td><td>10.93</td><td>29.530</td><td>26.94</td><td>15.85</td><td>3.46</td><td>2.18</td><td>3.17</td><td>25.70</td></tr>\n",
       "</tbody>\n",
       "</table>\n"
      ],
      "text/latex": [
       "A data.frame: 6 × 9\n",
       "\\begin{tabular}{r|lllllllll}\n",
       "  & HLXb9 & HHEX & HNF4a & ISL1 & NEUROD1 & NKX6.1 & PAX4 & PTF1a & PDX1\\\\\n",
       "  & <dbl> & <dbl> & <dbl> & <dbl> & <dbl> & <dbl> & <dbl> & <dbl> & <dbl>\\\\\n",
       "\\hline\n",
       "\tSC.1 &   2.27 &  1.87 &  2.880 &  1.69 &  3.60 & 1.09 & 1.29 & 1.40 &  1.00\\\\\n",
       "\tSC.2 &   1.00 &  1.00 &  1.000 &  1.00 &  1.00 & 1.00 & 1.00 & 1.00 &  1.00\\\\\n",
       "\tSC.3 &   1.00 &  1.00 &  1.000 &  1.00 &  1.00 & 1.00 & 1.00 & 1.00 &  1.00\\\\\n",
       "\tDE-1 & 133.70 & 10.93 & 82.380 & 26.94 &  4.88 & 3.46 & 2.18 & 3.24 & 21.48\\\\\n",
       "\tDE-2 &  46.17 & 36.82 & 34.466 & 10.92 &  6.13 & 4.42 & 3.44 & 3.70 & 11.62\\\\\n",
       "\tDE-3 &  51.91 & 10.93 & 29.530 & 26.94 & 15.85 & 3.46 & 2.18 & 3.17 & 25.70\\\\\n",
       "\\end{tabular}\n"
      ],
      "text/markdown": [
       "\n",
       "A data.frame: 6 × 9\n",
       "\n",
       "| <!--/--> | HLXb9 &lt;dbl&gt; | HHEX &lt;dbl&gt; | HNF4a &lt;dbl&gt; | ISL1 &lt;dbl&gt; | NEUROD1 &lt;dbl&gt; | NKX6.1 &lt;dbl&gt; | PAX4 &lt;dbl&gt; | PTF1a &lt;dbl&gt; | PDX1 &lt;dbl&gt; |\n",
       "|---|---|---|---|---|---|---|---|---|---|\n",
       "| SC.1 |   2.27 |  1.87 |  2.880 |  1.69 |  3.60 | 1.09 | 1.29 | 1.40 |  1.00 |\n",
       "| SC.2 |   1.00 |  1.00 |  1.000 |  1.00 |  1.00 | 1.00 | 1.00 | 1.00 |  1.00 |\n",
       "| SC.3 |   1.00 |  1.00 |  1.000 |  1.00 |  1.00 | 1.00 | 1.00 | 1.00 |  1.00 |\n",
       "| DE-1 | 133.70 | 10.93 | 82.380 | 26.94 |  4.88 | 3.46 | 2.18 | 3.24 | 21.48 |\n",
       "| DE-2 |  46.17 | 36.82 | 34.466 | 10.92 |  6.13 | 4.42 | 3.44 | 3.70 | 11.62 |\n",
       "| DE-3 |  51.91 | 10.93 | 29.530 | 26.94 | 15.85 | 3.46 | 2.18 | 3.17 | 25.70 |\n",
       "\n"
      ],
      "text/plain": [
       "     HLXb9  HHEX  HNF4a  ISL1  NEUROD1 NKX6.1 PAX4 PTF1a PDX1 \n",
       "SC.1   2.27  1.87  2.880  1.69  3.60   1.09   1.29 1.40   1.00\n",
       "SC.2   1.00  1.00  1.000  1.00  1.00   1.00   1.00 1.00   1.00\n",
       "SC.3   1.00  1.00  1.000  1.00  1.00   1.00   1.00 1.00   1.00\n",
       "DE-1 133.70 10.93 82.380 26.94  4.88   3.46   2.18 3.24  21.48\n",
       "DE-2  46.17 36.82 34.466 10.92  6.13   4.42   3.44 3.70  11.62\n",
       "DE-3  51.91 10.93 29.530 26.94 15.85   3.46   2.18 3.17  25.70"
      ]
     },
     "metadata": {},
     "output_type": "display_data"
    },
    {
     "name": "stdout",
     "output_type": "stream",
     "text": [
      "[1] \"-----------------------------------------------------------------------------------------------------------------------------\"\n"
     ]
    },
    {
     "data": {
      "image/png": "[encoded data removed]",
      "text/plain": [
       "plot without title"
      ]
     },
     "metadata": {
      "image/png": {
       "height": 420,
       "width": 420
      }
     },
     "output_type": "display_data"
    }
   ],
   "source": [
    "rownames(x) = x[,1]\n",
    "head(x)\n",
    "print(\"-----------------------------------------------------------------------------------------------------------------------------\")\n",
    "x = x[,-1]\n",
    "head(x)\n",
    "print(\"-----------------------------------------------------------------------------------------------------------------------------\")\n",
    "pheatmap(x)"
   ]
  },
  {
   "cell_type": "markdown",
   "id": "ef3daf43-8bb2-4ab5-ae94-a39653c81d52",
   "metadata": {},
   "source": [
    "8) saving our heatmap in a pdf"
   ]
  },
  {
   "cell_type": "code",
   "execution_count": 8,
   "id": "04b7e3cb-695e-434f-bbba-249177fffb75",
   "metadata": {},
   "outputs": [
    {
     "data": {
      "text/html": [
       "<strong>pdf:</strong> 3"
      ],
      "text/latex": [
       "\\textbf{pdf:} 3"
      ],
      "text/markdown": [
       "**pdf:** 3"
      ],
      "text/plain": [
       "pdf \n",
       "  3 "
      ]
     },
     "metadata": {},
     "output_type": "display_data"
    }
   ],
   "source": [
    "#we also change font size of the rows and deleting the border colors\n",
    "pdf(\"C:/users/abolf/Desktop/jupyter train/intro bioinf sharifi practical/jupyter Heatmap 1.pdf\")\n",
    "pheatmap(x, fontsize_row = 5, border_color = NA)\n",
    "dev.off()"
   ]
  },
  {
   "cell_type": "markdown",
   "id": "9f5dc674-28bb-492f-af1a-2d96f9d36186",
   "metadata": {},
   "source": [
    "9) Checking the amount of data changes in a column"
   ]
  },
  {
   "cell_type": "code",
   "execution_count": 9,
   "id": "d9cc1c8e-e557-4b6a-a583-7662dad6e7ce",
   "metadata": {},
   "outputs": [
    {
     "data": {
      "text/html": [
       "<style>\n",
       ".list-inline {list-style: none; margin:0; padding: 0}\n",
       ".list-inline>li {display: inline-block}\n",
       ".list-inline>li:not(:last-child)::after {content: \"\\00b7\"; padding: 0 .5ex}\n",
       "</style>\n",
       "<ol class=list-inline><li>'HLXb9'</li><li>'HHEX'</li><li>'HNF4a'</li><li>'ISL1'</li><li>'NEUROD1'</li><li>'NKX6.1'</li><li>'PAX4'</li><li>'PTF1a'</li><li>'PDX1'</li></ol>\n"
      ],
      "text/latex": [
       "\\begin{enumerate*}\n",
       "\\item 'HLXb9'\n",
       "\\item 'HHEX'\n",
       "\\item 'HNF4a'\n",
       "\\item 'ISL1'\n",
       "\\item 'NEUROD1'\n",
       "\\item 'NKX6.1'\n",
       "\\item 'PAX4'\n",
       "\\item 'PTF1a'\n",
       "\\item 'PDX1'\n",
       "\\end{enumerate*}\n"
      ],
      "text/markdown": [
       "1. 'HLXb9'\n",
       "2. 'HHEX'\n",
       "3. 'HNF4a'\n",
       "4. 'ISL1'\n",
       "5. 'NEUROD1'\n",
       "6. 'NKX6.1'\n",
       "7. 'PAX4'\n",
       "8. 'PTF1a'\n",
       "9. 'PDX1'\n",
       "\n",
       "\n"
      ],
      "text/plain": [
       "[1] \"HLXb9\"   \"HHEX\"    \"HNF4a\"   \"ISL1\"    \"NEUROD1\" \"NKX6.1\"  \"PAX4\"   \n",
       "[8] \"PTF1a\"   \"PDX1\"   "
      ]
     },
     "metadata": {},
     "output_type": "display_data"
    },
    {
     "name": "stdout",
     "output_type": "stream",
     "text": [
      "[1] \"-----------------------------------------------------------------------------------------------------------------------------\"\n"
     ]
    },
    {
     "data": {
      "text/html": [
       "<style>\n",
       ".list-inline {list-style: none; margin:0; padding: 0}\n",
       ".list-inline>li {display: inline-block}\n",
       ".list-inline>li:not(:last-child)::after {content: \"\\00b7\"; padding: 0 .5ex}\n",
       "</style>\n",
       "<ol class=list-inline><li>1.29</li><li>1</li><li>1</li><li>2.18</li><li>3.44</li><li>2.18</li><li>3.44</li><li>2.69</li><li>3.25</li><li>3.75</li><li>0.92</li><li>1.3</li><li>0.22</li><li>0.94</li><li>1.02</li><li>1.42</li><li>4.04</li><li>1.57</li><li>0.61</li><li>0.46</li><li>1.57</li><li>0.84</li><li>0.52</li><li>0.45</li><li>0.39</li><li>0.3</li><li>0.7</li><li>0.46</li><li>0.87</li><li>0.83</li><li>0.55</li><li>0.76</li><li>0.56</li><li>0.3</li><li>1.2</li><li>0.98</li><li>0.3</li><li>0.35</li><li>1.02</li><li>0.57</li><li>6.97</li><li>6.18</li><li>5.52</li><li>9.97</li><li>0.6</li><li>3.93</li><li>1.83</li><li>2.5</li><li>0.44</li><li>0.51</li><li>1.08</li><li>1.04</li></ol>\n"
      ],
      "text/latex": [
       "\\begin{enumerate*}\n",
       "\\item 1.29\n",
       "\\item 1\n",
       "\\item 1\n",
       "\\item 2.18\n",
       "\\item 3.44\n",
       "\\item 2.18\n",
       "\\item 3.44\n",
       "\\item 2.69\n",
       "\\item 3.25\n",
       "\\item 3.75\n",
       "\\item 0.92\n",
       "\\item 1.3\n",
       "\\item 0.22\n",
       "\\item 0.94\n",
       "\\item 1.02\n",
       "\\item 1.42\n",
       "\\item 4.04\n",
       "\\item 1.57\n",
       "\\item 0.61\n",
       "\\item 0.46\n",
       "\\item 1.57\n",
       "\\item 0.84\n",
       "\\item 0.52\n",
       "\\item 0.45\n",
       "\\item 0.39\n",
       "\\item 0.3\n",
       "\\item 0.7\n",
       "\\item 0.46\n",
       "\\item 0.87\n",
       "\\item 0.83\n",
       "\\item 0.55\n",
       "\\item 0.76\n",
       "\\item 0.56\n",
       "\\item 0.3\n",
       "\\item 1.2\n",
       "\\item 0.98\n",
       "\\item 0.3\n",
       "\\item 0.35\n",
       "\\item 1.02\n",
       "\\item 0.57\n",
       "\\item 6.97\n",
       "\\item 6.18\n",
       "\\item 5.52\n",
       "\\item 9.97\n",
       "\\item 0.6\n",
       "\\item 3.93\n",
       "\\item 1.83\n",
       "\\item 2.5\n",
       "\\item 0.44\n",
       "\\item 0.51\n",
       "\\item 1.08\n",
       "\\item 1.04\n",
       "\\end{enumerate*}\n"
      ],
      "text/markdown": [
       "1. 1.29\n",
       "2. 1\n",
       "3. 1\n",
       "4. 2.18\n",
       "5. 3.44\n",
       "6. 2.18\n",
       "7. 3.44\n",
       "8. 2.69\n",
       "9. 3.25\n",
       "10. 3.75\n",
       "11. 0.92\n",
       "12. 1.3\n",
       "13. 0.22\n",
       "14. 0.94\n",
       "15. 1.02\n",
       "16. 1.42\n",
       "17. 4.04\n",
       "18. 1.57\n",
       "19. 0.61\n",
       "20. 0.46\n",
       "21. 1.57\n",
       "22. 0.84\n",
       "23. 0.52\n",
       "24. 0.45\n",
       "25. 0.39\n",
       "26. 0.3\n",
       "27. 0.7\n",
       "28. 0.46\n",
       "29. 0.87\n",
       "30. 0.83\n",
       "31. 0.55\n",
       "32. 0.76\n",
       "33. 0.56\n",
       "34. 0.3\n",
       "35. 1.2\n",
       "36. 0.98\n",
       "37. 0.3\n",
       "38. 0.35\n",
       "39. 1.02\n",
       "40. 0.57\n",
       "41. 6.97\n",
       "42. 6.18\n",
       "43. 5.52\n",
       "44. 9.97\n",
       "45. 0.6\n",
       "46. 3.93\n",
       "47. 1.83\n",
       "48. 2.5\n",
       "49. 0.44\n",
       "50. 0.51\n",
       "51. 1.08\n",
       "52. 1.04\n",
       "\n",
       "\n"
      ],
      "text/plain": [
       " [1] 1.29 1.00 1.00 2.18 3.44 2.18 3.44 2.69 3.25 3.75 0.92 1.30 0.22 0.94 1.02\n",
       "[16] 1.42 4.04 1.57 0.61 0.46 1.57 0.84 0.52 0.45 0.39 0.30 0.70 0.46 0.87 0.83\n",
       "[31] 0.55 0.76 0.56 0.30 1.20 0.98 0.30 0.35 1.02 0.57 6.97 6.18 5.52 9.97 0.60\n",
       "[46] 3.93 1.83 2.50 0.44 0.51 1.08 1.04"
      ]
     },
     "metadata": {},
     "output_type": "display_data"
    },
    {
     "name": "stdout",
     "output_type": "stream",
     "text": [
      "[1] \"-----------------------------------------------------------------------------------------------------------------------------\"\n"
     ]
    },
    {
     "data": {
      "image/png": "[encoded data removed]",
      "text/plain": [
       "plot without title"
      ]
     },
     "metadata": {
      "image/png": {
       "height": 420,
       "width": 420
      }
     },
     "output_type": "display_data"
    }
   ],
   "source": [
    "colnames(x)\n",
    "print(\"-----------------------------------------------------------------------------------------------------------------------------\")\n",
    "x[,\"PAX4\"]\n",
    "print(\"-----------------------------------------------------------------------------------------------------------------------------\")\n",
    "barplot(x[,\"PAX4\"])"
   ]
  },
  {
   "cell_type": "markdown",
   "id": "58fa54f7-6e2e-4b50-aaca-907087c9a52f",
   "metadata": {},
   "source": [
    "10) Use the logarithm function to show the ratio of data changes instead of the data size and see its effect"
   ]
  },
  {
   "cell_type": "code",
   "execution_count": 10,
   "id": "4320d463-62f1-44e9-bca4-b6fb1f647f1d",
   "metadata": {},
   "outputs": [
    {
     "data": {
      "text/html": [
       "&lt;NA&gt;"
      ],
      "text/latex": [
       "<NA>"
      ],
      "text/markdown": [
       "&lt;NA&gt;"
      ],
      "text/plain": [
       "[1] NA"
      ]
     },
     "metadata": {},
     "output_type": "display_data"
    },
    {
     "name": "stdout",
     "output_type": "stream",
     "text": [
      "[1] \"-----------------------------------------------------------------------------------------------------------------------------\"\n"
     ]
    },
    {
     "data": {
      "text/html": [
       "609.74"
      ],
      "text/latex": [
       "609.74"
      ],
      "text/markdown": [
       "609.74"
      ],
      "text/plain": [
       "[1] 609.74"
      ]
     },
     "metadata": {},
     "output_type": "display_data"
    },
    {
     "name": "stdout",
     "output_type": "stream",
     "text": [
      "[1] \"-----------------------------------------------------------------------------------------------------------------------------\"\n"
     ]
    },
    {
     "data": {
      "text/html": [
       "<table class=\"dataframe\">\n",
       "<caption>A data.frame: 6 × 9</caption>\n",
       "<thead>\n",
       "\t<tr><th></th><th scope=col>HLXb9</th><th scope=col>HHEX</th><th scope=col>HNF4a</th><th scope=col>ISL1</th><th scope=col>NEUROD1</th><th scope=col>NKX6.1</th><th scope=col>PAX4</th><th scope=col>PTF1a</th><th scope=col>PDX1</th></tr>\n",
       "\t<tr><th></th><th scope=col>&lt;dbl&gt;</th><th scope=col>&lt;dbl&gt;</th><th scope=col>&lt;dbl&gt;</th><th scope=col>&lt;dbl&gt;</th><th scope=col>&lt;dbl&gt;</th><th scope=col>&lt;dbl&gt;</th><th scope=col>&lt;dbl&gt;</th><th scope=col>&lt;dbl&gt;</th><th scope=col>&lt;dbl&gt;</th></tr>\n",
       "</thead>\n",
       "<tbody>\n",
       "\t<tr><th scope=row>SC.1</th><td>1.709291</td><td>1.521051</td><td>1.956057</td><td>1.427606</td><td>2.201634</td><td>1.063503</td><td>1.195348</td><td>1.263034</td><td>1.000000</td></tr>\n",
       "\t<tr><th scope=row>SC.2</th><td>1.000000</td><td>1.000000</td><td>1.000000</td><td>1.000000</td><td>1.000000</td><td>1.000000</td><td>1.000000</td><td>1.000000</td><td>1.000000</td></tr>\n",
       "\t<tr><th scope=row>SC.3</th><td>1.000000</td><td>1.000000</td><td>1.000000</td><td>1.000000</td><td>1.000000</td><td>1.000000</td><td>1.000000</td><td>1.000000</td><td>1.000000</td></tr>\n",
       "\t<tr><th scope=row>DE-1</th><td>7.073606</td><td>3.576522</td><td>6.381629</td><td>4.804260</td><td>2.555816</td><td>2.157044</td><td>1.669027</td><td>2.084064</td><td>4.490570</td></tr>\n",
       "\t<tr><th scope=row>DE-2</th><td>5.559798</td><td>5.241077</td><td>5.148365</td><td>3.575312</td><td>2.833902</td><td>2.438293</td><td>2.150560</td><td>2.232661</td><td>3.657640</td></tr>\n",
       "\t<tr><th scope=row>DE-3</th><td>5.725469</td><td>3.576522</td><td>4.932156</td><td>4.804260</td><td>4.074677</td><td>2.157044</td><td>1.669027</td><td>2.060047</td><td>4.738768</td></tr>\n",
       "</tbody>\n",
       "</table>\n"
      ],
      "text/latex": [
       "A data.frame: 6 × 9\n",
       "\\begin{tabular}{r|lllllllll}\n",
       "  & HLXb9 & HHEX & HNF4a & ISL1 & NEUROD1 & NKX6.1 & PAX4 & PTF1a & PDX1\\\\\n",
       "  & <dbl> & <dbl> & <dbl> & <dbl> & <dbl> & <dbl> & <dbl> & <dbl> & <dbl>\\\\\n",
       "\\hline\n",
       "\tSC.1 & 1.709291 & 1.521051 & 1.956057 & 1.427606 & 2.201634 & 1.063503 & 1.195348 & 1.263034 & 1.000000\\\\\n",
       "\tSC.2 & 1.000000 & 1.000000 & 1.000000 & 1.000000 & 1.000000 & 1.000000 & 1.000000 & 1.000000 & 1.000000\\\\\n",
       "\tSC.3 & 1.000000 & 1.000000 & 1.000000 & 1.000000 & 1.000000 & 1.000000 & 1.000000 & 1.000000 & 1.000000\\\\\n",
       "\tDE-1 & 7.073606 & 3.576522 & 6.381629 & 4.804260 & 2.555816 & 2.157044 & 1.669027 & 2.084064 & 4.490570\\\\\n",
       "\tDE-2 & 5.559798 & 5.241077 & 5.148365 & 3.575312 & 2.833902 & 2.438293 & 2.150560 & 2.232661 & 3.657640\\\\\n",
       "\tDE-3 & 5.725469 & 3.576522 & 4.932156 & 4.804260 & 4.074677 & 2.157044 & 1.669027 & 2.060047 & 4.738768\\\\\n",
       "\\end{tabular}\n"
      ],
      "text/markdown": [
       "\n",
       "A data.frame: 6 × 9\n",
       "\n",
       "| <!--/--> | HLXb9 &lt;dbl&gt; | HHEX &lt;dbl&gt; | HNF4a &lt;dbl&gt; | ISL1 &lt;dbl&gt; | NEUROD1 &lt;dbl&gt; | NKX6.1 &lt;dbl&gt; | PAX4 &lt;dbl&gt; | PTF1a &lt;dbl&gt; | PDX1 &lt;dbl&gt; |\n",
       "|---|---|---|---|---|---|---|---|---|---|\n",
       "| SC.1 | 1.709291 | 1.521051 | 1.956057 | 1.427606 | 2.201634 | 1.063503 | 1.195348 | 1.263034 | 1.000000 |\n",
       "| SC.2 | 1.000000 | 1.000000 | 1.000000 | 1.000000 | 1.000000 | 1.000000 | 1.000000 | 1.000000 | 1.000000 |\n",
       "| SC.3 | 1.000000 | 1.000000 | 1.000000 | 1.000000 | 1.000000 | 1.000000 | 1.000000 | 1.000000 | 1.000000 |\n",
       "| DE-1 | 7.073606 | 3.576522 | 6.381629 | 4.804260 | 2.555816 | 2.157044 | 1.669027 | 2.084064 | 4.490570 |\n",
       "| DE-2 | 5.559798 | 5.241077 | 5.148365 | 3.575312 | 2.833902 | 2.438293 | 2.150560 | 2.232661 | 3.657640 |\n",
       "| DE-3 | 5.725469 | 3.576522 | 4.932156 | 4.804260 | 4.074677 | 2.157044 | 1.669027 | 2.060047 | 4.738768 |\n",
       "\n"
      ],
      "text/plain": [
       "     HLXb9    HHEX     HNF4a    ISL1     NEUROD1  NKX6.1   PAX4     PTF1a   \n",
       "SC.1 1.709291 1.521051 1.956057 1.427606 2.201634 1.063503 1.195348 1.263034\n",
       "SC.2 1.000000 1.000000 1.000000 1.000000 1.000000 1.000000 1.000000 1.000000\n",
       "SC.3 1.000000 1.000000 1.000000 1.000000 1.000000 1.000000 1.000000 1.000000\n",
       "DE-1 7.073606 3.576522 6.381629 4.804260 2.555816 2.157044 1.669027 2.084064\n",
       "DE-2 5.559798 5.241077 5.148365 3.575312 2.833902 2.438293 2.150560 2.232661\n",
       "DE-3 5.725469 3.576522 4.932156 4.804260 4.074677 2.157044 1.669027 2.060047\n",
       "     PDX1    \n",
       "SC.1 1.000000\n",
       "SC.2 1.000000\n",
       "SC.3 1.000000\n",
       "DE-1 4.490570\n",
       "DE-2 3.657640\n",
       "DE-3 4.738768"
      ]
     },
     "metadata": {},
     "output_type": "display_data"
    },
    {
     "name": "stdout",
     "output_type": "stream",
     "text": [
      "[1] \"-----------------------------------------------------------------------------------------------------------------------------\"\n"
     ]
    },
    {
     "data": {
      "text/html": [
       "&lt;NA&gt;"
      ],
      "text/latex": [
       "<NA>"
      ],
      "text/markdown": [
       "&lt;NA&gt;"
      ],
      "text/plain": [
       "[1] NA"
      ]
     },
     "metadata": {},
     "output_type": "display_data"
    },
    {
     "name": "stdout",
     "output_type": "stream",
     "text": [
      "[1] \"-----------------------------------------------------------------------------------------------------------------------------\"\n"
     ]
    },
    {
     "data": {
      "text/html": [
       "9.25441452637856"
      ],
      "text/latex": [
       "9.25441452637856"
      ],
      "text/markdown": [
       "9.25441452637856"
      ],
      "text/plain": [
       "[1] 9.254415"
      ]
     },
     "metadata": {},
     "output_type": "display_data"
    },
    {
     "name": "stdout",
     "output_type": "stream",
     "text": [
      "[1] \"-----------------------------------------------------------------------------------------------------------------------------\"\n"
     ]
    },
    {
     "data": {
      "image/png": "[encoded data removed]",
      "text/plain": [
       "plot without title"
      ]
     },
     "metadata": {
      "image/png": {
       "height": 420,
       "width": 420
      }
     },
     "output_type": "display_data"
    }
   ],
   "source": [
    "max(x)\n",
    "print(\"-----------------------------------------------------------------------------------------------------------------------------\")\n",
    "max(x, na.rm = T )\n",
    "print(\"-----------------------------------------------------------------------------------------------------------------------------\")\n",
    "#In the logarithm, we add one to all the data because the logarithm of zero or smaller than one causes problems for us.\n",
    "x = log2(x+1)\n",
    "head(x)\n",
    "print(\"-----------------------------------------------------------------------------------------------------------------------------\")\n",
    "max(x)\n",
    "print(\"-----------------------------------------------------------------------------------------------------------------------------\")\n",
    "max(x, na.rm = T)\n",
    "print(\"-----------------------------------------------------------------------------------------------------------------------------\")\n",
    "pheatmap(x, fontsize_row = 5, border_color = NA)"
   ]
  },
  {
   "cell_type": "markdown",
   "id": "56c826b8-0612-4569-956b-871162a6f084",
   "metadata": {},
   "source": [
    "11) Saving the final version in PDF"
   ]
  },
  {
   "cell_type": "code",
   "execution_count": 11,
   "id": "5e21b348-979f-47fe-8389-85a03da5d8e1",
   "metadata": {},
   "outputs": [
    {
     "data": {
      "text/html": [
       "<strong>pdf:</strong> 3"
      ],
      "text/latex": [
       "\\textbf{pdf:} 3"
      ],
      "text/markdown": [
       "**pdf:** 3"
      ],
      "text/plain": [
       "pdf \n",
       "  3 "
      ]
     },
     "metadata": {},
     "output_type": "display_data"
    }
   ],
   "source": [
    "pdf(\"C:/users/abolf/Desktop/jupyter train/intro bioinf sharifi practical/jupyter Heatmap 2.pdf\")\n",
    "pheatmap(x, fontsize_row = 5, border_color = NA)\n",
    "dev.off()"
   ]
  },
  {
   "cell_type": "code",
   "execution_count": null,
   "id": "0f49cba7-c18d-4a0f-9122-53df3141a74c",
   "metadata": {},
   "outputs": [],
   "source": []
  }
 ],
 "metadata": {
  "kernelspec": {
   "display_name": "R",
   "language": "R",
   "name": "ir"
  },
  "language_info": {
   "codemirror_mode": "r",
   "file_extension": ".r",
   "mimetype": "text/x-r-source",
   "name": "R",
   "pygments_lexer": "r",
   "version": "4.3.1"
  }
 },
 "nbformat": 4,
 "nbformat_minor": 5
}
