{
 "cells": [
  {
   "cell_type": "markdown",
   "id": "9dc1b160-7a35-4669-8b2c-f86e802bdb3f",
   "metadata": {},
   "source": [
    "R Basics\n",
    "-\n",
    "Introductory Bioinformatics Sharifi Zarchi The practical sessions part 5\n",
    "-\n",
    "**pearson correlation coefficient**"
   ]
  },
  {
   "cell_type": "markdown",
   "id": "a0cd22a0-34b5-4f64-b5e6-95dca1816f5f",
   "metadata": {},
   "source": [
    "1. lets make a dataframe"
   ]
  },
  {
   "cell_type": "code",
   "execution_count": 1,
   "id": "d5051028-70ea-463f-8e19-60d21ff2c7bd",
   "metadata": {},
   "outputs": [
    {
     "data": {
      "text/html": [
       "<table class=\"dataframe\">\n",
       "<caption>A data.frame: 6 × 2</caption>\n",
       "<thead>\n",
       "\t<tr><th scope=col>pressure</th><th scope=col>weight</th></tr>\n",
       "\t<tr><th scope=col>&lt;dbl&gt;</th><th scope=col>&lt;dbl&gt;</th></tr>\n",
       "</thead>\n",
       "<tbody>\n",
       "\t<tr><td>11.2</td><td> 70</td></tr>\n",
       "\t<tr><td>11.5</td><td> 75</td></tr>\n",
       "\t<tr><td>11.0</td><td> 67</td></tr>\n",
       "\t<tr><td>11.1</td><td> 73</td></tr>\n",
       "\t<tr><td>13.0</td><td>100</td></tr>\n",
       "\t<tr><td>14.0</td><td>120</td></tr>\n",
       "</tbody>\n",
       "</table>\n"
      ],
      "text/latex": [
       "A data.frame: 6 × 2\n",
       "\\begin{tabular}{ll}\n",
       " pressure & weight\\\\\n",
       " <dbl> & <dbl>\\\\\n",
       "\\hline\n",
       "\t 11.2 &  70\\\\\n",
       "\t 11.5 &  75\\\\\n",
       "\t 11.0 &  67\\\\\n",
       "\t 11.1 &  73\\\\\n",
       "\t 13.0 & 100\\\\\n",
       "\t 14.0 & 120\\\\\n",
       "\\end{tabular}\n"
      ],
      "text/markdown": [
       "\n",
       "A data.frame: 6 × 2\n",
       "\n",
       "| pressure &lt;dbl&gt; | weight &lt;dbl&gt; |\n",
       "|---|---|\n",
       "| 11.2 |  70 |\n",
       "| 11.5 |  75 |\n",
       "| 11.0 |  67 |\n",
       "| 11.1 |  73 |\n",
       "| 13.0 | 100 |\n",
       "| 14.0 | 120 |\n",
       "\n"
      ],
      "text/plain": [
       "  pressure weight\n",
       "1 11.2      70   \n",
       "2 11.5      75   \n",
       "3 11.0      67   \n",
       "4 11.1      73   \n",
       "5 13.0     100   \n",
       "6 14.0     120   "
      ]
     },
     "metadata": {},
     "output_type": "display_data"
    },
    {
     "name": "stdout",
     "output_type": "stream",
     "text": [
      "[1] \"-----------------------------------------------------------------------------------------------------------------------------\"\n"
     ]
    },
    {
     "data": {
      "text/html": [
       "<style>\n",
       ".list-inline {list-style: none; margin:0; padding: 0}\n",
       ".list-inline>li {display: inline-block}\n",
       ".list-inline>li:not(:last-child)::after {content: \"\\00b7\"; padding: 0 .5ex}\n",
       "</style>\n",
       "<ol class=list-inline><li>11.2</li><li>11.5</li><li>11</li><li>11.1</li><li>13</li><li>14</li></ol>\n"
      ],
      "text/latex": [
       "\\begin{enumerate*}\n",
       "\\item 11.2\n",
       "\\item 11.5\n",
       "\\item 11\n",
       "\\item 11.1\n",
       "\\item 13\n",
       "\\item 14\n",
       "\\end{enumerate*}\n"
      ],
      "text/markdown": [
       "1. 11.2\n",
       "2. 11.5\n",
       "3. 11\n",
       "4. 11.1\n",
       "5. 13\n",
       "6. 14\n",
       "\n",
       "\n"
      ],
      "text/plain": [
       "[1] 11.2 11.5 11.0 11.1 13.0 14.0"
      ]
     },
     "metadata": {},
     "output_type": "display_data"
    },
    {
     "name": "stdout",
     "output_type": "stream",
     "text": [
      "[1] \"-----------------------------------------------------------------------------------------------------------------------------\"\n"
     ]
    },
    {
     "data": {
      "text/html": [
       "<style>\n",
       ".list-inline {list-style: none; margin:0; padding: 0}\n",
       ".list-inline>li {display: inline-block}\n",
       ".list-inline>li:not(:last-child)::after {content: \"\\00b7\"; padding: 0 .5ex}\n",
       "</style>\n",
       "<ol class=list-inline><li>70</li><li>75</li><li>67</li><li>73</li><li>100</li><li>120</li></ol>\n"
      ],
      "text/latex": [
       "\\begin{enumerate*}\n",
       "\\item 70\n",
       "\\item 75\n",
       "\\item 67\n",
       "\\item 73\n",
       "\\item 100\n",
       "\\item 120\n",
       "\\end{enumerate*}\n"
      ],
      "text/markdown": [
       "1. 70\n",
       "2. 75\n",
       "3. 67\n",
       "4. 73\n",
       "5. 100\n",
       "6. 120\n",
       "\n",
       "\n"
      ],
      "text/plain": [
       "[1]  70  75  67  73 100 120"
      ]
     },
     "metadata": {},
     "output_type": "display_data"
    },
    {
     "name": "stdout",
     "output_type": "stream",
     "text": [
      "[1] \"-----------------------------------------------------------------------------------------------------------------------------\"\n"
     ]
    }
   ],
   "source": [
    "x = data.frame(pressure = c(11.2, 11.5, 11, 11.1, 13, 14), weight = c(70, 75, 67, 73, 100, 120))\n",
    "x\n",
    "print(\"-----------------------------------------------------------------------------------------------------------------------------\")\n",
    "\n",
    "x$pressure\n",
    "print(\"-----------------------------------------------------------------------------------------------------------------------------\")\n",
    "\n",
    "x$weight\n",
    "print(\"-----------------------------------------------------------------------------------------------------------------------------\")\n",
    "\n",
    "# or:   x[,\"pressure\"]\n",
    "# or:   x[,1]"
   ]
  },
  {
   "cell_type": "markdown",
   "id": "918b894d-cce6-4369-bf38-86724407e513",
   "metadata": {},
   "source": [
    "2. lets check the correlation of two collums"
   ]
  },
  {
   "cell_type": "code",
   "execution_count": 2,
   "id": "04a8acd6-7635-46de-a1f4-cdb43c596774",
   "metadata": {},
   "outputs": [
    {
     "data": {
      "text/html": [
       "0.995372989880669"
      ],
      "text/latex": [
       "0.995372989880669"
      ],
      "text/markdown": [
       "0.995372989880669"
      ],
      "text/plain": [
       "[1] 0.995373"
      ]
     },
     "metadata": {},
     "output_type": "display_data"
    },
    {
     "name": "stdout",
     "output_type": "stream",
     "text": [
      "[1] \"-----------------------------------------------------------------------------------------------------------------------------\"\n"
     ]
    },
    {
     "name": "stderr",
     "output_type": "stream",
     "text": [
      "Warning message:\n",
      "\"package 'ggplot2' was built under R version 4.3.3\"\n"
     ]
    },
    {
     "data": {
      "image/png": "[encoded data removed]",
      "text/plain": [
       "plot without title"
      ]
     },
     "metadata": {
      "image/png": {
       "height": 420,
       "width": 420
      }
     },
     "output_type": "display_data"
    }
   ],
   "source": [
    "cor(x$pressure, x$weight)\n",
    "print(\"-----------------------------------------------------------------------------------------------------------------------------\")\n",
    "\n",
    "library(ggplot2)\n",
    "ggplot(x, aes(x = pressure, y = weight)) + geom_point()\n",
    "# or :  ggplot(x, aes(pressure, weight)) + geom_point()\n"
   ]
  },
  {
   "cell_type": "markdown",
   "id": "308f492f-9b23-4d84-bf60-4d9473956b35",
   "metadata": {},
   "source": [
    "3. lets add another collum and make some plots"
   ]
  },
  {
   "cell_type": "code",
   "execution_count": 3,
   "id": "08d34e54-3565-41cc-b3b8-073fd6dac442",
   "metadata": {},
   "outputs": [
    {
     "data": {
      "text/html": [
       "-0.955083107859069"
      ],
      "text/latex": [
       "-0.955083107859069"
      ],
      "text/markdown": [
       "-0.955083107859069"
      ],
      "text/plain": [
       "[1] -0.9550831"
      ]
     },
     "metadata": {},
     "output_type": "display_data"
    },
    {
     "name": "stderr",
     "output_type": "stream",
     "text": [
      "\u001b[1m\u001b[22m`geom_smooth()` using method = 'loess' and formula = 'y ~ x'\n",
      "Warning message in simpleLoess(y, x, w, span, degree = degree, parametric = parametric, :\n",
      "\"Chernobyl! trL>n 6\"\n",
      "Warning message in simpleLoess(y, x, w, span, degree = degree, parametric = parametric, :\n",
      "\"Chernobyl! trL>n 6\"\n",
      "Warning message in sqrt(sum.squares/one.delta):\n",
      "\"NaNs produced\"\n",
      "Warning message in stats::qt(level/2 + 0.5, pred$df):\n",
      "\"NaNs produced\"\n",
      "Warning message in max(ids, na.rm = TRUE):\n",
      "\"no non-missing arguments to max; returning -Inf\"\n"
     ]
    },
    {
     "data": {
      "image/png": "[encoded data removed]",
      "text/plain": [
       "plot without title"
      ]
     },
     "metadata": {
      "image/png": {
       "height": 420,
       "width": 420
      }
     },
     "output_type": "display_data"
    },
    {
     "name": "stderr",
     "output_type": "stream",
     "text": [
      "\u001b[1m\u001b[22m`geom_smooth()` using formula = 'y ~ x'\n"
     ]
    },
    {
     "data": {
      "image/png": "[encoded data removed]",
      "text/plain": [
       "plot without title"
      ]
     },
     "metadata": {
      "image/png": {
       "height": 420,
       "width": 420
      }
     },
     "output_type": "display_data"
    },
    {
     "name": "stderr",
     "output_type": "stream",
     "text": [
      "\u001b[1m\u001b[22m`geom_smooth()` using formula = 'y ~ x'\n"
     ]
    },
    {
     "data": {
      "image/png": "[encoded data removed]",
      "text/plain": [
       "plot without title"
      ]
     },
     "metadata": {
      "image/png": {
       "height": 420,
       "width": 420
      }
     },
     "output_type": "display_data"
    },
    {
     "data": {
      "image/png": "[encoded data removed]",
      "text/plain": [
       "plot without title"
      ]
     },
     "metadata": {
      "image/png": {
       "height": 420,
       "width": 420
      }
     },
     "output_type": "display_data"
    }
   ],
   "source": [
    "x$beat = c(70, 65, 80, 73, 58, 45)\n",
    "cor (x$pressure, x$beat)\n",
    "ggplot(x, aes(pressure, beat)) + geom_point()\n",
    "\n",
    "# geom_smooth can make a linear model (it is curved By default)\n",
    "ggplot(x, aes(pressure, beat)) + geom_point() + geom_smooth()\n",
    "\n",
    "# method = lm , make an uncurved linear model\n",
    "ggplot(x, aes(pressure, beat)) + geom_point() + geom_smooth(method = \"lm\")\n",
    "ggplot(x, aes(pressure, weight)) + geom_point() + geom_smooth(method = \"lm\")\n"
   ]
  },
  {
   "cell_type": "markdown",
   "id": "66888ca5-772b-49c4-a466-25a2ab1da2cf",
   "metadata": {},
   "source": [
    "4. lets check the cor of all collums and see their p-value"
   ]
  },
  {
   "cell_type": "code",
   "execution_count": 4,
   "id": "2f61dab0-5281-45bc-888e-c01e9cc700f8",
   "metadata": {},
   "outputs": [
    {
     "data": {
      "text/html": [
       "<table class=\"dataframe\">\n",
       "<caption>A matrix: 3 × 3 of type dbl</caption>\n",
       "<thead>\n",
       "\t<tr><th></th><th scope=col>pressure</th><th scope=col>weight</th><th scope=col>beat</th></tr>\n",
       "</thead>\n",
       "<tbody>\n",
       "\t<tr><th scope=row>pressure</th><td> 1.0000000</td><td> 0.9953730</td><td>-0.9550831</td></tr>\n",
       "\t<tr><th scope=row>weight</th><td> 0.9953730</td><td> 1.0000000</td><td>-0.9528001</td></tr>\n",
       "\t<tr><th scope=row>beat</th><td>-0.9550831</td><td>-0.9528001</td><td> 1.0000000</td></tr>\n",
       "</tbody>\n",
       "</table>\n"
      ],
      "text/latex": [
       "A matrix: 3 × 3 of type dbl\n",
       "\\begin{tabular}{r|lll}\n",
       "  & pressure & weight & beat\\\\\n",
       "\\hline\n",
       "\tpressure &  1.0000000 &  0.9953730 & -0.9550831\\\\\n",
       "\tweight &  0.9953730 &  1.0000000 & -0.9528001\\\\\n",
       "\tbeat & -0.9550831 & -0.9528001 &  1.0000000\\\\\n",
       "\\end{tabular}\n"
      ],
      "text/markdown": [
       "\n",
       "A matrix: 3 × 3 of type dbl\n",
       "\n",
       "| <!--/--> | pressure | weight | beat |\n",
       "|---|---|---|---|\n",
       "| pressure |  1.0000000 |  0.9953730 | -0.9550831 |\n",
       "| weight |  0.9953730 |  1.0000000 | -0.9528001 |\n",
       "| beat | -0.9550831 | -0.9528001 |  1.0000000 |\n",
       "\n"
      ],
      "text/plain": [
       "         pressure   weight     beat      \n",
       "pressure  1.0000000  0.9953730 -0.9550831\n",
       "weight    0.9953730  1.0000000 -0.9528001\n",
       "beat     -0.9550831 -0.9528001  1.0000000"
      ]
     },
     "metadata": {},
     "output_type": "display_data"
    },
    {
     "data": {
      "text/plain": [
       "\n",
       "\tPearson's product-moment correlation\n",
       "\n",
       "data:  x$pressure and x$weight\n",
       "t = 20.718, df = 4, p-value = 3.206e-05\n",
       "alternative hypothesis: true correlation is not equal to 0\n",
       "95 percent confidence interval:\n",
       " 0.9563872 0.9995177\n",
       "sample estimates:\n",
       "     cor \n",
       "0.995373 \n"
      ]
     },
     "metadata": {},
     "output_type": "display_data"
    },
    {
     "name": "stdout",
     "output_type": "stream",
     "text": [
      "[1] \"-----------------------------------------------------------------------------------------------------------------------------\"\n"
     ]
    },
    {
     "data": {
      "text/plain": [
       "\n",
       "\tPearson's product-moment correlation\n",
       "\n",
       "data:  x$pressure and x$beat\n",
       "t = -6.4459, df = 4, p-value = 0.002981\n",
       "alternative hypothesis: true correlation is not equal to 0\n",
       "95 percent confidence interval:\n",
       " -0.9952318 -0.6381825\n",
       "sample estimates:\n",
       "       cor \n",
       "-0.9550831 \n"
      ]
     },
     "metadata": {},
     "output_type": "display_data"
    }
   ],
   "source": [
    "cor(x)\n",
    "\n",
    "# cor.test  can show us the p-value of correlations\n",
    "cor.test(x$pressure, x$weight)\n",
    "print(\"-----------------------------------------------------------------------------------------------------------------------------\")\n",
    "\n",
    "cor.test(x$pressure, x$beat)\n"
   ]
  },
  {
   "cell_type": "markdown",
   "id": "43ad2b60-d333-4f39-b6ac-f458cfed30a2",
   "metadata": {},
   "source": [
    "5. lets make a hypothetical collum and perform the previous methods on it"
   ]
  },
  {
   "cell_type": "code",
   "execution_count": 5,
   "id": "55547cc2-c000-41af-8ca2-256bf4b3add7",
   "metadata": {},
   "outputs": [
    {
     "data": {
      "text/html": [
       "0.20945412631968"
      ],
      "text/latex": [
       "0.20945412631968"
      ],
      "text/markdown": [
       "0.20945412631968"
      ],
      "text/plain": [
       "[1] 0.2094541"
      ]
     },
     "metadata": {},
     "output_type": "display_data"
    },
    {
     "name": "stdout",
     "output_type": "stream",
     "text": [
      "[1] \"-----------------------------------------------------------------------------------------------------------------------------\"\n"
     ]
    },
    {
     "data": {
      "text/plain": [
       "\n",
       "\tPearson's product-moment correlation\n",
       "\n",
       "data:  x$pressure and x$Alaki\n",
       "t = 0.42841, df = 4, p-value = 0.6904\n",
       "alternative hypothesis: true correlation is not equal to 0\n",
       "95 percent confidence interval:\n",
       " -0.7254171  0.8726740\n",
       "sample estimates:\n",
       "      cor \n",
       "0.2094541 \n"
      ]
     },
     "metadata": {},
     "output_type": "display_data"
    },
    {
     "name": "stdout",
     "output_type": "stream",
     "text": [
      "[1] \"-----------------------------------------------------------------------------------------------------------------------------\"\n"
     ]
    },
    {
     "name": "stderr",
     "output_type": "stream",
     "text": [
      "\u001b[1m\u001b[22m`geom_smooth()` using formula = 'y ~ x'\n"
     ]
    },
    {
     "data": {
      "image/png": "[encoded data removed]",
      "text/plain": [
       "plot without title"
      ]
     },
     "metadata": {
      "image/png": {
       "height": 420,
       "width": 420
      }
     },
     "output_type": "display_data"
    }
   ],
   "source": [
    "x$Alaki = c(7, 3, 2, 5, 19, 1)\n",
    "cor(x$pressure, x$Alaki)\n",
    "print(\"-----------------------------------------------------------------------------------------------------------------------------\")\n",
    "\n",
    "cor.test(x$pressure, x$Alaki)\n",
    "print(\"-----------------------------------------------------------------------------------------------------------------------------\")\n",
    "\n",
    "ggplot(x, aes(pressure, Alaki)) + geom_point() + geom_smooth(method = \"lm\")\n"
   ]
  },
  {
   "cell_type": "markdown",
   "id": "631c27d5-bd0a-4ea9-ba8a-a6c5ed2464f1",
   "metadata": {},
   "source": [
    "6. lets use another way to make our hypothetical collum "
   ]
  },
  {
   "cell_type": "code",
   "execution_count": 6,
   "id": "46721be8-a793-4d7f-8368-acf14b3009a0",
   "metadata": {},
   "outputs": [
    {
     "data": {
      "text/html": [
       "<style>\n",
       ".list-inline {list-style: none; margin:0; padding: 0}\n",
       ".list-inline>li {display: inline-block}\n",
       ".list-inline>li:not(:last-child)::after {content: \"\\00b7\"; padding: 0 .5ex}\n",
       "</style>\n",
       "<ol class=list-inline><li>0.112976124277338</li><li>0.0818945623468608</li><li>0.688998903147876</li><li>0.135474219219759</li><li>0.644768990343437</li><li>0.163003772497177</li></ol>\n"
      ],
      "text/latex": [
       "\\begin{enumerate*}\n",
       "\\item 0.112976124277338\n",
       "\\item 0.0818945623468608\n",
       "\\item 0.688998903147876\n",
       "\\item 0.135474219219759\n",
       "\\item 0.644768990343437\n",
       "\\item 0.163003772497177\n",
       "\\end{enumerate*}\n"
      ],
      "text/markdown": [
       "1. 0.112976124277338\n",
       "2. 0.0818945623468608\n",
       "3. 0.688998903147876\n",
       "4. 0.135474219219759\n",
       "5. 0.644768990343437\n",
       "6. 0.163003772497177\n",
       "\n",
       "\n"
      ],
      "text/plain": [
       "[1] 0.11297612 0.08189456 0.68899890 0.13547422 0.64476899 0.16300377"
      ]
     },
     "metadata": {},
     "output_type": "display_data"
    },
    {
     "name": "stdout",
     "output_type": "stream",
     "text": [
      "[1] \"-----------------------------------------------------------------------------------------------------------------------------\"\n"
     ]
    },
    {
     "data": {
      "text/html": [
       "0.0510767672569546"
      ],
      "text/latex": [
       "0.0510767672569546"
      ],
      "text/markdown": [
       "0.0510767672569546"
      ],
      "text/plain": [
       "[1] 0.05107677"
      ]
     },
     "metadata": {},
     "output_type": "display_data"
    },
    {
     "name": "stdout",
     "output_type": "stream",
     "text": [
      "[1] \"-----------------------------------------------------------------------------------------------------------------------------\"\n"
     ]
    },
    {
     "data": {
      "text/plain": [
       "\n",
       "\tPearson's product-moment correlation\n",
       "\n",
       "data:  x$pressure and x$Alaki\n",
       "t = 0.10229, df = 4, p-value = 0.9235\n",
       "alternative hypothesis: true correlation is not equal to 0\n",
       "95 percent confidence interval:\n",
       " -0.7933713  0.8283033\n",
       "sample estimates:\n",
       "       cor \n",
       "0.05107677 \n"
      ]
     },
     "metadata": {},
     "output_type": "display_data"
    }
   ],
   "source": [
    "# runif can make randome numbers\n",
    "x$Alaki = runif(6)\n",
    "x$Alaki\n",
    "print(\"-----------------------------------------------------------------------------------------------------------------------------\")\n",
    "\n",
    "\n",
    "cor(x$pressure, x$Alaki)\n",
    "print(\"-----------------------------------------------------------------------------------------------------------------------------\")\n",
    "\n",
    "cor.test(x$pressure, x$Alaki)"
   ]
  },
  {
   "cell_type": "markdown",
   "id": "094e5f23-5676-437c-8a79-abbd48c5eba1",
   "metadata": {},
   "source": [
    "7. lets do the previous things with a real data"
   ]
  },
  {
   "cell_type": "code",
   "execution_count": 7,
   "id": "b4cadc78-f817-4bb4-853b-961baf2c9a08",
   "metadata": {},
   "outputs": [
    {
     "data": {
      "text/html": [
       "<table class=\"dataframe\">\n",
       "<caption>A matrix: 6 × 9 of type dbl</caption>\n",
       "<thead>\n",
       "\t<tr><th></th><th scope=col>HLXb9</th><th scope=col>HHEX</th><th scope=col>HNF4a</th><th scope=col>ISL1</th><th scope=col>NEUROD1</th><th scope=col>NKX6.1</th><th scope=col>PAX4</th><th scope=col>PTF1a</th><th scope=col>PDX1</th></tr>\n",
       "</thead>\n",
       "<tbody>\n",
       "\t<tr><th scope=row>HLXb9</th><td>1.0000000</td><td> 0.75295969</td><td> 0.1380735</td><td> 0.58251531</td><td> 0.26072601</td><td> 0.25295056</td><td> 0.38178759</td><td> 0.21630749</td><td> 0.4596102</td></tr>\n",
       "\t<tr><th scope=row>HHEX</th><td>0.7529597</td><td> 1.00000000</td><td>-0.3453091</td><td> 0.33431808</td><td>-0.01476779</td><td> 0.35509923</td><td> 0.49092536</td><td>-0.02293320</td><td> 0.2385883</td></tr>\n",
       "\t<tr><th scope=row>HNF4a</th><td>0.1380735</td><td>-0.34530906</td><td> 1.0000000</td><td> 0.35271191</td><td> 0.56377951</td><td>-0.48409513</td><td>-0.06236914</td><td> 0.09992377</td><td> 0.5108292</td></tr>\n",
       "\t<tr><th scope=row>ISL1</th><td>0.5825153</td><td> 0.33431808</td><td> 0.3527119</td><td> 1.00000000</td><td> 0.52390936</td><td>-0.07126067</td><td>-0.18448789</td><td>-0.14187383</td><td> 0.6679370</td></tr>\n",
       "\t<tr><th scope=row>NEUROD1</th><td>0.2607260</td><td>-0.01476779</td><td> 0.5637795</td><td> 0.52390936</td><td> 1.00000000</td><td>-0.58082648</td><td>-0.15085826</td><td> 0.18759365</td><td> 0.8088055</td></tr>\n",
       "\t<tr><th scope=row>NKX6.1</th><td>0.2529506</td><td> 0.35509923</td><td>-0.4840951</td><td>-0.07126067</td><td>-0.58082648</td><td> 1.00000000</td><td> 0.15129830</td><td> 0.04363843</td><td>-0.4881076</td></tr>\n",
       "</tbody>\n",
       "</table>\n"
      ],
      "text/latex": [
       "A matrix: 6 × 9 of type dbl\n",
       "\\begin{tabular}{r|lllllllll}\n",
       "  & HLXb9 & HHEX & HNF4a & ISL1 & NEUROD1 & NKX6.1 & PAX4 & PTF1a & PDX1\\\\\n",
       "\\hline\n",
       "\tHLXb9 & 1.0000000 &  0.75295969 &  0.1380735 &  0.58251531 &  0.26072601 &  0.25295056 &  0.38178759 &  0.21630749 &  0.4596102\\\\\n",
       "\tHHEX & 0.7529597 &  1.00000000 & -0.3453091 &  0.33431808 & -0.01476779 &  0.35509923 &  0.49092536 & -0.02293320 &  0.2385883\\\\\n",
       "\tHNF4a & 0.1380735 & -0.34530906 &  1.0000000 &  0.35271191 &  0.56377951 & -0.48409513 & -0.06236914 &  0.09992377 &  0.5108292\\\\\n",
       "\tISL1 & 0.5825153 &  0.33431808 &  0.3527119 &  1.00000000 &  0.52390936 & -0.07126067 & -0.18448789 & -0.14187383 &  0.6679370\\\\\n",
       "\tNEUROD1 & 0.2607260 & -0.01476779 &  0.5637795 &  0.52390936 &  1.00000000 & -0.58082648 & -0.15085826 &  0.18759365 &  0.8088055\\\\\n",
       "\tNKX6.1 & 0.2529506 &  0.35509923 & -0.4840951 & -0.07126067 & -0.58082648 &  1.00000000 &  0.15129830 &  0.04363843 & -0.4881076\\\\\n",
       "\\end{tabular}\n"
      ],
      "text/markdown": [
       "\n",
       "A matrix: 6 × 9 of type dbl\n",
       "\n",
       "| <!--/--> | HLXb9 | HHEX | HNF4a | ISL1 | NEUROD1 | NKX6.1 | PAX4 | PTF1a | PDX1 |\n",
       "|---|---|---|---|---|---|---|---|---|---|\n",
       "| HLXb9 | 1.0000000 |  0.75295969 |  0.1380735 |  0.58251531 |  0.26072601 |  0.25295056 |  0.38178759 |  0.21630749 |  0.4596102 |\n",
       "| HHEX | 0.7529597 |  1.00000000 | -0.3453091 |  0.33431808 | -0.01476779 |  0.35509923 |  0.49092536 | -0.02293320 |  0.2385883 |\n",
       "| HNF4a | 0.1380735 | -0.34530906 |  1.0000000 |  0.35271191 |  0.56377951 | -0.48409513 | -0.06236914 |  0.09992377 |  0.5108292 |\n",
       "| ISL1 | 0.5825153 |  0.33431808 |  0.3527119 |  1.00000000 |  0.52390936 | -0.07126067 | -0.18448789 | -0.14187383 |  0.6679370 |\n",
       "| NEUROD1 | 0.2607260 | -0.01476779 |  0.5637795 |  0.52390936 |  1.00000000 | -0.58082648 | -0.15085826 |  0.18759365 |  0.8088055 |\n",
       "| NKX6.1 | 0.2529506 |  0.35509923 | -0.4840951 | -0.07126067 | -0.58082648 |  1.00000000 |  0.15129830 |  0.04363843 | -0.4881076 |\n",
       "\n"
      ],
      "text/plain": [
       "        HLXb9     HHEX        HNF4a      ISL1        NEUROD1     NKX6.1     \n",
       "HLXb9   1.0000000  0.75295969  0.1380735  0.58251531  0.26072601  0.25295056\n",
       "HHEX    0.7529597  1.00000000 -0.3453091  0.33431808 -0.01476779  0.35509923\n",
       "HNF4a   0.1380735 -0.34530906  1.0000000  0.35271191  0.56377951 -0.48409513\n",
       "ISL1    0.5825153  0.33431808  0.3527119  1.00000000  0.52390936 -0.07126067\n",
       "NEUROD1 0.2607260 -0.01476779  0.5637795  0.52390936  1.00000000 -0.58082648\n",
       "NKX6.1  0.2529506  0.35509923 -0.4840951 -0.07126067 -0.58082648  1.00000000\n",
       "        PAX4        PTF1a       PDX1      \n",
       "HLXb9    0.38178759  0.21630749  0.4596102\n",
       "HHEX     0.49092536 -0.02293320  0.2385883\n",
       "HNF4a   -0.06236914  0.09992377  0.5108292\n",
       "ISL1    -0.18448789 -0.14187383  0.6679370\n",
       "NEUROD1 -0.15085826  0.18759365  0.8088055\n",
       "NKX6.1   0.15129830  0.04363843 -0.4881076"
      ]
     },
     "metadata": {},
     "output_type": "display_data"
    }
   ],
   "source": [
    "# calling the file and its preprocessing\n",
    "v = read.delim(\"C:/Users/abolf/Desktop/jupyter train/intro bioinf sharifi practical/SharifiZarchi-bio/Data/Endoderm.txt\")\n",
    "rownames(v) = v[,1]\n",
    "v = v[,-1]\n",
    "v = log2(v+1)\n",
    "v = na.omit(v)\n",
    "\n",
    "# v.cor  is a variable\n",
    "v.cor = cor(v)\n",
    "head(v.cor)"
   ]
  },
  {
   "cell_type": "markdown",
   "id": "c7787f7c-e1cb-4e72-8eff-b809be5de669",
   "metadata": {},
   "source": [
    "8. and make pheatmap of it's correlations (v.core)"
   ]
  },
  {
   "cell_type": "code",
   "execution_count": 8,
   "id": "206cbc37-96f4-4b00-a63d-9930f27a82ed",
   "metadata": {},
   "outputs": [
    {
     "name": "stderr",
     "output_type": "stream",
     "text": [
      "Warning message:\n",
      "\"package 'pheatmap' was built under R version 4.3.3\"\n"
     ]
    },
    {
     "data": {
      "image/png": "[encoded data removed]",
      "text/plain": [
       "plot without title"
      ]
     },
     "metadata": {
      "image/png": {
       "height": 420,
       "width": 420
      }
     },
     "output_type": "display_data"
    }
   ],
   "source": [
    "library(pheatmap)\n",
    "pheatmap(v.cor)"
   ]
  },
  {
   "cell_type": "markdown",
   "id": "5ab00b33-8b33-473d-9366-139e26acc77d",
   "metadata": {},
   "source": [
    "9. use ggplot to make the plot of specific genes"
   ]
  },
  {
   "cell_type": "code",
   "execution_count": 9,
   "id": "b6688731-6b48-47f2-91fb-6f0be9800571",
   "metadata": {},
   "outputs": [
    {
     "data": {
      "image/png": "[encoded data removed]",
      "text/plain": [
       "plot without title"
      ]
     },
     "metadata": {
      "image/png": {
       "height": 420,
       "width": 420
      }
     },
     "output_type": "display_data"
    },
    {
     "name": "stderr",
     "output_type": "stream",
     "text": [
      "\u001b[1m\u001b[22m`geom_smooth()` using formula = 'y ~ x'\n"
     ]
    },
    {
     "data": {
      "image/png": "[encoded data removed]",
      "text/plain": [
       "plot without title"
      ]
     },
     "metadata": {
      "image/png": {
       "height": 420,
       "width": 420
      }
     },
     "output_type": "display_data"
    },
    {
     "name": "stderr",
     "output_type": "stream",
     "text": [
      "\u001b[1m\u001b[22m`geom_smooth()` using formula = 'y ~ x'\n"
     ]
    },
    {
     "data": {
      "image/png": "[encoded data removed]",
      "text/plain": [
       "plot without title"
      ]
     },
     "metadata": {
      "image/png": {
       "height": 420,
       "width": 420
      }
     },
     "output_type": "display_data"
    },
    {
     "data": {
      "image/png": "[encoded data removed]",
      "text/plain": [
       "plot without title"
      ]
     },
     "metadata": {
      "image/png": {
       "height": 420,
       "width": 420
      }
     },
     "output_type": "display_data"
    }
   ],
   "source": [
    "ggplot(v, aes(NEUROD1, NKX6.1)) + geom_point()\n",
    "ggplot(v, aes(NEUROD1, HHEX)) + geom_point()\n",
    "ggplot(v, aes(NEUROD1, HHEX)) + geom_point() + geom_smooth( method = \"lm\")\n",
    "ggplot(v, aes(HLXb9, HHEX)) + geom_point() + geom_smooth( method = \"lm\")\n"
   ]
  },
  {
   "cell_type": "markdown",
   "id": "f58e3003-35bd-4725-aabc-952a59ede47f",
   "metadata": {},
   "source": [
    "10. lets check the correlation of samples instead of genes"
   ]
  },
  {
   "cell_type": "code",
   "execution_count": 10,
   "id": "c69dcc6c-222a-4487-bfdd-195b343bd1bb",
   "metadata": {},
   "outputs": [
    {
     "data": {
      "text/html": [
       "<table class=\"dataframe\">\n",
       "<caption>A data.frame: 6 × 9</caption>\n",
       "<thead>\n",
       "\t<tr><th></th><th scope=col>HLXb9</th><th scope=col>HHEX</th><th scope=col>HNF4a</th><th scope=col>ISL1</th><th scope=col>NEUROD1</th><th scope=col>NKX6.1</th><th scope=col>PAX4</th><th scope=col>PTF1a</th><th scope=col>PDX1</th></tr>\n",
       "\t<tr><th></th><th scope=col>&lt;dbl&gt;</th><th scope=col>&lt;dbl&gt;</th><th scope=col>&lt;dbl&gt;</th><th scope=col>&lt;dbl&gt;</th><th scope=col>&lt;dbl&gt;</th><th scope=col>&lt;dbl&gt;</th><th scope=col>&lt;dbl&gt;</th><th scope=col>&lt;dbl&gt;</th><th scope=col>&lt;dbl&gt;</th></tr>\n",
       "</thead>\n",
       "<tbody>\n",
       "\t<tr><th scope=row>SC.1</th><td>1.709291</td><td>1.521051</td><td>1.956057</td><td>1.427606</td><td>2.201634</td><td>1.063503</td><td>1.195348</td><td>1.263034</td><td>1.000000</td></tr>\n",
       "\t<tr><th scope=row>SC.2</th><td>1.000000</td><td>1.000000</td><td>1.000000</td><td>1.000000</td><td>1.000000</td><td>1.000000</td><td>1.000000</td><td>1.000000</td><td>1.000000</td></tr>\n",
       "\t<tr><th scope=row>SC.3</th><td>1.000000</td><td>1.000000</td><td>1.000000</td><td>1.000000</td><td>1.000000</td><td>1.000000</td><td>1.000000</td><td>1.000000</td><td>1.000000</td></tr>\n",
       "\t<tr><th scope=row>DE-1</th><td>7.073606</td><td>3.576522</td><td>6.381629</td><td>4.804260</td><td>2.555816</td><td>2.157044</td><td>1.669027</td><td>2.084064</td><td>4.490570</td></tr>\n",
       "\t<tr><th scope=row>DE-2</th><td>5.559798</td><td>5.241077</td><td>5.148365</td><td>3.575312</td><td>2.833902</td><td>2.438293</td><td>2.150560</td><td>2.232661</td><td>3.657640</td></tr>\n",
       "\t<tr><th scope=row>DE-3</th><td>5.725469</td><td>3.576522</td><td>4.932156</td><td>4.804260</td><td>4.074677</td><td>2.157044</td><td>1.669027</td><td>2.060047</td><td>4.738768</td></tr>\n",
       "</tbody>\n",
       "</table>\n"
      ],
      "text/latex": [
       "A data.frame: 6 × 9\n",
       "\\begin{tabular}{r|lllllllll}\n",
       "  & HLXb9 & HHEX & HNF4a & ISL1 & NEUROD1 & NKX6.1 & PAX4 & PTF1a & PDX1\\\\\n",
       "  & <dbl> & <dbl> & <dbl> & <dbl> & <dbl> & <dbl> & <dbl> & <dbl> & <dbl>\\\\\n",
       "\\hline\n",
       "\tSC.1 & 1.709291 & 1.521051 & 1.956057 & 1.427606 & 2.201634 & 1.063503 & 1.195348 & 1.263034 & 1.000000\\\\\n",
       "\tSC.2 & 1.000000 & 1.000000 & 1.000000 & 1.000000 & 1.000000 & 1.000000 & 1.000000 & 1.000000 & 1.000000\\\\\n",
       "\tSC.3 & 1.000000 & 1.000000 & 1.000000 & 1.000000 & 1.000000 & 1.000000 & 1.000000 & 1.000000 & 1.000000\\\\\n",
       "\tDE-1 & 7.073606 & 3.576522 & 6.381629 & 4.804260 & 2.555816 & 2.157044 & 1.669027 & 2.084064 & 4.490570\\\\\n",
       "\tDE-2 & 5.559798 & 5.241077 & 5.148365 & 3.575312 & 2.833902 & 2.438293 & 2.150560 & 2.232661 & 3.657640\\\\\n",
       "\tDE-3 & 5.725469 & 3.576522 & 4.932156 & 4.804260 & 4.074677 & 2.157044 & 1.669027 & 2.060047 & 4.738768\\\\\n",
       "\\end{tabular}\n"
      ],
      "text/markdown": [
       "\n",
       "A data.frame: 6 × 9\n",
       "\n",
       "| <!--/--> | HLXb9 &lt;dbl&gt; | HHEX &lt;dbl&gt; | HNF4a &lt;dbl&gt; | ISL1 &lt;dbl&gt; | NEUROD1 &lt;dbl&gt; | NKX6.1 &lt;dbl&gt; | PAX4 &lt;dbl&gt; | PTF1a &lt;dbl&gt; | PDX1 &lt;dbl&gt; |\n",
       "|---|---|---|---|---|---|---|---|---|---|\n",
       "| SC.1 | 1.709291 | 1.521051 | 1.956057 | 1.427606 | 2.201634 | 1.063503 | 1.195348 | 1.263034 | 1.000000 |\n",
       "| SC.2 | 1.000000 | 1.000000 | 1.000000 | 1.000000 | 1.000000 | 1.000000 | 1.000000 | 1.000000 | 1.000000 |\n",
       "| SC.3 | 1.000000 | 1.000000 | 1.000000 | 1.000000 | 1.000000 | 1.000000 | 1.000000 | 1.000000 | 1.000000 |\n",
       "| DE-1 | 7.073606 | 3.576522 | 6.381629 | 4.804260 | 2.555816 | 2.157044 | 1.669027 | 2.084064 | 4.490570 |\n",
       "| DE-2 | 5.559798 | 5.241077 | 5.148365 | 3.575312 | 2.833902 | 2.438293 | 2.150560 | 2.232661 | 3.657640 |\n",
       "| DE-3 | 5.725469 | 3.576522 | 4.932156 | 4.804260 | 4.074677 | 2.157044 | 1.669027 | 2.060047 | 4.738768 |\n",
       "\n"
      ],
      "text/plain": [
       "     HLXb9    HHEX     HNF4a    ISL1     NEUROD1  NKX6.1   PAX4     PTF1a   \n",
       "SC.1 1.709291 1.521051 1.956057 1.427606 2.201634 1.063503 1.195348 1.263034\n",
       "SC.2 1.000000 1.000000 1.000000 1.000000 1.000000 1.000000 1.000000 1.000000\n",
       "SC.3 1.000000 1.000000 1.000000 1.000000 1.000000 1.000000 1.000000 1.000000\n",
       "DE-1 7.073606 3.576522 6.381629 4.804260 2.555816 2.157044 1.669027 2.084064\n",
       "DE-2 5.559798 5.241077 5.148365 3.575312 2.833902 2.438293 2.150560 2.232661\n",
       "DE-3 5.725469 3.576522 4.932156 4.804260 4.074677 2.157044 1.669027 2.060047\n",
       "     PDX1    \n",
       "SC.1 1.000000\n",
       "SC.2 1.000000\n",
       "SC.3 1.000000\n",
       "DE-1 4.490570\n",
       "DE-2 3.657640\n",
       "DE-3 4.738768"
      ]
     },
     "metadata": {},
     "output_type": "display_data"
    },
    {
     "data": {
      "text/html": [
       "<table class=\"dataframe\">\n",
       "<caption>A matrix: 6 × 50 of type dbl</caption>\n",
       "<thead>\n",
       "\t<tr><th></th><th scope=col>SC.1</th><th scope=col>SC.2</th><th scope=col>SC.3</th><th scope=col>DE-1</th><th scope=col>DE-2</th><th scope=col>DE-3</th><th scope=col>DE-4</th><th scope=col>DE+1</th><th scope=col>DE+2</th><th scope=col>DE+3</th><th scope=col>⋯</th><th scope=col>P5PP+1</th><th scope=col>P5PP+2</th><th scope=col>P5PE-1</th><th scope=col>P5PE-2</th><th scope=col>P5PE-3</th><th scope=col>P5PE-4</th><th scope=col>P5PE+1</th><th scope=col>P5PE+2</th><th scope=col>P5PE+3</th><th scope=col>P5PE+4</th></tr>\n",
       "</thead>\n",
       "<tbody>\n",
       "\t<tr><th scope=row>HLXb9</th><td>1.709291</td><td>1</td><td>1</td><td>7.073606</td><td>5.559798</td><td>5.725469</td><td>7.150661</td><td>7.402842</td><td>6.678072</td><td>7.177420</td><td>⋯</td><td>6.3601887</td><td>6.3476657</td><td>3.3377111</td><td>3.8288346</td><td>3.49952702</td><td>5.3847406</td><td>2.4931349</td><td>2.6438562</td><td>3.3936908</td><td>5.0682409</td></tr>\n",
       "\t<tr><th scope=row>HHEX</th><td>1.521051</td><td>1</td><td>1</td><td>3.576522</td><td>5.241077</td><td>3.576522</td><td>5.241077</td><td>3.589763</td><td>5.241077</td><td>4.753818</td><td>⋯</td><td>4.0686708</td><td>4.0746767</td><td>0.1505597</td><td>0.8479969</td><td>0.07038933</td><td>1.2203300</td><td>0.1243281</td><td>0.1110313</td><td>0.0976108</td><td>1.1375035</td></tr>\n",
       "\t<tr><th scope=row>HNF4a</th><td>1.956057</td><td>1</td><td>1</td><td>6.381629</td><td>5.148365</td><td>4.932156</td><td>5.988117</td><td>5.460415</td><td>4.199358</td><td>3.542258</td><td>⋯</td><td>8.4854268</td><td>8.4438967</td><td>6.8774989</td><td>6.8005117</td><td>7.26341006</td><td>6.6434233</td><td>7.9835067</td><td>7.7975967</td><td>7.2489712</td><td>7.9293176</td></tr>\n",
       "\t<tr><th scope=row>ISL1</th><td>1.427606</td><td>1</td><td>1</td><td>4.804260</td><td>3.575312</td><td>4.804260</td><td>3.575312</td><td>5.358607</td><td>5.247168</td><td>5.547203</td><td>⋯</td><td>4.4356286</td><td>4.8659188</td><td>3.4776773</td><td>3.5945485</td><td>3.47767733</td><td>3.5945485</td><td>4.3334237</td><td>4.2750070</td><td>4.3334237</td><td>4.2750070</td></tr>\n",
       "\t<tr><th scope=row>NEUROD1</th><td>2.201634</td><td>1</td><td>1</td><td>2.555816</td><td>2.833902</td><td>4.074677</td><td>4.536675</td><td>2.347666</td><td>2.353323</td><td>4.919340</td><td>⋯</td><td>7.3605399</td><td>7.4403709</td><td>7.6346659</td><td>7.4450976</td><td>6.39454844</td><td>7.6690977</td><td>6.5599506</td><td>7.8722131</td><td>6.9053268</td><td>7.5910361</td></tr>\n",
       "\t<tr><th scope=row>NKX6.1</th><td>1.063503</td><td>1</td><td>1</td><td>2.157044</td><td>2.438293</td><td>2.157044</td><td>2.438293</td><td>2.087463</td><td>1.427606</td><td>2.405992</td><td>⋯</td><td>0.1243281</td><td>0.1375035</td><td>0.3219281</td><td>0.5360529</td><td>0.63226822</td><td>0.4541759</td><td>0.2016339</td><td>0.3448285</td><td>0.2387869</td><td>0.2265085</td></tr>\n",
       "</tbody>\n",
       "</table>\n"
      ],
      "text/latex": [
       "A matrix: 6 × 50 of type dbl\n",
       "\\begin{tabular}{r|lllllllllllllllllllll}\n",
       "  & SC.1 & SC.2 & SC.3 & DE-1 & DE-2 & DE-3 & DE-4 & DE+1 & DE+2 & DE+3 & ⋯ & P5PP+1 & P5PP+2 & P5PE-1 & P5PE-2 & P5PE-3 & P5PE-4 & P5PE+1 & P5PE+2 & P5PE+3 & P5PE+4\\\\\n",
       "\\hline\n",
       "\tHLXb9 & 1.709291 & 1 & 1 & 7.073606 & 5.559798 & 5.725469 & 7.150661 & 7.402842 & 6.678072 & 7.177420 & ⋯ & 6.3601887 & 6.3476657 & 3.3377111 & 3.8288346 & 3.49952702 & 5.3847406 & 2.4931349 & 2.6438562 & 3.3936908 & 5.0682409\\\\\n",
       "\tHHEX & 1.521051 & 1 & 1 & 3.576522 & 5.241077 & 3.576522 & 5.241077 & 3.589763 & 5.241077 & 4.753818 & ⋯ & 4.0686708 & 4.0746767 & 0.1505597 & 0.8479969 & 0.07038933 & 1.2203300 & 0.1243281 & 0.1110313 & 0.0976108 & 1.1375035\\\\\n",
       "\tHNF4a & 1.956057 & 1 & 1 & 6.381629 & 5.148365 & 4.932156 & 5.988117 & 5.460415 & 4.199358 & 3.542258 & ⋯ & 8.4854268 & 8.4438967 & 6.8774989 & 6.8005117 & 7.26341006 & 6.6434233 & 7.9835067 & 7.7975967 & 7.2489712 & 7.9293176\\\\\n",
       "\tISL1 & 1.427606 & 1 & 1 & 4.804260 & 3.575312 & 4.804260 & 3.575312 & 5.358607 & 5.247168 & 5.547203 & ⋯ & 4.4356286 & 4.8659188 & 3.4776773 & 3.5945485 & 3.47767733 & 3.5945485 & 4.3334237 & 4.2750070 & 4.3334237 & 4.2750070\\\\\n",
       "\tNEUROD1 & 2.201634 & 1 & 1 & 2.555816 & 2.833902 & 4.074677 & 4.536675 & 2.347666 & 2.353323 & 4.919340 & ⋯ & 7.3605399 & 7.4403709 & 7.6346659 & 7.4450976 & 6.39454844 & 7.6690977 & 6.5599506 & 7.8722131 & 6.9053268 & 7.5910361\\\\\n",
       "\tNKX6.1 & 1.063503 & 1 & 1 & 2.157044 & 2.438293 & 2.157044 & 2.438293 & 2.087463 & 1.427606 & 2.405992 & ⋯ & 0.1243281 & 0.1375035 & 0.3219281 & 0.5360529 & 0.63226822 & 0.4541759 & 0.2016339 & 0.3448285 & 0.2387869 & 0.2265085\\\\\n",
       "\\end{tabular}\n"
      ],
      "text/markdown": [
       "\n",
       "A matrix: 6 × 50 of type dbl\n",
       "\n",
       "| <!--/--> | SC.1 | SC.2 | SC.3 | DE-1 | DE-2 | DE-3 | DE-4 | DE+1 | DE+2 | DE+3 | ⋯ | P5PP+1 | P5PP+2 | P5PE-1 | P5PE-2 | P5PE-3 | P5PE-4 | P5PE+1 | P5PE+2 | P5PE+3 | P5PE+4 |\n",
       "|---|---|---|---|---|---|---|---|---|---|---|---|---|---|---|---|---|---|---|---|---|---|\n",
       "| HLXb9 | 1.709291 | 1 | 1 | 7.073606 | 5.559798 | 5.725469 | 7.150661 | 7.402842 | 6.678072 | 7.177420 | ⋯ | 6.3601887 | 6.3476657 | 3.3377111 | 3.8288346 | 3.49952702 | 5.3847406 | 2.4931349 | 2.6438562 | 3.3936908 | 5.0682409 |\n",
       "| HHEX | 1.521051 | 1 | 1 | 3.576522 | 5.241077 | 3.576522 | 5.241077 | 3.589763 | 5.241077 | 4.753818 | ⋯ | 4.0686708 | 4.0746767 | 0.1505597 | 0.8479969 | 0.07038933 | 1.2203300 | 0.1243281 | 0.1110313 | 0.0976108 | 1.1375035 |\n",
       "| HNF4a | 1.956057 | 1 | 1 | 6.381629 | 5.148365 | 4.932156 | 5.988117 | 5.460415 | 4.199358 | 3.542258 | ⋯ | 8.4854268 | 8.4438967 | 6.8774989 | 6.8005117 | 7.26341006 | 6.6434233 | 7.9835067 | 7.7975967 | 7.2489712 | 7.9293176 |\n",
       "| ISL1 | 1.427606 | 1 | 1 | 4.804260 | 3.575312 | 4.804260 | 3.575312 | 5.358607 | 5.247168 | 5.547203 | ⋯ | 4.4356286 | 4.8659188 | 3.4776773 | 3.5945485 | 3.47767733 | 3.5945485 | 4.3334237 | 4.2750070 | 4.3334237 | 4.2750070 |\n",
       "| NEUROD1 | 2.201634 | 1 | 1 | 2.555816 | 2.833902 | 4.074677 | 4.536675 | 2.347666 | 2.353323 | 4.919340 | ⋯ | 7.3605399 | 7.4403709 | 7.6346659 | 7.4450976 | 6.39454844 | 7.6690977 | 6.5599506 | 7.8722131 | 6.9053268 | 7.5910361 |\n",
       "| NKX6.1 | 1.063503 | 1 | 1 | 2.157044 | 2.438293 | 2.157044 | 2.438293 | 2.087463 | 1.427606 | 2.405992 | ⋯ | 0.1243281 | 0.1375035 | 0.3219281 | 0.5360529 | 0.63226822 | 0.4541759 | 0.2016339 | 0.3448285 | 0.2387869 | 0.2265085 |\n",
       "\n"
      ],
      "text/plain": [
       "        SC.1     SC.2 SC.3 DE-1     DE-2     DE-3     DE-4     DE+1    \n",
       "HLXb9   1.709291 1    1    7.073606 5.559798 5.725469 7.150661 7.402842\n",
       "HHEX    1.521051 1    1    3.576522 5.241077 3.576522 5.241077 3.589763\n",
       "HNF4a   1.956057 1    1    6.381629 5.148365 4.932156 5.988117 5.460415\n",
       "ISL1    1.427606 1    1    4.804260 3.575312 4.804260 3.575312 5.358607\n",
       "NEUROD1 2.201634 1    1    2.555816 2.833902 4.074677 4.536675 2.347666\n",
       "NKX6.1  1.063503 1    1    2.157044 2.438293 2.157044 2.438293 2.087463\n",
       "        DE+2     DE+3     ⋯ P5PP+1    P5PP+2    P5PE-1    P5PE-2    P5PE-3    \n",
       "HLXb9   6.678072 7.177420 ⋯ 6.3601887 6.3476657 3.3377111 3.8288346 3.49952702\n",
       "HHEX    5.241077 4.753818 ⋯ 4.0686708 4.0746767 0.1505597 0.8479969 0.07038933\n",
       "HNF4a   4.199358 3.542258 ⋯ 8.4854268 8.4438967 6.8774989 6.8005117 7.26341006\n",
       "ISL1    5.247168 5.547203 ⋯ 4.4356286 4.8659188 3.4776773 3.5945485 3.47767733\n",
       "NEUROD1 2.353323 4.919340 ⋯ 7.3605399 7.4403709 7.6346659 7.4450976 6.39454844\n",
       "NKX6.1  1.427606 2.405992 ⋯ 0.1243281 0.1375035 0.3219281 0.5360529 0.63226822\n",
       "        P5PE-4    P5PE+1    P5PE+2    P5PE+3    P5PE+4   \n",
       "HLXb9   5.3847406 2.4931349 2.6438562 3.3936908 5.0682409\n",
       "HHEX    1.2203300 0.1243281 0.1110313 0.0976108 1.1375035\n",
       "HNF4a   6.6434233 7.9835067 7.7975967 7.2489712 7.9293176\n",
       "ISL1    3.5945485 4.3334237 4.2750070 4.3334237 4.2750070\n",
       "NEUROD1 7.6690977 6.5599506 7.8722131 6.9053268 7.5910361\n",
       "NKX6.1  0.4541759 0.2016339 0.3448285 0.2387869 0.2265085"
      ]
     },
     "metadata": {},
     "output_type": "display_data"
    },
    {
     "name": "stderr",
     "output_type": "stream",
     "text": [
      "Warning message in cor(p):\n",
      "\"the standard deviation is zero\"\n"
     ]
    },
    {
     "data": {
      "text/html": [
       "<table class=\"dataframe\">\n",
       "<caption>A matrix: 6 × 50 of type dbl</caption>\n",
       "<thead>\n",
       "\t<tr><th></th><th scope=col>SC.1</th><th scope=col>SC.2</th><th scope=col>SC.3</th><th scope=col>DE-1</th><th scope=col>DE-2</th><th scope=col>DE-3</th><th scope=col>DE-4</th><th scope=col>DE+1</th><th scope=col>DE+2</th><th scope=col>DE+3</th><th scope=col>⋯</th><th scope=col>P5PP+1</th><th scope=col>P5PP+2</th><th scope=col>P5PE-1</th><th scope=col>P5PE-2</th><th scope=col>P5PE-3</th><th scope=col>P5PE-4</th><th scope=col>P5PE+1</th><th scope=col>P5PE+2</th><th scope=col>P5PE+3</th><th scope=col>P5PE+4</th></tr>\n",
       "</thead>\n",
       "<tbody>\n",
       "\t<tr><th scope=row>SC.1</th><td>1.0000000</td><td>NA</td><td>NA</td><td>0.3675127</td><td>0.4194880</td><td>0.4864738</td><td>0.6379002</td><td>0.3998794</td><td>0.3088441</td><td>0.5834926</td><td>⋯</td><td>0.5755913</td><td>0.5423578</td><td>0.6403248</td><td>0.54621857</td><td>0.5902083</td><td>0.6618649</td><td>0.6467564</td><td>0.7039126</td><td>0.5782348</td><td>0.6918557</td></tr>\n",
       "\t<tr><th scope=row>SC.2</th><td>       NA</td><td> 1</td><td>NA</td><td>       NA</td><td>       NA</td><td>       NA</td><td>       NA</td><td>       NA</td><td>       NA</td><td>       NA</td><td>⋯</td><td>       NA</td><td>       NA</td><td>       NA</td><td>        NA</td><td>       NA</td><td>       NA</td><td>       NA</td><td>       NA</td><td>       NA</td><td>       NA</td></tr>\n",
       "\t<tr><th scope=row>SC.3</th><td>       NA</td><td>NA</td><td> 1</td><td>       NA</td><td>       NA</td><td>       NA</td><td>       NA</td><td>       NA</td><td>       NA</td><td>       NA</td><td>⋯</td><td>       NA</td><td>       NA</td><td>       NA</td><td>        NA</td><td>       NA</td><td>       NA</td><td>       NA</td><td>       NA</td><td>       NA</td><td>       NA</td></tr>\n",
       "\t<tr><th scope=row>DE-1</th><td>0.3675127</td><td>NA</td><td>NA</td><td>1.0000000</td><td>0.8605357</td><td>0.9072834</td><td>0.8501585</td><td>0.9347513</td><td>0.8416534</td><td>0.6371143</td><td>⋯</td><td>0.6696443</td><td>0.6472076</td><td>0.4142288</td><td>0.26385392</td><td>0.4544952</td><td>0.4942048</td><td>0.4950595</td><td>0.4051728</td><td>0.4550456</td><td>0.5870755</td></tr>\n",
       "\t<tr><th scope=row>DE-2</th><td>0.4194880</td><td>NA</td><td>NA</td><td>0.8605357</td><td>1.0000000</td><td>0.7741441</td><td>0.9244213</td><td>0.8130249</td><td>0.8843509</td><td>0.6507959</td><td>⋯</td><td>0.5758666</td><td>0.5435759</td><td>0.1823829</td><td>0.02013741</td><td>0.1797424</td><td>0.2718588</td><td>0.2635421</td><td>0.1853933</td><td>0.1806315</td><td>0.3696535</td></tr>\n",
       "\t<tr><th scope=row>DE-3</th><td>0.4864738</td><td>NA</td><td>NA</td><td>0.9072834</td><td>0.7741441</td><td>1.0000000</td><td>0.8460300</td><td>0.8148519</td><td>0.8007197</td><td>0.7211486</td><td>⋯</td><td>0.8162054</td><td>0.7988413</td><td>0.6120126</td><td>0.41423854</td><td>0.5820230</td><td>0.6699782</td><td>0.6427637</td><td>0.5865027</td><td>0.6213185</td><td>0.7440985</td></tr>\n",
       "</tbody>\n",
       "</table>\n"
      ],
      "text/latex": [
       "A matrix: 6 × 50 of type dbl\n",
       "\\begin{tabular}{r|lllllllllllllllllllll}\n",
       "  & SC.1 & SC.2 & SC.3 & DE-1 & DE-2 & DE-3 & DE-4 & DE+1 & DE+2 & DE+3 & ⋯ & P5PP+1 & P5PP+2 & P5PE-1 & P5PE-2 & P5PE-3 & P5PE-4 & P5PE+1 & P5PE+2 & P5PE+3 & P5PE+4\\\\\n",
       "\\hline\n",
       "\tSC.1 & 1.0000000 & NA & NA & 0.3675127 & 0.4194880 & 0.4864738 & 0.6379002 & 0.3998794 & 0.3088441 & 0.5834926 & ⋯ & 0.5755913 & 0.5423578 & 0.6403248 & 0.54621857 & 0.5902083 & 0.6618649 & 0.6467564 & 0.7039126 & 0.5782348 & 0.6918557\\\\\n",
       "\tSC.2 &        NA &  1 & NA &        NA &        NA &        NA &        NA &        NA &        NA &        NA & ⋯ &        NA &        NA &        NA &         NA &        NA &        NA &        NA &        NA &        NA &        NA\\\\\n",
       "\tSC.3 &        NA & NA &  1 &        NA &        NA &        NA &        NA &        NA &        NA &        NA & ⋯ &        NA &        NA &        NA &         NA &        NA &        NA &        NA &        NA &        NA &        NA\\\\\n",
       "\tDE-1 & 0.3675127 & NA & NA & 1.0000000 & 0.8605357 & 0.9072834 & 0.8501585 & 0.9347513 & 0.8416534 & 0.6371143 & ⋯ & 0.6696443 & 0.6472076 & 0.4142288 & 0.26385392 & 0.4544952 & 0.4942048 & 0.4950595 & 0.4051728 & 0.4550456 & 0.5870755\\\\\n",
       "\tDE-2 & 0.4194880 & NA & NA & 0.8605357 & 1.0000000 & 0.7741441 & 0.9244213 & 0.8130249 & 0.8843509 & 0.6507959 & ⋯ & 0.5758666 & 0.5435759 & 0.1823829 & 0.02013741 & 0.1797424 & 0.2718588 & 0.2635421 & 0.1853933 & 0.1806315 & 0.3696535\\\\\n",
       "\tDE-3 & 0.4864738 & NA & NA & 0.9072834 & 0.7741441 & 1.0000000 & 0.8460300 & 0.8148519 & 0.8007197 & 0.7211486 & ⋯ & 0.8162054 & 0.7988413 & 0.6120126 & 0.41423854 & 0.5820230 & 0.6699782 & 0.6427637 & 0.5865027 & 0.6213185 & 0.7440985\\\\\n",
       "\\end{tabular}\n"
      ],
      "text/markdown": [
       "\n",
       "A matrix: 6 × 50 of type dbl\n",
       "\n",
       "| <!--/--> | SC.1 | SC.2 | SC.3 | DE-1 | DE-2 | DE-3 | DE-4 | DE+1 | DE+2 | DE+3 | ⋯ | P5PP+1 | P5PP+2 | P5PE-1 | P5PE-2 | P5PE-3 | P5PE-4 | P5PE+1 | P5PE+2 | P5PE+3 | P5PE+4 |\n",
       "|---|---|---|---|---|---|---|---|---|---|---|---|---|---|---|---|---|---|---|---|---|---|\n",
       "| SC.1 | 1.0000000 | NA | NA | 0.3675127 | 0.4194880 | 0.4864738 | 0.6379002 | 0.3998794 | 0.3088441 | 0.5834926 | ⋯ | 0.5755913 | 0.5423578 | 0.6403248 | 0.54621857 | 0.5902083 | 0.6618649 | 0.6467564 | 0.7039126 | 0.5782348 | 0.6918557 |\n",
       "| SC.2 |        NA |  1 | NA |        NA |        NA |        NA |        NA |        NA |        NA |        NA | ⋯ |        NA |        NA |        NA |         NA |        NA |        NA |        NA |        NA |        NA |        NA |\n",
       "| SC.3 |        NA | NA |  1 |        NA |        NA |        NA |        NA |        NA |        NA |        NA | ⋯ |        NA |        NA |        NA |         NA |        NA |        NA |        NA |        NA |        NA |        NA |\n",
       "| DE-1 | 0.3675127 | NA | NA | 1.0000000 | 0.8605357 | 0.9072834 | 0.8501585 | 0.9347513 | 0.8416534 | 0.6371143 | ⋯ | 0.6696443 | 0.6472076 | 0.4142288 | 0.26385392 | 0.4544952 | 0.4942048 | 0.4950595 | 0.4051728 | 0.4550456 | 0.5870755 |\n",
       "| DE-2 | 0.4194880 | NA | NA | 0.8605357 | 1.0000000 | 0.7741441 | 0.9244213 | 0.8130249 | 0.8843509 | 0.6507959 | ⋯ | 0.5758666 | 0.5435759 | 0.1823829 | 0.02013741 | 0.1797424 | 0.2718588 | 0.2635421 | 0.1853933 | 0.1806315 | 0.3696535 |\n",
       "| DE-3 | 0.4864738 | NA | NA | 0.9072834 | 0.7741441 | 1.0000000 | 0.8460300 | 0.8148519 | 0.8007197 | 0.7211486 | ⋯ | 0.8162054 | 0.7988413 | 0.6120126 | 0.41423854 | 0.5820230 | 0.6699782 | 0.6427637 | 0.5865027 | 0.6213185 | 0.7440985 |\n",
       "\n"
      ],
      "text/plain": [
       "     SC.1      SC.2 SC.3 DE-1      DE-2      DE-3      DE-4      DE+1     \n",
       "SC.1 1.0000000 NA   NA   0.3675127 0.4194880 0.4864738 0.6379002 0.3998794\n",
       "SC.2        NA  1   NA          NA        NA        NA        NA        NA\n",
       "SC.3        NA NA    1          NA        NA        NA        NA        NA\n",
       "DE-1 0.3675127 NA   NA   1.0000000 0.8605357 0.9072834 0.8501585 0.9347513\n",
       "DE-2 0.4194880 NA   NA   0.8605357 1.0000000 0.7741441 0.9244213 0.8130249\n",
       "DE-3 0.4864738 NA   NA   0.9072834 0.7741441 1.0000000 0.8460300 0.8148519\n",
       "     DE+2      DE+3      ⋯ P5PP+1    P5PP+2    P5PE-1    P5PE-2     P5PE-3   \n",
       "SC.1 0.3088441 0.5834926 ⋯ 0.5755913 0.5423578 0.6403248 0.54621857 0.5902083\n",
       "SC.2        NA        NA ⋯        NA        NA        NA         NA        NA\n",
       "SC.3        NA        NA ⋯        NA        NA        NA         NA        NA\n",
       "DE-1 0.8416534 0.6371143 ⋯ 0.6696443 0.6472076 0.4142288 0.26385392 0.4544952\n",
       "DE-2 0.8843509 0.6507959 ⋯ 0.5758666 0.5435759 0.1823829 0.02013741 0.1797424\n",
       "DE-3 0.8007197 0.7211486 ⋯ 0.8162054 0.7988413 0.6120126 0.41423854 0.5820230\n",
       "     P5PE-4    P5PE+1    P5PE+2    P5PE+3    P5PE+4   \n",
       "SC.1 0.6618649 0.6467564 0.7039126 0.5782348 0.6918557\n",
       "SC.2        NA        NA        NA        NA        NA\n",
       "SC.3        NA        NA        NA        NA        NA\n",
       "DE-1 0.4942048 0.4950595 0.4051728 0.4550456 0.5870755\n",
       "DE-2 0.2718588 0.2635421 0.1853933 0.1806315 0.3696535\n",
       "DE-3 0.6699782 0.6427637 0.5865027 0.6213185 0.7440985"
      ]
     },
     "metadata": {},
     "output_type": "display_data"
    },
    {
     "name": "stdout",
     "output_type": "stream",
     "text": [
      "[1] \"-----------------------------------------------------------------------------------------------------------------------------\"\n"
     ]
    },
    {
     "data": {
      "text/html": [
       "<style>\n",
       ".list-inline {list-style: none; margin:0; padding: 0}\n",
       ".list-inline>li {display: inline-block}\n",
       ".list-inline>li:not(:last-child)::after {content: \"\\00b7\"; padding: 0 .5ex}\n",
       "</style>\n",
       "<ol class=list-inline><li>50</li><li>50</li></ol>\n"
      ],
      "text/latex": [
       "\\begin{enumerate*}\n",
       "\\item 50\n",
       "\\item 50\n",
       "\\end{enumerate*}\n"
      ],
      "text/markdown": [
       "1. 50\n",
       "2. 50\n",
       "\n",
       "\n"
      ],
      "text/plain": [
       "[1] 50 50"
      ]
     },
     "metadata": {},
     "output_type": "display_data"
    },
    {
     "name": "stdout",
     "output_type": "stream",
     "text": [
      "[1] \"-----------------------------------------------------------------------------------------------------------------------------\"\n"
     ]
    },
    {
     "data": {
      "text/html": [
       "<style>\n",
       ".list-inline {list-style: none; margin:0; padding: 0}\n",
       ".list-inline>li {display: inline-block}\n",
       ".list-inline>li:not(:last-child)::after {content: \"\\00b7\"; padding: 0 .5ex}\n",
       "</style>\n",
       "<ol class=list-inline><li>0</li><li>50</li></ol>\n"
      ],
      "text/latex": [
       "\\begin{enumerate*}\n",
       "\\item 0\n",
       "\\item 50\n",
       "\\end{enumerate*}\n"
      ],
      "text/markdown": [
       "1. 0\n",
       "2. 50\n",
       "\n",
       "\n"
      ],
      "text/plain": [
       "[1]  0 50"
      ]
     },
     "metadata": {},
     "output_type": "display_data"
    },
    {
     "name": "stderr",
     "output_type": "stream",
     "text": [
      "Warning message in cbind(parts$left, chars$ellip_h, parts$right, deparse.level = 0L):\n",
      "\"number of rows of result is not a multiple of vector length (arg 2)\"\n",
      "Warning message in cbind(parts$left, chars$ellip_h, parts$right, deparse.level = 0L):\n",
      "\"number of rows of result is not a multiple of vector length (arg 2)\"\n",
      "Warning message in cbind(parts$left, chars$ellip_h, parts$right, deparse.level = 0L):\n",
      "\"number of rows of result is not a multiple of vector length (arg 2)\"\n",
      "Warning message in cbind(parts$left, chars$ellip_h, parts$right, deparse.level = 0L):\n",
      "\"number of rows of result is not a multiple of vector length (arg 2)\"\n"
     ]
    },
    {
     "data": {
      "text/html": [
       "<table class=\"dataframe\">\n",
       "<caption>A matrix: 0 × 50 of type dbl</caption>\n",
       "<thead>\n",
       "\t<tr><th scope=col>SC.1</th><th scope=col>SC.2</th><th scope=col>SC.3</th><th scope=col>DE-1</th><th scope=col>DE-2</th><th scope=col>DE-3</th><th scope=col>DE-4</th><th scope=col>DE+1</th><th scope=col>DE+2</th><th scope=col>DE+3</th><th scope=col>⋯</th><th scope=col>P5PP+1</th><th scope=col>P5PP+2</th><th scope=col>P5PE-1</th><th scope=col>P5PE-2</th><th scope=col>P5PE-3</th><th scope=col>P5PE-4</th><th scope=col>P5PE+1</th><th scope=col>P5PE+2</th><th scope=col>P5PE+3</th><th scope=col>P5PE+4</th></tr>\n",
       "</thead>\n",
       "<tbody>\n",
       "</tbody>\n",
       "</table>\n"
      ],
      "text/latex": [
       "A matrix: 0 × 50 of type dbl\n",
       "\\begin{tabular}{lllllllllllllllllllll}\n",
       " SC.1 & SC.2 & SC.3 & DE-1 & DE-2 & DE-3 & DE-4 & DE+1 & DE+2 & DE+3 & ⋯ & P5PP+1 & P5PP+2 & P5PE-1 & P5PE-2 & P5PE-3 & P5PE-4 & P5PE+1 & P5PE+2 & P5PE+3 & P5PE+4\\\\\n",
       "\\hline\n",
       "\\end{tabular}\n"
      ],
      "text/markdown": [
       "\n",
       "A matrix: 0 × 50 of type dbl\n",
       "\n",
       "| SC.1 | SC.2 | SC.3 | DE-1 | DE-2 | DE-3 | DE-4 | DE+1 | DE+2 | DE+3 | ⋯ | P5PP+1 | P5PP+2 | P5PE-1 | P5PE-2 | P5PE-3 | P5PE-4 | P5PE+1 | P5PE+2 | P5PE+3 | P5PE+4 |\n",
       "|---|---|---|---|---|---|---|---|---|---|---|---|---|---|---|---|---|---|---|---|---|\n",
       "\n"
      ],
      "text/plain": [
       "     SC.1 SC.2 SC.3 DE-1 DE-2 DE-3 DE-4 DE+1 DE+2 DE+3 ⋯ P5PP+1 P5PP+2 P5PE-1\n",
       "     P5PE-2 P5PE-3 P5PE-4 P5PE+1 P5PE+2 P5PE+3 P5PE+4"
      ]
     },
     "metadata": {},
     "output_type": "display_data"
    }
   ],
   "source": [
    "# we should transpose our dataframe because cor function make the cor of collums\n",
    "p = t(v)\n",
    "head(v)\n",
    "head(p)\n",
    "\n",
    "p.cor = cor(p)\n",
    "head(p.cor)\n",
    "print(\"-----------------------------------------------------------------------------------------------------------------------------\")\n",
    "\n",
    "\n",
    "dim(p.cor)\n",
    "print(\"-----------------------------------------------------------------------------------------------------------------------------\")\n",
    "\n",
    "# pheatmap(p.cor)       will make an error why? NA values\n",
    "\n",
    "# next line will delete all the rows so it doesnt help\n",
    "p.cor = na.omit(p.cor)\n",
    "dim(p.cor)\n",
    "p.cor\n",
    "\n",
    "\n",
    "#zero col. what shoul we do?"
   ]
  },
  {
   "cell_type": "markdown",
   "id": "cd4ce0cf-14c6-4b07-9b06-b16e89510fa0",
   "metadata": {},
   "source": [
    "11. lets find the solution for previous block"
   ]
  },
  {
   "cell_type": "code",
   "execution_count": 11,
   "id": "27f92a7b-9a62-44a7-82c2-549da672670e",
   "metadata": {},
   "outputs": [
    {
     "data": {
      "text/html": [
       "<table class=\"dataframe\">\n",
       "<caption>A matrix: 6 × 50 of type dbl</caption>\n",
       "<thead>\n",
       "\t<tr><th></th><th scope=col>SC.1</th><th scope=col>SC.2</th><th scope=col>SC.3</th><th scope=col>DE-1</th><th scope=col>DE-2</th><th scope=col>DE-3</th><th scope=col>DE-4</th><th scope=col>DE+1</th><th scope=col>DE+2</th><th scope=col>DE+3</th><th scope=col>⋯</th><th scope=col>P5PP+1</th><th scope=col>P5PP+2</th><th scope=col>P5PE-1</th><th scope=col>P5PE-2</th><th scope=col>P5PE-3</th><th scope=col>P5PE-4</th><th scope=col>P5PE+1</th><th scope=col>P5PE+2</th><th scope=col>P5PE+3</th><th scope=col>P5PE+4</th></tr>\n",
       "</thead>\n",
       "<tbody>\n",
       "\t<tr><th scope=row>HLXb9</th><td>1.709291</td><td>1</td><td>1</td><td>7.073606</td><td>5.559798</td><td>5.725469</td><td>7.150661</td><td>7.402842</td><td>6.678072</td><td>7.177420</td><td>⋯</td><td>6.3601887</td><td>6.3476657</td><td>3.3377111</td><td>3.8288346</td><td>3.49952702</td><td>5.3847406</td><td>2.4931349</td><td>2.6438562</td><td>3.3936908</td><td>5.0682409</td></tr>\n",
       "\t<tr><th scope=row>HHEX</th><td>1.521051</td><td>1</td><td>1</td><td>3.576522</td><td>5.241077</td><td>3.576522</td><td>5.241077</td><td>3.589763</td><td>5.241077</td><td>4.753818</td><td>⋯</td><td>4.0686708</td><td>4.0746767</td><td>0.1505597</td><td>0.8479969</td><td>0.07038933</td><td>1.2203300</td><td>0.1243281</td><td>0.1110313</td><td>0.0976108</td><td>1.1375035</td></tr>\n",
       "\t<tr><th scope=row>HNF4a</th><td>1.956057</td><td>1</td><td>1</td><td>6.381629</td><td>5.148365</td><td>4.932156</td><td>5.988117</td><td>5.460415</td><td>4.199358</td><td>3.542258</td><td>⋯</td><td>8.4854268</td><td>8.4438967</td><td>6.8774989</td><td>6.8005117</td><td>7.26341006</td><td>6.6434233</td><td>7.9835067</td><td>7.7975967</td><td>7.2489712</td><td>7.9293176</td></tr>\n",
       "\t<tr><th scope=row>ISL1</th><td>1.427606</td><td>1</td><td>1</td><td>4.804260</td><td>3.575312</td><td>4.804260</td><td>3.575312</td><td>5.358607</td><td>5.247168</td><td>5.547203</td><td>⋯</td><td>4.4356286</td><td>4.8659188</td><td>3.4776773</td><td>3.5945485</td><td>3.47767733</td><td>3.5945485</td><td>4.3334237</td><td>4.2750070</td><td>4.3334237</td><td>4.2750070</td></tr>\n",
       "\t<tr><th scope=row>NEUROD1</th><td>2.201634</td><td>1</td><td>1</td><td>2.555816</td><td>2.833902</td><td>4.074677</td><td>4.536675</td><td>2.347666</td><td>2.353323</td><td>4.919340</td><td>⋯</td><td>7.3605399</td><td>7.4403709</td><td>7.6346659</td><td>7.4450976</td><td>6.39454844</td><td>7.6690977</td><td>6.5599506</td><td>7.8722131</td><td>6.9053268</td><td>7.5910361</td></tr>\n",
       "\t<tr><th scope=row>NKX6.1</th><td>1.063503</td><td>1</td><td>1</td><td>2.157044</td><td>2.438293</td><td>2.157044</td><td>2.438293</td><td>2.087463</td><td>1.427606</td><td>2.405992</td><td>⋯</td><td>0.1243281</td><td>0.1375035</td><td>0.3219281</td><td>0.5360529</td><td>0.63226822</td><td>0.4541759</td><td>0.2016339</td><td>0.3448285</td><td>0.2387869</td><td>0.2265085</td></tr>\n",
       "</tbody>\n",
       "</table>\n"
      ],
      "text/latex": [
       "A matrix: 6 × 50 of type dbl\n",
       "\\begin{tabular}{r|lllllllllllllllllllll}\n",
       "  & SC.1 & SC.2 & SC.3 & DE-1 & DE-2 & DE-3 & DE-4 & DE+1 & DE+2 & DE+3 & ⋯ & P5PP+1 & P5PP+2 & P5PE-1 & P5PE-2 & P5PE-3 & P5PE-4 & P5PE+1 & P5PE+2 & P5PE+3 & P5PE+4\\\\\n",
       "\\hline\n",
       "\tHLXb9 & 1.709291 & 1 & 1 & 7.073606 & 5.559798 & 5.725469 & 7.150661 & 7.402842 & 6.678072 & 7.177420 & ⋯ & 6.3601887 & 6.3476657 & 3.3377111 & 3.8288346 & 3.49952702 & 5.3847406 & 2.4931349 & 2.6438562 & 3.3936908 & 5.0682409\\\\\n",
       "\tHHEX & 1.521051 & 1 & 1 & 3.576522 & 5.241077 & 3.576522 & 5.241077 & 3.589763 & 5.241077 & 4.753818 & ⋯ & 4.0686708 & 4.0746767 & 0.1505597 & 0.8479969 & 0.07038933 & 1.2203300 & 0.1243281 & 0.1110313 & 0.0976108 & 1.1375035\\\\\n",
       "\tHNF4a & 1.956057 & 1 & 1 & 6.381629 & 5.148365 & 4.932156 & 5.988117 & 5.460415 & 4.199358 & 3.542258 & ⋯ & 8.4854268 & 8.4438967 & 6.8774989 & 6.8005117 & 7.26341006 & 6.6434233 & 7.9835067 & 7.7975967 & 7.2489712 & 7.9293176\\\\\n",
       "\tISL1 & 1.427606 & 1 & 1 & 4.804260 & 3.575312 & 4.804260 & 3.575312 & 5.358607 & 5.247168 & 5.547203 & ⋯ & 4.4356286 & 4.8659188 & 3.4776773 & 3.5945485 & 3.47767733 & 3.5945485 & 4.3334237 & 4.2750070 & 4.3334237 & 4.2750070\\\\\n",
       "\tNEUROD1 & 2.201634 & 1 & 1 & 2.555816 & 2.833902 & 4.074677 & 4.536675 & 2.347666 & 2.353323 & 4.919340 & ⋯ & 7.3605399 & 7.4403709 & 7.6346659 & 7.4450976 & 6.39454844 & 7.6690977 & 6.5599506 & 7.8722131 & 6.9053268 & 7.5910361\\\\\n",
       "\tNKX6.1 & 1.063503 & 1 & 1 & 2.157044 & 2.438293 & 2.157044 & 2.438293 & 2.087463 & 1.427606 & 2.405992 & ⋯ & 0.1243281 & 0.1375035 & 0.3219281 & 0.5360529 & 0.63226822 & 0.4541759 & 0.2016339 & 0.3448285 & 0.2387869 & 0.2265085\\\\\n",
       "\\end{tabular}\n"
      ],
      "text/markdown": [
       "\n",
       "A matrix: 6 × 50 of type dbl\n",
       "\n",
       "| <!--/--> | SC.1 | SC.2 | SC.3 | DE-1 | DE-2 | DE-3 | DE-4 | DE+1 | DE+2 | DE+3 | ⋯ | P5PP+1 | P5PP+2 | P5PE-1 | P5PE-2 | P5PE-3 | P5PE-4 | P5PE+1 | P5PE+2 | P5PE+3 | P5PE+4 |\n",
       "|---|---|---|---|---|---|---|---|---|---|---|---|---|---|---|---|---|---|---|---|---|---|\n",
       "| HLXb9 | 1.709291 | 1 | 1 | 7.073606 | 5.559798 | 5.725469 | 7.150661 | 7.402842 | 6.678072 | 7.177420 | ⋯ | 6.3601887 | 6.3476657 | 3.3377111 | 3.8288346 | 3.49952702 | 5.3847406 | 2.4931349 | 2.6438562 | 3.3936908 | 5.0682409 |\n",
       "| HHEX | 1.521051 | 1 | 1 | 3.576522 | 5.241077 | 3.576522 | 5.241077 | 3.589763 | 5.241077 | 4.753818 | ⋯ | 4.0686708 | 4.0746767 | 0.1505597 | 0.8479969 | 0.07038933 | 1.2203300 | 0.1243281 | 0.1110313 | 0.0976108 | 1.1375035 |\n",
       "| HNF4a | 1.956057 | 1 | 1 | 6.381629 | 5.148365 | 4.932156 | 5.988117 | 5.460415 | 4.199358 | 3.542258 | ⋯ | 8.4854268 | 8.4438967 | 6.8774989 | 6.8005117 | 7.26341006 | 6.6434233 | 7.9835067 | 7.7975967 | 7.2489712 | 7.9293176 |\n",
       "| ISL1 | 1.427606 | 1 | 1 | 4.804260 | 3.575312 | 4.804260 | 3.575312 | 5.358607 | 5.247168 | 5.547203 | ⋯ | 4.4356286 | 4.8659188 | 3.4776773 | 3.5945485 | 3.47767733 | 3.5945485 | 4.3334237 | 4.2750070 | 4.3334237 | 4.2750070 |\n",
       "| NEUROD1 | 2.201634 | 1 | 1 | 2.555816 | 2.833902 | 4.074677 | 4.536675 | 2.347666 | 2.353323 | 4.919340 | ⋯ | 7.3605399 | 7.4403709 | 7.6346659 | 7.4450976 | 6.39454844 | 7.6690977 | 6.5599506 | 7.8722131 | 6.9053268 | 7.5910361 |\n",
       "| NKX6.1 | 1.063503 | 1 | 1 | 2.157044 | 2.438293 | 2.157044 | 2.438293 | 2.087463 | 1.427606 | 2.405992 | ⋯ | 0.1243281 | 0.1375035 | 0.3219281 | 0.5360529 | 0.63226822 | 0.4541759 | 0.2016339 | 0.3448285 | 0.2387869 | 0.2265085 |\n",
       "\n"
      ],
      "text/plain": [
       "        SC.1     SC.2 SC.3 DE-1     DE-2     DE-3     DE-4     DE+1    \n",
       "HLXb9   1.709291 1    1    7.073606 5.559798 5.725469 7.150661 7.402842\n",
       "HHEX    1.521051 1    1    3.576522 5.241077 3.576522 5.241077 3.589763\n",
       "HNF4a   1.956057 1    1    6.381629 5.148365 4.932156 5.988117 5.460415\n",
       "ISL1    1.427606 1    1    4.804260 3.575312 4.804260 3.575312 5.358607\n",
       "NEUROD1 2.201634 1    1    2.555816 2.833902 4.074677 4.536675 2.347666\n",
       "NKX6.1  1.063503 1    1    2.157044 2.438293 2.157044 2.438293 2.087463\n",
       "        DE+2     DE+3     ⋯ P5PP+1    P5PP+2    P5PE-1    P5PE-2    P5PE-3    \n",
       "HLXb9   6.678072 7.177420 ⋯ 6.3601887 6.3476657 3.3377111 3.8288346 3.49952702\n",
       "HHEX    5.241077 4.753818 ⋯ 4.0686708 4.0746767 0.1505597 0.8479969 0.07038933\n",
       "HNF4a   4.199358 3.542258 ⋯ 8.4854268 8.4438967 6.8774989 6.8005117 7.26341006\n",
       "ISL1    5.247168 5.547203 ⋯ 4.4356286 4.8659188 3.4776773 3.5945485 3.47767733\n",
       "NEUROD1 2.353323 4.919340 ⋯ 7.3605399 7.4403709 7.6346659 7.4450976 6.39454844\n",
       "NKX6.1  1.427606 2.405992 ⋯ 0.1243281 0.1375035 0.3219281 0.5360529 0.63226822\n",
       "        P5PE-4    P5PE+1    P5PE+2    P5PE+3    P5PE+4   \n",
       "HLXb9   5.3847406 2.4931349 2.6438562 3.3936908 5.0682409\n",
       "HHEX    1.2203300 0.1243281 0.1110313 0.0976108 1.1375035\n",
       "HNF4a   6.6434233 7.9835067 7.7975967 7.2489712 7.9293176\n",
       "ISL1    3.5945485 4.3334237 4.2750070 4.3334237 4.2750070\n",
       "NEUROD1 7.6690977 6.5599506 7.8722131 6.9053268 7.5910361\n",
       "NKX6.1  0.4541759 0.2016339 0.3448285 0.2387869 0.2265085"
      ]
     },
     "metadata": {},
     "output_type": "display_data"
    },
    {
     "name": "stdout",
     "output_type": "stream",
     "text": [
      "[1] \"-----------------------------------------------------------------------------------------------------------------------------\"\n"
     ]
    },
    {
     "data": {
      "text/html": [
       "<style>\n",
       ".list-inline {list-style: none; margin:0; padding: 0}\n",
       ".list-inline>li {display: inline-block}\n",
       ".list-inline>li:not(:last-child)::after {content: \"\\00b7\"; padding: 0 .5ex}\n",
       "</style>\n",
       "<ol class=list-inline><li>9</li><li>2</li></ol>\n"
      ],
      "text/latex": [
       "\\begin{enumerate*}\n",
       "\\item 9\n",
       "\\item 2\n",
       "\\end{enumerate*}\n"
      ],
      "text/markdown": [
       "1. 9\n",
       "2. 2\n",
       "\n",
       "\n"
      ],
      "text/plain": [
       "[1] 9 2"
      ]
     },
     "metadata": {},
     "output_type": "display_data"
    },
    {
     "name": "stdout",
     "output_type": "stream",
     "text": [
      "[1] \"-----------------------------------------------------------------------------------------------------------------------------\"\n"
     ]
    },
    {
     "data": {
      "text/html": [
       "<table class=\"dataframe\">\n",
       "<caption>A matrix: 6 × 50 of type dbl</caption>\n",
       "<thead>\n",
       "\t<tr><th></th><th scope=col>SC.1</th><th scope=col>SC.2</th><th scope=col>SC.3</th><th scope=col>DE-1</th><th scope=col>DE-2</th><th scope=col>DE-3</th><th scope=col>DE-4</th><th scope=col>DE+1</th><th scope=col>DE+2</th><th scope=col>DE+3</th><th scope=col>⋯</th><th scope=col>P5PP+1</th><th scope=col>P5PP+2</th><th scope=col>P5PE-1</th><th scope=col>P5PE-2</th><th scope=col>P5PE-3</th><th scope=col>P5PE-4</th><th scope=col>P5PE+1</th><th scope=col>P5PE+2</th><th scope=col>P5PE+3</th><th scope=col>P5PE+4</th></tr>\n",
       "</thead>\n",
       "<tbody>\n",
       "\t<tr><th scope=row>HLXb9</th><td>1.709291</td><td>0.9992859</td><td>0.9990984</td><td>7.073606</td><td>5.559798</td><td>5.725469</td><td>7.150661</td><td>7.402842</td><td>6.678072</td><td>7.177420</td><td>⋯</td><td>6.3601887</td><td>6.3476657</td><td>3.3377111</td><td>3.8288346</td><td>3.49952702</td><td>5.3847406</td><td>2.4931349</td><td>2.6438562</td><td>3.3936908</td><td>5.0682409</td></tr>\n",
       "\t<tr><th scope=row>HHEX</th><td>1.521051</td><td>1.0004093</td><td>0.9999245</td><td>3.576522</td><td>5.241077</td><td>3.576522</td><td>5.241077</td><td>3.589763</td><td>5.241077</td><td>4.753818</td><td>⋯</td><td>4.0686708</td><td>4.0746767</td><td>0.1505597</td><td>0.8479969</td><td>0.07038933</td><td>1.2203300</td><td>0.1243281</td><td>0.1110313</td><td>0.0976108</td><td>1.1375035</td></tr>\n",
       "\t<tr><th scope=row>HNF4a</th><td>1.956057</td><td>1.0004735</td><td>0.9994907</td><td>6.381629</td><td>5.148365</td><td>4.932156</td><td>5.988117</td><td>5.460415</td><td>4.199358</td><td>3.542258</td><td>⋯</td><td>8.4854268</td><td>8.4438967</td><td>6.8774989</td><td>6.8005117</td><td>7.26341006</td><td>6.6434233</td><td>7.9835067</td><td>7.7975967</td><td>7.2489712</td><td>7.9293176</td></tr>\n",
       "\t<tr><th scope=row>ISL1</th><td>1.427606</td><td>1.0005099</td><td>1.0005737</td><td>4.804260</td><td>3.575312</td><td>4.804260</td><td>3.575312</td><td>5.358607</td><td>5.247168</td><td>5.547203</td><td>⋯</td><td>4.4356286</td><td>4.8659188</td><td>3.4776773</td><td>3.5945485</td><td>3.47767733</td><td>3.5945485</td><td>4.3334237</td><td>4.2750070</td><td>4.3334237</td><td>4.2750070</td></tr>\n",
       "\t<tr><th scope=row>NEUROD1</th><td>2.201634</td><td>1.0005183</td><td>0.9991686</td><td>2.555816</td><td>2.833902</td><td>4.074677</td><td>4.536675</td><td>2.347666</td><td>2.353323</td><td>4.919340</td><td>⋯</td><td>7.3605399</td><td>7.4403709</td><td>7.6346659</td><td>7.4450976</td><td>6.39454844</td><td>7.6690977</td><td>6.5599506</td><td>7.8722131</td><td>6.9053268</td><td>7.5910361</td></tr>\n",
       "\t<tr><th scope=row>NKX6.1</th><td>1.063503</td><td>1.0009456</td><td>1.0005519</td><td>2.157044</td><td>2.438293</td><td>2.157044</td><td>2.438293</td><td>2.087463</td><td>1.427606</td><td>2.405992</td><td>⋯</td><td>0.1243281</td><td>0.1375035</td><td>0.3219281</td><td>0.5360529</td><td>0.63226822</td><td>0.4541759</td><td>0.2016339</td><td>0.3448285</td><td>0.2387869</td><td>0.2265085</td></tr>\n",
       "</tbody>\n",
       "</table>\n"
      ],
      "text/latex": [
       "A matrix: 6 × 50 of type dbl\n",
       "\\begin{tabular}{r|lllllllllllllllllllll}\n",
       "  & SC.1 & SC.2 & SC.3 & DE-1 & DE-2 & DE-3 & DE-4 & DE+1 & DE+2 & DE+3 & ⋯ & P5PP+1 & P5PP+2 & P5PE-1 & P5PE-2 & P5PE-3 & P5PE-4 & P5PE+1 & P5PE+2 & P5PE+3 & P5PE+4\\\\\n",
       "\\hline\n",
       "\tHLXb9 & 1.709291 & 0.9992859 & 0.9990984 & 7.073606 & 5.559798 & 5.725469 & 7.150661 & 7.402842 & 6.678072 & 7.177420 & ⋯ & 6.3601887 & 6.3476657 & 3.3377111 & 3.8288346 & 3.49952702 & 5.3847406 & 2.4931349 & 2.6438562 & 3.3936908 & 5.0682409\\\\\n",
       "\tHHEX & 1.521051 & 1.0004093 & 0.9999245 & 3.576522 & 5.241077 & 3.576522 & 5.241077 & 3.589763 & 5.241077 & 4.753818 & ⋯ & 4.0686708 & 4.0746767 & 0.1505597 & 0.8479969 & 0.07038933 & 1.2203300 & 0.1243281 & 0.1110313 & 0.0976108 & 1.1375035\\\\\n",
       "\tHNF4a & 1.956057 & 1.0004735 & 0.9994907 & 6.381629 & 5.148365 & 4.932156 & 5.988117 & 5.460415 & 4.199358 & 3.542258 & ⋯ & 8.4854268 & 8.4438967 & 6.8774989 & 6.8005117 & 7.26341006 & 6.6434233 & 7.9835067 & 7.7975967 & 7.2489712 & 7.9293176\\\\\n",
       "\tISL1 & 1.427606 & 1.0005099 & 1.0005737 & 4.804260 & 3.575312 & 4.804260 & 3.575312 & 5.358607 & 5.247168 & 5.547203 & ⋯ & 4.4356286 & 4.8659188 & 3.4776773 & 3.5945485 & 3.47767733 & 3.5945485 & 4.3334237 & 4.2750070 & 4.3334237 & 4.2750070\\\\\n",
       "\tNEUROD1 & 2.201634 & 1.0005183 & 0.9991686 & 2.555816 & 2.833902 & 4.074677 & 4.536675 & 2.347666 & 2.353323 & 4.919340 & ⋯ & 7.3605399 & 7.4403709 & 7.6346659 & 7.4450976 & 6.39454844 & 7.6690977 & 6.5599506 & 7.8722131 & 6.9053268 & 7.5910361\\\\\n",
       "\tNKX6.1 & 1.063503 & 1.0009456 & 1.0005519 & 2.157044 & 2.438293 & 2.157044 & 2.438293 & 2.087463 & 1.427606 & 2.405992 & ⋯ & 0.1243281 & 0.1375035 & 0.3219281 & 0.5360529 & 0.63226822 & 0.4541759 & 0.2016339 & 0.3448285 & 0.2387869 & 0.2265085\\\\\n",
       "\\end{tabular}\n"
      ],
      "text/markdown": [
       "\n",
       "A matrix: 6 × 50 of type dbl\n",
       "\n",
       "| <!--/--> | SC.1 | SC.2 | SC.3 | DE-1 | DE-2 | DE-3 | DE-4 | DE+1 | DE+2 | DE+3 | ⋯ | P5PP+1 | P5PP+2 | P5PE-1 | P5PE-2 | P5PE-3 | P5PE-4 | P5PE+1 | P5PE+2 | P5PE+3 | P5PE+4 |\n",
       "|---|---|---|---|---|---|---|---|---|---|---|---|---|---|---|---|---|---|---|---|---|---|\n",
       "| HLXb9 | 1.709291 | 0.9992859 | 0.9990984 | 7.073606 | 5.559798 | 5.725469 | 7.150661 | 7.402842 | 6.678072 | 7.177420 | ⋯ | 6.3601887 | 6.3476657 | 3.3377111 | 3.8288346 | 3.49952702 | 5.3847406 | 2.4931349 | 2.6438562 | 3.3936908 | 5.0682409 |\n",
       "| HHEX | 1.521051 | 1.0004093 | 0.9999245 | 3.576522 | 5.241077 | 3.576522 | 5.241077 | 3.589763 | 5.241077 | 4.753818 | ⋯ | 4.0686708 | 4.0746767 | 0.1505597 | 0.8479969 | 0.07038933 | 1.2203300 | 0.1243281 | 0.1110313 | 0.0976108 | 1.1375035 |\n",
       "| HNF4a | 1.956057 | 1.0004735 | 0.9994907 | 6.381629 | 5.148365 | 4.932156 | 5.988117 | 5.460415 | 4.199358 | 3.542258 | ⋯ | 8.4854268 | 8.4438967 | 6.8774989 | 6.8005117 | 7.26341006 | 6.6434233 | 7.9835067 | 7.7975967 | 7.2489712 | 7.9293176 |\n",
       "| ISL1 | 1.427606 | 1.0005099 | 1.0005737 | 4.804260 | 3.575312 | 4.804260 | 3.575312 | 5.358607 | 5.247168 | 5.547203 | ⋯ | 4.4356286 | 4.8659188 | 3.4776773 | 3.5945485 | 3.47767733 | 3.5945485 | 4.3334237 | 4.2750070 | 4.3334237 | 4.2750070 |\n",
       "| NEUROD1 | 2.201634 | 1.0005183 | 0.9991686 | 2.555816 | 2.833902 | 4.074677 | 4.536675 | 2.347666 | 2.353323 | 4.919340 | ⋯ | 7.3605399 | 7.4403709 | 7.6346659 | 7.4450976 | 6.39454844 | 7.6690977 | 6.5599506 | 7.8722131 | 6.9053268 | 7.5910361 |\n",
       "| NKX6.1 | 1.063503 | 1.0009456 | 1.0005519 | 2.157044 | 2.438293 | 2.157044 | 2.438293 | 2.087463 | 1.427606 | 2.405992 | ⋯ | 0.1243281 | 0.1375035 | 0.3219281 | 0.5360529 | 0.63226822 | 0.4541759 | 0.2016339 | 0.3448285 | 0.2387869 | 0.2265085 |\n",
       "\n"
      ],
      "text/plain": [
       "        SC.1     SC.2      SC.3      DE-1     DE-2     DE-3     DE-4    \n",
       "HLXb9   1.709291 0.9992859 0.9990984 7.073606 5.559798 5.725469 7.150661\n",
       "HHEX    1.521051 1.0004093 0.9999245 3.576522 5.241077 3.576522 5.241077\n",
       "HNF4a   1.956057 1.0004735 0.9994907 6.381629 5.148365 4.932156 5.988117\n",
       "ISL1    1.427606 1.0005099 1.0005737 4.804260 3.575312 4.804260 3.575312\n",
       "NEUROD1 2.201634 1.0005183 0.9991686 2.555816 2.833902 4.074677 4.536675\n",
       "NKX6.1  1.063503 1.0009456 1.0005519 2.157044 2.438293 2.157044 2.438293\n",
       "        DE+1     DE+2     DE+3     ⋯ P5PP+1    P5PP+2    P5PE-1    P5PE-2   \n",
       "HLXb9   7.402842 6.678072 7.177420 ⋯ 6.3601887 6.3476657 3.3377111 3.8288346\n",
       "HHEX    3.589763 5.241077 4.753818 ⋯ 4.0686708 4.0746767 0.1505597 0.8479969\n",
       "HNF4a   5.460415 4.199358 3.542258 ⋯ 8.4854268 8.4438967 6.8774989 6.8005117\n",
       "ISL1    5.358607 5.247168 5.547203 ⋯ 4.4356286 4.8659188 3.4776773 3.5945485\n",
       "NEUROD1 2.347666 2.353323 4.919340 ⋯ 7.3605399 7.4403709 7.6346659 7.4450976\n",
       "NKX6.1  2.087463 1.427606 2.405992 ⋯ 0.1243281 0.1375035 0.3219281 0.5360529\n",
       "        P5PE-3     P5PE-4    P5PE+1    P5PE+2    P5PE+3    P5PE+4   \n",
       "HLXb9   3.49952702 5.3847406 2.4931349 2.6438562 3.3936908 5.0682409\n",
       "HHEX    0.07038933 1.2203300 0.1243281 0.1110313 0.0976108 1.1375035\n",
       "HNF4a   7.26341006 6.6434233 7.9835067 7.7975967 7.2489712 7.9293176\n",
       "ISL1    3.47767733 3.5945485 4.3334237 4.2750070 4.3334237 4.2750070\n",
       "NEUROD1 6.39454844 7.6690977 6.5599506 7.8722131 6.9053268 7.5910361\n",
       "NKX6.1  0.63226822 0.4541759 0.2016339 0.3448285 0.2387869 0.2265085"
      ]
     },
     "metadata": {},
     "output_type": "display_data"
    },
    {
     "data": {
      "image/png": "[encoded data removed]",
      "text/plain": [
       "plot without title"
      ]
     },
     "metadata": {
      "image/png": {
       "height": 420,
       "width": 420
      }
     },
     "output_type": "display_data"
    }
   ],
   "source": [
    "head(p)\n",
    "print(\"-----------------------------------------------------------------------------------------------------------------------------\")\n",
    "\n",
    "\n",
    "# 2 collums of p are the same == standard deviation iz zero \n",
    "#== The denominator of the fraction of correlations is zero \n",
    "#== NA values in correltion \n",
    "# == all rows of cor(p) have at least 1 NA value == na.omit will delet all rows == no pheatmap\n",
    "\n",
    "# solution = chnge those 2 collums of p a little bit\n",
    "\n",
    "dim(p[,2:3])\n",
    "print(\"-----------------------------------------------------------------------------------------------------------------------------\")\n",
    "\n",
    "p[,2:3] = p[, 2:3] + runif(18, min = -0.001, max = 0.001)\n",
    "head(p)\n",
    "\n",
    "# now we can make our pheatmap of correlations ( of samples)\n",
    "p.cor = cor(p)\n",
    "pheatmap(p.cor)"
   ]
  },
  {
   "cell_type": "code",
   "execution_count": null,
   "id": "87cfa719-ef13-4478-bf80-03622fa8e409",
   "metadata": {},
   "outputs": [],
   "source": []
  }
 ],
 "metadata": {
  "kernelspec": {
   "display_name": "R",
   "language": "R",
   "name": "ir"
  },
  "language_info": {
   "codemirror_mode": "r",
   "file_extension": ".r",
   "mimetype": "text/x-r-source",
   "name": "R",
   "pygments_lexer": "r",
   "version": "4.3.1"
  }
 },
 "nbformat": 4,
 "nbformat_minor": 5
}
