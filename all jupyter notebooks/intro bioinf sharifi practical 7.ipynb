{
 "cells": [
  {
   "cell_type": "markdown",
   "id": "6ca5d05e-7d8c-4446-bb30-897854d25336",
   "metadata": {},
   "source": [
    "R Basics\n",
    "-\n",
    "Introductory Bioinformatics Sharifi Zarchi The practical sessions part 7\n",
    "-\n",
    "**sapply/apply function, creating a function & spearman correlation coeficient**\n"
   ]
  },
  {
   "cell_type": "markdown",
   "id": "12f96888-751d-45e7-93b8-02cc446fd78f",
   "metadata": {},
   "source": [
    "1. introducing spearman correlation cofficient"
   ]
  },
  {
   "cell_type": "code",
   "execution_count": 1,
   "id": "e523f4cd-e8ba-4321-86de-36e1bffa41fb",
   "metadata": {},
   "outputs": [
    {
     "data": {
      "text/html": [
       "0.974679434480896"
      ],
      "text/latex": [
       "0.974679434480896"
      ],
      "text/markdown": [
       "0.974679434480896"
      ],
      "text/plain": [
       "[1] 0.9746794"
      ]
     },
     "metadata": {},
     "output_type": "display_data"
    }
   ],
   "source": [
    "x = c(0, 4, 3, 0, 1)\n",
    "y = c(37, 39, 38, 36.8, 37.5)\n",
    "\n",
    "cor(x, y, method = \"spearman\")"
   ]
  },
  {
   "cell_type": "markdown",
   "id": "8c83cc57-edc7-4409-a666-0c6c3397a9be",
   "metadata": {},
   "source": [
    "2. File recall and initial preprocessing"
   ]
  },
  {
   "cell_type": "code",
   "execution_count": 2,
   "id": "af7b6c8f-7dfc-40fa-b2bb-bdb37a3a8d76",
   "metadata": {},
   "outputs": [
    {
     "name": "stderr",
     "output_type": "stream",
     "text": [
      "Warning message:\n",
      "\"package 'pheatmap' was built under R version 4.3.3\"\n",
      "Warning message:\n",
      "\"package 'ggplot2' was built under R version 4.3.3\"\n",
      "Warning message:\n",
      "\"package 'reshape' was built under R version 4.3.3\"\n"
     ]
    },
    {
     "data": {
      "text/html": [
       "<table class=\"dataframe\">\n",
       "<caption>A data.frame: 6 × 9</caption>\n",
       "<thead>\n",
       "\t<tr><th></th><th scope=col>HLXb9</th><th scope=col>HHEX</th><th scope=col>HNF4a</th><th scope=col>ISL1</th><th scope=col>NEUROD1</th><th scope=col>NKX6.1</th><th scope=col>PAX4</th><th scope=col>PTF1a</th><th scope=col>PDX1</th></tr>\n",
       "\t<tr><th></th><th scope=col>&lt;dbl&gt;</th><th scope=col>&lt;dbl&gt;</th><th scope=col>&lt;dbl&gt;</th><th scope=col>&lt;dbl&gt;</th><th scope=col>&lt;dbl&gt;</th><th scope=col>&lt;dbl&gt;</th><th scope=col>&lt;dbl&gt;</th><th scope=col>&lt;dbl&gt;</th><th scope=col>&lt;dbl&gt;</th></tr>\n",
       "</thead>\n",
       "<tbody>\n",
       "\t<tr><th scope=row>SC.1</th><td>1.709291</td><td>1.521051</td><td>1.956057</td><td>1.427606</td><td>2.201634</td><td>1.063503</td><td>1.195348</td><td>1.263034</td><td>1.000000</td></tr>\n",
       "\t<tr><th scope=row>SC.2</th><td>1.000000</td><td>1.000000</td><td>1.000000</td><td>1.000000</td><td>1.000000</td><td>1.000000</td><td>1.000000</td><td>1.000000</td><td>1.000000</td></tr>\n",
       "\t<tr><th scope=row>SC.3</th><td>1.000000</td><td>1.000000</td><td>1.000000</td><td>1.000000</td><td>1.000000</td><td>1.000000</td><td>1.000000</td><td>1.000000</td><td>1.000000</td></tr>\n",
       "\t<tr><th scope=row>DE-1</th><td>7.073606</td><td>3.576522</td><td>6.381629</td><td>4.804260</td><td>2.555816</td><td>2.157044</td><td>1.669027</td><td>2.084064</td><td>4.490570</td></tr>\n",
       "\t<tr><th scope=row>DE-2</th><td>5.559798</td><td>5.241077</td><td>5.148365</td><td>3.575312</td><td>2.833902</td><td>2.438293</td><td>2.150560</td><td>2.232661</td><td>3.657640</td></tr>\n",
       "\t<tr><th scope=row>DE-3</th><td>5.725469</td><td>3.576522</td><td>4.932156</td><td>4.804260</td><td>4.074677</td><td>2.157044</td><td>1.669027</td><td>2.060047</td><td>4.738768</td></tr>\n",
       "</tbody>\n",
       "</table>\n"
      ],
      "text/latex": [
       "A data.frame: 6 × 9\n",
       "\\begin{tabular}{r|lllllllll}\n",
       "  & HLXb9 & HHEX & HNF4a & ISL1 & NEUROD1 & NKX6.1 & PAX4 & PTF1a & PDX1\\\\\n",
       "  & <dbl> & <dbl> & <dbl> & <dbl> & <dbl> & <dbl> & <dbl> & <dbl> & <dbl>\\\\\n",
       "\\hline\n",
       "\tSC.1 & 1.709291 & 1.521051 & 1.956057 & 1.427606 & 2.201634 & 1.063503 & 1.195348 & 1.263034 & 1.000000\\\\\n",
       "\tSC.2 & 1.000000 & 1.000000 & 1.000000 & 1.000000 & 1.000000 & 1.000000 & 1.000000 & 1.000000 & 1.000000\\\\\n",
       "\tSC.3 & 1.000000 & 1.000000 & 1.000000 & 1.000000 & 1.000000 & 1.000000 & 1.000000 & 1.000000 & 1.000000\\\\\n",
       "\tDE-1 & 7.073606 & 3.576522 & 6.381629 & 4.804260 & 2.555816 & 2.157044 & 1.669027 & 2.084064 & 4.490570\\\\\n",
       "\tDE-2 & 5.559798 & 5.241077 & 5.148365 & 3.575312 & 2.833902 & 2.438293 & 2.150560 & 2.232661 & 3.657640\\\\\n",
       "\tDE-3 & 5.725469 & 3.576522 & 4.932156 & 4.804260 & 4.074677 & 2.157044 & 1.669027 & 2.060047 & 4.738768\\\\\n",
       "\\end{tabular}\n"
      ],
      "text/markdown": [
       "\n",
       "A data.frame: 6 × 9\n",
       "\n",
       "| <!--/--> | HLXb9 &lt;dbl&gt; | HHEX &lt;dbl&gt; | HNF4a &lt;dbl&gt; | ISL1 &lt;dbl&gt; | NEUROD1 &lt;dbl&gt; | NKX6.1 &lt;dbl&gt; | PAX4 &lt;dbl&gt; | PTF1a &lt;dbl&gt; | PDX1 &lt;dbl&gt; |\n",
       "|---|---|---|---|---|---|---|---|---|---|\n",
       "| SC.1 | 1.709291 | 1.521051 | 1.956057 | 1.427606 | 2.201634 | 1.063503 | 1.195348 | 1.263034 | 1.000000 |\n",
       "| SC.2 | 1.000000 | 1.000000 | 1.000000 | 1.000000 | 1.000000 | 1.000000 | 1.000000 | 1.000000 | 1.000000 |\n",
       "| SC.3 | 1.000000 | 1.000000 | 1.000000 | 1.000000 | 1.000000 | 1.000000 | 1.000000 | 1.000000 | 1.000000 |\n",
       "| DE-1 | 7.073606 | 3.576522 | 6.381629 | 4.804260 | 2.555816 | 2.157044 | 1.669027 | 2.084064 | 4.490570 |\n",
       "| DE-2 | 5.559798 | 5.241077 | 5.148365 | 3.575312 | 2.833902 | 2.438293 | 2.150560 | 2.232661 | 3.657640 |\n",
       "| DE-3 | 5.725469 | 3.576522 | 4.932156 | 4.804260 | 4.074677 | 2.157044 | 1.669027 | 2.060047 | 4.738768 |\n",
       "\n"
      ],
      "text/plain": [
       "     HLXb9    HHEX     HNF4a    ISL1     NEUROD1  NKX6.1   PAX4     PTF1a   \n",
       "SC.1 1.709291 1.521051 1.956057 1.427606 2.201634 1.063503 1.195348 1.263034\n",
       "SC.2 1.000000 1.000000 1.000000 1.000000 1.000000 1.000000 1.000000 1.000000\n",
       "SC.3 1.000000 1.000000 1.000000 1.000000 1.000000 1.000000 1.000000 1.000000\n",
       "DE-1 7.073606 3.576522 6.381629 4.804260 2.555816 2.157044 1.669027 2.084064\n",
       "DE-2 5.559798 5.241077 5.148365 3.575312 2.833902 2.438293 2.150560 2.232661\n",
       "DE-3 5.725469 3.576522 4.932156 4.804260 4.074677 2.157044 1.669027 2.060047\n",
       "     PDX1    \n",
       "SC.1 1.000000\n",
       "SC.2 1.000000\n",
       "SC.3 1.000000\n",
       "DE-1 4.490570\n",
       "DE-2 3.657640\n",
       "DE-3 4.738768"
      ]
     },
     "metadata": {},
     "output_type": "display_data"
    }
   ],
   "source": [
    "library(pheatmap)\n",
    "library(ggplot2)\n",
    "library(reshape)\n",
    "x = read.delim(\"C:/Users/abolf/Desktop/jupyter train/intro bioinf sharifi practical/SharifiZarchi-bio/Data/Endoderm.txt\")\n",
    "rownames(x) = x[,1]\n",
    "x = x[,-1]\n",
    "x = log2(x+1)\n",
    "head(x)"
   ]
  },
  {
   "cell_type": "markdown",
   "id": "d578883b-548c-40d5-affb-bfd778802a54",
   "metadata": {},
   "source": [
    "3. using spearman in our pheatmap but there is a problem ..."
   ]
  },
  {
   "cell_type": "code",
   "execution_count": 3,
   "id": "2eb960b5-70ce-458d-9971-11fd4e7af6c4",
   "metadata": {},
   "outputs": [
    {
     "data": {
      "image/png": "[encoded data removed]",
      "text/plain": [
       "plot without title"
      ]
     },
     "metadata": {
      "image/png": {
       "height": 420,
       "width": 420
      }
     },
     "output_type": "display_data"
    }
   ],
   "source": [
    "pheatmap(x)\n",
    "\n",
    "#pheatmap(x, clustering_distance_rows = \"correlation\", clustering_distance_cols = \"correlation\" )\n",
    "# error why?\n"
   ]
  },
  {
   "cell_type": "markdown",
   "id": "deaf9516-65b8-4858-8974-00ef78fe60e0",
   "metadata": {},
   "source": [
    "4. lets check the file to see what the problem is"
   ]
  },
  {
   "cell_type": "code",
   "execution_count": 4,
   "id": "30d3464e-2f45-4287-aeb0-498daf52e0ad",
   "metadata": {},
   "outputs": [
    {
     "data": {
      "text/html": [
       "<style>\n",
       ".list-inline {list-style: none; margin:0; padding: 0}\n",
       ".list-inline>li {display: inline-block}\n",
       ".list-inline>li:not(:last-child)::after {content: \"\\00b7\"; padding: 0 .5ex}\n",
       "</style>\n",
       "<ol class=list-inline><li>'HLXb9'</li><li>'HHEX'</li><li>'HNF4a'</li><li>'ISL1'</li><li>'NEUROD1'</li><li>'NKX6.1'</li><li>'PAX4'</li><li>'PTF1a'</li><li>'PDX1'</li></ol>\n"
      ],
      "text/latex": [
       "\\begin{enumerate*}\n",
       "\\item 'HLXb9'\n",
       "\\item 'HHEX'\n",
       "\\item 'HNF4a'\n",
       "\\item 'ISL1'\n",
       "\\item 'NEUROD1'\n",
       "\\item 'NKX6.1'\n",
       "\\item 'PAX4'\n",
       "\\item 'PTF1a'\n",
       "\\item 'PDX1'\n",
       "\\end{enumerate*}\n"
      ],
      "text/markdown": [
       "1. 'HLXb9'\n",
       "2. 'HHEX'\n",
       "3. 'HNF4a'\n",
       "4. 'ISL1'\n",
       "5. 'NEUROD1'\n",
       "6. 'NKX6.1'\n",
       "7. 'PAX4'\n",
       "8. 'PTF1a'\n",
       "9. 'PDX1'\n",
       "\n",
       "\n"
      ],
      "text/plain": [
       "[1] \"HLXb9\"   \"HHEX\"    \"HNF4a\"   \"ISL1\"    \"NEUROD1\" \"NKX6.1\"  \"PAX4\"   \n",
       "[8] \"PTF1a\"   \"PDX1\"   "
      ]
     },
     "metadata": {},
     "output_type": "display_data"
    },
    {
     "data": {
      "text/html": [
       "<style>\n",
       ".list-inline {list-style: none; margin:0; padding: 0}\n",
       ".list-inline>li {display: inline-block}\n",
       ".list-inline>li:not(:last-child)::after {content: \"\\00b7\"; padding: 0 .5ex}\n",
       "</style>\n",
       "<ol class=list-inline><li>'SC.1'</li><li>'SC.2'</li><li>'SC.3'</li><li>'DE-1'</li><li>'DE-2'</li><li>'DE-3'</li><li>'DE-4'</li><li>'DE+1'</li><li>'DE+2'</li><li>'DE+3'</li><li>'P2PP-1'</li><li>'P2PP-2'</li><li>'P2PP-3'</li><li>'P2PP-4'</li><li>'P2PP+1'</li><li>'P2PP+2'</li><li>'P2PP+3'</li><li>'P2PP+4'</li><li>'P2PE-1'</li><li>'P2PE-2'</li><li>'P2PE-3'</li><li>'P2PE-4'</li><li>'P2PE+1'</li><li>'P2PE+2'</li><li>'P2PE+3'</li><li>'P2PE+4'</li><li>'P3PP-1'</li><li>'P3PP-2'</li><li>'P3PP-3'</li><li>'P3PP+1'</li><li>'P3PP+2'</li><li>'P3PP+3'</li><li>'P3PE-1'</li><li>'P3PE-2'</li><li>'P3PE-3'</li><li>'P3PE-4'</li><li>'P3PE+1'</li><li>'P3PE+2'</li><li>'P3PE+3'</li><li>'P3PE+4'</li><li>'P5PP-1'</li><li>'P5PP-2'</li><li>'P5PP+1'</li><li>'P5PP+2'</li><li>'P5PE-1'</li><li>'P5PE-2'</li><li>'P5PE-3'</li><li>'P5PE-4'</li><li>'P5PE+1'</li><li>'P5PE+2'</li><li>'P5PE+3'</li><li>'P5PE+4'</li></ol>\n"
      ],
      "text/latex": [
       "\\begin{enumerate*}\n",
       "\\item 'SC.1'\n",
       "\\item 'SC.2'\n",
       "\\item 'SC.3'\n",
       "\\item 'DE-1'\n",
       "\\item 'DE-2'\n",
       "\\item 'DE-3'\n",
       "\\item 'DE-4'\n",
       "\\item 'DE+1'\n",
       "\\item 'DE+2'\n",
       "\\item 'DE+3'\n",
       "\\item 'P2PP-1'\n",
       "\\item 'P2PP-2'\n",
       "\\item 'P2PP-3'\n",
       "\\item 'P2PP-4'\n",
       "\\item 'P2PP+1'\n",
       "\\item 'P2PP+2'\n",
       "\\item 'P2PP+3'\n",
       "\\item 'P2PP+4'\n",
       "\\item 'P2PE-1'\n",
       "\\item 'P2PE-2'\n",
       "\\item 'P2PE-3'\n",
       "\\item 'P2PE-4'\n",
       "\\item 'P2PE+1'\n",
       "\\item 'P2PE+2'\n",
       "\\item 'P2PE+3'\n",
       "\\item 'P2PE+4'\n",
       "\\item 'P3PP-1'\n",
       "\\item 'P3PP-2'\n",
       "\\item 'P3PP-3'\n",
       "\\item 'P3PP+1'\n",
       "\\item 'P3PP+2'\n",
       "\\item 'P3PP+3'\n",
       "\\item 'P3PE-1'\n",
       "\\item 'P3PE-2'\n",
       "\\item 'P3PE-3'\n",
       "\\item 'P3PE-4'\n",
       "\\item 'P3PE+1'\n",
       "\\item 'P3PE+2'\n",
       "\\item 'P3PE+3'\n",
       "\\item 'P3PE+4'\n",
       "\\item 'P5PP-1'\n",
       "\\item 'P5PP-2'\n",
       "\\item 'P5PP+1'\n",
       "\\item 'P5PP+2'\n",
       "\\item 'P5PE-1'\n",
       "\\item 'P5PE-2'\n",
       "\\item 'P5PE-3'\n",
       "\\item 'P5PE-4'\n",
       "\\item 'P5PE+1'\n",
       "\\item 'P5PE+2'\n",
       "\\item 'P5PE+3'\n",
       "\\item 'P5PE+4'\n",
       "\\end{enumerate*}\n"
      ],
      "text/markdown": [
       "1. 'SC.1'\n",
       "2. 'SC.2'\n",
       "3. 'SC.3'\n",
       "4. 'DE-1'\n",
       "5. 'DE-2'\n",
       "6. 'DE-3'\n",
       "7. 'DE-4'\n",
       "8. 'DE+1'\n",
       "9. 'DE+2'\n",
       "10. 'DE+3'\n",
       "11. 'P2PP-1'\n",
       "12. 'P2PP-2'\n",
       "13. 'P2PP-3'\n",
       "14. 'P2PP-4'\n",
       "15. 'P2PP+1'\n",
       "16. 'P2PP+2'\n",
       "17. 'P2PP+3'\n",
       "18. 'P2PP+4'\n",
       "19. 'P2PE-1'\n",
       "20. 'P2PE-2'\n",
       "21. 'P2PE-3'\n",
       "22. 'P2PE-4'\n",
       "23. 'P2PE+1'\n",
       "24. 'P2PE+2'\n",
       "25. 'P2PE+3'\n",
       "26. 'P2PE+4'\n",
       "27. 'P3PP-1'\n",
       "28. 'P3PP-2'\n",
       "29. 'P3PP-3'\n",
       "30. 'P3PP+1'\n",
       "31. 'P3PP+2'\n",
       "32. 'P3PP+3'\n",
       "33. 'P3PE-1'\n",
       "34. 'P3PE-2'\n",
       "35. 'P3PE-3'\n",
       "36. 'P3PE-4'\n",
       "37. 'P3PE+1'\n",
       "38. 'P3PE+2'\n",
       "39. 'P3PE+3'\n",
       "40. 'P3PE+4'\n",
       "41. 'P5PP-1'\n",
       "42. 'P5PP-2'\n",
       "43. 'P5PP+1'\n",
       "44. 'P5PP+2'\n",
       "45. 'P5PE-1'\n",
       "46. 'P5PE-2'\n",
       "47. 'P5PE-3'\n",
       "48. 'P5PE-4'\n",
       "49. 'P5PE+1'\n",
       "50. 'P5PE+2'\n",
       "51. 'P5PE+3'\n",
       "52. 'P5PE+4'\n",
       "\n",
       "\n"
      ],
      "text/plain": [
       " [1] \"SC.1\"   \"SC.2\"   \"SC.3\"   \"DE-1\"   \"DE-2\"   \"DE-3\"   \"DE-4\"   \"DE+1\"  \n",
       " [9] \"DE+2\"   \"DE+3\"   \"P2PP-1\" \"P2PP-2\" \"P2PP-3\" \"P2PP-4\" \"P2PP+1\" \"P2PP+2\"\n",
       "[17] \"P2PP+3\" \"P2PP+4\" \"P2PE-1\" \"P2PE-2\" \"P2PE-3\" \"P2PE-4\" \"P2PE+1\" \"P2PE+2\"\n",
       "[25] \"P2PE+3\" \"P2PE+4\" \"P3PP-1\" \"P3PP-2\" \"P3PP-3\" \"P3PP+1\" \"P3PP+2\" \"P3PP+3\"\n",
       "[33] \"P3PE-1\" \"P3PE-2\" \"P3PE-3\" \"P3PE-4\" \"P3PE+1\" \"P3PE+2\" \"P3PE+3\" \"P3PE+4\"\n",
       "[41] \"P5PP-1\" \"P5PP-2\" \"P5PP+1\" \"P5PP+2\" \"P5PE-1\" \"P5PE-2\" \"P5PE-3\" \"P5PE-4\"\n",
       "[49] \"P5PE+1\" \"P5PE+2\" \"P5PE+3\" \"P5PE+4\""
      ]
     },
     "metadata": {},
     "output_type": "display_data"
    },
    {
     "data": {
      "text/html": [
       "<table class=\"dataframe\">\n",
       "<caption>A data.frame: 6 × 9</caption>\n",
       "<thead>\n",
       "\t<tr><th></th><th scope=col>HLXb9</th><th scope=col>HHEX</th><th scope=col>HNF4a</th><th scope=col>ISL1</th><th scope=col>NEUROD1</th><th scope=col>NKX6.1</th><th scope=col>PAX4</th><th scope=col>PTF1a</th><th scope=col>PDX1</th></tr>\n",
       "\t<tr><th></th><th scope=col>&lt;dbl&gt;</th><th scope=col>&lt;dbl&gt;</th><th scope=col>&lt;dbl&gt;</th><th scope=col>&lt;dbl&gt;</th><th scope=col>&lt;dbl&gt;</th><th scope=col>&lt;dbl&gt;</th><th scope=col>&lt;dbl&gt;</th><th scope=col>&lt;dbl&gt;</th><th scope=col>&lt;dbl&gt;</th></tr>\n",
       "</thead>\n",
       "<tbody>\n",
       "\t<tr><th scope=row>SC.1</th><td>1.709291</td><td>1.521051</td><td>1.956057</td><td>1.427606</td><td>2.201634</td><td>1.063503</td><td>1.195348</td><td>1.263034</td><td>1.000000</td></tr>\n",
       "\t<tr><th scope=row>SC.2</th><td>1.000000</td><td>1.000000</td><td>1.000000</td><td>1.000000</td><td>1.000000</td><td>1.000000</td><td>1.000000</td><td>1.000000</td><td>1.000000</td></tr>\n",
       "\t<tr><th scope=row>SC.3</th><td>1.000000</td><td>1.000000</td><td>1.000000</td><td>1.000000</td><td>1.000000</td><td>1.000000</td><td>1.000000</td><td>1.000000</td><td>1.000000</td></tr>\n",
       "\t<tr><th scope=row>DE-1</th><td>7.073606</td><td>3.576522</td><td>6.381629</td><td>4.804260</td><td>2.555816</td><td>2.157044</td><td>1.669027</td><td>2.084064</td><td>4.490570</td></tr>\n",
       "\t<tr><th scope=row>DE-2</th><td>5.559798</td><td>5.241077</td><td>5.148365</td><td>3.575312</td><td>2.833902</td><td>2.438293</td><td>2.150560</td><td>2.232661</td><td>3.657640</td></tr>\n",
       "\t<tr><th scope=row>DE-3</th><td>5.725469</td><td>3.576522</td><td>4.932156</td><td>4.804260</td><td>4.074677</td><td>2.157044</td><td>1.669027</td><td>2.060047</td><td>4.738768</td></tr>\n",
       "</tbody>\n",
       "</table>\n"
      ],
      "text/latex": [
       "A data.frame: 6 × 9\n",
       "\\begin{tabular}{r|lllllllll}\n",
       "  & HLXb9 & HHEX & HNF4a & ISL1 & NEUROD1 & NKX6.1 & PAX4 & PTF1a & PDX1\\\\\n",
       "  & <dbl> & <dbl> & <dbl> & <dbl> & <dbl> & <dbl> & <dbl> & <dbl> & <dbl>\\\\\n",
       "\\hline\n",
       "\tSC.1 & 1.709291 & 1.521051 & 1.956057 & 1.427606 & 2.201634 & 1.063503 & 1.195348 & 1.263034 & 1.000000\\\\\n",
       "\tSC.2 & 1.000000 & 1.000000 & 1.000000 & 1.000000 & 1.000000 & 1.000000 & 1.000000 & 1.000000 & 1.000000\\\\\n",
       "\tSC.3 & 1.000000 & 1.000000 & 1.000000 & 1.000000 & 1.000000 & 1.000000 & 1.000000 & 1.000000 & 1.000000\\\\\n",
       "\tDE-1 & 7.073606 & 3.576522 & 6.381629 & 4.804260 & 2.555816 & 2.157044 & 1.669027 & 2.084064 & 4.490570\\\\\n",
       "\tDE-2 & 5.559798 & 5.241077 & 5.148365 & 3.575312 & 2.833902 & 2.438293 & 2.150560 & 2.232661 & 3.657640\\\\\n",
       "\tDE-3 & 5.725469 & 3.576522 & 4.932156 & 4.804260 & 4.074677 & 2.157044 & 1.669027 & 2.060047 & 4.738768\\\\\n",
       "\\end{tabular}\n"
      ],
      "text/markdown": [
       "\n",
       "A data.frame: 6 × 9\n",
       "\n",
       "| <!--/--> | HLXb9 &lt;dbl&gt; | HHEX &lt;dbl&gt; | HNF4a &lt;dbl&gt; | ISL1 &lt;dbl&gt; | NEUROD1 &lt;dbl&gt; | NKX6.1 &lt;dbl&gt; | PAX4 &lt;dbl&gt; | PTF1a &lt;dbl&gt; | PDX1 &lt;dbl&gt; |\n",
       "|---|---|---|---|---|---|---|---|---|---|\n",
       "| SC.1 | 1.709291 | 1.521051 | 1.956057 | 1.427606 | 2.201634 | 1.063503 | 1.195348 | 1.263034 | 1.000000 |\n",
       "| SC.2 | 1.000000 | 1.000000 | 1.000000 | 1.000000 | 1.000000 | 1.000000 | 1.000000 | 1.000000 | 1.000000 |\n",
       "| SC.3 | 1.000000 | 1.000000 | 1.000000 | 1.000000 | 1.000000 | 1.000000 | 1.000000 | 1.000000 | 1.000000 |\n",
       "| DE-1 | 7.073606 | 3.576522 | 6.381629 | 4.804260 | 2.555816 | 2.157044 | 1.669027 | 2.084064 | 4.490570 |\n",
       "| DE-2 | 5.559798 | 5.241077 | 5.148365 | 3.575312 | 2.833902 | 2.438293 | 2.150560 | 2.232661 | 3.657640 |\n",
       "| DE-3 | 5.725469 | 3.576522 | 4.932156 | 4.804260 | 4.074677 | 2.157044 | 1.669027 | 2.060047 | 4.738768 |\n",
       "\n"
      ],
      "text/plain": [
       "     HLXb9    HHEX     HNF4a    ISL1     NEUROD1  NKX6.1   PAX4     PTF1a   \n",
       "SC.1 1.709291 1.521051 1.956057 1.427606 2.201634 1.063503 1.195348 1.263034\n",
       "SC.2 1.000000 1.000000 1.000000 1.000000 1.000000 1.000000 1.000000 1.000000\n",
       "SC.3 1.000000 1.000000 1.000000 1.000000 1.000000 1.000000 1.000000 1.000000\n",
       "DE-1 7.073606 3.576522 6.381629 4.804260 2.555816 2.157044 1.669027 2.084064\n",
       "DE-2 5.559798 5.241077 5.148365 3.575312 2.833902 2.438293 2.150560 2.232661\n",
       "DE-3 5.725469 3.576522 4.932156 4.804260 4.074677 2.157044 1.669027 2.060047\n",
       "     PDX1    \n",
       "SC.1 1.000000\n",
       "SC.2 1.000000\n",
       "SC.3 1.000000\n",
       "DE-1 4.490570\n",
       "DE-2 3.657640\n",
       "DE-3 4.738768"
      ]
     },
     "metadata": {},
     "output_type": "display_data"
    }
   ],
   "source": [
    "colnames(x)\n",
    "rownames(x)\n",
    "head(x)\n",
    "\n",
    "#SC.2 & SC.3 are the same ==> standard deviation is zero ==> spearman is na"
   ]
  },
  {
   "cell_type": "markdown",
   "id": "86fc773b-bd2d-44f8-8dd8-bb99e9a73221",
   "metadata": {},
   "source": [
    "5. found the problem? go for debugging"
   ]
  },
  {
   "cell_type": "code",
   "execution_count": 5,
   "id": "512aab00-2175-4988-aacd-b0f32b299903",
   "metadata": {},
   "outputs": [
    {
     "data": {
      "text/html": [
       "<table class=\"dataframe\">\n",
       "<caption>A data.frame: 6 × 9</caption>\n",
       "<thead>\n",
       "\t<tr><th></th><th scope=col>HLXb9</th><th scope=col>HHEX</th><th scope=col>HNF4a</th><th scope=col>ISL1</th><th scope=col>NEUROD1</th><th scope=col>NKX6.1</th><th scope=col>PAX4</th><th scope=col>PTF1a</th><th scope=col>PDX1</th></tr>\n",
       "\t<tr><th></th><th scope=col>&lt;dbl&gt;</th><th scope=col>&lt;dbl&gt;</th><th scope=col>&lt;dbl&gt;</th><th scope=col>&lt;dbl&gt;</th><th scope=col>&lt;dbl&gt;</th><th scope=col>&lt;dbl&gt;</th><th scope=col>&lt;dbl&gt;</th><th scope=col>&lt;dbl&gt;</th><th scope=col>&lt;dbl&gt;</th></tr>\n",
       "</thead>\n",
       "<tbody>\n",
       "\t<tr><th scope=row>SC.1</th><td>1.709291</td><td>1.521051</td><td>1.956057</td><td>1.427606</td><td>2.201634</td><td>1.063503</td><td>1.195348</td><td>1.263034</td><td>1.000000</td></tr>\n",
       "\t<tr><th scope=row>DE-1</th><td>7.073606</td><td>3.576522</td><td>6.381629</td><td>4.804260</td><td>2.555816</td><td>2.157044</td><td>1.669027</td><td>2.084064</td><td>4.490570</td></tr>\n",
       "\t<tr><th scope=row>DE-2</th><td>5.559798</td><td>5.241077</td><td>5.148365</td><td>3.575312</td><td>2.833902</td><td>2.438293</td><td>2.150560</td><td>2.232661</td><td>3.657640</td></tr>\n",
       "\t<tr><th scope=row>DE-3</th><td>5.725469</td><td>3.576522</td><td>4.932156</td><td>4.804260</td><td>4.074677</td><td>2.157044</td><td>1.669027</td><td>2.060047</td><td>4.738768</td></tr>\n",
       "\t<tr><th scope=row>DE-4</th><td>7.150661</td><td>5.241077</td><td>5.988117</td><td>3.575312</td><td>4.536675</td><td>2.438293</td><td>2.150560</td><td>1.682573</td><td>3.940167</td></tr>\n",
       "\t<tr><th scope=row>DE+1</th><td>7.402842</td><td>3.589763</td><td>5.460415</td><td>5.358607</td><td>2.347666</td><td>2.087463</td><td>1.883621</td><td>2.321928</td><td>2.817623</td></tr>\n",
       "</tbody>\n",
       "</table>\n"
      ],
      "text/latex": [
       "A data.frame: 6 × 9\n",
       "\\begin{tabular}{r|lllllllll}\n",
       "  & HLXb9 & HHEX & HNF4a & ISL1 & NEUROD1 & NKX6.1 & PAX4 & PTF1a & PDX1\\\\\n",
       "  & <dbl> & <dbl> & <dbl> & <dbl> & <dbl> & <dbl> & <dbl> & <dbl> & <dbl>\\\\\n",
       "\\hline\n",
       "\tSC.1 & 1.709291 & 1.521051 & 1.956057 & 1.427606 & 2.201634 & 1.063503 & 1.195348 & 1.263034 & 1.000000\\\\\n",
       "\tDE-1 & 7.073606 & 3.576522 & 6.381629 & 4.804260 & 2.555816 & 2.157044 & 1.669027 & 2.084064 & 4.490570\\\\\n",
       "\tDE-2 & 5.559798 & 5.241077 & 5.148365 & 3.575312 & 2.833902 & 2.438293 & 2.150560 & 2.232661 & 3.657640\\\\\n",
       "\tDE-3 & 5.725469 & 3.576522 & 4.932156 & 4.804260 & 4.074677 & 2.157044 & 1.669027 & 2.060047 & 4.738768\\\\\n",
       "\tDE-4 & 7.150661 & 5.241077 & 5.988117 & 3.575312 & 4.536675 & 2.438293 & 2.150560 & 1.682573 & 3.940167\\\\\n",
       "\tDE+1 & 7.402842 & 3.589763 & 5.460415 & 5.358607 & 2.347666 & 2.087463 & 1.883621 & 2.321928 & 2.817623\\\\\n",
       "\\end{tabular}\n"
      ],
      "text/markdown": [
       "\n",
       "A data.frame: 6 × 9\n",
       "\n",
       "| <!--/--> | HLXb9 &lt;dbl&gt; | HHEX &lt;dbl&gt; | HNF4a &lt;dbl&gt; | ISL1 &lt;dbl&gt; | NEUROD1 &lt;dbl&gt; | NKX6.1 &lt;dbl&gt; | PAX4 &lt;dbl&gt; | PTF1a &lt;dbl&gt; | PDX1 &lt;dbl&gt; |\n",
       "|---|---|---|---|---|---|---|---|---|---|\n",
       "| SC.1 | 1.709291 | 1.521051 | 1.956057 | 1.427606 | 2.201634 | 1.063503 | 1.195348 | 1.263034 | 1.000000 |\n",
       "| DE-1 | 7.073606 | 3.576522 | 6.381629 | 4.804260 | 2.555816 | 2.157044 | 1.669027 | 2.084064 | 4.490570 |\n",
       "| DE-2 | 5.559798 | 5.241077 | 5.148365 | 3.575312 | 2.833902 | 2.438293 | 2.150560 | 2.232661 | 3.657640 |\n",
       "| DE-3 | 5.725469 | 3.576522 | 4.932156 | 4.804260 | 4.074677 | 2.157044 | 1.669027 | 2.060047 | 4.738768 |\n",
       "| DE-4 | 7.150661 | 5.241077 | 5.988117 | 3.575312 | 4.536675 | 2.438293 | 2.150560 | 1.682573 | 3.940167 |\n",
       "| DE+1 | 7.402842 | 3.589763 | 5.460415 | 5.358607 | 2.347666 | 2.087463 | 1.883621 | 2.321928 | 2.817623 |\n",
       "\n"
      ],
      "text/plain": [
       "     HLXb9    HHEX     HNF4a    ISL1     NEUROD1  NKX6.1   PAX4     PTF1a   \n",
       "SC.1 1.709291 1.521051 1.956057 1.427606 2.201634 1.063503 1.195348 1.263034\n",
       "DE-1 7.073606 3.576522 6.381629 4.804260 2.555816 2.157044 1.669027 2.084064\n",
       "DE-2 5.559798 5.241077 5.148365 3.575312 2.833902 2.438293 2.150560 2.232661\n",
       "DE-3 5.725469 3.576522 4.932156 4.804260 4.074677 2.157044 1.669027 2.060047\n",
       "DE-4 7.150661 5.241077 5.988117 3.575312 4.536675 2.438293 2.150560 1.682573\n",
       "DE+1 7.402842 3.589763 5.460415 5.358607 2.347666 2.087463 1.883621 2.321928\n",
       "     PDX1    \n",
       "SC.1 1.000000\n",
       "DE-1 4.490570\n",
       "DE-2 3.657640\n",
       "DE-3 4.738768\n",
       "DE-4 3.940167\n",
       "DE+1 2.817623"
      ]
     },
     "metadata": {},
     "output_type": "display_data"
    },
    {
     "data": {
      "image/png": "[encoded data removed]",
      "text/plain": [
       "plot without title"
      ]
     },
     "metadata": {
      "image/png": {
       "height": 420,
       "width": 420
      }
     },
     "output_type": "display_data"
    },
    {
     "data": {
      "image/png": "[encoded data removed]",
      "text/plain": [
       "plot without title"
      ]
     },
     "metadata": {
      "image/png": {
       "height": 420,
       "width": 420
      }
     },
     "output_type": "display_data"
    }
   ],
   "source": [
    "x<- na.omit(x)\n",
    "x<- x[-2:-3,]\n",
    "head(x)\n",
    "pheatmap(x)\n",
    "\n",
    "pheatmap(x, clustering_distance_cols = \"correlation\", clustering_distance_rows = \"correlation\")\n"
   ]
  },
  {
   "cell_type": "markdown",
   "id": "106fd1ec-c255-4222-a573-731476871c7f",
   "metadata": {},
   "source": [
    "6. now lets see the data in better angel : some plots & specific cors"
   ]
  },
  {
   "cell_type": "code",
   "execution_count": 6,
   "id": "7c24ce82-7371-4da1-bc19-22fa000e7b68",
   "metadata": {},
   "outputs": [
    {
     "data": {
      "text/html": [
       "<table class=\"dataframe\">\n",
       "<caption>A matrix: 2 × 2 of type dbl</caption>\n",
       "<thead>\n",
       "\t<tr><th></th><th scope=col>HHEX</th><th scope=col>HLXb9</th></tr>\n",
       "</thead>\n",
       "<tbody>\n",
       "\t<tr><th scope=row>HHEX</th><td>1.0000000</td><td>0.8057776</td></tr>\n",
       "\t<tr><th scope=row>HLXb9</th><td>0.8057776</td><td>1.0000000</td></tr>\n",
       "</tbody>\n",
       "</table>\n"
      ],
      "text/latex": [
       "A matrix: 2 × 2 of type dbl\n",
       "\\begin{tabular}{r|ll}\n",
       "  & HHEX & HLXb9\\\\\n",
       "\\hline\n",
       "\tHHEX & 1.0000000 & 0.8057776\\\\\n",
       "\tHLXb9 & 0.8057776 & 1.0000000\\\\\n",
       "\\end{tabular}\n"
      ],
      "text/markdown": [
       "\n",
       "A matrix: 2 × 2 of type dbl\n",
       "\n",
       "| <!--/--> | HHEX | HLXb9 |\n",
       "|---|---|---|\n",
       "| HHEX | 1.0000000 | 0.8057776 |\n",
       "| HLXb9 | 0.8057776 | 1.0000000 |\n",
       "\n"
      ],
      "text/plain": [
       "      HHEX      HLXb9    \n",
       "HHEX  1.0000000 0.8057776\n",
       "HLXb9 0.8057776 1.0000000"
      ]
     },
     "metadata": {},
     "output_type": "display_data"
    },
    {
     "data": {
      "text/html": [
       "<table class=\"dataframe\">\n",
       "<caption>A matrix: 2 × 2 of type dbl</caption>\n",
       "<thead>\n",
       "\t<tr><th></th><th scope=col>ISL1</th><th scope=col>HLXb9</th></tr>\n",
       "</thead>\n",
       "<tbody>\n",
       "\t<tr><th scope=row>ISL1</th><td>1.0000000</td><td>0.3941828</td></tr>\n",
       "\t<tr><th scope=row>HLXb9</th><td>0.3941828</td><td>1.0000000</td></tr>\n",
       "</tbody>\n",
       "</table>\n"
      ],
      "text/latex": [
       "A matrix: 2 × 2 of type dbl\n",
       "\\begin{tabular}{r|ll}\n",
       "  & ISL1 & HLXb9\\\\\n",
       "\\hline\n",
       "\tISL1 & 1.0000000 & 0.3941828\\\\\n",
       "\tHLXb9 & 0.3941828 & 1.0000000\\\\\n",
       "\\end{tabular}\n"
      ],
      "text/markdown": [
       "\n",
       "A matrix: 2 × 2 of type dbl\n",
       "\n",
       "| <!--/--> | ISL1 | HLXb9 |\n",
       "|---|---|---|\n",
       "| ISL1 | 1.0000000 | 0.3941828 |\n",
       "| HLXb9 | 0.3941828 | 1.0000000 |\n",
       "\n"
      ],
      "text/plain": [
       "      ISL1      HLXb9    \n",
       "ISL1  1.0000000 0.3941828\n",
       "HLXb9 0.3941828 1.0000000"
      ]
     },
     "metadata": {},
     "output_type": "display_data"
    },
    {
     "name": "stderr",
     "output_type": "stream",
     "text": [
      "\u001b[1m\u001b[22m`geom_smooth()` using formula = 'y ~ x'\n"
     ]
    },
    {
     "data": {
      "image/png": "[encoded data removed]",
      "text/plain": [
       "plot without title"
      ]
     },
     "metadata": {
      "image/png": {
       "height": 420,
       "width": 420
      }
     },
     "output_type": "display_data"
    },
    {
     "name": "stderr",
     "output_type": "stream",
     "text": [
      "\u001b[1m\u001b[22m`geom_smooth()` using formula = 'y ~ x'\n"
     ]
    },
    {
     "data": {
      "image/png": "[encoded data removed]",
      "text/plain": [
       "plot without title"
      ]
     },
     "metadata": {
      "image/png": {
       "height": 420,
       "width": 420
      }
     },
     "output_type": "display_data"
    },
    {
     "data": {
      "text/html": [
       "<table class=\"dataframe\">\n",
       "<caption>A matrix: 2 × 2 of type dbl</caption>\n",
       "<thead>\n",
       "\t<tr><th></th><th scope=col>ISL1</th><th scope=col>HLXb9</th></tr>\n",
       "</thead>\n",
       "<tbody>\n",
       "\t<tr><th scope=row>ISL1</th><td>1.000000</td><td>0.290221</td></tr>\n",
       "\t<tr><th scope=row>HLXb9</th><td>0.290221</td><td>1.000000</td></tr>\n",
       "</tbody>\n",
       "</table>\n"
      ],
      "text/latex": [
       "A matrix: 2 × 2 of type dbl\n",
       "\\begin{tabular}{r|ll}\n",
       "  & ISL1 & HLXb9\\\\\n",
       "\\hline\n",
       "\tISL1 & 1.000000 & 0.290221\\\\\n",
       "\tHLXb9 & 0.290221 & 1.000000\\\\\n",
       "\\end{tabular}\n"
      ],
      "text/markdown": [
       "\n",
       "A matrix: 2 × 2 of type dbl\n",
       "\n",
       "| <!--/--> | ISL1 | HLXb9 |\n",
       "|---|---|---|\n",
       "| ISL1 | 1.000000 | 0.290221 |\n",
       "| HLXb9 | 0.290221 | 1.000000 |\n",
       "\n"
      ],
      "text/plain": [
       "      ISL1     HLXb9   \n",
       "ISL1  1.000000 0.290221\n",
       "HLXb9 0.290221 1.000000"
      ]
     },
     "metadata": {},
     "output_type": "display_data"
    },
    {
     "data": {
      "text/html": [
       "<table class=\"dataframe\">\n",
       "<caption>A matrix: 2 × 2 of type dbl</caption>\n",
       "<thead>\n",
       "\t<tr><th></th><th scope=col>HHEX</th><th scope=col>HLXb9</th></tr>\n",
       "</thead>\n",
       "<tbody>\n",
       "\t<tr><th scope=row>HHEX</th><td>1.0000000</td><td>0.7736489</td></tr>\n",
       "\t<tr><th scope=row>HLXb9</th><td>0.7736489</td><td>1.0000000</td></tr>\n",
       "</tbody>\n",
       "</table>\n"
      ],
      "text/latex": [
       "A matrix: 2 × 2 of type dbl\n",
       "\\begin{tabular}{r|ll}\n",
       "  & HHEX & HLXb9\\\\\n",
       "\\hline\n",
       "\tHHEX & 1.0000000 & 0.7736489\\\\\n",
       "\tHLXb9 & 0.7736489 & 1.0000000\\\\\n",
       "\\end{tabular}\n"
      ],
      "text/markdown": [
       "\n",
       "A matrix: 2 × 2 of type dbl\n",
       "\n",
       "| <!--/--> | HHEX | HLXb9 |\n",
       "|---|---|---|\n",
       "| HHEX | 1.0000000 | 0.7736489 |\n",
       "| HLXb9 | 0.7736489 | 1.0000000 |\n",
       "\n"
      ],
      "text/plain": [
       "      HHEX      HLXb9    \n",
       "HHEX  1.0000000 0.7736489\n",
       "HLXb9 0.7736489 1.0000000"
      ]
     },
     "metadata": {},
     "output_type": "display_data"
    },
    {
     "data": {
      "image/png": "[encoded data removed]",
      "text/plain": [
       "plot without title"
      ]
     },
     "metadata": {
      "image/png": {
       "height": 420,
       "width": 420
      }
     },
     "output_type": "display_data"
    }
   ],
   "source": [
    "cor(x[,c(\"HHEX\",\"HLXb9\")])\n",
    "cor(x[,c(\"ISL1\",\"HLXb9\")])\n",
    "ggplot(x, aes(HHEX, HLXb9)) + geom_point()\n",
    "ggplot(x, aes(HHEX, HLXb9)) + geom_point() + geom_smooth(method = \"lm\")\n",
    "ggplot(x, aes(ISL1, HLXb9)) + geom_point() + geom_smooth(method = \"lm\")\n",
    "\n",
    "cor(x[,c(\"ISL1\",\"HLXb9\")], method = \"spearman\")\n",
    "cor(x[,c(\"HHEX\",\"HLXb9\")], method = \"spearman\")"
   ]
  },
  {
   "cell_type": "markdown",
   "id": "e19643f3-a938-4d29-964e-1796817e39c0",
   "metadata": {},
   "source": [
    "7. lets make a dataframe & do the previous taska on them"
   ]
  },
  {
   "cell_type": "code",
   "execution_count": 7,
   "id": "d8bd67b1-c0cc-496a-ba7f-1d78682e8a66",
   "metadata": {},
   "outputs": [
    {
     "name": "stderr",
     "output_type": "stream",
     "text": [
      "\u001b[1m\u001b[22m`geom_smooth()` using formula = 'y ~ x'\n"
     ]
    },
    {
     "data": {
      "text/html": [
       "<table class=\"dataframe\">\n",
       "<caption>A matrix: 2 × 2 of type dbl</caption>\n",
       "<thead>\n",
       "\t<tr><th></th><th scope=col>weight</th><th scope=col>height</th></tr>\n",
       "</thead>\n",
       "<tbody>\n",
       "\t<tr><th scope=row>weight</th><td> 1.0000000</td><td>-0.2747211</td></tr>\n",
       "\t<tr><th scope=row>height</th><td>-0.2747211</td><td> 1.0000000</td></tr>\n",
       "</tbody>\n",
       "</table>\n"
      ],
      "text/latex": [
       "A matrix: 2 × 2 of type dbl\n",
       "\\begin{tabular}{r|ll}\n",
       "  & weight & height\\\\\n",
       "\\hline\n",
       "\tweight &  1.0000000 & -0.2747211\\\\\n",
       "\theight & -0.2747211 &  1.0000000\\\\\n",
       "\\end{tabular}\n"
      ],
      "text/markdown": [
       "\n",
       "A matrix: 2 × 2 of type dbl\n",
       "\n",
       "| <!--/--> | weight | height |\n",
       "|---|---|---|\n",
       "| weight |  1.0000000 | -0.2747211 |\n",
       "| height | -0.2747211 |  1.0000000 |\n",
       "\n"
      ],
      "text/plain": [
       "       weight     height    \n",
       "weight  1.0000000 -0.2747211\n",
       "height -0.2747211  1.0000000"
      ]
     },
     "metadata": {},
     "output_type": "display_data"
    },
    {
     "data": {
      "text/html": [
       "<table class=\"dataframe\">\n",
       "<caption>A matrix: 2 × 2 of type dbl</caption>\n",
       "<thead>\n",
       "\t<tr><th></th><th scope=col>weight</th><th scope=col>height</th></tr>\n",
       "</thead>\n",
       "<tbody>\n",
       "\t<tr><th scope=row>weight</th><td>1</td><td>0</td></tr>\n",
       "\t<tr><th scope=row>height</th><td>0</td><td>1</td></tr>\n",
       "</tbody>\n",
       "</table>\n"
      ],
      "text/latex": [
       "A matrix: 2 × 2 of type dbl\n",
       "\\begin{tabular}{r|ll}\n",
       "  & weight & height\\\\\n",
       "\\hline\n",
       "\tweight & 1 & 0\\\\\n",
       "\theight & 0 & 1\\\\\n",
       "\\end{tabular}\n"
      ],
      "text/markdown": [
       "\n",
       "A matrix: 2 × 2 of type dbl\n",
       "\n",
       "| <!--/--> | weight | height |\n",
       "|---|---|---|\n",
       "| weight | 1 | 0 |\n",
       "| height | 0 | 1 |\n",
       "\n"
      ],
      "text/plain": [
       "       weight height\n",
       "weight 1      0     \n",
       "height 0      1     "
      ]
     },
     "metadata": {},
     "output_type": "display_data"
    },
    {
     "data": {
      "text/html": [
       "<table class=\"dataframe\">\n",
       "<caption>A matrix: 2 × 2 of type dbl</caption>\n",
       "<thead>\n",
       "\t<tr><th></th><th scope=col>weight</th><th scope=col>height</th></tr>\n",
       "</thead>\n",
       "<tbody>\n",
       "\t<tr><th scope=row>weight</th><td>1.000000</td><td>0.140797</td></tr>\n",
       "\t<tr><th scope=row>height</th><td>0.140797</td><td>1.000000</td></tr>\n",
       "</tbody>\n",
       "</table>\n"
      ],
      "text/latex": [
       "A matrix: 2 × 2 of type dbl\n",
       "\\begin{tabular}{r|ll}\n",
       "  & weight & height\\\\\n",
       "\\hline\n",
       "\tweight & 1.000000 & 0.140797\\\\\n",
       "\theight & 0.140797 & 1.000000\\\\\n",
       "\\end{tabular}\n"
      ],
      "text/markdown": [
       "\n",
       "A matrix: 2 × 2 of type dbl\n",
       "\n",
       "| <!--/--> | weight | height |\n",
       "|---|---|---|\n",
       "| weight | 1.000000 | 0.140797 |\n",
       "| height | 0.140797 | 1.000000 |\n",
       "\n"
      ],
      "text/plain": [
       "       weight   height  \n",
       "weight 1.000000 0.140797\n",
       "height 0.140797 1.000000"
      ]
     },
     "metadata": {},
     "output_type": "display_data"
    },
    {
     "data": {
      "text/html": [
       "<table class=\"dataframe\">\n",
       "<caption>A matrix: 2 × 2 of type dbl</caption>\n",
       "<thead>\n",
       "\t<tr><th></th><th scope=col>weight</th><th scope=col>height</th></tr>\n",
       "</thead>\n",
       "<tbody>\n",
       "\t<tr><th scope=row>weight</th><td>1.00</td><td>0.25</td></tr>\n",
       "\t<tr><th scope=row>height</th><td>0.25</td><td>1.00</td></tr>\n",
       "</tbody>\n",
       "</table>\n"
      ],
      "text/latex": [
       "A matrix: 2 × 2 of type dbl\n",
       "\\begin{tabular}{r|ll}\n",
       "  & weight & height\\\\\n",
       "\\hline\n",
       "\tweight & 1.00 & 0.25\\\\\n",
       "\theight & 0.25 & 1.00\\\\\n",
       "\\end{tabular}\n"
      ],
      "text/markdown": [
       "\n",
       "A matrix: 2 × 2 of type dbl\n",
       "\n",
       "| <!--/--> | weight | height |\n",
       "|---|---|---|\n",
       "| weight | 1.00 | 0.25 |\n",
       "| height | 0.25 | 1.00 |\n",
       "\n"
      ],
      "text/plain": [
       "       weight height\n",
       "weight 1.00   0.25  \n",
       "height 0.25   1.00  "
      ]
     },
     "metadata": {},
     "output_type": "display_data"
    },
    {
     "data": {
      "text/html": [
       "<style>\n",
       ".list-inline {list-style: none; margin:0; padding: 0}\n",
       ".list-inline>li {display: inline-block}\n",
       ".list-inline>li:not(:last-child)::after {content: \"\\00b7\"; padding: 0 .5ex}\n",
       "</style>\n",
       "<ol class=list-inline><li>7</li><li>2</li></ol>\n"
      ],
      "text/latex": [
       "\\begin{enumerate*}\n",
       "\\item 7\n",
       "\\item 2\n",
       "\\end{enumerate*}\n"
      ],
      "text/markdown": [
       "1. 7\n",
       "2. 2\n",
       "\n",
       "\n"
      ],
      "text/plain": [
       "[1] 7 2"
      ]
     },
     "metadata": {},
     "output_type": "display_data"
    },
    {
     "data": {
      "text/html": [
       "<table class=\"dataframe\">\n",
       "<caption>A matrix: 2 × 2 of type dbl</caption>\n",
       "<thead>\n",
       "\t<tr><th></th><th scope=col>weight</th><th scope=col>height</th></tr>\n",
       "</thead>\n",
       "<tbody>\n",
       "\t<tr><th scope=row>weight</th><td>1.0000000</td><td>0.9839041</td></tr>\n",
       "\t<tr><th scope=row>height</th><td>0.9839041</td><td>1.0000000</td></tr>\n",
       "</tbody>\n",
       "</table>\n"
      ],
      "text/latex": [
       "A matrix: 2 × 2 of type dbl\n",
       "\\begin{tabular}{r|ll}\n",
       "  & weight & height\\\\\n",
       "\\hline\n",
       "\tweight & 1.0000000 & 0.9839041\\\\\n",
       "\theight & 0.9839041 & 1.0000000\\\\\n",
       "\\end{tabular}\n"
      ],
      "text/markdown": [
       "\n",
       "A matrix: 2 × 2 of type dbl\n",
       "\n",
       "| <!--/--> | weight | height |\n",
       "|---|---|---|\n",
       "| weight | 1.0000000 | 0.9839041 |\n",
       "| height | 0.9839041 | 1.0000000 |\n",
       "\n"
      ],
      "text/plain": [
       "       weight    height   \n",
       "weight 1.0000000 0.9839041\n",
       "height 0.9839041 1.0000000"
      ]
     },
     "metadata": {},
     "output_type": "display_data"
    },
    {
     "data": {
      "text/html": [
       "<table class=\"dataframe\">\n",
       "<caption>A matrix: 2 × 2 of type dbl</caption>\n",
       "<thead>\n",
       "\t<tr><th></th><th scope=col>weight</th><th scope=col>height</th></tr>\n",
       "</thead>\n",
       "<tbody>\n",
       "\t<tr><th scope=row>weight</th><td>1</td><td>1</td></tr>\n",
       "\t<tr><th scope=row>height</th><td>1</td><td>1</td></tr>\n",
       "</tbody>\n",
       "</table>\n"
      ],
      "text/latex": [
       "A matrix: 2 × 2 of type dbl\n",
       "\\begin{tabular}{r|ll}\n",
       "  & weight & height\\\\\n",
       "\\hline\n",
       "\tweight & 1 & 1\\\\\n",
       "\theight & 1 & 1\\\\\n",
       "\\end{tabular}\n"
      ],
      "text/markdown": [
       "\n",
       "A matrix: 2 × 2 of type dbl\n",
       "\n",
       "| <!--/--> | weight | height |\n",
       "|---|---|---|\n",
       "| weight | 1 | 1 |\n",
       "| height | 1 | 1 |\n",
       "\n"
      ],
      "text/plain": [
       "       weight height\n",
       "weight 1      1     \n",
       "height 1      1     "
      ]
     },
     "metadata": {},
     "output_type": "display_data"
    },
    {
     "data": {
      "image/png": "[encoded data removed]",
      "text/plain": [
       "plot without title"
      ]
     },
     "metadata": {
      "image/png": {
       "height": 420,
       "width": 420
      }
     },
     "output_type": "display_data"
    }
   ],
   "source": [
    "y<- data.frame(weight = c(45, 55, 65, 75, 85), height = c(165, 170, 175, 180, 150))\n",
    "ggplot(y, aes(weight, height)) + geom_point() + geom_smooth(method = \"lm\")\n",
    "\n",
    "cor(y)\n",
    "cor(y, method = \"spearman\")\n",
    "y<- data.frame(weight = c(45, 55, 65, 75, 85, 95, 105), height = c(165, 170, 175, 180, 190, 200, 150))\n",
    "cor(y)\n",
    "cor(y, method = \"spearman\")\n",
    "dim(y)\n",
    "cor(y[-7,])\n",
    "cor(y[-7,], method = \"spearman\")"
   ]
  },
  {
   "cell_type": "markdown",
   "id": "3be00e0e-3f10-4dbc-b315-037b783bcc9c",
   "metadata": {},
   "source": [
    "8. new functions ... introducing \"apply\""
   ]
  },
  {
   "cell_type": "code",
   "execution_count": 8,
   "id": "d1e976a8-50d7-4d52-b4c3-0758875874a2",
   "metadata": {},
   "outputs": [
    {
     "data": {
      "text/html": [
       "<table class=\"dataframe\">\n",
       "<caption>A data.frame: 6 × 9</caption>\n",
       "<thead>\n",
       "\t<tr><th></th><th scope=col>HLXb9</th><th scope=col>HHEX</th><th scope=col>HNF4a</th><th scope=col>ISL1</th><th scope=col>NEUROD1</th><th scope=col>NKX6.1</th><th scope=col>PAX4</th><th scope=col>PTF1a</th><th scope=col>PDX1</th></tr>\n",
       "\t<tr><th></th><th scope=col>&lt;dbl&gt;</th><th scope=col>&lt;dbl&gt;</th><th scope=col>&lt;dbl&gt;</th><th scope=col>&lt;dbl&gt;</th><th scope=col>&lt;dbl&gt;</th><th scope=col>&lt;dbl&gt;</th><th scope=col>&lt;dbl&gt;</th><th scope=col>&lt;dbl&gt;</th><th scope=col>&lt;dbl&gt;</th></tr>\n",
       "</thead>\n",
       "<tbody>\n",
       "\t<tr><th scope=row>SC.1</th><td>1.709291</td><td>1.521051</td><td>1.956057</td><td>1.427606</td><td>2.201634</td><td>1.063503</td><td>1.195348</td><td>1.263034</td><td>1.000000</td></tr>\n",
       "\t<tr><th scope=row>DE-1</th><td>7.073606</td><td>3.576522</td><td>6.381629</td><td>4.804260</td><td>2.555816</td><td>2.157044</td><td>1.669027</td><td>2.084064</td><td>4.490570</td></tr>\n",
       "\t<tr><th scope=row>DE-2</th><td>5.559798</td><td>5.241077</td><td>5.148365</td><td>3.575312</td><td>2.833902</td><td>2.438293</td><td>2.150560</td><td>2.232661</td><td>3.657640</td></tr>\n",
       "\t<tr><th scope=row>DE-3</th><td>5.725469</td><td>3.576522</td><td>4.932156</td><td>4.804260</td><td>4.074677</td><td>2.157044</td><td>1.669027</td><td>2.060047</td><td>4.738768</td></tr>\n",
       "\t<tr><th scope=row>DE-4</th><td>7.150661</td><td>5.241077</td><td>5.988117</td><td>3.575312</td><td>4.536675</td><td>2.438293</td><td>2.150560</td><td>1.682573</td><td>3.940167</td></tr>\n",
       "\t<tr><th scope=row>DE+1</th><td>7.402842</td><td>3.589763</td><td>5.460415</td><td>5.358607</td><td>2.347666</td><td>2.087463</td><td>1.883621</td><td>2.321928</td><td>2.817623</td></tr>\n",
       "</tbody>\n",
       "</table>\n"
      ],
      "text/latex": [
       "A data.frame: 6 × 9\n",
       "\\begin{tabular}{r|lllllllll}\n",
       "  & HLXb9 & HHEX & HNF4a & ISL1 & NEUROD1 & NKX6.1 & PAX4 & PTF1a & PDX1\\\\\n",
       "  & <dbl> & <dbl> & <dbl> & <dbl> & <dbl> & <dbl> & <dbl> & <dbl> & <dbl>\\\\\n",
       "\\hline\n",
       "\tSC.1 & 1.709291 & 1.521051 & 1.956057 & 1.427606 & 2.201634 & 1.063503 & 1.195348 & 1.263034 & 1.000000\\\\\n",
       "\tDE-1 & 7.073606 & 3.576522 & 6.381629 & 4.804260 & 2.555816 & 2.157044 & 1.669027 & 2.084064 & 4.490570\\\\\n",
       "\tDE-2 & 5.559798 & 5.241077 & 5.148365 & 3.575312 & 2.833902 & 2.438293 & 2.150560 & 2.232661 & 3.657640\\\\\n",
       "\tDE-3 & 5.725469 & 3.576522 & 4.932156 & 4.804260 & 4.074677 & 2.157044 & 1.669027 & 2.060047 & 4.738768\\\\\n",
       "\tDE-4 & 7.150661 & 5.241077 & 5.988117 & 3.575312 & 4.536675 & 2.438293 & 2.150560 & 1.682573 & 3.940167\\\\\n",
       "\tDE+1 & 7.402842 & 3.589763 & 5.460415 & 5.358607 & 2.347666 & 2.087463 & 1.883621 & 2.321928 & 2.817623\\\\\n",
       "\\end{tabular}\n"
      ],
      "text/markdown": [
       "\n",
       "A data.frame: 6 × 9\n",
       "\n",
       "| <!--/--> | HLXb9 &lt;dbl&gt; | HHEX &lt;dbl&gt; | HNF4a &lt;dbl&gt; | ISL1 &lt;dbl&gt; | NEUROD1 &lt;dbl&gt; | NKX6.1 &lt;dbl&gt; | PAX4 &lt;dbl&gt; | PTF1a &lt;dbl&gt; | PDX1 &lt;dbl&gt; |\n",
       "|---|---|---|---|---|---|---|---|---|---|\n",
       "| SC.1 | 1.709291 | 1.521051 | 1.956057 | 1.427606 | 2.201634 | 1.063503 | 1.195348 | 1.263034 | 1.000000 |\n",
       "| DE-1 | 7.073606 | 3.576522 | 6.381629 | 4.804260 | 2.555816 | 2.157044 | 1.669027 | 2.084064 | 4.490570 |\n",
       "| DE-2 | 5.559798 | 5.241077 | 5.148365 | 3.575312 | 2.833902 | 2.438293 | 2.150560 | 2.232661 | 3.657640 |\n",
       "| DE-3 | 5.725469 | 3.576522 | 4.932156 | 4.804260 | 4.074677 | 2.157044 | 1.669027 | 2.060047 | 4.738768 |\n",
       "| DE-4 | 7.150661 | 5.241077 | 5.988117 | 3.575312 | 4.536675 | 2.438293 | 2.150560 | 1.682573 | 3.940167 |\n",
       "| DE+1 | 7.402842 | 3.589763 | 5.460415 | 5.358607 | 2.347666 | 2.087463 | 1.883621 | 2.321928 | 2.817623 |\n",
       "\n"
      ],
      "text/plain": [
       "     HLXb9    HHEX     HNF4a    ISL1     NEUROD1  NKX6.1   PAX4     PTF1a   \n",
       "SC.1 1.709291 1.521051 1.956057 1.427606 2.201634 1.063503 1.195348 1.263034\n",
       "DE-1 7.073606 3.576522 6.381629 4.804260 2.555816 2.157044 1.669027 2.084064\n",
       "DE-2 5.559798 5.241077 5.148365 3.575312 2.833902 2.438293 2.150560 2.232661\n",
       "DE-3 5.725469 3.576522 4.932156 4.804260 4.074677 2.157044 1.669027 2.060047\n",
       "DE-4 7.150661 5.241077 5.988117 3.575312 4.536675 2.438293 2.150560 1.682573\n",
       "DE+1 7.402842 3.589763 5.460415 5.358607 2.347666 2.087463 1.883621 2.321928\n",
       "     PDX1    \n",
       "SC.1 1.000000\n",
       "DE-1 4.490570\n",
       "DE-2 3.657640\n",
       "DE-3 4.738768\n",
       "DE-4 3.940167\n",
       "DE+1 2.817623"
      ]
     },
     "metadata": {},
     "output_type": "display_data"
    },
    {
     "name": "stdout",
     "output_type": "stream",
     "text": [
      "[1] \"-----------------------------------------------------------------------------------------------------------------------------\"\n"
     ]
    },
    {
     "data": {
      "text/html": [
       "<style>\n",
       ".dl-inline {width: auto; margin:0; padding: 0}\n",
       ".dl-inline>dt, .dl-inline>dd {float: none; width: auto; display: inline-block}\n",
       ".dl-inline>dt::after {content: \":\\0020\"; padding-right: .5ex}\n",
       ".dl-inline>dt:not(:first-of-type) {padding-left: .5ex}\n",
       "</style><dl class=dl-inline><dt>SC.1</dt><dd>1.48194700060561</dd><dt>DE-1</dt><dd>3.86583764301282</dd><dt>DE-2</dt><dd>3.64862306363879</dd><dt>DE-3</dt><dd>3.74866320367108</dd><dt>DE-4</dt><dd>4.07815942013506</dd><dt>DE+1</dt><dd>3.69665865267245</dd><dt>DE+2</dt><dd>3.62011386809129</dd><dt>DE+3</dt><dd>3.97360406492416</dd><dt>P2PP-1</dt><dd>4.30001479827361</dd><dt>P2PP-2</dt><dd>5.08290418234574</dd><dt>P2PP-3</dt><dd>4.84065174303437</dd><dt>P2PP-4</dt><dd>4.77524685406381</dd><dt>P2PP+1</dt><dd>4.85474571280613</dd><dt>P2PP+2</dt><dd>4.75166235599022</dd><dt>P2PP+3</dt><dd>5.09429052926836</dd><dt>P2PE-1</dt><dd>3.86888921207969</dd><dt>P2PE-2</dt><dd>3.70624010553769</dd><dt>P2PE-3</dt><dd>3.91331143406827</dd><dt>P2PE-4</dt><dd>3.54936808717373</dd><dt>P2PE+1</dt><dd>4.28326694321079</dd><dt>P2PE+2</dt><dd>3.99570045150975</dd><dt>P2PE+3</dt><dd>3.68693548577739</dd><dt>P2PE+4</dt><dd>3.81529924690928</dd><dt>P3PP-1</dt><dd>4.59944240528229</dd><dt>P3PP-2</dt><dd>4.53806119446063</dd><dt>P3PP+1</dt><dd>4.22178955479966</dd><dt>P3PP+2</dt><dd>4.248666100568</dd><dt>P3PP+3</dt><dd>4.50602924971683</dd><dt>P3PE-1</dt><dd>3.75164333436803</dd><dt>P3PE-2</dt><dd>3.50067327561864</dd><dt>P3PE-3</dt><dd>3.98417873403316</dd><dt>P3PE-4</dt><dd>3.8468720773437</dd><dt>P3PE+1</dt><dd>3.83395626521094</dd><dt>P3PE+2</dt><dd>3.70229822593122</dd><dt>P3PE+3</dt><dd>3.6019807396252</dd><dt>P3PE+4</dt><dd>3.3494023473378</dd><dt>P5PP-1</dt><dd>4.74452919125111</dd><dt>P5PP-2</dt><dd>4.29285000283943</dd><dt>P5PP+1</dt><dd>4.80603071810121</dd><dt>P5PP+2</dt><dd>4.94659099123734</dd><dt>P5PE-1</dt><dd>3.37826501177626</dd><dt>P5PE-2</dt><dd>4.06667673031527</dd><dt>P5PE-3</dt><dd>3.45560731725896</dd><dt>P5PE-4</dt><dd>4.01165152441699</dd><dt>P5PE+1</dt><dd>3.13328905200871</dd><dt>P5PE+2</dt><dd>3.3373808314733</dd><dt>P5PE+3</dt><dd>3.55777637347619</dd><dt>P5PE+4</dt><dd>3.94371901622498</dd></dl>\n"
      ],
      "text/latex": [
       "\\begin{description*}\n",
       "\\item[SC.1] 1.48194700060561\n",
       "\\item[DE-1] 3.86583764301282\n",
       "\\item[DE-2] 3.64862306363879\n",
       "\\item[DE-3] 3.74866320367108\n",
       "\\item[DE-4] 4.07815942013506\n",
       "\\item[DE+1] 3.69665865267245\n",
       "\\item[DE+2] 3.62011386809129\n",
       "\\item[DE+3] 3.97360406492416\n",
       "\\item[P2PP-1] 4.30001479827361\n",
       "\\item[P2PP-2] 5.08290418234574\n",
       "\\item[P2PP-3] 4.84065174303437\n",
       "\\item[P2PP-4] 4.77524685406381\n",
       "\\item[P2PP+1] 4.85474571280613\n",
       "\\item[P2PP+2] 4.75166235599022\n",
       "\\item[P2PP+3] 5.09429052926836\n",
       "\\item[P2PE-1] 3.86888921207969\n",
       "\\item[P2PE-2] 3.70624010553769\n",
       "\\item[P2PE-3] 3.91331143406827\n",
       "\\item[P2PE-4] 3.54936808717373\n",
       "\\item[P2PE+1] 4.28326694321079\n",
       "\\item[P2PE+2] 3.99570045150975\n",
       "\\item[P2PE+3] 3.68693548577739\n",
       "\\item[P2PE+4] 3.81529924690928\n",
       "\\item[P3PP-1] 4.59944240528229\n",
       "\\item[P3PP-2] 4.53806119446063\n",
       "\\item[P3PP+1] 4.22178955479966\n",
       "\\item[P3PP+2] 4.248666100568\n",
       "\\item[P3PP+3] 4.50602924971683\n",
       "\\item[P3PE-1] 3.75164333436803\n",
       "\\item[P3PE-2] 3.50067327561864\n",
       "\\item[P3PE-3] 3.98417873403316\n",
       "\\item[P3PE-4] 3.8468720773437\n",
       "\\item[P3PE+1] 3.83395626521094\n",
       "\\item[P3PE+2] 3.70229822593122\n",
       "\\item[P3PE+3] 3.6019807396252\n",
       "\\item[P3PE+4] 3.3494023473378\n",
       "\\item[P5PP-1] 4.74452919125111\n",
       "\\item[P5PP-2] 4.29285000283943\n",
       "\\item[P5PP+1] 4.80603071810121\n",
       "\\item[P5PP+2] 4.94659099123734\n",
       "\\item[P5PE-1] 3.37826501177626\n",
       "\\item[P5PE-2] 4.06667673031527\n",
       "\\item[P5PE-3] 3.45560731725896\n",
       "\\item[P5PE-4] 4.01165152441699\n",
       "\\item[P5PE+1] 3.13328905200871\n",
       "\\item[P5PE+2] 3.3373808314733\n",
       "\\item[P5PE+3] 3.55777637347619\n",
       "\\item[P5PE+4] 3.94371901622498\n",
       "\\end{description*}\n"
      ],
      "text/markdown": [
       "SC.1\n",
       ":   1.48194700060561DE-1\n",
       ":   3.86583764301282DE-2\n",
       ":   3.64862306363879DE-3\n",
       ":   3.74866320367108DE-4\n",
       ":   4.07815942013506DE+1\n",
       ":   3.69665865267245DE+2\n",
       ":   3.62011386809129DE+3\n",
       ":   3.97360406492416P2PP-1\n",
       ":   4.30001479827361P2PP-2\n",
       ":   5.08290418234574P2PP-3\n",
       ":   4.84065174303437P2PP-4\n",
       ":   4.77524685406381P2PP+1\n",
       ":   4.85474571280613P2PP+2\n",
       ":   4.75166235599022P2PP+3\n",
       ":   5.09429052926836P2PE-1\n",
       ":   3.86888921207969P2PE-2\n",
       ":   3.70624010553769P2PE-3\n",
       ":   3.91331143406827P2PE-4\n",
       ":   3.54936808717373P2PE+1\n",
       ":   4.28326694321079P2PE+2\n",
       ":   3.99570045150975P2PE+3\n",
       ":   3.68693548577739P2PE+4\n",
       ":   3.81529924690928P3PP-1\n",
       ":   4.59944240528229P3PP-2\n",
       ":   4.53806119446063P3PP+1\n",
       ":   4.22178955479966P3PP+2\n",
       ":   4.248666100568P3PP+3\n",
       ":   4.50602924971683P3PE-1\n",
       ":   3.75164333436803P3PE-2\n",
       ":   3.50067327561864P3PE-3\n",
       ":   3.98417873403316P3PE-4\n",
       ":   3.8468720773437P3PE+1\n",
       ":   3.83395626521094P3PE+2\n",
       ":   3.70229822593122P3PE+3\n",
       ":   3.6019807396252P3PE+4\n",
       ":   3.3494023473378P5PP-1\n",
       ":   4.74452919125111P5PP-2\n",
       ":   4.29285000283943P5PP+1\n",
       ":   4.80603071810121P5PP+2\n",
       ":   4.94659099123734P5PE-1\n",
       ":   3.37826501177626P5PE-2\n",
       ":   4.06667673031527P5PE-3\n",
       ":   3.45560731725896P5PE-4\n",
       ":   4.01165152441699P5PE+1\n",
       ":   3.13328905200871P5PE+2\n",
       ":   3.3373808314733P5PE+3\n",
       ":   3.55777637347619P5PE+4\n",
       ":   3.94371901622498\n",
       "\n"
      ],
      "text/plain": [
       "    SC.1     DE-1     DE-2     DE-3     DE-4     DE+1     DE+2     DE+3 \n",
       "1.481947 3.865838 3.648623 3.748663 4.078159 3.696659 3.620114 3.973604 \n",
       "  P2PP-1   P2PP-2   P2PP-3   P2PP-4   P2PP+1   P2PP+2   P2PP+3   P2PE-1 \n",
       "4.300015 5.082904 4.840652 4.775247 4.854746 4.751662 5.094291 3.868889 \n",
       "  P2PE-2   P2PE-3   P2PE-4   P2PE+1   P2PE+2   P2PE+3   P2PE+4   P3PP-1 \n",
       "3.706240 3.913311 3.549368 4.283267 3.995700 3.686935 3.815299 4.599442 \n",
       "  P3PP-2   P3PP+1   P3PP+2   P3PP+3   P3PE-1   P3PE-2   P3PE-3   P3PE-4 \n",
       "4.538061 4.221790 4.248666 4.506029 3.751643 3.500673 3.984179 3.846872 \n",
       "  P3PE+1   P3PE+2   P3PE+3   P3PE+4   P5PP-1   P5PP-2   P5PP+1   P5PP+2 \n",
       "3.833956 3.702298 3.601981 3.349402 4.744529 4.292850 4.806031 4.946591 \n",
       "  P5PE-1   P5PE-2   P5PE-3   P5PE-4   P5PE+1   P5PE+2   P5PE+3   P5PE+4 \n",
       "3.378265 4.066677 3.455607 4.011652 3.133289 3.337381 3.557776 3.943719 "
      ]
     },
     "metadata": {},
     "output_type": "display_data"
    },
    {
     "name": "stdout",
     "output_type": "stream",
     "text": [
      "[1] \"-----------------------------------------------------------------------------------------------------------------------------\"\n"
     ]
    },
    {
     "data": {
      "text/html": [
       "<style>\n",
       ".dl-inline {width: auto; margin:0; padding: 0}\n",
       ".dl-inline>dt, .dl-inline>dd {float: none; width: auto; display: inline-block}\n",
       ".dl-inline>dt::after {content: \":\\0020\"; padding-right: .5ex}\n",
       ".dl-inline>dt:not(:first-of-type) {padding-left: .5ex}\n",
       "</style><dl class=dl-inline><dt>HLXb9</dt><dd>5.24699473496079</dd><dt>HHEX</dt><dd>2.32342562775475</dd><dt>HNF4a</dt><dd>6.80602855424058</dd><dt>ISL1</dt><dd>4.78064743711519</dd><dt>NEUROD1</dt><dd>6.5045943026465</dd><dt>NKX6.1</dt><dd>0.780334141649153</dd><dt>PAX4</dt><dd>1.23486617151185</dd><dt>PTF1a</dt><dd>2.07946200250854</dd><dt>PDX1</dt><dd>6.24205221326437</dd></dl>\n"
      ],
      "text/latex": [
       "\\begin{description*}\n",
       "\\item[HLXb9] 5.24699473496079\n",
       "\\item[HHEX] 2.32342562775475\n",
       "\\item[HNF4a] 6.80602855424058\n",
       "\\item[ISL1] 4.78064743711519\n",
       "\\item[NEUROD1] 6.5045943026465\n",
       "\\item[NKX6.1] 0.780334141649153\n",
       "\\item[PAX4] 1.23486617151185\n",
       "\\item[PTF1a] 2.07946200250854\n",
       "\\item[PDX1] 6.24205221326437\n",
       "\\end{description*}\n"
      ],
      "text/markdown": [
       "HLXb9\n",
       ":   5.24699473496079HHEX\n",
       ":   2.32342562775475HNF4a\n",
       ":   6.80602855424058ISL1\n",
       ":   4.78064743711519NEUROD1\n",
       ":   6.5045943026465NKX6.1\n",
       ":   0.780334141649153PAX4\n",
       ":   1.23486617151185PTF1a\n",
       ":   2.07946200250854PDX1\n",
       ":   6.24205221326437\n",
       "\n"
      ],
      "text/plain": [
       "    HLXb9      HHEX     HNF4a      ISL1   NEUROD1    NKX6.1      PAX4     PTF1a \n",
       "5.2469947 2.3234256 6.8060286 4.7806474 6.5045943 0.7803341 1.2348662 2.0794620 \n",
       "     PDX1 \n",
       "6.2420522 "
      ]
     },
     "metadata": {},
     "output_type": "display_data"
    },
    {
     "name": "stdout",
     "output_type": "stream",
     "text": [
      "[1] \"-----------------------------------------------------------------------------------------------------------------------------\"\n"
     ]
    },
    {
     "data": {
      "text/html": [
       "<style>\n",
       ".dl-inline {width: auto; margin:0; padding: 0}\n",
       ".dl-inline>dt, .dl-inline>dd {float: none; width: auto; display: inline-block}\n",
       ".dl-inline>dt::after {content: \":\\0020\"; padding-right: .5ex}\n",
       ".dl-inline>dt:not(:first-of-type) {padding-left: .5ex}\n",
       "</style><dl class=dl-inline><dt>SC.1</dt><dd>0.167040822281505</dd><dt>DE-1</dt><dd>3.82630561005435</dd><dt>DE-2</dt><dd>1.85262411957325</dd><dt>DE-3</dt><dd>2.15606084483432</dd><dt>DE-4</dt><dd>3.3832939214616</dd><dt>DE+1</dt><dd>3.74738928541186</dd><dt>DE+2</dt><dd>3.34375113600549</dd><dt>DE+3</dt><dd>2.96625907671318</dd><dt>P2PP-1</dt><dd>7.35977745509016</dd><dt>P2PP-2</dt><dd>8.53846580242285</dd><dt>P2PP-3</dt><dd>9.2372181912311</dd><dt>P2PP-4</dt><dd>8.80445003396305</dd><dt>P2PP+1</dt><dd>10.3365633369226</dd><dt>P2PP+2</dt><dd>7.25960882866367</dd><dt>P2PP+3</dt><dd>9.39032923713881</dd><dt>P2PE-1</dt><dd>9.69989335486783</dd><dt>P2PE-2</dt><dd>8.71492835571844</dd><dt>P2PE-3</dt><dd>9.12980086764898</dd><dt>P2PE-4</dt><dd>9.10535206185648</dd><dt>P2PE+1</dt><dd>12.7485707343484</dd><dt>P2PE+2</dt><dd>10.4303289280475</dd><dt>P2PE+3</dt><dd>11.1607836112405</dd><dt>P2PE+4</dt><dd>12.6495575365473</dd><dt>P3PP-1</dt><dd>9.25488538085449</dd><dt>P3PP-2</dt><dd>7.91941338926569</dd><dt>P3PP+1</dt><dd>8.55456701673671</dd><dt>P3PP+2</dt><dd>8.43486159337745</dd><dt>P3PP+3</dt><dd>7.88449741546414</dd><dt>P3PE-1</dt><dd>6.53183378852962</dd><dt>P3PE-2</dt><dd>6.58347850742407</dd><dt>P3PE-3</dt><dd>8.30819694520327</dd><dt>P3PE-4</dt><dd>7.20843061520186</dd><dt>P3PE+1</dt><dd>9.57926661096138</dd><dt>P3PE+2</dt><dd>8.62147971780237</dd><dt>P3PE+3</dt><dd>8.00626931815149</dd><dt>P3PE+4</dt><dd>7.62789903707764</dd><dt>P5PP-1</dt><dd>6.38621059900166</dd><dt>P5PP-2</dt><dd>6.573336536173</dd><dt>P5PP+1</dt><dd>8.84091004170011</dd><dt>P5PP+2</dt><dd>8.93640940537718</dd><dt>P5PE-1</dt><dd>7.78881564299528</dd><dt>P5PE-2</dt><dd>6.24383928292515</dd><dt>P5PE-3</dt><dd>6.17554182212721</dd><dt>P5PE-4</dt><dd>6.38726330648055</dd><dt>P5PE+1</dt><dd>8.31831618524045</dd><dt>P5PE+2</dt><dd>8.92516434855566</dd><dt>P5PE+3</dt><dd>7.40630851256292</dd><dt>P5PE+4</dt><dd>8.23582587878038</dd></dl>\n"
      ],
      "text/latex": [
       "\\begin{description*}\n",
       "\\item[SC.1] 0.167040822281505\n",
       "\\item[DE-1] 3.82630561005435\n",
       "\\item[DE-2] 1.85262411957325\n",
       "\\item[DE-3] 2.15606084483432\n",
       "\\item[DE-4] 3.3832939214616\n",
       "\\item[DE+1] 3.74738928541186\n",
       "\\item[DE+2] 3.34375113600549\n",
       "\\item[DE+3] 2.96625907671318\n",
       "\\item[P2PP-1] 7.35977745509016\n",
       "\\item[P2PP-2] 8.53846580242285\n",
       "\\item[P2PP-3] 9.2372181912311\n",
       "\\item[P2PP-4] 8.80445003396305\n",
       "\\item[P2PP+1] 10.3365633369226\n",
       "\\item[P2PP+2] 7.25960882866367\n",
       "\\item[P2PP+3] 9.39032923713881\n",
       "\\item[P2PE-1] 9.69989335486783\n",
       "\\item[P2PE-2] 8.71492835571844\n",
       "\\item[P2PE-3] 9.12980086764898\n",
       "\\item[P2PE-4] 9.10535206185648\n",
       "\\item[P2PE+1] 12.7485707343484\n",
       "\\item[P2PE+2] 10.4303289280475\n",
       "\\item[P2PE+3] 11.1607836112405\n",
       "\\item[P2PE+4] 12.6495575365473\n",
       "\\item[P3PP-1] 9.25488538085449\n",
       "\\item[P3PP-2] 7.91941338926569\n",
       "\\item[P3PP+1] 8.55456701673671\n",
       "\\item[P3PP+2] 8.43486159337745\n",
       "\\item[P3PP+3] 7.88449741546414\n",
       "\\item[P3PE-1] 6.53183378852962\n",
       "\\item[P3PE-2] 6.58347850742407\n",
       "\\item[P3PE-3] 8.30819694520327\n",
       "\\item[P3PE-4] 7.20843061520186\n",
       "\\item[P3PE+1] 9.57926661096138\n",
       "\\item[P3PE+2] 8.62147971780237\n",
       "\\item[P3PE+3] 8.00626931815149\n",
       "\\item[P3PE+4] 7.62789903707764\n",
       "\\item[P5PP-1] 6.38621059900166\n",
       "\\item[P5PP-2] 6.573336536173\n",
       "\\item[P5PP+1] 8.84091004170011\n",
       "\\item[P5PP+2] 8.93640940537718\n",
       "\\item[P5PE-1] 7.78881564299528\n",
       "\\item[P5PE-2] 6.24383928292515\n",
       "\\item[P5PE-3] 6.17554182212721\n",
       "\\item[P5PE-4] 6.38726330648055\n",
       "\\item[P5PE+1] 8.31831618524045\n",
       "\\item[P5PE+2] 8.92516434855566\n",
       "\\item[P5PE+3] 7.40630851256292\n",
       "\\item[P5PE+4] 8.23582587878038\n",
       "\\end{description*}\n"
      ],
      "text/markdown": [
       "SC.1\n",
       ":   0.167040822281505DE-1\n",
       ":   3.82630561005435DE-2\n",
       ":   1.85262411957325DE-3\n",
       ":   2.15606084483432DE-4\n",
       ":   3.3832939214616DE+1\n",
       ":   3.74738928541186DE+2\n",
       ":   3.34375113600549DE+3\n",
       ":   2.96625907671318P2PP-1\n",
       ":   7.35977745509016P2PP-2\n",
       ":   8.53846580242285P2PP-3\n",
       ":   9.2372181912311P2PP-4\n",
       ":   8.80445003396305P2PP+1\n",
       ":   10.3365633369226P2PP+2\n",
       ":   7.25960882866367P2PP+3\n",
       ":   9.39032923713881P2PE-1\n",
       ":   9.69989335486783P2PE-2\n",
       ":   8.71492835571844P2PE-3\n",
       ":   9.12980086764898P2PE-4\n",
       ":   9.10535206185648P2PE+1\n",
       ":   12.7485707343484P2PE+2\n",
       ":   10.4303289280475P2PE+3\n",
       ":   11.1607836112405P2PE+4\n",
       ":   12.6495575365473P3PP-1\n",
       ":   9.25488538085449P3PP-2\n",
       ":   7.91941338926569P3PP+1\n",
       ":   8.55456701673671P3PP+2\n",
       ":   8.43486159337745P3PP+3\n",
       ":   7.88449741546414P3PE-1\n",
       ":   6.53183378852962P3PE-2\n",
       ":   6.58347850742407P3PE-3\n",
       ":   8.30819694520327P3PE-4\n",
       ":   7.20843061520186P3PE+1\n",
       ":   9.57926661096138P3PE+2\n",
       ":   8.62147971780237P3PE+3\n",
       ":   8.00626931815149P3PE+4\n",
       ":   7.62789903707764P5PP-1\n",
       ":   6.38621059900166P5PP-2\n",
       ":   6.573336536173P5PP+1\n",
       ":   8.84091004170011P5PP+2\n",
       ":   8.93640940537718P5PE-1\n",
       ":   7.78881564299528P5PE-2\n",
       ":   6.24383928292515P5PE-3\n",
       ":   6.17554182212721P5PE-4\n",
       ":   6.38726330648055P5PE+1\n",
       ":   8.31831618524045P5PE+2\n",
       ":   8.92516434855566P5PE+3\n",
       ":   7.40630851256292P5PE+4\n",
       ":   8.23582587878038\n",
       "\n"
      ],
      "text/plain": [
       "      SC.1       DE-1       DE-2       DE-3       DE-4       DE+1       DE+2 \n",
       " 0.1670408  3.8263056  1.8526241  2.1560608  3.3832939  3.7473893  3.3437511 \n",
       "      DE+3     P2PP-1     P2PP-2     P2PP-3     P2PP-4     P2PP+1     P2PP+2 \n",
       " 2.9662591  7.3597775  8.5384658  9.2372182  8.8044500 10.3365633  7.2596088 \n",
       "    P2PP+3     P2PE-1     P2PE-2     P2PE-3     P2PE-4     P2PE+1     P2PE+2 \n",
       " 9.3903292  9.6998934  8.7149284  9.1298009  9.1053521 12.7485707 10.4303289 \n",
       "    P2PE+3     P2PE+4     P3PP-1     P3PP-2     P3PP+1     P3PP+2     P3PP+3 \n",
       "11.1607836 12.6495575  9.2548854  7.9194134  8.5545670  8.4348616  7.8844974 \n",
       "    P3PE-1     P3PE-2     P3PE-3     P3PE-4     P3PE+1     P3PE+2     P3PE+3 \n",
       " 6.5318338  6.5834785  8.3081969  7.2084306  9.5792666  8.6214797  8.0062693 \n",
       "    P3PE+4     P5PP-1     P5PP-2     P5PP+1     P5PP+2     P5PE-1     P5PE-2 \n",
       " 7.6278990  6.3862106  6.5733365  8.8409100  8.9364094  7.7888156  6.2438393 \n",
       "    P5PE-3     P5PE-4     P5PE+1     P5PE+2     P5PE+3     P5PE+4 \n",
       " 6.1755418  6.3872633  8.3183162  8.9251643  7.4063085  8.2358259 "
      ]
     },
     "metadata": {},
     "output_type": "display_data"
    },
    {
     "name": "stdout",
     "output_type": "stream",
     "text": [
      "[1] \"-----------------------------------------------------------------------------------------------------------------------------\"\n"
     ]
    },
    {
     "data": {
      "text/html": [
       "<table class=\"dataframe\">\n",
       "<caption>A matrix: 9 × 9 of type dbl</caption>\n",
       "<thead>\n",
       "\t<tr><th></th><th scope=col>HLXb9</th><th scope=col>HHEX</th><th scope=col>HNF4a</th><th scope=col>ISL1</th><th scope=col>NEUROD1</th><th scope=col>NKX6.1</th><th scope=col>PAX4</th><th scope=col>PTF1a</th><th scope=col>PDX1</th></tr>\n",
       "</thead>\n",
       "<tbody>\n",
       "\t<tr><th scope=row>HLXb9</th><td>NA</td><td>NA</td><td>NA</td><td>NA</td><td>NA</td><td>NA</td><td>NA</td><td>NA</td><td>NA</td></tr>\n",
       "\t<tr><th scope=row>HHEX</th><td>NA</td><td>NA</td><td>NA</td><td>NA</td><td>NA</td><td>NA</td><td>NA</td><td>NA</td><td>NA</td></tr>\n",
       "\t<tr><th scope=row>HNF4a</th><td>NA</td><td>NA</td><td>NA</td><td>NA</td><td>NA</td><td>NA</td><td>NA</td><td>NA</td><td>NA</td></tr>\n",
       "\t<tr><th scope=row>ISL1</th><td>NA</td><td>NA</td><td>NA</td><td>NA</td><td>NA</td><td>NA</td><td>NA</td><td>NA</td><td>NA</td></tr>\n",
       "\t<tr><th scope=row>NEUROD1</th><td>NA</td><td>NA</td><td>NA</td><td>NA</td><td>NA</td><td>NA</td><td>NA</td><td>NA</td><td>NA</td></tr>\n",
       "\t<tr><th scope=row>NKX6.1</th><td>NA</td><td>NA</td><td>NA</td><td>NA</td><td>NA</td><td>NA</td><td>NA</td><td>NA</td><td>NA</td></tr>\n",
       "\t<tr><th scope=row>PAX4</th><td>NA</td><td>NA</td><td>NA</td><td>NA</td><td>NA</td><td>NA</td><td>NA</td><td>NA</td><td>NA</td></tr>\n",
       "\t<tr><th scope=row>PTF1a</th><td>NA</td><td>NA</td><td>NA</td><td>NA</td><td>NA</td><td>NA</td><td>NA</td><td>NA</td><td>NA</td></tr>\n",
       "\t<tr><th scope=row>PDX1</th><td>NA</td><td>NA</td><td>NA</td><td>NA</td><td>NA</td><td>NA</td><td>NA</td><td>NA</td><td>NA</td></tr>\n",
       "</tbody>\n",
       "</table>\n"
      ],
      "text/latex": [
       "A matrix: 9 × 9 of type dbl\n",
       "\\begin{tabular}{r|lllllllll}\n",
       "  & HLXb9 & HHEX & HNF4a & ISL1 & NEUROD1 & NKX6.1 & PAX4 & PTF1a & PDX1\\\\\n",
       "\\hline\n",
       "\tHLXb9 & NA & NA & NA & NA & NA & NA & NA & NA & NA\\\\\n",
       "\tHHEX & NA & NA & NA & NA & NA & NA & NA & NA & NA\\\\\n",
       "\tHNF4a & NA & NA & NA & NA & NA & NA & NA & NA & NA\\\\\n",
       "\tISL1 & NA & NA & NA & NA & NA & NA & NA & NA & NA\\\\\n",
       "\tNEUROD1 & NA & NA & NA & NA & NA & NA & NA & NA & NA\\\\\n",
       "\tNKX6.1 & NA & NA & NA & NA & NA & NA & NA & NA & NA\\\\\n",
       "\tPAX4 & NA & NA & NA & NA & NA & NA & NA & NA & NA\\\\\n",
       "\tPTF1a & NA & NA & NA & NA & NA & NA & NA & NA & NA\\\\\n",
       "\tPDX1 & NA & NA & NA & NA & NA & NA & NA & NA & NA\\\\\n",
       "\\end{tabular}\n"
      ],
      "text/markdown": [
       "\n",
       "A matrix: 9 × 9 of type dbl\n",
       "\n",
       "| <!--/--> | HLXb9 | HHEX | HNF4a | ISL1 | NEUROD1 | NKX6.1 | PAX4 | PTF1a | PDX1 |\n",
       "|---|---|---|---|---|---|---|---|---|---|\n",
       "| HLXb9 | NA | NA | NA | NA | NA | NA | NA | NA | NA |\n",
       "| HHEX | NA | NA | NA | NA | NA | NA | NA | NA | NA |\n",
       "| HNF4a | NA | NA | NA | NA | NA | NA | NA | NA | NA |\n",
       "| ISL1 | NA | NA | NA | NA | NA | NA | NA | NA | NA |\n",
       "| NEUROD1 | NA | NA | NA | NA | NA | NA | NA | NA | NA |\n",
       "| NKX6.1 | NA | NA | NA | NA | NA | NA | NA | NA | NA |\n",
       "| PAX4 | NA | NA | NA | NA | NA | NA | NA | NA | NA |\n",
       "| PTF1a | NA | NA | NA | NA | NA | NA | NA | NA | NA |\n",
       "| PDX1 | NA | NA | NA | NA | NA | NA | NA | NA | NA |\n",
       "\n"
      ],
      "text/plain": [
       "        HLXb9 HHEX HNF4a ISL1 NEUROD1 NKX6.1 PAX4 PTF1a PDX1\n",
       "HLXb9   NA    NA   NA    NA   NA      NA     NA   NA    NA  \n",
       "HHEX    NA    NA   NA    NA   NA      NA     NA   NA    NA  \n",
       "HNF4a   NA    NA   NA    NA   NA      NA     NA   NA    NA  \n",
       "ISL1    NA    NA   NA    NA   NA      NA     NA   NA    NA  \n",
       "NEUROD1 NA    NA   NA    NA   NA      NA     NA   NA    NA  \n",
       "NKX6.1  NA    NA   NA    NA   NA      NA     NA   NA    NA  \n",
       "PAX4    NA    NA   NA    NA   NA      NA     NA   NA    NA  \n",
       "PTF1a   NA    NA   NA    NA   NA      NA     NA   NA    NA  \n",
       "PDX1    NA    NA   NA    NA   NA      NA     NA   NA    NA  "
      ]
     },
     "metadata": {},
     "output_type": "display_data"
    },
    {
     "name": "stdout",
     "output_type": "stream",
     "text": [
      "[1] \"-----------------------------------------------------------------------------------------------------------------------------\"\n"
     ]
    },
    {
     "data": {
      "text/html": [
       "3.82630561005435"
      ],
      "text/latex": [
       "3.82630561005435"
      ],
      "text/markdown": [
       "3.82630561005435"
      ],
      "text/plain": [
       "[1] 3.826306"
      ]
     },
     "metadata": {},
     "output_type": "display_data"
    }
   ],
   "source": [
    "head(x)\n",
    "print(\"-----------------------------------------------------------------------------------------------------------------------------\")\n",
    "\n",
    "rowMeans(x)\n",
    "print(\"-----------------------------------------------------------------------------------------------------------------------------\")\n",
    "\n",
    "colMeans(x)\n",
    "print(\"-----------------------------------------------------------------------------------------------------------------------------\")\n",
    "\n",
    "\n",
    "# 1 = rows, 2 = cols\n",
    "apply(x, 1, var)\n",
    "print(\"-----------------------------------------------------------------------------------------------------------------------------\")\n",
    "\n",
    "var(x[2,])\n",
    "#NA why?\n",
    "print(\"-----------------------------------------------------------------------------------------------------------------------------\")\n",
    "\n",
    "var(as.numeric(x[2,]))\n"
   ]
  },
  {
   "cell_type": "markdown",
   "id": "b8502411-d01e-4777-bfa9-303937d7d407",
   "metadata": {},
   "source": [
    "9. more on \"apply\" and data checking..."
   ]
  },
  {
   "cell_type": "code",
   "execution_count": 9,
   "id": "90c79c45-5f99-49e0-a617-d95bdf6f9f74",
   "metadata": {},
   "outputs": [
    {
     "data": {
      "text/html": [
       "<style>\n",
       ".dl-inline {width: auto; margin:0; padding: 0}\n",
       ".dl-inline>dt, .dl-inline>dd {float: none; width: auto; display: inline-block}\n",
       ".dl-inline>dt::after {content: \":\\0020\"; padding-right: .5ex}\n",
       ".dl-inline>dt:not(:first-of-type) {padding-left: .5ex}\n",
       "</style><dl class=dl-inline><dt>SC.1</dt><dd>1</dd><dt>DE-1</dt><dd>1.66902676550963</dd><dt>DE-2</dt><dd>2.15055967657538</dd><dt>DE-3</dt><dd>1.66902676550963</dd><dt>DE-4</dt><dd>1.68257329734758</dd><dt>DE+1</dt><dd>1.88362081628567</dd><dt>DE+2</dt><dd>1.4276061727819</dd><dt>DE+3</dt><dd>2.24792751344359</dd><dt>P2PP-1</dt><dd>0.22650852980868</dd><dt>P2PP-2</dt><dd>1.20163386116965</dd><dt>P2PP-3</dt><dd>0.286881147788162</dd><dt>P2PP-4</dt><dd>0.526068811667588</dd><dt>P2PP+1</dt><dd>0.22650852980868</dd><dt>P2PP+2</dt><dd>0.298658315564515</dd><dt>P2PP+3</dt><dd>0.22650852980868</dd><dt>P2PE-1</dt><dd>0.687060688339892</dd><dt>P2PE-2</dt><dd>0.545968369105292</dd><dt>P2PE-3</dt><dd>0.20163386116965</dd><dt>P2PE-4</dt><dd>0.137503523749935</dd><dt>P2PE+1</dt><dd>0.356143810225275</dd><dt>P2PE+2</dt><dd>0.53605290024021</dd><dt>P2PE+3</dt><dd>0.16349873228288</dd><dt>P2PE+4</dt><dd>0.20163386116965</dd><dt>P3PP-1</dt><dd>0.650764559116902</dd><dt>P3PP-2</dt><dd>0.545968369105292</dd><dt>P3PP+1</dt><dd>0.739848102699327</dd><dt>P3PP+2</dt><dd>0.505890929729957</dd><dt>P3PP+3</dt><dd>0.565597175854225</dd><dt>P3PE-1</dt><dd>0.31034012061215</dd><dt>P3PE-2</dt><dd>0.286881147788162</dd><dt>P3PE-3</dt><dd>0.214124805352847</dd><dt>P3PE-4</dt><dd>0.16349873228288</dd><dt>P3PE+1</dt><dd>0.37851162325373</dd><dt>P3PE+2</dt><dd>0.432959407276106</dd><dt>P3PE+3</dt><dd>0.137503523749935</dd><dt>P3PE+4</dt><dd>0.111031312388744</dd><dt>P5PP-1</dt><dd>0.238786859587116</dd><dt>P5PP-2</dt><dd>0.124328135002202</dd><dt>P5PP+1</dt><dd>0.124328135002202</dd><dt>P5PP+2</dt><dd>0.137503523749935</dd><dt>P5PE-1</dt><dd>0.150559676575381</dd><dt>P5PE-2</dt><dd>0.53605290024021</dd><dt>P5PE-3</dt><dd>0.070389327891398</dd><dt>P5PE-4</dt><dd>0.454175893185802</dd><dt>P5PE+1</dt><dd>0.124328135002202</dd><dt>P5PE+2</dt><dd>0.111031312388744</dd><dt>P5PE+3</dt><dd>0.0976107966264223</dd><dt>P5PE+4</dt><dd>0.22650852980868</dd></dl>\n"
      ],
      "text/latex": [
       "\\begin{description*}\n",
       "\\item[SC.1] 1\n",
       "\\item[DE-1] 1.66902676550963\n",
       "\\item[DE-2] 2.15055967657538\n",
       "\\item[DE-3] 1.66902676550963\n",
       "\\item[DE-4] 1.68257329734758\n",
       "\\item[DE+1] 1.88362081628567\n",
       "\\item[DE+2] 1.4276061727819\n",
       "\\item[DE+3] 2.24792751344359\n",
       "\\item[P2PP-1] 0.22650852980868\n",
       "\\item[P2PP-2] 1.20163386116965\n",
       "\\item[P2PP-3] 0.286881147788162\n",
       "\\item[P2PP-4] 0.526068811667588\n",
       "\\item[P2PP+1] 0.22650852980868\n",
       "\\item[P2PP+2] 0.298658315564515\n",
       "\\item[P2PP+3] 0.22650852980868\n",
       "\\item[P2PE-1] 0.687060688339892\n",
       "\\item[P2PE-2] 0.545968369105292\n",
       "\\item[P2PE-3] 0.20163386116965\n",
       "\\item[P2PE-4] 0.137503523749935\n",
       "\\item[P2PE+1] 0.356143810225275\n",
       "\\item[P2PE+2] 0.53605290024021\n",
       "\\item[P2PE+3] 0.16349873228288\n",
       "\\item[P2PE+4] 0.20163386116965\n",
       "\\item[P3PP-1] 0.650764559116902\n",
       "\\item[P3PP-2] 0.545968369105292\n",
       "\\item[P3PP+1] 0.739848102699327\n",
       "\\item[P3PP+2] 0.505890929729957\n",
       "\\item[P3PP+3] 0.565597175854225\n",
       "\\item[P3PE-1] 0.31034012061215\n",
       "\\item[P3PE-2] 0.286881147788162\n",
       "\\item[P3PE-3] 0.214124805352847\n",
       "\\item[P3PE-4] 0.16349873228288\n",
       "\\item[P3PE+1] 0.37851162325373\n",
       "\\item[P3PE+2] 0.432959407276106\n",
       "\\item[P3PE+3] 0.137503523749935\n",
       "\\item[P3PE+4] 0.111031312388744\n",
       "\\item[P5PP-1] 0.238786859587116\n",
       "\\item[P5PP-2] 0.124328135002202\n",
       "\\item[P5PP+1] 0.124328135002202\n",
       "\\item[P5PP+2] 0.137503523749935\n",
       "\\item[P5PE-1] 0.150559676575381\n",
       "\\item[P5PE-2] 0.53605290024021\n",
       "\\item[P5PE-3] 0.070389327891398\n",
       "\\item[P5PE-4] 0.454175893185802\n",
       "\\item[P5PE+1] 0.124328135002202\n",
       "\\item[P5PE+2] 0.111031312388744\n",
       "\\item[P5PE+3] 0.0976107966264223\n",
       "\\item[P5PE+4] 0.22650852980868\n",
       "\\end{description*}\n"
      ],
      "text/markdown": [
       "SC.1\n",
       ":   1DE-1\n",
       ":   1.66902676550963DE-2\n",
       ":   2.15055967657538DE-3\n",
       ":   1.66902676550963DE-4\n",
       ":   1.68257329734758DE+1\n",
       ":   1.88362081628567DE+2\n",
       ":   1.4276061727819DE+3\n",
       ":   2.24792751344359P2PP-1\n",
       ":   0.22650852980868P2PP-2\n",
       ":   1.20163386116965P2PP-3\n",
       ":   0.286881147788162P2PP-4\n",
       ":   0.526068811667588P2PP+1\n",
       ":   0.22650852980868P2PP+2\n",
       ":   0.298658315564515P2PP+3\n",
       ":   0.22650852980868P2PE-1\n",
       ":   0.687060688339892P2PE-2\n",
       ":   0.545968369105292P2PE-3\n",
       ":   0.20163386116965P2PE-4\n",
       ":   0.137503523749935P2PE+1\n",
       ":   0.356143810225275P2PE+2\n",
       ":   0.53605290024021P2PE+3\n",
       ":   0.16349873228288P2PE+4\n",
       ":   0.20163386116965P3PP-1\n",
       ":   0.650764559116902P3PP-2\n",
       ":   0.545968369105292P3PP+1\n",
       ":   0.739848102699327P3PP+2\n",
       ":   0.505890929729957P3PP+3\n",
       ":   0.565597175854225P3PE-1\n",
       ":   0.31034012061215P3PE-2\n",
       ":   0.286881147788162P3PE-3\n",
       ":   0.214124805352847P3PE-4\n",
       ":   0.16349873228288P3PE+1\n",
       ":   0.37851162325373P3PE+2\n",
       ":   0.432959407276106P3PE+3\n",
       ":   0.137503523749935P3PE+4\n",
       ":   0.111031312388744P5PP-1\n",
       ":   0.238786859587116P5PP-2\n",
       ":   0.124328135002202P5PP+1\n",
       ":   0.124328135002202P5PP+2\n",
       ":   0.137503523749935P5PE-1\n",
       ":   0.150559676575381P5PE-2\n",
       ":   0.53605290024021P5PE-3\n",
       ":   0.070389327891398P5PE-4\n",
       ":   0.454175893185802P5PE+1\n",
       ":   0.124328135002202P5PE+2\n",
       ":   0.111031312388744P5PE+3\n",
       ":   0.0976107966264223P5PE+4\n",
       ":   0.22650852980868\n",
       "\n"
      ],
      "text/plain": [
       "      SC.1       DE-1       DE-2       DE-3       DE-4       DE+1       DE+2 \n",
       "1.00000000 1.66902677 2.15055968 1.66902677 1.68257330 1.88362082 1.42760617 \n",
       "      DE+3     P2PP-1     P2PP-2     P2PP-3     P2PP-4     P2PP+1     P2PP+2 \n",
       "2.24792751 0.22650853 1.20163386 0.28688115 0.52606881 0.22650853 0.29865832 \n",
       "    P2PP+3     P2PE-1     P2PE-2     P2PE-3     P2PE-4     P2PE+1     P2PE+2 \n",
       "0.22650853 0.68706069 0.54596837 0.20163386 0.13750352 0.35614381 0.53605290 \n",
       "    P2PE+3     P2PE+4     P3PP-1     P3PP-2     P3PP+1     P3PP+2     P3PP+3 \n",
       "0.16349873 0.20163386 0.65076456 0.54596837 0.73984810 0.50589093 0.56559718 \n",
       "    P3PE-1     P3PE-2     P3PE-3     P3PE-4     P3PE+1     P3PE+2     P3PE+3 \n",
       "0.31034012 0.28688115 0.21412481 0.16349873 0.37851162 0.43295941 0.13750352 \n",
       "    P3PE+4     P5PP-1     P5PP-2     P5PP+1     P5PP+2     P5PE-1     P5PE-2 \n",
       "0.11103131 0.23878686 0.12432814 0.12432814 0.13750352 0.15055968 0.53605290 \n",
       "    P5PE-3     P5PE-4     P5PE+1     P5PE+2     P5PE+3     P5PE+4 \n",
       "0.07038933 0.45417589 0.12432814 0.11103131 0.09761080 0.22650853 "
      ]
     },
     "metadata": {},
     "output_type": "display_data"
    },
    {
     "name": "stdout",
     "output_type": "stream",
     "text": [
      "[1] \"-----------------------------------------------------------------------------------------------------------------------------\"\n"
     ]
    },
    {
     "data": {
      "text/html": [
       "<style>\n",
       ".dl-inline {width: auto; margin:0; padding: 0}\n",
       ".dl-inline>dt, .dl-inline>dd {float: none; width: auto; display: inline-block}\n",
       ".dl-inline>dt::after {content: \":\\0020\"; padding-right: .5ex}\n",
       ".dl-inline>dt:not(:first-of-type) {padding-left: .5ex}\n",
       "</style><dl class=dl-inline><dt>HLXb9</dt><dd>1.70929063572336</dd><dt>HHEX</dt><dd>0.070389327891398</dd><dt>HNF4a</dt><dd>1.9560566524124</dd><dt>ISL1</dt><dd>1.4276061727819</dd><dt>NEUROD1</dt><dd>2.20163386116965</dd><dt>NKX6.1</dt><dd>0.124328135002202</dd><dt>PAX4</dt><dd>0.286881147788162</dd><dt>PTF1a</dt><dd>0.55581615506164</dd><dt>PDX1</dt><dd>1</dd></dl>\n"
      ],
      "text/latex": [
       "\\begin{description*}\n",
       "\\item[HLXb9] 1.70929063572336\n",
       "\\item[HHEX] 0.070389327891398\n",
       "\\item[HNF4a] 1.9560566524124\n",
       "\\item[ISL1] 1.4276061727819\n",
       "\\item[NEUROD1] 2.20163386116965\n",
       "\\item[NKX6.1] 0.124328135002202\n",
       "\\item[PAX4] 0.286881147788162\n",
       "\\item[PTF1a] 0.55581615506164\n",
       "\\item[PDX1] 1\n",
       "\\end{description*}\n"
      ],
      "text/markdown": [
       "HLXb9\n",
       ":   1.70929063572336HHEX\n",
       ":   0.070389327891398HNF4a\n",
       ":   1.9560566524124ISL1\n",
       ":   1.4276061727819NEUROD1\n",
       ":   2.20163386116965NKX6.1\n",
       ":   0.124328135002202PAX4\n",
       ":   0.286881147788162PTF1a\n",
       ":   0.55581615506164PDX1\n",
       ":   1\n",
       "\n"
      ],
      "text/plain": [
       "     HLXb9       HHEX      HNF4a       ISL1    NEUROD1     NKX6.1       PAX4 \n",
       "1.70929064 0.07038933 1.95605665 1.42760617 2.20163386 0.12432814 0.28688115 \n",
       "     PTF1a       PDX1 \n",
       "0.55581616 1.00000000 "
      ]
     },
     "metadata": {},
     "output_type": "display_data"
    },
    {
     "name": "stdout",
     "output_type": "stream",
     "text": [
      "[1] \"-----------------------------------------------------------------------------------------------------------------------------\"\n"
     ]
    },
    {
     "data": {
      "text/html": [
       "1.70929063572336"
      ],
      "text/latex": [
       "1.70929063572336"
      ],
      "text/markdown": [
       "1.70929063572336"
      ],
      "text/plain": [
       "[1] 1.709291"
      ]
     },
     "metadata": {},
     "output_type": "display_data"
    },
    {
     "name": "stdout",
     "output_type": "stream",
     "text": [
      "[1] \"-----------------------------------------------------------------------------------------------------------------------------\"\n"
     ]
    },
    {
     "data": {
      "text/html": [
       "2.20163386116965"
      ],
      "text/latex": [
       "2.20163386116965"
      ],
      "text/markdown": [
       "2.20163386116965"
      ],
      "text/plain": [
       "[1] 2.201634"
      ]
     },
     "metadata": {},
     "output_type": "display_data"
    },
    {
     "name": "stdout",
     "output_type": "stream",
     "text": [
      "[1] \"-----------------------------------------------------------------------------------------------------------------------------\"\n"
     ]
    },
    {
     "data": {
      "text/html": [
       "2.20163386116965"
      ],
      "text/latex": [
       "2.20163386116965"
      ],
      "text/markdown": [
       "2.20163386116965"
      ],
      "text/plain": [
       "[1] 2.201634"
      ]
     },
     "metadata": {},
     "output_type": "display_data"
    },
    {
     "name": "stdout",
     "output_type": "stream",
     "text": [
      "[1] \"-----------------------------------------------------------------------------------------------------------------------------\"\n"
     ]
    },
    {
     "data": {
      "text/html": [
       "<style>\n",
       ".dl-inline {width: auto; margin:0; padding: 0}\n",
       ".dl-inline>dt, .dl-inline>dd {float: none; width: auto; display: inline-block}\n",
       ".dl-inline>dt::after {content: \":\\0020\"; padding-right: .5ex}\n",
       ".dl-inline>dt:not(:first-of-type) {padding-left: .5ex}\n",
       "</style><dl class=dl-inline><dt>HLXb9</dt><dd>1.70929063572336</dd><dt>HHEX</dt><dd>0.070389327891398</dd><dt>HNF4a</dt><dd>1.9560566524124</dd><dt>ISL1</dt><dd>1.4276061727819</dd><dt>NEUROD1</dt><dd>2.20163386116965</dd><dt>NKX6.1</dt><dd>0.124328135002202</dd><dt>PAX4</dt><dd>0.286881147788162</dd><dt>PTF1a</dt><dd>0.55581615506164</dd><dt>PDX1</dt><dd>1</dd></dl>\n"
      ],
      "text/latex": [
       "\\begin{description*}\n",
       "\\item[HLXb9] 1.70929063572336\n",
       "\\item[HHEX] 0.070389327891398\n",
       "\\item[HNF4a] 1.9560566524124\n",
       "\\item[ISL1] 1.4276061727819\n",
       "\\item[NEUROD1] 2.20163386116965\n",
       "\\item[NKX6.1] 0.124328135002202\n",
       "\\item[PAX4] 0.286881147788162\n",
       "\\item[PTF1a] 0.55581615506164\n",
       "\\item[PDX1] 1\n",
       "\\end{description*}\n"
      ],
      "text/markdown": [
       "HLXb9\n",
       ":   1.70929063572336HHEX\n",
       ":   0.070389327891398HNF4a\n",
       ":   1.9560566524124ISL1\n",
       ":   1.4276061727819NEUROD1\n",
       ":   2.20163386116965NKX6.1\n",
       ":   0.124328135002202PAX4\n",
       ":   0.286881147788162PTF1a\n",
       ":   0.55581615506164PDX1\n",
       ":   1\n",
       "\n"
      ],
      "text/plain": [
       "     HLXb9       HHEX      HNF4a       ISL1    NEUROD1     NKX6.1       PAX4 \n",
       "1.70929064 0.07038933 1.95605665 1.42760617 2.20163386 0.12432814 0.28688115 \n",
       "     PTF1a       PDX1 \n",
       "0.55581616 1.00000000 "
      ]
     },
     "metadata": {},
     "output_type": "display_data"
    }
   ],
   "source": [
    "apply(x, 1, min)\n",
    "print(\"-----------------------------------------------------------------------------------------------------------------------------\")\n",
    "\n",
    "apply(x, 2, min)\n",
    "print(\"-----------------------------------------------------------------------------------------------------------------------------\")\n",
    "\n",
    "\n",
    "min(x$HLXb9)\n",
    "print(\"-----------------------------------------------------------------------------------------------------------------------------\")\n",
    "\n",
    "min(x$NEUROD1)\n",
    "print(\"-----------------------------------------------------------------------------------------------------------------------------\")\n",
    "\n",
    "min(x$NEUROD1, na.rm = T)\n",
    "print(\"-----------------------------------------------------------------------------------------------------------------------------\")\n",
    "\n",
    "apply(x, 2, min, na.rm = T)"
   ]
  },
  {
   "cell_type": "markdown",
   "id": "48beaf78-978a-4d1f-9595-00367dd4351f",
   "metadata": {},
   "source": [
    "10. the difference between na.omit and na.rm = T ... check the outputs ..."
   ]
  },
  {
   "cell_type": "code",
   "execution_count": 10,
   "id": "61b487af-ebc7-46a5-949d-d163ecdd3c84",
   "metadata": {},
   "outputs": [
    {
     "data": {
      "text/html": [
       "<table class=\"dataframe\">\n",
       "<caption>A data.frame: 3 × 2</caption>\n",
       "<thead>\n",
       "\t<tr><th scope=col>age</th><th scope=col>weight</th></tr>\n",
       "\t<tr><th scope=col>&lt;dbl&gt;</th><th scope=col>&lt;dbl&gt;</th></tr>\n",
       "</thead>\n",
       "<tbody>\n",
       "\t<tr><td>20</td><td>45</td></tr>\n",
       "\t<tr><td>30</td><td>55</td></tr>\n",
       "\t<tr><td>NA</td><td>65</td></tr>\n",
       "</tbody>\n",
       "</table>\n"
      ],
      "text/latex": [
       "A data.frame: 3 × 2\n",
       "\\begin{tabular}{ll}\n",
       " age & weight\\\\\n",
       " <dbl> & <dbl>\\\\\n",
       "\\hline\n",
       "\t 20 & 45\\\\\n",
       "\t 30 & 55\\\\\n",
       "\t NA & 65\\\\\n",
       "\\end{tabular}\n"
      ],
      "text/markdown": [
       "\n",
       "A data.frame: 3 × 2\n",
       "\n",
       "| age &lt;dbl&gt; | weight &lt;dbl&gt; |\n",
       "|---|---|\n",
       "| 20 | 45 |\n",
       "| 30 | 55 |\n",
       "| NA | 65 |\n",
       "\n"
      ],
      "text/plain": [
       "  age weight\n",
       "1 20  45    \n",
       "2 30  55    \n",
       "3 NA  65    "
      ]
     },
     "metadata": {},
     "output_type": "display_data"
    },
    {
     "name": "stdout",
     "output_type": "stream",
     "text": [
      "[1] \"-----------------------------------------------------------------------------------------------------------------------------\"\n"
     ]
    },
    {
     "data": {
      "text/html": [
       "<table class=\"dataframe\">\n",
       "<caption>A data.frame: 2 × 2</caption>\n",
       "<thead>\n",
       "\t<tr><th></th><th scope=col>age</th><th scope=col>weight</th></tr>\n",
       "\t<tr><th></th><th scope=col>&lt;dbl&gt;</th><th scope=col>&lt;dbl&gt;</th></tr>\n",
       "</thead>\n",
       "<tbody>\n",
       "\t<tr><th scope=row>1</th><td>20</td><td>45</td></tr>\n",
       "\t<tr><th scope=row>2</th><td>30</td><td>55</td></tr>\n",
       "</tbody>\n",
       "</table>\n"
      ],
      "text/latex": [
       "A data.frame: 2 × 2\n",
       "\\begin{tabular}{r|ll}\n",
       "  & age & weight\\\\\n",
       "  & <dbl> & <dbl>\\\\\n",
       "\\hline\n",
       "\t1 & 20 & 45\\\\\n",
       "\t2 & 30 & 55\\\\\n",
       "\\end{tabular}\n"
      ],
      "text/markdown": [
       "\n",
       "A data.frame: 2 × 2\n",
       "\n",
       "| <!--/--> | age &lt;dbl&gt; | weight &lt;dbl&gt; |\n",
       "|---|---|---|\n",
       "| 1 | 20 | 45 |\n",
       "| 2 | 30 | 55 |\n",
       "\n"
      ],
      "text/plain": [
       "  age weight\n",
       "1 20  45    \n",
       "2 30  55    "
      ]
     },
     "metadata": {},
     "output_type": "display_data"
    },
    {
     "name": "stdout",
     "output_type": "stream",
     "text": [
      "[1] \"-----------------------------------------------------------------------------------------------------------------------------\"\n"
     ]
    },
    {
     "data": {
      "text/html": [
       "<style>\n",
       ".dl-inline {width: auto; margin:0; padding: 0}\n",
       ".dl-inline>dt, .dl-inline>dd {float: none; width: auto; display: inline-block}\n",
       ".dl-inline>dt::after {content: \":\\0020\"; padding-right: .5ex}\n",
       ".dl-inline>dt:not(:first-of-type) {padding-left: .5ex}\n",
       "</style><dl class=dl-inline><dt>age</dt><dd>&lt;NA&gt;</dd><dt>weight</dt><dd>65</dd></dl>\n"
      ],
      "text/latex": [
       "\\begin{description*}\n",
       "\\item[age] <NA>\n",
       "\\item[weight] 65\n",
       "\\end{description*}\n"
      ],
      "text/markdown": [
       "age\n",
       ":   &lt;NA&gt;weight\n",
       ":   65\n",
       "\n"
      ],
      "text/plain": [
       "   age weight \n",
       "    NA     65 "
      ]
     },
     "metadata": {},
     "output_type": "display_data"
    },
    {
     "name": "stdout",
     "output_type": "stream",
     "text": [
      "[1] \"-----------------------------------------------------------------------------------------------------------------------------\"\n"
     ]
    },
    {
     "data": {
      "text/html": [
       "<style>\n",
       ".dl-inline {width: auto; margin:0; padding: 0}\n",
       ".dl-inline>dt, .dl-inline>dd {float: none; width: auto; display: inline-block}\n",
       ".dl-inline>dt::after {content: \":\\0020\"; padding-right: .5ex}\n",
       ".dl-inline>dt:not(:first-of-type) {padding-left: .5ex}\n",
       "</style><dl class=dl-inline><dt>age</dt><dd>30</dd><dt>weight</dt><dd>55</dd></dl>\n"
      ],
      "text/latex": [
       "\\begin{description*}\n",
       "\\item[age] 30\n",
       "\\item[weight] 55\n",
       "\\end{description*}\n"
      ],
      "text/markdown": [
       "age\n",
       ":   30weight\n",
       ":   55\n",
       "\n"
      ],
      "text/plain": [
       "   age weight \n",
       "    30     55 "
      ]
     },
     "metadata": {},
     "output_type": "display_data"
    },
    {
     "name": "stdout",
     "output_type": "stream",
     "text": [
      "[1] \"-----------------------------------------------------------------------------------------------------------------------------\"\n"
     ]
    },
    {
     "data": {
      "text/html": [
       "<style>\n",
       ".dl-inline {width: auto; margin:0; padding: 0}\n",
       ".dl-inline>dt, .dl-inline>dd {float: none; width: auto; display: inline-block}\n",
       ".dl-inline>dt::after {content: \":\\0020\"; padding-right: .5ex}\n",
       ".dl-inline>dt:not(:first-of-type) {padding-left: .5ex}\n",
       "</style><dl class=dl-inline><dt>age</dt><dd>30</dd><dt>weight</dt><dd>65</dd></dl>\n"
      ],
      "text/latex": [
       "\\begin{description*}\n",
       "\\item[age] 30\n",
       "\\item[weight] 65\n",
       "\\end{description*}\n"
      ],
      "text/markdown": [
       "age\n",
       ":   30weight\n",
       ":   65\n",
       "\n"
      ],
      "text/plain": [
       "   age weight \n",
       "    30     65 "
      ]
     },
     "metadata": {},
     "output_type": "display_data"
    }
   ],
   "source": [
    "#the  na.omit will remove the whole row and na.rm = T just remove the NA variable\n",
    "y <- data.frame(age = c(20, 30, NA), weight = c(45, 55, 65))\n",
    "y\n",
    "print(\"-----------------------------------------------------------------------------------------------------------------------------\")\n",
    "\n",
    "na.omit(y)\n",
    "print(\"-----------------------------------------------------------------------------------------------------------------------------\")\n",
    "\n",
    "z <- na.omit(y)\n",
    "apply(y, 2, max)\n",
    "print(\"-----------------------------------------------------------------------------------------------------------------------------\")\n",
    "\n",
    "apply(z, 2, max)\n",
    "print(\"-----------------------------------------------------------------------------------------------------------------------------\")\n",
    "\n",
    "apply(y, 2, max, na.rm =T)\n"
   ]
  },
  {
   "cell_type": "markdown",
   "id": "847c6414-671a-4ee2-99c9-6d4658934ab9",
   "metadata": {},
   "source": [
    "11. more on apply : sapply & lapply ... and a little bit on functions"
   ]
  },
  {
   "cell_type": "code",
   "execution_count": 11,
   "id": "6e029b03-411a-4525-968a-d78061ccd6d0",
   "metadata": {},
   "outputs": [
    {
     "data": {
      "text/html": [
       "<ol>\n",
       "\t<li>1</li>\n",
       "\t<li>4</li>\n",
       "\t<li>9</li>\n",
       "</ol>\n"
      ],
      "text/latex": [
       "\\begin{enumerate}\n",
       "\\item 1\n",
       "\\item 4\n",
       "\\item 9\n",
       "\\end{enumerate}\n"
      ],
      "text/markdown": [
       "1. 1\n",
       "2. 4\n",
       "3. 9\n",
       "\n",
       "\n"
      ],
      "text/plain": [
       "[[1]]\n",
       "[1] 1\n",
       "\n",
       "[[2]]\n",
       "[1] 4\n",
       "\n",
       "[[3]]\n",
       "[1] 9\n"
      ]
     },
     "metadata": {},
     "output_type": "display_data"
    },
    {
     "name": "stdout",
     "output_type": "stream",
     "text": [
      "[1] \"-----------------------------------------------------------------------------------------------------------------------------\"\n"
     ]
    },
    {
     "data": {
      "text/html": [
       "<style>\n",
       ".list-inline {list-style: none; margin:0; padding: 0}\n",
       ".list-inline>li {display: inline-block}\n",
       ".list-inline>li:not(:last-child)::after {content: \"\\00b7\"; padding: 0 .5ex}\n",
       "</style>\n",
       "<ol class=list-inline><li>1</li><li>4</li><li>9</li></ol>\n"
      ],
      "text/latex": [
       "\\begin{enumerate*}\n",
       "\\item 1\n",
       "\\item 4\n",
       "\\item 9\n",
       "\\end{enumerate*}\n"
      ],
      "text/markdown": [
       "1. 1\n",
       "2. 4\n",
       "3. 9\n",
       "\n",
       "\n"
      ],
      "text/plain": [
       "[1] 1 4 9"
      ]
     },
     "metadata": {},
     "output_type": "display_data"
    },
    {
     "name": "stdout",
     "output_type": "stream",
     "text": [
      "[1] \"-----------------------------------------------------------------------------------------------------------------------------\"\n"
     ]
    },
    {
     "data": {
      "text/html": [
       "<table class=\"dataframe\">\n",
       "<caption>A data.frame: 6 × 9</caption>\n",
       "<thead>\n",
       "\t<tr><th></th><th scope=col>HLXb9</th><th scope=col>HHEX</th><th scope=col>HNF4a</th><th scope=col>ISL1</th><th scope=col>NEUROD1</th><th scope=col>NKX6.1</th><th scope=col>PAX4</th><th scope=col>PTF1a</th><th scope=col>PDX1</th></tr>\n",
       "\t<tr><th></th><th scope=col>&lt;dbl&gt;</th><th scope=col>&lt;dbl&gt;</th><th scope=col>&lt;dbl&gt;</th><th scope=col>&lt;dbl&gt;</th><th scope=col>&lt;dbl&gt;</th><th scope=col>&lt;dbl&gt;</th><th scope=col>&lt;dbl&gt;</th><th scope=col>&lt;dbl&gt;</th><th scope=col>&lt;dbl&gt;</th></tr>\n",
       "</thead>\n",
       "<tbody>\n",
       "\t<tr><th scope=row>SC.1</th><td>1.709291</td><td>1.521051</td><td>1.956057</td><td>1.427606</td><td>2.201634</td><td>1.063503</td><td>1.195348</td><td>1.263034</td><td>1.000000</td></tr>\n",
       "\t<tr><th scope=row>DE-1</th><td>7.073606</td><td>3.576522</td><td>6.381629</td><td>4.804260</td><td>2.555816</td><td>2.157044</td><td>1.669027</td><td>2.084064</td><td>4.490570</td></tr>\n",
       "\t<tr><th scope=row>DE-2</th><td>5.559798</td><td>5.241077</td><td>5.148365</td><td>3.575312</td><td>2.833902</td><td>2.438293</td><td>2.150560</td><td>2.232661</td><td>3.657640</td></tr>\n",
       "\t<tr><th scope=row>DE-3</th><td>5.725469</td><td>3.576522</td><td>4.932156</td><td>4.804260</td><td>4.074677</td><td>2.157044</td><td>1.669027</td><td>2.060047</td><td>4.738768</td></tr>\n",
       "\t<tr><th scope=row>DE-4</th><td>7.150661</td><td>5.241077</td><td>5.988117</td><td>3.575312</td><td>4.536675</td><td>2.438293</td><td>2.150560</td><td>1.682573</td><td>3.940167</td></tr>\n",
       "\t<tr><th scope=row>DE+1</th><td>7.402842</td><td>3.589763</td><td>5.460415</td><td>5.358607</td><td>2.347666</td><td>2.087463</td><td>1.883621</td><td>2.321928</td><td>2.817623</td></tr>\n",
       "</tbody>\n",
       "</table>\n"
      ],
      "text/latex": [
       "A data.frame: 6 × 9\n",
       "\\begin{tabular}{r|lllllllll}\n",
       "  & HLXb9 & HHEX & HNF4a & ISL1 & NEUROD1 & NKX6.1 & PAX4 & PTF1a & PDX1\\\\\n",
       "  & <dbl> & <dbl> & <dbl> & <dbl> & <dbl> & <dbl> & <dbl> & <dbl> & <dbl>\\\\\n",
       "\\hline\n",
       "\tSC.1 & 1.709291 & 1.521051 & 1.956057 & 1.427606 & 2.201634 & 1.063503 & 1.195348 & 1.263034 & 1.000000\\\\\n",
       "\tDE-1 & 7.073606 & 3.576522 & 6.381629 & 4.804260 & 2.555816 & 2.157044 & 1.669027 & 2.084064 & 4.490570\\\\\n",
       "\tDE-2 & 5.559798 & 5.241077 & 5.148365 & 3.575312 & 2.833902 & 2.438293 & 2.150560 & 2.232661 & 3.657640\\\\\n",
       "\tDE-3 & 5.725469 & 3.576522 & 4.932156 & 4.804260 & 4.074677 & 2.157044 & 1.669027 & 2.060047 & 4.738768\\\\\n",
       "\tDE-4 & 7.150661 & 5.241077 & 5.988117 & 3.575312 & 4.536675 & 2.438293 & 2.150560 & 1.682573 & 3.940167\\\\\n",
       "\tDE+1 & 7.402842 & 3.589763 & 5.460415 & 5.358607 & 2.347666 & 2.087463 & 1.883621 & 2.321928 & 2.817623\\\\\n",
       "\\end{tabular}\n"
      ],
      "text/markdown": [
       "\n",
       "A data.frame: 6 × 9\n",
       "\n",
       "| <!--/--> | HLXb9 &lt;dbl&gt; | HHEX &lt;dbl&gt; | HNF4a &lt;dbl&gt; | ISL1 &lt;dbl&gt; | NEUROD1 &lt;dbl&gt; | NKX6.1 &lt;dbl&gt; | PAX4 &lt;dbl&gt; | PTF1a &lt;dbl&gt; | PDX1 &lt;dbl&gt; |\n",
       "|---|---|---|---|---|---|---|---|---|---|\n",
       "| SC.1 | 1.709291 | 1.521051 | 1.956057 | 1.427606 | 2.201634 | 1.063503 | 1.195348 | 1.263034 | 1.000000 |\n",
       "| DE-1 | 7.073606 | 3.576522 | 6.381629 | 4.804260 | 2.555816 | 2.157044 | 1.669027 | 2.084064 | 4.490570 |\n",
       "| DE-2 | 5.559798 | 5.241077 | 5.148365 | 3.575312 | 2.833902 | 2.438293 | 2.150560 | 2.232661 | 3.657640 |\n",
       "| DE-3 | 5.725469 | 3.576522 | 4.932156 | 4.804260 | 4.074677 | 2.157044 | 1.669027 | 2.060047 | 4.738768 |\n",
       "| DE-4 | 7.150661 | 5.241077 | 5.988117 | 3.575312 | 4.536675 | 2.438293 | 2.150560 | 1.682573 | 3.940167 |\n",
       "| DE+1 | 7.402842 | 3.589763 | 5.460415 | 5.358607 | 2.347666 | 2.087463 | 1.883621 | 2.321928 | 2.817623 |\n",
       "\n"
      ],
      "text/plain": [
       "     HLXb9    HHEX     HNF4a    ISL1     NEUROD1  NKX6.1   PAX4     PTF1a   \n",
       "SC.1 1.709291 1.521051 1.956057 1.427606 2.201634 1.063503 1.195348 1.263034\n",
       "DE-1 7.073606 3.576522 6.381629 4.804260 2.555816 2.157044 1.669027 2.084064\n",
       "DE-2 5.559798 5.241077 5.148365 3.575312 2.833902 2.438293 2.150560 2.232661\n",
       "DE-3 5.725469 3.576522 4.932156 4.804260 4.074677 2.157044 1.669027 2.060047\n",
       "DE-4 7.150661 5.241077 5.988117 3.575312 4.536675 2.438293 2.150560 1.682573\n",
       "DE+1 7.402842 3.589763 5.460415 5.358607 2.347666 2.087463 1.883621 2.321928\n",
       "     PDX1    \n",
       "SC.1 1.000000\n",
       "DE-1 4.490570\n",
       "DE-2 3.657640\n",
       "DE-3 4.738768\n",
       "DE-4 3.940167\n",
       "DE+1 2.817623"
      ]
     },
     "metadata": {},
     "output_type": "display_data"
    },
    {
     "name": "stdout",
     "output_type": "stream",
     "text": [
      "[1] \"-----------------------------------------------------------------------------------------------------------------------------\"\n"
     ]
    },
    {
     "data": {
      "text/html": [
       "<style>\n",
       ".list-inline {list-style: none; margin:0; padding: 0}\n",
       ".list-inline>li {display: inline-block}\n",
       ".list-inline>li:not(:last-child)::after {content: \"\\00b7\"; padding: 0 .5ex}\n",
       "</style>\n",
       "<ol class=list-inline><li>'SC.1'</li><li>'DE-1'</li><li>'DE-2'</li><li>'DE-3'</li><li>'DE-4'</li><li>'DE+1'</li><li>'DE+2'</li><li>'DE+3'</li><li>'P2PP-1'</li><li>'P2PP-2'</li><li>'P2PP-3'</li><li>'P2PP-4'</li><li>'P2PP+1'</li><li>'P2PP+2'</li><li>'P2PP+3'</li><li>'P2PE-1'</li><li>'P2PE-2'</li><li>'P2PE-3'</li><li>'P2PE-4'</li><li>'P2PE+1'</li><li>'P2PE+2'</li><li>'P2PE+3'</li><li>'P2PE+4'</li><li>'P3PP-1'</li><li>'P3PP-2'</li><li>'P3PP+1'</li><li>'P3PP+2'</li><li>'P3PP+3'</li><li>'P3PE-1'</li><li>'P3PE-2'</li><li>'P3PE-3'</li><li>'P3PE-4'</li><li>'P3PE+1'</li><li>'P3PE+2'</li><li>'P3PE+3'</li><li>'P3PE+4'</li><li>'P5PP-1'</li><li>'P5PP-2'</li><li>'P5PP+1'</li><li>'P5PP+2'</li><li>'P5PE-1'</li><li>'P5PE-2'</li><li>'P5PE-3'</li><li>'P5PE-4'</li><li>'P5PE+1'</li><li>'P5PE+2'</li><li>'P5PE+3'</li><li>'P5PE+4'</li></ol>\n"
      ],
      "text/latex": [
       "\\begin{enumerate*}\n",
       "\\item 'SC.1'\n",
       "\\item 'DE-1'\n",
       "\\item 'DE-2'\n",
       "\\item 'DE-3'\n",
       "\\item 'DE-4'\n",
       "\\item 'DE+1'\n",
       "\\item 'DE+2'\n",
       "\\item 'DE+3'\n",
       "\\item 'P2PP-1'\n",
       "\\item 'P2PP-2'\n",
       "\\item 'P2PP-3'\n",
       "\\item 'P2PP-4'\n",
       "\\item 'P2PP+1'\n",
       "\\item 'P2PP+2'\n",
       "\\item 'P2PP+3'\n",
       "\\item 'P2PE-1'\n",
       "\\item 'P2PE-2'\n",
       "\\item 'P2PE-3'\n",
       "\\item 'P2PE-4'\n",
       "\\item 'P2PE+1'\n",
       "\\item 'P2PE+2'\n",
       "\\item 'P2PE+3'\n",
       "\\item 'P2PE+4'\n",
       "\\item 'P3PP-1'\n",
       "\\item 'P3PP-2'\n",
       "\\item 'P3PP+1'\n",
       "\\item 'P3PP+2'\n",
       "\\item 'P3PP+3'\n",
       "\\item 'P3PE-1'\n",
       "\\item 'P3PE-2'\n",
       "\\item 'P3PE-3'\n",
       "\\item 'P3PE-4'\n",
       "\\item 'P3PE+1'\n",
       "\\item 'P3PE+2'\n",
       "\\item 'P3PE+3'\n",
       "\\item 'P3PE+4'\n",
       "\\item 'P5PP-1'\n",
       "\\item 'P5PP-2'\n",
       "\\item 'P5PP+1'\n",
       "\\item 'P5PP+2'\n",
       "\\item 'P5PE-1'\n",
       "\\item 'P5PE-2'\n",
       "\\item 'P5PE-3'\n",
       "\\item 'P5PE-4'\n",
       "\\item 'P5PE+1'\n",
       "\\item 'P5PE+2'\n",
       "\\item 'P5PE+3'\n",
       "\\item 'P5PE+4'\n",
       "\\end{enumerate*}\n"
      ],
      "text/markdown": [
       "1. 'SC.1'\n",
       "2. 'DE-1'\n",
       "3. 'DE-2'\n",
       "4. 'DE-3'\n",
       "5. 'DE-4'\n",
       "6. 'DE+1'\n",
       "7. 'DE+2'\n",
       "8. 'DE+3'\n",
       "9. 'P2PP-1'\n",
       "10. 'P2PP-2'\n",
       "11. 'P2PP-3'\n",
       "12. 'P2PP-4'\n",
       "13. 'P2PP+1'\n",
       "14. 'P2PP+2'\n",
       "15. 'P2PP+3'\n",
       "16. 'P2PE-1'\n",
       "17. 'P2PE-2'\n",
       "18. 'P2PE-3'\n",
       "19. 'P2PE-4'\n",
       "20. 'P2PE+1'\n",
       "21. 'P2PE+2'\n",
       "22. 'P2PE+3'\n",
       "23. 'P2PE+4'\n",
       "24. 'P3PP-1'\n",
       "25. 'P3PP-2'\n",
       "26. 'P3PP+1'\n",
       "27. 'P3PP+2'\n",
       "28. 'P3PP+3'\n",
       "29. 'P3PE-1'\n",
       "30. 'P3PE-2'\n",
       "31. 'P3PE-3'\n",
       "32. 'P3PE-4'\n",
       "33. 'P3PE+1'\n",
       "34. 'P3PE+2'\n",
       "35. 'P3PE+3'\n",
       "36. 'P3PE+4'\n",
       "37. 'P5PP-1'\n",
       "38. 'P5PP-2'\n",
       "39. 'P5PP+1'\n",
       "40. 'P5PP+2'\n",
       "41. 'P5PE-1'\n",
       "42. 'P5PE-2'\n",
       "43. 'P5PE-3'\n",
       "44. 'P5PE-4'\n",
       "45. 'P5PE+1'\n",
       "46. 'P5PE+2'\n",
       "47. 'P5PE+3'\n",
       "48. 'P5PE+4'\n",
       "\n",
       "\n"
      ],
      "text/plain": [
       " [1] \"SC.1\"   \"DE-1\"   \"DE-2\"   \"DE-3\"   \"DE-4\"   \"DE+1\"   \"DE+2\"   \"DE+3\"  \n",
       " [9] \"P2PP-1\" \"P2PP-2\" \"P2PP-3\" \"P2PP-4\" \"P2PP+1\" \"P2PP+2\" \"P2PP+3\" \"P2PE-1\"\n",
       "[17] \"P2PE-2\" \"P2PE-3\" \"P2PE-4\" \"P2PE+1\" \"P2PE+2\" \"P2PE+3\" \"P2PE+4\" \"P3PP-1\"\n",
       "[25] \"P3PP-2\" \"P3PP+1\" \"P3PP+2\" \"P3PP+3\" \"P3PE-1\" \"P3PE-2\" \"P3PE-3\" \"P3PE-4\"\n",
       "[33] \"P3PE+1\" \"P3PE+2\" \"P3PE+3\" \"P3PE+4\" \"P5PP-1\" \"P5PP-2\" \"P5PP+1\" \"P5PP+2\"\n",
       "[41] \"P5PE-1\" \"P5PE-2\" \"P5PE-3\" \"P5PE-4\" \"P5PE+1\" \"P5PE+2\" \"P5PE+3\" \"P5PE+4\""
      ]
     },
     "metadata": {},
     "output_type": "display_data"
    },
    {
     "name": "stdout",
     "output_type": "stream",
     "text": [
      "[1] \"-----------------------------------------------------------------------------------------------------------------------------\"\n"
     ]
    },
    {
     "data": {
      "text/plain": [
       "\n",
       "\tWelch Two Sample t-test\n",
       "\n",
       "data:  x[4:10, 1] and x[11:32, 1]\n",
       "t = 4.3579, df = 20.72, p-value = 0.0002837\n",
       "alternative hypothesis: true difference in means is not equal to 0\n",
       "95 percent confidence interval:\n",
       " 0.7198173 2.0359963\n",
       "sample estimates:\n",
       "mean of x mean of y \n",
       " 6.765266  5.387359 \n"
      ]
     },
     "metadata": {},
     "output_type": "display_data"
    },
    {
     "name": "stdout",
     "output_type": "stream",
     "text": [
      "[1] \"-----------------------------------------------------------------------------------------------------------------------------\"\n"
     ]
    },
    {
     "data": {
      "text/plain": [
       "\n",
       "\tWelch Two Sample t-test\n",
       "\n",
       "data:  x[4:10, 2] and x[11:32, 2]\n",
       "t = 4.498, df = 26.128, p-value = 0.0001252\n",
       "alternative hypothesis: true difference in means is not equal to 0\n",
       "95 percent confidence interval:\n",
       " 1.192956 3.200031\n",
       "sample estimates:\n",
       "mean of x mean of y \n",
       " 4.399153  2.202659 \n"
      ]
     },
     "metadata": {},
     "output_type": "display_data"
    },
    {
     "name": "stdout",
     "output_type": "stream",
     "text": [
      "[1] \"-----------------------------------------------------------------------------------------------------------------------------\"\n"
     ]
    },
    {
     "data": {
      "text/html": [
       "0.000283675535417078"
      ],
      "text/latex": [
       "0.000283675535417078"
      ],
      "text/markdown": [
       "0.000283675535417078"
      ],
      "text/plain": [
       "[1] 0.0002836755"
      ]
     },
     "metadata": {},
     "output_type": "display_data"
    },
    {
     "data": {
      "text/plain": [
       "\n",
       "\tWelch Two Sample t-test\n",
       "\n",
       "data:  x[4:10, 1] and x[11:32, 1]\n",
       "t = 4.3579, df = 20.72, p-value = 0.0002837\n",
       "alternative hypothesis: true difference in means is not equal to 0\n",
       "95 percent confidence interval:\n",
       " 0.7198173 2.0359963\n",
       "sample estimates:\n",
       "mean of x mean of y \n",
       " 6.765266  5.387359 \n"
      ]
     },
     "metadata": {},
     "output_type": "display_data"
    },
    {
     "name": "stdout",
     "output_type": "stream",
     "text": [
      "[1] \"-----------------------------------------------------------------------------------------------------------------------------\"\n"
     ]
    },
    {
     "data": {
      "text/html": [
       "0.000125239228592392"
      ],
      "text/latex": [
       "0.000125239228592392"
      ],
      "text/markdown": [
       "0.000125239228592392"
      ],
      "text/plain": [
       "[1] 0.0001252392"
      ]
     },
     "metadata": {},
     "output_type": "display_data"
    },
    {
     "data": {
      "text/plain": [
       "\n",
       "\tWelch Two Sample t-test\n",
       "\n",
       "data:  x[4:10, 2] and x[11:32, 2]\n",
       "t = 4.498, df = 26.128, p-value = 0.0001252\n",
       "alternative hypothesis: true difference in means is not equal to 0\n",
       "95 percent confidence interval:\n",
       " 1.192956 3.200031\n",
       "sample estimates:\n",
       "mean of x mean of y \n",
       " 4.399153  2.202659 \n"
      ]
     },
     "metadata": {},
     "output_type": "display_data"
    }
   ],
   "source": [
    "lapply(1:3, function(x) x^2)\n",
    "print(\"-----------------------------------------------------------------------------------------------------------------------------\")\n",
    "\n",
    "sapply(1:3, function(x) x^2)\n",
    "print(\"-----------------------------------------------------------------------------------------------------------------------------\")\n",
    "\n",
    "head(x)\n",
    "print(\"-----------------------------------------------------------------------------------------------------------------------------\")\n",
    "       \n",
    "rownames(x)\n",
    "print(\"-----------------------------------------------------------------------------------------------------------------------------\")\n",
    "\n",
    "t.test(x[4:10, 1], x[11:32, 1])\n",
    "print(\"-----------------------------------------------------------------------------------------------------------------------------\")\n",
    "\n",
    "t.test(x[4:10, 2], x[11:32, 2])\n",
    "print(\"-----------------------------------------------------------------------------------------------------------------------------\")\n",
    "\n",
    "# making a function to do the apply method's job\n",
    "MyTest <- function(i) {\n",
    "  t.test(x[4:10, i], x[11:32, i])$p.value\n",
    "}\n",
    "\n",
    "MyTest(1)\n",
    "t.test(x[4:10, 1], x[11:32, 1])\n",
    "print(\"-----------------------------------------------------------------------------------------------------------------------------\")\n",
    "\n",
    "MyTest(2)\n",
    "t.test(x[4:10, 2], x[11:32, 2])\n"
   ]
  },
  {
   "cell_type": "markdown",
   "id": "1a1108a0-b47f-4411-9d44-9d7579778766",
   "metadata": {},
   "source": [
    "12. more on functions and apply/sapply differences ..."
   ]
  },
  {
   "cell_type": "code",
   "execution_count": 12,
   "id": "0f3f1ee9-a9cd-4e95-a290-9a1f2e860cc6",
   "metadata": {},
   "outputs": [
    {
     "data": {
      "text/html": [
       "<style>\n",
       ".list-inline {list-style: none; margin:0; padding: 0}\n",
       ".list-inline>li {display: inline-block}\n",
       ".list-inline>li:not(:last-child)::after {content: \"\\00b7\"; padding: 0 .5ex}\n",
       "</style>\n",
       "<ol class=list-inline><li>0.000283675535417078</li><li>0.000125239228592392</li><li>0.014606131070231</li><li>0.363756467405048</li><li>0.031020348400887</li><li>0.0102346594335125</li><li>0.00177964535024938</li><li>0.393000720486848</li><li>0.0314907193223289</li></ol>\n"
      ],
      "text/latex": [
       "\\begin{enumerate*}\n",
       "\\item 0.000283675535417078\n",
       "\\item 0.000125239228592392\n",
       "\\item 0.014606131070231\n",
       "\\item 0.363756467405048\n",
       "\\item 0.031020348400887\n",
       "\\item 0.0102346594335125\n",
       "\\item 0.00177964535024938\n",
       "\\item 0.393000720486848\n",
       "\\item 0.0314907193223289\n",
       "\\end{enumerate*}\n"
      ],
      "text/markdown": [
       "1. 0.000283675535417078\n",
       "2. 0.000125239228592392\n",
       "3. 0.014606131070231\n",
       "4. 0.363756467405048\n",
       "5. 0.031020348400887\n",
       "6. 0.0102346594335125\n",
       "7. 0.00177964535024938\n",
       "8. 0.393000720486848\n",
       "9. 0.0314907193223289\n",
       "\n",
       "\n"
      ],
      "text/plain": [
       "[1] 0.0002836755 0.0001252392 0.0146061311 0.3637564674 0.0310203484\n",
       "[6] 0.0102346594 0.0017796454 0.3930007205 0.0314907193"
      ]
     },
     "metadata": {},
     "output_type": "display_data"
    },
    {
     "name": "stdout",
     "output_type": "stream",
     "text": [
      "[1] \"-----------------------------------------------------------------------------------------------------------------------------\"\n"
     ]
    },
    {
     "data": {
      "text/html": [
       "<style>\n",
       ".dl-inline {width: auto; margin:0; padding: 0}\n",
       ".dl-inline>dt, .dl-inline>dd {float: none; width: auto; display: inline-block}\n",
       ".dl-inline>dt::after {content: \":\\0020\"; padding-right: .5ex}\n",
       ".dl-inline>dt:not(:first-of-type) {padding-left: .5ex}\n",
       "</style><dl class=dl-inline><dt>HLXb9</dt><dd>0.000283675535417078</dd><dt>HHEX</dt><dd>0.000125239228592392</dd><dt>HNF4a</dt><dd>0.014606131070231</dd><dt>ISL1</dt><dd>0.363756467405048</dd><dt>NEUROD1</dt><dd>0.031020348400887</dd><dt>NKX6.1</dt><dd>0.0102346594335125</dd><dt>PAX4</dt><dd>0.00177964535024938</dd><dt>PTF1a</dt><dd>0.393000720486848</dd><dt>PDX1</dt><dd>0.0314907193223289</dd></dl>\n"
      ],
      "text/latex": [
       "\\begin{description*}\n",
       "\\item[HLXb9] 0.000283675535417078\n",
       "\\item[HHEX] 0.000125239228592392\n",
       "\\item[HNF4a] 0.014606131070231\n",
       "\\item[ISL1] 0.363756467405048\n",
       "\\item[NEUROD1] 0.031020348400887\n",
       "\\item[NKX6.1] 0.0102346594335125\n",
       "\\item[PAX4] 0.00177964535024938\n",
       "\\item[PTF1a] 0.393000720486848\n",
       "\\item[PDX1] 0.0314907193223289\n",
       "\\end{description*}\n"
      ],
      "text/markdown": [
       "HLXb9\n",
       ":   0.000283675535417078HHEX\n",
       ":   0.000125239228592392HNF4a\n",
       ":   0.014606131070231ISL1\n",
       ":   0.363756467405048NEUROD1\n",
       ":   0.031020348400887NKX6.1\n",
       ":   0.0102346594335125PAX4\n",
       ":   0.00177964535024938PTF1a\n",
       ":   0.393000720486848PDX1\n",
       ":   0.0314907193223289\n",
       "\n"
      ],
      "text/plain": [
       "       HLXb9         HHEX        HNF4a         ISL1      NEUROD1       NKX6.1 \n",
       "0.0002836755 0.0001252392 0.0146061311 0.3637564674 0.0310203484 0.0102346594 \n",
       "        PAX4        PTF1a         PDX1 \n",
       "0.0017796454 0.3930007205 0.0314907193 "
      ]
     },
     "metadata": {},
     "output_type": "display_data"
    },
    {
     "name": "stdout",
     "output_type": "stream",
     "text": [
      "[1] \"-----------------------------------------------------------------------------------------------------------------------------\"\n"
     ]
    },
    {
     "data": {
      "text/html": [
       "<style>\n",
       ".list-inline {list-style: none; margin:0; padding: 0}\n",
       ".list-inline>li {display: inline-block}\n",
       ".list-inline>li:not(:last-child)::after {content: \"\\00b7\"; padding: 0 .5ex}\n",
       "</style>\n",
       "<ol class=list-inline><li>0.000283675535417078</li><li>0.000125239228592392</li><li>0.014606131070231</li><li>0.363756467405048</li><li>0.031020348400887</li><li>0.0102346594335125</li><li>0.00177964535024938</li><li>0.393000720486848</li><li>0.0314907193223289</li></ol>\n"
      ],
      "text/latex": [
       "\\begin{enumerate*}\n",
       "\\item 0.000283675535417078\n",
       "\\item 0.000125239228592392\n",
       "\\item 0.014606131070231\n",
       "\\item 0.363756467405048\n",
       "\\item 0.031020348400887\n",
       "\\item 0.0102346594335125\n",
       "\\item 0.00177964535024938\n",
       "\\item 0.393000720486848\n",
       "\\item 0.0314907193223289\n",
       "\\end{enumerate*}\n"
      ],
      "text/markdown": [
       "1. 0.000283675535417078\n",
       "2. 0.000125239228592392\n",
       "3. 0.014606131070231\n",
       "4. 0.363756467405048\n",
       "5. 0.031020348400887\n",
       "6. 0.0102346594335125\n",
       "7. 0.00177964535024938\n",
       "8. 0.393000720486848\n",
       "9. 0.0314907193223289\n",
       "\n",
       "\n"
      ],
      "text/plain": [
       "[1] 0.0002836755 0.0001252392 0.0146061311 0.3637564674 0.0310203484\n",
       "[6] 0.0102346594 0.0017796454 0.3930007205 0.0314907193"
      ]
     },
     "metadata": {},
     "output_type": "display_data"
    },
    {
     "name": "stdout",
     "output_type": "stream",
     "text": [
      "[1] \"-----------------------------------------------------------------------------------------------------------------------------\"\n"
     ]
    },
    {
     "data": {
      "text/html": [
       "<style>\n",
       ".list-inline {list-style: none; margin:0; padding: 0}\n",
       ".list-inline>li {display: inline-block}\n",
       ".list-inline>li:not(:last-child)::after {content: \"\\00b7\"; padding: 0 .5ex}\n",
       "</style>\n",
       "<ol class=list-inline><li>0.000283675535417078</li><li>0.000125239228592392</li><li>0.014606131070231</li><li>0.363756467405048</li><li>0.031020348400887</li></ol>\n"
      ],
      "text/latex": [
       "\\begin{enumerate*}\n",
       "\\item 0.000283675535417078\n",
       "\\item 0.000125239228592392\n",
       "\\item 0.014606131070231\n",
       "\\item 0.363756467405048\n",
       "\\item 0.031020348400887\n",
       "\\end{enumerate*}\n"
      ],
      "text/markdown": [
       "1. 0.000283675535417078\n",
       "2. 0.000125239228592392\n",
       "3. 0.014606131070231\n",
       "4. 0.363756467405048\n",
       "5. 0.031020348400887\n",
       "\n",
       "\n"
      ],
      "text/plain": [
       "[1] 0.0002836755 0.0001252392 0.0146061311 0.3637564674 0.0310203484"
      ]
     },
     "metadata": {},
     "output_type": "display_data"
    },
    {
     "name": "stdout",
     "output_type": "stream",
     "text": [
      "[1] \"-----------------------------------------------------------------------------------------------------------------------------\"\n"
     ]
    },
    {
     "data": {
      "text/html": [
       "<style>\n",
       ".dl-inline {width: auto; margin:0; padding: 0}\n",
       ".dl-inline>dt, .dl-inline>dd {float: none; width: auto; display: inline-block}\n",
       ".dl-inline>dt::after {content: \":\\0020\"; padding-right: .5ex}\n",
       ".dl-inline>dt:not(:first-of-type) {padding-left: .5ex}\n",
       "</style><dl class=dl-inline><dt>HLXb9</dt><dd>0.000283675535417078</dd><dt>HHEX</dt><dd>0.000125239228592392</dd><dt>HNF4a</dt><dd>0.014606131070231</dd><dt>ISL1</dt><dd>0.363756467405048</dd><dt>NEUROD1</dt><dd>0.031020348400887</dd></dl>\n"
      ],
      "text/latex": [
       "\\begin{description*}\n",
       "\\item[HLXb9] 0.000283675535417078\n",
       "\\item[HHEX] 0.000125239228592392\n",
       "\\item[HNF4a] 0.014606131070231\n",
       "\\item[ISL1] 0.363756467405048\n",
       "\\item[NEUROD1] 0.031020348400887\n",
       "\\end{description*}\n"
      ],
      "text/markdown": [
       "HLXb9\n",
       ":   0.000283675535417078HHEX\n",
       ":   0.000125239228592392HNF4a\n",
       ":   0.014606131070231ISL1\n",
       ":   0.363756467405048NEUROD1\n",
       ":   0.031020348400887\n",
       "\n"
      ],
      "text/plain": [
       "       HLXb9         HHEX        HNF4a         ISL1      NEUROD1 \n",
       "0.0002836755 0.0001252392 0.0146061311 0.3637564674 0.0310203484 "
      ]
     },
     "metadata": {},
     "output_type": "display_data"
    },
    {
     "name": "stdout",
     "output_type": "stream",
     "text": [
      "[1] \"-----------------------------------------------------------------------------------------------------------------------------\"\n",
      "[1] 10\n",
      "[1] 11\n",
      "[1] 12\n",
      "[1] 13\n",
      "[1] 14\n",
      "[1] 15\n",
      "[1] 16\n",
      "[1] 17\n",
      "[1] 18\n",
      "[1] 19\n",
      "[1] 20\n"
     ]
    },
    {
     "data": {
      "text/html": [
       "<style>\n",
       ".list-inline {list-style: none; margin:0; padding: 0}\n",
       ".list-inline>li {display: inline-block}\n",
       ".list-inline>li:not(:last-child)::after {content: \"\\00b7\"; padding: 0 .5ex}\n",
       "</style>\n",
       "<ol class=list-inline><li>10</li><li>11</li><li>12</li><li>13</li><li>14</li><li>15</li><li>16</li><li>17</li><li>18</li><li>19</li><li>20</li></ol>\n"
      ],
      "text/latex": [
       "\\begin{enumerate*}\n",
       "\\item 10\n",
       "\\item 11\n",
       "\\item 12\n",
       "\\item 13\n",
       "\\item 14\n",
       "\\item 15\n",
       "\\item 16\n",
       "\\item 17\n",
       "\\item 18\n",
       "\\item 19\n",
       "\\item 20\n",
       "\\end{enumerate*}\n"
      ],
      "text/markdown": [
       "1. 10\n",
       "2. 11\n",
       "3. 12\n",
       "4. 13\n",
       "5. 14\n",
       "6. 15\n",
       "7. 16\n",
       "8. 17\n",
       "9. 18\n",
       "10. 19\n",
       "11. 20\n",
       "\n",
       "\n"
      ],
      "text/plain": [
       " [1] 10 11 12 13 14 15 16 17 18 19 20"
      ]
     },
     "metadata": {},
     "output_type": "display_data"
    },
    {
     "name": "stdout",
     "output_type": "stream",
     "text": [
      "[1] \"-----------------------------------------------------------------------------------------------------------------------------\"\n",
      "[1] 1\n",
      "[1] 2\n",
      "[1] 3\n",
      "[1] 4\n",
      "[1] 5\n",
      "[1] 6\n",
      "[1] 7\n",
      "[1] 8\n",
      "[1] 9\n",
      "[1] 10\n",
      "[1] \"-----------------------------------------------------------------------------------------------------------------------------\"\n"
     ]
    },
    {
     "data": {
      "text/html": [
       "<style>\n",
       ".list-inline {list-style: none; margin:0; padding: 0}\n",
       ".list-inline>li {display: inline-block}\n",
       ".list-inline>li:not(:last-child)::after {content: \"\\00b7\"; padding: 0 .5ex}\n",
       "</style>\n",
       "<ol class=list-inline><li>1</li><li>2</li><li>3</li><li>4</li><li>5</li><li>6</li><li>7</li><li>8</li><li>9</li><li>10</li></ol>\n"
      ],
      "text/latex": [
       "\\begin{enumerate*}\n",
       "\\item 1\n",
       "\\item 2\n",
       "\\item 3\n",
       "\\item 4\n",
       "\\item 5\n",
       "\\item 6\n",
       "\\item 7\n",
       "\\item 8\n",
       "\\item 9\n",
       "\\item 10\n",
       "\\end{enumerate*}\n"
      ],
      "text/markdown": [
       "1. 1\n",
       "2. 2\n",
       "3. 3\n",
       "4. 4\n",
       "5. 5\n",
       "6. 6\n",
       "7. 7\n",
       "8. 8\n",
       "9. 9\n",
       "10. 10\n",
       "\n",
       "\n"
      ],
      "text/plain": [
       " [1]  1  2  3  4  5  6  7  8  9 10"
      ]
     },
     "metadata": {},
     "output_type": "display_data"
    }
   ],
   "source": [
    "sapply(1:ncol(x), MyTest)\n",
    "print(\"-----------------------------------------------------------------------------------------------------------------------------\")\n",
    "#if apply is for doing a function on rows == input is rows\n",
    "#but our MyTest input was the number of rows\n",
    "\n",
    "MyTest2 <- function(y) {\n",
    "  t.test(y[4:10], y[11:32])$p.value\n",
    "}\n",
    "apply(x, 2, MyTest2)\n",
    "print(\"-----------------------------------------------------------------------------------------------------------------------------\")\n",
    "\n",
    "sapply(1:ncol(x), MyTest)\n",
    "print(\"-----------------------------------------------------------------------------------------------------------------------------\")\n",
    "\n",
    "\n",
    "sapply(1:5, MyTest)\n",
    "print(\"-----------------------------------------------------------------------------------------------------------------------------\")\n",
    "\n",
    "apply(x[,1:5], 2, MyTest2)\n",
    "print(\"-----------------------------------------------------------------------------------------------------------------------------\")\n",
    "\n",
    "sapply(10:20, print)\n",
    "print(\"-----------------------------------------------------------------------------------------------------------------------------\")\n",
    "\n",
    "y <- sapply(1:10, print)\n",
    "print(\"-----------------------------------------------------------------------------------------------------------------------------\")\n",
    "#print and output\n",
    "\n",
    "y\n",
    "#just the output\n"
   ]
  },
  {
   "cell_type": "code",
   "execution_count": null,
   "id": "ace0b472-5883-46d4-a8ef-d720bdca240a",
   "metadata": {},
   "outputs": [],
   "source": []
  }
 ],
 "metadata": {
  "kernelspec": {
   "display_name": "R",
   "language": "R",
   "name": "ir"
  },
  "language_info": {
   "codemirror_mode": "r",
   "file_extension": ".r",
   "mimetype": "text/x-r-source",
   "name": "R",
   "pygments_lexer": "r",
   "version": "4.3.1"
  }
 },
 "nbformat": 4,
 "nbformat_minor": 5
}
