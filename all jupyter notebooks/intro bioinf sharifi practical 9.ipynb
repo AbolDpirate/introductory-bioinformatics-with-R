{
 "cells": [
  {
   "cell_type": "markdown",
   "id": "4c8f6256-303c-45da-be87-cb2f4ad0e273",
   "metadata": {},
   "source": [
    "R Basics\n",
    "-\n",
    "Introductory Bioinformatics Sharifi Zarchi The practical sessions part 9\n",
    "-\n",
    "**PCA & some of its plots**\n"
   ]
  },
  {
   "cell_type": "markdown",
   "id": "5b3c9333-fd84-49ea-b494-2185b2400f9c",
   "metadata": {},
   "source": [
    "1. File recall and initial preprocessing . . ."
   ]
  },
  {
   "cell_type": "code",
   "execution_count": 1,
   "id": "63127049-7bf0-43c0-9c90-e6ea86d15462",
   "metadata": {},
   "outputs": [
    {
     "name": "stderr",
     "output_type": "stream",
     "text": [
      "Warning message:\n",
      "\"package 'pheatmap' was built under R version 4.3.3\"\n",
      "Warning message:\n",
      "\"package 'ggplot2' was built under R version 4.3.3\"\n",
      "Warning message:\n",
      "\"package 'reshape' was built under R version 4.3.3\"\n"
     ]
    },
    {
     "data": {
      "text/html": [
       "<table class=\"dataframe\">\n",
       "<caption>A data.frame: 6 × 9</caption>\n",
       "<thead>\n",
       "\t<tr><th></th><th scope=col>HLXb9</th><th scope=col>HHEX</th><th scope=col>HNF4a</th><th scope=col>ISL1</th><th scope=col>NEUROD1</th><th scope=col>NKX6.1</th><th scope=col>PAX4</th><th scope=col>PTF1a</th><th scope=col>PDX1</th></tr>\n",
       "\t<tr><th></th><th scope=col>&lt;dbl&gt;</th><th scope=col>&lt;dbl&gt;</th><th scope=col>&lt;dbl&gt;</th><th scope=col>&lt;dbl&gt;</th><th scope=col>&lt;dbl&gt;</th><th scope=col>&lt;dbl&gt;</th><th scope=col>&lt;dbl&gt;</th><th scope=col>&lt;dbl&gt;</th><th scope=col>&lt;dbl&gt;</th></tr>\n",
       "</thead>\n",
       "<tbody>\n",
       "\t<tr><th scope=row>SC.1</th><td>1.709291</td><td>1.521051</td><td>1.956057</td><td>1.427606</td><td>2.201634</td><td>1.063503</td><td>1.195348</td><td>1.263034</td><td>1.000000</td></tr>\n",
       "\t<tr><th scope=row>SC.2</th><td>1.000000</td><td>1.000000</td><td>1.000000</td><td>1.000000</td><td>1.000000</td><td>1.000000</td><td>1.000000</td><td>1.000000</td><td>1.000000</td></tr>\n",
       "\t<tr><th scope=row>SC.3</th><td>1.000000</td><td>1.000000</td><td>1.000000</td><td>1.000000</td><td>1.000000</td><td>1.000000</td><td>1.000000</td><td>1.000000</td><td>1.000000</td></tr>\n",
       "\t<tr><th scope=row>DE-1</th><td>7.073606</td><td>3.576522</td><td>6.381629</td><td>4.804260</td><td>2.555816</td><td>2.157044</td><td>1.669027</td><td>2.084064</td><td>4.490570</td></tr>\n",
       "\t<tr><th scope=row>DE-2</th><td>5.559798</td><td>5.241077</td><td>5.148365</td><td>3.575312</td><td>2.833902</td><td>2.438293</td><td>2.150560</td><td>2.232661</td><td>3.657640</td></tr>\n",
       "\t<tr><th scope=row>DE-3</th><td>5.725469</td><td>3.576522</td><td>4.932156</td><td>4.804260</td><td>4.074677</td><td>2.157044</td><td>1.669027</td><td>2.060047</td><td>4.738768</td></tr>\n",
       "</tbody>\n",
       "</table>\n"
      ],
      "text/latex": [
       "A data.frame: 6 × 9\n",
       "\\begin{tabular}{r|lllllllll}\n",
       "  & HLXb9 & HHEX & HNF4a & ISL1 & NEUROD1 & NKX6.1 & PAX4 & PTF1a & PDX1\\\\\n",
       "  & <dbl> & <dbl> & <dbl> & <dbl> & <dbl> & <dbl> & <dbl> & <dbl> & <dbl>\\\\\n",
       "\\hline\n",
       "\tSC.1 & 1.709291 & 1.521051 & 1.956057 & 1.427606 & 2.201634 & 1.063503 & 1.195348 & 1.263034 & 1.000000\\\\\n",
       "\tSC.2 & 1.000000 & 1.000000 & 1.000000 & 1.000000 & 1.000000 & 1.000000 & 1.000000 & 1.000000 & 1.000000\\\\\n",
       "\tSC.3 & 1.000000 & 1.000000 & 1.000000 & 1.000000 & 1.000000 & 1.000000 & 1.000000 & 1.000000 & 1.000000\\\\\n",
       "\tDE-1 & 7.073606 & 3.576522 & 6.381629 & 4.804260 & 2.555816 & 2.157044 & 1.669027 & 2.084064 & 4.490570\\\\\n",
       "\tDE-2 & 5.559798 & 5.241077 & 5.148365 & 3.575312 & 2.833902 & 2.438293 & 2.150560 & 2.232661 & 3.657640\\\\\n",
       "\tDE-3 & 5.725469 & 3.576522 & 4.932156 & 4.804260 & 4.074677 & 2.157044 & 1.669027 & 2.060047 & 4.738768\\\\\n",
       "\\end{tabular}\n"
      ],
      "text/markdown": [
       "\n",
       "A data.frame: 6 × 9\n",
       "\n",
       "| <!--/--> | HLXb9 &lt;dbl&gt; | HHEX &lt;dbl&gt; | HNF4a &lt;dbl&gt; | ISL1 &lt;dbl&gt; | NEUROD1 &lt;dbl&gt; | NKX6.1 &lt;dbl&gt; | PAX4 &lt;dbl&gt; | PTF1a &lt;dbl&gt; | PDX1 &lt;dbl&gt; |\n",
       "|---|---|---|---|---|---|---|---|---|---|\n",
       "| SC.1 | 1.709291 | 1.521051 | 1.956057 | 1.427606 | 2.201634 | 1.063503 | 1.195348 | 1.263034 | 1.000000 |\n",
       "| SC.2 | 1.000000 | 1.000000 | 1.000000 | 1.000000 | 1.000000 | 1.000000 | 1.000000 | 1.000000 | 1.000000 |\n",
       "| SC.3 | 1.000000 | 1.000000 | 1.000000 | 1.000000 | 1.000000 | 1.000000 | 1.000000 | 1.000000 | 1.000000 |\n",
       "| DE-1 | 7.073606 | 3.576522 | 6.381629 | 4.804260 | 2.555816 | 2.157044 | 1.669027 | 2.084064 | 4.490570 |\n",
       "| DE-2 | 5.559798 | 5.241077 | 5.148365 | 3.575312 | 2.833902 | 2.438293 | 2.150560 | 2.232661 | 3.657640 |\n",
       "| DE-3 | 5.725469 | 3.576522 | 4.932156 | 4.804260 | 4.074677 | 2.157044 | 1.669027 | 2.060047 | 4.738768 |\n",
       "\n"
      ],
      "text/plain": [
       "     HLXb9    HHEX     HNF4a    ISL1     NEUROD1  NKX6.1   PAX4     PTF1a   \n",
       "SC.1 1.709291 1.521051 1.956057 1.427606 2.201634 1.063503 1.195348 1.263034\n",
       "SC.2 1.000000 1.000000 1.000000 1.000000 1.000000 1.000000 1.000000 1.000000\n",
       "SC.3 1.000000 1.000000 1.000000 1.000000 1.000000 1.000000 1.000000 1.000000\n",
       "DE-1 7.073606 3.576522 6.381629 4.804260 2.555816 2.157044 1.669027 2.084064\n",
       "DE-2 5.559798 5.241077 5.148365 3.575312 2.833902 2.438293 2.150560 2.232661\n",
       "DE-3 5.725469 3.576522 4.932156 4.804260 4.074677 2.157044 1.669027 2.060047\n",
       "     PDX1    \n",
       "SC.1 1.000000\n",
       "SC.2 1.000000\n",
       "SC.3 1.000000\n",
       "DE-1 4.490570\n",
       "DE-2 3.657640\n",
       "DE-3 4.738768"
      ]
     },
     "metadata": {},
     "output_type": "display_data"
    }
   ],
   "source": [
    "library(pheatmap)\n",
    "library(ggplot2)\n",
    "library(reshape)\n",
    "x = read.delim(\"C:/Users/abolf/Desktop/jupyter train/intro bioinf sharifi practical/SharifiZarchi-bio/Data/Endoderm.txt\")\n",
    "rownames(x) = x[,1]\n",
    "x = x[,-1]\n",
    "x = log2(x+1)\n",
    "head(x)\n"
   ]
  },
  {
   "cell_type": "markdown",
   "id": "84e6abad-f62e-495a-b7b5-1730a08dd26a",
   "metadata": {},
   "source": [
    "2. intro PCA, but theres some problem ..."
   ]
  },
  {
   "cell_type": "code",
   "execution_count": 2,
   "id": "420258a7-566b-46dc-81a0-7b29ca1b90a9",
   "metadata": {},
   "outputs": [
    {
     "data": {
      "text/html": [
       "TRUE"
      ],
      "text/latex": [
       "TRUE"
      ],
      "text/markdown": [
       "TRUE"
      ],
      "text/plain": [
       "[1] TRUE"
      ]
     },
     "metadata": {},
     "output_type": "display_data"
    }
   ],
   "source": [
    "#pc <- prcomp(x)\n",
    "#error why?\n",
    "#solving ....\n",
    "\n",
    "any(is.na(x))\n",
    "x <- na.omit(x)"
   ]
  },
  {
   "cell_type": "markdown",
   "id": "b29a6f1f-b5f8-4421-bf93-8df2bbe636cf",
   "metadata": {},
   "source": [
    "3. intro a new function ( any )"
   ]
  },
  {
   "cell_type": "code",
   "execution_count": 3,
   "id": "3f4d27bc-30b3-4a8f-956e-2975a16e90e5",
   "metadata": {},
   "outputs": [
    {
     "data": {
      "text/html": [
       "FALSE"
      ],
      "text/latex": [
       "FALSE"
      ],
      "text/markdown": [
       "FALSE"
      ],
      "text/plain": [
       "[1] FALSE"
      ]
     },
     "metadata": {},
     "output_type": "display_data"
    },
    {
     "data": {
      "text/html": [
       "TRUE"
      ],
      "text/latex": [
       "TRUE"
      ],
      "text/markdown": [
       "TRUE"
      ],
      "text/plain": [
       "[1] TRUE"
      ]
     },
     "metadata": {},
     "output_type": "display_data"
    },
    {
     "data": {
      "text/html": [
       "<table class=\"dataframe\">\n",
       "<caption>A matrix: 50 × 9 of type lgl</caption>\n",
       "<thead>\n",
       "\t<tr><th></th><th scope=col>HLXb9</th><th scope=col>HHEX</th><th scope=col>HNF4a</th><th scope=col>ISL1</th><th scope=col>NEUROD1</th><th scope=col>NKX6.1</th><th scope=col>PAX4</th><th scope=col>PTF1a</th><th scope=col>PDX1</th></tr>\n",
       "</thead>\n",
       "<tbody>\n",
       "\t<tr><th scope=row>SC.1</th><td>FALSE</td><td>FALSE</td><td>FALSE</td><td>FALSE</td><td>FALSE</td><td>FALSE</td><td>FALSE</td><td>FALSE</td><td>FALSE</td></tr>\n",
       "\t<tr><th scope=row>SC.2</th><td>FALSE</td><td>FALSE</td><td>FALSE</td><td>FALSE</td><td>FALSE</td><td>FALSE</td><td>FALSE</td><td>FALSE</td><td>FALSE</td></tr>\n",
       "\t<tr><th scope=row>SC.3</th><td>FALSE</td><td>FALSE</td><td>FALSE</td><td>FALSE</td><td>FALSE</td><td>FALSE</td><td>FALSE</td><td>FALSE</td><td>FALSE</td></tr>\n",
       "\t<tr><th scope=row>DE-1</th><td>FALSE</td><td>FALSE</td><td>FALSE</td><td>FALSE</td><td>FALSE</td><td>FALSE</td><td>FALSE</td><td>FALSE</td><td>FALSE</td></tr>\n",
       "\t<tr><th scope=row>DE-2</th><td>FALSE</td><td>FALSE</td><td>FALSE</td><td>FALSE</td><td>FALSE</td><td>FALSE</td><td>FALSE</td><td>FALSE</td><td>FALSE</td></tr>\n",
       "\t<tr><th scope=row>DE-3</th><td>FALSE</td><td>FALSE</td><td>FALSE</td><td>FALSE</td><td>FALSE</td><td>FALSE</td><td>FALSE</td><td>FALSE</td><td>FALSE</td></tr>\n",
       "\t<tr><th scope=row>DE-4</th><td>FALSE</td><td>FALSE</td><td>FALSE</td><td>FALSE</td><td>FALSE</td><td>FALSE</td><td>FALSE</td><td>FALSE</td><td>FALSE</td></tr>\n",
       "\t<tr><th scope=row>DE+1</th><td>FALSE</td><td>FALSE</td><td>FALSE</td><td>FALSE</td><td>FALSE</td><td>FALSE</td><td>FALSE</td><td>FALSE</td><td>FALSE</td></tr>\n",
       "\t<tr><th scope=row>DE+2</th><td>FALSE</td><td>FALSE</td><td>FALSE</td><td>FALSE</td><td>FALSE</td><td>FALSE</td><td>FALSE</td><td>FALSE</td><td>FALSE</td></tr>\n",
       "\t<tr><th scope=row>DE+3</th><td>FALSE</td><td>FALSE</td><td>FALSE</td><td>FALSE</td><td>FALSE</td><td>FALSE</td><td>FALSE</td><td>FALSE</td><td>FALSE</td></tr>\n",
       "\t<tr><th scope=row>P2PP-1</th><td>FALSE</td><td>FALSE</td><td>FALSE</td><td>FALSE</td><td>FALSE</td><td>FALSE</td><td>FALSE</td><td>FALSE</td><td>FALSE</td></tr>\n",
       "\t<tr><th scope=row>P2PP-2</th><td>FALSE</td><td>FALSE</td><td>FALSE</td><td>FALSE</td><td>FALSE</td><td>FALSE</td><td>FALSE</td><td>FALSE</td><td>FALSE</td></tr>\n",
       "\t<tr><th scope=row>P2PP-3</th><td>FALSE</td><td>FALSE</td><td>FALSE</td><td>FALSE</td><td>FALSE</td><td>FALSE</td><td>FALSE</td><td>FALSE</td><td>FALSE</td></tr>\n",
       "\t<tr><th scope=row>P2PP-4</th><td>FALSE</td><td>FALSE</td><td>FALSE</td><td>FALSE</td><td>FALSE</td><td>FALSE</td><td>FALSE</td><td>FALSE</td><td>FALSE</td></tr>\n",
       "\t<tr><th scope=row>P2PP+1</th><td>FALSE</td><td>FALSE</td><td>FALSE</td><td>FALSE</td><td>FALSE</td><td>FALSE</td><td>FALSE</td><td>FALSE</td><td>FALSE</td></tr>\n",
       "\t<tr><th scope=row>P2PP+2</th><td>FALSE</td><td>FALSE</td><td>FALSE</td><td>FALSE</td><td>FALSE</td><td>FALSE</td><td>FALSE</td><td>FALSE</td><td>FALSE</td></tr>\n",
       "\t<tr><th scope=row>P2PP+3</th><td>FALSE</td><td>FALSE</td><td>FALSE</td><td>FALSE</td><td>FALSE</td><td>FALSE</td><td>FALSE</td><td>FALSE</td><td>FALSE</td></tr>\n",
       "\t<tr><th scope=row>P2PE-1</th><td>FALSE</td><td>FALSE</td><td>FALSE</td><td>FALSE</td><td>FALSE</td><td>FALSE</td><td>FALSE</td><td>FALSE</td><td>FALSE</td></tr>\n",
       "\t<tr><th scope=row>P2PE-2</th><td>FALSE</td><td>FALSE</td><td>FALSE</td><td>FALSE</td><td>FALSE</td><td>FALSE</td><td>FALSE</td><td>FALSE</td><td>FALSE</td></tr>\n",
       "\t<tr><th scope=row>P2PE-3</th><td>FALSE</td><td>FALSE</td><td>FALSE</td><td>FALSE</td><td>FALSE</td><td>FALSE</td><td>FALSE</td><td>FALSE</td><td>FALSE</td></tr>\n",
       "\t<tr><th scope=row>P2PE-4</th><td>FALSE</td><td>FALSE</td><td>FALSE</td><td>FALSE</td><td>FALSE</td><td>FALSE</td><td>FALSE</td><td>FALSE</td><td>FALSE</td></tr>\n",
       "\t<tr><th scope=row>P2PE+1</th><td>FALSE</td><td>FALSE</td><td>FALSE</td><td>FALSE</td><td>FALSE</td><td>FALSE</td><td>FALSE</td><td>FALSE</td><td>FALSE</td></tr>\n",
       "\t<tr><th scope=row>P2PE+2</th><td>FALSE</td><td>FALSE</td><td>FALSE</td><td>FALSE</td><td>FALSE</td><td>FALSE</td><td>FALSE</td><td>FALSE</td><td>FALSE</td></tr>\n",
       "\t<tr><th scope=row>P2PE+3</th><td>FALSE</td><td>FALSE</td><td>FALSE</td><td>FALSE</td><td>FALSE</td><td>FALSE</td><td>FALSE</td><td>FALSE</td><td>FALSE</td></tr>\n",
       "\t<tr><th scope=row>P2PE+4</th><td>FALSE</td><td>FALSE</td><td>FALSE</td><td>FALSE</td><td>FALSE</td><td>FALSE</td><td>FALSE</td><td>FALSE</td><td>FALSE</td></tr>\n",
       "\t<tr><th scope=row>P3PP-1</th><td>FALSE</td><td>FALSE</td><td>FALSE</td><td>FALSE</td><td>FALSE</td><td>FALSE</td><td>FALSE</td><td>FALSE</td><td>FALSE</td></tr>\n",
       "\t<tr><th scope=row>P3PP-2</th><td>FALSE</td><td>FALSE</td><td>FALSE</td><td>FALSE</td><td>FALSE</td><td>FALSE</td><td>FALSE</td><td>FALSE</td><td>FALSE</td></tr>\n",
       "\t<tr><th scope=row>P3PP+1</th><td>FALSE</td><td>FALSE</td><td>FALSE</td><td>FALSE</td><td>FALSE</td><td>FALSE</td><td>FALSE</td><td>FALSE</td><td>FALSE</td></tr>\n",
       "\t<tr><th scope=row>P3PP+2</th><td>FALSE</td><td>FALSE</td><td>FALSE</td><td>FALSE</td><td>FALSE</td><td>FALSE</td><td>FALSE</td><td>FALSE</td><td>FALSE</td></tr>\n",
       "\t<tr><th scope=row>P3PP+3</th><td>FALSE</td><td>FALSE</td><td>FALSE</td><td>FALSE</td><td>FALSE</td><td>FALSE</td><td>FALSE</td><td>FALSE</td><td>FALSE</td></tr>\n",
       "\t<tr><th scope=row>P3PE-1</th><td>FALSE</td><td>FALSE</td><td>FALSE</td><td>FALSE</td><td>FALSE</td><td>FALSE</td><td>FALSE</td><td>FALSE</td><td>FALSE</td></tr>\n",
       "\t<tr><th scope=row>P3PE-2</th><td>FALSE</td><td>FALSE</td><td>FALSE</td><td>FALSE</td><td>FALSE</td><td>FALSE</td><td>FALSE</td><td>FALSE</td><td>FALSE</td></tr>\n",
       "\t<tr><th scope=row>P3PE-3</th><td>FALSE</td><td>FALSE</td><td>FALSE</td><td>FALSE</td><td>FALSE</td><td>FALSE</td><td>FALSE</td><td>FALSE</td><td>FALSE</td></tr>\n",
       "\t<tr><th scope=row>P3PE-4</th><td>FALSE</td><td>FALSE</td><td>FALSE</td><td>FALSE</td><td>FALSE</td><td>FALSE</td><td>FALSE</td><td>FALSE</td><td>FALSE</td></tr>\n",
       "\t<tr><th scope=row>P3PE+1</th><td>FALSE</td><td>FALSE</td><td>FALSE</td><td>FALSE</td><td>FALSE</td><td>FALSE</td><td>FALSE</td><td>FALSE</td><td>FALSE</td></tr>\n",
       "\t<tr><th scope=row>P3PE+2</th><td>FALSE</td><td>FALSE</td><td>FALSE</td><td>FALSE</td><td>FALSE</td><td>FALSE</td><td>FALSE</td><td>FALSE</td><td>FALSE</td></tr>\n",
       "\t<tr><th scope=row>P3PE+3</th><td>FALSE</td><td>FALSE</td><td>FALSE</td><td>FALSE</td><td>FALSE</td><td>FALSE</td><td>FALSE</td><td>FALSE</td><td>FALSE</td></tr>\n",
       "\t<tr><th scope=row>P3PE+4</th><td>FALSE</td><td>FALSE</td><td>FALSE</td><td>FALSE</td><td>FALSE</td><td>FALSE</td><td>FALSE</td><td>FALSE</td><td>FALSE</td></tr>\n",
       "\t<tr><th scope=row>P5PP-1</th><td>FALSE</td><td>FALSE</td><td>FALSE</td><td>FALSE</td><td>FALSE</td><td>FALSE</td><td>FALSE</td><td>FALSE</td><td>FALSE</td></tr>\n",
       "\t<tr><th scope=row>P5PP-2</th><td>FALSE</td><td>FALSE</td><td>FALSE</td><td>FALSE</td><td>FALSE</td><td>FALSE</td><td>FALSE</td><td>FALSE</td><td>FALSE</td></tr>\n",
       "\t<tr><th scope=row>P5PP+1</th><td>FALSE</td><td>FALSE</td><td>FALSE</td><td>FALSE</td><td>FALSE</td><td>FALSE</td><td>FALSE</td><td>FALSE</td><td>FALSE</td></tr>\n",
       "\t<tr><th scope=row>P5PP+2</th><td>FALSE</td><td>FALSE</td><td>FALSE</td><td>FALSE</td><td>FALSE</td><td>FALSE</td><td>FALSE</td><td>FALSE</td><td>FALSE</td></tr>\n",
       "\t<tr><th scope=row>P5PE-1</th><td>FALSE</td><td>FALSE</td><td>FALSE</td><td>FALSE</td><td>FALSE</td><td>FALSE</td><td>FALSE</td><td>FALSE</td><td>FALSE</td></tr>\n",
       "\t<tr><th scope=row>P5PE-2</th><td>FALSE</td><td>FALSE</td><td>FALSE</td><td>FALSE</td><td>FALSE</td><td>FALSE</td><td>FALSE</td><td>FALSE</td><td>FALSE</td></tr>\n",
       "\t<tr><th scope=row>P5PE-3</th><td>FALSE</td><td>FALSE</td><td>FALSE</td><td>FALSE</td><td>FALSE</td><td>FALSE</td><td>FALSE</td><td>FALSE</td><td>FALSE</td></tr>\n",
       "\t<tr><th scope=row>P5PE-4</th><td>FALSE</td><td>FALSE</td><td>FALSE</td><td>FALSE</td><td>FALSE</td><td>FALSE</td><td>FALSE</td><td>FALSE</td><td>FALSE</td></tr>\n",
       "\t<tr><th scope=row>P5PE+1</th><td>FALSE</td><td>FALSE</td><td>FALSE</td><td>FALSE</td><td>FALSE</td><td>FALSE</td><td>FALSE</td><td>FALSE</td><td>FALSE</td></tr>\n",
       "\t<tr><th scope=row>P5PE+2</th><td>FALSE</td><td>FALSE</td><td>FALSE</td><td>FALSE</td><td>FALSE</td><td>FALSE</td><td>FALSE</td><td>FALSE</td><td>FALSE</td></tr>\n",
       "\t<tr><th scope=row>P5PE+3</th><td>FALSE</td><td>FALSE</td><td>FALSE</td><td>FALSE</td><td>FALSE</td><td>FALSE</td><td>FALSE</td><td>FALSE</td><td>FALSE</td></tr>\n",
       "\t<tr><th scope=row>P5PE+4</th><td>FALSE</td><td>FALSE</td><td>FALSE</td><td>FALSE</td><td>FALSE</td><td>FALSE</td><td>FALSE</td><td>FALSE</td><td>FALSE</td></tr>\n",
       "</tbody>\n",
       "</table>\n"
      ],
      "text/latex": [
       "A matrix: 50 × 9 of type lgl\n",
       "\\begin{tabular}{r|lllllllll}\n",
       "  & HLXb9 & HHEX & HNF4a & ISL1 & NEUROD1 & NKX6.1 & PAX4 & PTF1a & PDX1\\\\\n",
       "\\hline\n",
       "\tSC.1 & FALSE & FALSE & FALSE & FALSE & FALSE & FALSE & FALSE & FALSE & FALSE\\\\\n",
       "\tSC.2 & FALSE & FALSE & FALSE & FALSE & FALSE & FALSE & FALSE & FALSE & FALSE\\\\\n",
       "\tSC.3 & FALSE & FALSE & FALSE & FALSE & FALSE & FALSE & FALSE & FALSE & FALSE\\\\\n",
       "\tDE-1 & FALSE & FALSE & FALSE & FALSE & FALSE & FALSE & FALSE & FALSE & FALSE\\\\\n",
       "\tDE-2 & FALSE & FALSE & FALSE & FALSE & FALSE & FALSE & FALSE & FALSE & FALSE\\\\\n",
       "\tDE-3 & FALSE & FALSE & FALSE & FALSE & FALSE & FALSE & FALSE & FALSE & FALSE\\\\\n",
       "\tDE-4 & FALSE & FALSE & FALSE & FALSE & FALSE & FALSE & FALSE & FALSE & FALSE\\\\\n",
       "\tDE+1 & FALSE & FALSE & FALSE & FALSE & FALSE & FALSE & FALSE & FALSE & FALSE\\\\\n",
       "\tDE+2 & FALSE & FALSE & FALSE & FALSE & FALSE & FALSE & FALSE & FALSE & FALSE\\\\\n",
       "\tDE+3 & FALSE & FALSE & FALSE & FALSE & FALSE & FALSE & FALSE & FALSE & FALSE\\\\\n",
       "\tP2PP-1 & FALSE & FALSE & FALSE & FALSE & FALSE & FALSE & FALSE & FALSE & FALSE\\\\\n",
       "\tP2PP-2 & FALSE & FALSE & FALSE & FALSE & FALSE & FALSE & FALSE & FALSE & FALSE\\\\\n",
       "\tP2PP-3 & FALSE & FALSE & FALSE & FALSE & FALSE & FALSE & FALSE & FALSE & FALSE\\\\\n",
       "\tP2PP-4 & FALSE & FALSE & FALSE & FALSE & FALSE & FALSE & FALSE & FALSE & FALSE\\\\\n",
       "\tP2PP+1 & FALSE & FALSE & FALSE & FALSE & FALSE & FALSE & FALSE & FALSE & FALSE\\\\\n",
       "\tP2PP+2 & FALSE & FALSE & FALSE & FALSE & FALSE & FALSE & FALSE & FALSE & FALSE\\\\\n",
       "\tP2PP+3 & FALSE & FALSE & FALSE & FALSE & FALSE & FALSE & FALSE & FALSE & FALSE\\\\\n",
       "\tP2PE-1 & FALSE & FALSE & FALSE & FALSE & FALSE & FALSE & FALSE & FALSE & FALSE\\\\\n",
       "\tP2PE-2 & FALSE & FALSE & FALSE & FALSE & FALSE & FALSE & FALSE & FALSE & FALSE\\\\\n",
       "\tP2PE-3 & FALSE & FALSE & FALSE & FALSE & FALSE & FALSE & FALSE & FALSE & FALSE\\\\\n",
       "\tP2PE-4 & FALSE & FALSE & FALSE & FALSE & FALSE & FALSE & FALSE & FALSE & FALSE\\\\\n",
       "\tP2PE+1 & FALSE & FALSE & FALSE & FALSE & FALSE & FALSE & FALSE & FALSE & FALSE\\\\\n",
       "\tP2PE+2 & FALSE & FALSE & FALSE & FALSE & FALSE & FALSE & FALSE & FALSE & FALSE\\\\\n",
       "\tP2PE+3 & FALSE & FALSE & FALSE & FALSE & FALSE & FALSE & FALSE & FALSE & FALSE\\\\\n",
       "\tP2PE+4 & FALSE & FALSE & FALSE & FALSE & FALSE & FALSE & FALSE & FALSE & FALSE\\\\\n",
       "\tP3PP-1 & FALSE & FALSE & FALSE & FALSE & FALSE & FALSE & FALSE & FALSE & FALSE\\\\\n",
       "\tP3PP-2 & FALSE & FALSE & FALSE & FALSE & FALSE & FALSE & FALSE & FALSE & FALSE\\\\\n",
       "\tP3PP+1 & FALSE & FALSE & FALSE & FALSE & FALSE & FALSE & FALSE & FALSE & FALSE\\\\\n",
       "\tP3PP+2 & FALSE & FALSE & FALSE & FALSE & FALSE & FALSE & FALSE & FALSE & FALSE\\\\\n",
       "\tP3PP+3 & FALSE & FALSE & FALSE & FALSE & FALSE & FALSE & FALSE & FALSE & FALSE\\\\\n",
       "\tP3PE-1 & FALSE & FALSE & FALSE & FALSE & FALSE & FALSE & FALSE & FALSE & FALSE\\\\\n",
       "\tP3PE-2 & FALSE & FALSE & FALSE & FALSE & FALSE & FALSE & FALSE & FALSE & FALSE\\\\\n",
       "\tP3PE-3 & FALSE & FALSE & FALSE & FALSE & FALSE & FALSE & FALSE & FALSE & FALSE\\\\\n",
       "\tP3PE-4 & FALSE & FALSE & FALSE & FALSE & FALSE & FALSE & FALSE & FALSE & FALSE\\\\\n",
       "\tP3PE+1 & FALSE & FALSE & FALSE & FALSE & FALSE & FALSE & FALSE & FALSE & FALSE\\\\\n",
       "\tP3PE+2 & FALSE & FALSE & FALSE & FALSE & FALSE & FALSE & FALSE & FALSE & FALSE\\\\\n",
       "\tP3PE+3 & FALSE & FALSE & FALSE & FALSE & FALSE & FALSE & FALSE & FALSE & FALSE\\\\\n",
       "\tP3PE+4 & FALSE & FALSE & FALSE & FALSE & FALSE & FALSE & FALSE & FALSE & FALSE\\\\\n",
       "\tP5PP-1 & FALSE & FALSE & FALSE & FALSE & FALSE & FALSE & FALSE & FALSE & FALSE\\\\\n",
       "\tP5PP-2 & FALSE & FALSE & FALSE & FALSE & FALSE & FALSE & FALSE & FALSE & FALSE\\\\\n",
       "\tP5PP+1 & FALSE & FALSE & FALSE & FALSE & FALSE & FALSE & FALSE & FALSE & FALSE\\\\\n",
       "\tP5PP+2 & FALSE & FALSE & FALSE & FALSE & FALSE & FALSE & FALSE & FALSE & FALSE\\\\\n",
       "\tP5PE-1 & FALSE & FALSE & FALSE & FALSE & FALSE & FALSE & FALSE & FALSE & FALSE\\\\\n",
       "\tP5PE-2 & FALSE & FALSE & FALSE & FALSE & FALSE & FALSE & FALSE & FALSE & FALSE\\\\\n",
       "\tP5PE-3 & FALSE & FALSE & FALSE & FALSE & FALSE & FALSE & FALSE & FALSE & FALSE\\\\\n",
       "\tP5PE-4 & FALSE & FALSE & FALSE & FALSE & FALSE & FALSE & FALSE & FALSE & FALSE\\\\\n",
       "\tP5PE+1 & FALSE & FALSE & FALSE & FALSE & FALSE & FALSE & FALSE & FALSE & FALSE\\\\\n",
       "\tP5PE+2 & FALSE & FALSE & FALSE & FALSE & FALSE & FALSE & FALSE & FALSE & FALSE\\\\\n",
       "\tP5PE+3 & FALSE & FALSE & FALSE & FALSE & FALSE & FALSE & FALSE & FALSE & FALSE\\\\\n",
       "\tP5PE+4 & FALSE & FALSE & FALSE & FALSE & FALSE & FALSE & FALSE & FALSE & FALSE\\\\\n",
       "\\end{tabular}\n"
      ],
      "text/markdown": [
       "\n",
       "A matrix: 50 × 9 of type lgl\n",
       "\n",
       "| <!--/--> | HLXb9 | HHEX | HNF4a | ISL1 | NEUROD1 | NKX6.1 | PAX4 | PTF1a | PDX1 |\n",
       "|---|---|---|---|---|---|---|---|---|---|\n",
       "| SC.1 | FALSE | FALSE | FALSE | FALSE | FALSE | FALSE | FALSE | FALSE | FALSE |\n",
       "| SC.2 | FALSE | FALSE | FALSE | FALSE | FALSE | FALSE | FALSE | FALSE | FALSE |\n",
       "| SC.3 | FALSE | FALSE | FALSE | FALSE | FALSE | FALSE | FALSE | FALSE | FALSE |\n",
       "| DE-1 | FALSE | FALSE | FALSE | FALSE | FALSE | FALSE | FALSE | FALSE | FALSE |\n",
       "| DE-2 | FALSE | FALSE | FALSE | FALSE | FALSE | FALSE | FALSE | FALSE | FALSE |\n",
       "| DE-3 | FALSE | FALSE | FALSE | FALSE | FALSE | FALSE | FALSE | FALSE | FALSE |\n",
       "| DE-4 | FALSE | FALSE | FALSE | FALSE | FALSE | FALSE | FALSE | FALSE | FALSE |\n",
       "| DE+1 | FALSE | FALSE | FALSE | FALSE | FALSE | FALSE | FALSE | FALSE | FALSE |\n",
       "| DE+2 | FALSE | FALSE | FALSE | FALSE | FALSE | FALSE | FALSE | FALSE | FALSE |\n",
       "| DE+3 | FALSE | FALSE | FALSE | FALSE | FALSE | FALSE | FALSE | FALSE | FALSE |\n",
       "| P2PP-1 | FALSE | FALSE | FALSE | FALSE | FALSE | FALSE | FALSE | FALSE | FALSE |\n",
       "| P2PP-2 | FALSE | FALSE | FALSE | FALSE | FALSE | FALSE | FALSE | FALSE | FALSE |\n",
       "| P2PP-3 | FALSE | FALSE | FALSE | FALSE | FALSE | FALSE | FALSE | FALSE | FALSE |\n",
       "| P2PP-4 | FALSE | FALSE | FALSE | FALSE | FALSE | FALSE | FALSE | FALSE | FALSE |\n",
       "| P2PP+1 | FALSE | FALSE | FALSE | FALSE | FALSE | FALSE | FALSE | FALSE | FALSE |\n",
       "| P2PP+2 | FALSE | FALSE | FALSE | FALSE | FALSE | FALSE | FALSE | FALSE | FALSE |\n",
       "| P2PP+3 | FALSE | FALSE | FALSE | FALSE | FALSE | FALSE | FALSE | FALSE | FALSE |\n",
       "| P2PE-1 | FALSE | FALSE | FALSE | FALSE | FALSE | FALSE | FALSE | FALSE | FALSE |\n",
       "| P2PE-2 | FALSE | FALSE | FALSE | FALSE | FALSE | FALSE | FALSE | FALSE | FALSE |\n",
       "| P2PE-3 | FALSE | FALSE | FALSE | FALSE | FALSE | FALSE | FALSE | FALSE | FALSE |\n",
       "| P2PE-4 | FALSE | FALSE | FALSE | FALSE | FALSE | FALSE | FALSE | FALSE | FALSE |\n",
       "| P2PE+1 | FALSE | FALSE | FALSE | FALSE | FALSE | FALSE | FALSE | FALSE | FALSE |\n",
       "| P2PE+2 | FALSE | FALSE | FALSE | FALSE | FALSE | FALSE | FALSE | FALSE | FALSE |\n",
       "| P2PE+3 | FALSE | FALSE | FALSE | FALSE | FALSE | FALSE | FALSE | FALSE | FALSE |\n",
       "| P2PE+4 | FALSE | FALSE | FALSE | FALSE | FALSE | FALSE | FALSE | FALSE | FALSE |\n",
       "| P3PP-1 | FALSE | FALSE | FALSE | FALSE | FALSE | FALSE | FALSE | FALSE | FALSE |\n",
       "| P3PP-2 | FALSE | FALSE | FALSE | FALSE | FALSE | FALSE | FALSE | FALSE | FALSE |\n",
       "| P3PP+1 | FALSE | FALSE | FALSE | FALSE | FALSE | FALSE | FALSE | FALSE | FALSE |\n",
       "| P3PP+2 | FALSE | FALSE | FALSE | FALSE | FALSE | FALSE | FALSE | FALSE | FALSE |\n",
       "| P3PP+3 | FALSE | FALSE | FALSE | FALSE | FALSE | FALSE | FALSE | FALSE | FALSE |\n",
       "| P3PE-1 | FALSE | FALSE | FALSE | FALSE | FALSE | FALSE | FALSE | FALSE | FALSE |\n",
       "| P3PE-2 | FALSE | FALSE | FALSE | FALSE | FALSE | FALSE | FALSE | FALSE | FALSE |\n",
       "| P3PE-3 | FALSE | FALSE | FALSE | FALSE | FALSE | FALSE | FALSE | FALSE | FALSE |\n",
       "| P3PE-4 | FALSE | FALSE | FALSE | FALSE | FALSE | FALSE | FALSE | FALSE | FALSE |\n",
       "| P3PE+1 | FALSE | FALSE | FALSE | FALSE | FALSE | FALSE | FALSE | FALSE | FALSE |\n",
       "| P3PE+2 | FALSE | FALSE | FALSE | FALSE | FALSE | FALSE | FALSE | FALSE | FALSE |\n",
       "| P3PE+3 | FALSE | FALSE | FALSE | FALSE | FALSE | FALSE | FALSE | FALSE | FALSE |\n",
       "| P3PE+4 | FALSE | FALSE | FALSE | FALSE | FALSE | FALSE | FALSE | FALSE | FALSE |\n",
       "| P5PP-1 | FALSE | FALSE | FALSE | FALSE | FALSE | FALSE | FALSE | FALSE | FALSE |\n",
       "| P5PP-2 | FALSE | FALSE | FALSE | FALSE | FALSE | FALSE | FALSE | FALSE | FALSE |\n",
       "| P5PP+1 | FALSE | FALSE | FALSE | FALSE | FALSE | FALSE | FALSE | FALSE | FALSE |\n",
       "| P5PP+2 | FALSE | FALSE | FALSE | FALSE | FALSE | FALSE | FALSE | FALSE | FALSE |\n",
       "| P5PE-1 | FALSE | FALSE | FALSE | FALSE | FALSE | FALSE | FALSE | FALSE | FALSE |\n",
       "| P5PE-2 | FALSE | FALSE | FALSE | FALSE | FALSE | FALSE | FALSE | FALSE | FALSE |\n",
       "| P5PE-3 | FALSE | FALSE | FALSE | FALSE | FALSE | FALSE | FALSE | FALSE | FALSE |\n",
       "| P5PE-4 | FALSE | FALSE | FALSE | FALSE | FALSE | FALSE | FALSE | FALSE | FALSE |\n",
       "| P5PE+1 | FALSE | FALSE | FALSE | FALSE | FALSE | FALSE | FALSE | FALSE | FALSE |\n",
       "| P5PE+2 | FALSE | FALSE | FALSE | FALSE | FALSE | FALSE | FALSE | FALSE | FALSE |\n",
       "| P5PE+3 | FALSE | FALSE | FALSE | FALSE | FALSE | FALSE | FALSE | FALSE | FALSE |\n",
       "| P5PE+4 | FALSE | FALSE | FALSE | FALSE | FALSE | FALSE | FALSE | FALSE | FALSE |\n",
       "\n"
      ],
      "text/plain": [
       "       HLXb9 HHEX  HNF4a ISL1  NEUROD1 NKX6.1 PAX4  PTF1a PDX1 \n",
       "SC.1   FALSE FALSE FALSE FALSE FALSE   FALSE  FALSE FALSE FALSE\n",
       "SC.2   FALSE FALSE FALSE FALSE FALSE   FALSE  FALSE FALSE FALSE\n",
       "SC.3   FALSE FALSE FALSE FALSE FALSE   FALSE  FALSE FALSE FALSE\n",
       "DE-1   FALSE FALSE FALSE FALSE FALSE   FALSE  FALSE FALSE FALSE\n",
       "DE-2   FALSE FALSE FALSE FALSE FALSE   FALSE  FALSE FALSE FALSE\n",
       "DE-3   FALSE FALSE FALSE FALSE FALSE   FALSE  FALSE FALSE FALSE\n",
       "DE-4   FALSE FALSE FALSE FALSE FALSE   FALSE  FALSE FALSE FALSE\n",
       "DE+1   FALSE FALSE FALSE FALSE FALSE   FALSE  FALSE FALSE FALSE\n",
       "DE+2   FALSE FALSE FALSE FALSE FALSE   FALSE  FALSE FALSE FALSE\n",
       "DE+3   FALSE FALSE FALSE FALSE FALSE   FALSE  FALSE FALSE FALSE\n",
       "P2PP-1 FALSE FALSE FALSE FALSE FALSE   FALSE  FALSE FALSE FALSE\n",
       "P2PP-2 FALSE FALSE FALSE FALSE FALSE   FALSE  FALSE FALSE FALSE\n",
       "P2PP-3 FALSE FALSE FALSE FALSE FALSE   FALSE  FALSE FALSE FALSE\n",
       "P2PP-4 FALSE FALSE FALSE FALSE FALSE   FALSE  FALSE FALSE FALSE\n",
       "P2PP+1 FALSE FALSE FALSE FALSE FALSE   FALSE  FALSE FALSE FALSE\n",
       "P2PP+2 FALSE FALSE FALSE FALSE FALSE   FALSE  FALSE FALSE FALSE\n",
       "P2PP+3 FALSE FALSE FALSE FALSE FALSE   FALSE  FALSE FALSE FALSE\n",
       "P2PE-1 FALSE FALSE FALSE FALSE FALSE   FALSE  FALSE FALSE FALSE\n",
       "P2PE-2 FALSE FALSE FALSE FALSE FALSE   FALSE  FALSE FALSE FALSE\n",
       "P2PE-3 FALSE FALSE FALSE FALSE FALSE   FALSE  FALSE FALSE FALSE\n",
       "P2PE-4 FALSE FALSE FALSE FALSE FALSE   FALSE  FALSE FALSE FALSE\n",
       "P2PE+1 FALSE FALSE FALSE FALSE FALSE   FALSE  FALSE FALSE FALSE\n",
       "P2PE+2 FALSE FALSE FALSE FALSE FALSE   FALSE  FALSE FALSE FALSE\n",
       "P2PE+3 FALSE FALSE FALSE FALSE FALSE   FALSE  FALSE FALSE FALSE\n",
       "P2PE+4 FALSE FALSE FALSE FALSE FALSE   FALSE  FALSE FALSE FALSE\n",
       "P3PP-1 FALSE FALSE FALSE FALSE FALSE   FALSE  FALSE FALSE FALSE\n",
       "P3PP-2 FALSE FALSE FALSE FALSE FALSE   FALSE  FALSE FALSE FALSE\n",
       "P3PP+1 FALSE FALSE FALSE FALSE FALSE   FALSE  FALSE FALSE FALSE\n",
       "P3PP+2 FALSE FALSE FALSE FALSE FALSE   FALSE  FALSE FALSE FALSE\n",
       "P3PP+3 FALSE FALSE FALSE FALSE FALSE   FALSE  FALSE FALSE FALSE\n",
       "P3PE-1 FALSE FALSE FALSE FALSE FALSE   FALSE  FALSE FALSE FALSE\n",
       "P3PE-2 FALSE FALSE FALSE FALSE FALSE   FALSE  FALSE FALSE FALSE\n",
       "P3PE-3 FALSE FALSE FALSE FALSE FALSE   FALSE  FALSE FALSE FALSE\n",
       "P3PE-4 FALSE FALSE FALSE FALSE FALSE   FALSE  FALSE FALSE FALSE\n",
       "P3PE+1 FALSE FALSE FALSE FALSE FALSE   FALSE  FALSE FALSE FALSE\n",
       "P3PE+2 FALSE FALSE FALSE FALSE FALSE   FALSE  FALSE FALSE FALSE\n",
       "P3PE+3 FALSE FALSE FALSE FALSE FALSE   FALSE  FALSE FALSE FALSE\n",
       "P3PE+4 FALSE FALSE FALSE FALSE FALSE   FALSE  FALSE FALSE FALSE\n",
       "P5PP-1 FALSE FALSE FALSE FALSE FALSE   FALSE  FALSE FALSE FALSE\n",
       "P5PP-2 FALSE FALSE FALSE FALSE FALSE   FALSE  FALSE FALSE FALSE\n",
       "P5PP+1 FALSE FALSE FALSE FALSE FALSE   FALSE  FALSE FALSE FALSE\n",
       "P5PP+2 FALSE FALSE FALSE FALSE FALSE   FALSE  FALSE FALSE FALSE\n",
       "P5PE-1 FALSE FALSE FALSE FALSE FALSE   FALSE  FALSE FALSE FALSE\n",
       "P5PE-2 FALSE FALSE FALSE FALSE FALSE   FALSE  FALSE FALSE FALSE\n",
       "P5PE-3 FALSE FALSE FALSE FALSE FALSE   FALSE  FALSE FALSE FALSE\n",
       "P5PE-4 FALSE FALSE FALSE FALSE FALSE   FALSE  FALSE FALSE FALSE\n",
       "P5PE+1 FALSE FALSE FALSE FALSE FALSE   FALSE  FALSE FALSE FALSE\n",
       "P5PE+2 FALSE FALSE FALSE FALSE FALSE   FALSE  FALSE FALSE FALSE\n",
       "P5PE+3 FALSE FALSE FALSE FALSE FALSE   FALSE  FALSE FALSE FALSE\n",
       "P5PE+4 FALSE FALSE FALSE FALSE FALSE   FALSE  FALSE FALSE FALSE"
      ]
     },
     "metadata": {},
     "output_type": "display_data"
    }
   ],
   "source": [
    "any(is.na(x))\n",
    "any(c(F,F, T))\n",
    "#any == is any of (...) true?\n",
    "is.na(x)"
   ]
  },
  {
   "cell_type": "markdown",
   "id": "d8487f93-92b5-4895-9c0a-665e1c2dba84",
   "metadata": {},
   "source": [
    "4. now lets get back to PCA and check its plot"
   ]
  },
  {
   "cell_type": "code",
   "execution_count": 4,
   "id": "83206d05-46db-418c-97da-e79b05b306ed",
   "metadata": {},
   "outputs": [
    {
     "data": {
      "image/png": "[encoded data removed]",
      "text/plain": [
       "Plot with title \"pc\""
      ]
     },
     "metadata": {
      "image/png": {
       "height": 420,
       "width": 420
      }
     },
     "output_type": "display_data"
    }
   ],
   "source": [
    "pc <- prcomp(x)\n",
    "plot(pc)\n"
   ]
  },
  {
   "cell_type": "markdown",
   "id": "f529f685-10ec-48c0-aca9-1e89adfc1924",
   "metadata": {},
   "source": [
    "5. now lets check the variables that PCA have in itself"
   ]
  },
  {
   "cell_type": "code",
   "execution_count": 15,
   "id": "c66dc2b5-185f-4ad2-a47f-f44ffa6e4283",
   "metadata": {},
   "outputs": [
    {
     "data": {
      "text/html": [
       "<table class=\"dataframe\">\n",
       "<caption>A data.frame: 6 × 9</caption>\n",
       "<thead>\n",
       "\t<tr><th></th><th scope=col>PC1</th><th scope=col>PC2</th><th scope=col>PC3</th><th scope=col>PC4</th><th scope=col>PC5</th><th scope=col>PC6</th><th scope=col>PC7</th><th scope=col>PC8</th><th scope=col>PC9</th></tr>\n",
       "\t<tr><th></th><th scope=col>&lt;dbl&gt;</th><th scope=col>&lt;dbl&gt;</th><th scope=col>&lt;dbl&gt;</th><th scope=col>&lt;dbl&gt;</th><th scope=col>&lt;dbl&gt;</th><th scope=col>&lt;dbl&gt;</th><th scope=col>&lt;dbl&gt;</th><th scope=col>&lt;dbl&gt;</th><th scope=col>&lt;dbl&gt;</th></tr>\n",
       "</thead>\n",
       "<tbody>\n",
       "\t<tr><th scope=row>SC.1</th><td> -9.093699</td><td> 0.3498449</td><td> 1.4819546</td><td>-0.3144679</td><td>-0.9020449</td><td> 0.36197049</td><td>-0.1653060</td><td> 0.112962556</td><td>-0.2219296</td></tr>\n",
       "\t<tr><th scope=row>SC.2</th><td>-10.508959</td><td> 0.5816797</td><td> 2.1021061</td><td> 0.1380932</td><td>-1.1885379</td><td>-0.45847872</td><td>-0.1023903</td><td>-0.033567399</td><td>-0.2163916</td></tr>\n",
       "\t<tr><th scope=row>SC.3</th><td>-10.508959</td><td> 0.5816797</td><td> 2.1021061</td><td> 0.1380932</td><td>-1.1885379</td><td>-0.45847872</td><td>-0.1023903</td><td>-0.033567399</td><td>-0.2163916</td></tr>\n",
       "\t<tr><th scope=row>DE-1</th><td> -2.449101</td><td>-2.6326480</td><td>-2.9050748</td><td> 1.2489314</td><td> 0.3923838</td><td>-0.98498175</td><td>-0.1692248</td><td>-0.008704962</td><td> 0.1670561</td></tr>\n",
       "\t<tr><th scope=row>DE-2</th><td> -3.924503</td><td>-3.5045698</td><td>-1.8546891</td><td> 0.1356705</td><td>-0.8044622</td><td>-0.01610691</td><td> 0.1047858</td><td> 1.180419741</td><td> 0.4074695</td></tr>\n",
       "\t<tr><th scope=row>DE-3</th><td> -2.469389</td><td>-2.4252831</td><td>-0.7083672</td><td> 0.4834081</td><td> 0.4540289</td><td>-0.31750717</td><td> 0.2125931</td><td> 0.200132696</td><td> 0.6073775</td></tr>\n",
       "</tbody>\n",
       "</table>\n"
      ],
      "text/latex": [
       "A data.frame: 6 × 9\n",
       "\\begin{tabular}{r|lllllllll}\n",
       "  & PC1 & PC2 & PC3 & PC4 & PC5 & PC6 & PC7 & PC8 & PC9\\\\\n",
       "  & <dbl> & <dbl> & <dbl> & <dbl> & <dbl> & <dbl> & <dbl> & <dbl> & <dbl>\\\\\n",
       "\\hline\n",
       "\tSC.1 &  -9.093699 &  0.3498449 &  1.4819546 & -0.3144679 & -0.9020449 &  0.36197049 & -0.1653060 &  0.112962556 & -0.2219296\\\\\n",
       "\tSC.2 & -10.508959 &  0.5816797 &  2.1021061 &  0.1380932 & -1.1885379 & -0.45847872 & -0.1023903 & -0.033567399 & -0.2163916\\\\\n",
       "\tSC.3 & -10.508959 &  0.5816797 &  2.1021061 &  0.1380932 & -1.1885379 & -0.45847872 & -0.1023903 & -0.033567399 & -0.2163916\\\\\n",
       "\tDE-1 &  -2.449101 & -2.6326480 & -2.9050748 &  1.2489314 &  0.3923838 & -0.98498175 & -0.1692248 & -0.008704962 &  0.1670561\\\\\n",
       "\tDE-2 &  -3.924503 & -3.5045698 & -1.8546891 &  0.1356705 & -0.8044622 & -0.01610691 &  0.1047858 &  1.180419741 &  0.4074695\\\\\n",
       "\tDE-3 &  -2.469389 & -2.4252831 & -0.7083672 &  0.4834081 &  0.4540289 & -0.31750717 &  0.2125931 &  0.200132696 &  0.6073775\\\\\n",
       "\\end{tabular}\n"
      ],
      "text/markdown": [
       "\n",
       "A data.frame: 6 × 9\n",
       "\n",
       "| <!--/--> | PC1 &lt;dbl&gt; | PC2 &lt;dbl&gt; | PC3 &lt;dbl&gt; | PC4 &lt;dbl&gt; | PC5 &lt;dbl&gt; | PC6 &lt;dbl&gt; | PC7 &lt;dbl&gt; | PC8 &lt;dbl&gt; | PC9 &lt;dbl&gt; |\n",
       "|---|---|---|---|---|---|---|---|---|---|\n",
       "| SC.1 |  -9.093699 |  0.3498449 |  1.4819546 | -0.3144679 | -0.9020449 |  0.36197049 | -0.1653060 |  0.112962556 | -0.2219296 |\n",
       "| SC.2 | -10.508959 |  0.5816797 |  2.1021061 |  0.1380932 | -1.1885379 | -0.45847872 | -0.1023903 | -0.033567399 | -0.2163916 |\n",
       "| SC.3 | -10.508959 |  0.5816797 |  2.1021061 |  0.1380932 | -1.1885379 | -0.45847872 | -0.1023903 | -0.033567399 | -0.2163916 |\n",
       "| DE-1 |  -2.449101 | -2.6326480 | -2.9050748 |  1.2489314 |  0.3923838 | -0.98498175 | -0.1692248 | -0.008704962 |  0.1670561 |\n",
       "| DE-2 |  -3.924503 | -3.5045698 | -1.8546891 |  0.1356705 | -0.8044622 | -0.01610691 |  0.1047858 |  1.180419741 |  0.4074695 |\n",
       "| DE-3 |  -2.469389 | -2.4252831 | -0.7083672 |  0.4834081 |  0.4540289 | -0.31750717 |  0.2125931 |  0.200132696 |  0.6073775 |\n",
       "\n"
      ],
      "text/plain": [
       "     PC1        PC2        PC3        PC4        PC5        PC6        \n",
       "SC.1  -9.093699  0.3498449  1.4819546 -0.3144679 -0.9020449  0.36197049\n",
       "SC.2 -10.508959  0.5816797  2.1021061  0.1380932 -1.1885379 -0.45847872\n",
       "SC.3 -10.508959  0.5816797  2.1021061  0.1380932 -1.1885379 -0.45847872\n",
       "DE-1  -2.449101 -2.6326480 -2.9050748  1.2489314  0.3923838 -0.98498175\n",
       "DE-2  -3.924503 -3.5045698 -1.8546891  0.1356705 -0.8044622 -0.01610691\n",
       "DE-3  -2.469389 -2.4252831 -0.7083672  0.4834081  0.4540289 -0.31750717\n",
       "     PC7        PC8          PC9       \n",
       "SC.1 -0.1653060  0.112962556 -0.2219296\n",
       "SC.2 -0.1023903 -0.033567399 -0.2163916\n",
       "SC.3 -0.1023903 -0.033567399 -0.2163916\n",
       "DE-1 -0.1692248 -0.008704962  0.1670561\n",
       "DE-2  0.1047858  1.180419741  0.4074695\n",
       "DE-3  0.2125931  0.200132696  0.6073775"
      ]
     },
     "metadata": {},
     "output_type": "display_data"
    }
   ],
   "source": [
    "#pc$x is a important variable in prcomp(x) that shows the prcomps of the samples\n",
    "pcx <- data.frame(pc$x)\n",
    "head(pcx)"
   ]
  },
  {
   "cell_type": "markdown",
   "id": "e65201cd-973f-4633-bafb-702ee066359c",
   "metadata": {},
   "source": [
    "6. lets check the power of important pca`s : 1&2 and compare it with gene variations"
   ]
  },
  {
   "cell_type": "code",
   "execution_count": 6,
   "id": "9c2cac63-3e96-4574-a59c-89c51f436087",
   "metadata": {},
   "outputs": [
    {
     "data": {
      "image/png": "[encoded data removed]",
      "text/plain": [
       "plot without title"
      ]
     },
     "metadata": {
      "image/png": {
       "height": 420,
       "width": 420
      }
     },
     "output_type": "display_data"
    },
    {
     "data": {
      "image/png": "[encoded data removed]",
      "text/plain": [
       "plot without title"
      ]
     },
     "metadata": {
      "image/png": {
       "height": 420,
       "width": 420
      }
     },
     "output_type": "display_data"
    },
    {
     "data": {
      "image/png": "[encoded data removed]",
      "text/plain": [
       "plot without title"
      ]
     },
     "metadata": {
      "image/png": {
       "height": 420,
       "width": 420
      }
     },
     "output_type": "display_data"
    },
    {
     "data": {
      "image/png": "[encoded data removed]",
      "text/plain": [
       "plot without title"
      ]
     },
     "metadata": {
      "image/png": {
       "height": 420,
       "width": 420
      }
     },
     "output_type": "display_data"
    },
    {
     "data": {
      "image/png": "[encoded data removed]",
      "text/plain": [
       "plot without title"
      ]
     },
     "metadata": {
      "image/png": {
       "height": 420,
       "width": 420
      }
     },
     "output_type": "display_data"
    }
   ],
   "source": [
    "#scatter plot for the prcomp of samples\n",
    "ggplot(pcx, aes(PC1, PC2)) + geom_point()\n",
    "\n",
    "#comparing with the genes itself with prcomps:\n",
    "plot(x[,1:2])\n",
    "plot(x[,3:4])\n",
    "plot(x[, 5:6])\n",
    "plot(x[, 7:8])"
   ]
  },
  {
   "cell_type": "markdown",
   "id": "24638643-820b-4a2a-ba33-d956e4453345",
   "metadata": {},
   "source": [
    "7. now its better to see the samples distribution in our PCA plots"
   ]
  },
  {
   "cell_type": "code",
   "execution_count": 7,
   "id": "603b9785-51a8-481c-afa7-6ab2036a85b2",
   "metadata": {},
   "outputs": [
    {
     "data": {
      "text/html": [
       "<table class=\"dataframe\">\n",
       "<caption>A data.frame: 6 × 10</caption>\n",
       "<thead>\n",
       "\t<tr><th></th><th scope=col>PC1</th><th scope=col>PC2</th><th scope=col>PC3</th><th scope=col>PC4</th><th scope=col>PC5</th><th scope=col>PC6</th><th scope=col>PC7</th><th scope=col>PC8</th><th scope=col>PC9</th><th scope=col>sample</th></tr>\n",
       "\t<tr><th></th><th scope=col>&lt;dbl&gt;</th><th scope=col>&lt;dbl&gt;</th><th scope=col>&lt;dbl&gt;</th><th scope=col>&lt;dbl&gt;</th><th scope=col>&lt;dbl&gt;</th><th scope=col>&lt;dbl&gt;</th><th scope=col>&lt;dbl&gt;</th><th scope=col>&lt;dbl&gt;</th><th scope=col>&lt;dbl&gt;</th><th scope=col>&lt;chr&gt;</th></tr>\n",
       "</thead>\n",
       "<tbody>\n",
       "\t<tr><th scope=row>SC.1</th><td> -9.093699</td><td> 0.3498449</td><td> 1.4819546</td><td>-0.3144679</td><td>-0.9020449</td><td> 0.36197049</td><td>-0.1653060</td><td> 0.112962556</td><td>-0.2219296</td><td>SC.1</td></tr>\n",
       "\t<tr><th scope=row>SC.2</th><td>-10.508959</td><td> 0.5816797</td><td> 2.1021061</td><td> 0.1380932</td><td>-1.1885379</td><td>-0.45847872</td><td>-0.1023903</td><td>-0.033567399</td><td>-0.2163916</td><td>SC.2</td></tr>\n",
       "\t<tr><th scope=row>SC.3</th><td>-10.508959</td><td> 0.5816797</td><td> 2.1021061</td><td> 0.1380932</td><td>-1.1885379</td><td>-0.45847872</td><td>-0.1023903</td><td>-0.033567399</td><td>-0.2163916</td><td>SC.3</td></tr>\n",
       "\t<tr><th scope=row>DE-1</th><td> -2.449101</td><td>-2.6326480</td><td>-2.9050748</td><td> 1.2489314</td><td> 0.3923838</td><td>-0.98498175</td><td>-0.1692248</td><td>-0.008704962</td><td> 0.1670561</td><td>DE-1</td></tr>\n",
       "\t<tr><th scope=row>DE-2</th><td> -3.924503</td><td>-3.5045698</td><td>-1.8546891</td><td> 0.1356705</td><td>-0.8044622</td><td>-0.01610691</td><td> 0.1047858</td><td> 1.180419741</td><td> 0.4074695</td><td>DE-2</td></tr>\n",
       "\t<tr><th scope=row>DE-3</th><td> -2.469389</td><td>-2.4252831</td><td>-0.7083672</td><td> 0.4834081</td><td> 0.4540289</td><td>-0.31750717</td><td> 0.2125931</td><td> 0.200132696</td><td> 0.6073775</td><td>DE-3</td></tr>\n",
       "</tbody>\n",
       "</table>\n"
      ],
      "text/latex": [
       "A data.frame: 6 × 10\n",
       "\\begin{tabular}{r|llllllllll}\n",
       "  & PC1 & PC2 & PC3 & PC4 & PC5 & PC6 & PC7 & PC8 & PC9 & sample\\\\\n",
       "  & <dbl> & <dbl> & <dbl> & <dbl> & <dbl> & <dbl> & <dbl> & <dbl> & <dbl> & <chr>\\\\\n",
       "\\hline\n",
       "\tSC.1 &  -9.093699 &  0.3498449 &  1.4819546 & -0.3144679 & -0.9020449 &  0.36197049 & -0.1653060 &  0.112962556 & -0.2219296 & SC.1\\\\\n",
       "\tSC.2 & -10.508959 &  0.5816797 &  2.1021061 &  0.1380932 & -1.1885379 & -0.45847872 & -0.1023903 & -0.033567399 & -0.2163916 & SC.2\\\\\n",
       "\tSC.3 & -10.508959 &  0.5816797 &  2.1021061 &  0.1380932 & -1.1885379 & -0.45847872 & -0.1023903 & -0.033567399 & -0.2163916 & SC.3\\\\\n",
       "\tDE-1 &  -2.449101 & -2.6326480 & -2.9050748 &  1.2489314 &  0.3923838 & -0.98498175 & -0.1692248 & -0.008704962 &  0.1670561 & DE-1\\\\\n",
       "\tDE-2 &  -3.924503 & -3.5045698 & -1.8546891 &  0.1356705 & -0.8044622 & -0.01610691 &  0.1047858 &  1.180419741 &  0.4074695 & DE-2\\\\\n",
       "\tDE-3 &  -2.469389 & -2.4252831 & -0.7083672 &  0.4834081 &  0.4540289 & -0.31750717 &  0.2125931 &  0.200132696 &  0.6073775 & DE-3\\\\\n",
       "\\end{tabular}\n"
      ],
      "text/markdown": [
       "\n",
       "A data.frame: 6 × 10\n",
       "\n",
       "| <!--/--> | PC1 &lt;dbl&gt; | PC2 &lt;dbl&gt; | PC3 &lt;dbl&gt; | PC4 &lt;dbl&gt; | PC5 &lt;dbl&gt; | PC6 &lt;dbl&gt; | PC7 &lt;dbl&gt; | PC8 &lt;dbl&gt; | PC9 &lt;dbl&gt; | sample &lt;chr&gt; |\n",
       "|---|---|---|---|---|---|---|---|---|---|---|\n",
       "| SC.1 |  -9.093699 |  0.3498449 |  1.4819546 | -0.3144679 | -0.9020449 |  0.36197049 | -0.1653060 |  0.112962556 | -0.2219296 | SC.1 |\n",
       "| SC.2 | -10.508959 |  0.5816797 |  2.1021061 |  0.1380932 | -1.1885379 | -0.45847872 | -0.1023903 | -0.033567399 | -0.2163916 | SC.2 |\n",
       "| SC.3 | -10.508959 |  0.5816797 |  2.1021061 |  0.1380932 | -1.1885379 | -0.45847872 | -0.1023903 | -0.033567399 | -0.2163916 | SC.3 |\n",
       "| DE-1 |  -2.449101 | -2.6326480 | -2.9050748 |  1.2489314 |  0.3923838 | -0.98498175 | -0.1692248 | -0.008704962 |  0.1670561 | DE-1 |\n",
       "| DE-2 |  -3.924503 | -3.5045698 | -1.8546891 |  0.1356705 | -0.8044622 | -0.01610691 |  0.1047858 |  1.180419741 |  0.4074695 | DE-2 |\n",
       "| DE-3 |  -2.469389 | -2.4252831 | -0.7083672 |  0.4834081 |  0.4540289 | -0.31750717 |  0.2125931 |  0.200132696 |  0.6073775 | DE-3 |\n",
       "\n"
      ],
      "text/plain": [
       "     PC1        PC2        PC3        PC4        PC5        PC6        \n",
       "SC.1  -9.093699  0.3498449  1.4819546 -0.3144679 -0.9020449  0.36197049\n",
       "SC.2 -10.508959  0.5816797  2.1021061  0.1380932 -1.1885379 -0.45847872\n",
       "SC.3 -10.508959  0.5816797  2.1021061  0.1380932 -1.1885379 -0.45847872\n",
       "DE-1  -2.449101 -2.6326480 -2.9050748  1.2489314  0.3923838 -0.98498175\n",
       "DE-2  -3.924503 -3.5045698 -1.8546891  0.1356705 -0.8044622 -0.01610691\n",
       "DE-3  -2.469389 -2.4252831 -0.7083672  0.4834081  0.4540289 -0.31750717\n",
       "     PC7        PC8          PC9        sample\n",
       "SC.1 -0.1653060  0.112962556 -0.2219296 SC.1  \n",
       "SC.2 -0.1023903 -0.033567399 -0.2163916 SC.2  \n",
       "SC.3 -0.1023903 -0.033567399 -0.2163916 SC.3  \n",
       "DE-1 -0.1692248 -0.008704962  0.1670561 DE-1  \n",
       "DE-2  0.1047858  1.180419741  0.4074695 DE-2  \n",
       "DE-3  0.2125931  0.200132696  0.6073775 DE-3  "
      ]
     },
     "metadata": {},
     "output_type": "display_data"
    },
    {
     "data": {
      "text/html": [
       "<table class=\"dataframe\">\n",
       "<caption>A data.frame: 6 × 10</caption>\n",
       "<thead>\n",
       "\t<tr><th></th><th scope=col>PC1</th><th scope=col>PC2</th><th scope=col>PC3</th><th scope=col>PC4</th><th scope=col>PC5</th><th scope=col>PC6</th><th scope=col>PC7</th><th scope=col>PC8</th><th scope=col>PC9</th><th scope=col>sample</th></tr>\n",
       "\t<tr><th></th><th scope=col>&lt;dbl&gt;</th><th scope=col>&lt;dbl&gt;</th><th scope=col>&lt;dbl&gt;</th><th scope=col>&lt;dbl&gt;</th><th scope=col>&lt;dbl&gt;</th><th scope=col>&lt;dbl&gt;</th><th scope=col>&lt;dbl&gt;</th><th scope=col>&lt;dbl&gt;</th><th scope=col>&lt;dbl&gt;</th><th scope=col>&lt;chr&gt;</th></tr>\n",
       "</thead>\n",
       "<tbody>\n",
       "\t<tr><th scope=row>SC.1</th><td> -9.093699</td><td> 0.3498449</td><td> 1.4819546</td><td>-0.3144679</td><td>-0.9020449</td><td> 0.36197049</td><td>-0.1653060</td><td> 0.112962556</td><td>-0.2219296</td><td>SC</td></tr>\n",
       "\t<tr><th scope=row>SC.2</th><td>-10.508959</td><td> 0.5816797</td><td> 2.1021061</td><td> 0.1380932</td><td>-1.1885379</td><td>-0.45847872</td><td>-0.1023903</td><td>-0.033567399</td><td>-0.2163916</td><td>SC</td></tr>\n",
       "\t<tr><th scope=row>SC.3</th><td>-10.508959</td><td> 0.5816797</td><td> 2.1021061</td><td> 0.1380932</td><td>-1.1885379</td><td>-0.45847872</td><td>-0.1023903</td><td>-0.033567399</td><td>-0.2163916</td><td>SC</td></tr>\n",
       "\t<tr><th scope=row>DE-1</th><td> -2.449101</td><td>-2.6326480</td><td>-2.9050748</td><td> 1.2489314</td><td> 0.3923838</td><td>-0.98498175</td><td>-0.1692248</td><td>-0.008704962</td><td> 0.1670561</td><td>DE</td></tr>\n",
       "\t<tr><th scope=row>DE-2</th><td> -3.924503</td><td>-3.5045698</td><td>-1.8546891</td><td> 0.1356705</td><td>-0.8044622</td><td>-0.01610691</td><td> 0.1047858</td><td> 1.180419741</td><td> 0.4074695</td><td>DE</td></tr>\n",
       "\t<tr><th scope=row>DE-3</th><td> -2.469389</td><td>-2.4252831</td><td>-0.7083672</td><td> 0.4834081</td><td> 0.4540289</td><td>-0.31750717</td><td> 0.2125931</td><td> 0.200132696</td><td> 0.6073775</td><td>DE</td></tr>\n",
       "</tbody>\n",
       "</table>\n"
      ],
      "text/latex": [
       "A data.frame: 6 × 10\n",
       "\\begin{tabular}{r|llllllllll}\n",
       "  & PC1 & PC2 & PC3 & PC4 & PC5 & PC6 & PC7 & PC8 & PC9 & sample\\\\\n",
       "  & <dbl> & <dbl> & <dbl> & <dbl> & <dbl> & <dbl> & <dbl> & <dbl> & <dbl> & <chr>\\\\\n",
       "\\hline\n",
       "\tSC.1 &  -9.093699 &  0.3498449 &  1.4819546 & -0.3144679 & -0.9020449 &  0.36197049 & -0.1653060 &  0.112962556 & -0.2219296 & SC\\\\\n",
       "\tSC.2 & -10.508959 &  0.5816797 &  2.1021061 &  0.1380932 & -1.1885379 & -0.45847872 & -0.1023903 & -0.033567399 & -0.2163916 & SC\\\\\n",
       "\tSC.3 & -10.508959 &  0.5816797 &  2.1021061 &  0.1380932 & -1.1885379 & -0.45847872 & -0.1023903 & -0.033567399 & -0.2163916 & SC\\\\\n",
       "\tDE-1 &  -2.449101 & -2.6326480 & -2.9050748 &  1.2489314 &  0.3923838 & -0.98498175 & -0.1692248 & -0.008704962 &  0.1670561 & DE\\\\\n",
       "\tDE-2 &  -3.924503 & -3.5045698 & -1.8546891 &  0.1356705 & -0.8044622 & -0.01610691 &  0.1047858 &  1.180419741 &  0.4074695 & DE\\\\\n",
       "\tDE-3 &  -2.469389 & -2.4252831 & -0.7083672 &  0.4834081 &  0.4540289 & -0.31750717 &  0.2125931 &  0.200132696 &  0.6073775 & DE\\\\\n",
       "\\end{tabular}\n"
      ],
      "text/markdown": [
       "\n",
       "A data.frame: 6 × 10\n",
       "\n",
       "| <!--/--> | PC1 &lt;dbl&gt; | PC2 &lt;dbl&gt; | PC3 &lt;dbl&gt; | PC4 &lt;dbl&gt; | PC5 &lt;dbl&gt; | PC6 &lt;dbl&gt; | PC7 &lt;dbl&gt; | PC8 &lt;dbl&gt; | PC9 &lt;dbl&gt; | sample &lt;chr&gt; |\n",
       "|---|---|---|---|---|---|---|---|---|---|---|\n",
       "| SC.1 |  -9.093699 |  0.3498449 |  1.4819546 | -0.3144679 | -0.9020449 |  0.36197049 | -0.1653060 |  0.112962556 | -0.2219296 | SC |\n",
       "| SC.2 | -10.508959 |  0.5816797 |  2.1021061 |  0.1380932 | -1.1885379 | -0.45847872 | -0.1023903 | -0.033567399 | -0.2163916 | SC |\n",
       "| SC.3 | -10.508959 |  0.5816797 |  2.1021061 |  0.1380932 | -1.1885379 | -0.45847872 | -0.1023903 | -0.033567399 | -0.2163916 | SC |\n",
       "| DE-1 |  -2.449101 | -2.6326480 | -2.9050748 |  1.2489314 |  0.3923838 | -0.98498175 | -0.1692248 | -0.008704962 |  0.1670561 | DE |\n",
       "| DE-2 |  -3.924503 | -3.5045698 | -1.8546891 |  0.1356705 | -0.8044622 | -0.01610691 |  0.1047858 |  1.180419741 |  0.4074695 | DE |\n",
       "| DE-3 |  -2.469389 | -2.4252831 | -0.7083672 |  0.4834081 |  0.4540289 | -0.31750717 |  0.2125931 |  0.200132696 |  0.6073775 | DE |\n",
       "\n"
      ],
      "text/plain": [
       "     PC1        PC2        PC3        PC4        PC5        PC6        \n",
       "SC.1  -9.093699  0.3498449  1.4819546 -0.3144679 -0.9020449  0.36197049\n",
       "SC.2 -10.508959  0.5816797  2.1021061  0.1380932 -1.1885379 -0.45847872\n",
       "SC.3 -10.508959  0.5816797  2.1021061  0.1380932 -1.1885379 -0.45847872\n",
       "DE-1  -2.449101 -2.6326480 -2.9050748  1.2489314  0.3923838 -0.98498175\n",
       "DE-2  -3.924503 -3.5045698 -1.8546891  0.1356705 -0.8044622 -0.01610691\n",
       "DE-3  -2.469389 -2.4252831 -0.7083672  0.4834081  0.4540289 -0.31750717\n",
       "     PC7        PC8          PC9        sample\n",
       "SC.1 -0.1653060  0.112962556 -0.2219296 SC    \n",
       "SC.2 -0.1023903 -0.033567399 -0.2163916 SC    \n",
       "SC.3 -0.1023903 -0.033567399 -0.2163916 SC    \n",
       "DE-1 -0.1692248 -0.008704962  0.1670561 DE    \n",
       "DE-2  0.1047858  1.180419741  0.4074695 DE    \n",
       "DE-3  0.2125931  0.200132696  0.6073775 DE    "
      ]
     },
     "metadata": {},
     "output_type": "display_data"
    },
    {
     "data": {
      "text/html": [
       "<style>\n",
       ".list-inline {list-style: none; margin:0; padding: 0}\n",
       ".list-inline>li {display: inline-block}\n",
       ".list-inline>li:not(:last-child)::after {content: \"\\00b7\"; padding: 0 .5ex}\n",
       "</style>\n",
       "<ol class=list-inline><li>'SC'</li><li>'SC'</li><li>'SC'</li><li>'DE'</li><li>'DE'</li><li>'DE'</li><li>'DE'</li><li>'DE'</li><li>'DE'</li><li>'DE'</li><li>'P2PP'</li><li>'P2PP'</li><li>'P2PP'</li><li>'P2PP'</li><li>'P2PP'</li><li>'P2PP'</li><li>'P2PP'</li><li>'P2PE'</li><li>'P2PE'</li><li>'P2PE'</li><li>'P2PE'</li><li>'P2PE'</li><li>'P2PE'</li><li>'P2PE'</li><li>'P2PE'</li><li>'P3PP'</li><li>'P3PP'</li><li>'P3PP'</li><li>'P3PP'</li><li>'P3PP'</li><li>'P3PE'</li><li>'P3PE'</li><li>'P3PE'</li><li>'P3PE'</li><li>'P3PE'</li><li>'P3PE'</li><li>'P3PE'</li><li>'P3PE'</li><li>'P5PP'</li><li>'P5PP'</li><li>'P5PP'</li><li>'P5PP'</li><li>'P5PE'</li><li>'P5PE'</li><li>'P5PE'</li><li>'P5PE'</li><li>'P5PE'</li><li>'P5PE'</li><li>'P5PE'</li><li>'P5PE'</li></ol>\n"
      ],
      "text/latex": [
       "\\begin{enumerate*}\n",
       "\\item 'SC'\n",
       "\\item 'SC'\n",
       "\\item 'SC'\n",
       "\\item 'DE'\n",
       "\\item 'DE'\n",
       "\\item 'DE'\n",
       "\\item 'DE'\n",
       "\\item 'DE'\n",
       "\\item 'DE'\n",
       "\\item 'DE'\n",
       "\\item 'P2PP'\n",
       "\\item 'P2PP'\n",
       "\\item 'P2PP'\n",
       "\\item 'P2PP'\n",
       "\\item 'P2PP'\n",
       "\\item 'P2PP'\n",
       "\\item 'P2PP'\n",
       "\\item 'P2PE'\n",
       "\\item 'P2PE'\n",
       "\\item 'P2PE'\n",
       "\\item 'P2PE'\n",
       "\\item 'P2PE'\n",
       "\\item 'P2PE'\n",
       "\\item 'P2PE'\n",
       "\\item 'P2PE'\n",
       "\\item 'P3PP'\n",
       "\\item 'P3PP'\n",
       "\\item 'P3PP'\n",
       "\\item 'P3PP'\n",
       "\\item 'P3PP'\n",
       "\\item 'P3PE'\n",
       "\\item 'P3PE'\n",
       "\\item 'P3PE'\n",
       "\\item 'P3PE'\n",
       "\\item 'P3PE'\n",
       "\\item 'P3PE'\n",
       "\\item 'P3PE'\n",
       "\\item 'P3PE'\n",
       "\\item 'P5PP'\n",
       "\\item 'P5PP'\n",
       "\\item 'P5PP'\n",
       "\\item 'P5PP'\n",
       "\\item 'P5PE'\n",
       "\\item 'P5PE'\n",
       "\\item 'P5PE'\n",
       "\\item 'P5PE'\n",
       "\\item 'P5PE'\n",
       "\\item 'P5PE'\n",
       "\\item 'P5PE'\n",
       "\\item 'P5PE'\n",
       "\\end{enumerate*}\n"
      ],
      "text/markdown": [
       "1. 'SC'\n",
       "2. 'SC'\n",
       "3. 'SC'\n",
       "4. 'DE'\n",
       "5. 'DE'\n",
       "6. 'DE'\n",
       "7. 'DE'\n",
       "8. 'DE'\n",
       "9. 'DE'\n",
       "10. 'DE'\n",
       "11. 'P2PP'\n",
       "12. 'P2PP'\n",
       "13. 'P2PP'\n",
       "14. 'P2PP'\n",
       "15. 'P2PP'\n",
       "16. 'P2PP'\n",
       "17. 'P2PP'\n",
       "18. 'P2PE'\n",
       "19. 'P2PE'\n",
       "20. 'P2PE'\n",
       "21. 'P2PE'\n",
       "22. 'P2PE'\n",
       "23. 'P2PE'\n",
       "24. 'P2PE'\n",
       "25. 'P2PE'\n",
       "26. 'P3PP'\n",
       "27. 'P3PP'\n",
       "28. 'P3PP'\n",
       "29. 'P3PP'\n",
       "30. 'P3PP'\n",
       "31. 'P3PE'\n",
       "32. 'P3PE'\n",
       "33. 'P3PE'\n",
       "34. 'P3PE'\n",
       "35. 'P3PE'\n",
       "36. 'P3PE'\n",
       "37. 'P3PE'\n",
       "38. 'P3PE'\n",
       "39. 'P5PP'\n",
       "40. 'P5PP'\n",
       "41. 'P5PP'\n",
       "42. 'P5PP'\n",
       "43. 'P5PE'\n",
       "44. 'P5PE'\n",
       "45. 'P5PE'\n",
       "46. 'P5PE'\n",
       "47. 'P5PE'\n",
       "48. 'P5PE'\n",
       "49. 'P5PE'\n",
       "50. 'P5PE'\n",
       "\n",
       "\n"
      ],
      "text/plain": [
       " [1] \"SC\"   \"SC\"   \"SC\"   \"DE\"   \"DE\"   \"DE\"   \"DE\"   \"DE\"   \"DE\"   \"DE\"  \n",
       "[11] \"P2PP\" \"P2PP\" \"P2PP\" \"P2PP\" \"P2PP\" \"P2PP\" \"P2PP\" \"P2PE\" \"P2PE\" \"P2PE\"\n",
       "[21] \"P2PE\" \"P2PE\" \"P2PE\" \"P2PE\" \"P2PE\" \"P3PP\" \"P3PP\" \"P3PP\" \"P3PP\" \"P3PP\"\n",
       "[31] \"P3PE\" \"P3PE\" \"P3PE\" \"P3PE\" \"P3PE\" \"P3PE\" \"P3PE\" \"P3PE\" \"P5PP\" \"P5PP\"\n",
       "[41] \"P5PP\" \"P5PP\" \"P5PE\" \"P5PE\" \"P5PE\" \"P5PE\" \"P5PE\" \"P5PE\" \"P5PE\" \"P5PE\""
      ]
     },
     "metadata": {},
     "output_type": "display_data"
    },
    {
     "data": {
      "image/png": "[encoded data removed]",
      "text/plain": [
       "plot without title"
      ]
     },
     "metadata": {
      "image/png": {
       "height": 420,
       "width": 420
      }
     },
     "output_type": "display_data"
    },
    {
     "data": {
      "image/png": "[encoded data removed]",
      "text/plain": [
       "plot without title"
      ]
     },
     "metadata": {
      "image/png": {
       "height": 420,
       "width": 420
      }
     },
     "output_type": "display_data"
    }
   ],
   "source": [
    "#viewing the samples in our prcomp scatter plot\n",
    "pcx$sample <- rownames(pcx)\n",
    "head(pcx)\n",
    "\n",
    "pcx$sample <- substr(pcx$sample, 1, nchar(pcx$sample) - 2)\n",
    "head(pcx)\n",
    "pcx$sample\n",
    "ggplot(pcx, aes(PC1, PC2, color = sample)) + geom_point()\n",
    "ggplot(pcx, aes(PC1, PC2, color = sample)) + geom_point(size =3)\n"
   ]
  },
  {
   "cell_type": "markdown",
   "id": "c71d3d5b-f745-4acf-9bb1-11639557e479",
   "metadata": {},
   "source": [
    "8. another important variable in PCA : rotation"
   ]
  },
  {
   "cell_type": "code",
   "execution_count": 8,
   "id": "773253a1-4968-478c-b35c-a9a1c2843fb1",
   "metadata": {},
   "outputs": [
    {
     "data": {
      "text/html": [
       "<table class=\"dataframe\">\n",
       "<caption>A matrix: 6 × 9 of type dbl</caption>\n",
       "<thead>\n",
       "\t<tr><th></th><th scope=col>PC1</th><th scope=col>PC2</th><th scope=col>PC3</th><th scope=col>PC4</th><th scope=col>PC5</th><th scope=col>PC6</th><th scope=col>PC7</th><th scope=col>PC8</th><th scope=col>PC9</th></tr>\n",
       "</thead>\n",
       "<tbody>\n",
       "\t<tr><th scope=row>HLXb9</th><td> 0.25986424</td><td>-0.4628638</td><td>-0.41462360</td><td>-0.057117315</td><td> 0.2815795</td><td>-0.10877886</td><td>-0.461001111</td><td>-0.47645656</td><td>-0.11135441</td></tr>\n",
       "\t<tr><th scope=row>HHEX</th><td> 0.10135490</td><td>-0.7274850</td><td>-0.02674638</td><td>-0.005694152</td><td>-0.3182322</td><td> 0.25926153</td><td> 0.089293595</td><td> 0.49688923</td><td>-0.19074708</td></tr>\n",
       "\t<tr><th scope=row>HNF4a</th><td> 0.43653959</td><td> 0.4204182</td><td>-0.68487993</td><td> 0.163259057</td><td>-0.2018975</td><td> 0.12287699</td><td>-0.009388526</td><td> 0.27989705</td><td>-0.05172828</td></tr>\n",
       "\t<tr><th scope=row>ISL1</th><td> 0.27176365</td><td>-0.1334694</td><td> 0.01826448</td><td> 0.439475830</td><td> 0.5729256</td><td> 0.12810108</td><td> 0.604933509</td><td>-0.06165829</td><td>-0.02139870</td></tr>\n",
       "\t<tr><th scope=row>NEUROD1</th><td> 0.53650858</td><td> 0.1385289</td><td> 0.36769758</td><td>-0.432357134</td><td> 0.1506736</td><td> 0.55558036</td><td>-0.165320079</td><td>-0.01349562</td><td> 0.10931219</td></tr>\n",
       "\t<tr><th scope=row>NKX6.1</th><td>-0.09985152</td><td>-0.1360278</td><td>-0.13258863</td><td> 0.052182160</td><td> 0.2799475</td><td>-0.03434437</td><td>-0.209911728</td><td> 0.36884519</td><td> 0.83160299</td></tr>\n",
       "</tbody>\n",
       "</table>\n"
      ],
      "text/latex": [
       "A matrix: 6 × 9 of type dbl\n",
       "\\begin{tabular}{r|lllllllll}\n",
       "  & PC1 & PC2 & PC3 & PC4 & PC5 & PC6 & PC7 & PC8 & PC9\\\\\n",
       "\\hline\n",
       "\tHLXb9 &  0.25986424 & -0.4628638 & -0.41462360 & -0.057117315 &  0.2815795 & -0.10877886 & -0.461001111 & -0.47645656 & -0.11135441\\\\\n",
       "\tHHEX &  0.10135490 & -0.7274850 & -0.02674638 & -0.005694152 & -0.3182322 &  0.25926153 &  0.089293595 &  0.49688923 & -0.19074708\\\\\n",
       "\tHNF4a &  0.43653959 &  0.4204182 & -0.68487993 &  0.163259057 & -0.2018975 &  0.12287699 & -0.009388526 &  0.27989705 & -0.05172828\\\\\n",
       "\tISL1 &  0.27176365 & -0.1334694 &  0.01826448 &  0.439475830 &  0.5729256 &  0.12810108 &  0.604933509 & -0.06165829 & -0.02139870\\\\\n",
       "\tNEUROD1 &  0.53650858 &  0.1385289 &  0.36769758 & -0.432357134 &  0.1506736 &  0.55558036 & -0.165320079 & -0.01349562 &  0.10931219\\\\\n",
       "\tNKX6.1 & -0.09985152 & -0.1360278 & -0.13258863 &  0.052182160 &  0.2799475 & -0.03434437 & -0.209911728 &  0.36884519 &  0.83160299\\\\\n",
       "\\end{tabular}\n"
      ],
      "text/markdown": [
       "\n",
       "A matrix: 6 × 9 of type dbl\n",
       "\n",
       "| <!--/--> | PC1 | PC2 | PC3 | PC4 | PC5 | PC6 | PC7 | PC8 | PC9 |\n",
       "|---|---|---|---|---|---|---|---|---|---|\n",
       "| HLXb9 |  0.25986424 | -0.4628638 | -0.41462360 | -0.057117315 |  0.2815795 | -0.10877886 | -0.461001111 | -0.47645656 | -0.11135441 |\n",
       "| HHEX |  0.10135490 | -0.7274850 | -0.02674638 | -0.005694152 | -0.3182322 |  0.25926153 |  0.089293595 |  0.49688923 | -0.19074708 |\n",
       "| HNF4a |  0.43653959 |  0.4204182 | -0.68487993 |  0.163259057 | -0.2018975 |  0.12287699 | -0.009388526 |  0.27989705 | -0.05172828 |\n",
       "| ISL1 |  0.27176365 | -0.1334694 |  0.01826448 |  0.439475830 |  0.5729256 |  0.12810108 |  0.604933509 | -0.06165829 | -0.02139870 |\n",
       "| NEUROD1 |  0.53650858 |  0.1385289 |  0.36769758 | -0.432357134 |  0.1506736 |  0.55558036 | -0.165320079 | -0.01349562 |  0.10931219 |\n",
       "| NKX6.1 | -0.09985152 | -0.1360278 | -0.13258863 |  0.052182160 |  0.2799475 | -0.03434437 | -0.209911728 |  0.36884519 |  0.83160299 |\n",
       "\n"
      ],
      "text/plain": [
       "        PC1         PC2        PC3         PC4          PC5        PC6        \n",
       "HLXb9    0.25986424 -0.4628638 -0.41462360 -0.057117315  0.2815795 -0.10877886\n",
       "HHEX     0.10135490 -0.7274850 -0.02674638 -0.005694152 -0.3182322  0.25926153\n",
       "HNF4a    0.43653959  0.4204182 -0.68487993  0.163259057 -0.2018975  0.12287699\n",
       "ISL1     0.27176365 -0.1334694  0.01826448  0.439475830  0.5729256  0.12810108\n",
       "NEUROD1  0.53650858  0.1385289  0.36769758 -0.432357134  0.1506736  0.55558036\n",
       "NKX6.1  -0.09985152 -0.1360278 -0.13258863  0.052182160  0.2799475 -0.03434437\n",
       "        PC7          PC8         PC9        \n",
       "HLXb9   -0.461001111 -0.47645656 -0.11135441\n",
       "HHEX     0.089293595  0.49688923 -0.19074708\n",
       "HNF4a   -0.009388526  0.27989705 -0.05172828\n",
       "ISL1     0.604933509 -0.06165829 -0.02139870\n",
       "NEUROD1 -0.165320079 -0.01349562  0.10931219\n",
       "NKX6.1  -0.209911728  0.36884519  0.83160299"
      ]
     },
     "metadata": {},
     "output_type": "display_data"
    },
    {
     "data": {
      "text/html": [
       "<style>\n",
       ".dl-inline {width: auto; margin:0; padding: 0}\n",
       ".dl-inline>dt, .dl-inline>dd {float: none; width: auto; display: inline-block}\n",
       ".dl-inline>dt::after {content: \":\\0020\"; padding-right: .5ex}\n",
       ".dl-inline>dt:not(:first-of-type) {padding-left: .5ex}\n",
       "</style><dl class=dl-inline><dt>HLXb9</dt><dd>0.259864239390098</dd><dt>HHEX</dt><dd>0.101354899238427</dd><dt>HNF4a</dt><dd>0.436539588671144</dd><dt>ISL1</dt><dd>0.271763653264799</dd><dt>NEUROD1</dt><dd>0.536508576597911</dd><dt>NKX6.1</dt><dd>-0.0998515151288038</dd><dt>PAX4</dt><dd>-0.0109160829683035</dd><dt>PTF1a</dt><dd>0.0317512398549786</dd><dt>PDX1</dt><dd>0.599029536698516</dd></dl>\n"
      ],
      "text/latex": [
       "\\begin{description*}\n",
       "\\item[HLXb9] 0.259864239390098\n",
       "\\item[HHEX] 0.101354899238427\n",
       "\\item[HNF4a] 0.436539588671144\n",
       "\\item[ISL1] 0.271763653264799\n",
       "\\item[NEUROD1] 0.536508576597911\n",
       "\\item[NKX6.1] -0.0998515151288038\n",
       "\\item[PAX4] -0.0109160829683035\n",
       "\\item[PTF1a] 0.0317512398549786\n",
       "\\item[PDX1] 0.599029536698516\n",
       "\\end{description*}\n"
      ],
      "text/markdown": [
       "HLXb9\n",
       ":   0.259864239390098HHEX\n",
       ":   0.101354899238427HNF4a\n",
       ":   0.436539588671144ISL1\n",
       ":   0.271763653264799NEUROD1\n",
       ":   0.536508576597911NKX6.1\n",
       ":   -0.0998515151288038PAX4\n",
       ":   -0.0109160829683035PTF1a\n",
       ":   0.0317512398549786PDX1\n",
       ":   0.599029536698516\n",
       "\n"
      ],
      "text/plain": [
       "      HLXb9        HHEX       HNF4a        ISL1     NEUROD1      NKX6.1 \n",
       " 0.25986424  0.10135490  0.43653959  0.27176365  0.53650858 -0.09985152 \n",
       "       PAX4       PTF1a        PDX1 \n",
       "-0.01091608  0.03175124  0.59902954 "
      ]
     },
     "metadata": {},
     "output_type": "display_data"
    }
   ],
   "source": [
    "#pc$r is another important value in prcomp(x)\n",
    "\n",
    "pcr <- pc$rotation\n",
    "head(pcr)\n",
    "pcr[,1]\n",
    "# rotation is showing the amount of value for considration of the prcomp\n",
    "# comparing the rotation with the genes  variation to see if the amount of scoring was reliable or not\n",
    "# for example pdx1 has the highest score of value in rotation as you saw\n"
   ]
  },
  {
   "cell_type": "markdown",
   "id": "71b27806-e7d1-42a8-9d31-dfc2e04a444b",
   "metadata": {},
   "source": [
    "9. lets see the genes variation in barplot to see if they are good to be a specifier "
   ]
  },
  {
   "cell_type": "code",
   "execution_count": 9,
   "id": "d02bab7b-02ed-4036-9bb6-12ba91171f86",
   "metadata": {},
   "outputs": [
    {
     "data": {
      "text/html": [
       "<table class=\"dataframe\">\n",
       "<caption>A data.frame: 6 × 9</caption>\n",
       "<thead>\n",
       "\t<tr><th></th><th scope=col>HLXb9</th><th scope=col>HHEX</th><th scope=col>HNF4a</th><th scope=col>ISL1</th><th scope=col>NEUROD1</th><th scope=col>NKX6.1</th><th scope=col>PAX4</th><th scope=col>PTF1a</th><th scope=col>PDX1</th></tr>\n",
       "\t<tr><th></th><th scope=col>&lt;dbl&gt;</th><th scope=col>&lt;dbl&gt;</th><th scope=col>&lt;dbl&gt;</th><th scope=col>&lt;dbl&gt;</th><th scope=col>&lt;dbl&gt;</th><th scope=col>&lt;dbl&gt;</th><th scope=col>&lt;dbl&gt;</th><th scope=col>&lt;dbl&gt;</th><th scope=col>&lt;dbl&gt;</th></tr>\n",
       "</thead>\n",
       "<tbody>\n",
       "\t<tr><th scope=row>SC.1</th><td>1.709291</td><td>1.521051</td><td>1.956057</td><td>1.427606</td><td>2.201634</td><td>1.063503</td><td>1.195348</td><td>1.263034</td><td>1.000000</td></tr>\n",
       "\t<tr><th scope=row>SC.2</th><td>1.000000</td><td>1.000000</td><td>1.000000</td><td>1.000000</td><td>1.000000</td><td>1.000000</td><td>1.000000</td><td>1.000000</td><td>1.000000</td></tr>\n",
       "\t<tr><th scope=row>SC.3</th><td>1.000000</td><td>1.000000</td><td>1.000000</td><td>1.000000</td><td>1.000000</td><td>1.000000</td><td>1.000000</td><td>1.000000</td><td>1.000000</td></tr>\n",
       "\t<tr><th scope=row>DE-1</th><td>7.073606</td><td>3.576522</td><td>6.381629</td><td>4.804260</td><td>2.555816</td><td>2.157044</td><td>1.669027</td><td>2.084064</td><td>4.490570</td></tr>\n",
       "\t<tr><th scope=row>DE-2</th><td>5.559798</td><td>5.241077</td><td>5.148365</td><td>3.575312</td><td>2.833902</td><td>2.438293</td><td>2.150560</td><td>2.232661</td><td>3.657640</td></tr>\n",
       "\t<tr><th scope=row>DE-3</th><td>5.725469</td><td>3.576522</td><td>4.932156</td><td>4.804260</td><td>4.074677</td><td>2.157044</td><td>1.669027</td><td>2.060047</td><td>4.738768</td></tr>\n",
       "</tbody>\n",
       "</table>\n"
      ],
      "text/latex": [
       "A data.frame: 6 × 9\n",
       "\\begin{tabular}{r|lllllllll}\n",
       "  & HLXb9 & HHEX & HNF4a & ISL1 & NEUROD1 & NKX6.1 & PAX4 & PTF1a & PDX1\\\\\n",
       "  & <dbl> & <dbl> & <dbl> & <dbl> & <dbl> & <dbl> & <dbl> & <dbl> & <dbl>\\\\\n",
       "\\hline\n",
       "\tSC.1 & 1.709291 & 1.521051 & 1.956057 & 1.427606 & 2.201634 & 1.063503 & 1.195348 & 1.263034 & 1.000000\\\\\n",
       "\tSC.2 & 1.000000 & 1.000000 & 1.000000 & 1.000000 & 1.000000 & 1.000000 & 1.000000 & 1.000000 & 1.000000\\\\\n",
       "\tSC.3 & 1.000000 & 1.000000 & 1.000000 & 1.000000 & 1.000000 & 1.000000 & 1.000000 & 1.000000 & 1.000000\\\\\n",
       "\tDE-1 & 7.073606 & 3.576522 & 6.381629 & 4.804260 & 2.555816 & 2.157044 & 1.669027 & 2.084064 & 4.490570\\\\\n",
       "\tDE-2 & 5.559798 & 5.241077 & 5.148365 & 3.575312 & 2.833902 & 2.438293 & 2.150560 & 2.232661 & 3.657640\\\\\n",
       "\tDE-3 & 5.725469 & 3.576522 & 4.932156 & 4.804260 & 4.074677 & 2.157044 & 1.669027 & 2.060047 & 4.738768\\\\\n",
       "\\end{tabular}\n"
      ],
      "text/markdown": [
       "\n",
       "A data.frame: 6 × 9\n",
       "\n",
       "| <!--/--> | HLXb9 &lt;dbl&gt; | HHEX &lt;dbl&gt; | HNF4a &lt;dbl&gt; | ISL1 &lt;dbl&gt; | NEUROD1 &lt;dbl&gt; | NKX6.1 &lt;dbl&gt; | PAX4 &lt;dbl&gt; | PTF1a &lt;dbl&gt; | PDX1 &lt;dbl&gt; |\n",
       "|---|---|---|---|---|---|---|---|---|---|\n",
       "| SC.1 | 1.709291 | 1.521051 | 1.956057 | 1.427606 | 2.201634 | 1.063503 | 1.195348 | 1.263034 | 1.000000 |\n",
       "| SC.2 | 1.000000 | 1.000000 | 1.000000 | 1.000000 | 1.000000 | 1.000000 | 1.000000 | 1.000000 | 1.000000 |\n",
       "| SC.3 | 1.000000 | 1.000000 | 1.000000 | 1.000000 | 1.000000 | 1.000000 | 1.000000 | 1.000000 | 1.000000 |\n",
       "| DE-1 | 7.073606 | 3.576522 | 6.381629 | 4.804260 | 2.555816 | 2.157044 | 1.669027 | 2.084064 | 4.490570 |\n",
       "| DE-2 | 5.559798 | 5.241077 | 5.148365 | 3.575312 | 2.833902 | 2.438293 | 2.150560 | 2.232661 | 3.657640 |\n",
       "| DE-3 | 5.725469 | 3.576522 | 4.932156 | 4.804260 | 4.074677 | 2.157044 | 1.669027 | 2.060047 | 4.738768 |\n",
       "\n"
      ],
      "text/plain": [
       "     HLXb9    HHEX     HNF4a    ISL1     NEUROD1  NKX6.1   PAX4     PTF1a   \n",
       "SC.1 1.709291 1.521051 1.956057 1.427606 2.201634 1.063503 1.195348 1.263034\n",
       "SC.2 1.000000 1.000000 1.000000 1.000000 1.000000 1.000000 1.000000 1.000000\n",
       "SC.3 1.000000 1.000000 1.000000 1.000000 1.000000 1.000000 1.000000 1.000000\n",
       "DE-1 7.073606 3.576522 6.381629 4.804260 2.555816 2.157044 1.669027 2.084064\n",
       "DE-2 5.559798 5.241077 5.148365 3.575312 2.833902 2.438293 2.150560 2.232661\n",
       "DE-3 5.725469 3.576522 4.932156 4.804260 4.074677 2.157044 1.669027 2.060047\n",
       "     PDX1    \n",
       "SC.1 1.000000\n",
       "SC.2 1.000000\n",
       "SC.3 1.000000\n",
       "DE-1 4.490570\n",
       "DE-2 3.657640\n",
       "DE-3 4.738768"
      ]
     },
     "metadata": {},
     "output_type": "display_data"
    },
    {
     "data": {
      "image/png": "[encoded data removed]",
      "text/plain": [
       "plot without title"
      ]
     },
     "metadata": {
      "image/png": {
       "height": 420,
       "width": 420
      }
     },
     "output_type": "display_data"
    },
    {
     "data": {
      "image/png": "[encoded data removed]",
      "text/plain": [
       "plot without title"
      ]
     },
     "metadata": {
      "image/png": {
       "height": 420,
       "width": 420
      }
     },
     "output_type": "display_data"
    },
    {
     "data": {
      "image/png": "[encoded data removed]",
      "text/plain": [
       "plot without title"
      ]
     },
     "metadata": {
      "image/png": {
       "height": 420,
       "width": 420
      }
     },
     "output_type": "display_data"
    },
    {
     "data": {
      "image/png": "[encoded data removed]",
      "text/plain": [
       "plot without title"
      ]
     },
     "metadata": {
      "image/png": {
       "height": 420,
       "width": 420
      }
     },
     "output_type": "display_data"
    }
   ],
   "source": [
    "head(x)\n",
    "barplot(x$PDX1)\n",
    "barplot(x$NEUROD1)\n",
    "barplot(x$PAX4)\n",
    "barplot(x$PTF1a)\n"
   ]
  },
  {
   "cell_type": "markdown",
   "id": "711ca27b-74ac-47bd-bcf1-242146886e96",
   "metadata": {},
   "source": [
    "10. lets make the plots of PCA rotations "
   ]
  },
  {
   "cell_type": "code",
   "execution_count": 10,
   "id": "71a4030e-c162-4725-b295-b1fb4f7221a8",
   "metadata": {},
   "outputs": [
    {
     "data": {
      "text/html": [
       "<style>\n",
       ".dl-inline {width: auto; margin:0; padding: 0}\n",
       ".dl-inline>dt, .dl-inline>dd {float: none; width: auto; display: inline-block}\n",
       ".dl-inline>dt::after {content: \":\\0020\"; padding-right: .5ex}\n",
       ".dl-inline>dt:not(:first-of-type) {padding-left: .5ex}\n",
       "</style><dl class=dl-inline><dt>HLXb9</dt><dd>-0.462863811252153</dd><dt>HHEX</dt><dd>-0.727484990140108</dd><dt>HNF4a</dt><dd>0.42041821184433</dd><dt>ISL1</dt><dd>-0.133469403729961</dd><dt>NEUROD1</dt><dd>0.138528886571633</dd><dt>NKX6.1</dt><dd>-0.136027834007799</dd><dt>PAX4</dt><dd>-0.138545878189708</dd><dt>PTF1a</dt><dd>-0.000390396867589932</dd><dt>PDX1</dt><dd>-0.0711912210799994</dd></dl>\n"
      ],
      "text/latex": [
       "\\begin{description*}\n",
       "\\item[HLXb9] -0.462863811252153\n",
       "\\item[HHEX] -0.727484990140108\n",
       "\\item[HNF4a] 0.42041821184433\n",
       "\\item[ISL1] -0.133469403729961\n",
       "\\item[NEUROD1] 0.138528886571633\n",
       "\\item[NKX6.1] -0.136027834007799\n",
       "\\item[PAX4] -0.138545878189708\n",
       "\\item[PTF1a] -0.000390396867589932\n",
       "\\item[PDX1] -0.0711912210799994\n",
       "\\end{description*}\n"
      ],
      "text/markdown": [
       "HLXb9\n",
       ":   -0.462863811252153HHEX\n",
       ":   -0.727484990140108HNF4a\n",
       ":   0.42041821184433ISL1\n",
       ":   -0.133469403729961NEUROD1\n",
       ":   0.138528886571633NKX6.1\n",
       ":   -0.136027834007799PAX4\n",
       ":   -0.138545878189708PTF1a\n",
       ":   -0.000390396867589932PDX1\n",
       ":   -0.0711912210799994\n",
       "\n"
      ],
      "text/plain": [
       "        HLXb9          HHEX         HNF4a          ISL1       NEUROD1 \n",
       "-0.4628638113 -0.7274849901  0.4204182118 -0.1334694037  0.1385288866 \n",
       "       NKX6.1          PAX4         PTF1a          PDX1 \n",
       "-0.1360278340 -0.1385458782 -0.0003903969 -0.0711912211 "
      ]
     },
     "metadata": {},
     "output_type": "display_data"
    },
    {
     "data": {
      "image/png": "[encoded data removed]",
      "text/plain": [
       "plot without title"
      ]
     },
     "metadata": {
      "image/png": {
       "height": 420,
       "width": 420
      }
     },
     "output_type": "display_data"
    },
    {
     "data": {
      "image/png": "[encoded data removed]",
      "text/plain": [
       "plot without title"
      ]
     },
     "metadata": {
      "image/png": {
       "height": 420,
       "width": 420
      }
     },
     "output_type": "display_data"
    }
   ],
   "source": [
    "pcr[,2]\n",
    "pcr <- data.frame(pc$rotation)\n",
    "ggplot(pcr, aes(PC1, PC2)) +geom_point()\n",
    "\n",
    "#making a label for it\n",
    "pcr$gene <- rownames(pcr)\n",
    "ggplot(pcr, aes(PC1, PC2, label = gene)) +geom_text()"
   ]
  },
  {
   "cell_type": "markdown",
   "id": "1a07eb00-e472-41f0-a5ca-6c43b78e382d",
   "metadata": {},
   "source": [
    "11. some atistic acts in our previous plots "
   ]
  },
  {
   "cell_type": "code",
   "execution_count": 11,
   "id": "4b0490cc-bc3a-4c08-95a6-83550bfaa91f",
   "metadata": {},
   "outputs": [
    {
     "data": {
      "text/html": [
       "<strong>png:</strong> 2"
      ],
      "text/latex": [
       "\\textbf{png:} 2"
      ],
      "text/markdown": [
       "**png:** 2"
      ],
      "text/plain": [
       "png \n",
       "  2 "
      ]
     },
     "metadata": {},
     "output_type": "display_data"
    },
    {
     "data": {
      "image/png": "[encoded data removed]",
      "text/plain": [
       "plot without title"
      ]
     },
     "metadata": {
      "image/png": {
       "height": 420,
       "width": 420
      }
     },
     "output_type": "display_data"
    }
   ],
   "source": [
    "#making the plots a little more beautiful with a new function : theme_complete_bw \n",
    "#which is good for making plots for academic papers\n",
    "# must find the function in the internet anf add it to your code ( i didnt found it so i used a built in method )\n",
    "\n",
    "ggplot(pcr, aes(PC1, PC2, label = gene)) +geom_text() + theme_bw()\n",
    "\n",
    "pdf(\"C:/Users/abolf/desktop/jupyter train/intro bioinf sharifi practical/PCA.pdf\")\n",
    "ggplot(pcx, aes(PC1, PC2, color = sample)) + geom_point(size =3) + theme_bw()\n",
    "ggplot(pcr, aes(PC1, PC2, label = gene)) +geom_text() + theme_bw()\n",
    "dev.off()"
   ]
  },
  {
   "cell_type": "markdown",
   "id": "2a810234-176d-4b6b-85df-e3331951c6a6",
   "metadata": {},
   "source": [
    "12. i saw one gene that has good scores in both pca1 & pca2"
   ]
  },
  {
   "cell_type": "code",
   "execution_count": 12,
   "id": "dde514f1-3271-4bdf-9493-1ebd55171f7d",
   "metadata": {},
   "outputs": [
    {
     "data": {
      "text/html": [
       "<style>\n",
       ".list-inline {list-style: none; margin:0; padding: 0}\n",
       ".list-inline>li {display: inline-block}\n",
       ".list-inline>li:not(:last-child)::after {content: \"\\00b7\"; padding: 0 .5ex}\n",
       "</style>\n",
       "<ol class=list-inline><li>1.9560566524124</li><li>1</li><li>1</li><li>6.38162946703366</li><li>5.14836472130996</li><li>4.93215568443206</li><li>5.98811658476014</li><li>5.46041493916217</li><li>4.19935825458511</li><li>3.54225804976692</li><li>5.61588707391606</li><li>7.58466190794147</li><li>7.13442632022093</li><li>6.75341734172778</li><li>8.44352377369068</li><li>6.84486265583082</li><li>8.51048727046873</li><li>8.89014265376687</li><li>7.91312876781974</li><li>8.70490653783045</li><li>8.59585420665089</li><li>9.25441452637856</li><li>8.03672310600552</li><li>8.64169052255661</li><li>8.782539617754</li><li>4.77452352959023</li><li>3.99276843076892</li><li>3.54101915313356</li><li>3.96532254836725</li><li>4.47508488294878</li><li>6.16751850373522</li><li>5.79129314859221</li><li>8.64421681845824</li><li>8.1461358659523</li><li>7.93262815702213</li><li>7.77834001128552</li><li>8.23462585723119</li><li>7.51088282198627</li><li>6.50398470389761</li><li>6.44244592900783</li><li>8.48542682717024</li><li>8.44389668623545</li><li>6.87749887278353</li><li>6.80051167862158</li><li>7.26341005875634</li><li>6.64342331632819</li><li>7.98350669510787</li><li>7.79759668417008</li><li>7.24897119146416</li><li>7.92931759491176</li></ol>\n"
      ],
      "text/latex": [
       "\\begin{enumerate*}\n",
       "\\item 1.9560566524124\n",
       "\\item 1\n",
       "\\item 1\n",
       "\\item 6.38162946703366\n",
       "\\item 5.14836472130996\n",
       "\\item 4.93215568443206\n",
       "\\item 5.98811658476014\n",
       "\\item 5.46041493916217\n",
       "\\item 4.19935825458511\n",
       "\\item 3.54225804976692\n",
       "\\item 5.61588707391606\n",
       "\\item 7.58466190794147\n",
       "\\item 7.13442632022093\n",
       "\\item 6.75341734172778\n",
       "\\item 8.44352377369068\n",
       "\\item 6.84486265583082\n",
       "\\item 8.51048727046873\n",
       "\\item 8.89014265376687\n",
       "\\item 7.91312876781974\n",
       "\\item 8.70490653783045\n",
       "\\item 8.59585420665089\n",
       "\\item 9.25441452637856\n",
       "\\item 8.03672310600552\n",
       "\\item 8.64169052255661\n",
       "\\item 8.782539617754\n",
       "\\item 4.77452352959023\n",
       "\\item 3.99276843076892\n",
       "\\item 3.54101915313356\n",
       "\\item 3.96532254836725\n",
       "\\item 4.47508488294878\n",
       "\\item 6.16751850373522\n",
       "\\item 5.79129314859221\n",
       "\\item 8.64421681845824\n",
       "\\item 8.1461358659523\n",
       "\\item 7.93262815702213\n",
       "\\item 7.77834001128552\n",
       "\\item 8.23462585723119\n",
       "\\item 7.51088282198627\n",
       "\\item 6.50398470389761\n",
       "\\item 6.44244592900783\n",
       "\\item 8.48542682717024\n",
       "\\item 8.44389668623545\n",
       "\\item 6.87749887278353\n",
       "\\item 6.80051167862158\n",
       "\\item 7.26341005875634\n",
       "\\item 6.64342331632819\n",
       "\\item 7.98350669510787\n",
       "\\item 7.79759668417008\n",
       "\\item 7.24897119146416\n",
       "\\item 7.92931759491176\n",
       "\\end{enumerate*}\n"
      ],
      "text/markdown": [
       "1. 1.9560566524124\n",
       "2. 1\n",
       "3. 1\n",
       "4. 6.38162946703366\n",
       "5. 5.14836472130996\n",
       "6. 4.93215568443206\n",
       "7. 5.98811658476014\n",
       "8. 5.46041493916217\n",
       "9. 4.19935825458511\n",
       "10. 3.54225804976692\n",
       "11. 5.61588707391606\n",
       "12. 7.58466190794147\n",
       "13. 7.13442632022093\n",
       "14. 6.75341734172778\n",
       "15. 8.44352377369068\n",
       "16. 6.84486265583082\n",
       "17. 8.51048727046873\n",
       "18. 8.89014265376687\n",
       "19. 7.91312876781974\n",
       "20. 8.70490653783045\n",
       "21. 8.59585420665089\n",
       "22. 9.25441452637856\n",
       "23. 8.03672310600552\n",
       "24. 8.64169052255661\n",
       "25. 8.782539617754\n",
       "26. 4.77452352959023\n",
       "27. 3.99276843076892\n",
       "28. 3.54101915313356\n",
       "29. 3.96532254836725\n",
       "30. 4.47508488294878\n",
       "31. 6.16751850373522\n",
       "32. 5.79129314859221\n",
       "33. 8.64421681845824\n",
       "34. 8.1461358659523\n",
       "35. 7.93262815702213\n",
       "36. 7.77834001128552\n",
       "37. 8.23462585723119\n",
       "38. 7.51088282198627\n",
       "39. 6.50398470389761\n",
       "40. 6.44244592900783\n",
       "41. 8.48542682717024\n",
       "42. 8.44389668623545\n",
       "43. 6.87749887278353\n",
       "44. 6.80051167862158\n",
       "45. 7.26341005875634\n",
       "46. 6.64342331632819\n",
       "47. 7.98350669510787\n",
       "48. 7.79759668417008\n",
       "49. 7.24897119146416\n",
       "50. 7.92931759491176\n",
       "\n",
       "\n"
      ],
      "text/plain": [
       " [1] 1.956057 1.000000 1.000000 6.381629 5.148365 4.932156 5.988117 5.460415\n",
       " [9] 4.199358 3.542258 5.615887 7.584662 7.134426 6.753417 8.443524 6.844863\n",
       "[17] 8.510487 8.890143 7.913129 8.704907 8.595854 9.254415 8.036723 8.641691\n",
       "[25] 8.782540 4.774524 3.992768 3.541019 3.965323 4.475085 6.167519 5.791293\n",
       "[33] 8.644217 8.146136 7.932628 7.778340 8.234626 7.510883 6.503985 6.442446\n",
       "[41] 8.485427 8.443897 6.877499 6.800512 7.263410 6.643423 7.983507 7.797597\n",
       "[49] 7.248971 7.929318"
      ]
     },
     "metadata": {},
     "output_type": "display_data"
    },
    {
     "data": {
      "text/html": [
       "<style>\n",
       ".list-inline {list-style: none; margin:0; padding: 0}\n",
       ".list-inline>li {display: inline-block}\n",
       ".list-inline>li:not(:last-child)::after {content: \"\\00b7\"; padding: 0 .5ex}\n",
       "</style>\n",
       "<ol class=list-inline><li>'HLXb9'</li><li>'HHEX'</li><li>'HNF4a'</li><li>'ISL1'</li><li>'NEUROD1'</li><li>'NKX6.1'</li><li>'PAX4'</li><li>'PTF1a'</li><li>'PDX1'</li></ol>\n"
      ],
      "text/latex": [
       "\\begin{enumerate*}\n",
       "\\item 'HLXb9'\n",
       "\\item 'HHEX'\n",
       "\\item 'HNF4a'\n",
       "\\item 'ISL1'\n",
       "\\item 'NEUROD1'\n",
       "\\item 'NKX6.1'\n",
       "\\item 'PAX4'\n",
       "\\item 'PTF1a'\n",
       "\\item 'PDX1'\n",
       "\\end{enumerate*}\n"
      ],
      "text/markdown": [
       "1. 'HLXb9'\n",
       "2. 'HHEX'\n",
       "3. 'HNF4a'\n",
       "4. 'ISL1'\n",
       "5. 'NEUROD1'\n",
       "6. 'NKX6.1'\n",
       "7. 'PAX4'\n",
       "8. 'PTF1a'\n",
       "9. 'PDX1'\n",
       "\n",
       "\n"
      ],
      "text/plain": [
       "[1] \"HLXb9\"   \"HHEX\"    \"HNF4a\"   \"ISL1\"    \"NEUROD1\" \"NKX6.1\"  \"PAX4\"   \n",
       "[8] \"PTF1a\"   \"PDX1\"   "
      ]
     },
     "metadata": {},
     "output_type": "display_data"
    },
    {
     "data": {
      "text/html": [
       "<table class=\"dataframe\">\n",
       "<caption>A data.frame: 50 × 1</caption>\n",
       "<thead>\n",
       "\t<tr><th></th><th scope=col>HNF4a</th></tr>\n",
       "\t<tr><th></th><th scope=col>&lt;dbl&gt;</th></tr>\n",
       "</thead>\n",
       "<tbody>\n",
       "\t<tr><th scope=row>SC.1</th><td>1.956057</td></tr>\n",
       "\t<tr><th scope=row>SC.2</th><td>1.000000</td></tr>\n",
       "\t<tr><th scope=row>SC.3</th><td>1.000000</td></tr>\n",
       "\t<tr><th scope=row>DE-1</th><td>6.381629</td></tr>\n",
       "\t<tr><th scope=row>DE-2</th><td>5.148365</td></tr>\n",
       "\t<tr><th scope=row>DE-3</th><td>4.932156</td></tr>\n",
       "\t<tr><th scope=row>DE-4</th><td>5.988117</td></tr>\n",
       "\t<tr><th scope=row>DE+1</th><td>5.460415</td></tr>\n",
       "\t<tr><th scope=row>DE+2</th><td>4.199358</td></tr>\n",
       "\t<tr><th scope=row>DE+3</th><td>3.542258</td></tr>\n",
       "\t<tr><th scope=row>P2PP-1</th><td>5.615887</td></tr>\n",
       "\t<tr><th scope=row>P2PP-2</th><td>7.584662</td></tr>\n",
       "\t<tr><th scope=row>P2PP-3</th><td>7.134426</td></tr>\n",
       "\t<tr><th scope=row>P2PP-4</th><td>6.753417</td></tr>\n",
       "\t<tr><th scope=row>P2PP+1</th><td>8.443524</td></tr>\n",
       "\t<tr><th scope=row>P2PP+2</th><td>6.844863</td></tr>\n",
       "\t<tr><th scope=row>P2PP+3</th><td>8.510487</td></tr>\n",
       "\t<tr><th scope=row>P2PE-1</th><td>8.890143</td></tr>\n",
       "\t<tr><th scope=row>P2PE-2</th><td>7.913129</td></tr>\n",
       "\t<tr><th scope=row>P2PE-3</th><td>8.704907</td></tr>\n",
       "\t<tr><th scope=row>P2PE-4</th><td>8.595854</td></tr>\n",
       "\t<tr><th scope=row>P2PE+1</th><td>9.254415</td></tr>\n",
       "\t<tr><th scope=row>P2PE+2</th><td>8.036723</td></tr>\n",
       "\t<tr><th scope=row>P2PE+3</th><td>8.641691</td></tr>\n",
       "\t<tr><th scope=row>P2PE+4</th><td>8.782540</td></tr>\n",
       "\t<tr><th scope=row>P3PP-1</th><td>4.774524</td></tr>\n",
       "\t<tr><th scope=row>P3PP-2</th><td>3.992768</td></tr>\n",
       "\t<tr><th scope=row>P3PP+1</th><td>3.541019</td></tr>\n",
       "\t<tr><th scope=row>P3PP+2</th><td>3.965323</td></tr>\n",
       "\t<tr><th scope=row>P3PP+3</th><td>4.475085</td></tr>\n",
       "\t<tr><th scope=row>P3PE-1</th><td>6.167519</td></tr>\n",
       "\t<tr><th scope=row>P3PE-2</th><td>5.791293</td></tr>\n",
       "\t<tr><th scope=row>P3PE-3</th><td>8.644217</td></tr>\n",
       "\t<tr><th scope=row>P3PE-4</th><td>8.146136</td></tr>\n",
       "\t<tr><th scope=row>P3PE+1</th><td>7.932628</td></tr>\n",
       "\t<tr><th scope=row>P3PE+2</th><td>7.778340</td></tr>\n",
       "\t<tr><th scope=row>P3PE+3</th><td>8.234626</td></tr>\n",
       "\t<tr><th scope=row>P3PE+4</th><td>7.510883</td></tr>\n",
       "\t<tr><th scope=row>P5PP-1</th><td>6.503985</td></tr>\n",
       "\t<tr><th scope=row>P5PP-2</th><td>6.442446</td></tr>\n",
       "\t<tr><th scope=row>P5PP+1</th><td>8.485427</td></tr>\n",
       "\t<tr><th scope=row>P5PP+2</th><td>8.443897</td></tr>\n",
       "\t<tr><th scope=row>P5PE-1</th><td>6.877499</td></tr>\n",
       "\t<tr><th scope=row>P5PE-2</th><td>6.800512</td></tr>\n",
       "\t<tr><th scope=row>P5PE-3</th><td>7.263410</td></tr>\n",
       "\t<tr><th scope=row>P5PE-4</th><td>6.643423</td></tr>\n",
       "\t<tr><th scope=row>P5PE+1</th><td>7.983507</td></tr>\n",
       "\t<tr><th scope=row>P5PE+2</th><td>7.797597</td></tr>\n",
       "\t<tr><th scope=row>P5PE+3</th><td>7.248971</td></tr>\n",
       "\t<tr><th scope=row>P5PE+4</th><td>7.929318</td></tr>\n",
       "</tbody>\n",
       "</table>\n"
      ],
      "text/latex": [
       "A data.frame: 50 × 1\n",
       "\\begin{tabular}{r|l}\n",
       "  & HNF4a\\\\\n",
       "  & <dbl>\\\\\n",
       "\\hline\n",
       "\tSC.1 & 1.956057\\\\\n",
       "\tSC.2 & 1.000000\\\\\n",
       "\tSC.3 & 1.000000\\\\\n",
       "\tDE-1 & 6.381629\\\\\n",
       "\tDE-2 & 5.148365\\\\\n",
       "\tDE-3 & 4.932156\\\\\n",
       "\tDE-4 & 5.988117\\\\\n",
       "\tDE+1 & 5.460415\\\\\n",
       "\tDE+2 & 4.199358\\\\\n",
       "\tDE+3 & 3.542258\\\\\n",
       "\tP2PP-1 & 5.615887\\\\\n",
       "\tP2PP-2 & 7.584662\\\\\n",
       "\tP2PP-3 & 7.134426\\\\\n",
       "\tP2PP-4 & 6.753417\\\\\n",
       "\tP2PP+1 & 8.443524\\\\\n",
       "\tP2PP+2 & 6.844863\\\\\n",
       "\tP2PP+3 & 8.510487\\\\\n",
       "\tP2PE-1 & 8.890143\\\\\n",
       "\tP2PE-2 & 7.913129\\\\\n",
       "\tP2PE-3 & 8.704907\\\\\n",
       "\tP2PE-4 & 8.595854\\\\\n",
       "\tP2PE+1 & 9.254415\\\\\n",
       "\tP2PE+2 & 8.036723\\\\\n",
       "\tP2PE+3 & 8.641691\\\\\n",
       "\tP2PE+4 & 8.782540\\\\\n",
       "\tP3PP-1 & 4.774524\\\\\n",
       "\tP3PP-2 & 3.992768\\\\\n",
       "\tP3PP+1 & 3.541019\\\\\n",
       "\tP3PP+2 & 3.965323\\\\\n",
       "\tP3PP+3 & 4.475085\\\\\n",
       "\tP3PE-1 & 6.167519\\\\\n",
       "\tP3PE-2 & 5.791293\\\\\n",
       "\tP3PE-3 & 8.644217\\\\\n",
       "\tP3PE-4 & 8.146136\\\\\n",
       "\tP3PE+1 & 7.932628\\\\\n",
       "\tP3PE+2 & 7.778340\\\\\n",
       "\tP3PE+3 & 8.234626\\\\\n",
       "\tP3PE+4 & 7.510883\\\\\n",
       "\tP5PP-1 & 6.503985\\\\\n",
       "\tP5PP-2 & 6.442446\\\\\n",
       "\tP5PP+1 & 8.485427\\\\\n",
       "\tP5PP+2 & 8.443897\\\\\n",
       "\tP5PE-1 & 6.877499\\\\\n",
       "\tP5PE-2 & 6.800512\\\\\n",
       "\tP5PE-3 & 7.263410\\\\\n",
       "\tP5PE-4 & 6.643423\\\\\n",
       "\tP5PE+1 & 7.983507\\\\\n",
       "\tP5PE+2 & 7.797597\\\\\n",
       "\tP5PE+3 & 7.248971\\\\\n",
       "\tP5PE+4 & 7.929318\\\\\n",
       "\\end{tabular}\n"
      ],
      "text/markdown": [
       "\n",
       "A data.frame: 50 × 1\n",
       "\n",
       "| <!--/--> | HNF4a &lt;dbl&gt; |\n",
       "|---|---|\n",
       "| SC.1 | 1.956057 |\n",
       "| SC.2 | 1.000000 |\n",
       "| SC.3 | 1.000000 |\n",
       "| DE-1 | 6.381629 |\n",
       "| DE-2 | 5.148365 |\n",
       "| DE-3 | 4.932156 |\n",
       "| DE-4 | 5.988117 |\n",
       "| DE+1 | 5.460415 |\n",
       "| DE+2 | 4.199358 |\n",
       "| DE+3 | 3.542258 |\n",
       "| P2PP-1 | 5.615887 |\n",
       "| P2PP-2 | 7.584662 |\n",
       "| P2PP-3 | 7.134426 |\n",
       "| P2PP-4 | 6.753417 |\n",
       "| P2PP+1 | 8.443524 |\n",
       "| P2PP+2 | 6.844863 |\n",
       "| P2PP+3 | 8.510487 |\n",
       "| P2PE-1 | 8.890143 |\n",
       "| P2PE-2 | 7.913129 |\n",
       "| P2PE-3 | 8.704907 |\n",
       "| P2PE-4 | 8.595854 |\n",
       "| P2PE+1 | 9.254415 |\n",
       "| P2PE+2 | 8.036723 |\n",
       "| P2PE+3 | 8.641691 |\n",
       "| P2PE+4 | 8.782540 |\n",
       "| P3PP-1 | 4.774524 |\n",
       "| P3PP-2 | 3.992768 |\n",
       "| P3PP+1 | 3.541019 |\n",
       "| P3PP+2 | 3.965323 |\n",
       "| P3PP+3 | 4.475085 |\n",
       "| P3PE-1 | 6.167519 |\n",
       "| P3PE-2 | 5.791293 |\n",
       "| P3PE-3 | 8.644217 |\n",
       "| P3PE-4 | 8.146136 |\n",
       "| P3PE+1 | 7.932628 |\n",
       "| P3PE+2 | 7.778340 |\n",
       "| P3PE+3 | 8.234626 |\n",
       "| P3PE+4 | 7.510883 |\n",
       "| P5PP-1 | 6.503985 |\n",
       "| P5PP-2 | 6.442446 |\n",
       "| P5PP+1 | 8.485427 |\n",
       "| P5PP+2 | 8.443897 |\n",
       "| P5PE-1 | 6.877499 |\n",
       "| P5PE-2 | 6.800512 |\n",
       "| P5PE-3 | 7.263410 |\n",
       "| P5PE-4 | 6.643423 |\n",
       "| P5PE+1 | 7.983507 |\n",
       "| P5PE+2 | 7.797597 |\n",
       "| P5PE+3 | 7.248971 |\n",
       "| P5PE+4 | 7.929318 |\n",
       "\n"
      ],
      "text/plain": [
       "       HNF4a   \n",
       "SC.1   1.956057\n",
       "SC.2   1.000000\n",
       "SC.3   1.000000\n",
       "DE-1   6.381629\n",
       "DE-2   5.148365\n",
       "DE-3   4.932156\n",
       "DE-4   5.988117\n",
       "DE+1   5.460415\n",
       "DE+2   4.199358\n",
       "DE+3   3.542258\n",
       "P2PP-1 5.615887\n",
       "P2PP-2 7.584662\n",
       "P2PP-3 7.134426\n",
       "P2PP-4 6.753417\n",
       "P2PP+1 8.443524\n",
       "P2PP+2 6.844863\n",
       "P2PP+3 8.510487\n",
       "P2PE-1 8.890143\n",
       "P2PE-2 7.913129\n",
       "P2PE-3 8.704907\n",
       "P2PE-4 8.595854\n",
       "P2PE+1 9.254415\n",
       "P2PE+2 8.036723\n",
       "P2PE+3 8.641691\n",
       "P2PE+4 8.782540\n",
       "P3PP-1 4.774524\n",
       "P3PP-2 3.992768\n",
       "P3PP+1 3.541019\n",
       "P3PP+2 3.965323\n",
       "P3PP+3 4.475085\n",
       "P3PE-1 6.167519\n",
       "P3PE-2 5.791293\n",
       "P3PE-3 8.644217\n",
       "P3PE-4 8.146136\n",
       "P3PE+1 7.932628\n",
       "P3PE+2 7.778340\n",
       "P3PE+3 8.234626\n",
       "P3PE+4 7.510883\n",
       "P5PP-1 6.503985\n",
       "P5PP-2 6.442446\n",
       "P5PP+1 8.485427\n",
       "P5PP+2 8.443897\n",
       "P5PE-1 6.877499\n",
       "P5PE-2 6.800512\n",
       "P5PE-3 7.263410\n",
       "P5PE-4 6.643423\n",
       "P5PE+1 7.983507\n",
       "P5PE+2 7.797597\n",
       "P5PE+3 7.248971\n",
       "P5PE+4 7.929318"
      ]
     },
     "metadata": {},
     "output_type": "display_data"
    }
   ],
   "source": [
    "# we saw the graphs and want to check what we saw\n",
    "x$HNF4a\n",
    "colnames(x)\n",
    "x[,3, drop = F]\n",
    "# HNF4a is a good gene for specifing the samples\n"
   ]
  },
  {
   "cell_type": "markdown",
   "id": "91367afc-6966-4937-8792-9371e4e34d9b",
   "metadata": {},
   "source": [
    "13. new library with 3d plots !"
   ]
  },
  {
   "cell_type": "code",
   "execution_count": 13,
   "id": "239d09bd-d1c3-41c8-9f78-09f5b6dad630",
   "metadata": {},
   "outputs": [
    {
     "name": "stderr",
     "output_type": "stream",
     "text": [
      "Warning message:\n",
      "\"package 'rgl' was built under R version 4.3.3\"\n"
     ]
    }
   ],
   "source": [
    "library(rgl)\n",
    "# 3d pca\n",
    "plot3d(pcx[,1:3])\n",
    "\n",
    "#cant make a 3d changable pdf. we have to snap shot it and then make a pdf out of it"
   ]
  },
  {
   "cell_type": "code",
   "execution_count": null,
   "id": "cc338a9b-5836-45df-94a8-4b375d454597",
   "metadata": {},
   "outputs": [],
   "source": []
  }
 ],
 "metadata": {
  "kernelspec": {
   "display_name": "R",
   "language": "R",
   "name": "ir"
  },
  "language_info": {
   "codemirror_mode": "r",
   "file_extension": ".r",
   "mimetype": "text/x-r-source",
   "name": "R",
   "pygments_lexer": "r",
   "version": "4.3.1"
  }
 },
 "nbformat": 4,
 "nbformat_minor": 5
}
