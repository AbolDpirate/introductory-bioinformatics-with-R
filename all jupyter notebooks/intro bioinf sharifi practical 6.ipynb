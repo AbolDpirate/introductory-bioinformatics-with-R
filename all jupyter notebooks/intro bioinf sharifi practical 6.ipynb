{
 "cells": [
  {
   "cell_type": "markdown",
   "id": "d291d2fa-0fc7-420d-85ac-016ee69b0691",
   "metadata": {},
   "source": [
    "R Basics\n",
    "-\n",
    "Introductory Bioinformatics Sharifi Zarchi The practical sessions part 6\n",
    "-\n",
    "**melt function, reshape2 library & some plots(box plot, violin plot)**\n"
   ]
  },
  {
   "cell_type": "markdown",
   "id": "47a5949a-70eb-4711-942c-39e8f589fcff",
   "metadata": {},
   "source": [
    "1. File recall and initial preprocessing"
   ]
  },
  {
   "cell_type": "code",
   "execution_count": 1,
   "id": "6ee6bb84-1278-4da3-854e-be85342773f2",
   "metadata": {},
   "outputs": [
    {
     "data": {
      "text/html": [
       "<table class=\"dataframe\">\n",
       "<caption>A data.frame: 6 × 9</caption>\n",
       "<thead>\n",
       "\t<tr><th></th><th scope=col>HLXb9</th><th scope=col>HHEX</th><th scope=col>HNF4a</th><th scope=col>ISL1</th><th scope=col>NEUROD1</th><th scope=col>NKX6.1</th><th scope=col>PAX4</th><th scope=col>PTF1a</th><th scope=col>PDX1</th></tr>\n",
       "\t<tr><th></th><th scope=col>&lt;dbl&gt;</th><th scope=col>&lt;dbl&gt;</th><th scope=col>&lt;dbl&gt;</th><th scope=col>&lt;dbl&gt;</th><th scope=col>&lt;dbl&gt;</th><th scope=col>&lt;dbl&gt;</th><th scope=col>&lt;dbl&gt;</th><th scope=col>&lt;dbl&gt;</th><th scope=col>&lt;dbl&gt;</th></tr>\n",
       "</thead>\n",
       "<tbody>\n",
       "\t<tr><th scope=row>SC.1</th><td>1.709291</td><td>1.521051</td><td>1.956057</td><td>1.427606</td><td>2.201634</td><td>1.063503</td><td>1.195348</td><td>1.263034</td><td>1.000000</td></tr>\n",
       "\t<tr><th scope=row>SC.2</th><td>1.000000</td><td>1.000000</td><td>1.000000</td><td>1.000000</td><td>1.000000</td><td>1.000000</td><td>1.000000</td><td>1.000000</td><td>1.000000</td></tr>\n",
       "\t<tr><th scope=row>SC.3</th><td>1.000000</td><td>1.000000</td><td>1.000000</td><td>1.000000</td><td>1.000000</td><td>1.000000</td><td>1.000000</td><td>1.000000</td><td>1.000000</td></tr>\n",
       "\t<tr><th scope=row>DE-1</th><td>7.073606</td><td>3.576522</td><td>6.381629</td><td>4.804260</td><td>2.555816</td><td>2.157044</td><td>1.669027</td><td>2.084064</td><td>4.490570</td></tr>\n",
       "\t<tr><th scope=row>DE-2</th><td>5.559798</td><td>5.241077</td><td>5.148365</td><td>3.575312</td><td>2.833902</td><td>2.438293</td><td>2.150560</td><td>2.232661</td><td>3.657640</td></tr>\n",
       "\t<tr><th scope=row>DE-3</th><td>5.725469</td><td>3.576522</td><td>4.932156</td><td>4.804260</td><td>4.074677</td><td>2.157044</td><td>1.669027</td><td>2.060047</td><td>4.738768</td></tr>\n",
       "</tbody>\n",
       "</table>\n"
      ],
      "text/latex": [
       "A data.frame: 6 × 9\n",
       "\\begin{tabular}{r|lllllllll}\n",
       "  & HLXb9 & HHEX & HNF4a & ISL1 & NEUROD1 & NKX6.1 & PAX4 & PTF1a & PDX1\\\\\n",
       "  & <dbl> & <dbl> & <dbl> & <dbl> & <dbl> & <dbl> & <dbl> & <dbl> & <dbl>\\\\\n",
       "\\hline\n",
       "\tSC.1 & 1.709291 & 1.521051 & 1.956057 & 1.427606 & 2.201634 & 1.063503 & 1.195348 & 1.263034 & 1.000000\\\\\n",
       "\tSC.2 & 1.000000 & 1.000000 & 1.000000 & 1.000000 & 1.000000 & 1.000000 & 1.000000 & 1.000000 & 1.000000\\\\\n",
       "\tSC.3 & 1.000000 & 1.000000 & 1.000000 & 1.000000 & 1.000000 & 1.000000 & 1.000000 & 1.000000 & 1.000000\\\\\n",
       "\tDE-1 & 7.073606 & 3.576522 & 6.381629 & 4.804260 & 2.555816 & 2.157044 & 1.669027 & 2.084064 & 4.490570\\\\\n",
       "\tDE-2 & 5.559798 & 5.241077 & 5.148365 & 3.575312 & 2.833902 & 2.438293 & 2.150560 & 2.232661 & 3.657640\\\\\n",
       "\tDE-3 & 5.725469 & 3.576522 & 4.932156 & 4.804260 & 4.074677 & 2.157044 & 1.669027 & 2.060047 & 4.738768\\\\\n",
       "\\end{tabular}\n"
      ],
      "text/markdown": [
       "\n",
       "A data.frame: 6 × 9\n",
       "\n",
       "| <!--/--> | HLXb9 &lt;dbl&gt; | HHEX &lt;dbl&gt; | HNF4a &lt;dbl&gt; | ISL1 &lt;dbl&gt; | NEUROD1 &lt;dbl&gt; | NKX6.1 &lt;dbl&gt; | PAX4 &lt;dbl&gt; | PTF1a &lt;dbl&gt; | PDX1 &lt;dbl&gt; |\n",
       "|---|---|---|---|---|---|---|---|---|---|\n",
       "| SC.1 | 1.709291 | 1.521051 | 1.956057 | 1.427606 | 2.201634 | 1.063503 | 1.195348 | 1.263034 | 1.000000 |\n",
       "| SC.2 | 1.000000 | 1.000000 | 1.000000 | 1.000000 | 1.000000 | 1.000000 | 1.000000 | 1.000000 | 1.000000 |\n",
       "| SC.3 | 1.000000 | 1.000000 | 1.000000 | 1.000000 | 1.000000 | 1.000000 | 1.000000 | 1.000000 | 1.000000 |\n",
       "| DE-1 | 7.073606 | 3.576522 | 6.381629 | 4.804260 | 2.555816 | 2.157044 | 1.669027 | 2.084064 | 4.490570 |\n",
       "| DE-2 | 5.559798 | 5.241077 | 5.148365 | 3.575312 | 2.833902 | 2.438293 | 2.150560 | 2.232661 | 3.657640 |\n",
       "| DE-3 | 5.725469 | 3.576522 | 4.932156 | 4.804260 | 4.074677 | 2.157044 | 1.669027 | 2.060047 | 4.738768 |\n",
       "\n"
      ],
      "text/plain": [
       "     HLXb9    HHEX     HNF4a    ISL1     NEUROD1  NKX6.1   PAX4     PTF1a   \n",
       "SC.1 1.709291 1.521051 1.956057 1.427606 2.201634 1.063503 1.195348 1.263034\n",
       "SC.2 1.000000 1.000000 1.000000 1.000000 1.000000 1.000000 1.000000 1.000000\n",
       "SC.3 1.000000 1.000000 1.000000 1.000000 1.000000 1.000000 1.000000 1.000000\n",
       "DE-1 7.073606 3.576522 6.381629 4.804260 2.555816 2.157044 1.669027 2.084064\n",
       "DE-2 5.559798 5.241077 5.148365 3.575312 2.833902 2.438293 2.150560 2.232661\n",
       "DE-3 5.725469 3.576522 4.932156 4.804260 4.074677 2.157044 1.669027 2.060047\n",
       "     PDX1    \n",
       "SC.1 1.000000\n",
       "SC.2 1.000000\n",
       "SC.3 1.000000\n",
       "DE-1 4.490570\n",
       "DE-2 3.657640\n",
       "DE-3 4.738768"
      ]
     },
     "metadata": {},
     "output_type": "display_data"
    }
   ],
   "source": [
    "x = read.delim(\"C:/Users/abolf/Desktop/jupyter train/intro bioinf sharifi practical/SharifiZarchi-bio/Data/Endoderm.txt\")\n",
    "rownames(x) = x[,1]\n",
    "x = x[,-1]\n",
    "x = log2(x+1)\n",
    "head(x)"
   ]
  },
  {
   "cell_type": "markdown",
   "id": "9715ae4d-aff9-4fdc-a6a8-d73012d88eeb",
   "metadata": {},
   "source": [
    "2. new function (summary). see what it is capable of..."
   ]
  },
  {
   "cell_type": "code",
   "execution_count": 2,
   "id": "d5f0525e-a467-4cbd-a32b-fd47a88eb71d",
   "metadata": {},
   "outputs": [
    {
     "data": {
      "text/plain": [
       "   Min. 1st Qu.  Median    Mean 3rd Qu.    Max. \n",
       "  1.000   4.202   5.292   5.126   6.488   7.510 "
      ]
     },
     "metadata": {},
     "output_type": "display_data"
    },
    {
     "name": "stdout",
     "output_type": "stream",
     "text": [
      "[1] \"-----------------------------------------------------------------------------------------------------------------------------\"\n"
     ]
    },
    {
     "data": {
      "text/html": [
       "<style>\n",
       ".list-inline {list-style: none; margin:0; padding: 0}\n",
       ".list-inline>li {display: inline-block}\n",
       ".list-inline>li:not(:last-child)::after {content: \"\\00b7\"; padding: 0 .5ex}\n",
       "</style>\n",
       "<ol class=list-inline><li>1.70929063572336</li><li>1</li><li>1</li><li>7.07360604057494</li><li>5.55979769575487</li><li>5.72546851263261</li><li>7.15066121403827</li><li>7.40284153255129</li><li>6.67807190511264</li><li>7.17741953798924</li><li>6.4826869709376</li><li>6.73971311368956</li><li>7.01200990087091</li><li>7.50961667519586</li><li>6.4276061727819</li><li>6.76937504934982</li><li>6.75875621373191</li><li>6.65821148275179</li><li>4.23955079661364</li><li>4.22419466397043</li><li>4.61765111942733</li><li>4.61823865559545</li><li>4.17472598770613</li><li>4.21101219348551</li><li>4.01524777369894</li><li>4.07895134139482</li><li>6.67115181382563</li><li>5.44724856860178</li><li>6.02657877012771</li><li>5.61264737765832</li><li>5.93498820178348</li><li>5.97911075501579</li><li>4.6876206320849</li><li>4.99140846676479</li><li>5.2149019101607</li><li>5.32589006103978</li><li>4.31831684133498</li><li>4.36387192485753</li><li>4.13093086982645</li><li>4.70154905694307</li><li>6.50350775363456</li><li>5.2585189247113</li><li>6.36018867006271</li><li>6.34766565630097</li><li>3.33771109212829</li><li>3.82883464946806</li><li>3.4995270242151</li><li>5.38474058729238</li><li>2.4931349223055</li><li>2.64385618977472</li><li>3.39369076418745</li><li>5.06824086131282</li></ol>\n"
      ],
      "text/latex": [
       "\\begin{enumerate*}\n",
       "\\item 1.70929063572336\n",
       "\\item 1\n",
       "\\item 1\n",
       "\\item 7.07360604057494\n",
       "\\item 5.55979769575487\n",
       "\\item 5.72546851263261\n",
       "\\item 7.15066121403827\n",
       "\\item 7.40284153255129\n",
       "\\item 6.67807190511264\n",
       "\\item 7.17741953798924\n",
       "\\item 6.4826869709376\n",
       "\\item 6.73971311368956\n",
       "\\item 7.01200990087091\n",
       "\\item 7.50961667519586\n",
       "\\item 6.4276061727819\n",
       "\\item 6.76937504934982\n",
       "\\item 6.75875621373191\n",
       "\\item 6.65821148275179\n",
       "\\item 4.23955079661364\n",
       "\\item 4.22419466397043\n",
       "\\item 4.61765111942733\n",
       "\\item 4.61823865559545\n",
       "\\item 4.17472598770613\n",
       "\\item 4.21101219348551\n",
       "\\item 4.01524777369894\n",
       "\\item 4.07895134139482\n",
       "\\item 6.67115181382563\n",
       "\\item 5.44724856860178\n",
       "\\item 6.02657877012771\n",
       "\\item 5.61264737765832\n",
       "\\item 5.93498820178348\n",
       "\\item 5.97911075501579\n",
       "\\item 4.6876206320849\n",
       "\\item 4.99140846676479\n",
       "\\item 5.2149019101607\n",
       "\\item 5.32589006103978\n",
       "\\item 4.31831684133498\n",
       "\\item 4.36387192485753\n",
       "\\item 4.13093086982645\n",
       "\\item 4.70154905694307\n",
       "\\item 6.50350775363456\n",
       "\\item 5.2585189247113\n",
       "\\item 6.36018867006271\n",
       "\\item 6.34766565630097\n",
       "\\item 3.33771109212829\n",
       "\\item 3.82883464946806\n",
       "\\item 3.4995270242151\n",
       "\\item 5.38474058729238\n",
       "\\item 2.4931349223055\n",
       "\\item 2.64385618977472\n",
       "\\item 3.39369076418745\n",
       "\\item 5.06824086131282\n",
       "\\end{enumerate*}\n"
      ],
      "text/markdown": [
       "1. 1.70929063572336\n",
       "2. 1\n",
       "3. 1\n",
       "4. 7.07360604057494\n",
       "5. 5.55979769575487\n",
       "6. 5.72546851263261\n",
       "7. 7.15066121403827\n",
       "8. 7.40284153255129\n",
       "9. 6.67807190511264\n",
       "10. 7.17741953798924\n",
       "11. 6.4826869709376\n",
       "12. 6.73971311368956\n",
       "13. 7.01200990087091\n",
       "14. 7.50961667519586\n",
       "15. 6.4276061727819\n",
       "16. 6.76937504934982\n",
       "17. 6.75875621373191\n",
       "18. 6.65821148275179\n",
       "19. 4.23955079661364\n",
       "20. 4.22419466397043\n",
       "21. 4.61765111942733\n",
       "22. 4.61823865559545\n",
       "23. 4.17472598770613\n",
       "24. 4.21101219348551\n",
       "25. 4.01524777369894\n",
       "26. 4.07895134139482\n",
       "27. 6.67115181382563\n",
       "28. 5.44724856860178\n",
       "29. 6.02657877012771\n",
       "30. 5.61264737765832\n",
       "31. 5.93498820178348\n",
       "32. 5.97911075501579\n",
       "33. 4.6876206320849\n",
       "34. 4.99140846676479\n",
       "35. 5.2149019101607\n",
       "36. 5.32589006103978\n",
       "37. 4.31831684133498\n",
       "38. 4.36387192485753\n",
       "39. 4.13093086982645\n",
       "40. 4.70154905694307\n",
       "41. 6.50350775363456\n",
       "42. 5.2585189247113\n",
       "43. 6.36018867006271\n",
       "44. 6.34766565630097\n",
       "45. 3.33771109212829\n",
       "46. 3.82883464946806\n",
       "47. 3.4995270242151\n",
       "48. 5.38474058729238\n",
       "49. 2.4931349223055\n",
       "50. 2.64385618977472\n",
       "51. 3.39369076418745\n",
       "52. 5.06824086131282\n",
       "\n",
       "\n"
      ],
      "text/plain": [
       " [1] 1.709291 1.000000 1.000000 7.073606 5.559798 5.725469 7.150661 7.402842\n",
       " [9] 6.678072 7.177420 6.482687 6.739713 7.012010 7.509617 6.427606 6.769375\n",
       "[17] 6.758756 6.658211 4.239551 4.224195 4.617651 4.618239 4.174726 4.211012\n",
       "[25] 4.015248 4.078951 6.671152 5.447249 6.026579 5.612647 5.934988 5.979111\n",
       "[33] 4.687621 4.991408 5.214902 5.325890 4.318317 4.363872 4.130931 4.701549\n",
       "[41] 6.503508 5.258519 6.360189 6.347666 3.337711 3.828835 3.499527 5.384741\n",
       "[49] 2.493135 2.643856 3.393691 5.068241"
      ]
     },
     "metadata": {},
     "output_type": "display_data"
    },
    {
     "name": "stdout",
     "output_type": "stream",
     "text": [
      "[1] \"-----------------------------------------------------------------------------------------------------------------------------\"\n"
     ]
    },
    {
     "data": {
      "text/plain": [
       "     HLXb9            HHEX             HNF4a            ISL1      \n",
       " Min.   :1.000   Min.   :0.07039   Min.   :1.000   Min.   :1.000  \n",
       " 1st Qu.:4.202   1st Qu.:0.29861   1st Qu.:5.382   1st Qu.:3.997  \n",
       " Median :5.292   Median :1.52105   Median :6.924   Median :4.863  \n",
       " Mean   :5.126   Mean   :2.30825   Mean   :6.554   Mean   :4.695  \n",
       " 3rd Qu.:6.488   3rd Qu.:4.17671   3rd Qu.:8.064   3rd Qu.:5.442  \n",
       " Max.   :7.510   Max.   :5.24108   Max.   :9.254   Max.   :6.743  \n",
       "                 NA's   :1                                        \n",
       "    NEUROD1          NKX6.1            PAX4            PTF1a       \n",
       " Min.   :1.000   Min.   :0.1243   Min.   :0.2869   Min.   :0.5558  \n",
       " 1st Qu.:5.982   1st Qu.:0.2388   1st Qu.:0.6392   1st Qu.:1.3377  \n",
       " Median :7.204   Median :0.5656   Median :1.0000   Median :2.0531  \n",
       " Mean   :6.305   Mean   :0.8024   Mean   :1.2219   Mean   :2.0999  \n",
       " 3rd Qu.:7.608   3rd Qu.:1.0318   3rd Qu.:1.6690   3rd Qu.:2.6437  \n",
       " Max.   :8.365   Max.   :2.4383   Max.   :3.4555   Max.   :5.6103  \n",
       " NA's   :1       NA's   :1                                         \n",
       "      PDX1      \n",
       " Min.   :1.000  \n",
       " 1st Qu.:5.049  \n",
       " Median :6.192  \n",
       " Mean   :6.095  \n",
       " 3rd Qu.:7.779  \n",
       " Max.   :9.095  \n",
       "                "
      ]
     },
     "metadata": {},
     "output_type": "display_data"
    }
   ],
   "source": [
    "summary(x[,1])\n",
    "print(\"-----------------------------------------------------------------------------------------------------------------------------\")\n",
    "\n",
    "x[,1]\n",
    "print(\"-----------------------------------------------------------------------------------------------------------------------------\")\n",
    "\n",
    "summary(x)\n"
   ]
  },
  {
   "cell_type": "markdown",
   "id": "5eead229-08c2-46fa-b560-d00b81f13876",
   "metadata": {},
   "source": [
    "3. new function : melt ... new library : reshape 2 ... new plot : box plot"
   ]
  },
  {
   "cell_type": "code",
   "execution_count": 3,
   "id": "cdb17cd5-ee68-426d-ad1c-2c7f69bd60f3",
   "metadata": {},
   "outputs": [
    {
     "name": "stderr",
     "output_type": "stream",
     "text": [
      "Warning message:\n",
      "\"package 'pheatmap' was built under R version 4.3.3\"\n",
      "Warning message:\n",
      "\"package 'ggplot2' was built under R version 4.3.3\"\n",
      "Warning message:\n",
      "\"package 'reshape' was built under R version 4.3.3\"\n",
      "Using  as id variables\n",
      "\n"
     ]
    },
    {
     "data": {
      "text/html": [
       "<table class=\"dataframe\">\n",
       "<caption>A data.frame: 6 × 9</caption>\n",
       "<thead>\n",
       "\t<tr><th></th><th scope=col>HLXb9</th><th scope=col>HHEX</th><th scope=col>HNF4a</th><th scope=col>ISL1</th><th scope=col>NEUROD1</th><th scope=col>NKX6.1</th><th scope=col>PAX4</th><th scope=col>PTF1a</th><th scope=col>PDX1</th></tr>\n",
       "\t<tr><th></th><th scope=col>&lt;dbl&gt;</th><th scope=col>&lt;dbl&gt;</th><th scope=col>&lt;dbl&gt;</th><th scope=col>&lt;dbl&gt;</th><th scope=col>&lt;dbl&gt;</th><th scope=col>&lt;dbl&gt;</th><th scope=col>&lt;dbl&gt;</th><th scope=col>&lt;dbl&gt;</th><th scope=col>&lt;dbl&gt;</th></tr>\n",
       "</thead>\n",
       "<tbody>\n",
       "\t<tr><th scope=row>SC.1</th><td>1.709291</td><td>1.521051</td><td>1.956057</td><td>1.427606</td><td>2.201634</td><td>1.063503</td><td>1.195348</td><td>1.263034</td><td>1.000000</td></tr>\n",
       "\t<tr><th scope=row>SC.2</th><td>1.000000</td><td>1.000000</td><td>1.000000</td><td>1.000000</td><td>1.000000</td><td>1.000000</td><td>1.000000</td><td>1.000000</td><td>1.000000</td></tr>\n",
       "\t<tr><th scope=row>SC.3</th><td>1.000000</td><td>1.000000</td><td>1.000000</td><td>1.000000</td><td>1.000000</td><td>1.000000</td><td>1.000000</td><td>1.000000</td><td>1.000000</td></tr>\n",
       "\t<tr><th scope=row>DE-1</th><td>7.073606</td><td>3.576522</td><td>6.381629</td><td>4.804260</td><td>2.555816</td><td>2.157044</td><td>1.669027</td><td>2.084064</td><td>4.490570</td></tr>\n",
       "\t<tr><th scope=row>DE-2</th><td>5.559798</td><td>5.241077</td><td>5.148365</td><td>3.575312</td><td>2.833902</td><td>2.438293</td><td>2.150560</td><td>2.232661</td><td>3.657640</td></tr>\n",
       "\t<tr><th scope=row>DE-3</th><td>5.725469</td><td>3.576522</td><td>4.932156</td><td>4.804260</td><td>4.074677</td><td>2.157044</td><td>1.669027</td><td>2.060047</td><td>4.738768</td></tr>\n",
       "</tbody>\n",
       "</table>\n"
      ],
      "text/latex": [
       "A data.frame: 6 × 9\n",
       "\\begin{tabular}{r|lllllllll}\n",
       "  & HLXb9 & HHEX & HNF4a & ISL1 & NEUROD1 & NKX6.1 & PAX4 & PTF1a & PDX1\\\\\n",
       "  & <dbl> & <dbl> & <dbl> & <dbl> & <dbl> & <dbl> & <dbl> & <dbl> & <dbl>\\\\\n",
       "\\hline\n",
       "\tSC.1 & 1.709291 & 1.521051 & 1.956057 & 1.427606 & 2.201634 & 1.063503 & 1.195348 & 1.263034 & 1.000000\\\\\n",
       "\tSC.2 & 1.000000 & 1.000000 & 1.000000 & 1.000000 & 1.000000 & 1.000000 & 1.000000 & 1.000000 & 1.000000\\\\\n",
       "\tSC.3 & 1.000000 & 1.000000 & 1.000000 & 1.000000 & 1.000000 & 1.000000 & 1.000000 & 1.000000 & 1.000000\\\\\n",
       "\tDE-1 & 7.073606 & 3.576522 & 6.381629 & 4.804260 & 2.555816 & 2.157044 & 1.669027 & 2.084064 & 4.490570\\\\\n",
       "\tDE-2 & 5.559798 & 5.241077 & 5.148365 & 3.575312 & 2.833902 & 2.438293 & 2.150560 & 2.232661 & 3.657640\\\\\n",
       "\tDE-3 & 5.725469 & 3.576522 & 4.932156 & 4.804260 & 4.074677 & 2.157044 & 1.669027 & 2.060047 & 4.738768\\\\\n",
       "\\end{tabular}\n"
      ],
      "text/markdown": [
       "\n",
       "A data.frame: 6 × 9\n",
       "\n",
       "| <!--/--> | HLXb9 &lt;dbl&gt; | HHEX &lt;dbl&gt; | HNF4a &lt;dbl&gt; | ISL1 &lt;dbl&gt; | NEUROD1 &lt;dbl&gt; | NKX6.1 &lt;dbl&gt; | PAX4 &lt;dbl&gt; | PTF1a &lt;dbl&gt; | PDX1 &lt;dbl&gt; |\n",
       "|---|---|---|---|---|---|---|---|---|---|\n",
       "| SC.1 | 1.709291 | 1.521051 | 1.956057 | 1.427606 | 2.201634 | 1.063503 | 1.195348 | 1.263034 | 1.000000 |\n",
       "| SC.2 | 1.000000 | 1.000000 | 1.000000 | 1.000000 | 1.000000 | 1.000000 | 1.000000 | 1.000000 | 1.000000 |\n",
       "| SC.3 | 1.000000 | 1.000000 | 1.000000 | 1.000000 | 1.000000 | 1.000000 | 1.000000 | 1.000000 | 1.000000 |\n",
       "| DE-1 | 7.073606 | 3.576522 | 6.381629 | 4.804260 | 2.555816 | 2.157044 | 1.669027 | 2.084064 | 4.490570 |\n",
       "| DE-2 | 5.559798 | 5.241077 | 5.148365 | 3.575312 | 2.833902 | 2.438293 | 2.150560 | 2.232661 | 3.657640 |\n",
       "| DE-3 | 5.725469 | 3.576522 | 4.932156 | 4.804260 | 4.074677 | 2.157044 | 1.669027 | 2.060047 | 4.738768 |\n",
       "\n"
      ],
      "text/plain": [
       "     HLXb9    HHEX     HNF4a    ISL1     NEUROD1  NKX6.1   PAX4     PTF1a   \n",
       "SC.1 1.709291 1.521051 1.956057 1.427606 2.201634 1.063503 1.195348 1.263034\n",
       "SC.2 1.000000 1.000000 1.000000 1.000000 1.000000 1.000000 1.000000 1.000000\n",
       "SC.3 1.000000 1.000000 1.000000 1.000000 1.000000 1.000000 1.000000 1.000000\n",
       "DE-1 7.073606 3.576522 6.381629 4.804260 2.555816 2.157044 1.669027 2.084064\n",
       "DE-2 5.559798 5.241077 5.148365 3.575312 2.833902 2.438293 2.150560 2.232661\n",
       "DE-3 5.725469 3.576522 4.932156 4.804260 4.074677 2.157044 1.669027 2.060047\n",
       "     PDX1    \n",
       "SC.1 1.000000\n",
       "SC.2 1.000000\n",
       "SC.3 1.000000\n",
       "DE-1 4.490570\n",
       "DE-2 3.657640\n",
       "DE-3 4.738768"
      ]
     },
     "metadata": {},
     "output_type": "display_data"
    },
    {
     "data": {
      "text/html": [
       "<table class=\"dataframe\">\n",
       "<caption>A data.frame: 6 × 2</caption>\n",
       "<thead>\n",
       "\t<tr><th></th><th scope=col>variable</th><th scope=col>value</th></tr>\n",
       "\t<tr><th></th><th scope=col>&lt;fct&gt;</th><th scope=col>&lt;dbl&gt;</th></tr>\n",
       "</thead>\n",
       "<tbody>\n",
       "\t<tr><th scope=row>1</th><td>HLXb9</td><td>1.709291</td></tr>\n",
       "\t<tr><th scope=row>2</th><td>HLXb9</td><td>1.000000</td></tr>\n",
       "\t<tr><th scope=row>3</th><td>HLXb9</td><td>1.000000</td></tr>\n",
       "\t<tr><th scope=row>4</th><td>HLXb9</td><td>7.073606</td></tr>\n",
       "\t<tr><th scope=row>5</th><td>HLXb9</td><td>5.559798</td></tr>\n",
       "\t<tr><th scope=row>6</th><td>HLXb9</td><td>5.725469</td></tr>\n",
       "</tbody>\n",
       "</table>\n"
      ],
      "text/latex": [
       "A data.frame: 6 × 2\n",
       "\\begin{tabular}{r|ll}\n",
       "  & variable & value\\\\\n",
       "  & <fct> & <dbl>\\\\\n",
       "\\hline\n",
       "\t1 & HLXb9 & 1.709291\\\\\n",
       "\t2 & HLXb9 & 1.000000\\\\\n",
       "\t3 & HLXb9 & 1.000000\\\\\n",
       "\t4 & HLXb9 & 7.073606\\\\\n",
       "\t5 & HLXb9 & 5.559798\\\\\n",
       "\t6 & HLXb9 & 5.725469\\\\\n",
       "\\end{tabular}\n"
      ],
      "text/markdown": [
       "\n",
       "A data.frame: 6 × 2\n",
       "\n",
       "| <!--/--> | variable &lt;fct&gt; | value &lt;dbl&gt; |\n",
       "|---|---|---|\n",
       "| 1 | HLXb9 | 1.709291 |\n",
       "| 2 | HLXb9 | 1.000000 |\n",
       "| 3 | HLXb9 | 1.000000 |\n",
       "| 4 | HLXb9 | 7.073606 |\n",
       "| 5 | HLXb9 | 5.559798 |\n",
       "| 6 | HLXb9 | 5.725469 |\n",
       "\n"
      ],
      "text/plain": [
       "  variable value   \n",
       "1 HLXb9    1.709291\n",
       "2 HLXb9    1.000000\n",
       "3 HLXb9    1.000000\n",
       "4 HLXb9    7.073606\n",
       "5 HLXb9    5.559798\n",
       "6 HLXb9    5.725469"
      ]
     },
     "metadata": {},
     "output_type": "display_data"
    },
    {
     "data": {
      "text/html": [
       "<style>\n",
       ".list-inline {list-style: none; margin:0; padding: 0}\n",
       ".list-inline>li {display: inline-block}\n",
       ".list-inline>li:not(:last-child)::after {content: \"\\00b7\"; padding: 0 .5ex}\n",
       "</style>\n",
       "<ol class=list-inline><li>468</li><li>2</li></ol>\n"
      ],
      "text/latex": [
       "\\begin{enumerate*}\n",
       "\\item 468\n",
       "\\item 2\n",
       "\\end{enumerate*}\n"
      ],
      "text/markdown": [
       "1. 468\n",
       "2. 2\n",
       "\n",
       "\n"
      ],
      "text/plain": [
       "[1] 468   2"
      ]
     },
     "metadata": {},
     "output_type": "display_data"
    },
    {
     "name": "stderr",
     "output_type": "stream",
     "text": [
      "Warning message:\n",
      "\"\u001b[1m\u001b[22mRemoved 3 rows containing non-finite outside the scale range (`stat_boxplot()`).\"\n"
     ]
    },
    {
     "data": {
      "image/png": "[encoded data removed]",
      "text/plain": [
       "plot without title"
      ]
     },
     "metadata": {
      "image/png": {
       "height": 420,
       "width": 420
      }
     },
     "output_type": "display_data"
    }
   ],
   "source": [
    "library(pheatmap)\n",
    "library(ggplot2)\n",
    "#install.packages(\"reshape\")\n",
    "library(reshape)\n",
    "\n",
    "# see what happens\n",
    "x.m <- melt(x)\n",
    "\n",
    "#check the differences\n",
    "head(x)\n",
    "head(x.m)\n",
    "dim(x.m)\n",
    "\n",
    "# now we can make a plot with it\n",
    "# introducing box plot & its values\n",
    "ggplot(x.m, aes(x = variable, y = value)) + geom_boxplot()\n",
    " "
   ]
  },
  {
   "cell_type": "markdown",
   "id": "51694b60-ecad-4443-b169-e48b072b3aea",
   "metadata": {},
   "source": [
    "4. how to make our boxplot for samples?"
   ]
  },
  {
   "cell_type": "code",
   "execution_count": 4,
   "id": "94c270cf-845a-4492-8d53-ae3e48d6c918",
   "metadata": {},
   "outputs": [
    {
     "name": "stderr",
     "output_type": "stream",
     "text": [
      "Warning message in type.convert.default(X[[i]], ...):\n",
      "\"'as.is' should be specified by the caller; using TRUE\"\n",
      "Warning message in type.convert.default(X[[i]], ...):\n",
      "\"'as.is' should be specified by the caller; using TRUE\"\n"
     ]
    },
    {
     "data": {
      "text/html": [
       "<table class=\"dataframe\">\n",
       "<caption>A data.frame: 6 × 3</caption>\n",
       "<thead>\n",
       "\t<tr><th></th><th scope=col>X1</th><th scope=col>X2</th><th scope=col>value</th></tr>\n",
       "\t<tr><th></th><th scope=col>&lt;fct&gt;</th><th scope=col>&lt;fct&gt;</th><th scope=col>&lt;dbl&gt;</th></tr>\n",
       "</thead>\n",
       "<tbody>\n",
       "\t<tr><th scope=row>1</th><td>HLXb9  </td><td>SC.1</td><td>1.709291</td></tr>\n",
       "\t<tr><th scope=row>2</th><td>HHEX   </td><td>SC.1</td><td>1.521051</td></tr>\n",
       "\t<tr><th scope=row>3</th><td>HNF4a  </td><td>SC.1</td><td>1.956057</td></tr>\n",
       "\t<tr><th scope=row>4</th><td>ISL1   </td><td>SC.1</td><td>1.427606</td></tr>\n",
       "\t<tr><th scope=row>5</th><td>NEUROD1</td><td>SC.1</td><td>2.201634</td></tr>\n",
       "\t<tr><th scope=row>6</th><td>NKX6.1 </td><td>SC.1</td><td>1.063503</td></tr>\n",
       "</tbody>\n",
       "</table>\n"
      ],
      "text/latex": [
       "A data.frame: 6 × 3\n",
       "\\begin{tabular}{r|lll}\n",
       "  & X1 & X2 & value\\\\\n",
       "  & <fct> & <fct> & <dbl>\\\\\n",
       "\\hline\n",
       "\t1 & HLXb9   & SC.1 & 1.709291\\\\\n",
       "\t2 & HHEX    & SC.1 & 1.521051\\\\\n",
       "\t3 & HNF4a   & SC.1 & 1.956057\\\\\n",
       "\t4 & ISL1    & SC.1 & 1.427606\\\\\n",
       "\t5 & NEUROD1 & SC.1 & 2.201634\\\\\n",
       "\t6 & NKX6.1  & SC.1 & 1.063503\\\\\n",
       "\\end{tabular}\n"
      ],
      "text/markdown": [
       "\n",
       "A data.frame: 6 × 3\n",
       "\n",
       "| <!--/--> | X1 &lt;fct&gt; | X2 &lt;fct&gt; | value &lt;dbl&gt; |\n",
       "|---|---|---|---|\n",
       "| 1 | HLXb9   | SC.1 | 1.709291 |\n",
       "| 2 | HHEX    | SC.1 | 1.521051 |\n",
       "| 3 | HNF4a   | SC.1 | 1.956057 |\n",
       "| 4 | ISL1    | SC.1 | 1.427606 |\n",
       "| 5 | NEUROD1 | SC.1 | 2.201634 |\n",
       "| 6 | NKX6.1  | SC.1 | 1.063503 |\n",
       "\n"
      ],
      "text/plain": [
       "  X1      X2   value   \n",
       "1 HLXb9   SC.1 1.709291\n",
       "2 HHEX    SC.1 1.521051\n",
       "3 HNF4a   SC.1 1.956057\n",
       "4 ISL1    SC.1 1.427606\n",
       "5 NEUROD1 SC.1 2.201634\n",
       "6 NKX6.1  SC.1 1.063503"
      ]
     },
     "metadata": {},
     "output_type": "display_data"
    },
    {
     "name": "stderr",
     "output_type": "stream",
     "text": [
      "Warning message:\n",
      "\"\u001b[1m\u001b[22mRemoved 3 rows containing non-finite outside the scale range (`stat_boxplot()`).\"\n"
     ]
    },
    {
     "data": {
      "image/png": "[encoded data removed]",
      "text/plain": [
       "plot without title"
      ]
     },
     "metadata": {
      "image/png": {
       "height": 420,
       "width": 420
      }
     },
     "output_type": "display_data"
    },
    {
     "data": {
      "image/png": "[encoded data removed]",
      "text/plain": [
       "plot without title"
      ]
     },
     "metadata": {
      "image/png": {
       "height": 420,
       "width": 420
      }
     },
     "output_type": "display_data"
    }
   ],
   "source": [
    " \n",
    "#for samples\n",
    "\n",
    "\n",
    "x <- na.omit(x)\n",
    "y <- t(x)\n",
    "y.m <- melt(y)\n",
    "\n",
    "#check the outcome. why it is different from the previous state? (3 collums instead of 2)\n",
    "head(y.m)\n",
    "\n",
    "ggplot(y.m, aes(x = X2, y = value)) + geom_boxplot()\n",
    "ggplot(x.m, aes(x=variable, y = value, fill = variable))+geom_boxplot()\n"
   ]
  },
  {
   "cell_type": "markdown",
   "id": "b4b7ab00-66a1-4676-b97d-62eb74134609",
   "metadata": {},
   "source": [
    "5. more into melt function ..."
   ]
  },
  {
   "cell_type": "code",
   "execution_count": 5,
   "id": "5ceefbae-49e0-4dfb-8f6d-06daa09291b8",
   "metadata": {},
   "outputs": [
    {
     "data": {
      "text/html": [
       "<table class=\"dataframe\">\n",
       "<caption>A data.frame: 6 × 2</caption>\n",
       "<thead>\n",
       "\t<tr><th></th><th scope=col>variable</th><th scope=col>value</th></tr>\n",
       "\t<tr><th></th><th scope=col>&lt;fct&gt;</th><th scope=col>&lt;dbl&gt;</th></tr>\n",
       "</thead>\n",
       "<tbody>\n",
       "\t<tr><th scope=row>1</th><td>HLXb9</td><td>1.709291</td></tr>\n",
       "\t<tr><th scope=row>2</th><td>HLXb9</td><td>1.000000</td></tr>\n",
       "\t<tr><th scope=row>3</th><td>HLXb9</td><td>1.000000</td></tr>\n",
       "\t<tr><th scope=row>4</th><td>HLXb9</td><td>7.073606</td></tr>\n",
       "\t<tr><th scope=row>5</th><td>HLXb9</td><td>5.559798</td></tr>\n",
       "\t<tr><th scope=row>6</th><td>HLXb9</td><td>5.725469</td></tr>\n",
       "</tbody>\n",
       "</table>\n"
      ],
      "text/latex": [
       "A data.frame: 6 × 2\n",
       "\\begin{tabular}{r|ll}\n",
       "  & variable & value\\\\\n",
       "  & <fct> & <dbl>\\\\\n",
       "\\hline\n",
       "\t1 & HLXb9 & 1.709291\\\\\n",
       "\t2 & HLXb9 & 1.000000\\\\\n",
       "\t3 & HLXb9 & 1.000000\\\\\n",
       "\t4 & HLXb9 & 7.073606\\\\\n",
       "\t5 & HLXb9 & 5.559798\\\\\n",
       "\t6 & HLXb9 & 5.725469\\\\\n",
       "\\end{tabular}\n"
      ],
      "text/markdown": [
       "\n",
       "A data.frame: 6 × 2\n",
       "\n",
       "| <!--/--> | variable &lt;fct&gt; | value &lt;dbl&gt; |\n",
       "|---|---|---|\n",
       "| 1 | HLXb9 | 1.709291 |\n",
       "| 2 | HLXb9 | 1.000000 |\n",
       "| 3 | HLXb9 | 1.000000 |\n",
       "| 4 | HLXb9 | 7.073606 |\n",
       "| 5 | HLXb9 | 5.559798 |\n",
       "| 6 | HLXb9 | 5.725469 |\n",
       "\n"
      ],
      "text/plain": [
       "  variable value   \n",
       "1 HLXb9    1.709291\n",
       "2 HLXb9    1.000000\n",
       "3 HLXb9    1.000000\n",
       "4 HLXb9    7.073606\n",
       "5 HLXb9    5.559798\n",
       "6 HLXb9    5.725469"
      ]
     },
     "metadata": {},
     "output_type": "display_data"
    },
    {
     "data": {
      "text/html": [
       "<table class=\"dataframe\">\n",
       "<caption>A data.frame: 6 × 3</caption>\n",
       "<thead>\n",
       "\t<tr><th></th><th scope=col>X1</th><th scope=col>X2</th><th scope=col>value</th></tr>\n",
       "\t<tr><th></th><th scope=col>&lt;fct&gt;</th><th scope=col>&lt;fct&gt;</th><th scope=col>&lt;dbl&gt;</th></tr>\n",
       "</thead>\n",
       "<tbody>\n",
       "\t<tr><th scope=row>1</th><td>HLXb9  </td><td>SC.1</td><td>1.709291</td></tr>\n",
       "\t<tr><th scope=row>2</th><td>HHEX   </td><td>SC.1</td><td>1.521051</td></tr>\n",
       "\t<tr><th scope=row>3</th><td>HNF4a  </td><td>SC.1</td><td>1.956057</td></tr>\n",
       "\t<tr><th scope=row>4</th><td>ISL1   </td><td>SC.1</td><td>1.427606</td></tr>\n",
       "\t<tr><th scope=row>5</th><td>NEUROD1</td><td>SC.1</td><td>2.201634</td></tr>\n",
       "\t<tr><th scope=row>6</th><td>NKX6.1 </td><td>SC.1</td><td>1.063503</td></tr>\n",
       "</tbody>\n",
       "</table>\n"
      ],
      "text/latex": [
       "A data.frame: 6 × 3\n",
       "\\begin{tabular}{r|lll}\n",
       "  & X1 & X2 & value\\\\\n",
       "  & <fct> & <fct> & <dbl>\\\\\n",
       "\\hline\n",
       "\t1 & HLXb9   & SC.1 & 1.709291\\\\\n",
       "\t2 & HHEX    & SC.1 & 1.521051\\\\\n",
       "\t3 & HNF4a   & SC.1 & 1.956057\\\\\n",
       "\t4 & ISL1    & SC.1 & 1.427606\\\\\n",
       "\t5 & NEUROD1 & SC.1 & 2.201634\\\\\n",
       "\t6 & NKX6.1  & SC.1 & 1.063503\\\\\n",
       "\\end{tabular}\n"
      ],
      "text/markdown": [
       "\n",
       "A data.frame: 6 × 3\n",
       "\n",
       "| <!--/--> | X1 &lt;fct&gt; | X2 &lt;fct&gt; | value &lt;dbl&gt; |\n",
       "|---|---|---|---|\n",
       "| 1 | HLXb9   | SC.1 | 1.709291 |\n",
       "| 2 | HHEX    | SC.1 | 1.521051 |\n",
       "| 3 | HNF4a   | SC.1 | 1.956057 |\n",
       "| 4 | ISL1    | SC.1 | 1.427606 |\n",
       "| 5 | NEUROD1 | SC.1 | 2.201634 |\n",
       "| 6 | NKX6.1  | SC.1 | 1.063503 |\n",
       "\n"
      ],
      "text/plain": [
       "  X1      X2   value   \n",
       "1 HLXb9   SC.1 1.709291\n",
       "2 HHEX    SC.1 1.521051\n",
       "3 HNF4a   SC.1 1.956057\n",
       "4 ISL1    SC.1 1.427606\n",
       "5 NEUROD1 SC.1 2.201634\n",
       "6 NKX6.1  SC.1 1.063503"
      ]
     },
     "metadata": {},
     "output_type": "display_data"
    },
    {
     "data": {
      "text/html": [
       "'data.frame'"
      ],
      "text/latex": [
       "'data.frame'"
      ],
      "text/markdown": [
       "'data.frame'"
      ],
      "text/plain": [
       "[1] \"data.frame\""
      ]
     },
     "metadata": {},
     "output_type": "display_data"
    },
    {
     "name": "stdout",
     "output_type": "stream",
     "text": [
      "[1] \"-----------------------------------------------------------------------------------------------------------------------------\"\n"
     ]
    },
    {
     "data": {
      "text/html": [
       "<style>\n",
       ".list-inline {list-style: none; margin:0; padding: 0}\n",
       ".list-inline>li {display: inline-block}\n",
       ".list-inline>li:not(:last-child)::after {content: \"\\00b7\"; padding: 0 .5ex}\n",
       "</style>\n",
       "<ol class=list-inline><li>'matrix'</li><li>'array'</li></ol>\n"
      ],
      "text/latex": [
       "\\begin{enumerate*}\n",
       "\\item 'matrix'\n",
       "\\item 'array'\n",
       "\\end{enumerate*}\n"
      ],
      "text/markdown": [
       "1. 'matrix'\n",
       "2. 'array'\n",
       "\n",
       "\n"
      ],
      "text/plain": [
       "[1] \"matrix\" \"array\" "
      ]
     },
     "metadata": {},
     "output_type": "display_data"
    },
    {
     "name": "stderr",
     "output_type": "stream",
     "text": [
      "Warning message in type.convert.default(X[[i]], ...):\n",
      "\"'as.is' should be specified by the caller; using TRUE\"\n",
      "Warning message in type.convert.default(X[[i]], ...):\n",
      "\"'as.is' should be specified by the caller; using TRUE\"\n",
      "Using  as id variables\n",
      "\n"
     ]
    },
    {
     "data": {
      "text/html": [
       "<table class=\"dataframe\">\n",
       "<caption>A data.frame: 6 × 3</caption>\n",
       "<thead>\n",
       "\t<tr><th></th><th scope=col>X1</th><th scope=col>X2</th><th scope=col>value</th></tr>\n",
       "\t<tr><th></th><th scope=col>&lt;fct&gt;</th><th scope=col>&lt;fct&gt;</th><th scope=col>&lt;dbl&gt;</th></tr>\n",
       "</thead>\n",
       "<tbody>\n",
       "\t<tr><th scope=row>1</th><td>SC.1</td><td>HLXb9</td><td>1.709291</td></tr>\n",
       "\t<tr><th scope=row>2</th><td>SC.2</td><td>HLXb9</td><td>1.000000</td></tr>\n",
       "\t<tr><th scope=row>3</th><td>SC.3</td><td>HLXb9</td><td>1.000000</td></tr>\n",
       "\t<tr><th scope=row>4</th><td>DE-1</td><td>HLXb9</td><td>7.073606</td></tr>\n",
       "\t<tr><th scope=row>5</th><td>DE-2</td><td>HLXb9</td><td>5.559798</td></tr>\n",
       "\t<tr><th scope=row>6</th><td>DE-3</td><td>HLXb9</td><td>5.725469</td></tr>\n",
       "</tbody>\n",
       "</table>\n"
      ],
      "text/latex": [
       "A data.frame: 6 × 3\n",
       "\\begin{tabular}{r|lll}\n",
       "  & X1 & X2 & value\\\\\n",
       "  & <fct> & <fct> & <dbl>\\\\\n",
       "\\hline\n",
       "\t1 & SC.1 & HLXb9 & 1.709291\\\\\n",
       "\t2 & SC.2 & HLXb9 & 1.000000\\\\\n",
       "\t3 & SC.3 & HLXb9 & 1.000000\\\\\n",
       "\t4 & DE-1 & HLXb9 & 7.073606\\\\\n",
       "\t5 & DE-2 & HLXb9 & 5.559798\\\\\n",
       "\t6 & DE-3 & HLXb9 & 5.725469\\\\\n",
       "\\end{tabular}\n"
      ],
      "text/markdown": [
       "\n",
       "A data.frame: 6 × 3\n",
       "\n",
       "| <!--/--> | X1 &lt;fct&gt; | X2 &lt;fct&gt; | value &lt;dbl&gt; |\n",
       "|---|---|---|---|\n",
       "| 1 | SC.1 | HLXb9 | 1.709291 |\n",
       "| 2 | SC.2 | HLXb9 | 1.000000 |\n",
       "| 3 | SC.3 | HLXb9 | 1.000000 |\n",
       "| 4 | DE-1 | HLXb9 | 7.073606 |\n",
       "| 5 | DE-2 | HLXb9 | 5.559798 |\n",
       "| 6 | DE-3 | HLXb9 | 5.725469 |\n",
       "\n"
      ],
      "text/plain": [
       "  X1   X2    value   \n",
       "1 SC.1 HLXb9 1.709291\n",
       "2 SC.2 HLXb9 1.000000\n",
       "3 SC.3 HLXb9 1.000000\n",
       "4 DE-1 HLXb9 7.073606\n",
       "5 DE-2 HLXb9 5.559798\n",
       "6 DE-3 HLXb9 5.725469"
      ]
     },
     "metadata": {},
     "output_type": "display_data"
    },
    {
     "data": {
      "text/html": [
       "<table class=\"dataframe\">\n",
       "<caption>A data.frame: 6 × 2</caption>\n",
       "<thead>\n",
       "\t<tr><th></th><th scope=col>variable</th><th scope=col>value</th></tr>\n",
       "\t<tr><th></th><th scope=col>&lt;fct&gt;</th><th scope=col>&lt;dbl&gt;</th></tr>\n",
       "</thead>\n",
       "<tbody>\n",
       "\t<tr><th scope=row>1</th><td>SC.1</td><td>1.709291</td></tr>\n",
       "\t<tr><th scope=row>2</th><td>SC.1</td><td>1.521051</td></tr>\n",
       "\t<tr><th scope=row>3</th><td>SC.1</td><td>1.956057</td></tr>\n",
       "\t<tr><th scope=row>4</th><td>SC.1</td><td>1.427606</td></tr>\n",
       "\t<tr><th scope=row>5</th><td>SC.1</td><td>2.201634</td></tr>\n",
       "\t<tr><th scope=row>6</th><td>SC.1</td><td>1.063503</td></tr>\n",
       "</tbody>\n",
       "</table>\n"
      ],
      "text/latex": [
       "A data.frame: 6 × 2\n",
       "\\begin{tabular}{r|ll}\n",
       "  & variable & value\\\\\n",
       "  & <fct> & <dbl>\\\\\n",
       "\\hline\n",
       "\t1 & SC.1 & 1.709291\\\\\n",
       "\t2 & SC.1 & 1.521051\\\\\n",
       "\t3 & SC.1 & 1.956057\\\\\n",
       "\t4 & SC.1 & 1.427606\\\\\n",
       "\t5 & SC.1 & 2.201634\\\\\n",
       "\t6 & SC.1 & 1.063503\\\\\n",
       "\\end{tabular}\n"
      ],
      "text/markdown": [
       "\n",
       "A data.frame: 6 × 2\n",
       "\n",
       "| <!--/--> | variable &lt;fct&gt; | value &lt;dbl&gt; |\n",
       "|---|---|---|\n",
       "| 1 | SC.1 | 1.709291 |\n",
       "| 2 | SC.1 | 1.521051 |\n",
       "| 3 | SC.1 | 1.956057 |\n",
       "| 4 | SC.1 | 1.427606 |\n",
       "| 5 | SC.1 | 2.201634 |\n",
       "| 6 | SC.1 | 1.063503 |\n",
       "\n"
      ],
      "text/plain": [
       "  variable value   \n",
       "1 SC.1     1.709291\n",
       "2 SC.1     1.521051\n",
       "3 SC.1     1.956057\n",
       "4 SC.1     1.427606\n",
       "5 SC.1     2.201634\n",
       "6 SC.1     1.063503"
      ]
     },
     "metadata": {},
     "output_type": "display_data"
    }
   ],
   "source": [
    "#check the differences\n",
    "head(x.m)\n",
    "head(y.m)\n",
    "\n",
    "class(x)\n",
    "print(\"-----------------------------------------------------------------------------------------------------------------------------\")\n",
    "class(y)\n",
    "\n",
    "# answering previos question : melt has different outcome between dataframe anf matrix\n",
    "# transposing a variable with t function give a matrix as the outcome\n",
    "x.m <- melt(as.matrix(x))\n",
    "y.m <- melt(data.frame(y))\n",
    "head(x.m)\n",
    "head(y.m)"
   ]
  },
  {
   "cell_type": "markdown",
   "id": "813bfb00-d181-407e-bdcb-a89f22a140ed",
   "metadata": {},
   "source": [
    "6. better boxplots & introducing a new plot: violin plot"
   ]
  },
  {
   "cell_type": "code",
   "execution_count": 6,
   "id": "e12ccdfa-ddb5-41a6-b681-1315e41acafc",
   "metadata": {},
   "outputs": [
    {
     "name": "stderr",
     "output_type": "stream",
     "text": [
      "Using  as id variables\n",
      "\n"
     ]
    },
    {
     "data": {
      "text/html": [
       "<table class=\"dataframe\">\n",
       "<caption>A data.frame: 6 × 2</caption>\n",
       "<thead>\n",
       "\t<tr><th></th><th scope=col>variable</th><th scope=col>value</th></tr>\n",
       "\t<tr><th></th><th scope=col>&lt;fct&gt;</th><th scope=col>&lt;dbl&gt;</th></tr>\n",
       "</thead>\n",
       "<tbody>\n",
       "\t<tr><th scope=row>1</th><td>HLXb9</td><td>1.709291</td></tr>\n",
       "\t<tr><th scope=row>2</th><td>HLXb9</td><td>1.000000</td></tr>\n",
       "\t<tr><th scope=row>3</th><td>HLXb9</td><td>1.000000</td></tr>\n",
       "\t<tr><th scope=row>4</th><td>HLXb9</td><td>7.073606</td></tr>\n",
       "\t<tr><th scope=row>5</th><td>HLXb9</td><td>5.559798</td></tr>\n",
       "\t<tr><th scope=row>6</th><td>HLXb9</td><td>5.725469</td></tr>\n",
       "</tbody>\n",
       "</table>\n"
      ],
      "text/latex": [
       "A data.frame: 6 × 2\n",
       "\\begin{tabular}{r|ll}\n",
       "  & variable & value\\\\\n",
       "  & <fct> & <dbl>\\\\\n",
       "\\hline\n",
       "\t1 & HLXb9 & 1.709291\\\\\n",
       "\t2 & HLXb9 & 1.000000\\\\\n",
       "\t3 & HLXb9 & 1.000000\\\\\n",
       "\t4 & HLXb9 & 7.073606\\\\\n",
       "\t5 & HLXb9 & 5.559798\\\\\n",
       "\t6 & HLXb9 & 5.725469\\\\\n",
       "\\end{tabular}\n"
      ],
      "text/markdown": [
       "\n",
       "A data.frame: 6 × 2\n",
       "\n",
       "| <!--/--> | variable &lt;fct&gt; | value &lt;dbl&gt; |\n",
       "|---|---|---|\n",
       "| 1 | HLXb9 | 1.709291 |\n",
       "| 2 | HLXb9 | 1.000000 |\n",
       "| 3 | HLXb9 | 1.000000 |\n",
       "| 4 | HLXb9 | 7.073606 |\n",
       "| 5 | HLXb9 | 5.559798 |\n",
       "| 6 | HLXb9 | 5.725469 |\n",
       "\n"
      ],
      "text/plain": [
       "  variable value   \n",
       "1 HLXb9    1.709291\n",
       "2 HLXb9    1.000000\n",
       "3 HLXb9    1.000000\n",
       "4 HLXb9    7.073606\n",
       "5 HLXb9    5.559798\n",
       "6 HLXb9    5.725469"
      ]
     },
     "metadata": {},
     "output_type": "display_data"
    },
    {
     "data": {
      "image/png": "[encoded data removed]",
      "text/plain": [
       "plot without title"
      ]
     },
     "metadata": {
      "image/png": {
       "height": 420,
       "width": 420
      }
     },
     "output_type": "display_data"
    },
    {
     "data": {
      "image/png": "[encoded data removed]",
      "text/plain": [
       "plot without title"
      ]
     },
     "metadata": {
      "image/png": {
       "height": 420,
       "width": 420
      }
     },
     "output_type": "display_data"
    },
    {
     "data": {
      "image/png": "[encoded data removed]",
      "text/plain": [
       "plot without title"
      ]
     },
     "metadata": {
      "image/png": {
       "height": 420,
       "width": 420
      }
     },
     "output_type": "display_data"
    }
   ],
   "source": [
    "x.m <- melt(x)\n",
    "head(x.m)\n",
    "ggplot(x.m, aes(x=variable, y = value, fill = variable))+geom_boxplot()\n",
    "ggplot(x.m, aes(x=variable, y = value, fill = variable))+geom_boxplot(outlier.size =0 )\n",
    "\n",
    "ggplot(x.m, aes(x=variable, y = value, fill = variable))+geom_violin()\n",
    "\n",
    "# note: there is no difference between ( <- ) & ( = )\n",
    "#but it is suggested to use <- for assigning variables & = for method valuse or ..."
   ]
  },
  {
   "cell_type": "markdown",
   "id": "a9cd441c-eba1-4fa6-bf30-fa22dfde93ab",
   "metadata": {},
   "source": [
    "7. save them in a pdf ..."
   ]
  },
  {
   "cell_type": "code",
   "execution_count": 7,
   "id": "f0f8e31e-7379-4ad6-b4e1-972e789371d3",
   "metadata": {},
   "outputs": [
    {
     "data": {
      "text/html": [
       "<strong>png:</strong> 2"
      ],
      "text/latex": [
       "\\textbf{png:} 2"
      ],
      "text/markdown": [
       "**png:** 2"
      ],
      "text/plain": [
       "png \n",
       "  2 "
      ]
     },
     "metadata": {},
     "output_type": "display_data"
    }
   ],
   "source": [
    "pdf(\"C:/users/abolf/Desktop/jupyter train/intro bioinf sharifi practical/session 6.pdf\")\n",
    "ggplot(x.m, aes(x=variable, y = value, fill = variable))+geom_boxplot()\n",
    "ggplot(x.m, aes(x=variable, y = value, fill = variable))+geom_boxplot(outlier.size =0 )\n",
    "\n",
    "ggplot(x.m, aes(x=variable, y = value, fill = variable))+geom_violin()\n",
    "dev.off()\n"
   ]
  },
  {
   "cell_type": "code",
   "execution_count": null,
   "id": "eda939a3-68bb-443c-b933-73633885981e",
   "metadata": {},
   "outputs": [],
   "source": []
  }
 ],
 "metadata": {
  "kernelspec": {
   "display_name": "R",
   "language": "R",
   "name": "ir"
  },
  "language_info": {
   "codemirror_mode": "r",
   "file_extension": ".r",
   "mimetype": "text/x-r-source",
   "name": "R",
   "pygments_lexer": "r",
   "version": "4.3.1"
  }
 },
 "nbformat": 4,
 "nbformat_minor": 5
}
